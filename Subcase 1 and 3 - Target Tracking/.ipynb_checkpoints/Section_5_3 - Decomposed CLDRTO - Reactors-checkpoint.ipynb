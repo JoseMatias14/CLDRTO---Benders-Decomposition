{
 "cells": [
  {
   "cell_type": "markdown",
   "id": "39bb43e3",
   "metadata": {},
   "source": [
    "- **This code computes the decomposed solution of a Closed-Loop DRTO problem.**\n",
    "- Using tracking objective function\n",
    "- The underlying control structure (modeled in the CLDRTO model) is an MPC, which can is solved using three different strategies: 1. unconstrained, 2. constrained using binaries, and 3. constrained using MPCC N.B.:strategy 2 not working\n",
    "- The problem is posed as a scenario-based stochastic programming problem\n",
    "- The case study is an affine multiple parallel bioreactor system from:*Gao, Ling. \"Modeling and dynamics analyses of immobilized CSTR bioreactor using transfer function model.\" 2012 International Symposium on Information Technologies in Medicine and Education. Vol. 2. IEEE, 2012.*\n",
    "- The uncertainty represented by the scenarios comes from the maximum specific growth rate (V_m) --> see matlab file\n",
    "- Studying the impact of loading the subproblems (increasing the number of reactors)\n",
    "\n",
    "AUTHOR: Jose Matias <assumpcj@mcmaster.ca>\n",
    "DATE: May 2023"
   ]
  },
  {
   "cell_type": "code",
   "execution_count": null,
   "id": "67ea638f",
   "metadata": {},
   "outputs": [],
   "source": [
    "using LinearAlgebra, JuMP, CPLEX, Ipopt, Plots, CSV, DataFrames, Distributions, LaTeXStrings"
   ]
  },
  {
   "cell_type": "markdown",
   "id": "b2933767",
   "metadata": {},
   "source": [
    "# Bioreactor Model\n",
    "\n",
    "$\\dfrac{d C}{d t} = D (C_{in} - C) - \\dfrac{V_m C}{(K_s + C)} $ <br>\n",
    "$ \\dfrac{d P}{d t} = \\dfrac{V_m C}{(K_s + C)} - DP $ <br>\n",
    "\n",
    "where, <br>\n",
    "$t$: time in hours \\[h\\] <br>\n",
    "$C$: concentration of reactant (substrate) \\[g/L\\] <br>\n",
    "$P$: concentration of product (biomass) \\[g/L\\] <br>\n",
    "$C_{in}$: inlet concentration of substrate \\[g/L\\] <br>\n",
    "$D$: ratio of flowrate to reactor volume \\[1/h\\] <br>\n",
    "$V_m$: maximum reaction rate \\[g/(h L)\\] <br> \n",
    "$K_s$: reaction constant \\[g/L\\] <br>\n",
    "\n",
    "- System measurement ($y$) - product concentration $P$ <br>\n",
    "- System inputs ($u$) - inlet reactant concentration $C_{in}$ <br>\n",
    "- Uncertain parameters ($\\theta$) - maximum reaction rate $V_m$"
   ]
  },
  {
   "cell_type": "code",
   "execution_count": null,
   "id": "cb37bc36",
   "metadata": {},
   "outputs": [],
   "source": [
    "# Sampling time\n",
    "T = 1 #[h]\n",
    "\n",
    "# Number of manipulated inputs\n",
    "nu = 1\n",
    "# Number of controlled outputs\n",
    "ny = 1\n",
    "\n",
    "# setting bounds (all arbitrary - not in deviation form!!) \n",
    "uMax = 2.4 # for tight constraints: 1.9 | for loose constraints: 5.0\n",
    "uMin = 0.0;\n",
    "\n",
    "yspMax = 1.2 \n",
    "yspMin = 0.0;"
   ]
  },
  {
   "cell_type": "markdown",
   "id": "06d023cd",
   "metadata": {},
   "source": [
    "# Building affine CL-DRTO models\n",
    "\n",
    "## Model linearization\n",
    "- linearization is done using Matlab's functions ss and c2d (see BioReactorLinearization.m)\n",
    "- sample time $\\Delta t$ is consider as 1h\n",
    "- linearization around point: $V_m = 0.5$ \\[g/(h L)\\], $K_s = 0.2$ \\[g/L\\], $D = 0.5$ \\[1/h\\], $C_{in,0} = 1$ \\[g/L\\], $C_{0} = 0.358$ \\[g/L\\], and $P_{0} = 0.642$ \\[g/L\\]\n",
    "\n",
    "which leads to: <br>\n",
    "$\\bar{x}_{k+1} = A \\bar{x}_k + B \\bar{u}_k$ <br>\n",
    "$\\bar{y}_k = C \\bar{u}_k$\n",
    "\n",
    "where, <br>\n",
    "$\\bar{x} = \\begin{bmatrix}\n",
    "\\bar{C}\\\\\n",
    "\\bar{P}\n",
    "\\end{bmatrix} =\n",
    "\\begin{bmatrix}\n",
    "C - C_0\\\\\n",
    "P - P_0\n",
    "\\end{bmatrix}$<br>\n",
    "$\\bar{u} = \\bar{C}_{in} = C_{in} - C_{in,0}$<br>\n",
    "$\\bar{y} = \\bar{P} = P - P_0$"
   ]
  },
  {
   "cell_type": "code",
   "execution_count": null,
   "id": "06719deb",
   "metadata": {},
   "outputs": [],
   "source": [
    "# Linearization point\n",
    "u0 = 1.5\n",
    "x0 = [0.7179;0.7821]\n",
    "y0 = 0.7821\n",
    "\n",
    "# 100 pre-computed models based on parametric uncertainty Vm (computed using matlab: BioReactorLinearization.m)\n",
    "bioModels = CSV.read(\"C:\\\\Users\\\\MACC-Jose\\\\Documents\\\\GitHub\\\\BD\\\\Preliminary calculations\\\\BioreactorModel\", DataFrame; header=false);"
   ]
  },
  {
   "cell_type": "markdown",
   "id": "8c5197b2",
   "metadata": {},
   "source": [
    "CL-DRTO configuration"
   ]
  },
  {
   "cell_type": "code",
   "execution_count": null,
   "id": "ad40ad5c",
   "metadata": {},
   "outputs": [],
   "source": [
    "# DRTO sampling time\n",
    "nDRTO = 4 # [h]\n",
    "# Prediction horizon\n",
    "pD = 20 + (8 - 1)# p = 8 *controller horizon  \n",
    "# Input control horizon \n",
    "mD = 20\n",
    "# Objective function: target tracking (deviation form)\n",
    "pTrack = 1 - y0 # [g/L]\n",
    "# Soft upper bounds on P weight (deviation form)\n",
    "pUB = 1.05 - y0 # [g/L]\n",
    "# objective function weight for P penalization term \n",
    "wP = 100;"
   ]
  },
  {
   "cell_type": "markdown",
   "id": "27186ab9",
   "metadata": {},
   "source": [
    "DRTO model changes with the number of scenarios and parallel reactors"
   ]
  },
  {
   "cell_type": "code",
   "execution_count": null,
   "id": "57ec4745",
   "metadata": {},
   "outputs": [],
   "source": [
    "function DRTO_matrices(nReactors,nScenarios)\n",
    "    # ATTENTION: Used for the monolithic solution. It generates an array of models\n",
    "    # Several different models were already computed offline and saved in the \"bioModel\" array\n",
    "    # This function extracts the models based on a fixed index grid that is generated based on the number of scenarios\n",
    "    \n",
    "    ###########\n",
    "    # inputs: #\n",
    "    ###########\n",
    "    # nReactors - number of reactors in parallel\n",
    "    # nScenarios - number of scenarios used in the stochastic optimization\n",
    "    \n",
    "    # picking up indexes equally spaced between 1 and 100 (including initial and end point) \n",
    "    # based on the desired number of scenarios\n",
    "    if nScenarios == 1\n",
    "        indexScen = 50 # nominal model --> index = 50\n",
    "    else\n",
    "        indexScen = [floor(Int, 1 + (ii - 1)*(100-1)/(nScenarios-1)) for ii in 1:nScenarios]\n",
    "    end\n",
    "    \n",
    "    # building DRTO model\n",
    "    A_drto = Array{Float64}(undef,nx,nx,nScenarios) \n",
    "    B_drto = Array{Float64}(undef,nx,nu,nScenarios) \n",
    "\n",
    "    for kk in 1:nScenarios\n",
    "\n",
    "        index_temp = indexScen[kk]\n",
    "\n",
    "        A_drto[:,:,kk] = kron(I(nReactors),Matrix(bioModels[2*(index_temp - 1) + 1:2*(index_temp - 1) + 2,1:2]))\n",
    "        B_drto[:,:,kk] = repeat(bioModels[2*(index_temp - 1) + 1:2*(index_temp - 1) + 2,3], outer = [nReactors, 1, 1])\n",
    "\n",
    "    end\n",
    "\n",
    "    # mapping states to measurements is the same for all models\n",
    "    C_drto = repeat([0 1/nReactors], outer = [1, nReactors])\n",
    "    \n",
    "    return Dict('A' => A_drto, 'B' => B_drto, 'C' => C_drto)\n",
    "end;"
   ]
  },
  {
   "cell_type": "code",
   "execution_count": null,
   "id": "0968ca7b",
   "metadata": {},
   "outputs": [],
   "source": [
    "function DRTO_matrix(nReactors,nScenario,nScenTotal)\n",
    "    # ATTENTION: Used for the decomposed solution. If generates a single model\n",
    "    # This function extracts the model of interest based on the index \"nScenario\"\n",
    "  \n",
    "    ###########\n",
    "    # inputs: #\n",
    "    ###########\n",
    "    # nReactors - number of reactors in parallel\n",
    "    # nScenario - index the of scenario used in the stochastic optimization\n",
    "    # nScenTotal - total number of scenario used in the stochastic optimization\n",
    "    \n",
    "    if nScenTotal == 1\n",
    "        index_temp = 50 # nominal model --> index = 50\n",
    "    else\n",
    "        indexScen = [floor(Int, 1 + (ii - 1)*(100-1)/(nScenTotal-1)) for ii in 1:nScenTotal]\n",
    "        index_temp = indexScen[nScenario]\n",
    "    end\n",
    "  \n",
    "    # building DRTO model\n",
    "    A_drto = kron(I(nReactors),Matrix(bioModels[2*(index_temp - 1) + 1:2*(index_temp - 1) + 2,1:2]))\n",
    "    B_drto = repeat(bioModels[2*(index_temp - 1) + 1:2*(index_temp - 1) + 2,3], outer = [nReactors, 1, 1])\n",
    "\n",
    "    # mapping states to measurements is the same for all models\n",
    "    C_drto = repeat([0 1/nReactors], outer = [1, nReactors]);\n",
    "    \n",
    "    return Dict('A' => A_drto, 'B' => B_drto, 'C' => C_drto)\n",
    "end;"
   ]
  },
  {
   "cell_type": "markdown",
   "id": "66f4ef3c",
   "metadata": {},
   "source": [
    "# Building MPC model\n",
    "\n",
    "Controller configuration"
   ]
  },
  {
   "cell_type": "code",
   "execution_count": null,
   "id": "54509748",
   "metadata": {},
   "outputs": [],
   "source": [
    "# MPC sampling time\n",
    "nMPC = 1 # [h]\n",
    "\n",
    "# Controller configuration\n",
    "# Output prediction horizon\n",
    "p = 8\n",
    "# Input control horizon \n",
    "m = 2\n",
    "# Output weights\n",
    "q = 1\n",
    "# Input weights \n",
    "r = 1;"
   ]
  },
  {
   "cell_type": "markdown",
   "id": "dbffeddf",
   "metadata": {},
   "source": [
    "Notes:\n",
    "- Using nominal model(indexScen = 50)\n",
    "- For the description of how the MPC matrices (with disturbance model) are built, check script: check *Different Strategies to solve constrained MPC within CLDRTO* --> Preliminary calculation"
   ]
  },
  {
   "cell_type": "code",
   "execution_count": null,
   "id": "1f3177a8",
   "metadata": {},
   "outputs": [],
   "source": [
    "function MPC_matrices(nReactors)\n",
    "    ###########\n",
    "    # inputs: #\n",
    "    ###########\n",
    "    # nReactors - number of reactors in parallel\n",
    "    \n",
    "    # extracting the matrices from the model array computed previously\n",
    "    nNom = 50 # nominal model --> index = 50\n",
    "    \n",
    "    A = kron(I(nReactors),Matrix(bioModels[2*(nNom - 1) + 1:2*(nNom - 1) + 2,1:2])) \n",
    "    B = repeat(bioModels[2*(nNom - 1) + 1:2*(nNom - 1) + 2,3], outer = [nReactors, 1])\n",
    "    C = repeat([0 1/nReactors], outer = [1, nReactors])\n",
    "    \n",
    "    # adding disturbance model\n",
    "    Ad = [A zeros(nx,ny); zeros(ny,nx) I(ny)]\n",
    "    Bd = [B; zeros(ny,nu)]\n",
    "    Cd = [C ones(ny,ny)]\n",
    "    \n",
    "    # building matrices for MPC\n",
    "    Psi = Cd*Ad\n",
    "    for ii in 2:p\n",
    "        Psi = [Psi;  Cd*Ad^ii]\n",
    "    end\n",
    "\n",
    "    # Computing Dynamic Matrix\n",
    "    a = Cd*Bd\n",
    "    for ii in 2:p\n",
    "        a = [a; Cd*Ad^(ii - 1)*Bd]\n",
    "    end\n",
    "    DynM = a\n",
    "\n",
    "    for ii in 1:(m - 2)\n",
    "        a = [zeros(ny,nu);a[1:(p-1)*ny,:]]\n",
    "        DynM = [DynM  a]\n",
    "    end\n",
    "\n",
    "    # adjusting dynamic matrix for since p > m (last column)\n",
    "    b = Cd*Bd\n",
    "\n",
    "    Ai = I(nx+1) # adding disturbance to the states\n",
    "    for ii = 1:(p - m)\n",
    "        Ai = Ai + Ad^ii\n",
    "        b = [b;Cd*Ai*Bd]\n",
    "    end\n",
    "\n",
    "    Theta=[DynM [zeros(ny*(m-1),nu);b]]\n",
    "    \n",
    "    # Creating Qbar and Rbar matrices\n",
    "    Qbar = Diagonal([q for ii in 1:p])\n",
    "    Rbar = Diagonal([r for ii in 1:m])\n",
    "\n",
    "    # Creating input movement OF penalty matrix \n",
    "    M=[zeros((m-1)*nu,nu) I(nu*(m-1)); zeros(nu) zeros(nu,nu*(m-1))]\n",
    "    Ibar=[I(nu); zeros(nu*(m-1),nu)]\n",
    "    IM = I(nu*m) - M';\n",
    "    \n",
    "    # Matrix H\n",
    "    H = Theta'*Qbar*Theta + IM'*Rbar*IM;\n",
    "    \n",
    "    return Dict('A' => A, 'B' => B, 'C' => C, 'H' => H, 'Θ' => Theta, 'Ψ' => Psi, 'Q' => Qbar, 'I' => Ibar, 'R' => Rbar, 'M' => IM)\n",
    "end;"
   ]
  },
  {
   "cell_type": "markdown",
   "id": "ab17a7c4",
   "metadata": {},
   "source": [
    "# Solving CL-DRTO Multiscenario Problem (monolithic)\n",
    " - Check details in script *Testing Monolithic CLDRTO* --> Preliminary calculations/Linear Bioreactor\n",
    " - For the description of the different solution strategies, check *Different Strategies to solve constrained MPC within CLDRTO* --> Preliminary calculation"
   ]
  },
  {
   "cell_type": "code",
   "execution_count": null,
   "id": "74dd560e",
   "metadata": {},
   "outputs": [],
   "source": [
    "# Parameters for MPC solution\n",
    "# matrix to compute the gradients of the input bound constraints\n",
    "conMatrix = [I(m); -I(m)]; \n",
    "\n",
    "# big-M implementation\n",
    "bigM_mu = 10000\n",
    "bigM_u = 10000\n",
    "\n",
    "# weight complementarity relaxation OF term\n",
    "pi_bar = 10^2;"
   ]
  },
  {
   "cell_type": "code",
   "execution_count": null,
   "id": "e5486fc7",
   "metadata": {},
   "outputs": [],
   "source": [
    "function MS_CLDRTO(xInit,uInit,nReac,nScen,pScen,solNom,option)\n",
    "    ###########\n",
    "    # inputs: #\n",
    "    ###########\n",
    "    # xInit - states at the current iteration (beginning of DRTO horizon)\n",
    "    # uInit - inputs at the current iteration, already implemented on the plant\n",
    "    # nReac - number of parallel reactors\n",
    "    # nScen - number of scenarios used in the problem (only one branching)\n",
    "    # pScen - probability of the scenarios\n",
    "    # solNom - nominal solution\n",
    "    # option - strategy for solving MPC\n",
    "\n",
    "    # Creating MPC matrices\n",
    "    mpc = MPC_matrices(nReac)\n",
    "    \n",
    "    # Creating DRTO matrices\n",
    "    drto = DRTO_matrices(nReac,nScen)\n",
    "\n",
    "    # Define model\n",
    "    if option == 3 || option == 1\n",
    "        model_ms = Model(Ipopt.Optimizer)\n",
    "        set_optimizer_attribute(model_ms, \"max_cpu_time\", 300.0) # 5 min\n",
    "    else \n",
    "        model_ms = Model(CPLEX.Optimizer)\n",
    "        set_optimizer_attribute(model_ms, \"CPX_PARAM_TILIM\", 300.0) # 5 min\n",
    "    end\n",
    "    set_silent(model_ms)\n",
    "    \n",
    "    ####################\n",
    "    # Set up variables #\n",
    "    ####################\n",
    "    # DRTO model variables\n",
    "    @variable(model_ms, xDRTO[1:pD,1:nx,1:nScen])\n",
    "    @variable(model_ms, yDRTO[1:pD,1:nScen])\n",
    "    \n",
    "    # MPC model variables\n",
    "    @variable(model_ms, xMPC[1:pD,1:nx,1:nScen])\n",
    "    @variable(model_ms, yMPC[1:pD,1:nScen])\n",
    "    \n",
    "    # MPC <-> DRTO model deviation\n",
    "    @variable(model_ms, de[1:pD,1:nScen])\n",
    "    \n",
    "    # inputs computed by MPCs\n",
    "    @variable(model_ms, u[1:pD,1:m,1:nScen])\n",
    "     if option == 1\n",
    "        @variable(model_ms, u_w_c[1:pD,1:m,1:nScen]) # inputs w/o clipping\n",
    "    \n",
    "        # input clipping \n",
    "        @variable(model_ms, mu_lb[1:pD,1:m,1:nScen] ≥ 0)\n",
    "        @variable(model_ms, eta_lb[1:pD,1:m,1:nScen] ≥ 0)\n",
    "        @variable(model_ms, mu_ub[1:pD,1:m,1:nScen] ≥ 0)\n",
    "        @variable(model_ms, eta_ub[1:pD,1:m,1:nScen] ≥ 0)       \n",
    "    end\n",
    "    \n",
    "    # setpoints for the controllers sent to the plant (CL-DRTO degrees of freedom)\n",
    "    @variable(model_ms, (yspMin - y0) ≤ ysp[1:pD,1:nScen] ≤ (yspMax - y0))\n",
    "    \n",
    "    # slacks for P soft constraint\n",
    "    @variable(model_ms, delta_p[1:pD,1:nScen] ≥ 0)\n",
    "    \n",
    "    if option == 2 || option == 3\n",
    "        @variable(model_ms, mu_g[1:mD,1:(2*m),1:nScen] ≥ 0) # upper and lower bounds for each input\n",
    "    end\n",
    "    if option == 2\n",
    "        @variable(model_ms, Y_lb[1:mD,1:m,1:nScen], Bin, start = 0) # Binaries for big-M implementation\n",
    "        @variable(model_ms, Y_ub[1:mD,1:m,1:nScen], Bin, start = 0) \n",
    "    end\n",
    "    \n",
    "    ########################\n",
    "    # Set up initial guess #\n",
    "    ########################\n",
    "    if solNom isa Dict\n",
    "        for ss in 1:nScen\n",
    "            for ii in 1:pD\n",
    "                set_start_value(yDRTO[ii,ss], solNom['y'][ii,1]) \n",
    "                set_start_value(yMPC[ii,ss], solNom['c'][ii,1])\n",
    "                set_start_value(ysp[ii,ss], solNom['s'][ii,1])\n",
    "\n",
    "                for rr in 1:nReac # when nReac increases, the number of states change!\n",
    "                    for xx in 1:2 # N.B. nx/reactor is hardcoded here... (maybe use nx/reactor as a function input) \n",
    "                        set_start_value(xDRTO[ii,xx + (rr - 1)*2,ss], solNom['x'][ii,xx,1])    \n",
    "                        set_start_value(xMPC[ii,xx + (rr - 1)*2,ss], solNom['m'][ii,xx,1])           \n",
    "                    end # end xx\n",
    "                end # number \n",
    "                \n",
    "                for uu in 1:m\n",
    "                    set_start_value(u[ii,uu,ss], solNom['u'][ii,uu,1])\n",
    "                end # end of uu\n",
    "            end # eend of ii\n",
    "        end # end of ss\n",
    "    end # end of if\n",
    "    \n",
    "    ######################################\n",
    "    # Set up constraints and expressions #\n",
    "    ######################################\n",
    "    # Model Dynamic for Dynamic RTO\n",
    "    @constraint(model_ms, CLDRTO_dyn_model_1[ss=1:nScen], xDRTO[1,:,ss] .== drto['A'][:,:,ss]*xInit + drto['B'][:,:,ss]*uInit)\n",
    "    @constraint(model_ms, CLDRTO_dyn_model[kk=1:(pD - 1),ss=1:nScen], xDRTO[kk + 1,:,ss] .== drto['A'][:,:,ss]*xDRTO[kk,:,ss] + drto['B'][:,:,ss]*u[kk,1,ss])\n",
    "    @constraint(model_ms, CLDRTO_model_out[kk=1:pD,ss=1:nScen], yDRTO[kk,ss] == dot(drto['C'],xDRTO[kk,:,ss]))\n",
    "    \n",
    "    # fixing setpoint changes after mD\n",
    "    @constraint(model_ms, control_horizon[kk=(mD+1):pD,ss=1:nScen], u[kk,1,ss] .== u[mD,1,ss])\n",
    "    \n",
    "    # P soft constraints\n",
    "    @constraint(model_ms, soft_P[kk=1:pD,ss=1:nScen], yDRTO[kk,ss] - delta_p[kk,ss] ≤ pUB)\n",
    "    \n",
    "    # nonanticipativity constraints\n",
    "    @constraint(model_ms, nonAnt[kk=1:nDRTO,ss=2:nScen], ysp[kk,1] - ysp[kk,ss] == 0.0);\n",
    "    \n",
    "    ################\n",
    "    # MPC solution #\n",
    "    ################    \n",
    "    if option == 1\n",
    "        # Model Dynamic for Controller\n",
    "        @constraint(model_ms, MPC_dyn_model_1[ss=1:nScen], xMPC[1,:,ss] .== mpc['A']*xInit + mpc['B']*uInit)\n",
    "        @constraint(model_ms, MPC_dyn_model[kk=1:(pD - 1),ss=1:nScen], xMPC[kk + 1,:,ss] .== mpc['A']*xMPC[kk,:,ss] + mpc['B']*u_w_c[kk,1,ss])\n",
    "        @constraint(model_ms, MPC_model_out[kk=1:pD,ss=1:nScen], yMPC[kk,ss] == dot(mpc['C'],xMPC[kk,:,ss]))\n",
    "\n",
    "        #  Model deviation\n",
    "        @constraint(model_ms, MPC_model_dev[kk=1:pD,ss=1:nScen], de[kk,ss] == yDRTO[kk,ss] - yMPC[kk,ss])\n",
    "        \n",
    "        @expression(model_ms, cfT_1[ss=1:nScen], (mpc['Ψ']*[xMPC[1,:,ss];de[1,ss]] - ysp[1:p,ss])'*mpc['Q']*mpc['Θ'] - uInit'*mpc['I']'*mpc['R']*mpc['M'])\n",
    "        @expression(model_ms, cfT[kk=2:mD,ss=1:nScen], (mpc['Ψ']*[xMPC[kk,:,ss];de[kk,ss]] - ysp[kk:(kk + p - 1),ss])'*mpc['Q']*mpc['Θ'] - u_w_c[kk-1,1,ss]'*mpc['I']'*mpc['R']*mpc['M'])\n",
    "        \n",
    "        # Unconstrained MPC solution  \n",
    "        @constraint(model_ms, MPC_sol_1[ss=1:nScen], mpc['H']*u_w_c[1,:,ss] + cfT_1[ss]' .== 0)\n",
    "        @constraint(model_ms, MPC_sol[kk=2:mD,ss=1:nScen], mpc['H']*u_w_c[kk,:,ss] + cfT[kk,ss]' .== 0)\n",
    "        \n",
    "        # input clipping\n",
    "        @constraint(model_ms, ic_1[kk = 1:mD,uu = 1:m,ss = 1:nScen], u[kk,uu,ss] == u_w_c[kk,uu,ss] - mu_ub[kk,uu,ss] + mu_lb[kk,uu,ss])\n",
    "        @constraint(model_ms, ic_2[kk = 1:mD,uu = 1:m,ss = 1:nScen], (uMax - u0) - u[kk,uu,ss] == eta_ub[kk,uu,ss])\n",
    "        @constraint(model_ms, ic_3[kk = 1:mD,uu = 1:m,ss = 1:nScen], eta_ub[kk,uu,ss]*mu_ub[kk,uu,ss] ≤ 1e-6)\n",
    "        @constraint(model_ms, ic_4[kk = 1:mD,uu = 1:m,ss = 1:nScen], u[kk,uu,ss] - (uMin - u0) == eta_lb[kk,uu,ss])\n",
    "        @constraint(model_ms, ic_5[kk = 1:mD,uu = 1:m,ss = 1:nScen], eta_lb[kk,uu,ss]*mu_lb[kk,uu,ss] ≤ 1e-6)\n",
    "        \n",
    "    elseif option == 2\n",
    "        # Model Dynamic for Controller\n",
    "        @constraint(model_ms, MPC_dyn_model_1[ss=1:nScen], xMPC[1,:,ss] .== mpc['A']*xInit + mpc['B']*uInit)\n",
    "        @constraint(model_ms, MPC_dyn_model[kk=1:(pD - 1),ss=1:nScen], xMPC[kk + 1,:,ss] .== mpc['A']*xMPC[kk,:,ss] + mpc['B']*u[kk,1,ss])\n",
    "        @constraint(model_ms, MPC_model_out[kk=1:pD,ss=1:nScen], yMPC[kk,ss] == dot(mpc['C'],xMPC[kk,:,ss]))\n",
    "\n",
    "        #  Model deviation\n",
    "        @constraint(model_ms, MPC_model_dev[kk=1:pD,ss=1:nScen], de[kk,ss] == yDRTO[kk,ss] - yMPC[kk,ss])\n",
    "\n",
    "        # sequence of Setpoints\n",
    "        @expression(model_ms, cfT_1[ss=1:nScen], (mpc['Ψ']*[xMPC[1,:,ss];de[1,ss]] - ysp[1:p,ss])'*mpc['Q']*mpc['Θ'] - uInit'*mpc['I']'*mpc['R']*mpc['M'])\n",
    "        @expression(model_ms, cfT[kk=2:mD,ss=1:nScen], (mpc['Ψ']*[xMPC[kk,:,ss];de[kk,ss]] - ysp[kk:(kk + p - 1),ss])'*mpc['Q']*mpc['Θ'] - u[kk-1,1,ss]'*mpc['I']'*mpc['R']*mpc['M'])\n",
    "\n",
    "        # Constrained with binaries\n",
    "        # 1. stationarity\n",
    "        @constraint(model_ms, MPC_sol_1[ss=1:nScen], u[1,:,ss]'*mpc['H'] + cfT_1[ss] +  mu_g[1,:,ss]'*conMatrix .== 0)\n",
    "        @constraint(model_ms, MPC_sol[kk=2:mD,ss=1:nScen], u[kk,:,ss]'*mpc['H'] + cfT[kk,ss] + mu_g[kk,:,ss]'*conMatrix .== 0)\n",
    "\n",
    "        # 2. primal feasibility\n",
    "        @constraint(model_ms, g_u_u[kk=1:mD,uu=1:m,ss=1:nScen], u[kk,uu,ss] - (uMax - u0) ≤ 0)\n",
    "        @constraint(model_ms, g_u_l[kk=1:mD,uu=1:m,ss=1:nScen], (uMin - u0) - u[kk,uu,ss] ≤ 0)\n",
    "    \n",
    "        # 3. complementarity --> using big-M implementation\n",
    "        @constraint(model_ms, bigM_1[kk=1:mD,uu=1:m,ss=1:nScen], mu_g[kk,uu,ss] ≤ bigM_mu*Y_ub[kk,uu,ss])\n",
    "        @constraint(model_ms, bigM_2[kk=1:mD,uu=1:m,ss=1:nScen], mu_g[kk,uu + m,ss] ≤ bigM_mu*Y_lb[kk,uu,ss])\n",
    "        @constraint(model_ms, bigM_3[kk=1:mD,uu=1:m,ss=1:nScen], u[kk,uu,ss] - (uMax - u0) ≥ -bigM_u*(1 - Y_ub[kk,uu,ss]))\n",
    "        @constraint(model_ms, bigM_4[kk=1:mD,uu=1:m,ss=1:nScen], (uMin - u0) - u[kk,uu,ss] ≥ -bigM_u*(1 - Y_lb[kk,uu,ss]))\n",
    "        \n",
    "        @constraint(model_ms, compSlack[kk=1:mD,uu=1:m,ss=1:nScen], Y_ub[kk,uu,ss] + Y_lb[kk,uu,ss] ≤ 1)\n",
    "    \n",
    "    elseif option == 3\n",
    "        # Model Dynamic for Controller\n",
    "        @constraint(model_ms, MPC_dyn_model_1[ss=1:nScen], xMPC[1,:,ss] .== mpc['A']*xInit + mpc['B']*uInit)\n",
    "        @constraint(model_ms, MPC_dyn_model[kk=1:(pD - 1),ss=1:nScen], xMPC[kk + 1,:,ss] .== mpc['A']*xMPC[kk,:,ss] + mpc['B']*u[kk,1,ss])\n",
    "        @constraint(model_ms, MPC_model_out[kk=1:pD,ss=1:nScen], yMPC[kk,ss] == dot(mpc['C'],xMPC[kk,:,ss]))\n",
    "\n",
    "        #  Model deviation\n",
    "        @constraint(model_ms, MPC_model_dev[kk=1:pD,ss=1:nScen], de[kk,ss] == yDRTO[kk,ss] - yMPC[kk,ss])\n",
    "\n",
    "        # sequence of Setpoints\n",
    "        @expression(model_ms, cfT_1[ss=1:nScen], (mpc['Ψ']*[xMPC[1,:,ss];de[1,ss]] - ysp[1:p,ss])'*mpc['Q']*mpc['Θ'] - uInit'*mpc['I']'*mpc['R']*mpc['M'])\n",
    "        @expression(model_ms, cfT[kk=2:mD,ss=1:nScen], (mpc['Ψ']*[xMPC[kk,:,ss];de[kk,ss]] - ysp[kk:(kk + p - 1),ss])'*mpc['Q']*mpc['Θ'] - u[kk-1,1,ss]'*mpc['I']'*mpc['R']*mpc['M'])\n",
    "\n",
    "        # Constrained with MPCC\n",
    "        # 1. stationarity\n",
    "        @constraint(model_ms, MPC_sol_1[ss=1:nScen], u[1,:,ss]'*mpc['H'] + cfT_1[ss] +  mu_g[1,:,ss]'*conMatrix .== 0)\n",
    "        @constraint(model_ms, MPC_sol[kk=2:mD,ss=1:nScen], u[kk,:,ss]'*mpc['H'] + cfT[kk,ss] + mu_g[kk,:,ss]'*conMatrix .== 0)\n",
    "\n",
    "        # 2. primal feasibility\n",
    "        @constraint(model_ms, MPC_c_upper[kk=1:mD,uu=1:m,ss=1:nScen], u[kk,uu,ss] - (uMax - u0) ≤ 0)\n",
    "        @constraint(model_ms, MPC_c_lower[kk=1:mD,uu=1:m,ss=1:nScen], (uMin - u0) - u[kk,uu,ss] ≤ 0)\n",
    "        \n",
    "        # Expressions for OF\n",
    "        @expression(model_ms, g_u_u[kk=1:mD,uu=1:m,ss=1:nScen], u[kk,uu,ss] - (uMax - u0))\n",
    "        @expression(model_ms, g_u_l[kk=1:mD,uu=1:m,ss=1:nScen], (uMin - u0) - u[kk,uu,ss])\n",
    "        \n",
    "    end\n",
    "      \n",
    "    #############################\n",
    "    # Set up objective function #\n",
    "    #############################\n",
    "    if option == 1 || option == 2\n",
    "        @objective(model_ms, Min, \n",
    "            pScen*sum((yDRTO[kk,ss] - pTrack)^2 + wP*delta_p[kk,ss]^2 for kk in 1:pD, ss in 1:nScen)\n",
    "        )\n",
    "    else\n",
    "        @objective(model_ms, Min, pScen*sum((yDRTO[kk,ss] - pTrack)^2 + wP*delta_p[kk,ss]^2 for kk in 1:pD, ss in 1:nScen)\n",
    "                                - pScen*pi_bar*sum(\n",
    "                                                sum(mu_g[kk,jj,ss]*g_u_u[kk,jj,ss] for jj = 1:m) +\n",
    "                                                sum(mu_g[kk,jj + m,ss]*g_u_l[kk,jj,ss] for jj = 1:m)\n",
    "                                                for kk = 1:mD, ss in 1:nScen)\n",
    "        )\n",
    "    end\n",
    "    # @show model_ms\n",
    "\n",
    "    #################\n",
    "    # Solve Problem #\n",
    "    #################\n",
    "    #set_optimizer_attribute(model_ms, \"CPX_PARAM_BARALG\", 1)\n",
    "    optimize!(model_ms)\n",
    "    \n",
    "    status = termination_status(model_ms)\n",
    "    #display(status)\n",
    "    \n",
    "    if status == MOI.OPTIMAL || status == MOI.ALMOST_OPTIMAL || status == MOI.LOCALLY_SOLVED\n",
    "        # Proved optimality or Optimal within relaxed tolerances\n",
    "        # solution time\n",
    "        timeSol = solve_time(model_ms)\n",
    "\n",
    "        flag = 1\n",
    "        # #primal_status(m)\n",
    "\n",
    "        #calling values of the solved problem\n",
    "        ϕ = objective_value(model_ms)\n",
    "        uArray = value.(u)\n",
    "        yspArray = value.(ysp)\n",
    "        yDRTOArray = value.(yDRTO)\n",
    "        yMPCArray = value.(yMPC)\n",
    "        xDRTOArray = value.(xDRTO)\n",
    "        xMPCArray = value.(xMPC)\n",
    "\n",
    "        outputFun = Dict('ϕ' => ϕ,\n",
    "                        't' => timeSol,\n",
    "                        'f' => flag, \n",
    "                        'u' => uArray,\n",
    "                        's' => yspArray,\n",
    "                        'x' => xDRTOArray,\n",
    "                        'y' => yDRTOArray, \n",
    "                        'm' => xDRTOArray,\n",
    "                        'c' => yDRTOArray)\n",
    "        \n",
    "        if option == 2 || option == 3\n",
    "            muArray = value.(mu_g)\n",
    "            merge!(outputFun,Dict('μ'=> muArray))\n",
    "        end\n",
    "        \n",
    "        return outputFun\n",
    "    else\n",
    "        # Handle other cases.\n",
    "        outputFun = Dict('f' => 0,\n",
    "                         't' => NaN,\n",
    "                         'ϕ' => NaN)\n",
    "                        \n",
    "        \n",
    "        return outputFun\n",
    "    end\n",
    "end;"
   ]
  },
  {
   "cell_type": "markdown",
   "id": "e2a35860",
   "metadata": {},
   "source": [
    "# Decomposition of CLDRTO Problem"
   ]
  },
  {
   "attachments": {
    "image-2.png": {
     "image/png": "[encoded data removed]"
    }
   },
   "cell_type": "markdown",
   "id": "eccb0edd",
   "metadata": {},
   "source": [
    "<div>\n",
    "<img src=\"attachment:image-2.png\" width=\"900\"/>\n",
    "</div>"
   ]
  },
  {
   "cell_type": "markdown",
   "id": "b2f632eb",
   "metadata": {},
   "source": [
    "## Modeling Subproblem"
   ]
  },
  {
   "cell_type": "code",
   "execution_count": null,
   "id": "1c652a26",
   "metadata": {},
   "outputs": [],
   "source": [
    "## Modeling the sub problem (scenario) -- modeling inside a function\n",
    "function subp(xInit,uInit,ysp_fixed,nReac,nScen,pScen,solNom,option)\n",
    "    ###########\n",
    "    # inputs: #\n",
    "    ###########\n",
    "    # xInit - states at the current iteration (beginning of DRTO horizon)\n",
    "    # uInit - inputs at the current iteration, already implemented on the plant\n",
    "    # ysp_fixed - setpoints fixed by the Master Problem --> nonanticipativity constraints\n",
    "    # nReac - number of parallel reactors\n",
    "    # nScen - number of scenarios used in the problem (only one branching)\n",
    "    # pScen - probability of the scenarios\n",
    "    # solNom - nominal solution\n",
    "    # option - strategy for solving MPC \n",
    "        # for now, code only works for option = 3\n",
    "\n",
    "    # Creating MPC matrices\n",
    "    mpc = MPC_matrices(nReac)\n",
    "    \n",
    "    # Creating DRTO matrices\n",
    "    \n",
    "    # recomputing the number of total scenarios based on scenario probability and the fact that the scenarios have the same probability\n",
    "    nScenTotal = ceil(Int,1/pScen)    \n",
    "    drto = DRTO_matrix(nReac,nScen,nScenTotal)\n",
    "    \n",
    "    # Define subproblem model  #== 3\n",
    "    if option == 3 || option == 1 \n",
    "        sub = Model(Ipopt.Optimizer)\n",
    "        set_optimizer_attribute(sub, \"max_cpu_time\", 300.0) # 5 min\n",
    "    else \n",
    "        sub = Model(CPLEX.Optimizer)\n",
    "        set_optimizer_attribute(sub, \"CPX_PARAM_TILIM\", 300.0) # 5 min\n",
    "    end\n",
    "    set_silent(sub) # avoid printing\n",
    "    \n",
    "    ####################\n",
    "    # Set up variables #\n",
    "    ####################\n",
    "    # DRTO model variables\n",
    "    @variable(sub, xDRTO[1:pD, 1:nx])\n",
    "    @variable(sub, yDRTO[1:pD])\n",
    "    \n",
    "    # MPC model variables\n",
    "    @variable(sub, xMPC[1:pD, 1:nx])\n",
    "    @variable(sub, yMPC[1:pD])\n",
    "\n",
    "    # MPC <-> DRTO model deviation\n",
    "    @variable(sub, de[1:pD])\n",
    "    \n",
    "    # inputs computed by MPCs\n",
    "    @variable(sub, u[1:pD,1:m])\n",
    "    if option == 1\n",
    "        @variable(sub, u_w_c[1:pD,1:m]) # inputs w/o clipping\n",
    "    \n",
    "        # input clipping \n",
    "        @variable(sub, mu_lb[1:pD,1:m] ≥ 0)\n",
    "        @variable(sub, eta_lb[1:pD,1:m] ≥ 0)\n",
    "        @variable(sub, mu_ub[1:pD,1:m] ≥ 0)\n",
    "        @variable(sub, eta_ub[1:pD,1:m] ≥ 0)       \n",
    "    end\n",
    "\n",
    "    # setpoints for the controllers sent to the plant (CL-DRTO degrees of freedom)\n",
    "    @variable(sub, (yspMin - y0) ≤ ysp[1:pD] ≤ (yspMax - y0))\n",
    "        \n",
    "    # slacks for controlling setpoint into a zone\n",
    "    @variable(sub, delta_p[1:pD] ≥ 0)\n",
    "    \n",
    "    if option == 2 || option == 3\n",
    "        @variable(sub, mu_g[1:mD,1:(2*m)] ≥ 0) # upper and lower bounds for each input\n",
    "    end\n",
    "    if option == 2\n",
    "        @variable(sub, Y_lb[1:mD,1:m], start = 0) # Relaxing binaries for big-M implementation\n",
    "        @variable(sub, Y_ub[1:mD,1:m], start = 0) \n",
    "    end\n",
    "    \n",
    "    ########################\n",
    "    # Set up initial guess #\n",
    "    ########################\n",
    "    if solNom isa Dict\n",
    "        for ii in 1:pD\n",
    "            set_start_value(yDRTO[ii], solNom['y'][ii,1]) \n",
    "            set_start_value(yMPC[ii], solNom['c'][ii,1])\n",
    "            #set_start_value(ysp[ii], solNom['s'][ii,1])\n",
    "\n",
    "            for rr in 1:nReac # when nReac increases, the number of states change!\n",
    "                for xx in 1:2 # N.B. nx/reactor is hardcoded here... (maybe use nx/reactor as a function input) \n",
    "                    set_start_value(xDRTO[ii,xx + (rr - 1)*2], solNom['x'][ii,xx,1])    \n",
    "                    set_start_value(xMPC[ii,xx + (rr - 1)*2], solNom['m'][ii,xx,1])           \n",
    "                end # end xx\n",
    "            end # number \n",
    "                \n",
    "            for uu in 1:m\n",
    "                set_start_value(u[ii,uu], solNom['u'][ii,uu,1])\n",
    "            end # end of uu\n",
    "        end # eend of ii\n",
    "    end # end of if\n",
    "\n",
    "    ######################################\n",
    "    # Set up constraints and expressions #\n",
    "    ######################################\n",
    "    # Dynamic RTO model (linear)\n",
    "    @constraint(sub, CLDRTO_dyn_model_1, xDRTO[1,:] .== drto['A']*xInit + drto['B']*uInit)\n",
    "    @constraint(sub, CLDRTO_dyn_model[kk=1:(pD - 1)], xDRTO[kk + 1,:] .== drto['A']*xDRTO[kk,:] + drto['B']*u[kk,1])\n",
    "    @constraint(sub, CLDRTO_model_out[kk=1:pD], yDRTO[kk] == dot(drto['C'],xDRTO[kk,:]))\n",
    "\n",
    "    # fixing input after mD\n",
    "    @constraint(sub, control_horizon[kk=(mD+1):pD], u[kk,1] == u[mD,1]);\n",
    "    \n",
    "    # P soft constraints\n",
    "    @constraint(sub, soft_P[kk=1:pD], yDRTO[kk] - delta_p[kk] ≤ pUB)\n",
    "    \n",
    "    # nonanticipativity constraints\n",
    "    @constraint(sub, nonAnt[kk=1:nDRTO], ysp[kk] - ysp_fixed[kk] == 0.0);\n",
    "    \n",
    "    ################\n",
    "    # MPC solution #\n",
    "    ################\n",
    "    ################\n",
    "    # MPC solution #\n",
    "    ################ \n",
    "    if option == 1\n",
    "        # MPC model (linear)\n",
    "        @constraint(sub, MPC_dyn_model_1, xMPC[1,:] .== mpc['A']*xInit + mpc['B']*uInit)\n",
    "        @constraint(sub, MPC_dyn_model[kk=1:(pD - 1)], xMPC[kk + 1,:] .== mpc['A']*xMPC[kk,:] + mpc['B']*u_w_c[kk,1])\n",
    "        @constraint(sub, MPC_model_out[kk=1:pD], yMPC[kk] == dot(mpc['C'],xMPC[kk,:]))\n",
    "\n",
    "        #  MPC model deviation (disturance)\n",
    "        @constraint(sub, MPC_model_dev[kk=1:pD], de[kk] == yDRTO[kk] - yMPC[kk])\n",
    "\n",
    "        # sequence of Setpoints\n",
    "        @expression(sub, cfT_1, (mpc['Ψ']*[xMPC[1,:];de[1]] - ysp[1:p])'*mpc['Q']*mpc['Θ'] - uInit'*mpc['I']'*mpc['R']*mpc['M'])\n",
    "        @expression(sub, cfT[kk=2:mD], (mpc['Ψ']*[xMPC[kk,:];de[kk]] - ysp[kk:(kk + p - 1)])'*mpc['Q']*mpc['Θ'] - u_w_c[kk-1,1]'*mpc['I']'*mpc['R']*mpc['M'])\n",
    "\n",
    "        # Unconstrained MPC solution  \n",
    "        @constraint(sub, MPC_sol_1, mpc['H']*u_w_c[1,:] + cfT_1' .== 0)\n",
    "        @constraint(sub, MPC_sol[kk=2:mD],mpc['H']*u_w_c[kk,:] + cfT[kk]' .== 0)\n",
    "\n",
    "        # input clipping\n",
    "        @constraint(sub, ic_1[kk = 1:mD,uu = 1:m], u[kk,uu] == u_w_c[kk,uu] - mu_ub[kk,uu] + mu_lb[kk,uu])\n",
    "        @constraint(sub, ic_2[kk = 1:mD,uu = 1:m], (uMax - u0) - u[kk,uu] == eta_ub[kk,uu])\n",
    "        @constraint(sub, ic_3[kk = 1:mD,uu = 1:m], eta_ub[kk,uu]*mu_ub[kk,uu] ≤ 1e-6)\n",
    "        @constraint(sub, ic_4[kk = 1:mD,uu = 1:m], u[kk,uu] - (uMin - u0) == eta_lb[kk,uu])\n",
    "        @constraint(sub, ic_5[kk = 1:mD,uu = 1:m], eta_lb[kk,uu]*mu_lb[kk,uu] ≤ 1e-6)\n",
    "    \n",
    "    elseif option == 2\n",
    "        # MPC model (linear)\n",
    "        @constraint(sub, MPC_dyn_model_1, xMPC[1,:] .== mpc['A']*xInit + mpc['B']*uInit)\n",
    "        @constraint(sub, MPC_dyn_model[kk=1:(pD - 1)], xMPC[kk + 1,:] .== mpc['A']*xMPC[kk,:] + mpc['B']*u[kk,1])\n",
    "        @constraint(sub, MPC_model_out[kk=1:pD], yMPC[kk] == dot(mpc['C'],xMPC[kk,:]))\n",
    "\n",
    "        #  MPC model deviation (disturance)\n",
    "        @constraint(sub, MPC_model_dev[kk=1:pD], de[kk] == yDRTO[kk] - yMPC[kk])\n",
    "\n",
    "        # sequence of Setpoints\n",
    "        @expression(sub, cfT_1, (mpc['Ψ']*[xMPC[1,:];de[1]] - ysp[1:p])'*mpc['Q']*mpc['Θ'] - uInit'*mpc['I']'*mpc['R']*mpc['M'])\n",
    "        @expression(sub, cfT[kk=2:mD], (mpc['Ψ']*[xMPC[kk,:];de[kk]] - ysp[kk:(kk + p - 1)])'*mpc['Q']*mpc['Θ'] - u[kk-1,1]'*mpc['I']'*mpc['R']*mpc['M'])\n",
    "\n",
    "        # Constrained with binaries\n",
    "        # 1. stationarity\n",
    "        @constraint(sub, MPC_sol_1, u[1,:]'*mpc['H'] + cfT_1 +  mu_g[1,:]'*conMatrix .== 0)\n",
    "        @constraint(sub, MPC_sol[kk=2:mD], u[kk,:]'*mpc['H'] + cfT[kk] + mu_g[kk,:]'*conMatrix .== 0)\n",
    "\n",
    "        # 2. primal feasibility\n",
    "        @constraint(sub, MPC_c_upper[kk=1:mD,uu=1:m], u[kk,uu] - (uMax - u0) ≤ 0)\n",
    "        @constraint(sub, MPC_c_lower[kk=1:mD,uu=1:m], (uMin - u0) - u[kk,uu] ≤ 0)\n",
    "    \n",
    "        # 3. complementarity --> using big-M implementation\n",
    "        @constraint(sub, bigM_1[kk=1:mD,uu=1:m], mu_g[kk,uu] ≤ bigM_mu*Y_ub[kk,uu])\n",
    "        @constraint(sub, bigM_2[kk=1:mD,uu=1:m], mu_g[kk,uu + m] ≤ bigM_mu*Y_lb[kk,uu])\n",
    "        @constraint(sub, bigM_3[kk=1:mD,uu=1:m], u[kk,uu] - (uMax - u0) ≥ -bigM_u*(1 - Y_ub[kk,uu]))\n",
    "        @constraint(sub, bigM_4[kk=1:mD,uu=1:m], (uMin - u0) - u[kk,uu] ≥ -bigM_u*(1 - Y_lb[kk,uu]))\n",
    "        \n",
    "        @constraint(sub, compSlack[kk=1:mD,uu=1:m], Y_ub[kk,uu] + Y_lb[kk,uu] ≤ 1)\n",
    "    \n",
    "    elseif option == 3\n",
    "        # MPC model (linear)\n",
    "        @constraint(sub, MPC_dyn_model_1, xMPC[1,:] .== mpc['A']*xInit + mpc['B']*uInit)\n",
    "        @constraint(sub, MPC_dyn_model[kk=1:(pD - 1)], xMPC[kk + 1,:] .== mpc['A']*xMPC[kk,:] + mpc['B']*u[kk,1])\n",
    "        @constraint(sub, MPC_model_out[kk=1:pD], yMPC[kk] == dot(mpc['C'],xMPC[kk,:]))\n",
    "\n",
    "        #  MPC model deviation (disturance)\n",
    "        @constraint(sub, MPC_model_dev[kk=1:pD], de[kk] == yDRTO[kk] - yMPC[kk])\n",
    "\n",
    "        # sequence of Setpoints\n",
    "        @expression(sub, cfT_1, (mpc['Ψ']*[xMPC[1,:];de[1]] - ysp[1:p])'*mpc['Q']*mpc['Θ'] - uInit'*mpc['I']'*mpc['R']*mpc['M'])\n",
    "        @expression(sub, cfT[kk=2:mD], (mpc['Ψ']*[xMPC[kk,:];de[kk]] - ysp[kk:(kk + p - 1)])'*mpc['Q']*mpc['Θ'] - u[kk-1,1]'*mpc['I']'*mpc['R']*mpc['M'])\n",
    "\n",
    "        # Constrained with MPCC\n",
    "        # 1. stationarity\n",
    "        @constraint(sub, MPC_sol_1, u[1,:]'*mpc['H'] + cfT_1 +  mu_g[1,:]'*conMatrix .== 0)\n",
    "        @constraint(sub, MPC_sol[kk=2:mD], u[kk,:]'*mpc['H'] + cfT[kk] + mu_g[kk,:]'*conMatrix .== 0)\n",
    "\n",
    "        # 2. primal feasibility       \n",
    "        @constraint(sub, MPC_c_upper[kk=1:mD,uu=1:m], u[kk,uu] - (uMax - u0) ≤ 0)\n",
    "        @constraint(sub, MPC_c_lower[kk=1:mD,uu=1:m], (uMin - u0) - u[kk,uu] ≤ 0)\n",
    "        \n",
    "        # expression to be used in OF        \n",
    "        @expression(sub, g_u_u[kk=1:mD,uu=1:m], u[kk,uu] - (uMax - u0))\n",
    "        @expression(sub, g_u_l[kk=1:mD,uu=1:m], (uMin - u0) - u[kk,uu])\n",
    "        \n",
    "    end\n",
    "\n",
    "    #############################\n",
    "    # Set up objective function #\n",
    "    #############################\n",
    "     if option == 1 || option == 2\n",
    "        @objective(sub, Min, \n",
    "            pScen*sum((yDRTO[kk] - pTrack)^2 + wP*delta_p[kk]^2 for kk in 1:pD)\n",
    "        )\n",
    "    else\n",
    "        @objective(sub, Min, \n",
    "            pScen*sum((yDRTO[kk] - pTrack)^2 + wP*delta_p[kk]^2 for kk in 1:pD)\n",
    "                    - pScen*pi_bar*sum(\n",
    "                                    sum(mu_g[kk,jj]*g_u_u[kk,jj] for jj = 1:m) +\n",
    "                                    sum(mu_g[kk,jj + m]*g_u_l[kk,jj] for jj = 1:m)\n",
    "                                for kk = 1:mD)\n",
    "        )\n",
    "    end\n",
    "    \n",
    "    # @show sub\n",
    "    #set_optimizer_attribute(sub, \"CPX_PARAM_BARALG\", 1)\n",
    "    \n",
    "    optimize!(sub)\n",
    "    \n",
    "    # solution time\n",
    "    timeSol = solve_time(sub)\n",
    "    \n",
    "    status = termination_status(sub)\n",
    "    #display(status)\n",
    "    \n",
    "    # checking if there is a solution to the problem\n",
    "    if status == MOI.OPTIMAL || status == MOI.ALMOST_OPTIMAL || status == MOI.LOCALLY_SOLVED\n",
    "        # Proved optimality or Optimal within relaxed tolerances\n",
    "        # we add an optimality cut\n",
    "        flag = 1\n",
    "        # #primal_status(m)\n",
    "\n",
    "        #calling values of the solved problem\n",
    "        ϕ = objective_value(sub)\n",
    "        uArray = value.(u)\n",
    "        yspArray = value.(ysp)\n",
    "        yDRTOArray = value.(yDRTO)\n",
    "        yMPCArray = value.(yMPC)\n",
    "        xDRTOArray = value.(xDRTO)\n",
    "        xMPCArray = value.(xMPC)\n",
    "        \n",
    "        # lagrange multipliers associated with the nonantecipativity constraints\n",
    "        λ = dual.(nonAnt)\n",
    "\n",
    "        outputDict = Dict('ϕ' => ϕ,\n",
    "                        't' => timeSol,\n",
    "                        'f' => flag, \n",
    "                        'a' => status,\n",
    "                        'u' => uArray,\n",
    "                        's' => yspArray,\n",
    "                        'x' => xDRTOArray,\n",
    "                        'y' => yDRTOArray, \n",
    "                        'm' => xMPCArray,\n",
    "                        'c' => yMPCArray,\n",
    "                        'λ' => λ)\n",
    "        \n",
    "        # if binaries are used for solving const. MPC\n",
    "        if option == 2\n",
    "            muArray = value.(mu_g)\n",
    "                   \n",
    "            uubBinArray = value.(Y_ub)\n",
    "            ulbBinArray = value.(Y_lb)\n",
    "            \n",
    "            merge!(outputDict,Dict('μ'=> muArray))\n",
    "            merge!(outputDict,Dict('o' => ulbBinArray))\n",
    "            merge!(outputDict,Dict('p' => uubBinArray))\n",
    "            \n",
    "        end\n",
    "        \n",
    "        # if MPCC is used for solving const. MPC\n",
    "        if option == 3\n",
    "            muArray = value.(mu_g)\n",
    "            \n",
    "            merge!(outputDict,Dict('μ'=> muArray))\n",
    "        end\n",
    "        \n",
    "        return outputDict\n",
    "    else\n",
    "        #i.e. no feasible solution --> Add feasibility cut\n",
    "        #display(\"Feasibility cut: scenario $(scen)\")        \n",
    "\n",
    "        # ! soft bounds on ysp\n",
    "        delete_lower_bound.(ysp[1:pD])\n",
    "        delete_upper_bound.(ysp[1:pD])\n",
    "        \n",
    "        # ! soft bounds on y\n",
    "        #delete_lower_bound.(yDRTO[1:pD])\n",
    "        \n",
    "        if option != 1\n",
    "            # ! soft bounds on mu\n",
    "            delete_lower_bound.(mu_g[1:mD,1:m])\n",
    "            \n",
    "            # ! soft bounds on u\n",
    "            for kk in 1:mD\n",
    "                for uu in 1:m\n",
    "                    delete(sub, MPC_c_upper[kk,uu])\n",
    "                    delete(sub, MPC_c_lower[kk,uu])\n",
    "                end\n",
    "            end\n",
    "        end\n",
    "        \n",
    "        ####################\n",
    "        # Set up variables #\n",
    "        ####################         \n",
    "        @variable(sub, delta_ysp_u[1:pD] ≥ 0.0)\n",
    "        @variable(sub, delta_ysp_l[1:pD] ≥ 0.0)\n",
    "        \n",
    "        #@variable(sub, delta_y_l[1:pD] ≥ 0.0)\n",
    "        \n",
    "        if option == 2 || option == 3\n",
    "            @variable(sub, delta_mu[1:mD,1:m] ≥ 0.0)\n",
    "            \n",
    "            # slacks\n",
    "            @variable(sub, delta_u_u[1:mD,1:m] ≥ 0.0)\n",
    "            @variable(sub, delta_u_l[1:mD,1:m] ≥ 0.0)\n",
    "\n",
    "        end\n",
    "        \n",
    "        ###########################\n",
    "        # Always-feasible problem #\n",
    "        ###########################        \n",
    "        @constraint(sub, soft_ysp_upper[kk=1:pD], ysp[kk] - (yspMax - y0) ≤ delta_ysp_u[kk])\n",
    "        @constraint(sub, soft_ysp_lower[kk=1:pD], (yspMin - y0) - ysp[kk] ≤ delta_ysp_l[kk])\n",
    "        \n",
    "        #@constraint(sub, soft_y_lower[kk=1:pD], (0 - y0) - yDRTO[kk] ≤ delta_y_l[kk])\n",
    "\n",
    "        # adding a constraint to guarantee that mu is always feasible        \n",
    "        if option == 2 || option == 3\n",
    "            @constraint(sub, soft_MPC_mu_upper[kk=1:mD,uu=1:m], -mu_g[kk,uu] ≤ delta_mu[kk,uu])\n",
    "            \n",
    "            # adding a constraint to guarantee feasibility\n",
    "            @constraint(sub, soft_u_upper[kk=1:mD,uu=1:m], u[kk,uu] - (uMax - u0) ≤ delta_u_u[kk,uu])\n",
    "            @constraint(sub, soft_u_lower[kk=1:mD,uu=1:m], (uMin - u0) - u[kk,uu] ≤ delta_u_l[kk,uu])\n",
    "        end\n",
    "        \n",
    "       #############################\n",
    "        # Set up objective function #\n",
    "        #############################\n",
    "        # Modifying the objective --> call @objective with the new objective function.\n",
    "        # minimizing constraint violation - l1 penalty!\n",
    "        if option == 2 || option == 3\n",
    "            @objective(sub, Min, sum(delta_p[kk] + delta_ysp_u[kk] + delta_ysp_l[kk] for kk in 1:pD)\n",
    "                    + sum(sum(delta_mu[kk,uu] + delta_u_u[kk,uu] + delta_u_l[kk,uu] for uu in 1:m) for kk in 1:mD))\n",
    "        else\n",
    "            @objective(sub, Min, sum(delta_p[kk] + delta_ysp_u[kk] + delta_ysp_l[kk] for kk in 1:pD))\n",
    "        end\n",
    "        \n",
    "        #@show sub\n",
    "        #set_optimizer_attribute(sub, \"CPX_PARAM_BARALG\", 1)\n",
    "\n",
    "        # re-optimizing (now using the always feasible problem)\n",
    "        optimize!(sub)\n",
    "        \n",
    "        # solution time (adding time to solve the always feasible subproblem)\n",
    "        timeSol = timeSol + solve_time(sub)\n",
    "        \n",
    "        # checking status of the solution\n",
    "        status_sub = termination_status(sub)\n",
    "        \n",
    "        # flag for calling feasibility cuts (not optimality cuts)\n",
    "        flag = 0\n",
    "        \n",
    "        #calling values of the solved problem\n",
    "        uArray = value.(u)\n",
    "        yspArray = value.(ysp)\n",
    "        yDRTOArray = value.(yDRTO)\n",
    "        yMPCArray = value.(yMPC)\n",
    "        xDRTOArray = value.(xDRTO)\n",
    "        xMPCArray = value.(xMPC)\n",
    "    \n",
    "        # objective function of the feasibility problem\n",
    "        o = objective_value(sub)\n",
    "        \n",
    "        # lagrange multipliers associated with the nonantecipativity constraints and binaries from master problem\n",
    "        λ = dual.(nonAnt)\n",
    "        \n",
    "        outputDict = Dict('ϕ' => o,\n",
    "                        't' => timeSol,\n",
    "                        'f' => flag, \n",
    "                        'a' => status_sub,\n",
    "                        'u' => uArray,\n",
    "                        's' => yspArray,\n",
    "                        'x' => xDRTOArray,\n",
    "                        'y' => yDRTOArray, \n",
    "                        'm' => xMPCArray,\n",
    "                        'c' => yMPCArray,\n",
    "                        'λ' => λ)\n",
    "        \n",
    "         if option == 2 || option == 3\n",
    "            muArray = value.(mu_g)\n",
    "            merge!(outputDict,Dict('μ'=> muArray))\n",
    "        end\n",
    "        \n",
    "        return outputDict\n",
    "    end\n",
    "end;"
   ]
  },
  {
   "cell_type": "markdown",
   "id": "1690f637",
   "metadata": {},
   "source": [
    "Modeling Bender's Decomposition"
   ]
  },
  {
   "cell_type": "code",
   "execution_count": null,
   "id": "418c3ed4",
   "metadata": {},
   "outputs": [],
   "source": [
    "# max number of iteration\n",
    "benIterMax = 50\n",
    "\n",
    "# optimality gap (relative) tolerance\n",
    "optGap = 1e-3; "
   ]
  },
  {
   "cell_type": "code",
   "execution_count": null,
   "id": "6550488c",
   "metadata": {},
   "outputs": [],
   "source": [
    "## Modeling Benders Decompostion\n",
    "function BENS_CLDRTO(xInit,uInit,nReac,nScen,pScen,solNom,option)\n",
    "    \n",
    "    # flag for checking if last cut was opt. (1) or feas. (0)\n",
    "    flagO = 1\n",
    "    \n",
    "    # timing solution via Benders\n",
    "    timeSolBen = 0 \n",
    "    # timing solution via parallel Benders\n",
    "    timeSolParBen = 0 \n",
    "    \n",
    "    # Define master problem model\n",
    "    master = Model(CPLEX.Optimizer)\n",
    "    set_silent(master)\n",
    "    \n",
    "    #lower bound on scenario objective function approximation \n",
    "    alpha_down = 0.0;\n",
    "    \n",
    "    ####################\n",
    "    # Set up variables #\n",
    "    ####################\n",
    "    @variable(master,  (yspMin - y0) <= ysp[1:nDRTO] <=  (yspMax - y0))     \n",
    "    @variable(master, α ≥ alpha_down)\n",
    "    \n",
    "    ########################\n",
    "    # Set up initial guess #\n",
    "    ########################\n",
    "    if solNom isa Dict\n",
    "        for ii in 1:nDRTO\n",
    "            set_start_value(ysp[ii], solNom['s'][ii,1])\n",
    "        end \n",
    "    end \n",
    " \n",
    "    ################################################\n",
    "    # Solving problem with benders' decomposition  #\n",
    "    ################################################\n",
    "    for ii in 1:benIterMax\n",
    "           \n",
    "        #############################\n",
    "        # Set up objective function #\n",
    "        #############################\n",
    "        if flagO == 1 \n",
    "            # last cut was an optimality cut\n",
    "            # standard OF\n",
    "            @objective(master, Min, α)\n",
    "        else\n",
    "            # last cut was a feasibility cut\n",
    "            # \"nudge\" next solution towards nominal solution \n",
    "            @objective(master, Min, α + 0*sum((ysp[kk] - solNom['s'][kk,1])^2 for kk in 1:nDRTO))\n",
    "        end\n",
    "        \n",
    "            # solve master problem (with Benders' cut)\n",
    "            optimize!(master)\n",
    "\n",
    "            # solution time\n",
    "            timeSolMaster = solve_time(master)\n",
    "            # Master problem solution: lower bound of the original problem\n",
    "            lb = objective_value(master)\n",
    "            #display(lb)\n",
    "\n",
    "            # extracting solution for the non-anticipativity constraints\n",
    "            ysp_nonⁱ = value.(ysp)\n",
    "            #display(ysp_nonⁱ)\n",
    "\n",
    "        timeSolBen = timeSolBen + timeSolMaster\n",
    "        timeSolParBen = timeSolParBen + timeSolMaster # master cannot be paralellized \n",
    "\n",
    "        #######################\n",
    "        # Solving subproblems #\n",
    "        #######################\n",
    "        # objective function\n",
    "        o_temp = Vector{Float64}(undef,nScen)\n",
    "        # flag optimality / feasibility\n",
    "        flag_temp = Vector{Float64}(undef,nScen)\n",
    "        # solution time\n",
    "        solTime_temp = Vector{Float64}(undef,nScen)\n",
    "        # multipliers\n",
    "        lambdaN_temp = Matrix{Float64}(undef,nDRTO,nScen) \n",
    "        \n",
    "        for ss in 1:nScen\n",
    "            dicTemp = subp(xInit,uInit,ysp_nonⁱ,nReac,ss,pScen,solNom,option)\n",
    "           \n",
    "            # saving files\n",
    "            # objective function\n",
    "            o_temp[ss] = dicTemp['ϕ']\n",
    "            # solution time\n",
    "            solTime_temp[ss] = dicTemp['t']\n",
    "            # optimality / feasibility flag\n",
    "            flag_temp[ss] = dicTemp['f']\n",
    "            # multiplier\n",
    "            for kk in 1:nDRTO\n",
    "                lambdaN_temp[kk,ss] = dicTemp['λ'][kk]\n",
    "            end\n",
    "            \n",
    "        end\n",
    "        \n",
    "        ##########################################################\n",
    "        # If all subproblems were feasible, check optimality gap #\n",
    "        ##########################################################\n",
    "        if sum(flag_temp) == nScen \n",
    "            # Subproblem solution: upper bound of the original problem\n",
    "            ub = sum(o_temp)\n",
    "\n",
    "            # solve subproblems to find the upper bound of the original problem solution \n",
    "            timeSolBen = timeSolBen + sum(solTime_temp)\n",
    "\n",
    "            # assuming that subproblem solution is parallelized\n",
    "            timeSolParBen = timeSolParBen + maximum(solTime_temp)   \n",
    "            \n",
    "            # compute optimality gap\n",
    "            gap = abs(ub - lb)/abs(ub)\n",
    "            display(\"DB: opt gap = $(gap)\")\n",
    "\n",
    "            # check if optimality gap is small enough\n",
    "            # also, make sure last cut was an optimality cut due to change in OF \n",
    "            if gap < optGap && flagO == 1\n",
    "                global yspSol_dec = ysp_nonⁱ\n",
    "                global objFun_dec = ub\n",
    "                global optGap_dec = gap\n",
    "                global iter_dec = ii\n",
    "                global time_dec = timeSolBen\n",
    "                global time_max_dec = timeSolParBen\n",
    "                break\n",
    "            else # gap ≥ optGap \n",
    "                ##############################\n",
    "                # --> adding optimality cuts #\n",
    "                ##############################\n",
    "                display(\">>>>>> iteration $(ii):O\")\n",
    "                benderscutO = @constraint(master, α ≥ ub + \n",
    "                    sum(sum(lambdaN_temp[jj,ss] for ss in 1:nScen)*(ysp[jj] - ysp_nonⁱ[jj]) for jj in 1:nDRTO))\n",
    "                #@info \"we are adding this bender optimality cut $(benderscutO)\"\n",
    "                \n",
    "                # optimality cut was add\n",
    "                flagO = 1\n",
    "            \n",
    "            end # if gap\n",
    "        else # sum(flag_temp) != nScen\n",
    "            ###############################\n",
    "            # --> adding feasibility cuts #\n",
    "            ###############################\n",
    "            display(\">>>>>> iteration $(ii):F\")\n",
    "\n",
    "            benderscutF = @constraint(master, 0 ≥\n",
    "                sum(sum(lambdaN_temp[jj,ss] for ss in 1:nScen)*(ysp[jj] - ysp_nonⁱ[jj]) for jj in 1:nDRTO))\n",
    "            #@info \"we are adding this bender feasibility cut $(benderscutF)\"\n",
    "            \n",
    "            # feasibility cut was add\n",
    "            flagO = 0\n",
    "            \n",
    "        end # if nScen\n",
    "        \n",
    "        # checking if number of iterations reached max \n",
    "        if ii >= benIterMax\n",
    "            global yspSol_dec = [NaN for kk=1:nDRTO]\n",
    "            global objFun_dec = NaN\n",
    "            global optGap_dec = NaN\n",
    "            global iter_dec = benIterMax\n",
    "            global time_dec = timeSolBen\n",
    "            global time_max_dec = timeSolParBen\n",
    "        end # if < benIterMax\n",
    "    end # if for benders iterations\n",
    "    \n",
    "    #####################\n",
    "    # Extracting values #\n",
    "    #####################\n",
    "    if isnan(objFun_dec)\n",
    "        \n",
    "        outputFun = Dict('t' => time_dec,\n",
    "                         'ϕ' => objFun_dec,\n",
    "                         'm' => time_max_dec, \n",
    "                         'i' => iter_dec,\n",
    "                         'd' => yspSol_dec,\n",
    "                         'g' => optGap_dec)\n",
    "                        \n",
    "        \n",
    "        return outputFun\n",
    "        \n",
    "    else\n",
    "        # recomputing values\n",
    "        uArray = [subp(xInit,uInit,yspSol_dec,nReac,ss,pScen,solNom,option)['u']' for ss in 1:nScen]\n",
    "        yArray = [subp(xInit,uInit,yspSol_dec,nReac,ss,pScen,solNom,option)['y']' for ss in 1:nScen] \n",
    "        yspArray = [subp(xInit,uInit,yspSol_dec,nReac,ss,pScen,solNom,option)['s']' for ss in 1:nScen]\n",
    "\n",
    "        #calling values of the solved problem\n",
    "        return Dict('ϕ' => objFun_dec, \n",
    "                    'd' => yspSol_dec, \n",
    "                    't' => time_dec,\n",
    "                    'm' => time_max_dec, \n",
    "                    'i' => iter_dec,\n",
    "                    'g' => optGap_dec,\n",
    "                    'u' => uArray, \n",
    "                    'y' => yArray, \n",
    "                    's' => yspArray)\n",
    "    end     \n",
    "end;"
   ]
  },
  {
   "cell_type": "markdown",
   "id": "b10e389c",
   "metadata": {},
   "source": [
    "# Checking the performance of the methods in terms of time vs. nReac"
   ]
  },
  {
   "cell_type": "code",
   "execution_count": 23,
   "id": "9a96c8bd",
   "metadata": {},
   "outputs": [
    {
     "name": "stdout",
     "output_type": "stream",
     "text": [
      "\n",
      "******************************************************************************\n",
      "This program contains Ipopt, a library for large-scale nonlinear optimization.\n",
      " Ipopt is released as open source code under the Eclipse Public License (EPL).\n",
      "         For more information visit https://github.com/coin-or/Ipopt\n",
      "******************************************************************************\n",
      "\n"
     ]
    },
    {
     "data": {
      "text/plain": [
       "\"evaluating 1 reactors in parallel | option 3\""
      ]
     },
     "metadata": {},
     "output_type": "display_data"
    },
    {
     "data": {
      "text/plain": [
       "\"DB: opt gap = 1.0\""
      ]
     },
     "metadata": {},
     "output_type": "display_data"
    },
    {
     "data": {
      "text/plain": [
       "\">>>>>> iteration 1:O\""
      ]
     },
     "metadata": {},
     "output_type": "display_data"
    },
    {
     "data": {
      "text/plain": [
       "\"DB: opt gap = 1.0\""
      ]
     },
     "metadata": {},
     "output_type": "display_data"
    },
    {
     "data": {
      "text/plain": [
       "\">>>>>> iteration 2:O\""
      ]
     },
     "metadata": {},
     "output_type": "display_data"
    },
    {
     "data": {
      "text/plain": [
       "\"DB: opt gap = 1.0\""
      ]
     },
     "metadata": {},
     "output_type": "display_data"
    },
    {
     "data": {
      "text/plain": [
       "\">>>>>> iteration 3:O\""
      ]
     },
     "metadata": {},
     "output_type": "display_data"
    },
    {
     "data": {
      "text/plain": [
       "\"DB: opt gap = 1.0\""
      ]
     },
     "metadata": {},
     "output_type": "display_data"
    },
    {
     "data": {
      "text/plain": [
       "\">>>>>> iteration 4:O\""
      ]
     },
     "metadata": {},
     "output_type": "display_data"
    },
    {
     "data": {
      "text/plain": [
       "\"DB: opt gap = 0.8007667075592494\""
      ]
     },
     "metadata": {},
     "output_type": "display_data"
    },
    {
     "data": {
      "text/plain": [
       "\">>>>>> iteration 5:O\""
      ]
     },
     "metadata": {},
     "output_type": "display_data"
    },
    {
     "data": {
      "text/plain": [
       "\"DB: opt gap = 0.7566241215116879\""
      ]
     },
     "metadata": {},
     "output_type": "display_data"
    },
    {
     "data": {
      "text/plain": [
       "\">>>>>> iteration 6:O\""
      ]
     },
     "metadata": {},
     "output_type": "display_data"
    },
    {
     "data": {
      "text/plain": [
       "\"DB: opt gap = 0.7075375857029185\""
      ]
     },
     "metadata": {},
     "output_type": "display_data"
    },
    {
     "data": {
      "text/plain": [
       "\">>>>>> iteration 7:O\""
      ]
     },
     "metadata": {},
     "output_type": "display_data"
    },
    {
     "data": {
      "text/plain": [
       "\"DB: opt gap = 0.6257226759660225\""
      ]
     },
     "metadata": {},
     "output_type": "display_data"
    },
    {
     "data": {
      "text/plain": [
       "\">>>>>> iteration 8:O\""
      ]
     },
     "metadata": {},
     "output_type": "display_data"
    },
    {
     "data": {
      "text/plain": [
       "\"DB: opt gap = 0.5014239146041639\""
      ]
     },
     "metadata": {},
     "output_type": "display_data"
    },
    {
     "data": {
      "text/plain": [
       "\">>>>>> iteration 9:O\""
      ]
     },
     "metadata": {},
     "output_type": "display_data"
    },
    {
     "data": {
      "text/plain": [
       "\"DB: opt gap = 0.4916689968741358\""
      ]
     },
     "metadata": {},
     "output_type": "display_data"
    },
    {
     "data": {
      "text/plain": [
       "\">>>>>> iteration 10:O\""
      ]
     },
     "metadata": {},
     "output_type": "display_data"
    },
    {
     "data": {
      "text/plain": [
       "\"DB: opt gap = 0.2921334363362807\""
      ]
     },
     "metadata": {},
     "output_type": "display_data"
    },
    {
     "data": {
      "text/plain": [
       "\">>>>>> iteration 11:O\""
      ]
     },
     "metadata": {},
     "output_type": "display_data"
    },
    {
     "data": {
      "text/plain": [
       "\"DB: opt gap = 0.2864882252812361\""
      ]
     },
     "metadata": {},
     "output_type": "display_data"
    },
    {
     "data": {
      "text/plain": [
       "\">>>>>> iteration 12:O\""
      ]
     },
     "metadata": {},
     "output_type": "display_data"
    },
    {
     "data": {
      "text/plain": [
       "\"DB: opt gap = 0.28266667736858136\""
      ]
     },
     "metadata": {},
     "output_type": "display_data"
    },
    {
     "data": {
      "text/plain": [
       "\">>>>>> iteration 13:O\""
      ]
     },
     "metadata": {},
     "output_type": "display_data"
    },
    {
     "data": {
      "text/plain": [
       "\"DB: opt gap = 0.2776933668776269\""
      ]
     },
     "metadata": {},
     "output_type": "display_data"
    },
    {
     "data": {
      "text/plain": [
       "\">>>>>> iteration 14:O\""
      ]
     },
     "metadata": {},
     "output_type": "display_data"
    },
    {
     "data": {
      "text/plain": [
       "\"DB: opt gap = 0.01853115159720852\""
      ]
     },
     "metadata": {},
     "output_type": "display_data"
    },
    {
     "data": {
      "text/plain": [
       "\">>>>>> iteration 15:O\""
      ]
     },
     "metadata": {},
     "output_type": "display_data"
    },
    {
     "data": {
      "text/plain": [
       "\"DB: opt gap = 0.01724081628882437\""
      ]
     },
     "metadata": {},
     "output_type": "display_data"
    },
    {
     "data": {
      "text/plain": [
       "\">>>>>> iteration 16:O\""
      ]
     },
     "metadata": {},
     "output_type": "display_data"
    },
    {
     "data": {
      "text/plain": [
       "\"DB: opt gap = 0.01719239231618855\""
      ]
     },
     "metadata": {},
     "output_type": "display_data"
    },
    {
     "data": {
      "text/plain": [
       "\">>>>>> iteration 17:O\""
      ]
     },
     "metadata": {},
     "output_type": "display_data"
    },
    {
     "data": {
      "text/plain": [
       "\"DB: opt gap = 1.8114333818164405e-5\""
      ]
     },
     "metadata": {},
     "output_type": "display_data"
    },
    {
     "data": {
      "text/plain": [
       "\"evaluating 2 reactors in parallel | option 3\""
      ]
     },
     "metadata": {},
     "output_type": "display_data"
    },
    {
     "data": {
      "text/plain": [
       "\"DB: opt gap = 1.0\""
      ]
     },
     "metadata": {},
     "output_type": "display_data"
    },
    {
     "data": {
      "text/plain": [
       "\">>>>>> iteration 1:O\""
      ]
     },
     "metadata": {},
     "output_type": "display_data"
    },
    {
     "data": {
      "text/plain": [
       "\"DB: opt gap = 1.0\""
      ]
     },
     "metadata": {},
     "output_type": "display_data"
    },
    {
     "data": {
      "text/plain": [
       "\">>>>>> iteration 2:O\""
      ]
     },
     "metadata": {},
     "output_type": "display_data"
    },
    {
     "data": {
      "text/plain": [
       "\"DB: opt gap = 1.0\""
      ]
     },
     "metadata": {},
     "output_type": "display_data"
    },
    {
     "data": {
      "text/plain": [
       "\">>>>>> iteration 3:O\""
      ]
     },
     "metadata": {},
     "output_type": "display_data"
    },
    {
     "data": {
      "text/plain": [
       "\"DB: opt gap = 1.0\""
      ]
     },
     "metadata": {},
     "output_type": "display_data"
    },
    {
     "data": {
      "text/plain": [
       "\">>>>>> iteration 4:O\""
      ]
     },
     "metadata": {},
     "output_type": "display_data"
    },
    {
     "data": {
      "text/plain": [
       "\"DB: opt gap = 0.950075186202999\""
      ]
     },
     "metadata": {},
     "output_type": "display_data"
    },
    {
     "data": {
      "text/plain": [
       "\">>>>>> iteration 5:O\""
      ]
     },
     "metadata": {},
     "output_type": "display_data"
    },
    {
     "data": {
      "text/plain": [
       "\"DB: opt gap = 0.7359498807631178\""
      ]
     },
     "metadata": {},
     "output_type": "display_data"
    },
    {
     "data": {
      "text/plain": [
       "\">>>>>> iteration 6:O\""
      ]
     },
     "metadata": {},
     "output_type": "display_data"
    },
    {
     "data": {
      "text/plain": [
       "\"DB: opt gap = 0.5374496513923062\""
      ]
     },
     "metadata": {},
     "output_type": "display_data"
    },
    {
     "data": {
      "text/plain": [
       "\">>>>>> iteration 7:O\""
      ]
     },
     "metadata": {},
     "output_type": "display_data"
    },
    {
     "data": {
      "text/plain": [
       "\"DB: opt gap = 0.528424757920487\""
      ]
     },
     "metadata": {},
     "output_type": "display_data"
    },
    {
     "data": {
      "text/plain": [
       "\">>>>>> iteration 8:O\""
      ]
     },
     "metadata": {},
     "output_type": "display_data"
    },
    {
     "data": {
      "text/plain": [
       "\"DB: opt gap = 0.46660395062339927\""
      ]
     },
     "metadata": {},
     "output_type": "display_data"
    },
    {
     "data": {
      "text/plain": [
       "\">>>>>> iteration 9:O\""
      ]
     },
     "metadata": {},
     "output_type": "display_data"
    },
    {
     "data": {
      "text/plain": [
       "\"DB: opt gap = 0.016689236082721087\""
      ]
     },
     "metadata": {},
     "output_type": "display_data"
    },
    {
     "data": {
      "text/plain": [
       "\">>>>>> iteration 10:O\""
      ]
     },
     "metadata": {},
     "output_type": "display_data"
    },
    {
     "data": {
      "text/plain": [
       "\"DB: opt gap = 0.016560901117821714\""
      ]
     },
     "metadata": {},
     "output_type": "display_data"
    },
    {
     "data": {
      "text/plain": [
       "\">>>>>> iteration 11:O\""
      ]
     },
     "metadata": {},
     "output_type": "display_data"
    },
    {
     "data": {
      "text/plain": [
       "\"DB: opt gap = 0.016463087614755074\""
      ]
     },
     "metadata": {},
     "output_type": "display_data"
    },
    {
     "data": {
      "text/plain": [
       "\">>>>>> iteration 12:O\""
      ]
     },
     "metadata": {},
     "output_type": "display_data"
    },
    {
     "data": {
      "text/plain": [
       "\"DB: opt gap = 0.01627868495901094\""
      ]
     },
     "metadata": {},
     "output_type": "display_data"
    },
    {
     "data": {
      "text/plain": [
       "\">>>>>> iteration 13:O\""
      ]
     },
     "metadata": {},
     "output_type": "display_data"
    },
    {
     "data": {
      "text/plain": [
       "\"DB: opt gap = 0.016233306177821292\""
      ]
     },
     "metadata": {},
     "output_type": "display_data"
    },
    {
     "data": {
      "text/plain": [
       "\">>>>>> iteration 14:O\""
      ]
     },
     "metadata": {},
     "output_type": "display_data"
    },
    {
     "data": {
      "text/plain": [
       "\"DB: opt gap = 0.015758892285271376\""
      ]
     },
     "metadata": {},
     "output_type": "display_data"
    },
    {
     "data": {
      "text/plain": [
       "\">>>>>> iteration 15:O\""
      ]
     },
     "metadata": {},
     "output_type": "display_data"
    },
    {
     "data": {
      "text/plain": [
       "\"DB: opt gap = 0.015646639086306393\""
      ]
     },
     "metadata": {},
     "output_type": "display_data"
    },
    {
     "data": {
      "text/plain": [
       "\">>>>>> iteration 16:O\""
      ]
     },
     "metadata": {},
     "output_type": "display_data"
    },
    {
     "data": {
      "text/plain": [
       "\"DB: opt gap = 0.015096111109505778\""
      ]
     },
     "metadata": {},
     "output_type": "display_data"
    },
    {
     "data": {
      "text/plain": [
       "\">>>>>> iteration 17:O\""
      ]
     },
     "metadata": {},
     "output_type": "display_data"
    },
    {
     "data": {
      "text/plain": [
       "\"DB: opt gap = 0.014994603585329669\""
      ]
     },
     "metadata": {},
     "output_type": "display_data"
    },
    {
     "data": {
      "text/plain": [
       "\">>>>>> iteration 18:O\""
      ]
     },
     "metadata": {},
     "output_type": "display_data"
    },
    {
     "data": {
      "text/plain": [
       "\"DB: opt gap = 5.340041852464904e-5\""
      ]
     },
     "metadata": {},
     "output_type": "display_data"
    },
    {
     "data": {
      "text/plain": [
       "\"evaluating 3 reactors in parallel | option 3\""
      ]
     },
     "metadata": {},
     "output_type": "display_data"
    },
    {
     "data": {
      "text/plain": [
       "\"DB: opt gap = 1.0\""
      ]
     },
     "metadata": {},
     "output_type": "display_data"
    },
    {
     "data": {
      "text/plain": [
       "\">>>>>> iteration 1:O\""
      ]
     },
     "metadata": {},
     "output_type": "display_data"
    },
    {
     "data": {
      "text/plain": [
       "\"DB: opt gap = 1.0\""
      ]
     },
     "metadata": {},
     "output_type": "display_data"
    },
    {
     "data": {
      "text/plain": [
       "\">>>>>> iteration 2:O\""
      ]
     },
     "metadata": {},
     "output_type": "display_data"
    },
    {
     "data": {
      "text/plain": [
       "\"DB: opt gap = 1.0\""
      ]
     },
     "metadata": {},
     "output_type": "display_data"
    },
    {
     "data": {
      "text/plain": [
       "\">>>>>> iteration 3:O\""
      ]
     },
     "metadata": {},
     "output_type": "display_data"
    },
    {
     "data": {
      "text/plain": [
       "\"DB: opt gap = 1.0\""
      ]
     },
     "metadata": {},
     "output_type": "display_data"
    },
    {
     "data": {
      "text/plain": [
       "\">>>>>> iteration 4:O\""
      ]
     },
     "metadata": {},
     "output_type": "display_data"
    },
    {
     "data": {
      "text/plain": [
       "\"DB: opt gap = 0.9802033742418407\""
      ]
     },
     "metadata": {},
     "output_type": "display_data"
    },
    {
     "data": {
      "text/plain": [
       "\">>>>>> iteration 5:O\""
      ]
     },
     "metadata": {},
     "output_type": "display_data"
    },
    {
     "data": {
      "text/plain": [
       "\"DB: opt gap = 0.7093838853712368\""
      ]
     },
     "metadata": {},
     "output_type": "display_data"
    },
    {
     "data": {
      "text/plain": [
       "\">>>>>> iteration 6:O\""
      ]
     },
     "metadata": {},
     "output_type": "display_data"
    },
    {
     "data": {
      "text/plain": [
       "\"DB: opt gap = 0.5495769559262836\""
      ]
     },
     "metadata": {},
     "output_type": "display_data"
    },
    {
     "data": {
      "text/plain": [
       "\">>>>>> iteration 7:O\""
      ]
     },
     "metadata": {},
     "output_type": "display_data"
    },
    {
     "data": {
      "text/plain": [
       "\"DB: opt gap = 0.4354267743559576\""
      ]
     },
     "metadata": {},
     "output_type": "display_data"
    },
    {
     "data": {
      "text/plain": [
       "\">>>>>> iteration 8:O\""
      ]
     },
     "metadata": {},
     "output_type": "display_data"
    },
    {
     "data": {
      "text/plain": [
       "\"DB: opt gap = 0.39918523018851865\""
      ]
     },
     "metadata": {},
     "output_type": "display_data"
    },
    {
     "data": {
      "text/plain": [
       "\">>>>>> iteration 9:O\""
      ]
     },
     "metadata": {},
     "output_type": "display_data"
    },
    {
     "data": {
      "text/plain": [
       "\"DB: opt gap = 0.38617886516563804\""
      ]
     },
     "metadata": {},
     "output_type": "display_data"
    },
    {
     "data": {
      "text/plain": [
       "\">>>>>> iteration 10:O\""
      ]
     },
     "metadata": {},
     "output_type": "display_data"
    },
    {
     "data": {
      "text/plain": [
       "\"DB: opt gap = 0.024181825191930215\""
      ]
     },
     "metadata": {},
     "output_type": "display_data"
    },
    {
     "data": {
      "text/plain": [
       "\">>>>>> iteration 11:O\""
      ]
     },
     "metadata": {},
     "output_type": "display_data"
    },
    {
     "data": {
      "text/plain": [
       "\"DB: opt gap = 2.576115360801536e-5\""
      ]
     },
     "metadata": {},
     "output_type": "display_data"
    },
    {
     "data": {
      "text/plain": [
       "\"evaluating 4 reactors in parallel | option 3\""
      ]
     },
     "metadata": {},
     "output_type": "display_data"
    },
    {
     "data": {
      "text/plain": [
       "\"DB: opt gap = 1.0\""
      ]
     },
     "metadata": {},
     "output_type": "display_data"
    },
    {
     "data": {
      "text/plain": [
       "\">>>>>> iteration 1:O\""
      ]
     },
     "metadata": {},
     "output_type": "display_data"
    },
    {
     "data": {
      "text/plain": [
       "\"DB: opt gap = 1.0\""
      ]
     },
     "metadata": {},
     "output_type": "display_data"
    },
    {
     "data": {
      "text/plain": [
       "\">>>>>> iteration 2:O\""
      ]
     },
     "metadata": {},
     "output_type": "display_data"
    },
    {
     "data": {
      "text/plain": [
       "\"DB: opt gap = 1.0\""
      ]
     },
     "metadata": {},
     "output_type": "display_data"
    },
    {
     "data": {
      "text/plain": [
       "\">>>>>> iteration 3:O\""
      ]
     },
     "metadata": {},
     "output_type": "display_data"
    },
    {
     "data": {
      "text/plain": [
       "\"DB: opt gap = 1.0\""
      ]
     },
     "metadata": {},
     "output_type": "display_data"
    },
    {
     "data": {
      "text/plain": [
       "\">>>>>> iteration 4:O\""
      ]
     },
     "metadata": {},
     "output_type": "display_data"
    },
    {
     "data": {
      "text/plain": [
       "\"DB: opt gap = 0.9451659702554736\""
      ]
     },
     "metadata": {},
     "output_type": "display_data"
    },
    {
     "data": {
      "text/plain": [
       "\">>>>>> iteration 5:O\""
      ]
     },
     "metadata": {},
     "output_type": "display_data"
    },
    {
     "data": {
      "text/plain": [
       "\"DB: opt gap = 0.8827967664404763\""
      ]
     },
     "metadata": {},
     "output_type": "display_data"
    },
    {
     "data": {
      "text/plain": [
       "\">>>>>> iteration 6:O\""
      ]
     },
     "metadata": {},
     "output_type": "display_data"
    },
    {
     "data": {
      "text/plain": [
       "\"DB: opt gap = 0.054379019993288924\""
      ]
     },
     "metadata": {},
     "output_type": "display_data"
    },
    {
     "data": {
      "text/plain": [
       "\">>>>>> iteration 7:O\""
      ]
     },
     "metadata": {},
     "output_type": "display_data"
    },
    {
     "data": {
      "text/plain": [
       "\"DB: opt gap = 0.05352218611968895\""
      ]
     },
     "metadata": {},
     "output_type": "display_data"
    },
    {
     "data": {
      "text/plain": [
       "\">>>>>> iteration 8:O\""
      ]
     },
     "metadata": {},
     "output_type": "display_data"
    },
    {
     "data": {
      "text/plain": [
       "\"DB: opt gap = 0.052092947759117325\""
      ]
     },
     "metadata": {},
     "output_type": "display_data"
    },
    {
     "data": {
      "text/plain": [
       "\">>>>>> iteration 9:O\""
      ]
     },
     "metadata": {},
     "output_type": "display_data"
    },
    {
     "data": {
      "text/plain": [
       "\"DB: opt gap = 0.05180728257927619\""
      ]
     },
     "metadata": {},
     "output_type": "display_data"
    },
    {
     "data": {
      "text/plain": [
       "\">>>>>> iteration 10:O\""
      ]
     },
     "metadata": {},
     "output_type": "display_data"
    },
    {
     "data": {
      "text/plain": [
       "\">>>>>> iteration 11:F\""
      ]
     },
     "metadata": {},
     "output_type": "display_data"
    },
    {
     "data": {
      "text/plain": [
       "\"DB: opt gap = 0.05131215755857043\""
      ]
     },
     "metadata": {},
     "output_type": "display_data"
    },
    {
     "data": {
      "text/plain": [
       "\">>>>>> iteration 12:O\""
      ]
     },
     "metadata": {},
     "output_type": "display_data"
    },
    {
     "data": {
      "text/plain": [
       "\"DB: opt gap = 0.05067180734944474\""
      ]
     },
     "metadata": {},
     "output_type": "display_data"
    },
    {
     "data": {
      "text/plain": [
       "\">>>>>> iteration 13:O\""
      ]
     },
     "metadata": {},
     "output_type": "display_data"
    },
    {
     "data": {
      "text/plain": [
       "\"DB: opt gap = 0.00010539037375606887\""
      ]
     },
     "metadata": {},
     "output_type": "display_data"
    },
    {
     "data": {
      "text/plain": [
       "\"evaluating 5 reactors in parallel | option 3\""
      ]
     },
     "metadata": {},
     "output_type": "display_data"
    },
    {
     "data": {
      "text/plain": [
       "\"DB: opt gap = 1.0\""
      ]
     },
     "metadata": {},
     "output_type": "display_data"
    },
    {
     "data": {
      "text/plain": [
       "\">>>>>> iteration 1:O\""
      ]
     },
     "metadata": {},
     "output_type": "display_data"
    },
    {
     "data": {
      "text/plain": [
       "\"DB: opt gap = 1.0\""
      ]
     },
     "metadata": {},
     "output_type": "display_data"
    },
    {
     "data": {
      "text/plain": [
       "\">>>>>> iteration 2:O\""
      ]
     },
     "metadata": {},
     "output_type": "display_data"
    },
    {
     "data": {
      "text/plain": [
       "\"DB: opt gap = 1.0\""
      ]
     },
     "metadata": {},
     "output_type": "display_data"
    },
    {
     "data": {
      "text/plain": [
       "\">>>>>> iteration 3:O\""
      ]
     },
     "metadata": {},
     "output_type": "display_data"
    },
    {
     "data": {
      "text/plain": [
       "\"DB: opt gap = 1.0\""
      ]
     },
     "metadata": {},
     "output_type": "display_data"
    },
    {
     "data": {
      "text/plain": [
       "\">>>>>> iteration 4:O\""
      ]
     },
     "metadata": {},
     "output_type": "display_data"
    },
    {
     "data": {
      "text/plain": [
       "\"DB: opt gap = 0.7445402120734214\""
      ]
     },
     "metadata": {},
     "output_type": "display_data"
    },
    {
     "data": {
      "text/plain": [
       "\">>>>>> iteration 5:O\""
      ]
     },
     "metadata": {},
     "output_type": "display_data"
    },
    {
     "data": {
      "text/plain": [
       "\"DB: opt gap = 0.697307561516515\""
      ]
     },
     "metadata": {},
     "output_type": "display_data"
    },
    {
     "data": {
      "text/plain": [
       "\">>>>>> iteration 6:O\""
      ]
     },
     "metadata": {},
     "output_type": "display_data"
    },
    {
     "data": {
      "text/plain": [
       "\"DB: opt gap = 0.5108221934098853\""
      ]
     },
     "metadata": {},
     "output_type": "display_data"
    },
    {
     "data": {
      "text/plain": [
       "\">>>>>> iteration 7:O\""
      ]
     },
     "metadata": {},
     "output_type": "display_data"
    },
    {
     "data": {
      "text/plain": [
       "\"DB: opt gap = 0.4982039340576661\""
      ]
     },
     "metadata": {},
     "output_type": "display_data"
    },
    {
     "data": {
      "text/plain": [
       "\">>>>>> iteration 8:O\""
      ]
     },
     "metadata": {},
     "output_type": "display_data"
    },
    {
     "data": {
      "text/plain": [
       "\"DB: opt gap = 0.36958753147800805\""
      ]
     },
     "metadata": {},
     "output_type": "display_data"
    },
    {
     "data": {
      "text/plain": [
       "\">>>>>> iteration 9:O\""
      ]
     },
     "metadata": {},
     "output_type": "display_data"
    },
    {
     "data": {
      "text/plain": [
       "\"DB: opt gap = 0.437792090261518\""
      ]
     },
     "metadata": {},
     "output_type": "display_data"
    },
    {
     "data": {
      "text/plain": [
       "\">>>>>> iteration 10:O\""
      ]
     },
     "metadata": {},
     "output_type": "display_data"
    },
    {
     "data": {
      "text/plain": [
       "\"DB: opt gap = 0.07393400497363202\""
      ]
     },
     "metadata": {},
     "output_type": "display_data"
    },
    {
     "data": {
      "text/plain": [
       "\">>>>>> iteration 11:O\""
      ]
     },
     "metadata": {},
     "output_type": "display_data"
    },
    {
     "data": {
      "text/plain": [
       "\"DB: opt gap = 0.07345258514865217\""
      ]
     },
     "metadata": {},
     "output_type": "display_data"
    },
    {
     "data": {
      "text/plain": [
       "\">>>>>> iteration 12:O\""
      ]
     },
     "metadata": {},
     "output_type": "display_data"
    },
    {
     "data": {
      "text/plain": [
       "\"DB: opt gap = 0.07259315137108448\""
      ]
     },
     "metadata": {},
     "output_type": "display_data"
    },
    {
     "data": {
      "text/plain": [
       "\">>>>>> iteration 13:O\""
      ]
     },
     "metadata": {},
     "output_type": "display_data"
    },
    {
     "data": {
      "text/plain": [
       "\"DB: opt gap = 0.07213022784980856\""
      ]
     },
     "metadata": {},
     "output_type": "display_data"
    },
    {
     "data": {
      "text/plain": [
       "\">>>>>> iteration 14:O\""
      ]
     },
     "metadata": {},
     "output_type": "display_data"
    },
    {
     "data": {
      "text/plain": [
       "\"DB: opt gap = 0.0004170962104336273\""
      ]
     },
     "metadata": {},
     "output_type": "display_data"
    },
    {
     "data": {
      "text/plain": [
       "\"evaluating 6 reactors in parallel | option 3\""
      ]
     },
     "metadata": {},
     "output_type": "display_data"
    },
    {
     "data": {
      "text/plain": [
       "\"DB: opt gap = 1.0\""
      ]
     },
     "metadata": {},
     "output_type": "display_data"
    },
    {
     "data": {
      "text/plain": [
       "\">>>>>> iteration 1:O\""
      ]
     },
     "metadata": {},
     "output_type": "display_data"
    },
    {
     "data": {
      "text/plain": [
       "\"DB: opt gap = 1.0\""
      ]
     },
     "metadata": {},
     "output_type": "display_data"
    },
    {
     "data": {
      "text/plain": [
       "\">>>>>> iteration 2:O\""
      ]
     },
     "metadata": {},
     "output_type": "display_data"
    },
    {
     "data": {
      "text/plain": [
       "\"DB: opt gap = 1.0\""
      ]
     },
     "metadata": {},
     "output_type": "display_data"
    },
    {
     "data": {
      "text/plain": [
       "\">>>>>> iteration 3:O\""
      ]
     },
     "metadata": {},
     "output_type": "display_data"
    },
    {
     "data": {
      "text/plain": [
       "\"DB: opt gap = 1.0\""
      ]
     },
     "metadata": {},
     "output_type": "display_data"
    },
    {
     "data": {
      "text/plain": [
       "\">>>>>> iteration 4:O\""
      ]
     },
     "metadata": {},
     "output_type": "display_data"
    },
    {
     "data": {
      "text/plain": [
       "\"DB: opt gap = 0.980203487157734\""
      ]
     },
     "metadata": {},
     "output_type": "display_data"
    },
    {
     "data": {
      "text/plain": [
       "\">>>>>> iteration 5:O\""
      ]
     },
     "metadata": {},
     "output_type": "display_data"
    },
    {
     "data": {
      "text/plain": [
       "\"DB: opt gap = 0.7093842191724488\""
      ]
     },
     "metadata": {},
     "output_type": "display_data"
    },
    {
     "data": {
      "text/plain": [
       "\">>>>>> iteration 6:O\""
      ]
     },
     "metadata": {},
     "output_type": "display_data"
    },
    {
     "data": {
      "text/plain": [
       "\"DB: opt gap = 0.6962046116471489\""
      ]
     },
     "metadata": {},
     "output_type": "display_data"
    },
    {
     "data": {
      "text/plain": [
       "\">>>>>> iteration 7:O\""
      ]
     },
     "metadata": {},
     "output_type": "display_data"
    },
    {
     "data": {
      "text/plain": [
       "\"DB: opt gap = 0.0296514514139602\""
      ]
     },
     "metadata": {},
     "output_type": "display_data"
    },
    {
     "data": {
      "text/plain": [
       "\">>>>>> iteration 8:O\""
      ]
     },
     "metadata": {},
     "output_type": "display_data"
    },
    {
     "data": {
      "text/plain": [
       "\"DB: opt gap = 0.028791580828500675\""
      ]
     },
     "metadata": {},
     "output_type": "display_data"
    },
    {
     "data": {
      "text/plain": [
       "\">>>>>> iteration 9:O\""
      ]
     },
     "metadata": {},
     "output_type": "display_data"
    },
    {
     "data": {
      "text/plain": [
       "\"DB: opt gap = 0.028478458903002882\""
      ]
     },
     "metadata": {},
     "output_type": "display_data"
    },
    {
     "data": {
      "text/plain": [
       "\">>>>>> iteration 10:O\""
      ]
     },
     "metadata": {},
     "output_type": "display_data"
    },
    {
     "data": {
      "text/plain": [
       "\"DB: opt gap = 0.02775057722719373\""
      ]
     },
     "metadata": {},
     "output_type": "display_data"
    },
    {
     "data": {
      "text/plain": [
       "\">>>>>> iteration 11:O\""
      ]
     },
     "metadata": {},
     "output_type": "display_data"
    },
    {
     "data": {
      "text/plain": [
       "\"DB: opt gap = 0.027097982521333126\""
      ]
     },
     "metadata": {},
     "output_type": "display_data"
    },
    {
     "data": {
      "text/plain": [
       "\">>>>>> iteration 12:O\""
      ]
     },
     "metadata": {},
     "output_type": "display_data"
    },
    {
     "data": {
      "text/plain": [
       "\"DB: opt gap = 0.02682555859770338\""
      ]
     },
     "metadata": {},
     "output_type": "display_data"
    },
    {
     "data": {
      "text/plain": [
       "\">>>>>> iteration 13:O\""
      ]
     },
     "metadata": {},
     "output_type": "display_data"
    },
    {
     "data": {
      "text/plain": [
       "\"DB: opt gap = 0.026893441783690502\""
      ]
     },
     "metadata": {},
     "output_type": "display_data"
    },
    {
     "data": {
      "text/plain": [
       "\">>>>>> iteration 14:O\""
      ]
     },
     "metadata": {},
     "output_type": "display_data"
    },
    {
     "data": {
      "text/plain": [
       "\"DB: opt gap = 4.1551317746342024e-5\""
      ]
     },
     "metadata": {},
     "output_type": "display_data"
    },
    {
     "data": {
      "text/plain": [
       "\"evaluating 7 reactors in parallel | option 3\""
      ]
     },
     "metadata": {},
     "output_type": "display_data"
    },
    {
     "data": {
      "text/plain": [
       "\"DB: opt gap = 1.0\""
      ]
     },
     "metadata": {},
     "output_type": "display_data"
    },
    {
     "data": {
      "text/plain": [
       "\">>>>>> iteration 1:O\""
      ]
     },
     "metadata": {},
     "output_type": "display_data"
    },
    {
     "data": {
      "text/plain": [
       "\"DB: opt gap = 1.0\""
      ]
     },
     "metadata": {},
     "output_type": "display_data"
    },
    {
     "data": {
      "text/plain": [
       "\">>>>>> iteration 2:O\""
      ]
     },
     "metadata": {},
     "output_type": "display_data"
    },
    {
     "data": {
      "text/plain": [
       "\"DB: opt gap = 1.0\""
      ]
     },
     "metadata": {},
     "output_type": "display_data"
    },
    {
     "data": {
      "text/plain": [
       "\">>>>>> iteration 3:O\""
      ]
     },
     "metadata": {},
     "output_type": "display_data"
    },
    {
     "data": {
      "text/plain": [
       "\"DB: opt gap = 1.0\""
      ]
     },
     "metadata": {},
     "output_type": "display_data"
    },
    {
     "data": {
      "text/plain": [
       "\">>>>>> iteration 4:O\""
      ]
     },
     "metadata": {},
     "output_type": "display_data"
    },
    {
     "data": {
      "text/plain": [
       "\"DB: opt gap = 1.0\""
      ]
     },
     "metadata": {},
     "output_type": "display_data"
    },
    {
     "data": {
      "text/plain": [
       "\">>>>>> iteration 5:O\""
      ]
     },
     "metadata": {},
     "output_type": "display_data"
    },
    {
     "data": {
      "text/plain": [
       "\"DB: opt gap = 0.7302773846004565\""
      ]
     },
     "metadata": {},
     "output_type": "display_data"
    },
    {
     "data": {
      "text/plain": [
       "\">>>>>> iteration 6:O\""
      ]
     },
     "metadata": {},
     "output_type": "display_data"
    },
    {
     "data": {
      "text/plain": [
       "\"DB: opt gap = 0.6759311011788478\""
      ]
     },
     "metadata": {},
     "output_type": "display_data"
    },
    {
     "data": {
      "text/plain": [
       "\">>>>>> iteration 7:O\""
      ]
     },
     "metadata": {},
     "output_type": "display_data"
    },
    {
     "data": {
      "text/plain": [
       "\"DB: opt gap = 0.5302895621784953\""
      ]
     },
     "metadata": {},
     "output_type": "display_data"
    },
    {
     "data": {
      "text/plain": [
       "\">>>>>> iteration 8:O\""
      ]
     },
     "metadata": {},
     "output_type": "display_data"
    },
    {
     "data": {
      "text/plain": [
       "\"DB: opt gap = 0.5113174105784702\""
      ]
     },
     "metadata": {},
     "output_type": "display_data"
    },
    {
     "data": {
      "text/plain": [
       "\">>>>>> iteration 9:O\""
      ]
     },
     "metadata": {},
     "output_type": "display_data"
    },
    {
     "data": {
      "text/plain": [
       "\"DB: opt gap = 0.31140957880932074\""
      ]
     },
     "metadata": {},
     "output_type": "display_data"
    },
    {
     "data": {
      "text/plain": [
       "\">>>>>> iteration 10:O\""
      ]
     },
     "metadata": {},
     "output_type": "display_data"
    },
    {
     "data": {
      "text/plain": [
       "\"DB: opt gap = 0.34429267365204375\""
      ]
     },
     "metadata": {},
     "output_type": "display_data"
    },
    {
     "data": {
      "text/plain": [
       "\">>>>>> iteration 11:O\""
      ]
     },
     "metadata": {},
     "output_type": "display_data"
    },
    {
     "data": {
      "text/plain": [
       "\"DB: opt gap = 0.011808809521351257\""
      ]
     },
     "metadata": {},
     "output_type": "display_data"
    },
    {
     "data": {
      "text/plain": [
       "\">>>>>> iteration 12:O\""
      ]
     },
     "metadata": {},
     "output_type": "display_data"
    },
    {
     "data": {
      "text/plain": [
       "\"DB: opt gap = 0.011722760049933948\""
      ]
     },
     "metadata": {},
     "output_type": "display_data"
    },
    {
     "data": {
      "text/plain": [
       "\">>>>>> iteration 13:O\""
      ]
     },
     "metadata": {},
     "output_type": "display_data"
    },
    {
     "data": {
      "text/plain": [
       "\"DB: opt gap = 0.011696472316086769\""
      ]
     },
     "metadata": {},
     "output_type": "display_data"
    },
    {
     "data": {
      "text/plain": [
       "\">>>>>> iteration 14:O\""
      ]
     },
     "metadata": {},
     "output_type": "display_data"
    },
    {
     "data": {
      "text/plain": [
       "\">>>>>> iteration 15:F\""
      ]
     },
     "metadata": {},
     "output_type": "display_data"
    },
    {
     "data": {
      "text/plain": [
       "\">>>>>> iteration 16:F\""
      ]
     },
     "metadata": {},
     "output_type": "display_data"
    },
    {
     "data": {
      "text/plain": [
       "\">>>>>> iteration 17:F\""
      ]
     },
     "metadata": {},
     "output_type": "display_data"
    },
    {
     "data": {
      "text/plain": [
       "\">>>>>> iteration 18:F\""
      ]
     },
     "metadata": {},
     "output_type": "display_data"
    },
    {
     "data": {
      "text/plain": [
       "\">>>>>> iteration 19:F\""
      ]
     },
     "metadata": {},
     "output_type": "display_data"
    },
    {
     "data": {
      "text/plain": [
       "\">>>>>> iteration 20:F\""
      ]
     },
     "metadata": {},
     "output_type": "display_data"
    },
    {
     "data": {
      "text/plain": [
       "\">>>>>> iteration 21:F\""
      ]
     },
     "metadata": {},
     "output_type": "display_data"
    },
    {
     "data": {
      "text/plain": [
       "\">>>>>> iteration 22:F\""
      ]
     },
     "metadata": {},
     "output_type": "display_data"
    },
    {
     "data": {
      "text/plain": [
       "\">>>>>> iteration 23:F\""
      ]
     },
     "metadata": {},
     "output_type": "display_data"
    },
    {
     "data": {
      "text/plain": [
       "\">>>>>> iteration 24:F\""
      ]
     },
     "metadata": {},
     "output_type": "display_data"
    },
    {
     "data": {
      "text/plain": [
       "\">>>>>> iteration 25:F\""
      ]
     },
     "metadata": {},
     "output_type": "display_data"
    },
    {
     "data": {
      "text/plain": [
       "\">>>>>> iteration 26:F\""
      ]
     },
     "metadata": {},
     "output_type": "display_data"
    },
    {
     "data": {
      "text/plain": [
       "\">>>>>> iteration 27:F\""
      ]
     },
     "metadata": {},
     "output_type": "display_data"
    },
    {
     "data": {
      "text/plain": [
       "\">>>>>> iteration 28:F\""
      ]
     },
     "metadata": {},
     "output_type": "display_data"
    },
    {
     "data": {
      "text/plain": [
       "\">>>>>> iteration 29:F\""
      ]
     },
     "metadata": {},
     "output_type": "display_data"
    },
    {
     "data": {
      "text/plain": [
       "\">>>>>> iteration 30:F\""
      ]
     },
     "metadata": {},
     "output_type": "display_data"
    },
    {
     "data": {
      "text/plain": [
       "\">>>>>> iteration 31:F\""
      ]
     },
     "metadata": {},
     "output_type": "display_data"
    },
    {
     "data": {
      "text/plain": [
       "\">>>>>> iteration 32:F\""
      ]
     },
     "metadata": {},
     "output_type": "display_data"
    },
    {
     "data": {
      "text/plain": [
       "\">>>>>> iteration 33:F\""
      ]
     },
     "metadata": {},
     "output_type": "display_data"
    },
    {
     "data": {
      "text/plain": [
       "\">>>>>> iteration 34:F\""
      ]
     },
     "metadata": {},
     "output_type": "display_data"
    },
    {
     "data": {
      "text/plain": [
       "\">>>>>> iteration 35:F\""
      ]
     },
     "metadata": {},
     "output_type": "display_data"
    },
    {
     "data": {
      "text/plain": [
       "\">>>>>> iteration 36:F\""
      ]
     },
     "metadata": {},
     "output_type": "display_data"
    },
    {
     "data": {
      "text/plain": [
       "\">>>>>> iteration 37:F\""
      ]
     },
     "metadata": {},
     "output_type": "display_data"
    },
    {
     "data": {
      "text/plain": [
       "\">>>>>> iteration 38:F\""
      ]
     },
     "metadata": {},
     "output_type": "display_data"
    },
    {
     "data": {
      "text/plain": [
       "\">>>>>> iteration 39:F\""
      ]
     },
     "metadata": {},
     "output_type": "display_data"
    },
    {
     "data": {
      "text/plain": [
       "\">>>>>> iteration 40:F\""
      ]
     },
     "metadata": {},
     "output_type": "display_data"
    },
    {
     "data": {
      "text/plain": [
       "\">>>>>> iteration 41:F\""
      ]
     },
     "metadata": {},
     "output_type": "display_data"
    },
    {
     "data": {
      "text/plain": [
       "\">>>>>> iteration 42:F\""
      ]
     },
     "metadata": {},
     "output_type": "display_data"
    },
    {
     "data": {
      "text/plain": [
       "\">>>>>> iteration 43:F\""
      ]
     },
     "metadata": {},
     "output_type": "display_data"
    },
    {
     "data": {
      "text/plain": [
       "\">>>>>> iteration 44:F\""
      ]
     },
     "metadata": {},
     "output_type": "display_data"
    },
    {
     "data": {
      "text/plain": [
       "\">>>>>> iteration 45:F\""
      ]
     },
     "metadata": {},
     "output_type": "display_data"
    },
    {
     "data": {
      "text/plain": [
       "\">>>>>> iteration 46:F\""
      ]
     },
     "metadata": {},
     "output_type": "display_data"
    },
    {
     "data": {
      "text/plain": [
       "\">>>>>> iteration 47:F\""
      ]
     },
     "metadata": {},
     "output_type": "display_data"
    },
    {
     "data": {
      "text/plain": [
       "\">>>>>> iteration 48:F\""
      ]
     },
     "metadata": {},
     "output_type": "display_data"
    },
    {
     "data": {
      "text/plain": [
       "\">>>>>> iteration 49:F\""
      ]
     },
     "metadata": {},
     "output_type": "display_data"
    },
    {
     "data": {
      "text/plain": [
       "\">>>>>> iteration 50:F\""
      ]
     },
     "metadata": {},
     "output_type": "display_data"
    },
    {
     "data": {
      "text/plain": [
       "\"evaluating 8 reactors in parallel | option 3\""
      ]
     },
     "metadata": {},
     "output_type": "display_data"
    },
    {
     "data": {
      "text/plain": [
       "\"DB: opt gap = 1.0\""
      ]
     },
     "metadata": {},
     "output_type": "display_data"
    },
    {
     "data": {
      "text/plain": [
       "\">>>>>> iteration 1:O\""
      ]
     },
     "metadata": {},
     "output_type": "display_data"
    },
    {
     "data": {
      "text/plain": [
       "\"DB: opt gap = 1.0\""
      ]
     },
     "metadata": {},
     "output_type": "display_data"
    },
    {
     "data": {
      "text/plain": [
       "\">>>>>> iteration 2:O\""
      ]
     },
     "metadata": {},
     "output_type": "display_data"
    },
    {
     "data": {
      "text/plain": [
       "\"DB: opt gap = 1.0\""
      ]
     },
     "metadata": {},
     "output_type": "display_data"
    },
    {
     "data": {
      "text/plain": [
       "\">>>>>> iteration 3:O\""
      ]
     },
     "metadata": {},
     "output_type": "display_data"
    },
    {
     "data": {
      "text/plain": [
       "\"DB: opt gap = 1.0\""
      ]
     },
     "metadata": {},
     "output_type": "display_data"
    },
    {
     "data": {
      "text/plain": [
       "\">>>>>> iteration 4:O\""
      ]
     },
     "metadata": {},
     "output_type": "display_data"
    },
    {
     "data": {
      "text/plain": [
       "\"DB: opt gap = 0.8007665649311333\""
      ]
     },
     "metadata": {},
     "output_type": "display_data"
    },
    {
     "data": {
      "text/plain": [
       "\">>>>>> iteration 5:O\""
      ]
     },
     "metadata": {},
     "output_type": "display_data"
    },
    {
     "data": {
      "text/plain": [
       "\"DB: opt gap = 0.696271259347818\""
      ]
     },
     "metadata": {},
     "output_type": "display_data"
    },
    {
     "data": {
      "text/plain": [
       "\">>>>>> iteration 6:O\""
      ]
     },
     "metadata": {},
     "output_type": "display_data"
    },
    {
     "data": {
      "text/plain": [
       "\"DB: opt gap = 0.563636917096344\""
      ]
     },
     "metadata": {},
     "output_type": "display_data"
    },
    {
     "data": {
      "text/plain": [
       "\">>>>>> iteration 7:O\""
      ]
     },
     "metadata": {},
     "output_type": "display_data"
    },
    {
     "data": {
      "text/plain": [
       "\"DB: opt gap = 0.5248524838378347\""
      ]
     },
     "metadata": {},
     "output_type": "display_data"
    },
    {
     "data": {
      "text/plain": [
       "\">>>>>> iteration 8:O\""
      ]
     },
     "metadata": {},
     "output_type": "display_data"
    },
    {
     "data": {
      "text/plain": [
       "\"DB: opt gap = 0.47512832935235344\""
      ]
     },
     "metadata": {},
     "output_type": "display_data"
    },
    {
     "data": {
      "text/plain": [
       "\">>>>>> iteration 9:O\""
      ]
     },
     "metadata": {},
     "output_type": "display_data"
    },
    {
     "data": {
      "text/plain": [
       "\"DB: opt gap = 0.07154413188390582\""
      ]
     },
     "metadata": {},
     "output_type": "display_data"
    },
    {
     "data": {
      "text/plain": [
       "\">>>>>> iteration 10:O\""
      ]
     },
     "metadata": {},
     "output_type": "display_data"
    },
    {
     "data": {
      "text/plain": [
       "\"DB: opt gap = 0.07012027261482487\""
      ]
     },
     "metadata": {},
     "output_type": "display_data"
    },
    {
     "data": {
      "text/plain": [
       "\">>>>>> iteration 11:O\""
      ]
     },
     "metadata": {},
     "output_type": "display_data"
    },
    {
     "data": {
      "text/plain": [
       "\"DB: opt gap = 0.06967867134848427\""
      ]
     },
     "metadata": {},
     "output_type": "display_data"
    },
    {
     "data": {
      "text/plain": [
       "\">>>>>> iteration 12:O\""
      ]
     },
     "metadata": {},
     "output_type": "display_data"
    },
    {
     "data": {
      "text/plain": [
       "\"DB: opt gap = 0.06462867737415137\""
      ]
     },
     "metadata": {},
     "output_type": "display_data"
    },
    {
     "data": {
      "text/plain": [
       "\">>>>>> iteration 13:O\""
      ]
     },
     "metadata": {},
     "output_type": "display_data"
    },
    {
     "data": {
      "text/plain": [
       "\"DB: opt gap = 0.06349386370631212\""
      ]
     },
     "metadata": {},
     "output_type": "display_data"
    },
    {
     "data": {
      "text/plain": [
       "\">>>>>> iteration 14:O\""
      ]
     },
     "metadata": {},
     "output_type": "display_data"
    },
    {
     "data": {
      "text/plain": [
       "\"DB: opt gap = 0.0631416895740352\""
      ]
     },
     "metadata": {},
     "output_type": "display_data"
    },
    {
     "data": {
      "text/plain": [
       "\">>>>>> iteration 15:O\""
      ]
     },
     "metadata": {},
     "output_type": "display_data"
    },
    {
     "data": {
      "text/plain": [
       "\"DB: opt gap = 0.0006216171948761654\""
      ]
     },
     "metadata": {},
     "output_type": "display_data"
    },
    {
     "data": {
      "text/plain": [
       "\"evaluating 9 reactors in parallel | option 3\""
      ]
     },
     "metadata": {},
     "output_type": "display_data"
    },
    {
     "data": {
      "text/plain": [
       "\"DB: opt gap = 1.0\""
      ]
     },
     "metadata": {},
     "output_type": "display_data"
    },
    {
     "data": {
      "text/plain": [
       "\">>>>>> iteration 1:O\""
      ]
     },
     "metadata": {},
     "output_type": "display_data"
    },
    {
     "data": {
      "text/plain": [
       "\"DB: opt gap = 1.0\""
      ]
     },
     "metadata": {},
     "output_type": "display_data"
    },
    {
     "data": {
      "text/plain": [
       "\">>>>>> iteration 2:O\""
      ]
     },
     "metadata": {},
     "output_type": "display_data"
    },
    {
     "data": {
      "text/plain": [
       "\"DB: opt gap = 1.0\""
      ]
     },
     "metadata": {},
     "output_type": "display_data"
    },
    {
     "data": {
      "text/plain": [
       "\">>>>>> iteration 3:O\""
      ]
     },
     "metadata": {},
     "output_type": "display_data"
    },
    {
     "data": {
      "text/plain": [
       "\"DB: opt gap = 1.0\""
      ]
     },
     "metadata": {},
     "output_type": "display_data"
    },
    {
     "data": {
      "text/plain": [
       "\">>>>>> iteration 4:O\""
      ]
     },
     "metadata": {},
     "output_type": "display_data"
    },
    {
     "data": {
      "text/plain": [
       "\"DB: opt gap = 0.8007666558750642\""
      ]
     },
     "metadata": {},
     "output_type": "display_data"
    },
    {
     "data": {
      "text/plain": [
       "\">>>>>> iteration 5:O\""
      ]
     },
     "metadata": {},
     "output_type": "display_data"
    },
    {
     "data": {
      "text/plain": [
       "\"DB: opt gap = 0.6962716483645804\""
      ]
     },
     "metadata": {},
     "output_type": "display_data"
    },
    {
     "data": {
      "text/plain": [
       "\">>>>>> iteration 6:O\""
      ]
     },
     "metadata": {},
     "output_type": "display_data"
    },
    {
     "data": {
      "text/plain": [
       "\"DB: opt gap = 0.650586566778547\""
      ]
     },
     "metadata": {},
     "output_type": "display_data"
    },
    {
     "data": {
      "text/plain": [
       "\">>>>>> iteration 7:O\""
      ]
     },
     "metadata": {},
     "output_type": "display_data"
    },
    {
     "data": {
      "text/plain": [
       "\"DB: opt gap = 0.6215027108803\""
      ]
     },
     "metadata": {},
     "output_type": "display_data"
    },
    {
     "data": {
      "text/plain": [
       "\">>>>>> iteration 8:O\""
      ]
     },
     "metadata": {},
     "output_type": "display_data"
    },
    {
     "data": {
      "text/plain": [
       "\"DB: opt gap = 0.41437905212445375\""
      ]
     },
     "metadata": {},
     "output_type": "display_data"
    },
    {
     "data": {
      "text/plain": [
       "\">>>>>> iteration 9:O\""
      ]
     },
     "metadata": {},
     "output_type": "display_data"
    },
    {
     "data": {
      "text/plain": [
       "\"DB: opt gap = 0.45186437930440265\""
      ]
     },
     "metadata": {},
     "output_type": "display_data"
    },
    {
     "data": {
      "text/plain": [
       "\">>>>>> iteration 10:O\""
      ]
     },
     "metadata": {},
     "output_type": "display_data"
    },
    {
     "data": {
      "text/plain": [
       "\"DB: opt gap = 0.036078137698313875\""
      ]
     },
     "metadata": {},
     "output_type": "display_data"
    },
    {
     "data": {
      "text/plain": [
       "\">>>>>> iteration 11:O\""
      ]
     },
     "metadata": {},
     "output_type": "display_data"
    },
    {
     "data": {
      "text/plain": [
       "\"DB: opt gap = 0.03516108790847087\""
      ]
     },
     "metadata": {},
     "output_type": "display_data"
    },
    {
     "data": {
      "text/plain": [
       "\">>>>>> iteration 12:O\""
      ]
     },
     "metadata": {},
     "output_type": "display_data"
    },
    {
     "data": {
      "text/plain": [
       "\"DB: opt gap = 0.0347439252835429\""
      ]
     },
     "metadata": {},
     "output_type": "display_data"
    },
    {
     "data": {
      "text/plain": [
       "\">>>>>> iteration 13:O\""
      ]
     },
     "metadata": {},
     "output_type": "display_data"
    },
    {
     "data": {
      "text/plain": [
       "\"DB: opt gap = 0.03483270873888339\""
      ]
     },
     "metadata": {},
     "output_type": "display_data"
    },
    {
     "data": {
      "text/plain": [
       "\">>>>>> iteration 14:O\""
      ]
     },
     "metadata": {},
     "output_type": "display_data"
    },
    {
     "data": {
      "text/plain": [
       "\"DB: opt gap = 6.881283317048995e-5\""
      ]
     },
     "metadata": {},
     "output_type": "display_data"
    },
    {
     "data": {
      "text/plain": [
       "\"evaluating 10 reactors in parallel | option 3\""
      ]
     },
     "metadata": {},
     "output_type": "display_data"
    },
    {
     "data": {
      "text/plain": [
       "\"DB: opt gap = 1.0\""
      ]
     },
     "metadata": {},
     "output_type": "display_data"
    },
    {
     "data": {
      "text/plain": [
       "\">>>>>> iteration 1:O\""
      ]
     },
     "metadata": {},
     "output_type": "display_data"
    },
    {
     "data": {
      "text/plain": [
       "\"DB: opt gap = 1.0\""
      ]
     },
     "metadata": {},
     "output_type": "display_data"
    },
    {
     "data": {
      "text/plain": [
       "\">>>>>> iteration 2:O\""
      ]
     },
     "metadata": {},
     "output_type": "display_data"
    },
    {
     "data": {
      "text/plain": [
       "\"DB: opt gap = 1.0\""
      ]
     },
     "metadata": {},
     "output_type": "display_data"
    },
    {
     "data": {
      "text/plain": [
       "\">>>>>> iteration 3:O\""
      ]
     },
     "metadata": {},
     "output_type": "display_data"
    },
    {
     "data": {
      "text/plain": [
       "\"DB: opt gap = 1.0\""
      ]
     },
     "metadata": {},
     "output_type": "display_data"
    },
    {
     "data": {
      "text/plain": [
       "\">>>>>> iteration 4:O\""
      ]
     },
     "metadata": {},
     "output_type": "display_data"
    },
    {
     "data": {
      "text/plain": [
       "\"DB: opt gap = 0.8007666060983467\""
      ]
     },
     "metadata": {},
     "output_type": "display_data"
    },
    {
     "data": {
      "text/plain": [
       "\">>>>>> iteration 5:O\""
      ]
     },
     "metadata": {},
     "output_type": "display_data"
    },
    {
     "data": {
      "text/plain": [
       "\"DB: opt gap = 0.6962715198307611\""
      ]
     },
     "metadata": {},
     "output_type": "display_data"
    },
    {
     "data": {
      "text/plain": [
       "\">>>>>> iteration 6:O\""
      ]
     },
     "metadata": {},
     "output_type": "display_data"
    },
    {
     "data": {
      "text/plain": [
       "\"DB: opt gap = 0.6505862786411931\""
      ]
     },
     "metadata": {},
     "output_type": "display_data"
    },
    {
     "data": {
      "text/plain": [
       "\">>>>>> iteration 7:O\""
      ]
     },
     "metadata": {},
     "output_type": "display_data"
    },
    {
     "data": {
      "text/plain": [
       "\"DB: opt gap = 0.4895537383921786\""
      ]
     },
     "metadata": {},
     "output_type": "display_data"
    },
    {
     "data": {
      "text/plain": [
       "\">>>>>> iteration 8:O\""
      ]
     },
     "metadata": {},
     "output_type": "display_data"
    },
    {
     "data": {
      "text/plain": [
       "\"DB: opt gap = 0.5229527905791028\""
      ]
     },
     "metadata": {},
     "output_type": "display_data"
    },
    {
     "data": {
      "text/plain": [
       "\">>>>>> iteration 9:O\""
      ]
     },
     "metadata": {},
     "output_type": "display_data"
    },
    {
     "data": {
      "text/plain": [
       "\"DB: opt gap = 0.02953841034357555\""
      ]
     },
     "metadata": {},
     "output_type": "display_data"
    },
    {
     "data": {
      "text/plain": [
       "\">>>>>> iteration 10:O\""
      ]
     },
     "metadata": {},
     "output_type": "display_data"
    },
    {
     "data": {
      "text/plain": [
       "\"DB: opt gap = 0.029223799222403663\""
      ]
     },
     "metadata": {},
     "output_type": "display_data"
    },
    {
     "data": {
      "text/plain": [
       "\">>>>>> iteration 11:O\""
      ]
     },
     "metadata": {},
     "output_type": "display_data"
    },
    {
     "data": {
      "text/plain": [
       "\"DB: opt gap = 0.0285460514573981\""
      ]
     },
     "metadata": {},
     "output_type": "display_data"
    },
    {
     "data": {
      "text/plain": [
       "\">>>>>> iteration 12:O\""
      ]
     },
     "metadata": {},
     "output_type": "display_data"
    },
    {
     "data": {
      "text/plain": [
       "\"DB: opt gap = 0.028256211250269364\""
      ]
     },
     "metadata": {},
     "output_type": "display_data"
    },
    {
     "data": {
      "text/plain": [
       "\">>>>>> iteration 13:O\""
      ]
     },
     "metadata": {},
     "output_type": "display_data"
    },
    {
     "data": {
      "text/plain": [
       "\"DB: opt gap = 0.027730395639069854\""
      ]
     },
     "metadata": {},
     "output_type": "display_data"
    },
    {
     "data": {
      "text/plain": [
       "\">>>>>> iteration 14:O\""
      ]
     },
     "metadata": {},
     "output_type": "display_data"
    },
    {
     "data": {
      "text/plain": [
       "\"DB: opt gap = 0.02745872443765373\""
      ]
     },
     "metadata": {},
     "output_type": "display_data"
    },
    {
     "data": {
      "text/plain": [
       "\">>>>>> iteration 15:O\""
      ]
     },
     "metadata": {},
     "output_type": "display_data"
    },
    {
     "data": {
      "text/plain": [
       "\"DB: opt gap = 0.02687032802481677\""
      ]
     },
     "metadata": {},
     "output_type": "display_data"
    },
    {
     "data": {
      "text/plain": [
       "\">>>>>> iteration 16:O\""
      ]
     },
     "metadata": {},
     "output_type": "display_data"
    },
    {
     "data": {
      "text/plain": [
       "\"DB: opt gap = 0.02661877762505219\""
      ]
     },
     "metadata": {},
     "output_type": "display_data"
    },
    {
     "data": {
      "text/plain": [
       "\">>>>>> iteration 17:O\""
      ]
     },
     "metadata": {},
     "output_type": "display_data"
    },
    {
     "data": {
      "text/plain": [
       "\"DB: opt gap = 0.00016223332572475141\""
      ]
     },
     "metadata": {},
     "output_type": "display_data"
    },
    {
     "data": {
      "text/plain": [
       "\"evaluating 11 reactors in parallel | option 3\""
      ]
     },
     "metadata": {},
     "output_type": "display_data"
    },
    {
     "data": {
      "text/plain": [
       "\"DB: opt gap = 1.0\""
      ]
     },
     "metadata": {},
     "output_type": "display_data"
    },
    {
     "data": {
      "text/plain": [
       "\">>>>>> iteration 1:O\""
      ]
     },
     "metadata": {},
     "output_type": "display_data"
    },
    {
     "data": {
      "text/plain": [
       "\"DB: opt gap = 1.0\""
      ]
     },
     "metadata": {},
     "output_type": "display_data"
    },
    {
     "data": {
      "text/plain": [
       "\">>>>>> iteration 2:O\""
      ]
     },
     "metadata": {},
     "output_type": "display_data"
    },
    {
     "data": {
      "text/plain": [
       "\"DB: opt gap = 1.0\""
      ]
     },
     "metadata": {},
     "output_type": "display_data"
    },
    {
     "data": {
      "text/plain": [
       "\">>>>>> iteration 3:O\""
      ]
     },
     "metadata": {},
     "output_type": "display_data"
    },
    {
     "data": {
      "text/plain": [
       "\"DB: opt gap = 1.0\""
      ]
     },
     "metadata": {},
     "output_type": "display_data"
    },
    {
     "data": {
      "text/plain": [
       "\">>>>>> iteration 4:O\""
      ]
     },
     "metadata": {},
     "output_type": "display_data"
    },
    {
     "data": {
      "text/plain": [
       "\"DB: opt gap = 0.744540032991547\""
      ]
     },
     "metadata": {},
     "output_type": "display_data"
    },
    {
     "data": {
      "text/plain": [
       "\">>>>>> iteration 5:O\""
      ]
     },
     "metadata": {},
     "output_type": "display_data"
    },
    {
     "data": {
      "text/plain": [
       "\"DB: opt gap = 0.6454010906096372\""
      ]
     },
     "metadata": {},
     "output_type": "display_data"
    },
    {
     "data": {
      "text/plain": [
       "\">>>>>> iteration 6:O\""
      ]
     },
     "metadata": {},
     "output_type": "display_data"
    },
    {
     "data": {
      "text/plain": [
       "\"DB: opt gap = 0.512868502772435\""
      ]
     },
     "metadata": {},
     "output_type": "display_data"
    },
    {
     "data": {
      "text/plain": [
       "\">>>>>> iteration 7:O\""
      ]
     },
     "metadata": {},
     "output_type": "display_data"
    },
    {
     "data": {
      "text/plain": [
       "\"DB: opt gap = 0.46140637681656216\""
      ]
     },
     "metadata": {},
     "output_type": "display_data"
    },
    {
     "data": {
      "text/plain": [
       "\">>>>>> iteration 8:O\""
      ]
     },
     "metadata": {},
     "output_type": "display_data"
    },
    {
     "data": {
      "text/plain": [
       "\"DB: opt gap = 0.42313130345959327\""
      ]
     },
     "metadata": {},
     "output_type": "display_data"
    },
    {
     "data": {
      "text/plain": [
       "\">>>>>> iteration 9:O\""
      ]
     },
     "metadata": {},
     "output_type": "display_data"
    },
    {
     "data": {
      "text/plain": [
       "\"DB: opt gap = 0.4432023916188754\""
      ]
     },
     "metadata": {},
     "output_type": "display_data"
    },
    {
     "data": {
      "text/plain": [
       "\">>>>>> iteration 10:O\""
      ]
     },
     "metadata": {},
     "output_type": "display_data"
    },
    {
     "data": {
      "text/plain": [
       "\"DB: opt gap = 0.07279486033893198\""
      ]
     },
     "metadata": {},
     "output_type": "display_data"
    },
    {
     "data": {
      "text/plain": [
       "\">>>>>> iteration 11:O\""
      ]
     },
     "metadata": {},
     "output_type": "display_data"
    },
    {
     "data": {
      "text/plain": [
       "\"DB: opt gap = 0.07152630474448783\""
      ]
     },
     "metadata": {},
     "output_type": "display_data"
    },
    {
     "data": {
      "text/plain": [
       "\">>>>>> iteration 12:O\""
      ]
     },
     "metadata": {},
     "output_type": "display_data"
    },
    {
     "data": {
      "text/plain": [
       "\"DB: opt gap = 0.00048418462724580155\""
      ]
     },
     "metadata": {},
     "output_type": "display_data"
    },
    {
     "data": {
      "text/plain": [
       "\"evaluating 12 reactors in parallel | option 3\""
      ]
     },
     "metadata": {},
     "output_type": "display_data"
    },
    {
     "data": {
      "text/plain": [
       "\"DB: opt gap = 1.0\""
      ]
     },
     "metadata": {},
     "output_type": "display_data"
    },
    {
     "data": {
      "text/plain": [
       "\">>>>>> iteration 1:O\""
      ]
     },
     "metadata": {},
     "output_type": "display_data"
    },
    {
     "data": {
      "text/plain": [
       "\"DB: opt gap = 1.0\""
      ]
     },
     "metadata": {},
     "output_type": "display_data"
    },
    {
     "data": {
      "text/plain": [
       "\">>>>>> iteration 2:O\""
      ]
     },
     "metadata": {},
     "output_type": "display_data"
    },
    {
     "data": {
      "text/plain": [
       "\"DB: opt gap = 1.0\""
      ]
     },
     "metadata": {},
     "output_type": "display_data"
    },
    {
     "data": {
      "text/plain": [
       "\">>>>>> iteration 3:O\""
      ]
     },
     "metadata": {},
     "output_type": "display_data"
    },
    {
     "data": {
      "text/plain": [
       "\"DB: opt gap = 1.0\""
      ]
     },
     "metadata": {},
     "output_type": "display_data"
    },
    {
     "data": {
      "text/plain": [
       "\">>>>>> iteration 4:O\""
      ]
     },
     "metadata": {},
     "output_type": "display_data"
    },
    {
     "data": {
      "text/plain": [
       "\"DB: opt gap = 1.0\""
      ]
     },
     "metadata": {},
     "output_type": "display_data"
    },
    {
     "data": {
      "text/plain": [
       "\">>>>>> iteration 5:O\""
      ]
     },
     "metadata": {},
     "output_type": "display_data"
    },
    {
     "data": {
      "text/plain": [
       "\"DB: opt gap = 1.0\""
      ]
     },
     "metadata": {},
     "output_type": "display_data"
    },
    {
     "data": {
      "text/plain": [
       "\">>>>>> iteration 6:O\""
      ]
     },
     "metadata": {},
     "output_type": "display_data"
    },
    {
     "data": {
      "text/plain": [
       "\"DB: opt gap = 0.9565931125954272\""
      ]
     },
     "metadata": {},
     "output_type": "display_data"
    },
    {
     "data": {
      "text/plain": [
       "\">>>>>> iteration 7:O\""
      ]
     },
     "metadata": {},
     "output_type": "display_data"
    },
    {
     "data": {
      "text/plain": [
       "\"DB: opt gap = 0.05249163157164497\""
      ]
     },
     "metadata": {},
     "output_type": "display_data"
    },
    {
     "data": {
      "text/plain": [
       "\">>>>>> iteration 8:O\""
      ]
     },
     "metadata": {},
     "output_type": "display_data"
    },
    {
     "data": {
      "text/plain": [
       "\">>>>>> iteration 9:F\""
      ]
     },
     "metadata": {},
     "output_type": "display_data"
    },
    {
     "data": {
      "text/plain": [
       "\"DB: opt gap = 0.05137380186163623\""
      ]
     },
     "metadata": {},
     "output_type": "display_data"
    },
    {
     "data": {
      "text/plain": [
       "\">>>>>> iteration 10:O\""
      ]
     },
     "metadata": {},
     "output_type": "display_data"
    },
    {
     "data": {
      "text/plain": [
       "\"DB: opt gap = 0.0398566982103029\""
      ]
     },
     "metadata": {},
     "output_type": "display_data"
    },
    {
     "data": {
      "text/plain": [
       "\">>>>>> iteration 11:O\""
      ]
     },
     "metadata": {},
     "output_type": "display_data"
    },
    {
     "data": {
      "text/plain": [
       "\"DB: opt gap = 0.0006387182636802269\""
      ]
     },
     "metadata": {},
     "output_type": "display_data"
    },
    {
     "data": {
      "text/plain": [
       "\"evaluating 13 reactors in parallel | option 3\""
      ]
     },
     "metadata": {},
     "output_type": "display_data"
    },
    {
     "data": {
      "text/plain": [
       "\"DB: opt gap = 1.0\""
      ]
     },
     "metadata": {},
     "output_type": "display_data"
    },
    {
     "data": {
      "text/plain": [
       "\">>>>>> iteration 1:O\""
      ]
     },
     "metadata": {},
     "output_type": "display_data"
    },
    {
     "data": {
      "text/plain": [
       "\"DB: opt gap = 1.0\""
      ]
     },
     "metadata": {},
     "output_type": "display_data"
    },
    {
     "data": {
      "text/plain": [
       "\">>>>>> iteration 2:O\""
      ]
     },
     "metadata": {},
     "output_type": "display_data"
    },
    {
     "data": {
      "text/plain": [
       "\"DB: opt gap = 1.0\""
      ]
     },
     "metadata": {},
     "output_type": "display_data"
    },
    {
     "data": {
      "text/plain": [
       "\">>>>>> iteration 3:O\""
      ]
     },
     "metadata": {},
     "output_type": "display_data"
    },
    {
     "data": {
      "text/plain": [
       "\"DB: opt gap = 1.0\""
      ]
     },
     "metadata": {},
     "output_type": "display_data"
    },
    {
     "data": {
      "text/plain": [
       "\">>>>>> iteration 4:O\""
      ]
     },
     "metadata": {},
     "output_type": "display_data"
    },
    {
     "data": {
      "text/plain": [
       "\"DB: opt gap = 0.9802033481982277\""
      ]
     },
     "metadata": {},
     "output_type": "display_data"
    },
    {
     "data": {
      "text/plain": [
       "\">>>>>> iteration 5:O\""
      ]
     },
     "metadata": {},
     "output_type": "display_data"
    },
    {
     "data": {
      "text/plain": [
       "\"DB: opt gap = 0.8611206027481668\""
      ]
     },
     "metadata": {},
     "output_type": "display_data"
    },
    {
     "data": {
      "text/plain": [
       "\">>>>>> iteration 6:O\""
      ]
     },
     "metadata": {},
     "output_type": "display_data"
    },
    {
     "data": {
      "text/plain": [
       "\"DB: opt gap = 0.8428716577568803\""
      ]
     },
     "metadata": {},
     "output_type": "display_data"
    },
    {
     "data": {
      "text/plain": [
       "\">>>>>> iteration 7:O\""
      ]
     },
     "metadata": {},
     "output_type": "display_data"
    },
    {
     "data": {
      "text/plain": [
       "\"DB: opt gap = 0.05016481593102024\""
      ]
     },
     "metadata": {},
     "output_type": "display_data"
    },
    {
     "data": {
      "text/plain": [
       "\">>>>>> iteration 8:O\""
      ]
     },
     "metadata": {},
     "output_type": "display_data"
    },
    {
     "data": {
      "text/plain": [
       "\"DB: opt gap = 0.04953917147693356\""
      ]
     },
     "metadata": {},
     "output_type": "display_data"
    },
    {
     "data": {
      "text/plain": [
       "\">>>>>> iteration 9:O\""
      ]
     },
     "metadata": {},
     "output_type": "display_data"
    },
    {
     "data": {
      "text/plain": [
       "\"DB: opt gap = 0.04851626617586\""
      ]
     },
     "metadata": {},
     "output_type": "display_data"
    },
    {
     "data": {
      "text/plain": [
       "\">>>>>> iteration 10:O\""
      ]
     },
     "metadata": {},
     "output_type": "display_data"
    },
    {
     "data": {
      "text/plain": [
       "\"DB: opt gap = 0.0480464713277158\""
      ]
     },
     "metadata": {},
     "output_type": "display_data"
    },
    {
     "data": {
      "text/plain": [
       "\">>>>>> iteration 11:O\""
      ]
     },
     "metadata": {},
     "output_type": "display_data"
    },
    {
     "data": {
      "text/plain": [
       "\"DB: opt gap = 0.04539080266991891\""
      ]
     },
     "metadata": {},
     "output_type": "display_data"
    },
    {
     "data": {
      "text/plain": [
       "\">>>>>> iteration 12:O\""
      ]
     },
     "metadata": {},
     "output_type": "display_data"
    },
    {
     "data": {
      "text/plain": [
       "\"DB: opt gap = 0.04131461898917923\""
      ]
     },
     "metadata": {},
     "output_type": "display_data"
    },
    {
     "data": {
      "text/plain": [
       "\">>>>>> iteration 13:O\""
      ]
     },
     "metadata": {},
     "output_type": "display_data"
    },
    {
     "data": {
      "text/plain": [
       "\"DB: opt gap = 0.040815667317024996\""
      ]
     },
     "metadata": {},
     "output_type": "display_data"
    },
    {
     "data": {
      "text/plain": [
       "\">>>>>> iteration 14:O\""
      ]
     },
     "metadata": {},
     "output_type": "display_data"
    },
    {
     "data": {
      "text/plain": [
       "\"DB: opt gap = 0.03976411829116553\""
      ]
     },
     "metadata": {},
     "output_type": "display_data"
    },
    {
     "data": {
      "text/plain": [
       "\">>>>>> iteration 15:O\""
      ]
     },
     "metadata": {},
     "output_type": "display_data"
    },
    {
     "data": {
      "text/plain": [
       "\"DB: opt gap = 0.03930806585299345\""
      ]
     },
     "metadata": {},
     "output_type": "display_data"
    },
    {
     "data": {
      "text/plain": [
       "\">>>>>> iteration 16:O\""
      ]
     },
     "metadata": {},
     "output_type": "display_data"
    },
    {
     "data": {
      "text/plain": [
       "\"DB: opt gap = 0.0003767645857591953\""
      ]
     },
     "metadata": {},
     "output_type": "display_data"
    },
    {
     "data": {
      "text/plain": [
       "\"evaluating 14 reactors in parallel | option 3\""
      ]
     },
     "metadata": {},
     "output_type": "display_data"
    },
    {
     "data": {
      "text/plain": [
       "\"DB: opt gap = 1.0\""
      ]
     },
     "metadata": {},
     "output_type": "display_data"
    },
    {
     "data": {
      "text/plain": [
       "\">>>>>> iteration 1:O\""
      ]
     },
     "metadata": {},
     "output_type": "display_data"
    },
    {
     "data": {
      "text/plain": [
       "\"DB: opt gap = 1.0\""
      ]
     },
     "metadata": {},
     "output_type": "display_data"
    },
    {
     "data": {
      "text/plain": [
       "\">>>>>> iteration 2:O\""
      ]
     },
     "metadata": {},
     "output_type": "display_data"
    },
    {
     "data": {
      "text/plain": [
       "\"DB: opt gap = 1.0\""
      ]
     },
     "metadata": {},
     "output_type": "display_data"
    },
    {
     "data": {
      "text/plain": [
       "\">>>>>> iteration 3:O\""
      ]
     },
     "metadata": {},
     "output_type": "display_data"
    },
    {
     "data": {
      "text/plain": [
       "\"DB: opt gap = 1.0\""
      ]
     },
     "metadata": {},
     "output_type": "display_data"
    },
    {
     "data": {
      "text/plain": [
       "\">>>>>> iteration 4:O\""
      ]
     },
     "metadata": {},
     "output_type": "display_data"
    },
    {
     "data": {
      "text/plain": [
       "\"DB: opt gap = 0.9500753863210029\""
      ]
     },
     "metadata": {},
     "output_type": "display_data"
    },
    {
     "data": {
      "text/plain": [
       "\">>>>>> iteration 5:O\""
      ]
     },
     "metadata": {},
     "output_type": "display_data"
    },
    {
     "data": {
      "text/plain": [
       "\"DB: opt gap = 0.735950291984904\""
      ]
     },
     "metadata": {},
     "output_type": "display_data"
    },
    {
     "data": {
      "text/plain": [
       "\">>>>>> iteration 6:O\""
      ]
     },
     "metadata": {},
     "output_type": "display_data"
    },
    {
     "data": {
      "text/plain": [
       "\"DB: opt gap = 0.6872568124546266\""
      ]
     },
     "metadata": {},
     "output_type": "display_data"
    },
    {
     "data": {
      "text/plain": [
       "\">>>>>> iteration 7:O\""
      ]
     },
     "metadata": {},
     "output_type": "display_data"
    },
    {
     "data": {
      "text/plain": [
       "\"DB: opt gap = 0.5209177166639537\""
      ]
     },
     "metadata": {},
     "output_type": "display_data"
    },
    {
     "data": {
      "text/plain": [
       "\">>>>>> iteration 8:O\""
      ]
     },
     "metadata": {},
     "output_type": "display_data"
    },
    {
     "data": {
      "text/plain": [
       "\"DB: opt gap = 0.2995212478391194\""
      ]
     },
     "metadata": {},
     "output_type": "display_data"
    },
    {
     "data": {
      "text/plain": [
       "\">>>>>> iteration 9:O\""
      ]
     },
     "metadata": {},
     "output_type": "display_data"
    },
    {
     "data": {
      "text/plain": [
       "\">>>>>> iteration 10:F\""
      ]
     },
     "metadata": {},
     "output_type": "display_data"
    },
    {
     "data": {
      "text/plain": [
       "\"DB: opt gap = 0.2884667297545597\""
      ]
     },
     "metadata": {},
     "output_type": "display_data"
    },
    {
     "data": {
      "text/plain": [
       "\">>>>>> iteration 11:O\""
      ]
     },
     "metadata": {},
     "output_type": "display_data"
    },
    {
     "data": {
      "text/plain": [
       "\"DB: opt gap = 0.28617734469846806\""
      ]
     },
     "metadata": {},
     "output_type": "display_data"
    },
    {
     "data": {
      "text/plain": [
       "\">>>>>> iteration 12:O\""
      ]
     },
     "metadata": {},
     "output_type": "display_data"
    },
    {
     "data": {
      "text/plain": [
       "\"DB: opt gap = 0.012316023792556719\""
      ]
     },
     "metadata": {},
     "output_type": "display_data"
    },
    {
     "data": {
      "text/plain": [
       "\">>>>>> iteration 13:O\""
      ]
     },
     "metadata": {},
     "output_type": "display_data"
    },
    {
     "data": {
      "text/plain": [
       "\"DB: opt gap = 0.012237256924647635\""
      ]
     },
     "metadata": {},
     "output_type": "display_data"
    },
    {
     "data": {
      "text/plain": [
       "\">>>>>> iteration 14:O\""
      ]
     },
     "metadata": {},
     "output_type": "display_data"
    },
    {
     "data": {
      "text/plain": [
       "\">>>>>> iteration 15:F\""
      ]
     },
     "metadata": {},
     "output_type": "display_data"
    },
    {
     "data": {
      "text/plain": [
       "\">>>>>> iteration 16:F\""
      ]
     },
     "metadata": {},
     "output_type": "display_data"
    },
    {
     "data": {
      "text/plain": [
       "\">>>>>> iteration 17:F\""
      ]
     },
     "metadata": {},
     "output_type": "display_data"
    },
    {
     "data": {
      "text/plain": [
       "\">>>>>> iteration 18:F\""
      ]
     },
     "metadata": {},
     "output_type": "display_data"
    },
    {
     "data": {
      "text/plain": [
       "\">>>>>> iteration 19:F\""
      ]
     },
     "metadata": {},
     "output_type": "display_data"
    },
    {
     "data": {
      "text/plain": [
       "\">>>>>> iteration 20:F\""
      ]
     },
     "metadata": {},
     "output_type": "display_data"
    },
    {
     "data": {
      "text/plain": [
       "\">>>>>> iteration 21:F\""
      ]
     },
     "metadata": {},
     "output_type": "display_data"
    },
    {
     "data": {
      "text/plain": [
       "\">>>>>> iteration 22:F\""
      ]
     },
     "metadata": {},
     "output_type": "display_data"
    },
    {
     "data": {
      "text/plain": [
       "\">>>>>> iteration 23:F\""
      ]
     },
     "metadata": {},
     "output_type": "display_data"
    },
    {
     "data": {
      "text/plain": [
       "\">>>>>> iteration 24:F\""
      ]
     },
     "metadata": {},
     "output_type": "display_data"
    },
    {
     "data": {
      "text/plain": [
       "\">>>>>> iteration 25:F\""
      ]
     },
     "metadata": {},
     "output_type": "display_data"
    },
    {
     "data": {
      "text/plain": [
       "\">>>>>> iteration 26:F\""
      ]
     },
     "metadata": {},
     "output_type": "display_data"
    },
    {
     "data": {
      "text/plain": [
       "\">>>>>> iteration 27:F\""
      ]
     },
     "metadata": {},
     "output_type": "display_data"
    },
    {
     "data": {
      "text/plain": [
       "\">>>>>> iteration 28:F\""
      ]
     },
     "metadata": {},
     "output_type": "display_data"
    },
    {
     "data": {
      "text/plain": [
       "\">>>>>> iteration 29:F\""
      ]
     },
     "metadata": {},
     "output_type": "display_data"
    },
    {
     "data": {
      "text/plain": [
       "\">>>>>> iteration 30:F\""
      ]
     },
     "metadata": {},
     "output_type": "display_data"
    },
    {
     "data": {
      "text/plain": [
       "\">>>>>> iteration 31:F\""
      ]
     },
     "metadata": {},
     "output_type": "display_data"
    },
    {
     "data": {
      "text/plain": [
       "\">>>>>> iteration 32:F\""
      ]
     },
     "metadata": {},
     "output_type": "display_data"
    },
    {
     "data": {
      "text/plain": [
       "\">>>>>> iteration 33:F\""
      ]
     },
     "metadata": {},
     "output_type": "display_data"
    },
    {
     "data": {
      "text/plain": [
       "\">>>>>> iteration 34:F\""
      ]
     },
     "metadata": {},
     "output_type": "display_data"
    },
    {
     "data": {
      "text/plain": [
       "\">>>>>> iteration 35:F\""
      ]
     },
     "metadata": {},
     "output_type": "display_data"
    },
    {
     "data": {
      "text/plain": [
       "\">>>>>> iteration 36:F\""
      ]
     },
     "metadata": {},
     "output_type": "display_data"
    },
    {
     "data": {
      "text/plain": [
       "\">>>>>> iteration 37:F\""
      ]
     },
     "metadata": {},
     "output_type": "display_data"
    },
    {
     "data": {
      "text/plain": [
       "\">>>>>> iteration 38:F\""
      ]
     },
     "metadata": {},
     "output_type": "display_data"
    },
    {
     "data": {
      "text/plain": [
       "\">>>>>> iteration 39:F\""
      ]
     },
     "metadata": {},
     "output_type": "display_data"
    },
    {
     "data": {
      "text/plain": [
       "\">>>>>> iteration 40:F\""
      ]
     },
     "metadata": {},
     "output_type": "display_data"
    },
    {
     "data": {
      "text/plain": [
       "\">>>>>> iteration 41:F\""
      ]
     },
     "metadata": {},
     "output_type": "display_data"
    },
    {
     "data": {
      "text/plain": [
       "\">>>>>> iteration 42:F\""
      ]
     },
     "metadata": {},
     "output_type": "display_data"
    },
    {
     "data": {
      "text/plain": [
       "\">>>>>> iteration 43:F\""
      ]
     },
     "metadata": {},
     "output_type": "display_data"
    },
    {
     "data": {
      "text/plain": [
       "\">>>>>> iteration 44:F\""
      ]
     },
     "metadata": {},
     "output_type": "display_data"
    },
    {
     "data": {
      "text/plain": [
       "\">>>>>> iteration 45:F\""
      ]
     },
     "metadata": {},
     "output_type": "display_data"
    },
    {
     "data": {
      "text/plain": [
       "\">>>>>> iteration 46:F\""
      ]
     },
     "metadata": {},
     "output_type": "display_data"
    },
    {
     "data": {
      "text/plain": [
       "\">>>>>> iteration 47:F\""
      ]
     },
     "metadata": {},
     "output_type": "display_data"
    },
    {
     "data": {
      "text/plain": [
       "\">>>>>> iteration 48:F\""
      ]
     },
     "metadata": {},
     "output_type": "display_data"
    },
    {
     "data": {
      "text/plain": [
       "\">>>>>> iteration 49:F\""
      ]
     },
     "metadata": {},
     "output_type": "display_data"
    },
    {
     "data": {
      "text/plain": [
       "\">>>>>> iteration 50:F\""
      ]
     },
     "metadata": {},
     "output_type": "display_data"
    },
    {
     "data": {
      "text/plain": [
       "\"evaluating 15 reactors in parallel | option 3\""
      ]
     },
     "metadata": {},
     "output_type": "display_data"
    },
    {
     "data": {
      "text/plain": [
       "\"DB: opt gap = 1.0\""
      ]
     },
     "metadata": {},
     "output_type": "display_data"
    },
    {
     "data": {
      "text/plain": [
       "\">>>>>> iteration 1:O\""
      ]
     },
     "metadata": {},
     "output_type": "display_data"
    },
    {
     "data": {
      "text/plain": [
       "\"DB: opt gap = 1.0\""
      ]
     },
     "metadata": {},
     "output_type": "display_data"
    },
    {
     "data": {
      "text/plain": [
       "\">>>>>> iteration 2:O\""
      ]
     },
     "metadata": {},
     "output_type": "display_data"
    },
    {
     "data": {
      "text/plain": [
       "\"DB: opt gap = 1.0\""
      ]
     },
     "metadata": {},
     "output_type": "display_data"
    },
    {
     "data": {
      "text/plain": [
       "\">>>>>> iteration 3:O\""
      ]
     },
     "metadata": {},
     "output_type": "display_data"
    },
    {
     "data": {
      "text/plain": [
       "\"DB: opt gap = 1.0\""
      ]
     },
     "metadata": {},
     "output_type": "display_data"
    },
    {
     "data": {
      "text/plain": [
       "\">>>>>> iteration 4:O\""
      ]
     },
     "metadata": {},
     "output_type": "display_data"
    },
    {
     "data": {
      "text/plain": [
       "\"DB: opt gap = 0.7445403233291582\""
      ]
     },
     "metadata": {},
     "output_type": "display_data"
    },
    {
     "data": {
      "text/plain": [
       "\">>>>>> iteration 5:O\""
      ]
     },
     "metadata": {},
     "output_type": "display_data"
    },
    {
     "data": {
      "text/plain": [
       "\"DB: opt gap = 0.6973075571607341\""
      ]
     },
     "metadata": {},
     "output_type": "display_data"
    },
    {
     "data": {
      "text/plain": [
       "\">>>>>> iteration 6:O\""
      ]
     },
     "metadata": {},
     "output_type": "display_data"
    },
    {
     "data": {
      "text/plain": [
       "\"DB: opt gap = 0.5108219452076583\""
      ]
     },
     "metadata": {},
     "output_type": "display_data"
    },
    {
     "data": {
      "text/plain": [
       "\">>>>>> iteration 7:O\""
      ]
     },
     "metadata": {},
     "output_type": "display_data"
    },
    {
     "data": {
      "text/plain": [
       "\"DB: opt gap = 0.4780624051988464\""
      ]
     },
     "metadata": {},
     "output_type": "display_data"
    },
    {
     "data": {
      "text/plain": [
       "\">>>>>> iteration 8:O\""
      ]
     },
     "metadata": {},
     "output_type": "display_data"
    },
    {
     "data": {
      "text/plain": [
       "\"DB: opt gap = 0.39816355617997545\""
      ]
     },
     "metadata": {},
     "output_type": "display_data"
    },
    {
     "data": {
      "text/plain": [
       "\">>>>>> iteration 9:O\""
      ]
     },
     "metadata": {},
     "output_type": "display_data"
    },
    {
     "data": {
      "text/plain": [
       "\"DB: opt gap = 0.4375040029479929\""
      ]
     },
     "metadata": {},
     "output_type": "display_data"
    },
    {
     "data": {
      "text/plain": [
       "\">>>>>> iteration 10:O\""
      ]
     },
     "metadata": {},
     "output_type": "display_data"
    },
    {
     "data": {
      "text/plain": [
       "\"DB: opt gap = 0.08468727310866883\""
      ]
     },
     "metadata": {},
     "output_type": "display_data"
    },
    {
     "data": {
      "text/plain": [
       "\">>>>>> iteration 11:O\""
      ]
     },
     "metadata": {},
     "output_type": "display_data"
    },
    {
     "data": {
      "text/plain": [
       "\"DB: opt gap = 0.08410056379609872\""
      ]
     },
     "metadata": {},
     "output_type": "display_data"
    },
    {
     "data": {
      "text/plain": [
       "\">>>>>> iteration 12:O\""
      ]
     },
     "metadata": {},
     "output_type": "display_data"
    },
    {
     "data": {
      "text/plain": [
       "\"DB: opt gap = 0.08283130225840211\""
      ]
     },
     "metadata": {},
     "output_type": "display_data"
    },
    {
     "data": {
      "text/plain": [
       "\">>>>>> iteration 13:O\""
      ]
     },
     "metadata": {},
     "output_type": "display_data"
    },
    {
     "data": {
      "text/plain": [
       "\"DB: opt gap = 0.08227225840252399\""
      ]
     },
     "metadata": {},
     "output_type": "display_data"
    },
    {
     "data": {
      "text/plain": [
       "\">>>>>> iteration 14:O\""
      ]
     },
     "metadata": {},
     "output_type": "display_data"
    },
    {
     "data": {
      "text/plain": [
       "\"DB: opt gap = 0.0008867039038627775\""
      ]
     },
     "metadata": {},
     "output_type": "display_data"
    },
    {
     "data": {
      "text/plain": [
       "\"evaluating 16 reactors in parallel | option 3\""
      ]
     },
     "metadata": {},
     "output_type": "display_data"
    },
    {
     "data": {
      "text/plain": [
       "\"DB: opt gap = 1.0\""
      ]
     },
     "metadata": {},
     "output_type": "display_data"
    },
    {
     "data": {
      "text/plain": [
       "\">>>>>> iteration 1:O\""
      ]
     },
     "metadata": {},
     "output_type": "display_data"
    },
    {
     "data": {
      "text/plain": [
       "\"DB: opt gap = 1.0\""
      ]
     },
     "metadata": {},
     "output_type": "display_data"
    },
    {
     "data": {
      "text/plain": [
       "\">>>>>> iteration 2:O\""
      ]
     },
     "metadata": {},
     "output_type": "display_data"
    },
    {
     "data": {
      "text/plain": [
       "\"DB: opt gap = 1.0\""
      ]
     },
     "metadata": {},
     "output_type": "display_data"
    },
    {
     "data": {
      "text/plain": [
       "\">>>>>> iteration 3:O\""
      ]
     },
     "metadata": {},
     "output_type": "display_data"
    },
    {
     "data": {
      "text/plain": [
       "\"DB: opt gap = 1.0\""
      ]
     },
     "metadata": {},
     "output_type": "display_data"
    },
    {
     "data": {
      "text/plain": [
       "\">>>>>> iteration 4:O\""
      ]
     },
     "metadata": {},
     "output_type": "display_data"
    },
    {
     "data": {
      "text/plain": [
       "\"DB: opt gap = 0.7445402373303649\""
      ]
     },
     "metadata": {},
     "output_type": "display_data"
    },
    {
     "data": {
      "text/plain": [
       "\">>>>>> iteration 5:O\""
      ]
     },
     "metadata": {},
     "output_type": "display_data"
    },
    {
     "data": {
      "text/plain": [
       "\"DB: opt gap = 0.6973076091390377\""
      ]
     },
     "metadata": {},
     "output_type": "display_data"
    },
    {
     "data": {
      "text/plain": [
       "\">>>>>> iteration 6:O\""
      ]
     },
     "metadata": {},
     "output_type": "display_data"
    },
    {
     "data": {
      "text/plain": [
       "\"DB: opt gap = 0.5108221566627185\""
      ]
     },
     "metadata": {},
     "output_type": "display_data"
    },
    {
     "data": {
      "text/plain": [
       "\">>>>>> iteration 7:O\""
      ]
     },
     "metadata": {},
     "output_type": "display_data"
    },
    {
     "data": {
      "text/plain": [
       "\"DB: opt gap = 0.49820393767673\""
      ]
     },
     "metadata": {},
     "output_type": "display_data"
    },
    {
     "data": {
      "text/plain": [
       "\">>>>>> iteration 8:O\""
      ]
     },
     "metadata": {},
     "output_type": "display_data"
    },
    {
     "data": {
      "text/plain": [
       "\"DB: opt gap = 0.3695880359185054\""
      ]
     },
     "metadata": {},
     "output_type": "display_data"
    },
    {
     "data": {
      "text/plain": [
       "\">>>>>> iteration 9:O\""
      ]
     },
     "metadata": {},
     "output_type": "display_data"
    },
    {
     "data": {
      "text/plain": [
       "\"DB: opt gap = 0.39449308924569654\""
      ]
     },
     "metadata": {},
     "output_type": "display_data"
    },
    {
     "data": {
      "text/plain": [
       "\">>>>>> iteration 10:O\""
      ]
     },
     "metadata": {},
     "output_type": "display_data"
    },
    {
     "data": {
      "text/plain": [
       "\"DB: opt gap = 0.34885924767097354\""
      ]
     },
     "metadata": {},
     "output_type": "display_data"
    },
    {
     "data": {
      "text/plain": [
       "\">>>>>> iteration 11:O\""
      ]
     },
     "metadata": {},
     "output_type": "display_data"
    },
    {
     "data": {
      "text/plain": [
       "\"DB: opt gap = 0.3864394049115177\""
      ]
     },
     "metadata": {},
     "output_type": "display_data"
    },
    {
     "data": {
      "text/plain": [
       "\">>>>>> iteration 12:O\""
      ]
     },
     "metadata": {},
     "output_type": "display_data"
    },
    {
     "data": {
      "text/plain": [
       "\"DB: opt gap = 0.08080010878618728\""
      ]
     },
     "metadata": {},
     "output_type": "display_data"
    },
    {
     "data": {
      "text/plain": [
       "\">>>>>> iteration 13:O\""
      ]
     },
     "metadata": {},
     "output_type": "display_data"
    },
    {
     "data": {
      "text/plain": [
       "\"DB: opt gap = 0.07933878275787755\""
      ]
     },
     "metadata": {},
     "output_type": "display_data"
    },
    {
     "data": {
      "text/plain": [
       "\">>>>>> iteration 14:O\""
      ]
     },
     "metadata": {},
     "output_type": "display_data"
    },
    {
     "data": {
      "text/plain": [
       "\"DB: opt gap = 0.0010954152790569357\""
      ]
     },
     "metadata": {},
     "output_type": "display_data"
    },
    {
     "data": {
      "text/plain": [
       "\">>>>>> iteration 15:O\""
      ]
     },
     "metadata": {},
     "output_type": "display_data"
    },
    {
     "data": {
      "text/plain": [
       "\"DB: opt gap = 0.0010936304345977844\""
      ]
     },
     "metadata": {},
     "output_type": "display_data"
    },
    {
     "data": {
      "text/plain": [
       "\">>>>>> iteration 16:O\""
      ]
     },
     "metadata": {},
     "output_type": "display_data"
    },
    {
     "data": {
      "text/plain": [
       "\"DB: opt gap = 0.0010923320227377014\""
      ]
     },
     "metadata": {},
     "output_type": "display_data"
    },
    {
     "data": {
      "text/plain": [
       "\">>>>>> iteration 17:O\""
      ]
     },
     "metadata": {},
     "output_type": "display_data"
    },
    {
     "data": {
      "text/plain": [
       "\"DB: opt gap = 0.0010912330011973092\""
      ]
     },
     "metadata": {},
     "output_type": "display_data"
    },
    {
     "data": {
      "text/plain": [
       "\">>>>>> iteration 18:O\""
      ]
     },
     "metadata": {},
     "output_type": "display_data"
    },
    {
     "data": {
      "text/plain": [
       "\"DB: opt gap = 1.2068663604796624e-7\""
      ]
     },
     "metadata": {},
     "output_type": "display_data"
    },
    {
     "data": {
      "text/plain": [
       "\"evaluating 17 reactors in parallel | option 3\""
      ]
     },
     "metadata": {},
     "output_type": "display_data"
    },
    {
     "data": {
      "text/plain": [
       "\"DB: opt gap = 1.0\""
      ]
     },
     "metadata": {},
     "output_type": "display_data"
    },
    {
     "data": {
      "text/plain": [
       "\">>>>>> iteration 1:O\""
      ]
     },
     "metadata": {},
     "output_type": "display_data"
    },
    {
     "data": {
      "text/plain": [
       "\"DB: opt gap = 1.0\""
      ]
     },
     "metadata": {},
     "output_type": "display_data"
    },
    {
     "data": {
      "text/plain": [
       "\">>>>>> iteration 2:O\""
      ]
     },
     "metadata": {},
     "output_type": "display_data"
    },
    {
     "data": {
      "text/plain": [
       "\"DB: opt gap = 1.0\""
      ]
     },
     "metadata": {},
     "output_type": "display_data"
    },
    {
     "data": {
      "text/plain": [
       "\">>>>>> iteration 3:O\""
      ]
     },
     "metadata": {},
     "output_type": "display_data"
    },
    {
     "data": {
      "text/plain": [
       "\"DB: opt gap = 1.0\""
      ]
     },
     "metadata": {},
     "output_type": "display_data"
    },
    {
     "data": {
      "text/plain": [
       "\">>>>>> iteration 4:O\""
      ]
     },
     "metadata": {},
     "output_type": "display_data"
    },
    {
     "data": {
      "text/plain": [
       "\"DB: opt gap = 0.7445401003593229\""
      ]
     },
     "metadata": {},
     "output_type": "display_data"
    },
    {
     "data": {
      "text/plain": [
       "\">>>>>> iteration 5:O\""
      ]
     },
     "metadata": {},
     "output_type": "display_data"
    },
    {
     "data": {
      "text/plain": [
       "\"DB: opt gap = 0.6454012654435564\""
      ]
     },
     "metadata": {},
     "output_type": "display_data"
    },
    {
     "data": {
      "text/plain": [
       "\">>>>>> iteration 6:O\""
      ]
     },
     "metadata": {},
     "output_type": "display_data"
    },
    {
     "data": {
      "text/plain": [
       "\"DB: opt gap = 0.5128686731760783\""
      ]
     },
     "metadata": {},
     "output_type": "display_data"
    },
    {
     "data": {
      "text/plain": [
       "\">>>>>> iteration 7:O\""
      ]
     },
     "metadata": {},
     "output_type": "display_data"
    },
    {
     "data": {
      "text/plain": [
       "\"DB: opt gap = 0.46140657213916414\""
      ]
     },
     "metadata": {},
     "output_type": "display_data"
    },
    {
     "data": {
      "text/plain": [
       "\">>>>>> iteration 8:O\""
      ]
     },
     "metadata": {},
     "output_type": "display_data"
    },
    {
     "data": {
      "text/plain": [
       "\"DB: opt gap = 0.4231316272283298\""
      ]
     },
     "metadata": {},
     "output_type": "display_data"
    },
    {
     "data": {
      "text/plain": [
       "\">>>>>> iteration 9:O\""
      ]
     },
     "metadata": {},
     "output_type": "display_data"
    },
    {
     "data": {
      "text/plain": [
       "\"DB: opt gap = 0.443202115094006\""
      ]
     },
     "metadata": {},
     "output_type": "display_data"
    },
    {
     "data": {
      "text/plain": [
       "\">>>>>> iteration 10:O\""
      ]
     },
     "metadata": {},
     "output_type": "display_data"
    },
    {
     "data": {
      "text/plain": [
       "\"DB: opt gap = 0.07279527548141418\""
      ]
     },
     "metadata": {},
     "output_type": "display_data"
    },
    {
     "data": {
      "text/plain": [
       "\">>>>>> iteration 11:O\""
      ]
     },
     "metadata": {},
     "output_type": "display_data"
    },
    {
     "data": {
      "text/plain": [
       "\"DB: opt gap = 0.07152759882315311\""
      ]
     },
     "metadata": {},
     "output_type": "display_data"
    },
    {
     "data": {
      "text/plain": [
       "\">>>>>> iteration 12:O\""
      ]
     },
     "metadata": {},
     "output_type": "display_data"
    },
    {
     "data": {
      "text/plain": [
       "\"DB: opt gap = 0.00048412865336049126\""
      ]
     },
     "metadata": {},
     "output_type": "display_data"
    },
    {
     "data": {
      "text/plain": [
       "\"evaluating 18 reactors in parallel | option 3\""
      ]
     },
     "metadata": {},
     "output_type": "display_data"
    },
    {
     "data": {
      "text/plain": [
       "\"DB: opt gap = 1.0\""
      ]
     },
     "metadata": {},
     "output_type": "display_data"
    },
    {
     "data": {
      "text/plain": [
       "\">>>>>> iteration 1:O\""
      ]
     },
     "metadata": {},
     "output_type": "display_data"
    },
    {
     "data": {
      "text/plain": [
       "\"DB: opt gap = 1.0\""
      ]
     },
     "metadata": {},
     "output_type": "display_data"
    },
    {
     "data": {
      "text/plain": [
       "\">>>>>> iteration 2:O\""
      ]
     },
     "metadata": {},
     "output_type": "display_data"
    },
    {
     "data": {
      "text/plain": [
       "\"DB: opt gap = 1.0\""
      ]
     },
     "metadata": {},
     "output_type": "display_data"
    },
    {
     "data": {
      "text/plain": [
       "\">>>>>> iteration 3:O\""
      ]
     },
     "metadata": {},
     "output_type": "display_data"
    },
    {
     "data": {
      "text/plain": [
       "\"DB: opt gap = 1.0\""
      ]
     },
     "metadata": {},
     "output_type": "display_data"
    },
    {
     "data": {
      "text/plain": [
       "\">>>>>> iteration 4:O\""
      ]
     },
     "metadata": {},
     "output_type": "display_data"
    },
    {
     "data": {
      "text/plain": [
       "\"DB: opt gap = 0.7445400516485932\""
      ]
     },
     "metadata": {},
     "output_type": "display_data"
    },
    {
     "data": {
      "text/plain": [
       "\">>>>>> iteration 5:O\""
      ]
     },
     "metadata": {},
     "output_type": "display_data"
    },
    {
     "data": {
      "text/plain": [
       "\"DB: opt gap = 0.6454015383973682\""
      ]
     },
     "metadata": {},
     "output_type": "display_data"
    },
    {
     "data": {
      "text/plain": [
       "\">>>>>> iteration 6:O\""
      ]
     },
     "metadata": {},
     "output_type": "display_data"
    },
    {
     "data": {
      "text/plain": [
       "\"DB: opt gap = 0.655515623913811\""
      ]
     },
     "metadata": {},
     "output_type": "display_data"
    },
    {
     "data": {
      "text/plain": [
       "\">>>>>> iteration 7:O\""
      ]
     },
     "metadata": {},
     "output_type": "display_data"
    },
    {
     "data": {
      "text/plain": [
       "\"DB: opt gap = 0.026213531811318854\""
      ]
     },
     "metadata": {},
     "output_type": "display_data"
    },
    {
     "data": {
      "text/plain": [
       "\">>>>>> iteration 8:O\""
      ]
     },
     "metadata": {},
     "output_type": "display_data"
    },
    {
     "data": {
      "text/plain": [
       "\"DB: opt gap = 0.025945353621078287\""
      ]
     },
     "metadata": {},
     "output_type": "display_data"
    },
    {
     "data": {
      "text/plain": [
       "\">>>>>> iteration 9:O\""
      ]
     },
     "metadata": {},
     "output_type": "display_data"
    },
    {
     "data": {
      "text/plain": [
       "\"DB: opt gap = 0.025324025766668225\""
      ]
     },
     "metadata": {},
     "output_type": "display_data"
    },
    {
     "data": {
      "text/plain": [
       "\">>>>>> iteration 10:O\""
      ]
     },
     "metadata": {},
     "output_type": "display_data"
    },
    {
     "data": {
      "text/plain": [
       "\"DB: opt gap = 0.02523239164749663\""
      ]
     },
     "metadata": {},
     "output_type": "display_data"
    },
    {
     "data": {
      "text/plain": [
       "\">>>>>> iteration 11:O\""
      ]
     },
     "metadata": {},
     "output_type": "display_data"
    },
    {
     "data": {
      "text/plain": [
       "\"DB: opt gap = 0.02454282387529714\""
      ]
     },
     "metadata": {},
     "output_type": "display_data"
    },
    {
     "data": {
      "text/plain": [
       "\">>>>>> iteration 12:O\""
      ]
     },
     "metadata": {},
     "output_type": "display_data"
    },
    {
     "data": {
      "text/plain": [
       "\"DB: opt gap = 0.024458913668349604\""
      ]
     },
     "metadata": {},
     "output_type": "display_data"
    },
    {
     "data": {
      "text/plain": [
       "\">>>>>> iteration 13:O\""
      ]
     },
     "metadata": {},
     "output_type": "display_data"
    },
    {
     "data": {
      "text/plain": [
       "\"DB: opt gap = 5.231455889438708e-5\""
      ]
     },
     "metadata": {},
     "output_type": "display_data"
    },
    {
     "data": {
      "text/plain": [
       "\"evaluating 19 reactors in parallel | option 3\""
      ]
     },
     "metadata": {},
     "output_type": "display_data"
    },
    {
     "data": {
      "text/plain": [
       "\"DB: opt gap = 1.0\""
      ]
     },
     "metadata": {},
     "output_type": "display_data"
    },
    {
     "data": {
      "text/plain": [
       "\">>>>>> iteration 1:O\""
      ]
     },
     "metadata": {},
     "output_type": "display_data"
    },
    {
     "data": {
      "text/plain": [
       "\"DB: opt gap = 1.0\""
      ]
     },
     "metadata": {},
     "output_type": "display_data"
    },
    {
     "data": {
      "text/plain": [
       "\">>>>>> iteration 2:O\""
      ]
     },
     "metadata": {},
     "output_type": "display_data"
    },
    {
     "data": {
      "text/plain": [
       "\"DB: opt gap = 1.0\""
      ]
     },
     "metadata": {},
     "output_type": "display_data"
    },
    {
     "data": {
      "text/plain": [
       "\">>>>>> iteration 3:O\""
      ]
     },
     "metadata": {},
     "output_type": "display_data"
    },
    {
     "data": {
      "text/plain": [
       "\"DB: opt gap = 1.0\""
      ]
     },
     "metadata": {},
     "output_type": "display_data"
    },
    {
     "data": {
      "text/plain": [
       "\">>>>>> iteration 4:O\""
      ]
     },
     "metadata": {},
     "output_type": "display_data"
    },
    {
     "data": {
      "text/plain": [
       "\"DB: opt gap = 0.7445402058575763\""
      ]
     },
     "metadata": {},
     "output_type": "display_data"
    },
    {
     "data": {
      "text/plain": [
       "\">>>>>> iteration 5:O\""
      ]
     },
     "metadata": {},
     "output_type": "display_data"
    },
    {
     "data": {
      "text/plain": [
       "\"DB: opt gap = 0.6973076337094979\""
      ]
     },
     "metadata": {},
     "output_type": "display_data"
    },
    {
     "data": {
      "text/plain": [
       "\">>>>>> iteration 6:O\""
      ]
     },
     "metadata": {},
     "output_type": "display_data"
    },
    {
     "data": {
      "text/plain": [
       "\"DB: opt gap = 0.5108221616643039\""
      ]
     },
     "metadata": {},
     "output_type": "display_data"
    },
    {
     "data": {
      "text/plain": [
       "\">>>>>> iteration 7:O\""
      ]
     },
     "metadata": {},
     "output_type": "display_data"
    },
    {
     "data": {
      "text/plain": [
       "\"DB: opt gap = 0.49820432190028335\""
      ]
     },
     "metadata": {},
     "output_type": "display_data"
    },
    {
     "data": {
      "text/plain": [
       "\">>>>>> iteration 8:O\""
      ]
     },
     "metadata": {},
     "output_type": "display_data"
    },
    {
     "data": {
      "text/plain": [
       "\"DB: opt gap = 0.4902598164866025\""
      ]
     },
     "metadata": {},
     "output_type": "display_data"
    },
    {
     "data": {
      "text/plain": [
       "\">>>>>> iteration 9:O\""
      ]
     },
     "metadata": {},
     "output_type": "display_data"
    },
    {
     "data": {
      "text/plain": [
       "\"DB: opt gap = 0.4297004798275883\""
      ]
     },
     "metadata": {},
     "output_type": "display_data"
    },
    {
     "data": {
      "text/plain": [
       "\">>>>>> iteration 10:O\""
      ]
     },
     "metadata": {},
     "output_type": "display_data"
    },
    {
     "data": {
      "text/plain": [
       "\"DB: opt gap = 0.44783089250774155\""
      ]
     },
     "metadata": {},
     "output_type": "display_data"
    },
    {
     "data": {
      "text/plain": [
       "\">>>>>> iteration 11:O\""
      ]
     },
     "metadata": {},
     "output_type": "display_data"
    },
    {
     "data": {
      "text/plain": [
       "\"DB: opt gap = 0.07665754496488106\""
      ]
     },
     "metadata": {},
     "output_type": "display_data"
    },
    {
     "data": {
      "text/plain": [
       "\">>>>>> iteration 12:O\""
      ]
     },
     "metadata": {},
     "output_type": "display_data"
    },
    {
     "data": {
      "text/plain": [
       "\"DB: opt gap = 0.07526931453175054\""
      ]
     },
     "metadata": {},
     "output_type": "display_data"
    },
    {
     "data": {
      "text/plain": [
       "\">>>>>> iteration 13:O\""
      ]
     },
     "metadata": {},
     "output_type": "display_data"
    },
    {
     "data": {
      "text/plain": [
       "\"DB: opt gap = 0.00030260619731462354\""
      ]
     },
     "metadata": {},
     "output_type": "display_data"
    },
    {
     "data": {
      "text/plain": [
       "\"evaluating 20 reactors in parallel | option 3\""
      ]
     },
     "metadata": {},
     "output_type": "display_data"
    },
    {
     "data": {
      "text/plain": [
       "\"DB: opt gap = 1.0\""
      ]
     },
     "metadata": {},
     "output_type": "display_data"
    },
    {
     "data": {
      "text/plain": [
       "\">>>>>> iteration 1:O\""
      ]
     },
     "metadata": {},
     "output_type": "display_data"
    },
    {
     "data": {
      "text/plain": [
       "\"DB: opt gap = 1.0\""
      ]
     },
     "metadata": {},
     "output_type": "display_data"
    },
    {
     "data": {
      "text/plain": [
       "\">>>>>> iteration 2:O\""
      ]
     },
     "metadata": {},
     "output_type": "display_data"
    },
    {
     "data": {
      "text/plain": [
       "\"DB: opt gap = 1.0\""
      ]
     },
     "metadata": {},
     "output_type": "display_data"
    },
    {
     "data": {
      "text/plain": [
       "\">>>>>> iteration 3:O\""
      ]
     },
     "metadata": {},
     "output_type": "display_data"
    },
    {
     "data": {
      "text/plain": [
       "\"DB: opt gap = 1.0\""
      ]
     },
     "metadata": {},
     "output_type": "display_data"
    },
    {
     "data": {
      "text/plain": [
       "\">>>>>> iteration 4:O\""
      ]
     },
     "metadata": {},
     "output_type": "display_data"
    },
    {
     "data": {
      "text/plain": [
       "\"DB: opt gap = 0.8007667447282006\""
      ]
     },
     "metadata": {},
     "output_type": "display_data"
    },
    {
     "data": {
      "text/plain": [
       "\">>>>>> iteration 5:O\""
      ]
     },
     "metadata": {},
     "output_type": "display_data"
    },
    {
     "data": {
      "text/plain": [
       "\"DB: opt gap = 0.6962715823302755\""
      ]
     },
     "metadata": {},
     "output_type": "display_data"
    },
    {
     "data": {
      "text/plain": [
       "\">>>>>> iteration 6:O\""
      ]
     },
     "metadata": {},
     "output_type": "display_data"
    },
    {
     "data": {
      "text/plain": [
       "\"DB: opt gap = 0.6505866080162389\""
      ]
     },
     "metadata": {},
     "output_type": "display_data"
    },
    {
     "data": {
      "text/plain": [
       "\">>>>>> iteration 7:O\""
      ]
     },
     "metadata": {},
     "output_type": "display_data"
    },
    {
     "data": {
      "text/plain": [
       "\"DB: opt gap = 0.6215026120831121\""
      ]
     },
     "metadata": {},
     "output_type": "display_data"
    },
    {
     "data": {
      "text/plain": [
       "\">>>>>> iteration 8:O\""
      ]
     },
     "metadata": {},
     "output_type": "display_data"
    },
    {
     "data": {
      "text/plain": [
       "\"DB: opt gap = 0.41437901878847394\""
      ]
     },
     "metadata": {},
     "output_type": "display_data"
    },
    {
     "data": {
      "text/plain": [
       "\">>>>>> iteration 9:O\""
      ]
     },
     "metadata": {},
     "output_type": "display_data"
    },
    {
     "data": {
      "text/plain": [
       "\"DB: opt gap = 0.4518638892524485\""
      ]
     },
     "metadata": {},
     "output_type": "display_data"
    },
    {
     "data": {
      "text/plain": [
       "\">>>>>> iteration 10:O\""
      ]
     },
     "metadata": {},
     "output_type": "display_data"
    },
    {
     "data": {
      "text/plain": [
       "\"DB: opt gap = 0.03608037632101321\""
      ]
     },
     "metadata": {},
     "output_type": "display_data"
    },
    {
     "data": {
      "text/plain": [
       "\">>>>>> iteration 11:O\""
      ]
     },
     "metadata": {},
     "output_type": "display_data"
    },
    {
     "data": {
      "text/plain": [
       "\"DB: opt gap = 0.03578883703738265\""
      ]
     },
     "metadata": {},
     "output_type": "display_data"
    },
    {
     "data": {
      "text/plain": [
       "\">>>>>> iteration 12:O\""
      ]
     },
     "metadata": {},
     "output_type": "display_data"
    },
    {
     "data": {
      "text/plain": [
       "\">>>>>> iteration 13:F\""
      ]
     },
     "metadata": {},
     "output_type": "display_data"
    },
    {
     "data": {
      "text/plain": [
       "\"DB: opt gap = 0.03572337378321754\""
      ]
     },
     "metadata": {},
     "output_type": "display_data"
    },
    {
     "data": {
      "text/plain": [
       "\">>>>>> iteration 14:O\""
      ]
     },
     "metadata": {},
     "output_type": "display_data"
    },
    {
     "data": {
      "text/plain": [
       "\">>>>>> iteration 15:F\""
      ]
     },
     "metadata": {},
     "output_type": "display_data"
    },
    {
     "data": {
      "text/plain": [
       "\">>>>>> iteration 16:F\""
      ]
     },
     "metadata": {},
     "output_type": "display_data"
    },
    {
     "data": {
      "text/plain": [
       "\">>>>>> iteration 17:F\""
      ]
     },
     "metadata": {},
     "output_type": "display_data"
    },
    {
     "data": {
      "text/plain": [
       "\">>>>>> iteration 18:F\""
      ]
     },
     "metadata": {},
     "output_type": "display_data"
    },
    {
     "data": {
      "text/plain": [
       "\">>>>>> iteration 19:F\""
      ]
     },
     "metadata": {},
     "output_type": "display_data"
    },
    {
     "data": {
      "text/plain": [
       "\">>>>>> iteration 20:F\""
      ]
     },
     "metadata": {},
     "output_type": "display_data"
    },
    {
     "data": {
      "text/plain": [
       "\">>>>>> iteration 21:F\""
      ]
     },
     "metadata": {},
     "output_type": "display_data"
    },
    {
     "data": {
      "text/plain": [
       "\">>>>>> iteration 22:F\""
      ]
     },
     "metadata": {},
     "output_type": "display_data"
    },
    {
     "data": {
      "text/plain": [
       "\">>>>>> iteration 23:F\""
      ]
     },
     "metadata": {},
     "output_type": "display_data"
    },
    {
     "data": {
      "text/plain": [
       "\">>>>>> iteration 24:F\""
      ]
     },
     "metadata": {},
     "output_type": "display_data"
    },
    {
     "data": {
      "text/plain": [
       "\">>>>>> iteration 25:F\""
      ]
     },
     "metadata": {},
     "output_type": "display_data"
    },
    {
     "data": {
      "text/plain": [
       "\">>>>>> iteration 26:F\""
      ]
     },
     "metadata": {},
     "output_type": "display_data"
    },
    {
     "data": {
      "text/plain": [
       "\">>>>>> iteration 27:F\""
      ]
     },
     "metadata": {},
     "output_type": "display_data"
    },
    {
     "data": {
      "text/plain": [
       "\">>>>>> iteration 28:F\""
      ]
     },
     "metadata": {},
     "output_type": "display_data"
    },
    {
     "data": {
      "text/plain": [
       "\">>>>>> iteration 29:F\""
      ]
     },
     "metadata": {},
     "output_type": "display_data"
    },
    {
     "data": {
      "text/plain": [
       "\">>>>>> iteration 30:F\""
      ]
     },
     "metadata": {},
     "output_type": "display_data"
    },
    {
     "data": {
      "text/plain": [
       "\">>>>>> iteration 31:F\""
      ]
     },
     "metadata": {},
     "output_type": "display_data"
    },
    {
     "data": {
      "text/plain": [
       "\">>>>>> iteration 32:F\""
      ]
     },
     "metadata": {},
     "output_type": "display_data"
    },
    {
     "data": {
      "text/plain": [
       "\">>>>>> iteration 33:F\""
      ]
     },
     "metadata": {},
     "output_type": "display_data"
    },
    {
     "data": {
      "text/plain": [
       "\">>>>>> iteration 34:F\""
      ]
     },
     "metadata": {},
     "output_type": "display_data"
    },
    {
     "data": {
      "text/plain": [
       "\">>>>>> iteration 35:F\""
      ]
     },
     "metadata": {},
     "output_type": "display_data"
    },
    {
     "data": {
      "text/plain": [
       "\">>>>>> iteration 36:F\""
      ]
     },
     "metadata": {},
     "output_type": "display_data"
    },
    {
     "data": {
      "text/plain": [
       "\">>>>>> iteration 37:F\""
      ]
     },
     "metadata": {},
     "output_type": "display_data"
    },
    {
     "data": {
      "text/plain": [
       "\">>>>>> iteration 38:F\""
      ]
     },
     "metadata": {},
     "output_type": "display_data"
    },
    {
     "data": {
      "text/plain": [
       "\">>>>>> iteration 39:F\""
      ]
     },
     "metadata": {},
     "output_type": "display_data"
    },
    {
     "data": {
      "text/plain": [
       "\">>>>>> iteration 40:F\""
      ]
     },
     "metadata": {},
     "output_type": "display_data"
    },
    {
     "data": {
      "text/plain": [
       "\">>>>>> iteration 41:F\""
      ]
     },
     "metadata": {},
     "output_type": "display_data"
    },
    {
     "data": {
      "text/plain": [
       "\">>>>>> iteration 42:F\""
      ]
     },
     "metadata": {},
     "output_type": "display_data"
    },
    {
     "data": {
      "text/plain": [
       "\">>>>>> iteration 43:F\""
      ]
     },
     "metadata": {},
     "output_type": "display_data"
    },
    {
     "data": {
      "text/plain": [
       "\">>>>>> iteration 44:F\""
      ]
     },
     "metadata": {},
     "output_type": "display_data"
    },
    {
     "data": {
      "text/plain": [
       "\">>>>>> iteration 45:F\""
      ]
     },
     "metadata": {},
     "output_type": "display_data"
    },
    {
     "data": {
      "text/plain": [
       "\">>>>>> iteration 46:F\""
      ]
     },
     "metadata": {},
     "output_type": "display_data"
    },
    {
     "data": {
      "text/plain": [
       "\">>>>>> iteration 47:F\""
      ]
     },
     "metadata": {},
     "output_type": "display_data"
    },
    {
     "data": {
      "text/plain": [
       "\">>>>>> iteration 48:F\""
      ]
     },
     "metadata": {},
     "output_type": "display_data"
    },
    {
     "data": {
      "text/plain": [
       "\">>>>>> iteration 49:F\""
      ]
     },
     "metadata": {},
     "output_type": "display_data"
    },
    {
     "data": {
      "text/plain": [
       "\">>>>>> iteration 50:F\""
      ]
     },
     "metadata": {},
     "output_type": "display_data"
    },
    {
     "data": {
      "text/plain": [
       "\"evaluating 21 reactors in parallel | option 3\""
      ]
     },
     "metadata": {},
     "output_type": "display_data"
    },
    {
     "data": {
      "text/plain": [
       "\"DB: opt gap = 1.0\""
      ]
     },
     "metadata": {},
     "output_type": "display_data"
    },
    {
     "data": {
      "text/plain": [
       "\">>>>>> iteration 1:O\""
      ]
     },
     "metadata": {},
     "output_type": "display_data"
    },
    {
     "data": {
      "text/plain": [
       "\"DB: opt gap = 1.0\""
      ]
     },
     "metadata": {},
     "output_type": "display_data"
    },
    {
     "data": {
      "text/plain": [
       "\">>>>>> iteration 2:O\""
      ]
     },
     "metadata": {},
     "output_type": "display_data"
    },
    {
     "data": {
      "text/plain": [
       "\"DB: opt gap = 1.0\""
      ]
     },
     "metadata": {},
     "output_type": "display_data"
    },
    {
     "data": {
      "text/plain": [
       "\">>>>>> iteration 3:O\""
      ]
     },
     "metadata": {},
     "output_type": "display_data"
    },
    {
     "data": {
      "text/plain": [
       "\"DB: opt gap = 1.0\""
      ]
     },
     "metadata": {},
     "output_type": "display_data"
    },
    {
     "data": {
      "text/plain": [
       "\">>>>>> iteration 4:O\""
      ]
     },
     "metadata": {},
     "output_type": "display_data"
    },
    {
     "data": {
      "text/plain": [
       "\"DB: opt gap = 1.0\""
      ]
     },
     "metadata": {},
     "output_type": "display_data"
    },
    {
     "data": {
      "text/plain": [
       "\">>>>>> iteration 5:O\""
      ]
     },
     "metadata": {},
     "output_type": "display_data"
    },
    {
     "data": {
      "text/plain": [
       "\"DB: opt gap = 0.9711302433522864\""
      ]
     },
     "metadata": {},
     "output_type": "display_data"
    },
    {
     "data": {
      "text/plain": [
       "\">>>>>> iteration 6:O\""
      ]
     },
     "metadata": {},
     "output_type": "display_data"
    },
    {
     "data": {
      "text/plain": [
       "\"DB: opt gap = 0.7451806490424783\""
      ]
     },
     "metadata": {},
     "output_type": "display_data"
    },
    {
     "data": {
      "text/plain": [
       "\">>>>>> iteration 7:O\""
      ]
     },
     "metadata": {},
     "output_type": "display_data"
    },
    {
     "data": {
      "text/plain": [
       "\"DB: opt gap = 0.7362601747787273\""
      ]
     },
     "metadata": {},
     "output_type": "display_data"
    },
    {
     "data": {
      "text/plain": [
       "\">>>>>> iteration 8:O\""
      ]
     },
     "metadata": {},
     "output_type": "display_data"
    },
    {
     "data": {
      "text/plain": [
       "\"DB: opt gap = 0.701516502789612\""
      ]
     },
     "metadata": {},
     "output_type": "display_data"
    },
    {
     "data": {
      "text/plain": [
       "\">>>>>> iteration 9:O\""
      ]
     },
     "metadata": {},
     "output_type": "display_data"
    },
    {
     "data": {
      "text/plain": [
       "\"DB: opt gap = 0.026588620630206727\""
      ]
     },
     "metadata": {},
     "output_type": "display_data"
    },
    {
     "data": {
      "text/plain": [
       "\">>>>>> iteration 10:O\""
      ]
     },
     "metadata": {},
     "output_type": "display_data"
    },
    {
     "data": {
      "text/plain": [
       "\"DB: opt gap = 0.025754058373576378\""
      ]
     },
     "metadata": {},
     "output_type": "display_data"
    },
    {
     "data": {
      "text/plain": [
       "\">>>>>> iteration 11:O\""
      ]
     },
     "metadata": {},
     "output_type": "display_data"
    },
    {
     "data": {
      "text/plain": [
       "\"DB: opt gap = 0.025490820305654773\""
      ]
     },
     "metadata": {},
     "output_type": "display_data"
    },
    {
     "data": {
      "text/plain": [
       "\">>>>>> iteration 12:O\""
      ]
     },
     "metadata": {},
     "output_type": "display_data"
    },
    {
     "data": {
      "text/plain": [
       "\"DB: opt gap = 0.02498180653979335\""
      ]
     },
     "metadata": {},
     "output_type": "display_data"
    },
    {
     "data": {
      "text/plain": [
       "\">>>>>> iteration 13:O\""
      ]
     },
     "metadata": {},
     "output_type": "display_data"
    },
    {
     "data": {
      "text/plain": [
       "\"DB: opt gap = 0.024331328817677734\""
      ]
     },
     "metadata": {},
     "output_type": "display_data"
    },
    {
     "data": {
      "text/plain": [
       "\">>>>>> iteration 14:O\""
      ]
     },
     "metadata": {},
     "output_type": "display_data"
    },
    {
     "data": {
      "text/plain": [
       "\"DB: opt gap = 0.02424571461762416\""
      ]
     },
     "metadata": {},
     "output_type": "display_data"
    },
    {
     "data": {
      "text/plain": [
       "\">>>>>> iteration 15:O\""
      ]
     },
     "metadata": {},
     "output_type": "display_data"
    },
    {
     "data": {
      "text/plain": [
       "\"DB: opt gap = 0.024258636439186583\""
      ]
     },
     "metadata": {},
     "output_type": "display_data"
    },
    {
     "data": {
      "text/plain": [
       "\">>>>>> iteration 16:O\""
      ]
     },
     "metadata": {},
     "output_type": "display_data"
    },
    {
     "data": {
      "text/plain": [
       "\"DB: opt gap = 0.024029652002031218\""
      ]
     },
     "metadata": {},
     "output_type": "display_data"
    },
    {
     "data": {
      "text/plain": [
       "\">>>>>> iteration 17:O\""
      ]
     },
     "metadata": {},
     "output_type": "display_data"
    },
    {
     "data": {
      "text/plain": [
       "\"DB: opt gap = 4.542825672208535e-5\""
      ]
     },
     "metadata": {},
     "output_type": "display_data"
    },
    {
     "data": {
      "text/plain": [
       "\"evaluating 22 reactors in parallel | option 3\""
      ]
     },
     "metadata": {},
     "output_type": "display_data"
    },
    {
     "data": {
      "text/plain": [
       "\"DB: opt gap = 1.0\""
      ]
     },
     "metadata": {},
     "output_type": "display_data"
    },
    {
     "data": {
      "text/plain": [
       "\">>>>>> iteration 1:O\""
      ]
     },
     "metadata": {},
     "output_type": "display_data"
    },
    {
     "data": {
      "text/plain": [
       "\"DB: opt gap = 1.0\""
      ]
     },
     "metadata": {},
     "output_type": "display_data"
    },
    {
     "data": {
      "text/plain": [
       "\">>>>>> iteration 2:O\""
      ]
     },
     "metadata": {},
     "output_type": "display_data"
    },
    {
     "data": {
      "text/plain": [
       "\"DB: opt gap = 1.0\""
      ]
     },
     "metadata": {},
     "output_type": "display_data"
    },
    {
     "data": {
      "text/plain": [
       "\">>>>>> iteration 3:O\""
      ]
     },
     "metadata": {},
     "output_type": "display_data"
    },
    {
     "data": {
      "text/plain": [
       "\"DB: opt gap = 1.0\""
      ]
     },
     "metadata": {},
     "output_type": "display_data"
    },
    {
     "data": {
      "text/plain": [
       "\">>>>>> iteration 4:O\""
      ]
     },
     "metadata": {},
     "output_type": "display_data"
    },
    {
     "data": {
      "text/plain": [
       "\"DB: opt gap = 1.0\""
      ]
     },
     "metadata": {},
     "output_type": "display_data"
    },
    {
     "data": {
      "text/plain": [
       "\">>>>>> iteration 5:O\""
      ]
     },
     "metadata": {},
     "output_type": "display_data"
    },
    {
     "data": {
      "text/plain": [
       "\"DB: opt gap = 0.9711302416530303\""
      ]
     },
     "metadata": {},
     "output_type": "display_data"
    },
    {
     "data": {
      "text/plain": [
       "\">>>>>> iteration 6:O\""
      ]
     },
     "metadata": {},
     "output_type": "display_data"
    },
    {
     "data": {
      "text/plain": [
       "\"DB: opt gap = 0.7451806502026772\""
      ]
     },
     "metadata": {},
     "output_type": "display_data"
    },
    {
     "data": {
      "text/plain": [
       "\">>>>>> iteration 7:O\""
      ]
     },
     "metadata": {},
     "output_type": "display_data"
    },
    {
     "data": {
      "text/plain": [
       "\"DB: opt gap = 0.7362601737076927\""
      ]
     },
     "metadata": {},
     "output_type": "display_data"
    },
    {
     "data": {
      "text/plain": [
       "\">>>>>> iteration 8:O\""
      ]
     },
     "metadata": {},
     "output_type": "display_data"
    },
    {
     "data": {
      "text/plain": [
       "\"DB: opt gap = 0.7015165030468091\""
      ]
     },
     "metadata": {},
     "output_type": "display_data"
    },
    {
     "data": {
      "text/plain": [
       "\">>>>>> iteration 9:O\""
      ]
     },
     "metadata": {},
     "output_type": "display_data"
    },
    {
     "data": {
      "text/plain": [
       "\"DB: opt gap = 0.026589451939279637\""
      ]
     },
     "metadata": {},
     "output_type": "display_data"
    },
    {
     "data": {
      "text/plain": [
       "\">>>>>> iteration 10:O\""
      ]
     },
     "metadata": {},
     "output_type": "display_data"
    },
    {
     "data": {
      "text/plain": [
       "\"DB: opt gap = 0.026315448094699777\""
      ]
     },
     "metadata": {},
     "output_type": "display_data"
    },
    {
     "data": {
      "text/plain": [
       "\">>>>>> iteration 11:O\""
      ]
     },
     "metadata": {},
     "output_type": "display_data"
    },
    {
     "data": {
      "text/plain": [
       "\"DB: opt gap = 0.026214130989216766\""
      ]
     },
     "metadata": {},
     "output_type": "display_data"
    },
    {
     "data": {
      "text/plain": [
       "\">>>>>> iteration 12:O\""
      ]
     },
     "metadata": {},
     "output_type": "display_data"
    },
    {
     "data": {
      "text/plain": [
       "\"DB: opt gap = 0.025978646146554922\""
      ]
     },
     "metadata": {},
     "output_type": "display_data"
    },
    {
     "data": {
      "text/plain": [
       "\">>>>>> iteration 13:O\""
      ]
     },
     "metadata": {},
     "output_type": "display_data"
    },
    {
     "data": {
      "text/plain": [
       "\"DB: opt gap = 0.02521706144792063\""
      ]
     },
     "metadata": {},
     "output_type": "display_data"
    },
    {
     "data": {
      "text/plain": [
       "\">>>>>> iteration 14:O\""
      ]
     },
     "metadata": {},
     "output_type": "display_data"
    },
    {
     "data": {
      "text/plain": [
       "\"DB: opt gap = 0.0249659968470273\""
      ]
     },
     "metadata": {},
     "output_type": "display_data"
    },
    {
     "data": {
      "text/plain": [
       "\">>>>>> iteration 15:O\""
      ]
     },
     "metadata": {},
     "output_type": "display_data"
    },
    {
     "data": {
      "text/plain": [
       "\"DB: opt gap = 0.02425964594656705\""
      ]
     },
     "metadata": {},
     "output_type": "display_data"
    },
    {
     "data": {
      "text/plain": [
       "\">>>>>> iteration 16:O\""
      ]
     },
     "metadata": {},
     "output_type": "display_data"
    },
    {
     "data": {
      "text/plain": [
       "\"DB: opt gap = 0.02417504928552545\""
      ]
     },
     "metadata": {},
     "output_type": "display_data"
    },
    {
     "data": {
      "text/plain": [
       "\">>>>>> iteration 17:O\""
      ]
     },
     "metadata": {},
     "output_type": "display_data"
    },
    {
     "data": {
      "text/plain": [
       "\"DB: opt gap = 0.023006286875273858\""
      ]
     },
     "metadata": {},
     "output_type": "display_data"
    },
    {
     "data": {
      "text/plain": [
       "\">>>>>> iteration 18:O\""
      ]
     },
     "metadata": {},
     "output_type": "display_data"
    },
    {
     "data": {
      "text/plain": [
       "\"DB: opt gap = 0.022802785023990142\""
      ]
     },
     "metadata": {},
     "output_type": "display_data"
    },
    {
     "data": {
      "text/plain": [
       "\">>>>>> iteration 19:O\""
      ]
     },
     "metadata": {},
     "output_type": "display_data"
    },
    {
     "data": {
      "text/plain": [
       "\"DB: opt gap = 0.022366120624508\""
      ]
     },
     "metadata": {},
     "output_type": "display_data"
    },
    {
     "data": {
      "text/plain": [
       "\">>>>>> iteration 20:O\""
      ]
     },
     "metadata": {},
     "output_type": "display_data"
    },
    {
     "data": {
      "text/plain": [
       "\"DB: opt gap = 0.022296160971387435\""
      ]
     },
     "metadata": {},
     "output_type": "display_data"
    },
    {
     "data": {
      "text/plain": [
       "\">>>>>> iteration 21:O\""
      ]
     },
     "metadata": {},
     "output_type": "display_data"
    },
    {
     "data": {
      "text/plain": [
       "\"DB: opt gap = 0.00010785045023282271\""
      ]
     },
     "metadata": {},
     "output_type": "display_data"
    },
    {
     "data": {
      "text/plain": [
       "\"evaluating 23 reactors in parallel | option 3\""
      ]
     },
     "metadata": {},
     "output_type": "display_data"
    },
    {
     "data": {
      "text/plain": [
       "\"DB: opt gap = 1.0\""
      ]
     },
     "metadata": {},
     "output_type": "display_data"
    },
    {
     "data": {
      "text/plain": [
       "\">>>>>> iteration 1:O\""
      ]
     },
     "metadata": {},
     "output_type": "display_data"
    },
    {
     "data": {
      "text/plain": [
       "\"DB: opt gap = 1.0\""
      ]
     },
     "metadata": {},
     "output_type": "display_data"
    },
    {
     "data": {
      "text/plain": [
       "\">>>>>> iteration 2:O\""
      ]
     },
     "metadata": {},
     "output_type": "display_data"
    },
    {
     "data": {
      "text/plain": [
       "\"DB: opt gap = 1.0\""
      ]
     },
     "metadata": {},
     "output_type": "display_data"
    },
    {
     "data": {
      "text/plain": [
       "\">>>>>> iteration 3:O\""
      ]
     },
     "metadata": {},
     "output_type": "display_data"
    },
    {
     "data": {
      "text/plain": [
       "\"DB: opt gap = 1.0\""
      ]
     },
     "metadata": {},
     "output_type": "display_data"
    },
    {
     "data": {
      "text/plain": [
       "\">>>>>> iteration 4:O\""
      ]
     },
     "metadata": {},
     "output_type": "display_data"
    },
    {
     "data": {
      "text/plain": [
       "\"DB: opt gap = 0.7445401666939173\""
      ]
     },
     "metadata": {},
     "output_type": "display_data"
    },
    {
     "data": {
      "text/plain": [
       "\">>>>>> iteration 5:O\""
      ]
     },
     "metadata": {},
     "output_type": "display_data"
    },
    {
     "data": {
      "text/plain": [
       "\"DB: opt gap = 0.6454013200353848\""
      ]
     },
     "metadata": {},
     "output_type": "display_data"
    },
    {
     "data": {
      "text/plain": [
       "\">>>>>> iteration 6:O\""
      ]
     },
     "metadata": {},
     "output_type": "display_data"
    },
    {
     "data": {
      "text/plain": [
       "\"DB: opt gap = 0.512868575750726\""
      ]
     },
     "metadata": {},
     "output_type": "display_data"
    },
    {
     "data": {
      "text/plain": [
       "\">>>>>> iteration 7:O\""
      ]
     },
     "metadata": {},
     "output_type": "display_data"
    },
    {
     "data": {
      "text/plain": [
       "\"DB: opt gap = 0.46140703259267135\""
      ]
     },
     "metadata": {},
     "output_type": "display_data"
    },
    {
     "data": {
      "text/plain": [
       "\">>>>>> iteration 8:O\""
      ]
     },
     "metadata": {},
     "output_type": "display_data"
    },
    {
     "data": {
      "text/plain": [
       "\"DB: opt gap = 0.48174635007917854\""
      ]
     },
     "metadata": {},
     "output_type": "display_data"
    },
    {
     "data": {
      "text/plain": [
       "\">>>>>> iteration 9:O\""
      ]
     },
     "metadata": {},
     "output_type": "display_data"
    },
    {
     "data": {
      "text/plain": [
       "\"DB: opt gap = 0.059483288482546706\""
      ]
     },
     "metadata": {},
     "output_type": "display_data"
    },
    {
     "data": {
      "text/plain": [
       "\">>>>>> iteration 10:O\""
      ]
     },
     "metadata": {},
     "output_type": "display_data"
    },
    {
     "data": {
      "text/plain": [
       "\"DB: opt gap = 0.05913189286796545\""
      ]
     },
     "metadata": {},
     "output_type": "display_data"
    },
    {
     "data": {
      "text/plain": [
       "\">>>>>> iteration 11:O\""
      ]
     },
     "metadata": {},
     "output_type": "display_data"
    },
    {
     "data": {
      "text/plain": [
       "\"DB: opt gap = 0.057447681975442304\""
      ]
     },
     "metadata": {},
     "output_type": "display_data"
    },
    {
     "data": {
      "text/plain": [
       "\">>>>>> iteration 12:O\""
      ]
     },
     "metadata": {},
     "output_type": "display_data"
    },
    {
     "data": {
      "text/plain": [
       "\"DB: opt gap = 0.05655298142864158\""
      ]
     },
     "metadata": {},
     "output_type": "display_data"
    },
    {
     "data": {
      "text/plain": [
       "\">>>>>> iteration 13:O\""
      ]
     },
     "metadata": {},
     "output_type": "display_data"
    },
    {
     "data": {
      "text/plain": [
       "\"DB: opt gap = 0.00025005729752503546\""
      ]
     },
     "metadata": {},
     "output_type": "display_data"
    },
    {
     "data": {
      "text/plain": [
       "\"evaluating 24 reactors in parallel | option 3\""
      ]
     },
     "metadata": {},
     "output_type": "display_data"
    },
    {
     "data": {
      "text/plain": [
       "\"DB: opt gap = 1.0\""
      ]
     },
     "metadata": {},
     "output_type": "display_data"
    },
    {
     "data": {
      "text/plain": [
       "\">>>>>> iteration 1:O\""
      ]
     },
     "metadata": {},
     "output_type": "display_data"
    },
    {
     "data": {
      "text/plain": [
       "\"DB: opt gap = 1.0\""
      ]
     },
     "metadata": {},
     "output_type": "display_data"
    },
    {
     "data": {
      "text/plain": [
       "\">>>>>> iteration 2:O\""
      ]
     },
     "metadata": {},
     "output_type": "display_data"
    },
    {
     "data": {
      "text/plain": [
       "\"DB: opt gap = 1.0\""
      ]
     },
     "metadata": {},
     "output_type": "display_data"
    },
    {
     "data": {
      "text/plain": [
       "\">>>>>> iteration 3:O\""
      ]
     },
     "metadata": {},
     "output_type": "display_data"
    },
    {
     "data": {
      "text/plain": [
       "\"DB: opt gap = 1.0\""
      ]
     },
     "metadata": {},
     "output_type": "display_data"
    },
    {
     "data": {
      "text/plain": [
       "\">>>>>> iteration 4:O\""
      ]
     },
     "metadata": {},
     "output_type": "display_data"
    },
    {
     "data": {
      "text/plain": [
       "\"DB: opt gap = 0.8007667360886025\""
      ]
     },
     "metadata": {},
     "output_type": "display_data"
    },
    {
     "data": {
      "text/plain": [
       "\">>>>>> iteration 5:O\""
      ]
     },
     "metadata": {},
     "output_type": "display_data"
    },
    {
     "data": {
      "text/plain": [
       "\"DB: opt gap = 0.6962715678413557\""
      ]
     },
     "metadata": {},
     "output_type": "display_data"
    },
    {
     "data": {
      "text/plain": [
       "\">>>>>> iteration 6:O\""
      ]
     },
     "metadata": {},
     "output_type": "display_data"
    },
    {
     "data": {
      "text/plain": [
       "\"DB: opt gap = 0.650586615797654\""
      ]
     },
     "metadata": {},
     "output_type": "display_data"
    },
    {
     "data": {
      "text/plain": [
       "\">>>>>> iteration 7:O\""
      ]
     },
     "metadata": {},
     "output_type": "display_data"
    },
    {
     "data": {
      "text/plain": [
       "\"DB: opt gap = 0.6215028104663303\""
      ]
     },
     "metadata": {},
     "output_type": "display_data"
    },
    {
     "data": {
      "text/plain": [
       "\">>>>>> iteration 8:O\""
      ]
     },
     "metadata": {},
     "output_type": "display_data"
    },
    {
     "data": {
      "text/plain": [
       "\"DB: opt gap = 0.5862655914286545\""
      ]
     },
     "metadata": {},
     "output_type": "display_data"
    },
    {
     "data": {
      "text/plain": [
       "\">>>>>> iteration 9:O\""
      ]
     },
     "metadata": {},
     "output_type": "display_data"
    },
    {
     "data": {
      "text/plain": [
       "\"DB: opt gap = 0.02376889504207854\""
      ]
     },
     "metadata": {},
     "output_type": "display_data"
    },
    {
     "data": {
      "text/plain": [
       "\">>>>>> iteration 10:O\""
      ]
     },
     "metadata": {},
     "output_type": "display_data"
    },
    {
     "data": {
      "text/plain": [
       "\"DB: opt gap = 0.023578207607909515\""
      ]
     },
     "metadata": {},
     "output_type": "display_data"
    },
    {
     "data": {
      "text/plain": [
       "\">>>>>> iteration 11:O\""
      ]
     },
     "metadata": {},
     "output_type": "display_data"
    },
    {
     "data": {
      "text/plain": [
       "\">>>>>> iteration 12:F\""
      ]
     },
     "metadata": {},
     "output_type": "display_data"
    },
    {
     "data": {
      "text/plain": [
       "\"DB: opt gap = 0.023257853389267766\""
      ]
     },
     "metadata": {},
     "output_type": "display_data"
    },
    {
     "data": {
      "text/plain": [
       "\">>>>>> iteration 13:O\""
      ]
     },
     "metadata": {},
     "output_type": "display_data"
    },
    {
     "data": {
      "text/plain": [
       "\"DB: opt gap = 0.02266568239226577\""
      ]
     },
     "metadata": {},
     "output_type": "display_data"
    },
    {
     "data": {
      "text/plain": [
       "\">>>>>> iteration 14:O\""
      ]
     },
     "metadata": {},
     "output_type": "display_data"
    },
    {
     "data": {
      "text/plain": [
       "\"DB: opt gap = 0.02238866215850204\""
      ]
     },
     "metadata": {},
     "output_type": "display_data"
    },
    {
     "data": {
      "text/plain": [
       "\">>>>>> iteration 15:O\""
      ]
     },
     "metadata": {},
     "output_type": "display_data"
    },
    {
     "data": {
      "text/plain": [
       "\"DB: opt gap = 0.022231411607628624\""
      ]
     },
     "metadata": {},
     "output_type": "display_data"
    },
    {
     "data": {
      "text/plain": [
       "\">>>>>> iteration 16:O\""
      ]
     },
     "metadata": {},
     "output_type": "display_data"
    },
    {
     "data": {
      "text/plain": [
       "\"DB: opt gap = 0.021775347684886436\""
      ]
     },
     "metadata": {},
     "output_type": "display_data"
    },
    {
     "data": {
      "text/plain": [
       "\">>>>>> iteration 17:O\""
      ]
     },
     "metadata": {},
     "output_type": "display_data"
    },
    {
     "data": {
      "text/plain": [
       "\"DB: opt gap = 3.138856024168383e-5\""
      ]
     },
     "metadata": {},
     "output_type": "display_data"
    },
    {
     "data": {
      "text/plain": [
       "\"evaluating 25 reactors in parallel | option 3\""
      ]
     },
     "metadata": {},
     "output_type": "display_data"
    },
    {
     "data": {
      "text/plain": [
       "\"DB: opt gap = 1.0\""
      ]
     },
     "metadata": {},
     "output_type": "display_data"
    },
    {
     "data": {
      "text/plain": [
       "\">>>>>> iteration 1:O\""
      ]
     },
     "metadata": {},
     "output_type": "display_data"
    },
    {
     "data": {
      "text/plain": [
       "\"DB: opt gap = 1.0\""
      ]
     },
     "metadata": {},
     "output_type": "display_data"
    },
    {
     "data": {
      "text/plain": [
       "\">>>>>> iteration 2:O\""
      ]
     },
     "metadata": {},
     "output_type": "display_data"
    },
    {
     "data": {
      "text/plain": [
       "\"DB: opt gap = 1.0\""
      ]
     },
     "metadata": {},
     "output_type": "display_data"
    },
    {
     "data": {
      "text/plain": [
       "\">>>>>> iteration 3:O\""
      ]
     },
     "metadata": {},
     "output_type": "display_data"
    },
    {
     "data": {
      "text/plain": [
       "\"DB: opt gap = 1.0\""
      ]
     },
     "metadata": {},
     "output_type": "display_data"
    },
    {
     "data": {
      "text/plain": [
       "\">>>>>> iteration 4:O\""
      ]
     },
     "metadata": {},
     "output_type": "display_data"
    },
    {
     "data": {
      "text/plain": [
       "\"DB: opt gap = 0.8007666054412714\""
      ]
     },
     "metadata": {},
     "output_type": "display_data"
    },
    {
     "data": {
      "text/plain": [
       "\">>>>>> iteration 5:O\""
      ]
     },
     "metadata": {},
     "output_type": "display_data"
    },
    {
     "data": {
      "text/plain": [
       "\"DB: opt gap = 0.6962712794110556\""
      ]
     },
     "metadata": {},
     "output_type": "display_data"
    },
    {
     "data": {
      "text/plain": [
       "\">>>>>> iteration 6:O\""
      ]
     },
     "metadata": {},
     "output_type": "display_data"
    },
    {
     "data": {
      "text/plain": [
       "\"DB: opt gap = 0.5636368565901255\""
      ]
     },
     "metadata": {},
     "output_type": "display_data"
    },
    {
     "data": {
      "text/plain": [
       "\">>>>>> iteration 7:O\""
      ]
     },
     "metadata": {},
     "output_type": "display_data"
    },
    {
     "data": {
      "text/plain": [
       "\"DB: opt gap = 0.5248524870154538\""
      ]
     },
     "metadata": {},
     "output_type": "display_data"
    },
    {
     "data": {
      "text/plain": [
       "\">>>>>> iteration 8:O\""
      ]
     },
     "metadata": {},
     "output_type": "display_data"
    },
    {
     "data": {
      "text/plain": [
       "\"DB: opt gap = 0.47512842872993444\""
      ]
     },
     "metadata": {},
     "output_type": "display_data"
    },
    {
     "data": {
      "text/plain": [
       "\">>>>>> iteration 9:O\""
      ]
     },
     "metadata": {},
     "output_type": "display_data"
    },
    {
     "data": {
      "text/plain": [
       "\"DB: opt gap = 0.07154271929643374\""
      ]
     },
     "metadata": {},
     "output_type": "display_data"
    },
    {
     "data": {
      "text/plain": [
       "\">>>>>> iteration 10:O\""
      ]
     },
     "metadata": {},
     "output_type": "display_data"
    },
    {
     "data": {
      "text/plain": [
       "\"DB: opt gap = 0.06770176850064501\""
      ]
     },
     "metadata": {},
     "output_type": "display_data"
    },
    {
     "data": {
      "text/plain": [
       "\">>>>>> iteration 11:O\""
      ]
     },
     "metadata": {},
     "output_type": "display_data"
    },
    {
     "data": {
      "text/plain": [
       "\"DB: opt gap = 0.06659443430321785\""
      ]
     },
     "metadata": {},
     "output_type": "display_data"
    },
    {
     "data": {
      "text/plain": [
       "\">>>>>> iteration 12:O\""
      ]
     },
     "metadata": {},
     "output_type": "display_data"
    },
    {
     "data": {
      "text/plain": [
       "\"DB: opt gap = 0.06462441492310653\""
      ]
     },
     "metadata": {},
     "output_type": "display_data"
    },
    {
     "data": {
      "text/plain": [
       "\">>>>>> iteration 13:O\""
      ]
     },
     "metadata": {},
     "output_type": "display_data"
    },
    {
     "data": {
      "text/plain": [
       "\"DB: opt gap = 0.06348769268518564\""
      ]
     },
     "metadata": {},
     "output_type": "display_data"
    },
    {
     "data": {
      "text/plain": [
       "\">>>>>> iteration 14:O\""
      ]
     },
     "metadata": {},
     "output_type": "display_data"
    },
    {
     "data": {
      "text/plain": [
       "\"DB: opt gap = 0.06313460603626857\""
      ]
     },
     "metadata": {},
     "output_type": "display_data"
    },
    {
     "data": {
      "text/plain": [
       "\">>>>>> iteration 15:O\""
      ]
     },
     "metadata": {},
     "output_type": "display_data"
    },
    {
     "data": {
      "text/plain": [
       "\"DB: opt gap = 0.0006232696478821363\""
      ]
     },
     "metadata": {},
     "output_type": "display_data"
    },
    {
     "data": {
      "text/plain": [
       "\"evaluating 26 reactors in parallel | option 3\""
      ]
     },
     "metadata": {},
     "output_type": "display_data"
    },
    {
     "data": {
      "text/plain": [
       "\"DB: opt gap = 1.0\""
      ]
     },
     "metadata": {},
     "output_type": "display_data"
    },
    {
     "data": {
      "text/plain": [
       "\">>>>>> iteration 1:O\""
      ]
     },
     "metadata": {},
     "output_type": "display_data"
    },
    {
     "data": {
      "text/plain": [
       "\"DB: opt gap = 1.0\""
      ]
     },
     "metadata": {},
     "output_type": "display_data"
    },
    {
     "data": {
      "text/plain": [
       "\">>>>>> iteration 2:O\""
      ]
     },
     "metadata": {},
     "output_type": "display_data"
    },
    {
     "data": {
      "text/plain": [
       "\"DB: opt gap = 1.0\""
      ]
     },
     "metadata": {},
     "output_type": "display_data"
    },
    {
     "data": {
      "text/plain": [
       "\">>>>>> iteration 3:O\""
      ]
     },
     "metadata": {},
     "output_type": "display_data"
    },
    {
     "data": {
      "text/plain": [
       "\"DB: opt gap = 1.0\""
      ]
     },
     "metadata": {},
     "output_type": "display_data"
    },
    {
     "data": {
      "text/plain": [
       "\">>>>>> iteration 4:O\""
      ]
     },
     "metadata": {},
     "output_type": "display_data"
    },
    {
     "data": {
      "text/plain": [
       "\"DB: opt gap = 0.7445404323683287\""
      ]
     },
     "metadata": {},
     "output_type": "display_data"
    },
    {
     "data": {
      "text/plain": [
       "\">>>>>> iteration 5:O\""
      ]
     },
     "metadata": {},
     "output_type": "display_data"
    },
    {
     "data": {
      "text/plain": [
       "\"DB: opt gap = 0.6973080443678513\""
      ]
     },
     "metadata": {},
     "output_type": "display_data"
    },
    {
     "data": {
      "text/plain": [
       "\">>>>>> iteration 6:O\""
      ]
     },
     "metadata": {},
     "output_type": "display_data"
    },
    {
     "data": {
      "text/plain": [
       "\"DB: opt gap = 0.7110843453838213\""
      ]
     },
     "metadata": {},
     "output_type": "display_data"
    },
    {
     "data": {
      "text/plain": [
       "\">>>>>> iteration 7:O\""
      ]
     },
     "metadata": {},
     "output_type": "display_data"
    },
    {
     "data": {
      "text/plain": [
       "\"DB: opt gap = 0.04112059503481471\""
      ]
     },
     "metadata": {},
     "output_type": "display_data"
    },
    {
     "data": {
      "text/plain": [
       "\">>>>>> iteration 8:O\""
      ]
     },
     "metadata": {},
     "output_type": "display_data"
    },
    {
     "data": {
      "text/plain": [
       "\"DB: opt gap = 0.04057291559377408\""
      ]
     },
     "metadata": {},
     "output_type": "display_data"
    },
    {
     "data": {
      "text/plain": [
       "\">>>>>> iteration 9:O\""
      ]
     },
     "metadata": {},
     "output_type": "display_data"
    },
    {
     "data": {
      "text/plain": [
       "\"DB: opt gap = 0.040225640754681644\""
      ]
     },
     "metadata": {},
     "output_type": "display_data"
    },
    {
     "data": {
      "text/plain": [
       "\">>>>>> iteration 10:O\""
      ]
     },
     "metadata": {},
     "output_type": "display_data"
    },
    {
     "data": {
      "text/plain": [
       "\"DB: opt gap = 3.950311758958171e-5\""
      ]
     },
     "metadata": {},
     "output_type": "display_data"
    },
    {
     "data": {
      "text/plain": [
       "\"evaluating 27 reactors in parallel | option 3\""
      ]
     },
     "metadata": {},
     "output_type": "display_data"
    },
    {
     "data": {
      "text/plain": [
       "\"DB: opt gap = 1.0\""
      ]
     },
     "metadata": {},
     "output_type": "display_data"
    },
    {
     "data": {
      "text/plain": [
       "\">>>>>> iteration 1:O\""
      ]
     },
     "metadata": {},
     "output_type": "display_data"
    },
    {
     "data": {
      "text/plain": [
       "\"DB: opt gap = 1.0\""
      ]
     },
     "metadata": {},
     "output_type": "display_data"
    },
    {
     "data": {
      "text/plain": [
       "\">>>>>> iteration 2:O\""
      ]
     },
     "metadata": {},
     "output_type": "display_data"
    },
    {
     "data": {
      "text/plain": [
       "\"DB: opt gap = 1.0\""
      ]
     },
     "metadata": {},
     "output_type": "display_data"
    },
    {
     "data": {
      "text/plain": [
       "\">>>>>> iteration 3:O\""
      ]
     },
     "metadata": {},
     "output_type": "display_data"
    },
    {
     "data": {
      "text/plain": [
       "\"DB: opt gap = 1.0\""
      ]
     },
     "metadata": {},
     "output_type": "display_data"
    },
    {
     "data": {
      "text/plain": [
       "\">>>>>> iteration 4:O\""
      ]
     },
     "metadata": {},
     "output_type": "display_data"
    },
    {
     "data": {
      "text/plain": [
       "\"DB: opt gap = 0.9802032991260999\""
      ]
     },
     "metadata": {},
     "output_type": "display_data"
    },
    {
     "data": {
      "text/plain": [
       "\">>>>>> iteration 5:O\""
      ]
     },
     "metadata": {},
     "output_type": "display_data"
    },
    {
     "data": {
      "text/plain": [
       "\"DB: opt gap = 0.7093841375876195\""
      ]
     },
     "metadata": {},
     "output_type": "display_data"
    },
    {
     "data": {
      "text/plain": [
       "\">>>>>> iteration 6:O\""
      ]
     },
     "metadata": {},
     "output_type": "display_data"
    },
    {
     "data": {
      "text/plain": [
       "\"DB: opt gap = 0.6962047831835179\""
      ]
     },
     "metadata": {},
     "output_type": "display_data"
    },
    {
     "data": {
      "text/plain": [
       "\">>>>>> iteration 7:O\""
      ]
     },
     "metadata": {},
     "output_type": "display_data"
    },
    {
     "data": {
      "text/plain": [
       "\"DB: opt gap = 0.029650497643834133\""
      ]
     },
     "metadata": {},
     "output_type": "display_data"
    },
    {
     "data": {
      "text/plain": [
       "\">>>>>> iteration 8:O\""
      ]
     },
     "metadata": {},
     "output_type": "display_data"
    },
    {
     "data": {
      "text/plain": [
       "\"DB: opt gap = 0.028790675511873216\""
      ]
     },
     "metadata": {},
     "output_type": "display_data"
    },
    {
     "data": {
      "text/plain": [
       "\">>>>>> iteration 9:O\""
      ]
     },
     "metadata": {},
     "output_type": "display_data"
    },
    {
     "data": {
      "text/plain": [
       "\"DB: opt gap = 0.028477380726439135\""
      ]
     },
     "metadata": {},
     "output_type": "display_data"
    },
    {
     "data": {
      "text/plain": [
       "\">>>>>> iteration 10:O\""
      ]
     },
     "metadata": {},
     "output_type": "display_data"
    },
    {
     "data": {
      "text/plain": [
       "\"DB: opt gap = 0.027749365340155308\""
      ]
     },
     "metadata": {},
     "output_type": "display_data"
    },
    {
     "data": {
      "text/plain": [
       "\">>>>>> iteration 11:O\""
      ]
     },
     "metadata": {},
     "output_type": "display_data"
    },
    {
     "data": {
      "text/plain": [
       "\"DB: opt gap = 0.02709787630234063\""
      ]
     },
     "metadata": {},
     "output_type": "display_data"
    },
    {
     "data": {
      "text/plain": [
       "\">>>>>> iteration 12:O\""
      ]
     },
     "metadata": {},
     "output_type": "display_data"
    },
    {
     "data": {
      "text/plain": [
       "\"DB: opt gap = 0.02699690998753019\""
      ]
     },
     "metadata": {},
     "output_type": "display_data"
    },
    {
     "data": {
      "text/plain": [
       "\">>>>>> iteration 13:O\""
      ]
     },
     "metadata": {},
     "output_type": "display_data"
    },
    {
     "data": {
      "text/plain": [
       "\"DB: opt gap = 0.027014034892937206\""
      ]
     },
     "metadata": {},
     "output_type": "display_data"
    },
    {
     "data": {
      "text/plain": [
       "\">>>>>> iteration 14:O\""
      ]
     },
     "metadata": {},
     "output_type": "display_data"
    },
    {
     "data": {
      "text/plain": [
       "\"DB: opt gap = 0.026915175476260104\""
      ]
     },
     "metadata": {},
     "output_type": "display_data"
    },
    {
     "data": {
      "text/plain": [
       "\">>>>>> iteration 15:O\""
      ]
     },
     "metadata": {},
     "output_type": "display_data"
    },
    {
     "data": {
      "text/plain": [
       "\"DB: opt gap = 4.835091040697825e-5\""
      ]
     },
     "metadata": {},
     "output_type": "display_data"
    },
    {
     "data": {
      "text/plain": [
       "\"evaluating 28 reactors in parallel | option 3\""
      ]
     },
     "metadata": {},
     "output_type": "display_data"
    },
    {
     "data": {
      "text/plain": [
       "\"DB: opt gap = 1.0\""
      ]
     },
     "metadata": {},
     "output_type": "display_data"
    },
    {
     "data": {
      "text/plain": [
       "\">>>>>> iteration 1:O\""
      ]
     },
     "metadata": {},
     "output_type": "display_data"
    },
    {
     "data": {
      "text/plain": [
       "\"DB: opt gap = 1.0\""
      ]
     },
     "metadata": {},
     "output_type": "display_data"
    },
    {
     "data": {
      "text/plain": [
       "\">>>>>> iteration 2:O\""
      ]
     },
     "metadata": {},
     "output_type": "display_data"
    },
    {
     "data": {
      "text/plain": [
       "\"DB: opt gap = 1.0\""
      ]
     },
     "metadata": {},
     "output_type": "display_data"
    },
    {
     "data": {
      "text/plain": [
       "\">>>>>> iteration 3:O\""
      ]
     },
     "metadata": {},
     "output_type": "display_data"
    },
    {
     "data": {
      "text/plain": [
       "\"DB: opt gap = 1.0\""
      ]
     },
     "metadata": {},
     "output_type": "display_data"
    },
    {
     "data": {
      "text/plain": [
       "\">>>>>> iteration 4:O\""
      ]
     },
     "metadata": {},
     "output_type": "display_data"
    },
    {
     "data": {
      "text/plain": [
       "\"DB: opt gap = 0.8007666183702882\""
      ]
     },
     "metadata": {},
     "output_type": "display_data"
    },
    {
     "data": {
      "text/plain": [
       "\">>>>>> iteration 5:O\""
      ]
     },
     "metadata": {},
     "output_type": "display_data"
    },
    {
     "data": {
      "text/plain": [
       "\"DB: opt gap = 0.6962714874785262\""
      ]
     },
     "metadata": {},
     "output_type": "display_data"
    },
    {
     "data": {
      "text/plain": [
       "\">>>>>> iteration 6:O\""
      ]
     },
     "metadata": {},
     "output_type": "display_data"
    },
    {
     "data": {
      "text/plain": [
       "\"DB: opt gap = 0.6505864675234005\""
      ]
     },
     "metadata": {},
     "output_type": "display_data"
    },
    {
     "data": {
      "text/plain": [
       "\">>>>>> iteration 7:O\""
      ]
     },
     "metadata": {},
     "output_type": "display_data"
    },
    {
     "data": {
      "text/plain": [
       "\"DB: opt gap = 0.6215024712266596\""
      ]
     },
     "metadata": {},
     "output_type": "display_data"
    },
    {
     "data": {
      "text/plain": [
       "\">>>>>> iteration 8:O\""
      ]
     },
     "metadata": {},
     "output_type": "display_data"
    },
    {
     "data": {
      "text/plain": [
       "\"DB: opt gap = 0.4143790659376129\""
      ]
     },
     "metadata": {},
     "output_type": "display_data"
    },
    {
     "data": {
      "text/plain": [
       "\">>>>>> iteration 9:O\""
      ]
     },
     "metadata": {},
     "output_type": "display_data"
    },
    {
     "data": {
      "text/plain": [
       "\"DB: opt gap = 0.45186436402792335\""
      ]
     },
     "metadata": {},
     "output_type": "display_data"
    },
    {
     "data": {
      "text/plain": [
       "\">>>>>> iteration 10:O\""
      ]
     },
     "metadata": {},
     "output_type": "display_data"
    },
    {
     "data": {
      "text/plain": [
       "\"DB: opt gap = 0.03607920467289948\""
      ]
     },
     "metadata": {},
     "output_type": "display_data"
    },
    {
     "data": {
      "text/plain": [
       "\">>>>>> iteration 11:O\""
      ]
     },
     "metadata": {},
     "output_type": "display_data"
    },
    {
     "data": {
      "text/plain": [
       "\"DB: opt gap = 0.03578674360149101\""
      ]
     },
     "metadata": {},
     "output_type": "display_data"
    },
    {
     "data": {
      "text/plain": [
       "\">>>>>> iteration 12:O\""
      ]
     },
     "metadata": {},
     "output_type": "display_data"
    },
    {
     "data": {
      "text/plain": [
       "\"DB: opt gap = 0.03499733873563662\""
      ]
     },
     "metadata": {},
     "output_type": "display_data"
    },
    {
     "data": {
      "text/plain": [
       "\">>>>>> iteration 13:O\""
      ]
     },
     "metadata": {},
     "output_type": "display_data"
    },
    {
     "data": {
      "text/plain": [
       "\"DB: opt gap = 0.034586443960056085\""
      ]
     },
     "metadata": {},
     "output_type": "display_data"
    },
    {
     "data": {
      "text/plain": [
       "\">>>>>> iteration 14:O\""
      ]
     },
     "metadata": {},
     "output_type": "display_data"
    },
    {
     "data": {
      "text/plain": [
       "\"DB: opt gap = 0.03431999337210891\""
      ]
     },
     "metadata": {},
     "output_type": "display_data"
    },
    {
     "data": {
      "text/plain": [
       "\">>>>>> iteration 15:O\""
      ]
     },
     "metadata": {},
     "output_type": "display_data"
    },
    {
     "data": {
      "text/plain": [
       "\"DB: opt gap = 9.305016178450665e-5\""
      ]
     },
     "metadata": {},
     "output_type": "display_data"
    },
    {
     "data": {
      "text/plain": [
       "\"evaluating 29 reactors in parallel | option 3\""
      ]
     },
     "metadata": {},
     "output_type": "display_data"
    },
    {
     "data": {
      "text/plain": [
       "\"DB: opt gap = 1.0\""
      ]
     },
     "metadata": {},
     "output_type": "display_data"
    },
    {
     "data": {
      "text/plain": [
       "\">>>>>> iteration 1:O\""
      ]
     },
     "metadata": {},
     "output_type": "display_data"
    },
    {
     "data": {
      "text/plain": [
       "\"DB: opt gap = 1.0\""
      ]
     },
     "metadata": {},
     "output_type": "display_data"
    },
    {
     "data": {
      "text/plain": [
       "\">>>>>> iteration 2:O\""
      ]
     },
     "metadata": {},
     "output_type": "display_data"
    },
    {
     "data": {
      "text/plain": [
       "\"DB: opt gap = 1.0\""
      ]
     },
     "metadata": {},
     "output_type": "display_data"
    },
    {
     "data": {
      "text/plain": [
       "\">>>>>> iteration 3:O\""
      ]
     },
     "metadata": {},
     "output_type": "display_data"
    },
    {
     "data": {
      "text/plain": [
       "\"DB: opt gap = 1.0\""
      ]
     },
     "metadata": {},
     "output_type": "display_data"
    },
    {
     "data": {
      "text/plain": [
       "\">>>>>> iteration 4:O\""
      ]
     },
     "metadata": {},
     "output_type": "display_data"
    },
    {
     "data": {
      "text/plain": [
       "\"DB: opt gap = 1.0\""
      ]
     },
     "metadata": {},
     "output_type": "display_data"
    },
    {
     "data": {
      "text/plain": [
       "\">>>>>> iteration 5:O\""
      ]
     },
     "metadata": {},
     "output_type": "display_data"
    },
    {
     "data": {
      "text/plain": [
       "\"DB: opt gap = 0.7302774551712689\""
      ]
     },
     "metadata": {},
     "output_type": "display_data"
    },
    {
     "data": {
      "text/plain": [
       "\">>>>>> iteration 6:O\""
      ]
     },
     "metadata": {},
     "output_type": "display_data"
    },
    {
     "data": {
      "text/plain": [
       "\"DB: opt gap = 0.6759312645607248\""
      ]
     },
     "metadata": {},
     "output_type": "display_data"
    },
    {
     "data": {
      "text/plain": [
       "\">>>>>> iteration 7:O\""
      ]
     },
     "metadata": {},
     "output_type": "display_data"
    },
    {
     "data": {
      "text/plain": [
       "\"DB: opt gap = 0.5302895585166482\""
      ]
     },
     "metadata": {},
     "output_type": "display_data"
    },
    {
     "data": {
      "text/plain": [
       "\">>>>>> iteration 8:O\""
      ]
     },
     "metadata": {},
     "output_type": "display_data"
    },
    {
     "data": {
      "text/plain": [
       "\"DB: opt gap = 0.5113175300206105\""
      ]
     },
     "metadata": {},
     "output_type": "display_data"
    },
    {
     "data": {
      "text/plain": [
       "\">>>>>> iteration 9:O\""
      ]
     },
     "metadata": {},
     "output_type": "display_data"
    },
    {
     "data": {
      "text/plain": [
       "\"DB: opt gap = 0.31140933104382174\""
      ]
     },
     "metadata": {},
     "output_type": "display_data"
    },
    {
     "data": {
      "text/plain": [
       "\">>>>>> iteration 10:O\""
      ]
     },
     "metadata": {},
     "output_type": "display_data"
    },
    {
     "data": {
      "text/plain": [
       "\"DB: opt gap = 0.3442920447052978\""
      ]
     },
     "metadata": {},
     "output_type": "display_data"
    },
    {
     "data": {
      "text/plain": [
       "\">>>>>> iteration 11:O\""
      ]
     },
     "metadata": {},
     "output_type": "display_data"
    },
    {
     "data": {
      "text/plain": [
       "\"DB: opt gap = 0.011809550913437904\""
      ]
     },
     "metadata": {},
     "output_type": "display_data"
    },
    {
     "data": {
      "text/plain": [
       "\">>>>>> iteration 12:O\""
      ]
     },
     "metadata": {},
     "output_type": "display_data"
    },
    {
     "data": {
      "text/plain": [
       "\"DB: opt gap = 0.011575462701631508\""
      ]
     },
     "metadata": {},
     "output_type": "display_data"
    },
    {
     "data": {
      "text/plain": [
       "\">>>>>> iteration 13:O\""
      ]
     },
     "metadata": {},
     "output_type": "display_data"
    },
    {
     "data": {
      "text/plain": [
       "\"DB: opt gap = 0.01150677369648218\""
      ]
     },
     "metadata": {},
     "output_type": "display_data"
    },
    {
     "data": {
      "text/plain": [
       "\">>>>>> iteration 14:O\""
      ]
     },
     "metadata": {},
     "output_type": "display_data"
    },
    {
     "data": {
      "text/plain": [
       "\"DB: opt gap = 0.011376389279978666\""
      ]
     },
     "metadata": {},
     "output_type": "display_data"
    },
    {
     "data": {
      "text/plain": [
       "\">>>>>> iteration 15:O\""
      ]
     },
     "metadata": {},
     "output_type": "display_data"
    },
    {
     "data": {
      "text/plain": [
       "\"DB: opt gap = 4.837532069640369e-6\""
      ]
     },
     "metadata": {},
     "output_type": "display_data"
    },
    {
     "data": {
      "text/plain": [
       "\"evaluating 30 reactors in parallel | option 3\""
      ]
     },
     "metadata": {},
     "output_type": "display_data"
    },
    {
     "data": {
      "text/plain": [
       "\"DB: opt gap = 1.0\""
      ]
     },
     "metadata": {},
     "output_type": "display_data"
    },
    {
     "data": {
      "text/plain": [
       "\">>>>>> iteration 1:O\""
      ]
     },
     "metadata": {},
     "output_type": "display_data"
    },
    {
     "data": {
      "text/plain": [
       "\"DB: opt gap = 1.0\""
      ]
     },
     "metadata": {},
     "output_type": "display_data"
    },
    {
     "data": {
      "text/plain": [
       "\">>>>>> iteration 2:O\""
      ]
     },
     "metadata": {},
     "output_type": "display_data"
    },
    {
     "data": {
      "text/plain": [
       "\"DB: opt gap = 1.0\""
      ]
     },
     "metadata": {},
     "output_type": "display_data"
    },
    {
     "data": {
      "text/plain": [
       "\">>>>>> iteration 3:O\""
      ]
     },
     "metadata": {},
     "output_type": "display_data"
    },
    {
     "data": {
      "text/plain": [
       "\"DB: opt gap = 1.0\""
      ]
     },
     "metadata": {},
     "output_type": "display_data"
    },
    {
     "data": {
      "text/plain": [
       "\">>>>>> iteration 4:O\""
      ]
     },
     "metadata": {},
     "output_type": "display_data"
    },
    {
     "data": {
      "text/plain": [
       "\"DB: opt gap = 1.0\""
      ]
     },
     "metadata": {},
     "output_type": "display_data"
    },
    {
     "data": {
      "text/plain": [
       "\">>>>>> iteration 5:O\""
      ]
     },
     "metadata": {},
     "output_type": "display_data"
    },
    {
     "data": {
      "text/plain": [
       "\"DB: opt gap = 0.9711302616687563\""
      ]
     },
     "metadata": {},
     "output_type": "display_data"
    },
    {
     "data": {
      "text/plain": [
       "\">>>>>> iteration 6:O\""
      ]
     },
     "metadata": {},
     "output_type": "display_data"
    },
    {
     "data": {
      "text/plain": [
       "\"DB: opt gap = 0.7451807122742269\""
      ]
     },
     "metadata": {},
     "output_type": "display_data"
    },
    {
     "data": {
      "text/plain": [
       "\">>>>>> iteration 7:O\""
      ]
     },
     "metadata": {},
     "output_type": "display_data"
    },
    {
     "data": {
      "text/plain": [
       "\"DB: opt gap = 0.7362603207070143\""
      ]
     },
     "metadata": {},
     "output_type": "display_data"
    },
    {
     "data": {
      "text/plain": [
       "\">>>>>> iteration 8:O\""
      ]
     },
     "metadata": {},
     "output_type": "display_data"
    },
    {
     "data": {
      "text/plain": [
       "\"DB: opt gap = 0.7015168652751019\""
      ]
     },
     "metadata": {},
     "output_type": "display_data"
    },
    {
     "data": {
      "text/plain": [
       "\">>>>>> iteration 9:O\""
      ]
     },
     "metadata": {},
     "output_type": "display_data"
    },
    {
     "data": {
      "text/plain": [
       "\"DB: opt gap = 0.0265914801475009\""
      ]
     },
     "metadata": {},
     "output_type": "display_data"
    },
    {
     "data": {
      "text/plain": [
       "\">>>>>> iteration 10:O\""
      ]
     },
     "metadata": {},
     "output_type": "display_data"
    },
    {
     "data": {
      "text/plain": [
       "\"DB: opt gap = 0.026316447299750637\""
      ]
     },
     "metadata": {},
     "output_type": "display_data"
    },
    {
     "data": {
      "text/plain": [
       "\">>>>>> iteration 11:O\""
      ]
     },
     "metadata": {},
     "output_type": "display_data"
    },
    {
     "data": {
      "text/plain": [
       "\"DB: opt gap = 0.026039472888025796\""
      ]
     },
     "metadata": {},
     "output_type": "display_data"
    },
    {
     "data": {
      "text/plain": [
       "\">>>>>> iteration 12:O\""
      ]
     },
     "metadata": {},
     "output_type": "display_data"
    },
    {
     "data": {
      "text/plain": [
       "\"DB: opt gap = 0.02498519802170374\""
      ]
     },
     "metadata": {},
     "output_type": "display_data"
    },
    {
     "data": {
      "text/plain": [
       "\">>>>>> iteration 13:O\""
      ]
     },
     "metadata": {},
     "output_type": "display_data"
    },
    {
     "data": {
      "text/plain": [
       "\"DB: opt gap = 0.024776697735693645\""
      ]
     },
     "metadata": {},
     "output_type": "display_data"
    },
    {
     "data": {
      "text/plain": [
       "\">>>>>> iteration 14:O\""
      ]
     },
     "metadata": {},
     "output_type": "display_data"
    },
    {
     "data": {
      "text/plain": [
       "\"DB: opt gap = 0.024687392895684265\""
      ]
     },
     "metadata": {},
     "output_type": "display_data"
    },
    {
     "data": {
      "text/plain": [
       "\">>>>>> iteration 15:O\""
      ]
     },
     "metadata": {},
     "output_type": "display_data"
    },
    {
     "data": {
      "text/plain": [
       "\"DB: opt gap = 0.024262162957414884\""
      ]
     },
     "metadata": {},
     "output_type": "display_data"
    },
    {
     "data": {
      "text/plain": [
       "\">>>>>> iteration 16:O\""
      ]
     },
     "metadata": {},
     "output_type": "display_data"
    },
    {
     "data": {
      "text/plain": [
       "\"DB: opt gap = 0.024177247739334416\""
      ]
     },
     "metadata": {},
     "output_type": "display_data"
    },
    {
     "data": {
      "text/plain": [
       "\">>>>>> iteration 17:O\""
      ]
     },
     "metadata": {},
     "output_type": "display_data"
    },
    {
     "data": {
      "text/plain": [
       "\"DB: opt gap = 0.023603024877547268\""
      ]
     },
     "metadata": {},
     "output_type": "display_data"
    },
    {
     "data": {
      "text/plain": [
       "\">>>>>> iteration 18:O\""
      ]
     },
     "metadata": {},
     "output_type": "display_data"
    },
    {
     "data": {
      "text/plain": [
       "\"DB: opt gap = 0.02338811191490536\""
      ]
     },
     "metadata": {},
     "output_type": "display_data"
    },
    {
     "data": {
      "text/plain": [
       "\">>>>>> iteration 19:O\""
      ]
     },
     "metadata": {},
     "output_type": "display_data"
    },
    {
     "data": {
      "text/plain": [
       "\"DB: opt gap = 0.023004089785227236\""
      ]
     },
     "metadata": {},
     "output_type": "display_data"
    },
    {
     "data": {
      "text/plain": [
       "\">>>>>> iteration 20:O\""
      ]
     },
     "metadata": {},
     "output_type": "display_data"
    },
    {
     "data": {
      "text/plain": [
       "\"DB: opt gap = 7.447169144997907e-5\""
      ]
     },
     "metadata": {},
     "output_type": "display_data"
    },
    {
     "data": {
      "text/plain": [
       "\"evaluating 31 reactors in parallel | option 3\""
      ]
     },
     "metadata": {},
     "output_type": "display_data"
    },
    {
     "data": {
      "text/plain": [
       "\"DB: opt gap = 1.0\""
      ]
     },
     "metadata": {},
     "output_type": "display_data"
    },
    {
     "data": {
      "text/plain": [
       "\">>>>>> iteration 1:O\""
      ]
     },
     "metadata": {},
     "output_type": "display_data"
    },
    {
     "data": {
      "text/plain": [
       "\"DB: opt gap = 1.0\""
      ]
     },
     "metadata": {},
     "output_type": "display_data"
    },
    {
     "data": {
      "text/plain": [
       "\">>>>>> iteration 2:O\""
      ]
     },
     "metadata": {},
     "output_type": "display_data"
    },
    {
     "data": {
      "text/plain": [
       "\"DB: opt gap = 1.0\""
      ]
     },
     "metadata": {},
     "output_type": "display_data"
    },
    {
     "data": {
      "text/plain": [
       "\">>>>>> iteration 3:O\""
      ]
     },
     "metadata": {},
     "output_type": "display_data"
    },
    {
     "data": {
      "text/plain": [
       "\"DB: opt gap = 1.0\""
      ]
     },
     "metadata": {},
     "output_type": "display_data"
    },
    {
     "data": {
      "text/plain": [
       "\">>>>>> iteration 4:O\""
      ]
     },
     "metadata": {},
     "output_type": "display_data"
    },
    {
     "data": {
      "text/plain": [
       "\"DB: opt gap = 1.0\""
      ]
     },
     "metadata": {},
     "output_type": "display_data"
    },
    {
     "data": {
      "text/plain": [
       "\">>>>>> iteration 5:O\""
      ]
     },
     "metadata": {},
     "output_type": "display_data"
    },
    {
     "data": {
      "text/plain": [
       "\"DB: opt gap = 0.9711301750656631\""
      ]
     },
     "metadata": {},
     "output_type": "display_data"
    },
    {
     "data": {
      "text/plain": [
       "\">>>>>> iteration 6:O\""
      ]
     },
     "metadata": {},
     "output_type": "display_data"
    },
    {
     "data": {
      "text/plain": [
       "\"DB: opt gap = 0.8973076545262103\""
      ]
     },
     "metadata": {},
     "output_type": "display_data"
    },
    {
     "data": {
      "text/plain": [
       "\">>>>>> iteration 7:O\""
      ]
     },
     "metadata": {},
     "output_type": "display_data"
    },
    {
     "data": {
      "text/plain": [
       "\"DB: opt gap = 0.5358121873333839\""
      ]
     },
     "metadata": {},
     "output_type": "display_data"
    },
    {
     "data": {
      "text/plain": [
       "\">>>>>> iteration 8:O\""
      ]
     },
     "metadata": {},
     "output_type": "display_data"
    },
    {
     "data": {
      "text/plain": [
       "\"DB: opt gap = 0.519964002985124\""
      ]
     },
     "metadata": {},
     "output_type": "display_data"
    },
    {
     "data": {
      "text/plain": [
       "\">>>>>> iteration 9:O\""
      ]
     },
     "metadata": {},
     "output_type": "display_data"
    },
    {
     "data": {
      "text/plain": [
       "\"DB: opt gap = 0.47801427475450214\""
      ]
     },
     "metadata": {},
     "output_type": "display_data"
    },
    {
     "data": {
      "text/plain": [
       "\">>>>>> iteration 10:O\""
      ]
     },
     "metadata": {},
     "output_type": "display_data"
    },
    {
     "data": {
      "text/plain": [
       "\"DB: opt gap = 0.45786375654036343\""
      ]
     },
     "metadata": {},
     "output_type": "display_data"
    },
    {
     "data": {
      "text/plain": [
       "\">>>>>> iteration 11:O\""
      ]
     },
     "metadata": {},
     "output_type": "display_data"
    },
    {
     "data": {
      "text/plain": [
       "\"DB: opt gap = 0.3024647697341977\""
      ]
     },
     "metadata": {},
     "output_type": "display_data"
    },
    {
     "data": {
      "text/plain": [
       "\">>>>>> iteration 12:O\""
      ]
     },
     "metadata": {},
     "output_type": "display_data"
    },
    {
     "data": {
      "text/plain": [
       "\"DB: opt gap = 0.3950952222963088\""
      ]
     },
     "metadata": {},
     "output_type": "display_data"
    },
    {
     "data": {
      "text/plain": [
       "\">>>>>> iteration 13:O\""
      ]
     },
     "metadata": {},
     "output_type": "display_data"
    },
    {
     "data": {
      "text/plain": [
       "\"DB: opt gap = 0.07664293339620852\""
      ]
     },
     "metadata": {},
     "output_type": "display_data"
    },
    {
     "data": {
      "text/plain": [
       "\">>>>>> iteration 14:O\""
      ]
     },
     "metadata": {},
     "output_type": "display_data"
    },
    {
     "data": {
      "text/plain": [
       "\"DB: opt gap = 0.07377613001062469\""
      ]
     },
     "metadata": {},
     "output_type": "display_data"
    },
    {
     "data": {
      "text/plain": [
       "\">>>>>> iteration 15:O\""
      ]
     },
     "metadata": {},
     "output_type": "display_data"
    },
    {
     "data": {
      "text/plain": [
       "\"DB: opt gap = 0.0007038068992043983\""
      ]
     },
     "metadata": {},
     "output_type": "display_data"
    },
    {
     "data": {
      "text/plain": [
       "\"evaluating 32 reactors in parallel | option 3\""
      ]
     },
     "metadata": {},
     "output_type": "display_data"
    },
    {
     "data": {
      "text/plain": [
       "\"DB: opt gap = 1.0\""
      ]
     },
     "metadata": {},
     "output_type": "display_data"
    },
    {
     "data": {
      "text/plain": [
       "\">>>>>> iteration 1:O\""
      ]
     },
     "metadata": {},
     "output_type": "display_data"
    },
    {
     "data": {
      "text/plain": [
       "\"DB: opt gap = 1.0\""
      ]
     },
     "metadata": {},
     "output_type": "display_data"
    },
    {
     "data": {
      "text/plain": [
       "\">>>>>> iteration 2:O\""
      ]
     },
     "metadata": {},
     "output_type": "display_data"
    },
    {
     "data": {
      "text/plain": [
       "\"DB: opt gap = 1.0\""
      ]
     },
     "metadata": {},
     "output_type": "display_data"
    },
    {
     "data": {
      "text/plain": [
       "\">>>>>> iteration 3:O\""
      ]
     },
     "metadata": {},
     "output_type": "display_data"
    },
    {
     "data": {
      "text/plain": [
       "\"DB: opt gap = 1.0\""
      ]
     },
     "metadata": {},
     "output_type": "display_data"
    },
    {
     "data": {
      "text/plain": [
       "\">>>>>> iteration 4:O\""
      ]
     },
     "metadata": {},
     "output_type": "display_data"
    },
    {
     "data": {
      "text/plain": [
       "\"DB: opt gap = 1.0\""
      ]
     },
     "metadata": {},
     "output_type": "display_data"
    },
    {
     "data": {
      "text/plain": [
       "\">>>>>> iteration 5:O\""
      ]
     },
     "metadata": {},
     "output_type": "display_data"
    },
    {
     "data": {
      "text/plain": [
       "\"DB: opt gap = 1.0\""
      ]
     },
     "metadata": {},
     "output_type": "display_data"
    },
    {
     "data": {
      "text/plain": [
       "\">>>>>> iteration 6:O\""
      ]
     },
     "metadata": {},
     "output_type": "display_data"
    },
    {
     "data": {
      "text/plain": [
       "\"DB: opt gap = 0.9359592274862363\""
      ]
     },
     "metadata": {},
     "output_type": "display_data"
    },
    {
     "data": {
      "text/plain": [
       "\">>>>>> iteration 7:O\""
      ]
     },
     "metadata": {},
     "output_type": "display_data"
    },
    {
     "data": {
      "text/plain": [
       "\"DB: opt gap = 0.8185189813819669\""
      ]
     },
     "metadata": {},
     "output_type": "display_data"
    },
    {
     "data": {
      "text/plain": [
       "\">>>>>> iteration 8:O\""
      ]
     },
     "metadata": {},
     "output_type": "display_data"
    },
    {
     "data": {
      "text/plain": [
       "\"DB: opt gap = 0.4847549713411334\""
      ]
     },
     "metadata": {},
     "output_type": "display_data"
    },
    {
     "data": {
      "text/plain": [
       "\">>>>>> iteration 9:O\""
      ]
     },
     "metadata": {},
     "output_type": "display_data"
    },
    {
     "data": {
      "text/plain": [
       "\"DB: opt gap = 0.42773211510057063\""
      ]
     },
     "metadata": {},
     "output_type": "display_data"
    },
    {
     "data": {
      "text/plain": [
       "\">>>>>> iteration 10:O\""
      ]
     },
     "metadata": {},
     "output_type": "display_data"
    },
    {
     "data": {
      "text/plain": [
       "\"DB: opt gap = 0.29144771397868113\""
      ]
     },
     "metadata": {},
     "output_type": "display_data"
    },
    {
     "data": {
      "text/plain": [
       "\">>>>>> iteration 11:O\""
      ]
     },
     "metadata": {},
     "output_type": "display_data"
    },
    {
     "data": {
      "text/plain": [
       "\"DB: opt gap = 0.28550894256818327\""
      ]
     },
     "metadata": {},
     "output_type": "display_data"
    },
    {
     "data": {
      "text/plain": [
       "\">>>>>> iteration 12:O\""
      ]
     },
     "metadata": {},
     "output_type": "display_data"
    },
    {
     "data": {
      "text/plain": [
       "\"DB: opt gap = 0.4179820413938233\""
      ]
     },
     "metadata": {},
     "output_type": "display_data"
    },
    {
     "data": {
      "text/plain": [
       "\">>>>>> iteration 13:O\""
      ]
     },
     "metadata": {},
     "output_type": "display_data"
    },
    {
     "data": {
      "text/plain": [
       "\"DB: opt gap = 0.4114246431437411\""
      ]
     },
     "metadata": {},
     "output_type": "display_data"
    },
    {
     "data": {
      "text/plain": [
       "\">>>>>> iteration 14:O\""
      ]
     },
     "metadata": {},
     "output_type": "display_data"
    },
    {
     "data": {
      "text/plain": [
       "\"DB: opt gap = 0.08425877752801698\""
      ]
     },
     "metadata": {},
     "output_type": "display_data"
    },
    {
     "data": {
      "text/plain": [
       "\">>>>>> iteration 15:O\""
      ]
     },
     "metadata": {},
     "output_type": "display_data"
    },
    {
     "data": {
      "text/plain": [
       "\"DB: opt gap = 0.0010153845394841213\""
      ]
     },
     "metadata": {},
     "output_type": "display_data"
    },
    {
     "data": {
      "text/plain": [
       "\">>>>>> iteration 16:O\""
      ]
     },
     "metadata": {},
     "output_type": "display_data"
    },
    {
     "data": {
      "text/plain": [
       "\"DB: opt gap = 0.0010147443798099055\""
      ]
     },
     "metadata": {},
     "output_type": "display_data"
    },
    {
     "data": {
      "text/plain": [
       "\">>>>>> iteration 17:O\""
      ]
     },
     "metadata": {},
     "output_type": "display_data"
    },
    {
     "data": {
      "text/plain": [
       "\"DB: opt gap = 0.0010138569194352374\""
      ]
     },
     "metadata": {},
     "output_type": "display_data"
    },
    {
     "data": {
      "text/plain": [
       "\">>>>>> iteration 18:O\""
      ]
     },
     "metadata": {},
     "output_type": "display_data"
    },
    {
     "data": {
      "text/plain": [
       "\">>>>>> iteration 19:F\""
      ]
     },
     "metadata": {},
     "output_type": "display_data"
    },
    {
     "data": {
      "text/plain": [
       "\"DB: opt gap = 0.0010126922686722931\""
      ]
     },
     "metadata": {},
     "output_type": "display_data"
    },
    {
     "data": {
      "text/plain": [
       "\">>>>>> iteration 20:O\""
      ]
     },
     "metadata": {},
     "output_type": "display_data"
    },
    {
     "data": {
      "text/plain": [
       "\"DB: opt gap = 0.0010114136575629458\""
      ]
     },
     "metadata": {},
     "output_type": "display_data"
    },
    {
     "data": {
      "text/plain": [
       "\">>>>>> iteration 21:O\""
      ]
     },
     "metadata": {},
     "output_type": "display_data"
    },
    {
     "data": {
      "text/plain": [
       "\"DB: opt gap = 1.410422483261584e-6\""
      ]
     },
     "metadata": {},
     "output_type": "display_data"
    },
    {
     "data": {
      "text/plain": [
       "\"evaluating 33 reactors in parallel | option 3\""
      ]
     },
     "metadata": {},
     "output_type": "display_data"
    },
    {
     "data": {
      "text/plain": [
       "\"DB: opt gap = 1.0\""
      ]
     },
     "metadata": {},
     "output_type": "display_data"
    },
    {
     "data": {
      "text/plain": [
       "\">>>>>> iteration 1:O\""
      ]
     },
     "metadata": {},
     "output_type": "display_data"
    },
    {
     "data": {
      "text/plain": [
       "\"DB: opt gap = 1.0\""
      ]
     },
     "metadata": {},
     "output_type": "display_data"
    },
    {
     "data": {
      "text/plain": [
       "\">>>>>> iteration 2:O\""
      ]
     },
     "metadata": {},
     "output_type": "display_data"
    },
    {
     "data": {
      "text/plain": [
       "\"DB: opt gap = 1.0\""
      ]
     },
     "metadata": {},
     "output_type": "display_data"
    },
    {
     "data": {
      "text/plain": [
       "\">>>>>> iteration 3:O\""
      ]
     },
     "metadata": {},
     "output_type": "display_data"
    },
    {
     "data": {
      "text/plain": [
       "\"DB: opt gap = 1.0\""
      ]
     },
     "metadata": {},
     "output_type": "display_data"
    },
    {
     "data": {
      "text/plain": [
       "\">>>>>> iteration 4:O\""
      ]
     },
     "metadata": {},
     "output_type": "display_data"
    },
    {
     "data": {
      "text/plain": [
       "\"DB: opt gap = 1.0\""
      ]
     },
     "metadata": {},
     "output_type": "display_data"
    },
    {
     "data": {
      "text/plain": [
       "\">>>>>> iteration 5:O\""
      ]
     },
     "metadata": {},
     "output_type": "display_data"
    },
    {
     "data": {
      "text/plain": [
       "\"DB: opt gap = 0.9711301619383192\""
      ]
     },
     "metadata": {},
     "output_type": "display_data"
    },
    {
     "data": {
      "text/plain": [
       "\">>>>>> iteration 6:O\""
      ]
     },
     "metadata": {},
     "output_type": "display_data"
    },
    {
     "data": {
      "text/plain": [
       "\"DB: opt gap = 0.7451805602150439\""
      ]
     },
     "metadata": {},
     "output_type": "display_data"
    },
    {
     "data": {
      "text/plain": [
       "\">>>>>> iteration 7:O\""
      ]
     },
     "metadata": {},
     "output_type": "display_data"
    },
    {
     "data": {
      "text/plain": [
       "\"DB: opt gap = 0.7362601387332617\""
      ]
     },
     "metadata": {},
     "output_type": "display_data"
    },
    {
     "data": {
      "text/plain": [
       "\">>>>>> iteration 8:O\""
      ]
     },
     "metadata": {},
     "output_type": "display_data"
    },
    {
     "data": {
      "text/plain": [
       "\"DB: opt gap = 0.7015164331339496\""
      ]
     },
     "metadata": {},
     "output_type": "display_data"
    },
    {
     "data": {
      "text/plain": [
       "\">>>>>> iteration 9:O\""
      ]
     },
     "metadata": {},
     "output_type": "display_data"
    },
    {
     "data": {
      "text/plain": [
       "\"DB: opt gap = 0.026588762183693458\""
      ]
     },
     "metadata": {},
     "output_type": "display_data"
    },
    {
     "data": {
      "text/plain": [
       "\">>>>>> iteration 10:O\""
      ]
     },
     "metadata": {},
     "output_type": "display_data"
    },
    {
     "data": {
      "text/plain": [
       "\"DB: opt gap = 0.025755057179808114\""
      ]
     },
     "metadata": {},
     "output_type": "display_data"
    },
    {
     "data": {
      "text/plain": [
       "\">>>>>> iteration 11:O\""
      ]
     },
     "metadata": {},
     "output_type": "display_data"
    },
    {
     "data": {
      "text/plain": [
       "\"DB: opt gap = 0.025658018205791916\""
      ]
     },
     "metadata": {},
     "output_type": "display_data"
    },
    {
     "data": {
      "text/plain": [
       "\">>>>>> iteration 12:O\""
      ]
     },
     "metadata": {},
     "output_type": "display_data"
    },
    {
     "data": {
      "text/plain": [
       "\"DB: opt gap = 0.024983394321720778\""
      ]
     },
     "metadata": {},
     "output_type": "display_data"
    },
    {
     "data": {
      "text/plain": [
       "\">>>>>> iteration 13:O\""
      ]
     },
     "metadata": {},
     "output_type": "display_data"
    },
    {
     "data": {
      "text/plain": [
       "\"DB: opt gap = 0.024774835895436657\""
      ]
     },
     "metadata": {},
     "output_type": "display_data"
    },
    {
     "data": {
      "text/plain": [
       "\">>>>>> iteration 14:O\""
      ]
     },
     "metadata": {},
     "output_type": "display_data"
    },
    {
     "data": {
      "text/plain": [
       "\"DB: opt gap = 0.02468667626854455\""
      ]
     },
     "metadata": {},
     "output_type": "display_data"
    },
    {
     "data": {
      "text/plain": [
       "\">>>>>> iteration 15:O\""
      ]
     },
     "metadata": {},
     "output_type": "display_data"
    },
    {
     "data": {
      "text/plain": [
       "\">>>>>> iteration 16:F\""
      ]
     },
     "metadata": {},
     "output_type": "display_data"
    },
    {
     "data": {
      "text/plain": [
       "\"DB: opt gap = 0.024747007240506356\""
      ]
     },
     "metadata": {},
     "output_type": "display_data"
    },
    {
     "data": {
      "text/plain": [
       "\">>>>>> iteration 17:O\""
      ]
     },
     "metadata": {},
     "output_type": "display_data"
    },
    {
     "data": {
      "text/plain": [
       "\"DB: opt gap = 0.024559629024151076\""
      ]
     },
     "metadata": {},
     "output_type": "display_data"
    },
    {
     "data": {
      "text/plain": [
       "\">>>>>> iteration 18:O\""
      ]
     },
     "metadata": {},
     "output_type": "display_data"
    },
    {
     "data": {
      "text/plain": [
       "\"DB: opt gap = 2.6338934797445303e-5\""
      ]
     },
     "metadata": {},
     "output_type": "display_data"
    },
    {
     "data": {
      "text/plain": [
       "\"evaluating 34 reactors in parallel | option 3\""
      ]
     },
     "metadata": {},
     "output_type": "display_data"
    },
    {
     "data": {
      "text/plain": [
       "\"DB: opt gap = 1.0\""
      ]
     },
     "metadata": {},
     "output_type": "display_data"
    },
    {
     "data": {
      "text/plain": [
       "\">>>>>> iteration 1:O\""
      ]
     },
     "metadata": {},
     "output_type": "display_data"
    },
    {
     "data": {
      "text/plain": [
       "\"DB: opt gap = 1.0\""
      ]
     },
     "metadata": {},
     "output_type": "display_data"
    },
    {
     "data": {
      "text/plain": [
       "\">>>>>> iteration 2:O\""
      ]
     },
     "metadata": {},
     "output_type": "display_data"
    },
    {
     "data": {
      "text/plain": [
       "\"DB: opt gap = 1.0\""
      ]
     },
     "metadata": {},
     "output_type": "display_data"
    },
    {
     "data": {
      "text/plain": [
       "\">>>>>> iteration 3:O\""
      ]
     },
     "metadata": {},
     "output_type": "display_data"
    },
    {
     "data": {
      "text/plain": [
       "\"DB: opt gap = 1.0\""
      ]
     },
     "metadata": {},
     "output_type": "display_data"
    },
    {
     "data": {
      "text/plain": [
       "\">>>>>> iteration 4:O\""
      ]
     },
     "metadata": {},
     "output_type": "display_data"
    },
    {
     "data": {
      "text/plain": [
       "\"DB: opt gap = 1.0\""
      ]
     },
     "metadata": {},
     "output_type": "display_data"
    },
    {
     "data": {
      "text/plain": [
       "\">>>>>> iteration 5:O\""
      ]
     },
     "metadata": {},
     "output_type": "display_data"
    },
    {
     "data": {
      "text/plain": [
       "\"DB: opt gap = 0.6957100092888755\""
      ]
     },
     "metadata": {},
     "output_type": "display_data"
    },
    {
     "data": {
      "text/plain": [
       "\">>>>>> iteration 6:O\""
      ]
     },
     "metadata": {},
     "output_type": "display_data"
    },
    {
     "data": {
      "text/plain": [
       "\"DB: opt gap = 0.6486296194987425\""
      ]
     },
     "metadata": {},
     "output_type": "display_data"
    },
    {
     "data": {
      "text/plain": [
       "\">>>>>> iteration 7:O\""
      ]
     },
     "metadata": {},
     "output_type": "display_data"
    },
    {
     "data": {
      "text/plain": [
       "\"DB: opt gap = 0.6040376088262976\""
      ]
     },
     "metadata": {},
     "output_type": "display_data"
    },
    {
     "data": {
      "text/plain": [
       "\">>>>>> iteration 8:O\""
      ]
     },
     "metadata": {},
     "output_type": "display_data"
    },
    {
     "data": {
      "text/plain": [
       "\"DB: opt gap = 0.5647557346929328\""
      ]
     },
     "metadata": {},
     "output_type": "display_data"
    },
    {
     "data": {
      "text/plain": [
       "\">>>>>> iteration 9:O\""
      ]
     },
     "metadata": {},
     "output_type": "display_data"
    },
    {
     "data": {
      "text/plain": [
       "\"DB: opt gap = 0.49138615793678453\""
      ]
     },
     "metadata": {},
     "output_type": "display_data"
    },
    {
     "data": {
      "text/plain": [
       "\">>>>>> iteration 10:O\""
      ]
     },
     "metadata": {},
     "output_type": "display_data"
    },
    {
     "data": {
      "text/plain": [
       "\"DB: opt gap = 0.3130608470939742\""
      ]
     },
     "metadata": {},
     "output_type": "display_data"
    },
    {
     "data": {
      "text/plain": [
       "\">>>>>> iteration 11:O\""
      ]
     },
     "metadata": {},
     "output_type": "display_data"
    },
    {
     "data": {
      "text/plain": [
       "\"DB: opt gap = 0.27877482892455435\""
      ]
     },
     "metadata": {},
     "output_type": "display_data"
    },
    {
     "data": {
      "text/plain": [
       "\">>>>>> iteration 12:O\""
      ]
     },
     "metadata": {},
     "output_type": "display_data"
    },
    {
     "data": {
      "text/plain": [
       "\"DB: opt gap = 0.2705350461975011\""
      ]
     },
     "metadata": {},
     "output_type": "display_data"
    },
    {
     "data": {
      "text/plain": [
       "\">>>>>> iteration 13:O\""
      ]
     },
     "metadata": {},
     "output_type": "display_data"
    },
    {
     "data": {
      "text/plain": [
       "\"DB: opt gap = 0.020355391923397442\""
      ]
     },
     "metadata": {},
     "output_type": "display_data"
    },
    {
     "data": {
      "text/plain": [
       "\">>>>>> iteration 14:O\""
      ]
     },
     "metadata": {},
     "output_type": "display_data"
    },
    {
     "data": {
      "text/plain": [
       "\"DB: opt gap = 0.02029133617109053\""
      ]
     },
     "metadata": {},
     "output_type": "display_data"
    },
    {
     "data": {
      "text/plain": [
       "\">>>>>> iteration 15:O\""
      ]
     },
     "metadata": {},
     "output_type": "display_data"
    },
    {
     "data": {
      "text/plain": [
       "\">>>>>> iteration 16:F\""
      ]
     },
     "metadata": {},
     "output_type": "display_data"
    },
    {
     "data": {
      "text/plain": [
       "\"DB: opt gap = 0.020149569957742922\""
      ]
     },
     "metadata": {},
     "output_type": "display_data"
    },
    {
     "data": {
      "text/plain": [
       "\">>>>>> iteration 17:O\""
      ]
     },
     "metadata": {},
     "output_type": "display_data"
    },
    {
     "data": {
      "text/plain": [
       "\"DB: opt gap = 0.020117824375719483\""
      ]
     },
     "metadata": {},
     "output_type": "display_data"
    },
    {
     "data": {
      "text/plain": [
       "\">>>>>> iteration 18:O\""
      ]
     },
     "metadata": {},
     "output_type": "display_data"
    },
    {
     "data": {
      "text/plain": [
       "\">>>>>> iteration 19:F\""
      ]
     },
     "metadata": {},
     "output_type": "display_data"
    },
    {
     "data": {
      "text/plain": [
       "\">>>>>> iteration 20:F\""
      ]
     },
     "metadata": {},
     "output_type": "display_data"
    },
    {
     "data": {
      "text/plain": [
       "\">>>>>> iteration 21:F\""
      ]
     },
     "metadata": {},
     "output_type": "display_data"
    },
    {
     "data": {
      "text/plain": [
       "\">>>>>> iteration 22:F\""
      ]
     },
     "metadata": {},
     "output_type": "display_data"
    },
    {
     "data": {
      "text/plain": [
       "\">>>>>> iteration 23:F\""
      ]
     },
     "metadata": {},
     "output_type": "display_data"
    },
    {
     "data": {
      "text/plain": [
       "\">>>>>> iteration 24:F\""
      ]
     },
     "metadata": {},
     "output_type": "display_data"
    },
    {
     "data": {
      "text/plain": [
       "\">>>>>> iteration 25:F\""
      ]
     },
     "metadata": {},
     "output_type": "display_data"
    },
    {
     "data": {
      "text/plain": [
       "\">>>>>> iteration 26:F\""
      ]
     },
     "metadata": {},
     "output_type": "display_data"
    },
    {
     "data": {
      "text/plain": [
       "\">>>>>> iteration 27:F\""
      ]
     },
     "metadata": {},
     "output_type": "display_data"
    },
    {
     "data": {
      "text/plain": [
       "\">>>>>> iteration 28:F\""
      ]
     },
     "metadata": {},
     "output_type": "display_data"
    },
    {
     "data": {
      "text/plain": [
       "\">>>>>> iteration 29:F\""
      ]
     },
     "metadata": {},
     "output_type": "display_data"
    },
    {
     "data": {
      "text/plain": [
       "\">>>>>> iteration 30:F\""
      ]
     },
     "metadata": {},
     "output_type": "display_data"
    },
    {
     "data": {
      "text/plain": [
       "\">>>>>> iteration 31:F\""
      ]
     },
     "metadata": {},
     "output_type": "display_data"
    },
    {
     "data": {
      "text/plain": [
       "\">>>>>> iteration 32:F\""
      ]
     },
     "metadata": {},
     "output_type": "display_data"
    },
    {
     "data": {
      "text/plain": [
       "\">>>>>> iteration 33:F\""
      ]
     },
     "metadata": {},
     "output_type": "display_data"
    },
    {
     "data": {
      "text/plain": [
       "\">>>>>> iteration 34:F\""
      ]
     },
     "metadata": {},
     "output_type": "display_data"
    },
    {
     "data": {
      "text/plain": [
       "\">>>>>> iteration 35:F\""
      ]
     },
     "metadata": {},
     "output_type": "display_data"
    },
    {
     "data": {
      "text/plain": [
       "\">>>>>> iteration 36:F\""
      ]
     },
     "metadata": {},
     "output_type": "display_data"
    },
    {
     "data": {
      "text/plain": [
       "\">>>>>> iteration 37:F\""
      ]
     },
     "metadata": {},
     "output_type": "display_data"
    },
    {
     "data": {
      "text/plain": [
       "\">>>>>> iteration 38:F\""
      ]
     },
     "metadata": {},
     "output_type": "display_data"
    },
    {
     "data": {
      "text/plain": [
       "\">>>>>> iteration 39:F\""
      ]
     },
     "metadata": {},
     "output_type": "display_data"
    },
    {
     "data": {
      "text/plain": [
       "\">>>>>> iteration 40:F\""
      ]
     },
     "metadata": {},
     "output_type": "display_data"
    },
    {
     "data": {
      "text/plain": [
       "\">>>>>> iteration 41:F\""
      ]
     },
     "metadata": {},
     "output_type": "display_data"
    },
    {
     "data": {
      "text/plain": [
       "\">>>>>> iteration 42:F\""
      ]
     },
     "metadata": {},
     "output_type": "display_data"
    },
    {
     "data": {
      "text/plain": [
       "\">>>>>> iteration 43:F\""
      ]
     },
     "metadata": {},
     "output_type": "display_data"
    },
    {
     "data": {
      "text/plain": [
       "\">>>>>> iteration 44:F\""
      ]
     },
     "metadata": {},
     "output_type": "display_data"
    },
    {
     "data": {
      "text/plain": [
       "\">>>>>> iteration 45:F\""
      ]
     },
     "metadata": {},
     "output_type": "display_data"
    },
    {
     "data": {
      "text/plain": [
       "\">>>>>> iteration 46:F\""
      ]
     },
     "metadata": {},
     "output_type": "display_data"
    },
    {
     "data": {
      "text/plain": [
       "\">>>>>> iteration 47:F\""
      ]
     },
     "metadata": {},
     "output_type": "display_data"
    },
    {
     "data": {
      "text/plain": [
       "\">>>>>> iteration 48:F\""
      ]
     },
     "metadata": {},
     "output_type": "display_data"
    },
    {
     "data": {
      "text/plain": [
       "\">>>>>> iteration 49:F\""
      ]
     },
     "metadata": {},
     "output_type": "display_data"
    },
    {
     "data": {
      "text/plain": [
       "\">>>>>> iteration 50:F\""
      ]
     },
     "metadata": {},
     "output_type": "display_data"
    },
    {
     "data": {
      "text/plain": [
       "\"evaluating 35 reactors in parallel | option 3\""
      ]
     },
     "metadata": {},
     "output_type": "display_data"
    },
    {
     "data": {
      "text/plain": [
       "\"DB: opt gap = 1.0\""
      ]
     },
     "metadata": {},
     "output_type": "display_data"
    },
    {
     "data": {
      "text/plain": [
       "\">>>>>> iteration 1:O\""
      ]
     },
     "metadata": {},
     "output_type": "display_data"
    },
    {
     "data": {
      "text/plain": [
       "\"DB: opt gap = 1.0\""
      ]
     },
     "metadata": {},
     "output_type": "display_data"
    },
    {
     "data": {
      "text/plain": [
       "\">>>>>> iteration 2:O\""
      ]
     },
     "metadata": {},
     "output_type": "display_data"
    },
    {
     "data": {
      "text/plain": [
       "\"DB: opt gap = 1.0\""
      ]
     },
     "metadata": {},
     "output_type": "display_data"
    },
    {
     "data": {
      "text/plain": [
       "\">>>>>> iteration 3:O\""
      ]
     },
     "metadata": {},
     "output_type": "display_data"
    },
    {
     "data": {
      "text/plain": [
       "\"DB: opt gap = 1.0\""
      ]
     },
     "metadata": {},
     "output_type": "display_data"
    },
    {
     "data": {
      "text/plain": [
       "\">>>>>> iteration 4:O\""
      ]
     },
     "metadata": {},
     "output_type": "display_data"
    },
    {
     "data": {
      "text/plain": [
       "\"DB: opt gap = 0.9802032853332294\""
      ]
     },
     "metadata": {},
     "output_type": "display_data"
    },
    {
     "data": {
      "text/plain": [
       "\">>>>>> iteration 5:O\""
      ]
     },
     "metadata": {},
     "output_type": "display_data"
    },
    {
     "data": {
      "text/plain": [
       "\"DB: opt gap = 0.709383879443229\""
      ]
     },
     "metadata": {},
     "output_type": "display_data"
    },
    {
     "data": {
      "text/plain": [
       "\">>>>>> iteration 6:O\""
      ]
     },
     "metadata": {},
     "output_type": "display_data"
    },
    {
     "data": {
      "text/plain": [
       "\"DB: opt gap = 0.5495766709651034\""
      ]
     },
     "metadata": {},
     "output_type": "display_data"
    },
    {
     "data": {
      "text/plain": [
       "\">>>>>> iteration 7:O\""
      ]
     },
     "metadata": {},
     "output_type": "display_data"
    },
    {
     "data": {
      "text/plain": [
       "\"DB: opt gap = 0.3035257166226901\""
      ]
     },
     "metadata": {},
     "output_type": "display_data"
    },
    {
     "data": {
      "text/plain": [
       "\">>>>>> iteration 8:O\""
      ]
     },
     "metadata": {},
     "output_type": "display_data"
    },
    {
     "data": {
      "text/plain": [
       "\"DB: opt gap = 0.29376212187999823\""
      ]
     },
     "metadata": {},
     "output_type": "display_data"
    },
    {
     "data": {
      "text/plain": [
       "\">>>>>> iteration 9:O\""
      ]
     },
     "metadata": {},
     "output_type": "display_data"
    },
    {
     "data": {
      "text/plain": [
       "\"DB: opt gap = 0.290176336482894\""
      ]
     },
     "metadata": {},
     "output_type": "display_data"
    },
    {
     "data": {
      "text/plain": [
       "\">>>>>> iteration 10:O\""
      ]
     },
     "metadata": {},
     "output_type": "display_data"
    },
    {
     "data": {
      "text/plain": [
       "\"DB: opt gap = 0.28565041158892773\""
      ]
     },
     "metadata": {},
     "output_type": "display_data"
    },
    {
     "data": {
      "text/plain": [
       "\">>>>>> iteration 11:O\""
      ]
     },
     "metadata": {},
     "output_type": "display_data"
    },
    {
     "data": {
      "text/plain": [
       "\"DB: opt gap = 0.2791215884094179\""
      ]
     },
     "metadata": {},
     "output_type": "display_data"
    },
    {
     "data": {
      "text/plain": [
       "\">>>>>> iteration 12:O\""
      ]
     },
     "metadata": {},
     "output_type": "display_data"
    },
    {
     "data": {
      "text/plain": [
       "\"DB: opt gap = 0.01097465167728977\""
      ]
     },
     "metadata": {},
     "output_type": "display_data"
    },
    {
     "data": {
      "text/plain": [
       "\">>>>>> iteration 13:O\""
      ]
     },
     "metadata": {},
     "output_type": "display_data"
    },
    {
     "data": {
      "text/plain": [
       "\"DB: opt gap = 0.010769379645966849\""
      ]
     },
     "metadata": {},
     "output_type": "display_data"
    },
    {
     "data": {
      "text/plain": [
       "\">>>>>> iteration 14:O\""
      ]
     },
     "metadata": {},
     "output_type": "display_data"
    },
    {
     "data": {
      "text/plain": [
       "\"DB: opt gap = 5.632451788286421e-6\""
      ]
     },
     "metadata": {},
     "output_type": "display_data"
    },
    {
     "data": {
      "text/plain": [
       "\"evaluating 36 reactors in parallel | option 3\""
      ]
     },
     "metadata": {},
     "output_type": "display_data"
    },
    {
     "data": {
      "text/plain": [
       "\"DB: opt gap = 1.0\""
      ]
     },
     "metadata": {},
     "output_type": "display_data"
    },
    {
     "data": {
      "text/plain": [
       "\">>>>>> iteration 1:O\""
      ]
     },
     "metadata": {},
     "output_type": "display_data"
    },
    {
     "data": {
      "text/plain": [
       "\"DB: opt gap = 1.0\""
      ]
     },
     "metadata": {},
     "output_type": "display_data"
    },
    {
     "data": {
      "text/plain": [
       "\">>>>>> iteration 2:O\""
      ]
     },
     "metadata": {},
     "output_type": "display_data"
    },
    {
     "data": {
      "text/plain": [
       "\"DB: opt gap = 1.0\""
      ]
     },
     "metadata": {},
     "output_type": "display_data"
    },
    {
     "data": {
      "text/plain": [
       "\">>>>>> iteration 3:O\""
      ]
     },
     "metadata": {},
     "output_type": "display_data"
    },
    {
     "data": {
      "text/plain": [
       "\"DB: opt gap = 1.0\""
      ]
     },
     "metadata": {},
     "output_type": "display_data"
    },
    {
     "data": {
      "text/plain": [
       "\">>>>>> iteration 4:O\""
      ]
     },
     "metadata": {},
     "output_type": "display_data"
    },
    {
     "data": {
      "text/plain": [
       "\"DB: opt gap = 0.9802032382558296\""
      ]
     },
     "metadata": {},
     "output_type": "display_data"
    },
    {
     "data": {
      "text/plain": [
       "\">>>>>> iteration 5:O\""
      ]
     },
     "metadata": {},
     "output_type": "display_data"
    },
    {
     "data": {
      "text/plain": [
       "\"DB: opt gap = 0.7093840309519782\""
      ]
     },
     "metadata": {},
     "output_type": "display_data"
    },
    {
     "data": {
      "text/plain": [
       "\">>>>>> iteration 6:O\""
      ]
     },
     "metadata": {},
     "output_type": "display_data"
    },
    {
     "data": {
      "text/plain": [
       "\"DB: opt gap = 0.6962044678979195\""
      ]
     },
     "metadata": {},
     "output_type": "display_data"
    },
    {
     "data": {
      "text/plain": [
       "\">>>>>> iteration 7:O\""
      ]
     },
     "metadata": {},
     "output_type": "display_data"
    },
    {
     "data": {
      "text/plain": [
       "\"DB: opt gap = 0.029651406458591406\""
      ]
     },
     "metadata": {},
     "output_type": "display_data"
    },
    {
     "data": {
      "text/plain": [
       "\">>>>>> iteration 8:O\""
      ]
     },
     "metadata": {},
     "output_type": "display_data"
    },
    {
     "data": {
      "text/plain": [
       "\"DB: opt gap = 0.028791523090174468\""
      ]
     },
     "metadata": {},
     "output_type": "display_data"
    },
    {
     "data": {
      "text/plain": [
       "\">>>>>> iteration 9:O\""
      ]
     },
     "metadata": {},
     "output_type": "display_data"
    },
    {
     "data": {
      "text/plain": [
       "\"DB: opt gap = 0.02847915950057106\""
      ]
     },
     "metadata": {},
     "output_type": "display_data"
    },
    {
     "data": {
      "text/plain": [
       "\">>>>>> iteration 10:O\""
      ]
     },
     "metadata": {},
     "output_type": "display_data"
    },
    {
     "data": {
      "text/plain": [
       "\"DB: opt gap = 0.02827868170228157\""
      ]
     },
     "metadata": {},
     "output_type": "display_data"
    },
    {
     "data": {
      "text/plain": [
       "\">>>>>> iteration 11:O\""
      ]
     },
     "metadata": {},
     "output_type": "display_data"
    },
    {
     "data": {
      "text/plain": [
       "\">>>>>> iteration 12:F\""
      ]
     },
     "metadata": {},
     "output_type": "display_data"
    },
    {
     "data": {
      "text/plain": [
       "\"DB: opt gap = 0.027961948359563737\""
      ]
     },
     "metadata": {},
     "output_type": "display_data"
    },
    {
     "data": {
      "text/plain": [
       "\">>>>>> iteration 13:O\""
      ]
     },
     "metadata": {},
     "output_type": "display_data"
    },
    {
     "data": {
      "text/plain": [
       "\"DB: opt gap = 0.021689624994981928\""
      ]
     },
     "metadata": {},
     "output_type": "display_data"
    },
    {
     "data": {
      "text/plain": [
       "\">>>>>> iteration 14:O\""
      ]
     },
     "metadata": {},
     "output_type": "display_data"
    },
    {
     "data": {
      "text/plain": [
       "\"DB: opt gap = 0.00037478880281604046\""
      ]
     },
     "metadata": {},
     "output_type": "display_data"
    },
    {
     "data": {
      "text/plain": [
       "\"evaluating 37 reactors in parallel | option 3\""
      ]
     },
     "metadata": {},
     "output_type": "display_data"
    },
    {
     "data": {
      "text/plain": [
       "\"DB: opt gap = 1.0\""
      ]
     },
     "metadata": {},
     "output_type": "display_data"
    },
    {
     "data": {
      "text/plain": [
       "\">>>>>> iteration 1:O\""
      ]
     },
     "metadata": {},
     "output_type": "display_data"
    },
    {
     "data": {
      "text/plain": [
       "\"DB: opt gap = 1.0\""
      ]
     },
     "metadata": {},
     "output_type": "display_data"
    },
    {
     "data": {
      "text/plain": [
       "\">>>>>> iteration 2:O\""
      ]
     },
     "metadata": {},
     "output_type": "display_data"
    },
    {
     "data": {
      "text/plain": [
       "\"DB: opt gap = 1.0\""
      ]
     },
     "metadata": {},
     "output_type": "display_data"
    },
    {
     "data": {
      "text/plain": [
       "\">>>>>> iteration 3:O\""
      ]
     },
     "metadata": {},
     "output_type": "display_data"
    },
    {
     "data": {
      "text/plain": [
       "\"DB: opt gap = 1.0\""
      ]
     },
     "metadata": {},
     "output_type": "display_data"
    },
    {
     "data": {
      "text/plain": [
       "\">>>>>> iteration 4:O\""
      ]
     },
     "metadata": {},
     "output_type": "display_data"
    },
    {
     "data": {
      "text/plain": [
       "\"DB: opt gap = 1.0\""
      ]
     },
     "metadata": {},
     "output_type": "display_data"
    },
    {
     "data": {
      "text/plain": [
       "\">>>>>> iteration 5:O\""
      ]
     },
     "metadata": {},
     "output_type": "display_data"
    },
    {
     "data": {
      "text/plain": [
       "\"DB: opt gap = 0.9711301275539551\""
      ]
     },
     "metadata": {},
     "output_type": "display_data"
    },
    {
     "data": {
      "text/plain": [
       "\">>>>>> iteration 6:O\""
      ]
     },
     "metadata": {},
     "output_type": "display_data"
    },
    {
     "data": {
      "text/plain": [
       "\"DB: opt gap = 0.7451805870492917\""
      ]
     },
     "metadata": {},
     "output_type": "display_data"
    },
    {
     "data": {
      "text/plain": [
       "\">>>>>> iteration 7:O\""
      ]
     },
     "metadata": {},
     "output_type": "display_data"
    },
    {
     "data": {
      "text/plain": [
       "\"DB: opt gap = 0.7362601459023507\""
      ]
     },
     "metadata": {},
     "output_type": "display_data"
    },
    {
     "data": {
      "text/plain": [
       "\">>>>>> iteration 8:O\""
      ]
     },
     "metadata": {},
     "output_type": "display_data"
    },
    {
     "data": {
      "text/plain": [
       "\"DB: opt gap = 0.7015168745817796\""
      ]
     },
     "metadata": {},
     "output_type": "display_data"
    },
    {
     "data": {
      "text/plain": [
       "\">>>>>> iteration 9:O\""
      ]
     },
     "metadata": {},
     "output_type": "display_data"
    },
    {
     "data": {
      "text/plain": [
       "\"DB: opt gap = 0.02658839704931423\""
      ]
     },
     "metadata": {},
     "output_type": "display_data"
    },
    {
     "data": {
      "text/plain": [
       "\">>>>>> iteration 10:O\""
      ]
     },
     "metadata": {},
     "output_type": "display_data"
    },
    {
     "data": {
      "text/plain": [
       "\"DB: opt gap = 0.025753806552379747\""
      ]
     },
     "metadata": {},
     "output_type": "display_data"
    },
    {
     "data": {
      "text/plain": [
       "\">>>>>> iteration 11:O\""
      ]
     },
     "metadata": {},
     "output_type": "display_data"
    },
    {
     "data": {
      "text/plain": [
       "\"DB: opt gap = 0.025491334142808283\""
      ]
     },
     "metadata": {},
     "output_type": "display_data"
    },
    {
     "data": {
      "text/plain": [
       "\">>>>>> iteration 12:O\""
      ]
     },
     "metadata": {},
     "output_type": "display_data"
    },
    {
     "data": {
      "text/plain": [
       "\"DB: opt gap = 0.025322556908147064\""
      ]
     },
     "metadata": {},
     "output_type": "display_data"
    },
    {
     "data": {
      "text/plain": [
       "\">>>>>> iteration 13:O\""
      ]
     },
     "metadata": {},
     "output_type": "display_data"
    },
    {
     "data": {
      "text/plain": [
       "\"DB: opt gap = 0.02433158717903435\""
      ]
     },
     "metadata": {},
     "output_type": "display_data"
    },
    {
     "data": {
      "text/plain": [
       "\">>>>>> iteration 14:O\""
      ]
     },
     "metadata": {},
     "output_type": "display_data"
    },
    {
     "data": {
      "text/plain": [
       "\"DB: opt gap = 0.024246486240674887\""
      ]
     },
     "metadata": {},
     "output_type": "display_data"
    },
    {
     "data": {
      "text/plain": [
       "\">>>>>> iteration 15:O\""
      ]
     },
     "metadata": {},
     "output_type": "display_data"
    },
    {
     "data": {
      "text/plain": [
       "\"DB: opt gap = 0.02406088204131986\""
      ]
     },
     "metadata": {},
     "output_type": "display_data"
    },
    {
     "data": {
      "text/plain": [
       "\">>>>>> iteration 16:O\""
      ]
     },
     "metadata": {},
     "output_type": "display_data"
    },
    {
     "data": {
      "text/plain": [
       "\">>>>>> iteration 17:F\""
      ]
     },
     "metadata": {},
     "output_type": "display_data"
    },
    {
     "data": {
      "text/plain": [
       "\">>>>>> iteration 18:F\""
      ]
     },
     "metadata": {},
     "output_type": "display_data"
    },
    {
     "data": {
      "text/plain": [
       "\">>>>>> iteration 19:F\""
      ]
     },
     "metadata": {},
     "output_type": "display_data"
    },
    {
     "data": {
      "text/plain": [
       "\">>>>>> iteration 20:F\""
      ]
     },
     "metadata": {},
     "output_type": "display_data"
    },
    {
     "data": {
      "text/plain": [
       "\">>>>>> iteration 21:F\""
      ]
     },
     "metadata": {},
     "output_type": "display_data"
    },
    {
     "data": {
      "text/plain": [
       "\">>>>>> iteration 22:F\""
      ]
     },
     "metadata": {},
     "output_type": "display_data"
    },
    {
     "data": {
      "text/plain": [
       "\">>>>>> iteration 23:F\""
      ]
     },
     "metadata": {},
     "output_type": "display_data"
    },
    {
     "data": {
      "text/plain": [
       "\">>>>>> iteration 24:F\""
      ]
     },
     "metadata": {},
     "output_type": "display_data"
    },
    {
     "data": {
      "text/plain": [
       "\">>>>>> iteration 25:F\""
      ]
     },
     "metadata": {},
     "output_type": "display_data"
    },
    {
     "data": {
      "text/plain": [
       "\">>>>>> iteration 26:F\""
      ]
     },
     "metadata": {},
     "output_type": "display_data"
    },
    {
     "data": {
      "text/plain": [
       "\">>>>>> iteration 27:F\""
      ]
     },
     "metadata": {},
     "output_type": "display_data"
    },
    {
     "data": {
      "text/plain": [
       "\">>>>>> iteration 28:F\""
      ]
     },
     "metadata": {},
     "output_type": "display_data"
    },
    {
     "data": {
      "text/plain": [
       "\">>>>>> iteration 29:F\""
      ]
     },
     "metadata": {},
     "output_type": "display_data"
    },
    {
     "data": {
      "text/plain": [
       "\">>>>>> iteration 30:F\""
      ]
     },
     "metadata": {},
     "output_type": "display_data"
    },
    {
     "data": {
      "text/plain": [
       "\">>>>>> iteration 31:F\""
      ]
     },
     "metadata": {},
     "output_type": "display_data"
    },
    {
     "data": {
      "text/plain": [
       "\">>>>>> iteration 32:F\""
      ]
     },
     "metadata": {},
     "output_type": "display_data"
    },
    {
     "data": {
      "text/plain": [
       "\">>>>>> iteration 33:F\""
      ]
     },
     "metadata": {},
     "output_type": "display_data"
    },
    {
     "data": {
      "text/plain": [
       "\">>>>>> iteration 34:F\""
      ]
     },
     "metadata": {},
     "output_type": "display_data"
    },
    {
     "data": {
      "text/plain": [
       "\">>>>>> iteration 35:F\""
      ]
     },
     "metadata": {},
     "output_type": "display_data"
    },
    {
     "data": {
      "text/plain": [
       "\">>>>>> iteration 36:F\""
      ]
     },
     "metadata": {},
     "output_type": "display_data"
    },
    {
     "data": {
      "text/plain": [
       "\">>>>>> iteration 37:F\""
      ]
     },
     "metadata": {},
     "output_type": "display_data"
    },
    {
     "data": {
      "text/plain": [
       "\">>>>>> iteration 38:F\""
      ]
     },
     "metadata": {},
     "output_type": "display_data"
    },
    {
     "data": {
      "text/plain": [
       "\">>>>>> iteration 39:F\""
      ]
     },
     "metadata": {},
     "output_type": "display_data"
    },
    {
     "data": {
      "text/plain": [
       "\">>>>>> iteration 40:F\""
      ]
     },
     "metadata": {},
     "output_type": "display_data"
    },
    {
     "data": {
      "text/plain": [
       "\">>>>>> iteration 41:F\""
      ]
     },
     "metadata": {},
     "output_type": "display_data"
    },
    {
     "data": {
      "text/plain": [
       "\">>>>>> iteration 42:F\""
      ]
     },
     "metadata": {},
     "output_type": "display_data"
    },
    {
     "data": {
      "text/plain": [
       "\">>>>>> iteration 43:F\""
      ]
     },
     "metadata": {},
     "output_type": "display_data"
    },
    {
     "data": {
      "text/plain": [
       "\">>>>>> iteration 44:F\""
      ]
     },
     "metadata": {},
     "output_type": "display_data"
    },
    {
     "data": {
      "text/plain": [
       "\">>>>>> iteration 45:F\""
      ]
     },
     "metadata": {},
     "output_type": "display_data"
    },
    {
     "data": {
      "text/plain": [
       "\">>>>>> iteration 46:F\""
      ]
     },
     "metadata": {},
     "output_type": "display_data"
    },
    {
     "data": {
      "text/plain": [
       "\">>>>>> iteration 47:F\""
      ]
     },
     "metadata": {},
     "output_type": "display_data"
    },
    {
     "data": {
      "text/plain": [
       "\">>>>>> iteration 48:F\""
      ]
     },
     "metadata": {},
     "output_type": "display_data"
    },
    {
     "data": {
      "text/plain": [
       "\">>>>>> iteration 49:F\""
      ]
     },
     "metadata": {},
     "output_type": "display_data"
    },
    {
     "data": {
      "text/plain": [
       "\">>>>>> iteration 50:F\""
      ]
     },
     "metadata": {},
     "output_type": "display_data"
    },
    {
     "data": {
      "text/plain": [
       "\"evaluating 38 reactors in parallel | option 3\""
      ]
     },
     "metadata": {},
     "output_type": "display_data"
    },
    {
     "data": {
      "text/plain": [
       "\"DB: opt gap = 1.0\""
      ]
     },
     "metadata": {},
     "output_type": "display_data"
    },
    {
     "data": {
      "text/plain": [
       "\">>>>>> iteration 1:O\""
      ]
     },
     "metadata": {},
     "output_type": "display_data"
    },
    {
     "data": {
      "text/plain": [
       "\"DB: opt gap = 1.0\""
      ]
     },
     "metadata": {},
     "output_type": "display_data"
    },
    {
     "data": {
      "text/plain": [
       "\">>>>>> iteration 2:O\""
      ]
     },
     "metadata": {},
     "output_type": "display_data"
    },
    {
     "data": {
      "text/plain": [
       "\"DB: opt gap = 1.0\""
      ]
     },
     "metadata": {},
     "output_type": "display_data"
    },
    {
     "data": {
      "text/plain": [
       "\">>>>>> iteration 3:O\""
      ]
     },
     "metadata": {},
     "output_type": "display_data"
    },
    {
     "data": {
      "text/plain": [
       "\"DB: opt gap = 1.0\""
      ]
     },
     "metadata": {},
     "output_type": "display_data"
    },
    {
     "data": {
      "text/plain": [
       "\">>>>>> iteration 4:O\""
      ]
     },
     "metadata": {},
     "output_type": "display_data"
    },
    {
     "data": {
      "text/plain": [
       "\"DB: opt gap = 0.8791865060098033\""
      ]
     },
     "metadata": {},
     "output_type": "display_data"
    },
    {
     "data": {
      "text/plain": [
       "\">>>>>> iteration 5:O\""
      ]
     },
     "metadata": {},
     "output_type": "display_data"
    },
    {
     "data": {
      "text/plain": [
       "\"DB: opt gap = 0.6114829719991223\""
      ]
     },
     "metadata": {},
     "output_type": "display_data"
    },
    {
     "data": {
      "text/plain": [
       "\">>>>>> iteration 6:O\""
      ]
     },
     "metadata": {},
     "output_type": "display_data"
    },
    {
     "data": {
      "text/plain": [
       "\"DB: opt gap = 0.5664705562996981\""
      ]
     },
     "metadata": {},
     "output_type": "display_data"
    },
    {
     "data": {
      "text/plain": [
       "\">>>>>> iteration 7:O\""
      ]
     },
     "metadata": {},
     "output_type": "display_data"
    },
    {
     "data": {
      "text/plain": [
       "\"DB: opt gap = 0.5818305186006061\""
      ]
     },
     "metadata": {},
     "output_type": "display_data"
    },
    {
     "data": {
      "text/plain": [
       "\">>>>>> iteration 8:O\""
      ]
     },
     "metadata": {},
     "output_type": "display_data"
    },
    {
     "data": {
      "text/plain": [
       "\"DB: opt gap = 0.03790175585299312\""
      ]
     },
     "metadata": {},
     "output_type": "display_data"
    },
    {
     "data": {
      "text/plain": [
       "\">>>>>> iteration 9:O\""
      ]
     },
     "metadata": {},
     "output_type": "display_data"
    },
    {
     "data": {
      "text/plain": [
       "\"DB: opt gap = 0.0370894209547223\""
      ]
     },
     "metadata": {},
     "output_type": "display_data"
    },
    {
     "data": {
      "text/plain": [
       "\">>>>>> iteration 10:O\""
      ]
     },
     "metadata": {},
     "output_type": "display_data"
    },
    {
     "data": {
      "text/plain": [
       "\"DB: opt gap = 0.03654842357397547\""
      ]
     },
     "metadata": {},
     "output_type": "display_data"
    },
    {
     "data": {
      "text/plain": [
       "\">>>>>> iteration 11:O\""
      ]
     },
     "metadata": {},
     "output_type": "display_data"
    },
    {
     "data": {
      "text/plain": [
       "\"DB: opt gap = 4.2227801431577326e-5\""
      ]
     },
     "metadata": {},
     "output_type": "display_data"
    },
    {
     "data": {
      "text/plain": [
       "\"evaluating 39 reactors in parallel | option 3\""
      ]
     },
     "metadata": {},
     "output_type": "display_data"
    },
    {
     "data": {
      "text/plain": [
       "\"DB: opt gap = 1.0\""
      ]
     },
     "metadata": {},
     "output_type": "display_data"
    },
    {
     "data": {
      "text/plain": [
       "\">>>>>> iteration 1:O\""
      ]
     },
     "metadata": {},
     "output_type": "display_data"
    },
    {
     "data": {
      "text/plain": [
       "\"DB: opt gap = 1.0\""
      ]
     },
     "metadata": {},
     "output_type": "display_data"
    },
    {
     "data": {
      "text/plain": [
       "\">>>>>> iteration 2:O\""
      ]
     },
     "metadata": {},
     "output_type": "display_data"
    },
    {
     "data": {
      "text/plain": [
       "\"DB: opt gap = 1.0\""
      ]
     },
     "metadata": {},
     "output_type": "display_data"
    },
    {
     "data": {
      "text/plain": [
       "\">>>>>> iteration 3:O\""
      ]
     },
     "metadata": {},
     "output_type": "display_data"
    },
    {
     "data": {
      "text/plain": [
       "\"DB: opt gap = 1.0\""
      ]
     },
     "metadata": {},
     "output_type": "display_data"
    },
    {
     "data": {
      "text/plain": [
       "\">>>>>> iteration 4:O\""
      ]
     },
     "metadata": {},
     "output_type": "display_data"
    },
    {
     "data": {
      "text/plain": [
       "\"DB: opt gap = 0.9802032275717926\""
      ]
     },
     "metadata": {},
     "output_type": "display_data"
    },
    {
     "data": {
      "text/plain": [
       "\">>>>>> iteration 5:O\""
      ]
     },
     "metadata": {},
     "output_type": "display_data"
    },
    {
     "data": {
      "text/plain": [
       "\"DB: opt gap = 0.709384097139482\""
      ]
     },
     "metadata": {},
     "output_type": "display_data"
    },
    {
     "data": {
      "text/plain": [
       "\">>>>>> iteration 6:O\""
      ]
     },
     "metadata": {},
     "output_type": "display_data"
    },
    {
     "data": {
      "text/plain": [
       "\"DB: opt gap = 0.6962045907111212\""
      ]
     },
     "metadata": {},
     "output_type": "display_data"
    },
    {
     "data": {
      "text/plain": [
       "\">>>>>> iteration 7:O\""
      ]
     },
     "metadata": {},
     "output_type": "display_data"
    },
    {
     "data": {
      "text/plain": [
       "\"DB: opt gap = 0.02964993225618273\""
      ]
     },
     "metadata": {},
     "output_type": "display_data"
    },
    {
     "data": {
      "text/plain": [
       "\">>>>>> iteration 8:O\""
      ]
     },
     "metadata": {},
     "output_type": "display_data"
    },
    {
     "data": {
      "text/plain": [
       "\"DB: opt gap = 0.0287910709888078\""
      ]
     },
     "metadata": {},
     "output_type": "display_data"
    },
    {
     "data": {
      "text/plain": [
       "\">>>>>> iteration 9:O\""
      ]
     },
     "metadata": {},
     "output_type": "display_data"
    },
    {
     "data": {
      "text/plain": [
       "\"DB: opt gap = 0.028676465940083398\""
      ]
     },
     "metadata": {},
     "output_type": "display_data"
    },
    {
     "data": {
      "text/plain": [
       "\">>>>>> iteration 10:O\""
      ]
     },
     "metadata": {},
     "output_type": "display_data"
    },
    {
     "data": {
      "text/plain": [
       "\">>>>>> iteration 11:F\""
      ]
     },
     "metadata": {},
     "output_type": "display_data"
    },
    {
     "data": {
      "text/plain": [
       "\"DB: opt gap = 0.028471470254522218\""
      ]
     },
     "metadata": {},
     "output_type": "display_data"
    },
    {
     "data": {
      "text/plain": [
       "\">>>>>> iteration 12:O\""
      ]
     },
     "metadata": {},
     "output_type": "display_data"
    },
    {
     "data": {
      "text/plain": [
       "\"DB: opt gap = 1.2227702509841522e-5\""
      ]
     },
     "metadata": {},
     "output_type": "display_data"
    },
    {
     "data": {
      "text/plain": [
       "\"evaluating 40 reactors in parallel | option 3\""
      ]
     },
     "metadata": {},
     "output_type": "display_data"
    },
    {
     "data": {
      "text/plain": [
       "\"DB: opt gap = 1.0\""
      ]
     },
     "metadata": {},
     "output_type": "display_data"
    },
    {
     "data": {
      "text/plain": [
       "\">>>>>> iteration 1:O\""
      ]
     },
     "metadata": {},
     "output_type": "display_data"
    },
    {
     "data": {
      "text/plain": [
       "\"DB: opt gap = 1.0\""
      ]
     },
     "metadata": {},
     "output_type": "display_data"
    },
    {
     "data": {
      "text/plain": [
       "\">>>>>> iteration 2:O\""
      ]
     },
     "metadata": {},
     "output_type": "display_data"
    },
    {
     "data": {
      "text/plain": [
       "\"DB: opt gap = 1.0\""
      ]
     },
     "metadata": {},
     "output_type": "display_data"
    },
    {
     "data": {
      "text/plain": [
       "\">>>>>> iteration 3:O\""
      ]
     },
     "metadata": {},
     "output_type": "display_data"
    },
    {
     "data": {
      "text/plain": [
       "\"DB: opt gap = 1.0\""
      ]
     },
     "metadata": {},
     "output_type": "display_data"
    },
    {
     "data": {
      "text/plain": [
       "\">>>>>> iteration 4:O\""
      ]
     },
     "metadata": {},
     "output_type": "display_data"
    },
    {
     "data": {
      "text/plain": [
       "\"DB: opt gap = 0.7445400466374278\""
      ]
     },
     "metadata": {},
     "output_type": "display_data"
    },
    {
     "data": {
      "text/plain": [
       "\">>>>>> iteration 5:O\""
      ]
     },
     "metadata": {},
     "output_type": "display_data"
    },
    {
     "data": {
      "text/plain": [
       "\"DB: opt gap = 0.6454012966397541\""
      ]
     },
     "metadata": {},
     "output_type": "display_data"
    },
    {
     "data": {
      "text/plain": [
       "\">>>>>> iteration 6:O\""
      ]
     },
     "metadata": {},
     "output_type": "display_data"
    },
    {
     "data": {
      "text/plain": [
       "\"DB: opt gap = 0.5128681753662128\""
      ]
     },
     "metadata": {},
     "output_type": "display_data"
    },
    {
     "data": {
      "text/plain": [
       "\">>>>>> iteration 7:O\""
      ]
     },
     "metadata": {},
     "output_type": "display_data"
    },
    {
     "data": {
      "text/plain": [
       "\"DB: opt gap = 0.368670967567959\""
      ]
     },
     "metadata": {},
     "output_type": "display_data"
    },
    {
     "data": {
      "text/plain": [
       "\">>>>>> iteration 8:O\""
      ]
     },
     "metadata": {},
     "output_type": "display_data"
    },
    {
     "data": {
      "text/plain": [
       "\"DB: opt gap = 0.40820440776591266\""
      ]
     },
     "metadata": {},
     "output_type": "display_data"
    },
    {
     "data": {
      "text/plain": [
       "\">>>>>> iteration 9:O\""
      ]
     },
     "metadata": {},
     "output_type": "display_data"
    },
    {
     "data": {
      "text/plain": [
       "\"DB: opt gap = 0.05033723695368033\""
      ]
     },
     "metadata": {},
     "output_type": "display_data"
    },
    {
     "data": {
      "text/plain": [
       "\">>>>>> iteration 10:O\""
      ]
     },
     "metadata": {},
     "output_type": "display_data"
    },
    {
     "data": {
      "text/plain": [
       "\"DB: opt gap = 0.04960015524582604\""
      ]
     },
     "metadata": {},
     "output_type": "display_data"
    },
    {
     "data": {
      "text/plain": [
       "\">>>>>> iteration 11:O\""
      ]
     },
     "metadata": {},
     "output_type": "display_data"
    },
    {
     "data": {
      "text/plain": [
       "\"DB: opt gap = 0.04913652511227771\""
      ]
     },
     "metadata": {},
     "output_type": "display_data"
    },
    {
     "data": {
      "text/plain": [
       "\">>>>>> iteration 12:O\""
      ]
     },
     "metadata": {},
     "output_type": "display_data"
    },
    {
     "data": {
      "text/plain": [
       "\"DB: opt gap = 0.00018515914539013665\""
      ]
     },
     "metadata": {},
     "output_type": "display_data"
    },
    {
     "data": {
      "text/plain": [
       "\"evaluating 41 reactors in parallel | option 3\""
      ]
     },
     "metadata": {},
     "output_type": "display_data"
    },
    {
     "data": {
      "text/plain": [
       "\"DB: opt gap = 1.0\""
      ]
     },
     "metadata": {},
     "output_type": "display_data"
    },
    {
     "data": {
      "text/plain": [
       "\">>>>>> iteration 1:O\""
      ]
     },
     "metadata": {},
     "output_type": "display_data"
    },
    {
     "data": {
      "text/plain": [
       "\"DB: opt gap = 1.0\""
      ]
     },
     "metadata": {},
     "output_type": "display_data"
    },
    {
     "data": {
      "text/plain": [
       "\">>>>>> iteration 2:O\""
      ]
     },
     "metadata": {},
     "output_type": "display_data"
    },
    {
     "data": {
      "text/plain": [
       "\"DB: opt gap = 1.0\""
      ]
     },
     "metadata": {},
     "output_type": "display_data"
    },
    {
     "data": {
      "text/plain": [
       "\">>>>>> iteration 3:O\""
      ]
     },
     "metadata": {},
     "output_type": "display_data"
    },
    {
     "data": {
      "text/plain": [
       "\"DB: opt gap = 1.0\""
      ]
     },
     "metadata": {},
     "output_type": "display_data"
    },
    {
     "data": {
      "text/plain": [
       "\">>>>>> iteration 4:O\""
      ]
     },
     "metadata": {},
     "output_type": "display_data"
    },
    {
     "data": {
      "text/plain": [
       "\"DB: opt gap = 0.8007665606792895\""
      ]
     },
     "metadata": {},
     "output_type": "display_data"
    },
    {
     "data": {
      "text/plain": [
       "\">>>>>> iteration 5:O\""
      ]
     },
     "metadata": {},
     "output_type": "display_data"
    },
    {
     "data": {
      "text/plain": [
       "\"DB: opt gap = 0.6962715554578498\""
      ]
     },
     "metadata": {},
     "output_type": "display_data"
    },
    {
     "data": {
      "text/plain": [
       "\">>>>>> iteration 6:O\""
      ]
     },
     "metadata": {},
     "output_type": "display_data"
    },
    {
     "data": {
      "text/plain": [
       "\"DB: opt gap = 0.6505866193943362\""
      ]
     },
     "metadata": {},
     "output_type": "display_data"
    },
    {
     "data": {
      "text/plain": [
       "\">>>>>> iteration 7:O\""
      ]
     },
     "metadata": {},
     "output_type": "display_data"
    },
    {
     "data": {
      "text/plain": [
       "\"DB: opt gap = 0.6215025274149265\""
      ]
     },
     "metadata": {},
     "output_type": "display_data"
    },
    {
     "data": {
      "text/plain": [
       "\">>>>>> iteration 8:O\""
      ]
     },
     "metadata": {},
     "output_type": "display_data"
    },
    {
     "data": {
      "text/plain": [
       "\"DB: opt gap = 0.414379687909752\""
      ]
     },
     "metadata": {},
     "output_type": "display_data"
    },
    {
     "data": {
      "text/plain": [
       "\">>>>>> iteration 9:O\""
      ]
     },
     "metadata": {},
     "output_type": "display_data"
    },
    {
     "data": {
      "text/plain": [
       "\"DB: opt gap = 0.436939638189425\""
      ]
     },
     "metadata": {},
     "output_type": "display_data"
    },
    {
     "data": {
      "text/plain": [
       "\">>>>>> iteration 10:O\""
      ]
     },
     "metadata": {},
     "output_type": "display_data"
    },
    {
     "data": {
      "text/plain": [
       "\"DB: opt gap = 0.3861887805864491\""
      ]
     },
     "metadata": {},
     "output_type": "display_data"
    },
    {
     "data": {
      "text/plain": [
       "\">>>>>> iteration 11:O\""
      ]
     },
     "metadata": {},
     "output_type": "display_data"
    },
    {
     "data": {
      "text/plain": [
       "\"DB: opt gap = 0.37558346948498955\""
      ]
     },
     "metadata": {},
     "output_type": "display_data"
    },
    {
     "data": {
      "text/plain": [
       "\">>>>>> iteration 12:O\""
      ]
     },
     "metadata": {},
     "output_type": "display_data"
    },
    {
     "data": {
      "text/plain": [
       "\"DB: opt gap = 0.0368801037702739\""
      ]
     },
     "metadata": {},
     "output_type": "display_data"
    },
    {
     "data": {
      "text/plain": [
       "\">>>>>> iteration 13:O\""
      ]
     },
     "metadata": {},
     "output_type": "display_data"
    },
    {
     "data": {
      "text/plain": [
       "\"DB: opt gap = 0.03563171083207659\""
      ]
     },
     "metadata": {},
     "output_type": "display_data"
    },
    {
     "data": {
      "text/plain": [
       "\">>>>>> iteration 14:O\""
      ]
     },
     "metadata": {},
     "output_type": "display_data"
    },
    {
     "data": {
      "text/plain": [
       "\"DB: opt gap = 0.03521031870009549\""
      ]
     },
     "metadata": {},
     "output_type": "display_data"
    },
    {
     "data": {
      "text/plain": [
       "\">>>>>> iteration 15:O\""
      ]
     },
     "metadata": {},
     "output_type": "display_data"
    },
    {
     "data": {
      "text/plain": [
       "\"DB: opt gap = 0.00011618929789008141\""
      ]
     },
     "metadata": {},
     "output_type": "display_data"
    },
    {
     "data": {
      "text/plain": [
       "\"evaluating 42 reactors in parallel | option 3\""
      ]
     },
     "metadata": {},
     "output_type": "display_data"
    },
    {
     "data": {
      "text/plain": [
       "\"DB: opt gap = 1.0\""
      ]
     },
     "metadata": {},
     "output_type": "display_data"
    },
    {
     "data": {
      "text/plain": [
       "\">>>>>> iteration 1:O\""
      ]
     },
     "metadata": {},
     "output_type": "display_data"
    },
    {
     "data": {
      "text/plain": [
       "\"DB: opt gap = 1.0\""
      ]
     },
     "metadata": {},
     "output_type": "display_data"
    },
    {
     "data": {
      "text/plain": [
       "\">>>>>> iteration 2:O\""
      ]
     },
     "metadata": {},
     "output_type": "display_data"
    },
    {
     "data": {
      "text/plain": [
       "\"DB: opt gap = 1.0\""
      ]
     },
     "metadata": {},
     "output_type": "display_data"
    },
    {
     "data": {
      "text/plain": [
       "\">>>>>> iteration 3:O\""
      ]
     },
     "metadata": {},
     "output_type": "display_data"
    },
    {
     "data": {
      "text/plain": [
       "\"DB: opt gap = 1.0\""
      ]
     },
     "metadata": {},
     "output_type": "display_data"
    },
    {
     "data": {
      "text/plain": [
       "\">>>>>> iteration 4:O\""
      ]
     },
     "metadata": {},
     "output_type": "display_data"
    },
    {
     "data": {
      "text/plain": [
       "\"DB: opt gap = 0.7445399775971477\""
      ]
     },
     "metadata": {},
     "output_type": "display_data"
    },
    {
     "data": {
      "text/plain": [
       "\">>>>>> iteration 5:O\""
      ]
     },
     "metadata": {},
     "output_type": "display_data"
    },
    {
     "data": {
      "text/plain": [
       "\"DB: opt gap = 0.6454011524373244\""
      ]
     },
     "metadata": {},
     "output_type": "display_data"
    },
    {
     "data": {
      "text/plain": [
       "\">>>>>> iteration 6:O\""
      ]
     },
     "metadata": {},
     "output_type": "display_data"
    },
    {
     "data": {
      "text/plain": [
       "\"DB: opt gap = 0.512868458396509\""
      ]
     },
     "metadata": {},
     "output_type": "display_data"
    },
    {
     "data": {
      "text/plain": [
       "\">>>>>> iteration 7:O\""
      ]
     },
     "metadata": {},
     "output_type": "display_data"
    },
    {
     "data": {
      "text/plain": [
       "\"DB: opt gap = 0.46140695025885364\""
      ]
     },
     "metadata": {},
     "output_type": "display_data"
    },
    {
     "data": {
      "text/plain": [
       "\">>>>>> iteration 8:O\""
      ]
     },
     "metadata": {},
     "output_type": "display_data"
    },
    {
     "data": {
      "text/plain": [
       "\"DB: opt gap = 0.48174588113001243\""
      ]
     },
     "metadata": {},
     "output_type": "display_data"
    },
    {
     "data": {
      "text/plain": [
       "\">>>>>> iteration 9:O\""
      ]
     },
     "metadata": {},
     "output_type": "display_data"
    },
    {
     "data": {
      "text/plain": [
       "\"DB: opt gap = 0.05948188798124471\""
      ]
     },
     "metadata": {},
     "output_type": "display_data"
    },
    {
     "data": {
      "text/plain": [
       "\">>>>>> iteration 10:O\""
      ]
     },
     "metadata": {},
     "output_type": "display_data"
    },
    {
     "data": {
      "text/plain": [
       "\"DB: opt gap = 0.058525885205803575\""
      ]
     },
     "metadata": {},
     "output_type": "display_data"
    },
    {
     "data": {
      "text/plain": [
       "\">>>>>> iteration 11:O\""
      ]
     },
     "metadata": {},
     "output_type": "display_data"
    },
    {
     "data": {
      "text/plain": [
       "\"DB: opt gap = 0.05687265310895262\""
      ]
     },
     "metadata": {},
     "output_type": "display_data"
    },
    {
     "data": {
      "text/plain": [
       "\">>>>>> iteration 12:O\""
      ]
     },
     "metadata": {},
     "output_type": "display_data"
    },
    {
     "data": {
      "text/plain": [
       "\"DB: opt gap = 0.00023351232310890143\""
      ]
     },
     "metadata": {},
     "output_type": "display_data"
    },
    {
     "data": {
      "text/plain": [
       "\"evaluating 43 reactors in parallel | option 3\""
      ]
     },
     "metadata": {},
     "output_type": "display_data"
    },
    {
     "data": {
      "text/plain": [
       "\"DB: opt gap = 1.0\""
      ]
     },
     "metadata": {},
     "output_type": "display_data"
    },
    {
     "data": {
      "text/plain": [
       "\">>>>>> iteration 1:O\""
      ]
     },
     "metadata": {},
     "output_type": "display_data"
    },
    {
     "data": {
      "text/plain": [
       "\"DB: opt gap = 1.0\""
      ]
     },
     "metadata": {},
     "output_type": "display_data"
    },
    {
     "data": {
      "text/plain": [
       "\">>>>>> iteration 2:O\""
      ]
     },
     "metadata": {},
     "output_type": "display_data"
    },
    {
     "data": {
      "text/plain": [
       "\"DB: opt gap = 1.0\""
      ]
     },
     "metadata": {},
     "output_type": "display_data"
    },
    {
     "data": {
      "text/plain": [
       "\">>>>>> iteration 3:O\""
      ]
     },
     "metadata": {},
     "output_type": "display_data"
    },
    {
     "data": {
      "text/plain": [
       "\"DB: opt gap = 1.0\""
      ]
     },
     "metadata": {},
     "output_type": "display_data"
    },
    {
     "data": {
      "text/plain": [
       "\">>>>>> iteration 4:O\""
      ]
     },
     "metadata": {},
     "output_type": "display_data"
    },
    {
     "data": {
      "text/plain": [
       "\"DB: opt gap = 0.8007669762099768\""
      ]
     },
     "metadata": {},
     "output_type": "display_data"
    },
    {
     "data": {
      "text/plain": [
       "\">>>>>> iteration 5:O\""
      ]
     },
     "metadata": {},
     "output_type": "display_data"
    },
    {
     "data": {
      "text/plain": [
       "\"DB: opt gap = 0.7566241906532989\""
      ]
     },
     "metadata": {},
     "output_type": "display_data"
    },
    {
     "data": {
      "text/plain": [
       "\">>>>>> iteration 6:O\""
      ]
     },
     "metadata": {},
     "output_type": "display_data"
    },
    {
     "data": {
      "text/plain": [
       "\"DB: opt gap = 0.7075374979754079\""
      ]
     },
     "metadata": {},
     "output_type": "display_data"
    },
    {
     "data": {
      "text/plain": [
       "\">>>>>> iteration 7:O\""
      ]
     },
     "metadata": {},
     "output_type": "display_data"
    },
    {
     "data": {
      "text/plain": [
       "\"DB: opt gap = 0.47877239378274505\""
      ]
     },
     "metadata": {},
     "output_type": "display_data"
    },
    {
     "data": {
      "text/plain": [
       "\">>>>>> iteration 8:O\""
      ]
     },
     "metadata": {},
     "output_type": "display_data"
    },
    {
     "data": {
      "text/plain": [
       "\"DB: opt gap = 0.4119335692184941\""
      ]
     },
     "metadata": {},
     "output_type": "display_data"
    },
    {
     "data": {
      "text/plain": [
       "\">>>>>> iteration 9:O\""
      ]
     },
     "metadata": {},
     "output_type": "display_data"
    },
    {
     "data": {
      "text/plain": [
       "\"DB: opt gap = 0.38898921261801767\""
      ]
     },
     "metadata": {},
     "output_type": "display_data"
    },
    {
     "data": {
      "text/plain": [
       "\">>>>>> iteration 10:O\""
      ]
     },
     "metadata": {},
     "output_type": "display_data"
    },
    {
     "data": {
      "text/plain": [
       "\"DB: opt gap = 0.08025293600867607\""
      ]
     },
     "metadata": {},
     "output_type": "display_data"
    },
    {
     "data": {
      "text/plain": [
       "\">>>>>> iteration 11:O\""
      ]
     },
     "metadata": {},
     "output_type": "display_data"
    },
    {
     "data": {
      "text/plain": [
       "\"DB: opt gap = 0.07707558727792675\""
      ]
     },
     "metadata": {},
     "output_type": "display_data"
    },
    {
     "data": {
      "text/plain": [
       "\">>>>>> iteration 12:O\""
      ]
     },
     "metadata": {},
     "output_type": "display_data"
    },
    {
     "data": {
      "text/plain": [
       "\"DB: opt gap = 0.0005254323316748519\""
      ]
     },
     "metadata": {},
     "output_type": "display_data"
    },
    {
     "data": {
      "text/plain": [
       "\"evaluating 44 reactors in parallel | option 3\""
      ]
     },
     "metadata": {},
     "output_type": "display_data"
    },
    {
     "data": {
      "text/plain": [
       "\"DB: opt gap = 1.0\""
      ]
     },
     "metadata": {},
     "output_type": "display_data"
    },
    {
     "data": {
      "text/plain": [
       "\">>>>>> iteration 1:O\""
      ]
     },
     "metadata": {},
     "output_type": "display_data"
    },
    {
     "data": {
      "text/plain": [
       "\"DB: opt gap = 1.0\""
      ]
     },
     "metadata": {},
     "output_type": "display_data"
    },
    {
     "data": {
      "text/plain": [
       "\">>>>>> iteration 2:O\""
      ]
     },
     "metadata": {},
     "output_type": "display_data"
    },
    {
     "data": {
      "text/plain": [
       "\"DB: opt gap = 1.0\""
      ]
     },
     "metadata": {},
     "output_type": "display_data"
    },
    {
     "data": {
      "text/plain": [
       "\">>>>>> iteration 3:O\""
      ]
     },
     "metadata": {},
     "output_type": "display_data"
    },
    {
     "data": {
      "text/plain": [
       "\"DB: opt gap = 1.0\""
      ]
     },
     "metadata": {},
     "output_type": "display_data"
    },
    {
     "data": {
      "text/plain": [
       "\">>>>>> iteration 4:O\""
      ]
     },
     "metadata": {},
     "output_type": "display_data"
    },
    {
     "data": {
      "text/plain": [
       "\"DB: opt gap = 1.0\""
      ]
     },
     "metadata": {},
     "output_type": "display_data"
    },
    {
     "data": {
      "text/plain": [
       "\">>>>>> iteration 5:O\""
      ]
     },
     "metadata": {},
     "output_type": "display_data"
    },
    {
     "data": {
      "text/plain": [
       "\"DB: opt gap = 0.9711302712381905\""
      ]
     },
     "metadata": {},
     "output_type": "display_data"
    },
    {
     "data": {
      "text/plain": [
       "\">>>>>> iteration 6:O\""
      ]
     },
     "metadata": {},
     "output_type": "display_data"
    },
    {
     "data": {
      "text/plain": [
       "\"DB: opt gap = 0.7451806984666819\""
      ]
     },
     "metadata": {},
     "output_type": "display_data"
    },
    {
     "data": {
      "text/plain": [
       "\">>>>>> iteration 7:O\""
      ]
     },
     "metadata": {},
     "output_type": "display_data"
    },
    {
     "data": {
      "text/plain": [
       "\"DB: opt gap = 0.7362602923062035\""
      ]
     },
     "metadata": {},
     "output_type": "display_data"
    },
    {
     "data": {
      "text/plain": [
       "\">>>>>> iteration 8:O\""
      ]
     },
     "metadata": {},
     "output_type": "display_data"
    },
    {
     "data": {
      "text/plain": [
       "\"DB: opt gap = 0.7015164932021256\""
      ]
     },
     "metadata": {},
     "output_type": "display_data"
    },
    {
     "data": {
      "text/plain": [
       "\">>>>>> iteration 9:O\""
      ]
     },
     "metadata": {},
     "output_type": "display_data"
    },
    {
     "data": {
      "text/plain": [
       "\"DB: opt gap = 0.026589418959472297\""
      ]
     },
     "metadata": {},
     "output_type": "display_data"
    },
    {
     "data": {
      "text/plain": [
       "\">>>>>> iteration 10:O\""
      ]
     },
     "metadata": {},
     "output_type": "display_data"
    },
    {
     "data": {
      "text/plain": [
       "\"DB: opt gap = 0.026315394192674372\""
      ]
     },
     "metadata": {},
     "output_type": "display_data"
    },
    {
     "data": {
      "text/plain": [
       "\">>>>>> iteration 11:O\""
      ]
     },
     "metadata": {},
     "output_type": "display_data"
    },
    {
     "data": {
      "text/plain": [
       "\"DB: opt gap = 0.026213155798460005\""
      ]
     },
     "metadata": {},
     "output_type": "display_data"
    },
    {
     "data": {
      "text/plain": [
       "\">>>>>> iteration 12:O\""
      ]
     },
     "metadata": {},
     "output_type": "display_data"
    },
    {
     "data": {
      "text/plain": [
       "\"DB: opt gap = 0.024982197127318296\""
      ]
     },
     "metadata": {},
     "output_type": "display_data"
    },
    {
     "data": {
      "text/plain": [
       "\">>>>>> iteration 13:O\""
      ]
     },
     "metadata": {},
     "output_type": "display_data"
    },
    {
     "data": {
      "text/plain": [
       "\"DB: opt gap = 0.024331042050346655\""
      ]
     },
     "metadata": {},
     "output_type": "display_data"
    },
    {
     "data": {
      "text/plain": [
       "\">>>>>> iteration 14:O\""
      ]
     },
     "metadata": {},
     "output_type": "display_data"
    },
    {
     "data": {
      "text/plain": [
       "\"DB: opt gap = 0.024099410483881072\""
      ]
     },
     "metadata": {},
     "output_type": "display_data"
    },
    {
     "data": {
      "text/plain": [
       "\">>>>>> iteration 15:O\""
      ]
     },
     "metadata": {},
     "output_type": "display_data"
    },
    {
     "data": {
      "text/plain": [
       "\"DB: opt gap = 0.02425837166106743\""
      ]
     },
     "metadata": {},
     "output_type": "display_data"
    },
    {
     "data": {
      "text/plain": [
       "\">>>>>> iteration 16:O\""
      ]
     },
     "metadata": {},
     "output_type": "display_data"
    },
    {
     "data": {
      "text/plain": [
       "\"DB: opt gap = 0.02402914475846855\""
      ]
     },
     "metadata": {},
     "output_type": "display_data"
    },
    {
     "data": {
      "text/plain": [
       "\">>>>>> iteration 17:O\""
      ]
     },
     "metadata": {},
     "output_type": "display_data"
    },
    {
     "data": {
      "text/plain": [
       "\"DB: opt gap = 0.023005494571134155\""
      ]
     },
     "metadata": {},
     "output_type": "display_data"
    },
    {
     "data": {
      "text/plain": [
       "\">>>>>> iteration 18:O\""
      ]
     },
     "metadata": {},
     "output_type": "display_data"
    },
    {
     "data": {
      "text/plain": [
       "\"DB: opt gap = 0.022801849580814843\""
      ]
     },
     "metadata": {},
     "output_type": "display_data"
    },
    {
     "data": {
      "text/plain": [
       "\">>>>>> iteration 19:O\""
      ]
     },
     "metadata": {},
     "output_type": "display_data"
    },
    {
     "data": {
      "text/plain": [
       "\"DB: opt gap = 0.02236484641054354\""
      ]
     },
     "metadata": {},
     "output_type": "display_data"
    },
    {
     "data": {
      "text/plain": [
       "\">>>>>> iteration 20:O\""
      ]
     },
     "metadata": {},
     "output_type": "display_data"
    },
    {
     "data": {
      "text/plain": [
       "\"DB: opt gap = 0.022294370064461364\""
      ]
     },
     "metadata": {},
     "output_type": "display_data"
    },
    {
     "data": {
      "text/plain": [
       "\">>>>>> iteration 21:O\""
      ]
     },
     "metadata": {},
     "output_type": "display_data"
    },
    {
     "data": {
      "text/plain": [
       "\"DB: opt gap = 0.00010877782131364224\""
      ]
     },
     "metadata": {},
     "output_type": "display_data"
    },
    {
     "data": {
      "text/plain": [
       "\"evaluating 45 reactors in parallel | option 3\""
      ]
     },
     "metadata": {},
     "output_type": "display_data"
    },
    {
     "data": {
      "text/plain": [
       "\"DB: opt gap = 1.0\""
      ]
     },
     "metadata": {},
     "output_type": "display_data"
    },
    {
     "data": {
      "text/plain": [
       "\">>>>>> iteration 1:O\""
      ]
     },
     "metadata": {},
     "output_type": "display_data"
    },
    {
     "data": {
      "text/plain": [
       "\"DB: opt gap = 1.0\""
      ]
     },
     "metadata": {},
     "output_type": "display_data"
    },
    {
     "data": {
      "text/plain": [
       "\">>>>>> iteration 2:O\""
      ]
     },
     "metadata": {},
     "output_type": "display_data"
    },
    {
     "data": {
      "text/plain": [
       "\"DB: opt gap = 1.0\""
      ]
     },
     "metadata": {},
     "output_type": "display_data"
    },
    {
     "data": {
      "text/plain": [
       "\">>>>>> iteration 3:O\""
      ]
     },
     "metadata": {},
     "output_type": "display_data"
    },
    {
     "data": {
      "text/plain": [
       "\"DB: opt gap = 1.0\""
      ]
     },
     "metadata": {},
     "output_type": "display_data"
    },
    {
     "data": {
      "text/plain": [
       "\">>>>>> iteration 4:O\""
      ]
     },
     "metadata": {},
     "output_type": "display_data"
    },
    {
     "data": {
      "text/plain": [
       "\"DB: opt gap = 0.7445401952788862\""
      ]
     },
     "metadata": {},
     "output_type": "display_data"
    },
    {
     "data": {
      "text/plain": [
       "\">>>>>> iteration 5:O\""
      ]
     },
     "metadata": {},
     "output_type": "display_data"
    },
    {
     "data": {
      "text/plain": [
       "\"DB: opt gap = 0.6973075744505204\""
      ]
     },
     "metadata": {},
     "output_type": "display_data"
    },
    {
     "data": {
      "text/plain": [
       "\">>>>>> iteration 6:O\""
      ]
     },
     "metadata": {},
     "output_type": "display_data"
    },
    {
     "data": {
      "text/plain": [
       "\"DB: opt gap = 0.5108221629947515\""
      ]
     },
     "metadata": {},
     "output_type": "display_data"
    },
    {
     "data": {
      "text/plain": [
       "\">>>>>> iteration 7:O\""
      ]
     },
     "metadata": {},
     "output_type": "display_data"
    },
    {
     "data": {
      "text/plain": [
       "\"DB: opt gap = 0.4982039490982333\""
      ]
     },
     "metadata": {},
     "output_type": "display_data"
    },
    {
     "data": {
      "text/plain": [
       "\">>>>>> iteration 8:O\""
      ]
     },
     "metadata": {},
     "output_type": "display_data"
    },
    {
     "data": {
      "text/plain": [
       "\"DB: opt gap = 0.3695880269807323\""
      ]
     },
     "metadata": {},
     "output_type": "display_data"
    },
    {
     "data": {
      "text/plain": [
       "\">>>>>> iteration 9:O\""
      ]
     },
     "metadata": {},
     "output_type": "display_data"
    },
    {
     "data": {
      "text/plain": [
       "\"DB: opt gap = 0.39449360839119574\""
      ]
     },
     "metadata": {},
     "output_type": "display_data"
    },
    {
     "data": {
      "text/plain": [
       "\">>>>>> iteration 10:O\""
      ]
     },
     "metadata": {},
     "output_type": "display_data"
    },
    {
     "data": {
      "text/plain": [
       "\"DB: opt gap = 0.36163755099671524\""
      ]
     },
     "metadata": {},
     "output_type": "display_data"
    },
    {
     "data": {
      "text/plain": [
       "\">>>>>> iteration 11:O\""
      ]
     },
     "metadata": {},
     "output_type": "display_data"
    },
    {
     "data": {
      "text/plain": [
       "\"DB: opt gap = 0.02124083380461169\""
      ]
     },
     "metadata": {},
     "output_type": "display_data"
    },
    {
     "data": {
      "text/plain": [
       "\">>>>>> iteration 12:O\""
      ]
     },
     "metadata": {},
     "output_type": "display_data"
    },
    {
     "data": {
      "text/plain": [
       "\"DB: opt gap = 0.021050434346515667\""
      ]
     },
     "metadata": {},
     "output_type": "display_data"
    },
    {
     "data": {
      "text/plain": [
       "\">>>>>> iteration 13:O\""
      ]
     },
     "metadata": {},
     "output_type": "display_data"
    },
    {
     "data": {
      "text/plain": [
       "\"DB: opt gap = 0.020701988114548386\""
      ]
     },
     "metadata": {},
     "output_type": "display_data"
    },
    {
     "data": {
      "text/plain": [
       "\">>>>>> iteration 14:O\""
      ]
     },
     "metadata": {},
     "output_type": "display_data"
    },
    {
     "data": {
      "text/plain": [
       "\"DB: opt gap = 0.020522659218479768\""
      ]
     },
     "metadata": {},
     "output_type": "display_data"
    },
    {
     "data": {
      "text/plain": [
       "\">>>>>> iteration 15:O\""
      ]
     },
     "metadata": {},
     "output_type": "display_data"
    },
    {
     "data": {
      "text/plain": [
       "\"DB: opt gap = 0.020160342728050062\""
      ]
     },
     "metadata": {},
     "output_type": "display_data"
    },
    {
     "data": {
      "text/plain": [
       "\">>>>>> iteration 16:O\""
      ]
     },
     "metadata": {},
     "output_type": "display_data"
    },
    {
     "data": {
      "text/plain": [
       "\"DB: opt gap = 0.020097633279311206\""
      ]
     },
     "metadata": {},
     "output_type": "display_data"
    },
    {
     "data": {
      "text/plain": [
       "\">>>>>> iteration 17:O\""
      ]
     },
     "metadata": {},
     "output_type": "display_data"
    },
    {
     "data": {
      "text/plain": [
       "\"DB: opt gap = 1.9916575527254587e-5\""
      ]
     },
     "metadata": {},
     "output_type": "display_data"
    },
    {
     "data": {
      "text/plain": [
       "\"evaluating 46 reactors in parallel | option 3\""
      ]
     },
     "metadata": {},
     "output_type": "display_data"
    },
    {
     "data": {
      "text/plain": [
       "\"DB: opt gap = 1.0\""
      ]
     },
     "metadata": {},
     "output_type": "display_data"
    },
    {
     "data": {
      "text/plain": [
       "\">>>>>> iteration 1:O\""
      ]
     },
     "metadata": {},
     "output_type": "display_data"
    },
    {
     "data": {
      "text/plain": [
       "\"DB: opt gap = 1.0\""
      ]
     },
     "metadata": {},
     "output_type": "display_data"
    },
    {
     "data": {
      "text/plain": [
       "\">>>>>> iteration 2:O\""
      ]
     },
     "metadata": {},
     "output_type": "display_data"
    },
    {
     "data": {
      "text/plain": [
       "\"DB: opt gap = 1.0\""
      ]
     },
     "metadata": {},
     "output_type": "display_data"
    },
    {
     "data": {
      "text/plain": [
       "\">>>>>> iteration 3:O\""
      ]
     },
     "metadata": {},
     "output_type": "display_data"
    },
    {
     "data": {
      "text/plain": [
       "\"DB: opt gap = 1.0\""
      ]
     },
     "metadata": {},
     "output_type": "display_data"
    },
    {
     "data": {
      "text/plain": [
       "\">>>>>> iteration 4:O\""
      ]
     },
     "metadata": {},
     "output_type": "display_data"
    },
    {
     "data": {
      "text/plain": [
       "\"DB: opt gap = 0.9802034796674727\""
      ]
     },
     "metadata": {},
     "output_type": "display_data"
    },
    {
     "data": {
      "text/plain": [
       "\">>>>>> iteration 5:O\""
      ]
     },
     "metadata": {},
     "output_type": "display_data"
    },
    {
     "data": {
      "text/plain": [
       "\"DB: opt gap = 0.7093841947203617\""
      ]
     },
     "metadata": {},
     "output_type": "display_data"
    },
    {
     "data": {
      "text/plain": [
       "\">>>>>> iteration 6:O\""
      ]
     },
     "metadata": {},
     "output_type": "display_data"
    },
    {
     "data": {
      "text/plain": [
       "\"DB: opt gap = 0.6962047001560925\""
      ]
     },
     "metadata": {},
     "output_type": "display_data"
    },
    {
     "data": {
      "text/plain": [
       "\">>>>>> iteration 7:O\""
      ]
     },
     "metadata": {},
     "output_type": "display_data"
    },
    {
     "data": {
      "text/plain": [
       "\"DB: opt gap = 0.029651251216835654\""
      ]
     },
     "metadata": {},
     "output_type": "display_data"
    },
    {
     "data": {
      "text/plain": [
       "\">>>>>> iteration 8:O\""
      ]
     },
     "metadata": {},
     "output_type": "display_data"
    },
    {
     "data": {
      "text/plain": [
       "\"DB: opt gap = 0.029378310040589228\""
      ]
     },
     "metadata": {},
     "output_type": "display_data"
    },
    {
     "data": {
      "text/plain": [
       "\">>>>>> iteration 9:O\""
      ]
     },
     "metadata": {},
     "output_type": "display_data"
    },
    {
     "data": {
      "text/plain": [
       "\"DB: opt gap = 0.027751126354344346\""
      ]
     },
     "metadata": {},
     "output_type": "display_data"
    },
    {
     "data": {
      "text/plain": [
       "\">>>>>> iteration 10:O\""
      ]
     },
     "metadata": {},
     "output_type": "display_data"
    },
    {
     "data": {
      "text/plain": [
       "\"DB: opt gap = 0.027550032742984405\""
      ]
     },
     "metadata": {},
     "output_type": "display_data"
    },
    {
     "data": {
      "text/plain": [
       "\">>>>>> iteration 11:O\""
      ]
     },
     "metadata": {},
     "output_type": "display_data"
    },
    {
     "data": {
      "text/plain": [
       "\">>>>>> iteration 12:F\""
      ]
     },
     "metadata": {},
     "output_type": "display_data"
    },
    {
     "data": {
      "text/plain": [
       "\"DB: opt gap = 0.027517975382422195\""
      ]
     },
     "metadata": {},
     "output_type": "display_data"
    },
    {
     "data": {
      "text/plain": [
       "\">>>>>> iteration 13:O\""
      ]
     },
     "metadata": {},
     "output_type": "display_data"
    },
    {
     "data": {
      "text/plain": [
       "\"DB: opt gap = 0.027292607756740216\""
      ]
     },
     "metadata": {},
     "output_type": "display_data"
    },
    {
     "data": {
      "text/plain": [
       "\">>>>>> iteration 14:O\""
      ]
     },
     "metadata": {},
     "output_type": "display_data"
    },
    {
     "data": {
      "text/plain": [
       "\"DB: opt gap = 0.026693555077014854\""
      ]
     },
     "metadata": {},
     "output_type": "display_data"
    },
    {
     "data": {
      "text/plain": [
       "\">>>>>> iteration 15:O\""
      ]
     },
     "metadata": {},
     "output_type": "display_data"
    },
    {
     "data": {
      "text/plain": [
       "\"DB: opt gap = 5.276875911590999e-5\""
      ]
     },
     "metadata": {},
     "output_type": "display_data"
    },
    {
     "data": {
      "text/plain": [
       "\"evaluating 47 reactors in parallel | option 3\""
      ]
     },
     "metadata": {},
     "output_type": "display_data"
    },
    {
     "data": {
      "text/plain": [
       "\"DB: opt gap = 1.0\""
      ]
     },
     "metadata": {},
     "output_type": "display_data"
    },
    {
     "data": {
      "text/plain": [
       "\">>>>>> iteration 1:O\""
      ]
     },
     "metadata": {},
     "output_type": "display_data"
    },
    {
     "data": {
      "text/plain": [
       "\"DB: opt gap = 1.0\""
      ]
     },
     "metadata": {},
     "output_type": "display_data"
    },
    {
     "data": {
      "text/plain": [
       "\">>>>>> iteration 2:O\""
      ]
     },
     "metadata": {},
     "output_type": "display_data"
    },
    {
     "data": {
      "text/plain": [
       "\"DB: opt gap = 1.0\""
      ]
     },
     "metadata": {},
     "output_type": "display_data"
    },
    {
     "data": {
      "text/plain": [
       "\">>>>>> iteration 3:O\""
      ]
     },
     "metadata": {},
     "output_type": "display_data"
    },
    {
     "data": {
      "text/plain": [
       "\"DB: opt gap = 1.0\""
      ]
     },
     "metadata": {},
     "output_type": "display_data"
    },
    {
     "data": {
      "text/plain": [
       "\">>>>>> iteration 4:O\""
      ]
     },
     "metadata": {},
     "output_type": "display_data"
    },
    {
     "data": {
      "text/plain": [
       "\"DB: opt gap = 1.0\""
      ]
     },
     "metadata": {},
     "output_type": "display_data"
    },
    {
     "data": {
      "text/plain": [
       "\">>>>>> iteration 5:O\""
      ]
     },
     "metadata": {},
     "output_type": "display_data"
    },
    {
     "data": {
      "text/plain": [
       "\"DB: opt gap = 0.9711303758593643\""
      ]
     },
     "metadata": {},
     "output_type": "display_data"
    },
    {
     "data": {
      "text/plain": [
       "\">>>>>> iteration 6:O\""
      ]
     },
     "metadata": {},
     "output_type": "display_data"
    },
    {
     "data": {
      "text/plain": [
       "\"DB: opt gap = 0.7451807110180926\""
      ]
     },
     "metadata": {},
     "output_type": "display_data"
    },
    {
     "data": {
      "text/plain": [
       "\">>>>>> iteration 7:O\""
      ]
     },
     "metadata": {},
     "output_type": "display_data"
    },
    {
     "data": {
      "text/plain": [
       "\"DB: opt gap = 0.7362604195321709\""
      ]
     },
     "metadata": {},
     "output_type": "display_data"
    },
    {
     "data": {
      "text/plain": [
       "\">>>>>> iteration 8:O\""
      ]
     },
     "metadata": {},
     "output_type": "display_data"
    },
    {
     "data": {
      "text/plain": [
       "\"DB: opt gap = 0.7015167949247676\""
      ]
     },
     "metadata": {},
     "output_type": "display_data"
    },
    {
     "data": {
      "text/plain": [
       "\">>>>>> iteration 9:O\""
      ]
     },
     "metadata": {},
     "output_type": "display_data"
    },
    {
     "data": {
      "text/plain": [
       "\"DB: opt gap = 0.02658908562933254\""
      ]
     },
     "metadata": {},
     "output_type": "display_data"
    },
    {
     "data": {
      "text/plain": [
       "\">>>>>> iteration 10:O\""
      ]
     },
     "metadata": {},
     "output_type": "display_data"
    },
    {
     "data": {
      "text/plain": [
       "\"DB: opt gap = 0.02575459818992844\""
      ]
     },
     "metadata": {},
     "output_type": "display_data"
    },
    {
     "data": {
      "text/plain": [
       "\">>>>>> iteration 11:O\""
      ]
     },
     "metadata": {},
     "output_type": "display_data"
    },
    {
     "data": {
      "text/plain": [
       "\"DB: opt gap = 0.02549136021545258\""
      ]
     },
     "metadata": {},
     "output_type": "display_data"
    },
    {
     "data": {
      "text/plain": [
       "\">>>>>> iteration 12:O\""
      ]
     },
     "metadata": {},
     "output_type": "display_data"
    },
    {
     "data": {
      "text/plain": [
       "\"DB: opt gap = 0.02498364084347774\""
      ]
     },
     "metadata": {},
     "output_type": "display_data"
    },
    {
     "data": {
      "text/plain": [
       "\">>>>>> iteration 13:O\""
      ]
     },
     "metadata": {},
     "output_type": "display_data"
    },
    {
     "data": {
      "text/plain": [
       "\"DB: opt gap = 0.024775118710831667\""
      ]
     },
     "metadata": {},
     "output_type": "display_data"
    },
    {
     "data": {
      "text/plain": [
       "\">>>>>> iteration 14:O\""
      ]
     },
     "metadata": {},
     "output_type": "display_data"
    },
    {
     "data": {
      "text/plain": [
       "\"DB: opt gap = 0.024686942602747942\""
      ]
     },
     "metadata": {},
     "output_type": "display_data"
    },
    {
     "data": {
      "text/plain": [
       "\">>>>>> iteration 15:O\""
      ]
     },
     "metadata": {},
     "output_type": "display_data"
    },
    {
     "data": {
      "text/plain": [
       "\">>>>>> iteration 16:F\""
      ]
     },
     "metadata": {},
     "output_type": "display_data"
    },
    {
     "data": {
      "text/plain": [
       "\"DB: opt gap = 0.024747215034541834\""
      ]
     },
     "metadata": {},
     "output_type": "display_data"
    },
    {
     "data": {
      "text/plain": [
       "\">>>>>> iteration 17:O\""
      ]
     },
     "metadata": {},
     "output_type": "display_data"
    },
    {
     "data": {
      "text/plain": [
       "\"DB: opt gap = 0.024520909605785263\""
      ]
     },
     "metadata": {},
     "output_type": "display_data"
    },
    {
     "data": {
      "text/plain": [
       "\">>>>>> iteration 18:O\""
      ]
     },
     "metadata": {},
     "output_type": "display_data"
    },
    {
     "data": {
      "text/plain": [
       "\"DB: opt gap = 0.02452145140815741\""
      ]
     },
     "metadata": {},
     "output_type": "display_data"
    },
    {
     "data": {
      "text/plain": [
       "\">>>>>> iteration 19:O\""
      ]
     },
     "metadata": {},
     "output_type": "display_data"
    },
    {
     "data": {
      "text/plain": [
       "\">>>>>> iteration 20:F\""
      ]
     },
     "metadata": {},
     "output_type": "display_data"
    },
    {
     "data": {
      "text/plain": [
       "\">>>>>> iteration 21:F\""
      ]
     },
     "metadata": {},
     "output_type": "display_data"
    },
    {
     "data": {
      "text/plain": [
       "\">>>>>> iteration 22:F\""
      ]
     },
     "metadata": {},
     "output_type": "display_data"
    },
    {
     "data": {
      "text/plain": [
       "\">>>>>> iteration 23:F\""
      ]
     },
     "metadata": {},
     "output_type": "display_data"
    },
    {
     "data": {
      "text/plain": [
       "\">>>>>> iteration 24:F\""
      ]
     },
     "metadata": {},
     "output_type": "display_data"
    },
    {
     "data": {
      "text/plain": [
       "\">>>>>> iteration 25:F\""
      ]
     },
     "metadata": {},
     "output_type": "display_data"
    },
    {
     "data": {
      "text/plain": [
       "\">>>>>> iteration 26:F\""
      ]
     },
     "metadata": {},
     "output_type": "display_data"
    },
    {
     "data": {
      "text/plain": [
       "\">>>>>> iteration 27:F\""
      ]
     },
     "metadata": {},
     "output_type": "display_data"
    },
    {
     "data": {
      "text/plain": [
       "\">>>>>> iteration 28:F\""
      ]
     },
     "metadata": {},
     "output_type": "display_data"
    },
    {
     "data": {
      "text/plain": [
       "\">>>>>> iteration 29:F\""
      ]
     },
     "metadata": {},
     "output_type": "display_data"
    },
    {
     "data": {
      "text/plain": [
       "\">>>>>> iteration 30:F\""
      ]
     },
     "metadata": {},
     "output_type": "display_data"
    },
    {
     "data": {
      "text/plain": [
       "\">>>>>> iteration 31:F\""
      ]
     },
     "metadata": {},
     "output_type": "display_data"
    },
    {
     "data": {
      "text/plain": [
       "\">>>>>> iteration 32:F\""
      ]
     },
     "metadata": {},
     "output_type": "display_data"
    },
    {
     "data": {
      "text/plain": [
       "\">>>>>> iteration 33:F\""
      ]
     },
     "metadata": {},
     "output_type": "display_data"
    },
    {
     "data": {
      "text/plain": [
       "\">>>>>> iteration 34:F\""
      ]
     },
     "metadata": {},
     "output_type": "display_data"
    },
    {
     "data": {
      "text/plain": [
       "\">>>>>> iteration 35:F\""
      ]
     },
     "metadata": {},
     "output_type": "display_data"
    },
    {
     "data": {
      "text/plain": [
       "\">>>>>> iteration 36:F\""
      ]
     },
     "metadata": {},
     "output_type": "display_data"
    },
    {
     "data": {
      "text/plain": [
       "\">>>>>> iteration 37:F\""
      ]
     },
     "metadata": {},
     "output_type": "display_data"
    },
    {
     "data": {
      "text/plain": [
       "\">>>>>> iteration 38:F\""
      ]
     },
     "metadata": {},
     "output_type": "display_data"
    },
    {
     "data": {
      "text/plain": [
       "\">>>>>> iteration 39:F\""
      ]
     },
     "metadata": {},
     "output_type": "display_data"
    },
    {
     "data": {
      "text/plain": [
       "\">>>>>> iteration 40:F\""
      ]
     },
     "metadata": {},
     "output_type": "display_data"
    },
    {
     "data": {
      "text/plain": [
       "\">>>>>> iteration 41:F\""
      ]
     },
     "metadata": {},
     "output_type": "display_data"
    },
    {
     "data": {
      "text/plain": [
       "\">>>>>> iteration 42:F\""
      ]
     },
     "metadata": {},
     "output_type": "display_data"
    },
    {
     "data": {
      "text/plain": [
       "\">>>>>> iteration 43:F\""
      ]
     },
     "metadata": {},
     "output_type": "display_data"
    },
    {
     "data": {
      "text/plain": [
       "\">>>>>> iteration 44:F\""
      ]
     },
     "metadata": {},
     "output_type": "display_data"
    },
    {
     "data": {
      "text/plain": [
       "\">>>>>> iteration 45:F\""
      ]
     },
     "metadata": {},
     "output_type": "display_data"
    },
    {
     "data": {
      "text/plain": [
       "\">>>>>> iteration 46:F\""
      ]
     },
     "metadata": {},
     "output_type": "display_data"
    },
    {
     "data": {
      "text/plain": [
       "\">>>>>> iteration 47:F\""
      ]
     },
     "metadata": {},
     "output_type": "display_data"
    },
    {
     "data": {
      "text/plain": [
       "\">>>>>> iteration 48:F\""
      ]
     },
     "metadata": {},
     "output_type": "display_data"
    },
    {
     "data": {
      "text/plain": [
       "\">>>>>> iteration 49:F\""
      ]
     },
     "metadata": {},
     "output_type": "display_data"
    },
    {
     "data": {
      "text/plain": [
       "\">>>>>> iteration 50:F\""
      ]
     },
     "metadata": {},
     "output_type": "display_data"
    },
    {
     "data": {
      "text/plain": [
       "\"evaluating 48 reactors in parallel | option 3\""
      ]
     },
     "metadata": {},
     "output_type": "display_data"
    },
    {
     "data": {
      "text/plain": [
       "\"DB: opt gap = 1.0\""
      ]
     },
     "metadata": {},
     "output_type": "display_data"
    },
    {
     "data": {
      "text/plain": [
       "\">>>>>> iteration 1:O\""
      ]
     },
     "metadata": {},
     "output_type": "display_data"
    },
    {
     "data": {
      "text/plain": [
       "\"DB: opt gap = 1.0\""
      ]
     },
     "metadata": {},
     "output_type": "display_data"
    },
    {
     "data": {
      "text/plain": [
       "\">>>>>> iteration 2:O\""
      ]
     },
     "metadata": {},
     "output_type": "display_data"
    },
    {
     "data": {
      "text/plain": [
       "\"DB: opt gap = 1.0\""
      ]
     },
     "metadata": {},
     "output_type": "display_data"
    },
    {
     "data": {
      "text/plain": [
       "\">>>>>> iteration 3:O\""
      ]
     },
     "metadata": {},
     "output_type": "display_data"
    },
    {
     "data": {
      "text/plain": [
       "\"DB: opt gap = 1.0\""
      ]
     },
     "metadata": {},
     "output_type": "display_data"
    },
    {
     "data": {
      "text/plain": [
       "\">>>>>> iteration 4:O\""
      ]
     },
     "metadata": {},
     "output_type": "display_data"
    },
    {
     "data": {
      "text/plain": [
       "\"DB: opt gap = 0.7445401281692837\""
      ]
     },
     "metadata": {},
     "output_type": "display_data"
    },
    {
     "data": {
      "text/plain": [
       "\">>>>>> iteration 5:O\""
      ]
     },
     "metadata": {},
     "output_type": "display_data"
    },
    {
     "data": {
      "text/plain": [
       "\"DB: opt gap = 0.6973077829300579\""
      ]
     },
     "metadata": {},
     "output_type": "display_data"
    },
    {
     "data": {
      "text/plain": [
       "\">>>>>> iteration 6:O\""
      ]
     },
     "metadata": {},
     "output_type": "display_data"
    },
    {
     "data": {
      "text/plain": [
       "\"DB: opt gap = 0.7110840277995233\""
      ]
     },
     "metadata": {},
     "output_type": "display_data"
    },
    {
     "data": {
      "text/plain": [
       "\">>>>>> iteration 7:O\""
      ]
     },
     "metadata": {},
     "output_type": "display_data"
    },
    {
     "data": {
      "text/plain": [
       "\"DB: opt gap = 0.041123077165614585\""
      ]
     },
     "metadata": {},
     "output_type": "display_data"
    },
    {
     "data": {
      "text/plain": [
       "\">>>>>> iteration 8:O\""
      ]
     },
     "metadata": {},
     "output_type": "display_data"
    },
    {
     "data": {
      "text/plain": [
       "\"DB: opt gap = 0.04092104594676135\""
      ]
     },
     "metadata": {},
     "output_type": "display_data"
    },
    {
     "data": {
      "text/plain": [
       "\">>>>>> iteration 9:O\""
      ]
     },
     "metadata": {},
     "output_type": "display_data"
    },
    {
     "data": {
      "text/plain": [
       "\"DB: opt gap = 0.03933851910060973\""
      ]
     },
     "metadata": {},
     "output_type": "display_data"
    },
    {
     "data": {
      "text/plain": [
       "\">>>>>> iteration 10:O\""
      ]
     },
     "metadata": {},
     "output_type": "display_data"
    },
    {
     "data": {
      "text/plain": [
       "\"DB: opt gap = 0.03915590777348464\""
      ]
     },
     "metadata": {},
     "output_type": "display_data"
    },
    {
     "data": {
      "text/plain": [
       "\">>>>>> iteration 11:O\""
      ]
     },
     "metadata": {},
     "output_type": "display_data"
    },
    {
     "data": {
      "text/plain": [
       "\">>>>>> iteration 12:F\""
      ]
     },
     "metadata": {},
     "output_type": "display_data"
    },
    {
     "data": {
      "text/plain": [
       "\"DB: opt gap = 0.03875752189165887\""
      ]
     },
     "metadata": {},
     "output_type": "display_data"
    },
    {
     "data": {
      "text/plain": [
       "\">>>>>> iteration 13:O\""
      ]
     },
     "metadata": {},
     "output_type": "display_data"
    },
    {
     "data": {
      "text/plain": [
       "\">>>>>> iteration 14:F\""
      ]
     },
     "metadata": {},
     "output_type": "display_data"
    },
    {
     "data": {
      "text/plain": [
       "\">>>>>> iteration 15:F\""
      ]
     },
     "metadata": {},
     "output_type": "display_data"
    },
    {
     "data": {
      "text/plain": [
       "\">>>>>> iteration 16:F\""
      ]
     },
     "metadata": {},
     "output_type": "display_data"
    },
    {
     "data": {
      "text/plain": [
       "\">>>>>> iteration 17:F\""
      ]
     },
     "metadata": {},
     "output_type": "display_data"
    },
    {
     "data": {
      "text/plain": [
       "\">>>>>> iteration 18:F\""
      ]
     },
     "metadata": {},
     "output_type": "display_data"
    },
    {
     "data": {
      "text/plain": [
       "\">>>>>> iteration 19:F\""
      ]
     },
     "metadata": {},
     "output_type": "display_data"
    },
    {
     "data": {
      "text/plain": [
       "\">>>>>> iteration 20:F\""
      ]
     },
     "metadata": {},
     "output_type": "display_data"
    },
    {
     "data": {
      "text/plain": [
       "\">>>>>> iteration 21:F\""
      ]
     },
     "metadata": {},
     "output_type": "display_data"
    },
    {
     "data": {
      "text/plain": [
       "\">>>>>> iteration 22:F\""
      ]
     },
     "metadata": {},
     "output_type": "display_data"
    },
    {
     "data": {
      "text/plain": [
       "\">>>>>> iteration 23:F\""
      ]
     },
     "metadata": {},
     "output_type": "display_data"
    },
    {
     "data": {
      "text/plain": [
       "\">>>>>> iteration 24:F\""
      ]
     },
     "metadata": {},
     "output_type": "display_data"
    },
    {
     "data": {
      "text/plain": [
       "\">>>>>> iteration 25:F\""
      ]
     },
     "metadata": {},
     "output_type": "display_data"
    },
    {
     "data": {
      "text/plain": [
       "\">>>>>> iteration 26:F\""
      ]
     },
     "metadata": {},
     "output_type": "display_data"
    },
    {
     "data": {
      "text/plain": [
       "\">>>>>> iteration 27:F\""
      ]
     },
     "metadata": {},
     "output_type": "display_data"
    },
    {
     "data": {
      "text/plain": [
       "\">>>>>> iteration 28:F\""
      ]
     },
     "metadata": {},
     "output_type": "display_data"
    },
    {
     "data": {
      "text/plain": [
       "\">>>>>> iteration 29:F\""
      ]
     },
     "metadata": {},
     "output_type": "display_data"
    },
    {
     "data": {
      "text/plain": [
       "\">>>>>> iteration 30:F\""
      ]
     },
     "metadata": {},
     "output_type": "display_data"
    },
    {
     "data": {
      "text/plain": [
       "\">>>>>> iteration 31:F\""
      ]
     },
     "metadata": {},
     "output_type": "display_data"
    },
    {
     "data": {
      "text/plain": [
       "\">>>>>> iteration 32:F\""
      ]
     },
     "metadata": {},
     "output_type": "display_data"
    },
    {
     "data": {
      "text/plain": [
       "\">>>>>> iteration 33:F\""
      ]
     },
     "metadata": {},
     "output_type": "display_data"
    },
    {
     "data": {
      "text/plain": [
       "\">>>>>> iteration 34:F\""
      ]
     },
     "metadata": {},
     "output_type": "display_data"
    },
    {
     "data": {
      "text/plain": [
       "\">>>>>> iteration 35:F\""
      ]
     },
     "metadata": {},
     "output_type": "display_data"
    },
    {
     "data": {
      "text/plain": [
       "\">>>>>> iteration 36:F\""
      ]
     },
     "metadata": {},
     "output_type": "display_data"
    },
    {
     "data": {
      "text/plain": [
       "\">>>>>> iteration 37:F\""
      ]
     },
     "metadata": {},
     "output_type": "display_data"
    },
    {
     "data": {
      "text/plain": [
       "\">>>>>> iteration 38:F\""
      ]
     },
     "metadata": {},
     "output_type": "display_data"
    },
    {
     "data": {
      "text/plain": [
       "\">>>>>> iteration 39:F\""
      ]
     },
     "metadata": {},
     "output_type": "display_data"
    },
    {
     "data": {
      "text/plain": [
       "\">>>>>> iteration 40:F\""
      ]
     },
     "metadata": {},
     "output_type": "display_data"
    },
    {
     "data": {
      "text/plain": [
       "\">>>>>> iteration 41:F\""
      ]
     },
     "metadata": {},
     "output_type": "display_data"
    },
    {
     "data": {
      "text/plain": [
       "\">>>>>> iteration 42:F\""
      ]
     },
     "metadata": {},
     "output_type": "display_data"
    },
    {
     "data": {
      "text/plain": [
       "\">>>>>> iteration 43:F\""
      ]
     },
     "metadata": {},
     "output_type": "display_data"
    },
    {
     "data": {
      "text/plain": [
       "\">>>>>> iteration 44:F\""
      ]
     },
     "metadata": {},
     "output_type": "display_data"
    },
    {
     "data": {
      "text/plain": [
       "\">>>>>> iteration 45:F\""
      ]
     },
     "metadata": {},
     "output_type": "display_data"
    },
    {
     "data": {
      "text/plain": [
       "\">>>>>> iteration 46:F\""
      ]
     },
     "metadata": {},
     "output_type": "display_data"
    },
    {
     "data": {
      "text/plain": [
       "\">>>>>> iteration 47:F\""
      ]
     },
     "metadata": {},
     "output_type": "display_data"
    },
    {
     "data": {
      "text/plain": [
       "\">>>>>> iteration 48:F\""
      ]
     },
     "metadata": {},
     "output_type": "display_data"
    },
    {
     "data": {
      "text/plain": [
       "\">>>>>> iteration 49:F\""
      ]
     },
     "metadata": {},
     "output_type": "display_data"
    },
    {
     "data": {
      "text/plain": [
       "\">>>>>> iteration 50:F\""
      ]
     },
     "metadata": {},
     "output_type": "display_data"
    },
    {
     "data": {
      "text/plain": [
       "\"evaluating 49 reactors in parallel | option 3\""
      ]
     },
     "metadata": {},
     "output_type": "display_data"
    },
    {
     "data": {
      "text/plain": [
       "\"DB: opt gap = 1.0\""
      ]
     },
     "metadata": {},
     "output_type": "display_data"
    },
    {
     "data": {
      "text/plain": [
       "\">>>>>> iteration 1:O\""
      ]
     },
     "metadata": {},
     "output_type": "display_data"
    },
    {
     "data": {
      "text/plain": [
       "\"DB: opt gap = 1.0\""
      ]
     },
     "metadata": {},
     "output_type": "display_data"
    },
    {
     "data": {
      "text/plain": [
       "\">>>>>> iteration 2:O\""
      ]
     },
     "metadata": {},
     "output_type": "display_data"
    },
    {
     "data": {
      "text/plain": [
       "\"DB: opt gap = 1.0\""
      ]
     },
     "metadata": {},
     "output_type": "display_data"
    },
    {
     "data": {
      "text/plain": [
       "\">>>>>> iteration 3:O\""
      ]
     },
     "metadata": {},
     "output_type": "display_data"
    },
    {
     "data": {
      "text/plain": [
       "\"DB: opt gap = 1.0\""
      ]
     },
     "metadata": {},
     "output_type": "display_data"
    },
    {
     "data": {
      "text/plain": [
       "\">>>>>> iteration 4:O\""
      ]
     },
     "metadata": {},
     "output_type": "display_data"
    },
    {
     "data": {
      "text/plain": [
       "\"DB: opt gap = 1.0\""
      ]
     },
     "metadata": {},
     "output_type": "display_data"
    },
    {
     "data": {
      "text/plain": [
       "\">>>>>> iteration 5:O\""
      ]
     },
     "metadata": {},
     "output_type": "display_data"
    },
    {
     "data": {
      "text/plain": [
       "\"DB: opt gap = 1.0\""
      ]
     },
     "metadata": {},
     "output_type": "display_data"
    },
    {
     "data": {
      "text/plain": [
       "\">>>>>> iteration 6:O\""
      ]
     },
     "metadata": {},
     "output_type": "display_data"
    },
    {
     "data": {
      "text/plain": [
       "\"DB: opt gap = 0.7996360605930734\""
      ]
     },
     "metadata": {},
     "output_type": "display_data"
    },
    {
     "data": {
      "text/plain": [
       "\">>>>>> iteration 7:O\""
      ]
     },
     "metadata": {},
     "output_type": "display_data"
    },
    {
     "data": {
      "text/plain": [
       "\"DB: opt gap = 0.5344741541300974\""
      ]
     },
     "metadata": {},
     "output_type": "display_data"
    },
    {
     "data": {
      "text/plain": [
       "\">>>>>> iteration 8:O\""
      ]
     },
     "metadata": {},
     "output_type": "display_data"
    },
    {
     "data": {
      "text/plain": [
       "\"DB: opt gap = 0.49176432327032704\""
      ]
     },
     "metadata": {},
     "output_type": "display_data"
    },
    {
     "data": {
      "text/plain": [
       "\">>>>>> iteration 9:O\""
      ]
     },
     "metadata": {},
     "output_type": "display_data"
    },
    {
     "data": {
      "text/plain": [
       "\"DB: opt gap = 0.5110509209067264\""
      ]
     },
     "metadata": {},
     "output_type": "display_data"
    },
    {
     "data": {
      "text/plain": [
       "\">>>>>> iteration 10:O\""
      ]
     },
     "metadata": {},
     "output_type": "display_data"
    },
    {
     "data": {
      "text/plain": [
       "\"DB: opt gap = 0.03612929996073459\""
      ]
     },
     "metadata": {},
     "output_type": "display_data"
    },
    {
     "data": {
      "text/plain": [
       "\">>>>>> iteration 11:O\""
      ]
     },
     "metadata": {},
     "output_type": "display_data"
    },
    {
     "data": {
      "text/plain": [
       "\"DB: opt gap = 0.03370994935843297\""
      ]
     },
     "metadata": {},
     "output_type": "display_data"
    },
    {
     "data": {
      "text/plain": [
       "\">>>>>> iteration 12:O\""
      ]
     },
     "metadata": {},
     "output_type": "display_data"
    },
    {
     "data": {
      "text/plain": [
       "\"DB: opt gap = 0.03339588155448774\""
      ]
     },
     "metadata": {},
     "output_type": "display_data"
    },
    {
     "data": {
      "text/plain": [
       "\">>>>>> iteration 13:O\""
      ]
     },
     "metadata": {},
     "output_type": "display_data"
    },
    {
     "data": {
      "text/plain": [
       "\"DB: opt gap = 6.901994636261213e-5\""
      ]
     },
     "metadata": {},
     "output_type": "display_data"
    },
    {
     "data": {
      "text/plain": [
       "\"evaluating 50 reactors in parallel | option 3\""
      ]
     },
     "metadata": {},
     "output_type": "display_data"
    },
    {
     "data": {
      "text/plain": [
       "\"DB: opt gap = 1.0\""
      ]
     },
     "metadata": {},
     "output_type": "display_data"
    },
    {
     "data": {
      "text/plain": [
       "\">>>>>> iteration 1:O\""
      ]
     },
     "metadata": {},
     "output_type": "display_data"
    },
    {
     "data": {
      "text/plain": [
       "\"DB: opt gap = 1.0\""
      ]
     },
     "metadata": {},
     "output_type": "display_data"
    },
    {
     "data": {
      "text/plain": [
       "\">>>>>> iteration 2:O\""
      ]
     },
     "metadata": {},
     "output_type": "display_data"
    },
    {
     "data": {
      "text/plain": [
       "\"DB: opt gap = 1.0\""
      ]
     },
     "metadata": {},
     "output_type": "display_data"
    },
    {
     "data": {
      "text/plain": [
       "\">>>>>> iteration 3:O\""
      ]
     },
     "metadata": {},
     "output_type": "display_data"
    },
    {
     "data": {
      "text/plain": [
       "\"DB: opt gap = 1.0\""
      ]
     },
     "metadata": {},
     "output_type": "display_data"
    },
    {
     "data": {
      "text/plain": [
       "\">>>>>> iteration 4:O\""
      ]
     },
     "metadata": {},
     "output_type": "display_data"
    },
    {
     "data": {
      "text/plain": [
       "\"DB: opt gap = 0.7445402582073081\""
      ]
     },
     "metadata": {},
     "output_type": "display_data"
    },
    {
     "data": {
      "text/plain": [
       "\">>>>>> iteration 5:O\""
      ]
     },
     "metadata": {},
     "output_type": "display_data"
    },
    {
     "data": {
      "text/plain": [
       "\"DB: opt gap = 0.6973075160550728\""
      ]
     },
     "metadata": {},
     "output_type": "display_data"
    },
    {
     "data": {
      "text/plain": [
       "\">>>>>> iteration 6:O\""
      ]
     },
     "metadata": {},
     "output_type": "display_data"
    },
    {
     "data": {
      "text/plain": [
       "\"DB: opt gap = 0.5108219761829403\""
      ]
     },
     "metadata": {},
     "output_type": "display_data"
    },
    {
     "data": {
      "text/plain": [
       "\">>>>>> iteration 7:O\""
      ]
     },
     "metadata": {},
     "output_type": "display_data"
    },
    {
     "data": {
      "text/plain": [
       "\"DB: opt gap = 0.4982037224467172\""
      ]
     },
     "metadata": {},
     "output_type": "display_data"
    },
    {
     "data": {
      "text/plain": [
       "\">>>>>> iteration 8:O\""
      ]
     },
     "metadata": {},
     "output_type": "display_data"
    },
    {
     "data": {
      "text/plain": [
       "\"DB: opt gap = 0.3695880321793799\""
      ]
     },
     "metadata": {},
     "output_type": "display_data"
    },
    {
     "data": {
      "text/plain": [
       "\">>>>>> iteration 9:O\""
      ]
     },
     "metadata": {},
     "output_type": "display_data"
    },
    {
     "data": {
      "text/plain": [
       "\"DB: opt gap = 0.3944930597189039\""
      ]
     },
     "metadata": {},
     "output_type": "display_data"
    },
    {
     "data": {
      "text/plain": [
       "\">>>>>> iteration 10:O\""
      ]
     },
     "metadata": {},
     "output_type": "display_data"
    },
    {
     "data": {
      "text/plain": [
       "\"DB: opt gap = 0.3488597113944293\""
      ]
     },
     "metadata": {},
     "output_type": "display_data"
    },
    {
     "data": {
      "text/plain": [
       "\">>>>>> iteration 11:O\""
      ]
     },
     "metadata": {},
     "output_type": "display_data"
    },
    {
     "data": {
      "text/plain": [
       "\"DB: opt gap = 0.3738293123489286\""
      ]
     },
     "metadata": {},
     "output_type": "display_data"
    },
    {
     "data": {
      "text/plain": [
       "\">>>>>> iteration 12:O\""
      ]
     },
     "metadata": {},
     "output_type": "display_data"
    },
    {
     "data": {
      "text/plain": [
       "\"DB: opt gap = 0.04759113424471812\""
      ]
     },
     "metadata": {},
     "output_type": "display_data"
    },
    {
     "data": {
      "text/plain": [
       "\">>>>>> iteration 13:O\""
      ]
     },
     "metadata": {},
     "output_type": "display_data"
    },
    {
     "data": {
      "text/plain": [
       "\"DB: opt gap = 0.04733711831004934\""
      ]
     },
     "metadata": {},
     "output_type": "display_data"
    },
    {
     "data": {
      "text/plain": [
       "\">>>>>> iteration 14:O\""
      ]
     },
     "metadata": {},
     "output_type": "display_data"
    },
    {
     "data": {
      "text/plain": [
       "\"DB: opt gap = 8.536644032311777e-5\""
      ]
     },
     "metadata": {},
     "output_type": "display_data"
    }
   ],
   "source": [
    "# testing the number of reactors in series (chosen arbitrarily as the same number of scenarios)\n",
    "nReactMax = 50\n",
    "\n",
    "#option = 1 --> Unconstrained MPC\n",
    "#option = 2 --> Constrained MPC with binaries --> DOES NOT WORK YET!\n",
    "#option = 3 --> Constrained MPC with MPCC\n",
    "opti = 3\n",
    "\n",
    "#preparing plot \n",
    "# --> monolithic vs. decomposed \n",
    "# solution time\n",
    "solTimeTraj_r = Matrix{Float64}(undef,2,nReactMax) \n",
    "# computed objective function\n",
    "solObjTraj_r = Matrix{Float64}(undef,2,nReactMax) \n",
    "# --> only decomposed\n",
    "# max solution time over all scenarios \n",
    "solTimeMaxTraj_r = Vector{Float64}(undef,nReactMax) \n",
    "# number of iterations\n",
    "iterTraj_r = Vector{Float64}(undef,nReactMax) \n",
    "# optimality gap\n",
    "optGapTraj_r = Vector{Float64}(undef,nReactMax) \n",
    "\n",
    "# number of reactors in parallel\n",
    "nScenarios = 1\n",
    "#equiprobable scenarios\n",
    "pScenarios = 1.0/nScenarios\n",
    "\n",
    "# Computing nominal solution #\n",
    "#number of scenarios \n",
    "scenNom = 1\n",
    "#equiprobable scenarios\n",
    "pNom = 1.0\n",
    "#number of reactors \n",
    "reacNom = 1\n",
    "# number of states of the nominal solution\n",
    "nx = 2*reacNom\n",
    "\n",
    "solNominal = MS_CLDRTO(x0,u0,reacNom,scenNom,pNom,0,opti); \n",
    "\n",
    "for rr = 1:nReactMax\n",
    "    display(\"evaluating $(rr) reactors in parallel | option $(opti)\")\n",
    "        \n",
    "    #number os reactors\n",
    "    nReac = rr\n",
    "    # Number of states\n",
    "    nx = 2*nReac\n",
    "        \n",
    "    # Possible initial conditions (deviation form)\n",
    "    xInit_0 = repeat([0.3583;0.6418] .- x0, outer = [nReac,1])\n",
    "    uInit_0 = 1.0 - u0\n",
    "       \n",
    "    # solving monolithical problem \n",
    "    sol_m_Dict = MS_CLDRTO(xInit_0,uInit_0,nReac,nScenarios,pScenarios,solNominal,opti)\n",
    "\n",
    "    # solving decomposed problem    \n",
    "    sol_d_Dict = BENS_CLDRTO(xInit_0,uInit_0,nReac,nScenarios,pScenarios,solNominal,opti)\n",
    "        \n",
    "    # for plotting\n",
    "    solTimeTraj_r[1,rr] = sol_m_Dict['t']\n",
    "    solTimeTraj_r[2,rr] = sol_d_Dict['t']\n",
    "    \n",
    "    solObjTraj_r[1,rr] = sol_m_Dict['ϕ']\n",
    "    solObjTraj_r[2,rr] = sol_d_Dict['ϕ']\n",
    "\n",
    "    solTimeMaxTraj_r[rr] = sol_d_Dict['m']\n",
    "    iterTraj_r[rr] = sol_d_Dict['i'] \n",
    "    optGapTraj_r[rr] = sol_d_Dict['g']\n",
    "\n",
    "end\n"
   ]
  },
  {
   "cell_type": "code",
   "execution_count": 24,
   "id": "31be0294",
   "metadata": {},
   "outputs": [
    {
     "data": {
      "image/svg+xml": [
       "<?xml version=\"1.0\" encoding=\"utf-8\"?>\n",
       "<svg xmlns=\"http://www.w3.org/2000/svg\" xmlns:xlink=\"http://www.w3.org/1999/xlink\" width=\"600\" height=\"400\" viewBox=\"0 0 2400 1600\">\n",
       "<defs>\n",
       "  <clipPath id=\"clip720\">\n",
       "    <rect x=\"0\" y=\"0\" width=\"2400\" height=\"1600\"/>\n",
       "  </clipPath>\n",
       "</defs>\n",
       "<path clip-path=\"url(#clip720)\" d=\"M0 1600 L2400 1600 L2400 0 L0 0  Z\" fill=\"#ffffff\" fill-rule=\"evenodd\" fill-opacity=\"1\"/>\n",
       "<defs>\n",
       "  <clipPath id=\"clip721\">\n",
       "    <rect x=\"480\" y=\"0\" width=\"1681\" height=\"1600\"/>\n",
       "  </clipPath>\n",
       "</defs>\n",
       "<path clip-path=\"url(#clip720)\" d=\"M205.121 1423.18 L2352.76 1423.18 L2352.76 47.2441 L205.121 47.2441  Z\" fill=\"#ffffff\" fill-rule=\"evenodd\" fill-opacity=\"1\"/>\n",
       "<defs>\n",
       "  <clipPath id=\"clip722\">\n",
       "    <rect x=\"205\" y=\"47\" width=\"2149\" height=\"1377\"/>\n",
       "  </clipPath>\n",
       "</defs>\n",
       "<polyline clip-path=\"url(#clip722)\" style=\"stroke:#000000; stroke-linecap:round; stroke-linejoin:round; stroke-width:8; stroke-opacity:0.1; fill:none\" points=\"224.555,1423.18 224.555,47.2441 \"/>\n",
       "<polyline clip-path=\"url(#clip722)\" style=\"stroke:#000000; stroke-linecap:round; stroke-linejoin:round; stroke-width:8; stroke-opacity:0.1; fill:none\" points=\"638.039,1423.18 638.039,47.2441 \"/>\n",
       "<polyline clip-path=\"url(#clip722)\" style=\"stroke:#000000; stroke-linecap:round; stroke-linejoin:round; stroke-width:8; stroke-opacity:0.1; fill:none\" points=\"1051.52,1423.18 1051.52,47.2441 \"/>\n",
       "<polyline clip-path=\"url(#clip722)\" style=\"stroke:#000000; stroke-linecap:round; stroke-linejoin:round; stroke-width:8; stroke-opacity:0.1; fill:none\" points=\"1465.01,1423.18 1465.01,47.2441 \"/>\n",
       "<polyline clip-path=\"url(#clip722)\" style=\"stroke:#000000; stroke-linecap:round; stroke-linejoin:round; stroke-width:8; stroke-opacity:0.1; fill:none\" points=\"1878.49,1423.18 1878.49,47.2441 \"/>\n",
       "<polyline clip-path=\"url(#clip722)\" style=\"stroke:#000000; stroke-linecap:round; stroke-linejoin:round; stroke-width:8; stroke-opacity:0.1; fill:none\" points=\"2291.97,1423.18 2291.97,47.2441 \"/>\n",
       "<polyline clip-path=\"url(#clip720)\" style=\"stroke:#000000; stroke-linecap:round; stroke-linejoin:round; stroke-width:4; stroke-opacity:1; fill:none\" points=\"205.121,1423.18 2352.76,1423.18 \"/>\n",
       "<polyline clip-path=\"url(#clip720)\" style=\"stroke:#000000; stroke-linecap:round; stroke-linejoin:round; stroke-width:4; stroke-opacity:1; fill:none\" points=\"224.555,1423.18 224.555,1404.28 \"/>\n",
       "<polyline clip-path=\"url(#clip720)\" style=\"stroke:#000000; stroke-linecap:round; stroke-linejoin:round; stroke-width:4; stroke-opacity:1; fill:none\" points=\"638.039,1423.18 638.039,1404.28 \"/>\n",
       "<polyline clip-path=\"url(#clip720)\" style=\"stroke:#000000; stroke-linecap:round; stroke-linejoin:round; stroke-width:4; stroke-opacity:1; fill:none\" points=\"1051.52,1423.18 1051.52,1404.28 \"/>\n",
       "<polyline clip-path=\"url(#clip720)\" style=\"stroke:#000000; stroke-linecap:round; stroke-linejoin:round; stroke-width:4; stroke-opacity:1; fill:none\" points=\"1465.01,1423.18 1465.01,1404.28 \"/>\n",
       "<polyline clip-path=\"url(#clip720)\" style=\"stroke:#000000; stroke-linecap:round; stroke-linejoin:round; stroke-width:4; stroke-opacity:1; fill:none\" points=\"1878.49,1423.18 1878.49,1404.28 \"/>\n",
       "<polyline clip-path=\"url(#clip720)\" style=\"stroke:#000000; stroke-linecap:round; stroke-linejoin:round; stroke-width:4; stroke-opacity:1; fill:none\" points=\"2291.97,1423.18 2291.97,1404.28 \"/>\n",
       "<path clip-path=\"url(#clip720)\" d=\"M224.555 1454.1 Q220.944 1454.1 219.115 1457.66 Q217.309 1461.2 217.309 1468.33 Q217.309 1475.44 219.115 1479.01 Q220.944 1482.55 224.555 1482.55 Q228.189 1482.55 229.994 1479.01 Q231.823 1475.44 231.823 1468.33 Q231.823 1461.2 229.994 1457.66 Q228.189 1454.1 224.555 1454.1 M224.555 1450.39 Q230.365 1450.39 233.42 1455 Q236.499 1459.58 236.499 1468.33 Q236.499 1477.06 233.42 1481.67 Q230.365 1486.25 224.555 1486.25 Q218.745 1486.25 215.666 1481.67 Q212.61 1477.06 212.61 1468.33 Q212.61 1459.58 215.666 1455 Q218.745 1450.39 224.555 1450.39 Z\" fill=\"#000000\" fill-rule=\"evenodd\" fill-opacity=\"1\" /><path clip-path=\"url(#clip720)\" d=\"M612.726 1481.64 L620.365 1481.64 L620.365 1455.28 L612.055 1456.95 L612.055 1452.69 L620.319 1451.02 L624.995 1451.02 L624.995 1481.64 L632.633 1481.64 L632.633 1485.58 L612.726 1485.58 L612.726 1481.64 Z\" fill=\"#000000\" fill-rule=\"evenodd\" fill-opacity=\"1\" /><path clip-path=\"url(#clip720)\" d=\"M652.078 1454.1 Q648.467 1454.1 646.638 1457.66 Q644.832 1461.2 644.832 1468.33 Q644.832 1475.44 646.638 1479.01 Q648.467 1482.55 652.078 1482.55 Q655.712 1482.55 657.518 1479.01 Q659.346 1475.44 659.346 1468.33 Q659.346 1461.2 657.518 1457.66 Q655.712 1454.1 652.078 1454.1 M652.078 1450.39 Q657.888 1450.39 660.943 1455 Q664.022 1459.58 664.022 1468.33 Q664.022 1477.06 660.943 1481.67 Q657.888 1486.25 652.078 1486.25 Q646.268 1486.25 643.189 1481.67 Q640.133 1477.06 640.133 1468.33 Q640.133 1459.58 643.189 1455 Q646.268 1450.39 652.078 1450.39 Z\" fill=\"#000000\" fill-rule=\"evenodd\" fill-opacity=\"1\" /><path clip-path=\"url(#clip720)\" d=\"M1030.3 1481.64 L1046.61 1481.64 L1046.61 1485.58 L1024.67 1485.58 L1024.67 1481.64 Q1027.33 1478.89 1031.92 1474.26 Q1036.52 1469.61 1037.7 1468.27 Q1039.95 1465.74 1040.83 1464.01 Q1041.73 1462.25 1041.73 1460.56 Q1041.73 1457.8 1039.79 1456.07 Q1037.87 1454.33 1034.76 1454.33 Q1032.56 1454.33 1030.11 1455.09 Q1027.68 1455.86 1024.9 1457.41 L1024.9 1452.69 Q1027.73 1451.55 1030.18 1450.97 Q1032.63 1450.39 1034.67 1450.39 Q1040.04 1450.39 1043.24 1453.08 Q1046.43 1455.77 1046.43 1460.26 Q1046.43 1462.39 1045.62 1464.31 Q1044.83 1466.2 1042.73 1468.8 Q1042.15 1469.47 1039.05 1472.69 Q1035.94 1475.88 1030.3 1481.64 Z\" fill=\"#000000\" fill-rule=\"evenodd\" fill-opacity=\"1\" /><path clip-path=\"url(#clip720)\" d=\"M1066.43 1454.1 Q1062.82 1454.1 1060.99 1457.66 Q1059.18 1461.2 1059.18 1468.33 Q1059.18 1475.44 1060.99 1479.01 Q1062.82 1482.55 1066.43 1482.55 Q1070.06 1482.55 1071.87 1479.01 Q1073.7 1475.44 1073.7 1468.33 Q1073.7 1461.2 1071.87 1457.66 Q1070.06 1454.1 1066.43 1454.1 M1066.43 1450.39 Q1072.24 1450.39 1075.3 1455 Q1078.37 1459.58 1078.37 1468.33 Q1078.37 1477.06 1075.3 1481.67 Q1072.24 1486.25 1066.43 1486.25 Q1060.62 1486.25 1057.54 1481.67 Q1054.49 1477.06 1054.49 1468.33 Q1054.49 1459.58 1057.54 1455 Q1060.62 1450.39 1066.43 1450.39 Z\" fill=\"#000000\" fill-rule=\"evenodd\" fill-opacity=\"1\" /><path clip-path=\"url(#clip720)\" d=\"M1453.85 1466.95 Q1457.21 1467.66 1459.08 1469.93 Q1460.98 1472.2 1460.98 1475.53 Q1460.98 1480.65 1457.46 1483.45 Q1453.94 1486.25 1447.46 1486.25 Q1445.28 1486.25 1442.97 1485.81 Q1440.68 1485.39 1438.22 1484.54 L1438.22 1480.02 Q1440.17 1481.16 1442.48 1481.74 Q1444.8 1482.32 1447.32 1482.32 Q1451.72 1482.32 1454.01 1480.58 Q1456.33 1478.84 1456.33 1475.53 Q1456.33 1472.48 1454.17 1470.77 Q1452.04 1469.03 1448.22 1469.03 L1444.2 1469.03 L1444.2 1465.19 L1448.41 1465.19 Q1451.86 1465.19 1453.69 1463.82 Q1455.52 1462.43 1455.52 1459.84 Q1455.52 1457.18 1453.62 1455.77 Q1451.74 1454.33 1448.22 1454.33 Q1446.3 1454.33 1444.1 1454.75 Q1441.9 1455.16 1439.27 1456.04 L1439.27 1451.88 Q1441.93 1451.14 1444.24 1450.77 Q1446.58 1450.39 1448.64 1450.39 Q1453.96 1450.39 1457.07 1452.83 Q1460.17 1455.23 1460.17 1459.35 Q1460.17 1462.22 1458.52 1464.21 Q1456.88 1466.18 1453.85 1466.95 Z\" fill=\"#000000\" fill-rule=\"evenodd\" fill-opacity=\"1\" /><path clip-path=\"url(#clip720)\" d=\"M1479.84 1454.1 Q1476.23 1454.1 1474.4 1457.66 Q1472.6 1461.2 1472.6 1468.33 Q1472.6 1475.44 1474.4 1479.01 Q1476.23 1482.55 1479.84 1482.55 Q1483.48 1482.55 1485.28 1479.01 Q1487.11 1475.44 1487.11 1468.33 Q1487.11 1461.2 1485.28 1457.66 Q1483.48 1454.1 1479.84 1454.1 M1479.84 1450.39 Q1485.65 1450.39 1488.71 1455 Q1491.79 1459.58 1491.79 1468.33 Q1491.79 1477.06 1488.71 1481.67 Q1485.65 1486.25 1479.84 1486.25 Q1474.03 1486.25 1470.96 1481.67 Q1467.9 1477.06 1467.9 1468.33 Q1467.9 1459.58 1470.96 1455 Q1474.03 1450.39 1479.84 1450.39 Z\" fill=\"#000000\" fill-rule=\"evenodd\" fill-opacity=\"1\" /><path clip-path=\"url(#clip720)\" d=\"M1866.66 1455.09 L1854.86 1473.54 L1866.66 1473.54 L1866.66 1455.09 M1865.43 1451.02 L1871.31 1451.02 L1871.31 1473.54 L1876.24 1473.54 L1876.24 1477.43 L1871.31 1477.43 L1871.31 1485.58 L1866.66 1485.58 L1866.66 1477.43 L1851.06 1477.43 L1851.06 1472.92 L1865.43 1451.02 Z\" fill=\"#000000\" fill-rule=\"evenodd\" fill-opacity=\"1\" /><path clip-path=\"url(#clip720)\" d=\"M1893.98 1454.1 Q1890.36 1454.1 1888.54 1457.66 Q1886.73 1461.2 1886.73 1468.33 Q1886.73 1475.44 1888.54 1479.01 Q1890.36 1482.55 1893.98 1482.55 Q1897.61 1482.55 1899.42 1479.01 Q1901.24 1475.44 1901.24 1468.33 Q1901.24 1461.2 1899.42 1457.66 Q1897.61 1454.1 1893.98 1454.1 M1893.98 1450.39 Q1899.79 1450.39 1902.84 1455 Q1905.92 1459.58 1905.92 1468.33 Q1905.92 1477.06 1902.84 1481.67 Q1899.79 1486.25 1893.98 1486.25 Q1888.17 1486.25 1885.09 1481.67 Q1882.03 1477.06 1882.03 1468.33 Q1882.03 1459.58 1885.09 1455 Q1888.17 1450.39 1893.98 1450.39 Z\" fill=\"#000000\" fill-rule=\"evenodd\" fill-opacity=\"1\" /><path clip-path=\"url(#clip720)\" d=\"M2266.67 1451.02 L2285.03 1451.02 L2285.03 1454.96 L2270.96 1454.96 L2270.96 1463.43 Q2271.97 1463.08 2272.99 1462.92 Q2274.01 1462.73 2275.03 1462.73 Q2280.82 1462.73 2284.2 1465.9 Q2287.58 1469.08 2287.58 1474.49 Q2287.58 1480.07 2284.1 1483.17 Q2280.63 1486.25 2274.31 1486.25 Q2272.14 1486.25 2269.87 1485.88 Q2267.62 1485.51 2265.21 1484.77 L2265.21 1480.07 Q2267.3 1481.2 2269.52 1481.76 Q2271.74 1482.32 2274.22 1482.32 Q2278.22 1482.32 2280.56 1480.21 Q2282.9 1478.1 2282.9 1474.49 Q2282.9 1470.88 2280.56 1468.77 Q2278.22 1466.67 2274.22 1466.67 Q2272.34 1466.67 2270.47 1467.08 Q2268.62 1467.5 2266.67 1468.38 L2266.67 1451.02 Z\" fill=\"#000000\" fill-rule=\"evenodd\" fill-opacity=\"1\" /><path clip-path=\"url(#clip720)\" d=\"M2306.79 1454.1 Q2303.18 1454.1 2301.35 1457.66 Q2299.54 1461.2 2299.54 1468.33 Q2299.54 1475.44 2301.35 1479.01 Q2303.18 1482.55 2306.79 1482.55 Q2310.42 1482.55 2312.23 1479.01 Q2314.06 1475.44 2314.06 1468.33 Q2314.06 1461.2 2312.23 1457.66 Q2310.42 1454.1 2306.79 1454.1 M2306.79 1450.39 Q2312.6 1450.39 2315.65 1455 Q2318.73 1459.58 2318.73 1468.33 Q2318.73 1477.06 2315.65 1481.67 Q2312.6 1486.25 2306.79 1486.25 Q2300.98 1486.25 2297.9 1481.67 Q2294.84 1477.06 2294.84 1468.33 Q2294.84 1459.58 2297.9 1455 Q2300.98 1450.39 2306.79 1450.39 Z\" fill=\"#000000\" fill-rule=\"evenodd\" fill-opacity=\"1\" /><path clip-path=\"url(#clip720)\" d=\"M1139.94 1539.37 L1130.68 1539.37 L1128.01 1550 L1137.33 1550 L1139.94 1539.37 M1135.17 1521.26 L1131.86 1534.46 L1141.15 1534.46 L1144.49 1521.26 L1149.59 1521.26 L1146.31 1534.46 L1156.24 1534.46 L1156.24 1539.37 L1145.07 1539.37 L1142.46 1550 L1152.58 1550 L1152.58 1554.87 L1141.22 1554.87 L1137.91 1568.04 L1132.81 1568.04 L1136.09 1554.87 L1126.77 1554.87 L1123.49 1568.04 L1118.36 1568.04 L1121.67 1554.87 L1111.65 1554.87 L1111.65 1550 L1122.85 1550 L1125.52 1539.37 L1115.28 1539.37 L1115.28 1534.46 L1126.77 1534.46 L1130.01 1521.26 L1135.17 1521.26 Z\" fill=\"#000000\" fill-rule=\"evenodd\" fill-opacity=\"1\" /><path clip-path=\"url(#clip720)\" d=\"M1208.76 1537.87 Q1207.77 1537.3 1206.59 1537.04 Q1205.45 1536.76 1204.05 1536.76 Q1199.08 1536.76 1196.41 1540 Q1193.77 1543.22 1193.77 1549.27 L1193.77 1568.04 L1187.88 1568.04 L1187.88 1532.4 L1193.77 1532.4 L1193.77 1537.93 Q1195.61 1534.69 1198.57 1533.13 Q1201.53 1531.54 1205.76 1531.54 Q1206.37 1531.54 1207.1 1531.63 Q1207.83 1531.7 1208.72 1531.85 L1208.76 1537.87 Z\" fill=\"#000000\" fill-rule=\"evenodd\" fill-opacity=\"1\" /><path clip-path=\"url(#clip720)\" d=\"M1243.96 1548.76 L1243.96 1551.62 L1217.03 1551.62 Q1217.41 1557.67 1220.66 1560.85 Q1223.94 1564 1229.76 1564 Q1233.14 1564 1236.29 1563.17 Q1239.47 1562.35 1242.59 1560.69 L1242.59 1566.23 Q1239.44 1567.57 1236.13 1568.27 Q1232.82 1568.97 1229.41 1568.97 Q1220.88 1568.97 1215.89 1564 Q1210.92 1559.04 1210.92 1550.57 Q1210.92 1541.82 1215.63 1536.69 Q1220.37 1531.54 1228.39 1531.54 Q1235.59 1531.54 1239.76 1536.18 Q1243.96 1540.8 1243.96 1548.76 M1238.1 1547.04 Q1238.04 1542.23 1235.4 1539.37 Q1232.79 1536.5 1228.46 1536.5 Q1223.56 1536.5 1220.6 1539.27 Q1217.67 1542.04 1217.22 1547.07 L1238.1 1547.04 Z\" fill=\"#000000\" fill-rule=\"evenodd\" fill-opacity=\"1\" /><path clip-path=\"url(#clip720)\" d=\"M1269.77 1550.12 Q1262.67 1550.12 1259.94 1551.75 Q1257.2 1553.37 1257.2 1557.29 Q1257.2 1560.4 1259.24 1562.25 Q1261.31 1564.07 1264.84 1564.07 Q1269.71 1564.07 1272.64 1560.63 Q1275.6 1557.16 1275.6 1551.43 L1275.6 1550.12 L1269.77 1550.12 M1281.45 1547.71 L1281.45 1568.04 L1275.6 1568.04 L1275.6 1562.63 Q1273.59 1565.88 1270.6 1567.44 Q1267.61 1568.97 1263.28 1568.97 Q1257.8 1568.97 1254.56 1565.91 Q1251.34 1562.82 1251.34 1557.67 Q1251.34 1551.65 1255.35 1548.6 Q1259.4 1545.54 1267.38 1545.54 L1275.6 1545.54 L1275.6 1544.97 Q1275.6 1540.93 1272.92 1538.73 Q1270.28 1536.5 1265.47 1536.5 Q1262.42 1536.5 1259.52 1537.23 Q1256.63 1537.97 1253.95 1539.43 L1253.95 1534.02 Q1257.17 1532.78 1260.19 1532.17 Q1263.22 1531.54 1266.08 1531.54 Q1273.81 1531.54 1277.63 1535.55 Q1281.45 1539.56 1281.45 1547.71 Z\" fill=\"#000000\" fill-rule=\"evenodd\" fill-opacity=\"1\" /><path clip-path=\"url(#clip720)\" d=\"M1319.17 1533.76 L1319.17 1539.24 Q1316.69 1537.87 1314.17 1537.2 Q1311.69 1536.5 1309.14 1536.5 Q1303.45 1536.5 1300.3 1540.13 Q1297.14 1543.73 1297.14 1550.25 Q1297.14 1556.78 1300.3 1560.4 Q1303.45 1564 1309.14 1564 Q1311.69 1564 1314.17 1563.33 Q1316.69 1562.63 1319.17 1561.26 L1319.17 1566.68 Q1316.72 1567.82 1314.08 1568.39 Q1311.47 1568.97 1308.51 1568.97 Q1300.45 1568.97 1295.71 1563.91 Q1290.97 1558.85 1290.97 1550.25 Q1290.97 1541.53 1295.74 1536.53 Q1300.55 1531.54 1308.89 1531.54 Q1311.59 1531.54 1314.17 1532.11 Q1316.75 1532.65 1319.17 1533.76 Z\" fill=\"#000000\" fill-rule=\"evenodd\" fill-opacity=\"1\" /><path clip-path=\"url(#clip720)\" d=\"M1335.15 1522.27 L1335.15 1532.4 L1347.21 1532.4 L1347.21 1536.95 L1335.15 1536.95 L1335.15 1556.3 Q1335.15 1560.66 1336.33 1561.9 Q1337.53 1563.14 1341.2 1563.14 L1347.21 1563.14 L1347.21 1568.04 L1341.2 1568.04 Q1334.42 1568.04 1331.84 1565.53 Q1329.26 1562.98 1329.26 1556.3 L1329.26 1536.95 L1324.96 1536.95 L1324.96 1532.4 L1329.26 1532.4 L1329.26 1522.27 L1335.15 1522.27 Z\" fill=\"#000000\" fill-rule=\"evenodd\" fill-opacity=\"1\" /><path clip-path=\"url(#clip720)\" d=\"M1368.73 1536.5 Q1364.02 1536.5 1361.28 1540.19 Q1358.54 1543.85 1358.54 1550.25 Q1358.54 1556.65 1361.25 1560.34 Q1363.98 1564 1368.73 1564 Q1373.41 1564 1376.14 1560.31 Q1378.88 1556.62 1378.88 1550.25 Q1378.88 1543.92 1376.14 1540.23 Q1373.41 1536.5 1368.73 1536.5 M1368.73 1531.54 Q1376.37 1531.54 1380.73 1536.5 Q1385.09 1541.47 1385.09 1550.25 Q1385.09 1559 1380.73 1564 Q1376.37 1568.97 1368.73 1568.97 Q1361.06 1568.97 1356.7 1564 Q1352.37 1559 1352.37 1550.25 Q1352.37 1541.47 1356.7 1536.5 Q1361.06 1531.54 1368.73 1531.54 Z\" fill=\"#000000\" fill-rule=\"evenodd\" fill-opacity=\"1\" /><path clip-path=\"url(#clip720)\" d=\"M1415.45 1537.87 Q1414.46 1537.3 1413.29 1537.04 Q1412.14 1536.76 1410.74 1536.76 Q1405.78 1536.76 1403.1 1540 Q1400.46 1543.22 1400.46 1549.27 L1400.46 1568.04 L1394.57 1568.04 L1394.57 1532.4 L1400.46 1532.4 L1400.46 1537.93 Q1402.31 1534.69 1405.27 1533.13 Q1408.23 1531.54 1412.46 1531.54 Q1413.06 1531.54 1413.8 1531.63 Q1414.53 1531.7 1415.42 1531.85 L1415.45 1537.87 Z\" fill=\"#000000\" fill-rule=\"evenodd\" fill-opacity=\"1\" /><path clip-path=\"url(#clip720)\" d=\"M1444.32 1533.45 L1444.32 1538.98 Q1441.84 1537.71 1439.16 1537.07 Q1436.49 1536.44 1433.63 1536.44 Q1429.26 1536.44 1427.07 1537.77 Q1424.9 1539.11 1424.9 1541.79 Q1424.9 1543.82 1426.46 1545 Q1428.02 1546.15 1432.73 1547.2 L1434.74 1547.64 Q1440.98 1548.98 1443.59 1551.43 Q1446.23 1553.85 1446.23 1558.21 Q1446.23 1563.17 1442.28 1566.07 Q1438.37 1568.97 1431.49 1568.97 Q1428.63 1568.97 1425.51 1568.39 Q1422.42 1567.85 1418.98 1566.74 L1418.98 1560.69 Q1422.23 1562.38 1425.38 1563.24 Q1428.53 1564.07 1431.62 1564.07 Q1435.76 1564.07 1437.99 1562.66 Q1440.21 1561.23 1440.21 1558.65 Q1440.21 1556.27 1438.59 1554.99 Q1437 1553.72 1431.56 1552.54 L1429.52 1552.07 Q1424.08 1550.92 1421.66 1548.56 Q1419.24 1546.18 1419.24 1542.04 Q1419.24 1537.01 1422.8 1534.27 Q1426.37 1531.54 1432.92 1531.54 Q1436.17 1531.54 1439.04 1532.01 Q1441.9 1532.49 1444.32 1533.45 Z\" fill=\"#000000\" fill-rule=\"evenodd\" fill-opacity=\"1\" /><polyline clip-path=\"url(#clip722)\" style=\"stroke:#000000; stroke-linecap:round; stroke-linejoin:round; stroke-width:8; stroke-opacity:0.1; fill:none\" points=\"205.121,1387.35 2352.76,1387.35 \"/>\n",
       "<polyline clip-path=\"url(#clip722)\" style=\"stroke:#000000; stroke-linecap:round; stroke-linejoin:round; stroke-width:8; stroke-opacity:0.1; fill:none\" points=\"205.121,1096.54 2352.76,1096.54 \"/>\n",
       "<polyline clip-path=\"url(#clip722)\" style=\"stroke:#000000; stroke-linecap:round; stroke-linejoin:round; stroke-width:8; stroke-opacity:0.1; fill:none\" points=\"205.121,805.72 2352.76,805.72 \"/>\n",
       "<polyline clip-path=\"url(#clip722)\" style=\"stroke:#000000; stroke-linecap:round; stroke-linejoin:round; stroke-width:8; stroke-opacity:0.1; fill:none\" points=\"205.121,514.905 2352.76,514.905 \"/>\n",
       "<polyline clip-path=\"url(#clip722)\" style=\"stroke:#000000; stroke-linecap:round; stroke-linejoin:round; stroke-width:8; stroke-opacity:0.1; fill:none\" points=\"205.121,224.09 2352.76,224.09 \"/>\n",
       "<polyline clip-path=\"url(#clip720)\" style=\"stroke:#000000; stroke-linecap:round; stroke-linejoin:round; stroke-width:4; stroke-opacity:1; fill:none\" points=\"205.121,1423.18 205.121,47.2441 \"/>\n",
       "<polyline clip-path=\"url(#clip720)\" style=\"stroke:#000000; stroke-linecap:round; stroke-linejoin:round; stroke-width:4; stroke-opacity:1; fill:none\" points=\"205.121,1387.35 224.019,1387.35 \"/>\n",
       "<polyline clip-path=\"url(#clip720)\" style=\"stroke:#000000; stroke-linecap:round; stroke-linejoin:round; stroke-width:4; stroke-opacity:1; fill:none\" points=\"205.121,1096.54 224.019,1096.54 \"/>\n",
       "<polyline clip-path=\"url(#clip720)\" style=\"stroke:#000000; stroke-linecap:round; stroke-linejoin:round; stroke-width:4; stroke-opacity:1; fill:none\" points=\"205.121,805.72 224.019,805.72 \"/>\n",
       "<polyline clip-path=\"url(#clip720)\" style=\"stroke:#000000; stroke-linecap:round; stroke-linejoin:round; stroke-width:4; stroke-opacity:1; fill:none\" points=\"205.121,514.905 224.019,514.905 \"/>\n",
       "<polyline clip-path=\"url(#clip720)\" style=\"stroke:#000000; stroke-linecap:round; stroke-linejoin:round; stroke-width:4; stroke-opacity:1; fill:none\" points=\"205.121,224.09 224.019,224.09 \"/>\n",
       "<path clip-path=\"url(#clip720)\" d=\"M157.177 1373.15 Q153.566 1373.15 151.737 1376.71 Q149.931 1380.26 149.931 1387.38 Q149.931 1394.49 151.737 1398.06 Q153.566 1401.6 157.177 1401.6 Q160.811 1401.6 162.616 1398.06 Q164.445 1394.49 164.445 1387.38 Q164.445 1380.26 162.616 1376.71 Q160.811 1373.15 157.177 1373.15 M157.177 1369.44 Q162.987 1369.44 166.042 1374.05 Q169.121 1378.63 169.121 1387.38 Q169.121 1396.11 166.042 1400.72 Q162.987 1405.3 157.177 1405.3 Q151.366 1405.3 148.288 1400.72 Q145.232 1396.11 145.232 1387.38 Q145.232 1378.63 148.288 1374.05 Q151.366 1369.44 157.177 1369.44 Z\" fill=\"#000000\" fill-rule=\"evenodd\" fill-opacity=\"1\" /><path clip-path=\"url(#clip720)\" d=\"M117.825 1109.88 L125.464 1109.88 L125.464 1083.51 L117.154 1085.18 L117.154 1080.92 L125.418 1079.26 L130.093 1079.26 L130.093 1109.88 L137.732 1109.88 L137.732 1113.82 L117.825 1113.82 L117.825 1109.88 Z\" fill=\"#000000\" fill-rule=\"evenodd\" fill-opacity=\"1\" /><path clip-path=\"url(#clip720)\" d=\"M157.177 1082.33 Q153.566 1082.33 151.737 1085.9 Q149.931 1089.44 149.931 1096.57 Q149.931 1103.68 151.737 1107.24 Q153.566 1110.78 157.177 1110.78 Q160.811 1110.78 162.616 1107.24 Q164.445 1103.68 164.445 1096.57 Q164.445 1089.44 162.616 1085.9 Q160.811 1082.33 157.177 1082.33 M157.177 1078.63 Q162.987 1078.63 166.042 1083.24 Q169.121 1087.82 169.121 1096.57 Q169.121 1105.3 166.042 1109.9 Q162.987 1114.49 157.177 1114.49 Q151.366 1114.49 148.288 1109.9 Q145.232 1105.3 145.232 1096.57 Q145.232 1087.82 148.288 1083.24 Q151.366 1078.63 157.177 1078.63 Z\" fill=\"#000000\" fill-rule=\"evenodd\" fill-opacity=\"1\" /><path clip-path=\"url(#clip720)\" d=\"M121.043 819.065 L137.362 819.065 L137.362 823 L115.418 823 L115.418 819.065 Q118.08 816.31 122.663 811.681 Q127.269 807.028 128.45 805.685 Q130.695 803.162 131.575 801.426 Q132.478 799.667 132.478 797.977 Q132.478 795.222 130.533 793.486 Q128.612 791.75 125.51 791.75 Q123.311 791.75 120.857 792.514 Q118.427 793.278 115.649 794.829 L115.649 790.107 Q118.473 788.972 120.927 788.394 Q123.38 787.815 125.418 787.815 Q130.788 787.815 133.982 790.5 Q137.177 793.185 137.177 797.676 Q137.177 799.806 136.367 801.727 Q135.579 803.625 133.473 806.218 Q132.894 806.889 129.792 810.107 Q126.691 813.301 121.043 819.065 Z\" fill=\"#000000\" fill-rule=\"evenodd\" fill-opacity=\"1\" /><path clip-path=\"url(#clip720)\" d=\"M157.177 791.519 Q153.566 791.519 151.737 795.084 Q149.931 798.625 149.931 805.755 Q149.931 812.861 151.737 816.426 Q153.566 819.968 157.177 819.968 Q160.811 819.968 162.616 816.426 Q164.445 812.861 164.445 805.755 Q164.445 798.625 162.616 795.084 Q160.811 791.519 157.177 791.519 M157.177 787.815 Q162.987 787.815 166.042 792.422 Q169.121 797.005 169.121 805.755 Q169.121 814.482 166.042 819.088 Q162.987 823.671 157.177 823.671 Q151.366 823.671 148.288 819.088 Q145.232 814.482 145.232 805.755 Q145.232 797.005 148.288 792.422 Q151.366 787.815 157.177 787.815 Z\" fill=\"#000000\" fill-rule=\"evenodd\" fill-opacity=\"1\" /><path clip-path=\"url(#clip720)\" d=\"M131.181 513.551 Q134.538 514.269 136.413 516.537 Q138.311 518.806 138.311 522.139 Q138.311 527.255 134.792 530.055 Q131.274 532.856 124.793 532.856 Q122.617 532.856 120.302 532.417 Q118.01 532 115.556 531.143 L115.556 526.63 Q117.501 527.764 119.816 528.343 Q122.13 528.921 124.654 528.921 Q129.052 528.921 131.343 527.185 Q133.658 525.449 133.658 522.139 Q133.658 519.083 131.505 517.37 Q129.376 515.634 125.556 515.634 L121.529 515.634 L121.529 511.792 L125.742 511.792 Q129.191 511.792 131.019 510.426 Q132.848 509.037 132.848 506.444 Q132.848 503.782 130.95 502.37 Q129.075 500.935 125.556 500.935 Q123.635 500.935 121.436 501.352 Q119.237 501.769 116.598 502.648 L116.598 498.482 Q119.26 497.741 121.575 497.37 Q123.913 497 125.973 497 Q131.297 497 134.399 499.431 Q137.501 501.838 137.501 505.958 Q137.501 508.829 135.857 510.819 Q134.214 512.787 131.181 513.551 Z\" fill=\"#000000\" fill-rule=\"evenodd\" fill-opacity=\"1\" /><path clip-path=\"url(#clip720)\" d=\"M157.177 500.704 Q153.566 500.704 151.737 504.269 Q149.931 507.81 149.931 514.94 Q149.931 522.046 151.737 525.611 Q153.566 529.153 157.177 529.153 Q160.811 529.153 162.616 525.611 Q164.445 522.046 164.445 514.94 Q164.445 507.81 162.616 504.269 Q160.811 500.704 157.177 500.704 M157.177 497 Q162.987 497 166.042 501.607 Q169.121 506.19 169.121 514.94 Q169.121 523.667 166.042 528.273 Q162.987 532.856 157.177 532.856 Q151.366 532.856 148.288 528.273 Q145.232 523.667 145.232 514.94 Q145.232 506.19 148.288 501.607 Q151.366 497 157.177 497 Z\" fill=\"#000000\" fill-rule=\"evenodd\" fill-opacity=\"1\" /><path clip-path=\"url(#clip720)\" d=\"M129.862 210.884 L118.056 229.333 L129.862 229.333 L129.862 210.884 M128.635 206.81 L134.515 206.81 L134.515 229.333 L139.445 229.333 L139.445 233.222 L134.515 233.222 L134.515 241.37 L129.862 241.37 L129.862 233.222 L114.26 233.222 L114.26 228.708 L128.635 206.81 Z\" fill=\"#000000\" fill-rule=\"evenodd\" fill-opacity=\"1\" /><path clip-path=\"url(#clip720)\" d=\"M157.177 209.889 Q153.566 209.889 151.737 213.454 Q149.931 216.995 149.931 224.125 Q149.931 231.231 151.737 234.796 Q153.566 238.338 157.177 238.338 Q160.811 238.338 162.616 234.796 Q164.445 231.231 164.445 224.125 Q164.445 216.995 162.616 213.454 Q160.811 209.889 157.177 209.889 M157.177 206.185 Q162.987 206.185 166.042 210.792 Q169.121 215.375 169.121 224.125 Q169.121 232.852 166.042 237.458 Q162.987 242.041 157.177 242.041 Q151.366 242.041 148.288 237.458 Q145.232 232.852 145.232 224.125 Q145.232 215.375 148.288 210.792 Q151.366 206.185 157.177 206.185 Z\" fill=\"#000000\" fill-rule=\"evenodd\" fill-opacity=\"1\" /><path clip-path=\"url(#clip720)\" d=\"M29.4065 898.413 L34.9447 898.413 Q33.6716 900.895 33.035 903.569 Q32.3984 906.243 32.3984 909.107 Q32.3984 913.468 33.7352 915.664 Q35.072 917.828 37.7456 917.828 Q39.7826 917.828 40.9603 916.269 Q42.1061 914.709 43.1565 909.998 L43.6021 907.993 Q44.9389 901.755 47.3897 899.145 Q49.8086 896.503 54.1691 896.503 Q59.1344 896.503 62.0308 900.45 Q64.9272 904.365 64.9272 911.24 Q64.9272 914.104 64.3543 917.223 Q63.8132 920.311 62.6992 923.748 L56.6518 923.748 Q58.3387 920.502 59.198 917.351 Q60.0256 914.2 60.0256 911.112 Q60.0256 906.975 58.6251 904.747 Q57.1929 902.519 54.6147 902.519 Q52.2276 902.519 50.9545 904.142 Q49.6813 905.733 48.5037 911.176 L48.0262 913.213 Q46.8804 918.656 44.5251 921.075 Q42.138 923.494 38.0002 923.494 Q32.9713 923.494 30.2341 919.929 Q27.4968 916.364 27.4968 909.807 Q27.4968 906.561 27.9743 903.696 Q28.4517 900.832 29.4065 898.413 Z\" fill=\"#000000\" fill-rule=\"evenodd\" fill-opacity=\"1\" /><path clip-path=\"url(#clip720)\" d=\"M32.4621 873.364 Q32.4621 878.074 36.1542 880.812 Q39.8145 883.549 46.212 883.549 Q52.6095 883.549 56.3017 880.843 Q59.9619 878.106 59.9619 873.364 Q59.9619 868.685 56.2698 865.948 Q52.5777 863.21 46.212 863.21 Q39.8781 863.21 36.186 865.948 Q32.4621 868.685 32.4621 873.364 M27.4968 873.364 Q27.4968 865.725 32.4621 861.364 Q37.4273 857.004 46.212 857.004 Q54.9649 857.004 59.9619 861.364 Q64.9272 865.725 64.9272 873.364 Q64.9272 881.034 59.9619 885.395 Q54.9649 889.724 46.212 889.724 Q37.4273 889.724 32.4621 885.395 Q27.4968 881.034 27.4968 873.364 Z\" fill=\"#000000\" fill-rule=\"evenodd\" fill-opacity=\"1\" /><path clip-path=\"url(#clip720)\" d=\"M14.479 847.296 L14.479 841.44 L64.0042 841.44 L64.0042 847.296 L14.479 847.296 Z\" fill=\"#000000\" fill-rule=\"evenodd\" fill-opacity=\"1\" /><path clip-path=\"url(#clip720)\" d=\"M55.9197 828.358 L55.9197 821.642 L64.0042 821.642 L64.0042 828.358 L55.9197 828.358 Z\" fill=\"#000000\" fill-rule=\"evenodd\" fill-opacity=\"1\" /><path clip-path=\"url(#clip720)\" d=\"M18.2347 781.952 L28.3562 781.952 L28.3562 769.889 L32.9077 769.889 L32.9077 781.952 L52.2594 781.952 Q56.6199 781.952 57.8613 780.775 Q59.1026 779.565 59.1026 775.905 L59.1026 769.889 L64.0042 769.889 L64.0042 775.905 Q64.0042 782.684 61.4897 785.262 Q58.9434 787.84 52.2594 787.84 L32.9077 787.84 L32.9077 792.137 L28.3562 792.137 L28.3562 787.84 L18.2347 787.84 L18.2347 781.952 Z\" fill=\"#000000\" fill-rule=\"evenodd\" fill-opacity=\"1\" /><path clip-path=\"url(#clip720)\" d=\"M28.3562 762.187 L28.3562 756.33 L64.0042 756.33 L64.0042 762.187 L28.3562 762.187 M14.479 762.187 L14.479 756.33 L21.895 756.33 L21.895 762.187 L14.479 762.187 Z\" fill=\"#000000\" fill-rule=\"evenodd\" fill-opacity=\"1\" /><path clip-path=\"url(#clip720)\" d=\"M35.1993 716.322 Q31.2526 714.126 29.3747 711.07 Q27.4968 708.014 27.4968 703.877 Q27.4968 698.307 31.4117 695.283 Q35.2948 692.259 42.4881 692.259 L64.0042 692.259 L64.0042 698.148 L42.679 698.148 Q37.5546 698.148 35.072 699.962 Q32.5894 701.776 32.5894 705.5 Q32.5894 710.052 35.6131 712.693 Q38.6368 715.335 43.8567 715.335 L64.0042 715.335 L64.0042 721.223 L42.679 721.223 Q37.5228 721.223 35.072 723.038 Q32.5894 724.852 32.5894 728.639 Q32.5894 733.127 35.6449 735.769 Q38.6686 738.411 43.8567 738.411 L64.0042 738.411 L64.0042 744.299 L28.3562 744.299 L28.3562 738.411 L33.8944 738.411 Q30.616 736.406 29.0564 733.605 Q27.4968 730.804 27.4968 726.952 Q27.4968 723.069 29.4702 720.364 Q31.4436 717.627 35.1993 716.322 Z\" fill=\"#000000\" fill-rule=\"evenodd\" fill-opacity=\"1\" /><path clip-path=\"url(#clip720)\" d=\"M44.7161 650.087 L47.5806 650.087 L47.5806 677.013 Q53.6281 676.632 56.8109 673.385 Q59.9619 670.107 59.9619 664.282 Q59.9619 660.908 59.1344 657.757 Q58.3069 654.574 56.6518 651.455 L62.1899 651.455 Q63.5267 654.606 64.227 657.916 Q64.9272 661.227 64.9272 664.632 Q64.9272 673.162 59.9619 678.159 Q54.9967 683.125 46.5303 683.125 Q37.7774 683.125 32.6531 678.414 Q27.4968 673.671 27.4968 665.651 Q27.4968 658.457 32.1438 654.288 Q36.7589 650.087 44.7161 650.087 M42.9973 655.943 Q38.1912 656.007 35.3266 658.648 Q32.4621 661.258 32.4621 665.587 Q32.4621 670.489 35.2312 673.449 Q38.0002 676.377 43.0292 676.823 L42.9973 655.943 Z\" fill=\"#000000\" fill-rule=\"evenodd\" fill-opacity=\"1\" /><path clip-path=\"url(#clip720)\" d=\"M14.479 620.295 L14.479 606.8 L19.0304 606.8 L19.0304 614.439 L68.0464 614.439 L68.0464 606.8 L72.5979 606.8 L72.5979 620.295 L14.479 620.295 Z\" fill=\"#000000\" fill-rule=\"evenodd\" fill-opacity=\"1\" /><path clip-path=\"url(#clip720)\" d=\"M29.4065 571.597 L34.9447 571.597 Q33.6716 574.08 33.035 576.754 Q32.3984 579.427 32.3984 582.292 Q32.3984 586.652 33.7352 588.848 Q35.072 591.013 37.7456 591.013 Q39.7826 591.013 40.9603 589.453 Q42.1061 587.894 43.1565 583.183 L43.6021 581.178 Q44.9389 574.939 47.3897 572.329 Q49.8086 569.688 54.1691 569.688 Q59.1344 569.688 62.0308 573.634 Q64.9272 577.549 64.9272 584.424 Q64.9272 587.289 64.3543 590.408 Q63.8132 593.495 62.6992 596.933 L56.6518 596.933 Q58.3387 593.686 59.198 590.535 Q60.0256 587.384 60.0256 584.297 Q60.0256 580.159 58.6251 577.931 Q57.1929 575.703 54.6147 575.703 Q52.2276 575.703 50.9545 577.327 Q49.6813 578.918 48.5037 584.361 L48.0262 586.398 Q46.8804 591.84 44.5251 594.259 Q42.138 596.678 38.0002 596.678 Q32.9713 596.678 30.2341 593.113 Q27.4968 589.549 27.4968 582.992 Q27.4968 579.745 27.9743 576.881 Q28.4517 574.016 29.4065 571.597 Z\" fill=\"#000000\" fill-rule=\"evenodd\" fill-opacity=\"1\" /><path clip-path=\"url(#clip720)\" d=\"M14.479 546.676 L72.5979 546.676 L72.5979 560.171 L68.0464 560.171 L68.0464 552.564 L19.0304 552.564 L19.0304 560.171 L14.479 560.171 L14.479 546.676 Z\" fill=\"#000000\" fill-rule=\"evenodd\" fill-opacity=\"1\" /><polyline clip-path=\"url(#clip722)\" style=\"stroke:#000000; stroke-linecap:round; stroke-linejoin:round; stroke-width:4; stroke-opacity:1; fill:none\" points=\"265.903,1384.24 307.251,1384.01 348.6,1382.55 389.948,1382.64 431.297,1384.01 472.645,1383.77 513.993,1383.19 555.342,1382.52 596.69,1381.85 638.039,1378.1 679.387,1377.35 720.735,1377.58 762.084,1375.86 803.432,1374.41 844.78,1369.14 886.129,1367.23 927.477,1365.68 968.826,1364.81 1010.17,1362.66 1051.52,1357.77 1092.87,1370.66 1134.22,1366.91 1175.57,1353 1216.92,1353.21 1258.26,1363.33 1299.61,1363.79 1340.96,1361.99 1382.31,1359.87 1423.66,1360.1 1465.01,1358.36 1506.35,1357.6 1547.7,1357.72 1589.05,1356.87 1630.4,1317.03 1671.75,1321.89 1713.1,1322.15 1754.44,1318.89 1795.79,1347.48 1837.14,1331.54 1878.49,1329.83 1919.84,1328.4 1961.19,1316.71 2002.54,1327.21 2043.88,1328.93 2085.23,1340.73 2126.58,1325.26 2167.93,1316.36 2209.28,1331.75 2250.63,1331.19 2291.97,1302.78 \"/>\n",
       "<circle clip-path=\"url(#clip722)\" cx=\"265.903\" cy=\"1384.24\" r=\"14.4\" fill=\"#000000\" fill-rule=\"evenodd\" fill-opacity=\"1\" stroke=\"none\"/>\n",
       "<circle clip-path=\"url(#clip722)\" cx=\"307.251\" cy=\"1384.01\" r=\"14.4\" fill=\"#000000\" fill-rule=\"evenodd\" fill-opacity=\"1\" stroke=\"none\"/>\n",
       "<circle clip-path=\"url(#clip722)\" cx=\"348.6\" cy=\"1382.55\" r=\"14.4\" fill=\"#000000\" fill-rule=\"evenodd\" fill-opacity=\"1\" stroke=\"none\"/>\n",
       "<circle clip-path=\"url(#clip722)\" cx=\"389.948\" cy=\"1382.64\" r=\"14.4\" fill=\"#000000\" fill-rule=\"evenodd\" fill-opacity=\"1\" stroke=\"none\"/>\n",
       "<circle clip-path=\"url(#clip722)\" cx=\"431.297\" cy=\"1384.01\" r=\"14.4\" fill=\"#000000\" fill-rule=\"evenodd\" fill-opacity=\"1\" stroke=\"none\"/>\n",
       "<circle clip-path=\"url(#clip722)\" cx=\"472.645\" cy=\"1383.77\" r=\"14.4\" fill=\"#000000\" fill-rule=\"evenodd\" fill-opacity=\"1\" stroke=\"none\"/>\n",
       "<circle clip-path=\"url(#clip722)\" cx=\"513.993\" cy=\"1383.19\" r=\"14.4\" fill=\"#000000\" fill-rule=\"evenodd\" fill-opacity=\"1\" stroke=\"none\"/>\n",
       "<circle clip-path=\"url(#clip722)\" cx=\"555.342\" cy=\"1382.52\" r=\"14.4\" fill=\"#000000\" fill-rule=\"evenodd\" fill-opacity=\"1\" stroke=\"none\"/>\n",
       "<circle clip-path=\"url(#clip722)\" cx=\"596.69\" cy=\"1381.85\" r=\"14.4\" fill=\"#000000\" fill-rule=\"evenodd\" fill-opacity=\"1\" stroke=\"none\"/>\n",
       "<circle clip-path=\"url(#clip722)\" cx=\"638.039\" cy=\"1378.1\" r=\"14.4\" fill=\"#000000\" fill-rule=\"evenodd\" fill-opacity=\"1\" stroke=\"none\"/>\n",
       "<circle clip-path=\"url(#clip722)\" cx=\"679.387\" cy=\"1377.35\" r=\"14.4\" fill=\"#000000\" fill-rule=\"evenodd\" fill-opacity=\"1\" stroke=\"none\"/>\n",
       "<circle clip-path=\"url(#clip722)\" cx=\"720.735\" cy=\"1377.58\" r=\"14.4\" fill=\"#000000\" fill-rule=\"evenodd\" fill-opacity=\"1\" stroke=\"none\"/>\n",
       "<circle clip-path=\"url(#clip722)\" cx=\"762.084\" cy=\"1375.86\" r=\"14.4\" fill=\"#000000\" fill-rule=\"evenodd\" fill-opacity=\"1\" stroke=\"none\"/>\n",
       "<circle clip-path=\"url(#clip722)\" cx=\"803.432\" cy=\"1374.41\" r=\"14.4\" fill=\"#000000\" fill-rule=\"evenodd\" fill-opacity=\"1\" stroke=\"none\"/>\n",
       "<circle clip-path=\"url(#clip722)\" cx=\"844.78\" cy=\"1369.14\" r=\"14.4\" fill=\"#000000\" fill-rule=\"evenodd\" fill-opacity=\"1\" stroke=\"none\"/>\n",
       "<circle clip-path=\"url(#clip722)\" cx=\"886.129\" cy=\"1367.23\" r=\"14.4\" fill=\"#000000\" fill-rule=\"evenodd\" fill-opacity=\"1\" stroke=\"none\"/>\n",
       "<circle clip-path=\"url(#clip722)\" cx=\"927.477\" cy=\"1365.68\" r=\"14.4\" fill=\"#000000\" fill-rule=\"evenodd\" fill-opacity=\"1\" stroke=\"none\"/>\n",
       "<circle clip-path=\"url(#clip722)\" cx=\"968.826\" cy=\"1364.81\" r=\"14.4\" fill=\"#000000\" fill-rule=\"evenodd\" fill-opacity=\"1\" stroke=\"none\"/>\n",
       "<circle clip-path=\"url(#clip722)\" cx=\"1010.17\" cy=\"1362.66\" r=\"14.4\" fill=\"#000000\" fill-rule=\"evenodd\" fill-opacity=\"1\" stroke=\"none\"/>\n",
       "<circle clip-path=\"url(#clip722)\" cx=\"1051.52\" cy=\"1357.77\" r=\"14.4\" fill=\"#000000\" fill-rule=\"evenodd\" fill-opacity=\"1\" stroke=\"none\"/>\n",
       "<circle clip-path=\"url(#clip722)\" cx=\"1092.87\" cy=\"1370.66\" r=\"14.4\" fill=\"#000000\" fill-rule=\"evenodd\" fill-opacity=\"1\" stroke=\"none\"/>\n",
       "<circle clip-path=\"url(#clip722)\" cx=\"1134.22\" cy=\"1366.91\" r=\"14.4\" fill=\"#000000\" fill-rule=\"evenodd\" fill-opacity=\"1\" stroke=\"none\"/>\n",
       "<circle clip-path=\"url(#clip722)\" cx=\"1175.57\" cy=\"1353\" r=\"14.4\" fill=\"#000000\" fill-rule=\"evenodd\" fill-opacity=\"1\" stroke=\"none\"/>\n",
       "<circle clip-path=\"url(#clip722)\" cx=\"1216.92\" cy=\"1353.21\" r=\"14.4\" fill=\"#000000\" fill-rule=\"evenodd\" fill-opacity=\"1\" stroke=\"none\"/>\n",
       "<circle clip-path=\"url(#clip722)\" cx=\"1258.26\" cy=\"1363.33\" r=\"14.4\" fill=\"#000000\" fill-rule=\"evenodd\" fill-opacity=\"1\" stroke=\"none\"/>\n",
       "<circle clip-path=\"url(#clip722)\" cx=\"1299.61\" cy=\"1363.79\" r=\"14.4\" fill=\"#000000\" fill-rule=\"evenodd\" fill-opacity=\"1\" stroke=\"none\"/>\n",
       "<circle clip-path=\"url(#clip722)\" cx=\"1340.96\" cy=\"1361.99\" r=\"14.4\" fill=\"#000000\" fill-rule=\"evenodd\" fill-opacity=\"1\" stroke=\"none\"/>\n",
       "<circle clip-path=\"url(#clip722)\" cx=\"1382.31\" cy=\"1359.87\" r=\"14.4\" fill=\"#000000\" fill-rule=\"evenodd\" fill-opacity=\"1\" stroke=\"none\"/>\n",
       "<circle clip-path=\"url(#clip722)\" cx=\"1423.66\" cy=\"1360.1\" r=\"14.4\" fill=\"#000000\" fill-rule=\"evenodd\" fill-opacity=\"1\" stroke=\"none\"/>\n",
       "<circle clip-path=\"url(#clip722)\" cx=\"1465.01\" cy=\"1358.36\" r=\"14.4\" fill=\"#000000\" fill-rule=\"evenodd\" fill-opacity=\"1\" stroke=\"none\"/>\n",
       "<circle clip-path=\"url(#clip722)\" cx=\"1506.35\" cy=\"1357.6\" r=\"14.4\" fill=\"#000000\" fill-rule=\"evenodd\" fill-opacity=\"1\" stroke=\"none\"/>\n",
       "<circle clip-path=\"url(#clip722)\" cx=\"1547.7\" cy=\"1357.72\" r=\"14.4\" fill=\"#000000\" fill-rule=\"evenodd\" fill-opacity=\"1\" stroke=\"none\"/>\n",
       "<circle clip-path=\"url(#clip722)\" cx=\"1589.05\" cy=\"1356.87\" r=\"14.4\" fill=\"#000000\" fill-rule=\"evenodd\" fill-opacity=\"1\" stroke=\"none\"/>\n",
       "<circle clip-path=\"url(#clip722)\" cx=\"1630.4\" cy=\"1317.03\" r=\"14.4\" fill=\"#000000\" fill-rule=\"evenodd\" fill-opacity=\"1\" stroke=\"none\"/>\n",
       "<circle clip-path=\"url(#clip722)\" cx=\"1671.75\" cy=\"1321.89\" r=\"14.4\" fill=\"#000000\" fill-rule=\"evenodd\" fill-opacity=\"1\" stroke=\"none\"/>\n",
       "<circle clip-path=\"url(#clip722)\" cx=\"1713.1\" cy=\"1322.15\" r=\"14.4\" fill=\"#000000\" fill-rule=\"evenodd\" fill-opacity=\"1\" stroke=\"none\"/>\n",
       "<circle clip-path=\"url(#clip722)\" cx=\"1754.44\" cy=\"1318.89\" r=\"14.4\" fill=\"#000000\" fill-rule=\"evenodd\" fill-opacity=\"1\" stroke=\"none\"/>\n",
       "<circle clip-path=\"url(#clip722)\" cx=\"1795.79\" cy=\"1347.48\" r=\"14.4\" fill=\"#000000\" fill-rule=\"evenodd\" fill-opacity=\"1\" stroke=\"none\"/>\n",
       "<circle clip-path=\"url(#clip722)\" cx=\"1837.14\" cy=\"1331.54\" r=\"14.4\" fill=\"#000000\" fill-rule=\"evenodd\" fill-opacity=\"1\" stroke=\"none\"/>\n",
       "<circle clip-path=\"url(#clip722)\" cx=\"1878.49\" cy=\"1329.83\" r=\"14.4\" fill=\"#000000\" fill-rule=\"evenodd\" fill-opacity=\"1\" stroke=\"none\"/>\n",
       "<circle clip-path=\"url(#clip722)\" cx=\"1919.84\" cy=\"1328.4\" r=\"14.4\" fill=\"#000000\" fill-rule=\"evenodd\" fill-opacity=\"1\" stroke=\"none\"/>\n",
       "<circle clip-path=\"url(#clip722)\" cx=\"1961.19\" cy=\"1316.71\" r=\"14.4\" fill=\"#000000\" fill-rule=\"evenodd\" fill-opacity=\"1\" stroke=\"none\"/>\n",
       "<circle clip-path=\"url(#clip722)\" cx=\"2002.54\" cy=\"1327.21\" r=\"14.4\" fill=\"#000000\" fill-rule=\"evenodd\" fill-opacity=\"1\" stroke=\"none\"/>\n",
       "<circle clip-path=\"url(#clip722)\" cx=\"2043.88\" cy=\"1328.93\" r=\"14.4\" fill=\"#000000\" fill-rule=\"evenodd\" fill-opacity=\"1\" stroke=\"none\"/>\n",
       "<circle clip-path=\"url(#clip722)\" cx=\"2085.23\" cy=\"1340.73\" r=\"14.4\" fill=\"#000000\" fill-rule=\"evenodd\" fill-opacity=\"1\" stroke=\"none\"/>\n",
       "<circle clip-path=\"url(#clip722)\" cx=\"2126.58\" cy=\"1325.26\" r=\"14.4\" fill=\"#000000\" fill-rule=\"evenodd\" fill-opacity=\"1\" stroke=\"none\"/>\n",
       "<circle clip-path=\"url(#clip722)\" cx=\"2167.93\" cy=\"1316.36\" r=\"14.4\" fill=\"#000000\" fill-rule=\"evenodd\" fill-opacity=\"1\" stroke=\"none\"/>\n",
       "<circle clip-path=\"url(#clip722)\" cx=\"2209.28\" cy=\"1331.75\" r=\"14.4\" fill=\"#000000\" fill-rule=\"evenodd\" fill-opacity=\"1\" stroke=\"none\"/>\n",
       "<circle clip-path=\"url(#clip722)\" cx=\"2250.63\" cy=\"1331.19\" r=\"14.4\" fill=\"#000000\" fill-rule=\"evenodd\" fill-opacity=\"1\" stroke=\"none\"/>\n",
       "<circle clip-path=\"url(#clip722)\" cx=\"2291.97\" cy=\"1302.78\" r=\"14.4\" fill=\"#000000\" fill-rule=\"evenodd\" fill-opacity=\"1\" stroke=\"none\"/>\n",
       "<polyline clip-path=\"url(#clip722)\" style=\"stroke:#000000; stroke-linecap:round; stroke-linejoin:round; stroke-width:4; stroke-opacity:1; fill:none\" stroke-dasharray=\"16, 8, 2, 8\" points=\"265.903,1346.29 307.251,1332.56 348.6,1343.58 389.948,1335.99 431.297,1315.2 472.645,1304.06 513.993,1293.1 555.342,1272.89 596.69,1264.19 638.039,1224.44 679.387,1274.6 720.735,1275.33 762.084,1223.24 803.432,1208.3 844.78,1108.84 886.129,1044.68 927.477,1131.78 968.826,1078.85 1010.17,1069.84 1051.52,1038.92 1092.87,986.869 1134.22,751.396 1175.57,915.997 1216.92,771.317 1258.26,833.726 1299.61,958.253 1340.96,807.872 1382.31,749.215 1423.66,859.492 1465.01,568.56 1506.35,676.802 1547.7,483.148 1589.05,591.477 1630.4,529.126 1671.75,589.034 1713.1,784.374 1754.44,579.437 1795.79,612.764 1837.14,814.27 1878.49,775.039 1919.84,446.883 1961.19,716.643 2002.54,694.949 2043.88,86.1857 2085.23,381.886 2126.58,548.581 2167.93,334.571 2209.28,658.19 2250.63,425.974 2291.97,437.17 \"/>\n",
       "<path clip-path=\"url(#clip722)\" d=\"M253.903 1334.29 L253.903 1358.29 L277.903 1358.29 L277.903 1334.29 L253.903 1334.29 Z\" fill=\"#000000\" fill-rule=\"evenodd\" fill-opacity=\"1\" stroke=\"none\"/>\n",
       "<path clip-path=\"url(#clip722)\" d=\"M295.251 1320.56 L295.251 1344.56 L319.251 1344.56 L319.251 1320.56 L295.251 1320.56 Z\" fill=\"#000000\" fill-rule=\"evenodd\" fill-opacity=\"1\" stroke=\"none\"/>\n",
       "<path clip-path=\"url(#clip722)\" d=\"M336.6 1331.58 L336.6 1355.58 L360.6 1355.58 L360.6 1331.58 L336.6 1331.58 Z\" fill=\"#000000\" fill-rule=\"evenodd\" fill-opacity=\"1\" stroke=\"none\"/>\n",
       "<path clip-path=\"url(#clip722)\" d=\"M377.948 1323.99 L377.948 1347.99 L401.948 1347.99 L401.948 1323.99 L377.948 1323.99 Z\" fill=\"#000000\" fill-rule=\"evenodd\" fill-opacity=\"1\" stroke=\"none\"/>\n",
       "<path clip-path=\"url(#clip722)\" d=\"M419.297 1303.2 L419.297 1327.2 L443.297 1327.2 L443.297 1303.2 L419.297 1303.2 Z\" fill=\"#000000\" fill-rule=\"evenodd\" fill-opacity=\"1\" stroke=\"none\"/>\n",
       "<path clip-path=\"url(#clip722)\" d=\"M460.645 1292.06 L460.645 1316.06 L484.645 1316.06 L484.645 1292.06 L460.645 1292.06 Z\" fill=\"#000000\" fill-rule=\"evenodd\" fill-opacity=\"1\" stroke=\"none\"/>\n",
       "<path clip-path=\"url(#clip722)\" d=\"M501.993 1281.1 L501.993 1305.1 L525.993 1305.1 L525.993 1281.1 L501.993 1281.1 Z\" fill=\"#000000\" fill-rule=\"evenodd\" fill-opacity=\"1\" stroke=\"none\"/>\n",
       "<path clip-path=\"url(#clip722)\" d=\"M543.342 1260.89 L543.342 1284.89 L567.342 1284.89 L567.342 1260.89 L543.342 1260.89 Z\" fill=\"#000000\" fill-rule=\"evenodd\" fill-opacity=\"1\" stroke=\"none\"/>\n",
       "<path clip-path=\"url(#clip722)\" d=\"M584.69 1252.19 L584.69 1276.19 L608.69 1276.19 L608.69 1252.19 L584.69 1252.19 Z\" fill=\"#000000\" fill-rule=\"evenodd\" fill-opacity=\"1\" stroke=\"none\"/>\n",
       "<path clip-path=\"url(#clip722)\" d=\"M626.039 1212.44 L626.039 1236.44 L650.039 1236.44 L650.039 1212.44 L626.039 1212.44 Z\" fill=\"#000000\" fill-rule=\"evenodd\" fill-opacity=\"1\" stroke=\"none\"/>\n",
       "<path clip-path=\"url(#clip722)\" d=\"M667.387 1262.6 L667.387 1286.6 L691.387 1286.6 L691.387 1262.6 L667.387 1262.6 Z\" fill=\"#000000\" fill-rule=\"evenodd\" fill-opacity=\"1\" stroke=\"none\"/>\n",
       "<path clip-path=\"url(#clip722)\" d=\"M708.735 1263.33 L708.735 1287.33 L732.735 1287.33 L732.735 1263.33 L708.735 1263.33 Z\" fill=\"#000000\" fill-rule=\"evenodd\" fill-opacity=\"1\" stroke=\"none\"/>\n",
       "<path clip-path=\"url(#clip722)\" d=\"M750.084 1211.24 L750.084 1235.24 L774.084 1235.24 L774.084 1211.24 L750.084 1211.24 Z\" fill=\"#000000\" fill-rule=\"evenodd\" fill-opacity=\"1\" stroke=\"none\"/>\n",
       "<path clip-path=\"url(#clip722)\" d=\"M791.432 1196.3 L791.432 1220.3 L815.432 1220.3 L815.432 1196.3 L791.432 1196.3 Z\" fill=\"#000000\" fill-rule=\"evenodd\" fill-opacity=\"1\" stroke=\"none\"/>\n",
       "<path clip-path=\"url(#clip722)\" d=\"M832.78 1096.84 L832.78 1120.84 L856.78 1120.84 L856.78 1096.84 L832.78 1096.84 Z\" fill=\"#000000\" fill-rule=\"evenodd\" fill-opacity=\"1\" stroke=\"none\"/>\n",
       "<path clip-path=\"url(#clip722)\" d=\"M874.129 1032.68 L874.129 1056.68 L898.129 1056.68 L898.129 1032.68 L874.129 1032.68 Z\" fill=\"#000000\" fill-rule=\"evenodd\" fill-opacity=\"1\" stroke=\"none\"/>\n",
       "<path clip-path=\"url(#clip722)\" d=\"M915.477 1119.78 L915.477 1143.78 L939.477 1143.78 L939.477 1119.78 L915.477 1119.78 Z\" fill=\"#000000\" fill-rule=\"evenodd\" fill-opacity=\"1\" stroke=\"none\"/>\n",
       "<path clip-path=\"url(#clip722)\" d=\"M956.826 1066.85 L956.826 1090.85 L980.826 1090.85 L980.826 1066.85 L956.826 1066.85 Z\" fill=\"#000000\" fill-rule=\"evenodd\" fill-opacity=\"1\" stroke=\"none\"/>\n",
       "<path clip-path=\"url(#clip722)\" d=\"M998.174 1057.84 L998.174 1081.84 L1022.17 1081.84 L1022.17 1057.84 L998.174 1057.84 Z\" fill=\"#000000\" fill-rule=\"evenodd\" fill-opacity=\"1\" stroke=\"none\"/>\n",
       "<path clip-path=\"url(#clip722)\" d=\"M1039.52 1026.92 L1039.52 1050.92 L1063.52 1050.92 L1063.52 1026.92 L1039.52 1026.92 Z\" fill=\"#000000\" fill-rule=\"evenodd\" fill-opacity=\"1\" stroke=\"none\"/>\n",
       "<path clip-path=\"url(#clip722)\" d=\"M1080.87 974.869 L1080.87 998.869 L1104.87 998.869 L1104.87 974.869 L1080.87 974.869 Z\" fill=\"#000000\" fill-rule=\"evenodd\" fill-opacity=\"1\" stroke=\"none\"/>\n",
       "<path clip-path=\"url(#clip722)\" d=\"M1122.22 739.396 L1122.22 763.396 L1146.22 763.396 L1146.22 739.396 L1122.22 739.396 Z\" fill=\"#000000\" fill-rule=\"evenodd\" fill-opacity=\"1\" stroke=\"none\"/>\n",
       "<path clip-path=\"url(#clip722)\" d=\"M1163.57 903.997 L1163.57 927.997 L1187.57 927.997 L1187.57 903.997 L1163.57 903.997 Z\" fill=\"#000000\" fill-rule=\"evenodd\" fill-opacity=\"1\" stroke=\"none\"/>\n",
       "<path clip-path=\"url(#clip722)\" d=\"M1204.92 759.317 L1204.92 783.317 L1228.92 783.317 L1228.92 759.317 L1204.92 759.317 Z\" fill=\"#000000\" fill-rule=\"evenodd\" fill-opacity=\"1\" stroke=\"none\"/>\n",
       "<path clip-path=\"url(#clip722)\" d=\"M1246.26 821.726 L1246.26 845.726 L1270.26 845.726 L1270.26 821.726 L1246.26 821.726 Z\" fill=\"#000000\" fill-rule=\"evenodd\" fill-opacity=\"1\" stroke=\"none\"/>\n",
       "<path clip-path=\"url(#clip722)\" d=\"M1287.61 946.253 L1287.61 970.253 L1311.61 970.253 L1311.61 946.253 L1287.61 946.253 Z\" fill=\"#000000\" fill-rule=\"evenodd\" fill-opacity=\"1\" stroke=\"none\"/>\n",
       "<path clip-path=\"url(#clip722)\" d=\"M1328.96 795.872 L1328.96 819.872 L1352.96 819.872 L1352.96 795.872 L1328.96 795.872 Z\" fill=\"#000000\" fill-rule=\"evenodd\" fill-opacity=\"1\" stroke=\"none\"/>\n",
       "<path clip-path=\"url(#clip722)\" d=\"M1370.31 737.215 L1370.31 761.215 L1394.31 761.215 L1394.31 737.215 L1370.31 737.215 Z\" fill=\"#000000\" fill-rule=\"evenodd\" fill-opacity=\"1\" stroke=\"none\"/>\n",
       "<path clip-path=\"url(#clip722)\" d=\"M1411.66 847.492 L1411.66 871.492 L1435.66 871.492 L1435.66 847.492 L1411.66 847.492 Z\" fill=\"#000000\" fill-rule=\"evenodd\" fill-opacity=\"1\" stroke=\"none\"/>\n",
       "<path clip-path=\"url(#clip722)\" d=\"M1453.01 556.56 L1453.01 580.56 L1477.01 580.56 L1477.01 556.56 L1453.01 556.56 Z\" fill=\"#000000\" fill-rule=\"evenodd\" fill-opacity=\"1\" stroke=\"none\"/>\n",
       "<path clip-path=\"url(#clip722)\" d=\"M1494.35 664.802 L1494.35 688.802 L1518.35 688.802 L1518.35 664.802 L1494.35 664.802 Z\" fill=\"#000000\" fill-rule=\"evenodd\" fill-opacity=\"1\" stroke=\"none\"/>\n",
       "<path clip-path=\"url(#clip722)\" d=\"M1535.7 471.148 L1535.7 495.148 L1559.7 495.148 L1559.7 471.148 L1535.7 471.148 Z\" fill=\"#000000\" fill-rule=\"evenodd\" fill-opacity=\"1\" stroke=\"none\"/>\n",
       "<path clip-path=\"url(#clip722)\" d=\"M1577.05 579.477 L1577.05 603.477 L1601.05 603.477 L1601.05 579.477 L1577.05 579.477 Z\" fill=\"#000000\" fill-rule=\"evenodd\" fill-opacity=\"1\" stroke=\"none\"/>\n",
       "<path clip-path=\"url(#clip722)\" d=\"M1618.4 517.126 L1618.4 541.126 L1642.4 541.126 L1642.4 517.126 L1618.4 517.126 Z\" fill=\"#000000\" fill-rule=\"evenodd\" fill-opacity=\"1\" stroke=\"none\"/>\n",
       "<path clip-path=\"url(#clip722)\" d=\"M1659.75 577.034 L1659.75 601.034 L1683.75 601.034 L1683.75 577.034 L1659.75 577.034 Z\" fill=\"#000000\" fill-rule=\"evenodd\" fill-opacity=\"1\" stroke=\"none\"/>\n",
       "<path clip-path=\"url(#clip722)\" d=\"M1701.1 772.374 L1701.1 796.374 L1725.1 796.374 L1725.1 772.374 L1701.1 772.374 Z\" fill=\"#000000\" fill-rule=\"evenodd\" fill-opacity=\"1\" stroke=\"none\"/>\n",
       "<path clip-path=\"url(#clip722)\" d=\"M1742.44 567.437 L1742.44 591.437 L1766.44 591.437 L1766.44 567.437 L1742.44 567.437 Z\" fill=\"#000000\" fill-rule=\"evenodd\" fill-opacity=\"1\" stroke=\"none\"/>\n",
       "<path clip-path=\"url(#clip722)\" d=\"M1783.79 600.764 L1783.79 624.764 L1807.79 624.764 L1807.79 600.764 L1783.79 600.764 Z\" fill=\"#000000\" fill-rule=\"evenodd\" fill-opacity=\"1\" stroke=\"none\"/>\n",
       "<path clip-path=\"url(#clip722)\" d=\"M1825.14 802.27 L1825.14 826.27 L1849.14 826.27 L1849.14 802.27 L1825.14 802.27 Z\" fill=\"#000000\" fill-rule=\"evenodd\" fill-opacity=\"1\" stroke=\"none\"/>\n",
       "<path clip-path=\"url(#clip722)\" d=\"M1866.49 763.039 L1866.49 787.039 L1890.49 787.039 L1890.49 763.039 L1866.49 763.039 Z\" fill=\"#000000\" fill-rule=\"evenodd\" fill-opacity=\"1\" stroke=\"none\"/>\n",
       "<path clip-path=\"url(#clip722)\" d=\"M1907.84 434.883 L1907.84 458.883 L1931.84 458.883 L1931.84 434.883 L1907.84 434.883 Z\" fill=\"#000000\" fill-rule=\"evenodd\" fill-opacity=\"1\" stroke=\"none\"/>\n",
       "<path clip-path=\"url(#clip722)\" d=\"M1949.19 704.643 L1949.19 728.643 L1973.19 728.643 L1973.19 704.643 L1949.19 704.643 Z\" fill=\"#000000\" fill-rule=\"evenodd\" fill-opacity=\"1\" stroke=\"none\"/>\n",
       "<path clip-path=\"url(#clip722)\" d=\"M1990.54 682.949 L1990.54 706.949 L2014.54 706.949 L2014.54 682.949 L1990.54 682.949 Z\" fill=\"#000000\" fill-rule=\"evenodd\" fill-opacity=\"1\" stroke=\"none\"/>\n",
       "<path clip-path=\"url(#clip722)\" d=\"M2031.88 74.1857 L2031.88 98.1857 L2055.88 98.1857 L2055.88 74.1857 L2031.88 74.1857 Z\" fill=\"#000000\" fill-rule=\"evenodd\" fill-opacity=\"1\" stroke=\"none\"/>\n",
       "<path clip-path=\"url(#clip722)\" d=\"M2073.23 369.886 L2073.23 393.886 L2097.23 393.886 L2097.23 369.886 L2073.23 369.886 Z\" fill=\"#000000\" fill-rule=\"evenodd\" fill-opacity=\"1\" stroke=\"none\"/>\n",
       "<path clip-path=\"url(#clip722)\" d=\"M2114.58 536.581 L2114.58 560.581 L2138.58 560.581 L2138.58 536.581 L2114.58 536.581 Z\" fill=\"#000000\" fill-rule=\"evenodd\" fill-opacity=\"1\" stroke=\"none\"/>\n",
       "<path clip-path=\"url(#clip722)\" d=\"M2155.93 322.571 L2155.93 346.571 L2179.93 346.571 L2179.93 322.571 L2155.93 322.571 Z\" fill=\"#000000\" fill-rule=\"evenodd\" fill-opacity=\"1\" stroke=\"none\"/>\n",
       "<path clip-path=\"url(#clip722)\" d=\"M2197.28 646.19 L2197.28 670.19 L2221.28 670.19 L2221.28 646.19 L2197.28 646.19 Z\" fill=\"#000000\" fill-rule=\"evenodd\" fill-opacity=\"1\" stroke=\"none\"/>\n",
       "<path clip-path=\"url(#clip722)\" d=\"M2238.63 413.974 L2238.63 437.974 L2262.63 437.974 L2262.63 413.974 L2238.63 413.974 Z\" fill=\"#000000\" fill-rule=\"evenodd\" fill-opacity=\"1\" stroke=\"none\"/>\n",
       "<path clip-path=\"url(#clip722)\" d=\"M2279.97 425.17 L2279.97 449.17 L2303.97 449.17 L2303.97 425.17 L2279.97 425.17 Z\" fill=\"#000000\" fill-rule=\"evenodd\" fill-opacity=\"1\" stroke=\"none\"/>\n",
       "<path clip-path=\"url(#clip720)\" d=\"M276.709 248.629 L788.114 248.629 L788.114 93.1086 L276.709 93.1086  Z\" fill=\"#ffffff\" fill-rule=\"evenodd\" fill-opacity=\"1\"/>\n",
       "<polyline clip-path=\"url(#clip720)\" style=\"stroke:#000000; stroke-linecap:round; stroke-linejoin:round; stroke-width:4; stroke-opacity:1; fill:none\" points=\"276.709,248.629 788.114,248.629 788.114,93.1086 276.709,93.1086 276.709,248.629 \"/>\n",
       "<polyline clip-path=\"url(#clip720)\" style=\"stroke:#000000; stroke-linecap:round; stroke-linejoin:round; stroke-width:4; stroke-opacity:1; fill:none\" points=\"300.571,144.949 443.747,144.949 \"/>\n",
       "<circle clip-path=\"url(#clip720)\" cx=\"372.159\" cy=\"144.949\" r=\"19.8855\" fill=\"#000000\" fill-rule=\"evenodd\" fill-opacity=\"1\" stroke=\"none\"/>\n",
       "<path clip-path=\"url(#clip720)\" d=\"M487.957 141.28 Q489.554 138.409 491.776 137.044 Q493.998 135.678 497.008 135.678 Q501.059 135.678 503.258 138.525 Q505.457 141.349 505.457 146.581 L505.457 162.229 L501.174 162.229 L501.174 146.719 Q501.174 142.993 499.855 141.187 Q498.535 139.382 495.827 139.382 Q492.517 139.382 490.596 141.581 Q488.674 143.78 488.674 147.576 L488.674 162.229 L484.392 162.229 L484.392 146.719 Q484.392 142.969 483.073 141.187 Q481.753 139.382 478.999 139.382 Q475.735 139.382 473.813 141.604 Q471.892 143.803 471.892 147.576 L471.892 162.229 L467.61 162.229 L467.61 136.303 L471.892 136.303 L471.892 140.331 Q473.35 137.946 475.387 136.812 Q477.424 135.678 480.225 135.678 Q483.049 135.678 485.017 137.113 Q487.008 138.548 487.957 141.28 Z\" fill=\"#000000\" fill-rule=\"evenodd\" fill-opacity=\"1\" /><path clip-path=\"url(#clip720)\" d=\"M523.998 139.289 Q520.572 139.289 518.582 141.974 Q516.591 144.636 516.591 149.289 Q516.591 153.942 518.558 156.627 Q520.549 159.289 523.998 159.289 Q527.401 159.289 529.392 156.604 Q531.382 153.918 531.382 149.289 Q531.382 144.682 529.392 141.997 Q527.401 139.289 523.998 139.289 M523.998 135.678 Q529.554 135.678 532.725 139.289 Q535.896 142.9 535.896 149.289 Q535.896 155.655 532.725 159.289 Q529.554 162.9 523.998 162.9 Q518.42 162.9 515.248 159.289 Q512.1 155.655 512.1 149.289 Q512.1 142.9 515.248 139.289 Q518.42 135.678 523.998 135.678 Z\" fill=\"#000000\" fill-rule=\"evenodd\" fill-opacity=\"1\" /><path clip-path=\"url(#clip720)\" d=\"M564.507 146.581 L564.507 162.229 L560.248 162.229 L560.248 146.719 Q560.248 143.039 558.813 141.21 Q557.378 139.382 554.507 139.382 Q551.058 139.382 549.068 141.581 Q547.077 143.78 547.077 147.576 L547.077 162.229 L542.794 162.229 L542.794 136.303 L547.077 136.303 L547.077 140.331 Q548.605 137.993 550.665 136.835 Q552.748 135.678 555.456 135.678 Q559.924 135.678 562.216 138.456 Q564.507 141.21 564.507 146.581 Z\" fill=\"#000000\" fill-rule=\"evenodd\" fill-opacity=\"1\" /><path clip-path=\"url(#clip720)\" d=\"M583.049 139.289 Q579.623 139.289 577.632 141.974 Q575.642 144.636 575.642 149.289 Q575.642 153.942 577.609 156.627 Q579.6 159.289 583.049 159.289 Q586.452 159.289 588.442 156.604 Q590.433 153.918 590.433 149.289 Q590.433 144.682 588.442 141.997 Q586.452 139.289 583.049 139.289 M583.049 135.678 Q588.604 135.678 591.776 139.289 Q594.947 142.9 594.947 149.289 Q594.947 155.655 591.776 159.289 Q588.604 162.9 583.049 162.9 Q577.47 162.9 574.299 159.289 Q571.151 155.655 571.151 149.289 Q571.151 142.9 574.299 139.289 Q577.47 135.678 583.049 135.678 Z\" fill=\"#000000\" fill-rule=\"evenodd\" fill-opacity=\"1\" /><path clip-path=\"url(#clip720)\" d=\"M602.007 126.21 L606.266 126.21 L606.266 162.229 L602.007 162.229 L602.007 126.21 Z\" fill=\"#000000\" fill-rule=\"evenodd\" fill-opacity=\"1\" /><path clip-path=\"url(#clip720)\" d=\"M615.178 136.303 L619.438 136.303 L619.438 162.229 L615.178 162.229 L615.178 136.303 M615.178 126.21 L619.438 126.21 L619.438 131.604 L615.178 131.604 L615.178 126.21 Z\" fill=\"#000000\" fill-rule=\"evenodd\" fill-opacity=\"1\" /><path clip-path=\"url(#clip720)\" d=\"M632.563 128.942 L632.563 136.303 L641.336 136.303 L641.336 139.613 L632.563 139.613 L632.563 153.687 Q632.563 156.858 633.419 157.761 Q634.299 158.664 636.961 158.664 L641.336 158.664 L641.336 162.229 L636.961 162.229 Q632.03 162.229 630.155 160.4 Q628.28 158.548 628.28 153.687 L628.28 139.613 L625.155 139.613 L625.155 136.303 L628.28 136.303 L628.28 128.942 L632.563 128.942 Z\" fill=\"#000000\" fill-rule=\"evenodd\" fill-opacity=\"1\" /><path clip-path=\"url(#clip720)\" d=\"M668.488 146.581 L668.488 162.229 L664.229 162.229 L664.229 146.719 Q664.229 143.039 662.794 141.21 Q661.359 139.382 658.488 139.382 Q655.039 139.382 653.049 141.581 Q651.058 143.78 651.058 147.576 L651.058 162.229 L646.775 162.229 L646.775 126.21 L651.058 126.21 L651.058 140.331 Q652.586 137.993 654.646 136.835 Q656.729 135.678 659.437 135.678 Q663.905 135.678 666.197 138.456 Q668.488 141.21 668.488 146.581 Z\" fill=\"#000000\" fill-rule=\"evenodd\" fill-opacity=\"1\" /><path clip-path=\"url(#clip720)\" d=\"M676.984 136.303 L681.243 136.303 L681.243 162.229 L676.984 162.229 L676.984 136.303 M676.984 126.21 L681.243 126.21 L681.243 131.604 L676.984 131.604 L676.984 126.21 Z\" fill=\"#000000\" fill-rule=\"evenodd\" fill-opacity=\"1\" /><path clip-path=\"url(#clip720)\" d=\"M708.812 137.298 L708.812 141.28 Q707.007 140.284 705.178 139.798 Q703.372 139.289 701.52 139.289 Q697.377 139.289 695.085 141.928 Q692.794 144.544 692.794 149.289 Q692.794 154.034 695.085 156.673 Q697.377 159.289 701.52 159.289 Q703.372 159.289 705.178 158.803 Q707.007 158.293 708.812 157.298 L708.812 161.233 Q707.03 162.067 705.108 162.483 Q703.21 162.9 701.058 162.9 Q695.201 162.9 691.752 159.219 Q688.303 155.539 688.303 149.289 Q688.303 142.946 691.775 139.312 Q695.271 135.678 701.335 135.678 Q703.303 135.678 705.178 136.095 Q707.053 136.488 708.812 137.298 Z\" fill=\"#000000\" fill-rule=\"evenodd\" fill-opacity=\"1\" /><polyline clip-path=\"url(#clip720)\" style=\"stroke:#000000; stroke-linecap:round; stroke-linejoin:round; stroke-width:4; stroke-opacity:1; fill:none\" stroke-dasharray=\"16, 8, 2, 8\" points=\"300.571,196.789 443.747,196.789 \"/>\n",
       "<path clip-path=\"url(#clip720)\" d=\"M350.064 174.694 L350.064 218.884 L394.254 218.884 L394.254 174.694 L350.064 174.694 Z\" fill=\"#000000\" fill-rule=\"evenodd\" fill-opacity=\"1\" stroke=\"none\"/>\n",
       "<path clip-path=\"url(#clip720)\" d=\"M486.522 192.078 L486.522 178.05 L490.781 178.05 L490.781 214.069 L486.522 214.069 L486.522 210.18 Q485.179 212.495 483.119 213.629 Q481.082 214.74 478.211 214.74 Q473.512 214.74 470.549 210.99 Q467.61 207.24 467.61 201.129 Q467.61 195.018 470.549 191.268 Q473.512 187.518 478.211 187.518 Q481.082 187.518 483.119 188.652 Q485.179 189.763 486.522 192.078 M472.008 201.129 Q472.008 205.828 473.929 208.513 Q475.874 211.175 479.253 211.175 Q482.633 211.175 484.577 208.513 Q486.522 205.828 486.522 201.129 Q486.522 196.43 484.577 193.768 Q482.633 191.083 479.253 191.083 Q475.874 191.083 473.929 193.768 Q472.008 196.43 472.008 201.129 Z\" fill=\"#000000\" fill-rule=\"evenodd\" fill-opacity=\"1\" /><path clip-path=\"url(#clip720)\" d=\"M521.73 200.041 L521.73 202.124 L502.147 202.124 Q502.424 206.522 504.785 208.837 Q507.17 211.129 511.406 211.129 Q513.859 211.129 516.151 210.527 Q518.466 209.925 520.734 208.721 L520.734 212.749 Q518.443 213.721 516.035 214.231 Q513.628 214.74 511.151 214.74 Q504.947 214.74 501.313 211.129 Q497.702 207.518 497.702 201.36 Q497.702 194.995 501.128 191.268 Q504.577 187.518 510.41 187.518 Q515.642 187.518 518.674 190.897 Q521.73 194.254 521.73 200.041 M517.471 198.791 Q517.424 195.296 515.503 193.212 Q513.605 191.129 510.457 191.129 Q506.892 191.129 504.739 193.143 Q502.61 195.157 502.285 198.814 L517.471 198.791 Z\" fill=\"#000000\" fill-rule=\"evenodd\" fill-opacity=\"1\" /><path clip-path=\"url(#clip720)\" d=\"M547.378 189.138 L547.378 193.12 Q545.572 192.124 543.744 191.638 Q541.938 191.129 540.086 191.129 Q535.943 191.129 533.651 193.768 Q531.359 196.384 531.359 201.129 Q531.359 205.874 533.651 208.513 Q535.943 211.129 540.086 211.129 Q541.938 211.129 543.744 210.643 Q545.572 210.133 547.378 209.138 L547.378 213.073 Q545.595 213.907 543.674 214.323 Q541.776 214.74 539.623 214.74 Q533.767 214.74 530.318 211.059 Q526.869 207.379 526.869 201.129 Q526.869 194.786 530.341 191.152 Q533.836 187.518 539.901 187.518 Q541.869 187.518 543.744 187.935 Q545.619 188.328 547.378 189.138 Z\" fill=\"#000000\" fill-rule=\"evenodd\" fill-opacity=\"1\" /><path clip-path=\"url(#clip720)\" d=\"M564.831 191.129 Q561.405 191.129 559.415 193.814 Q557.424 196.476 557.424 201.129 Q557.424 205.782 559.392 208.467 Q561.382 211.129 564.831 211.129 Q568.234 211.129 570.225 208.444 Q572.216 205.758 572.216 201.129 Q572.216 196.522 570.225 193.837 Q568.234 191.129 564.831 191.129 M564.831 187.518 Q570.387 187.518 573.558 191.129 Q576.729 194.74 576.729 201.129 Q576.729 207.495 573.558 211.129 Q570.387 214.74 564.831 214.74 Q559.253 214.74 556.081 211.129 Q552.933 207.495 552.933 201.129 Q552.933 194.74 556.081 191.129 Q559.253 187.518 564.831 187.518 Z\" fill=\"#000000\" fill-rule=\"evenodd\" fill-opacity=\"1\" /><path clip-path=\"url(#clip720)\" d=\"M603.975 193.12 Q605.572 190.249 607.794 188.884 Q610.016 187.518 613.026 187.518 Q617.076 187.518 619.276 190.365 Q621.475 193.189 621.475 198.421 L621.475 214.069 L617.192 214.069 L617.192 198.559 Q617.192 194.833 615.873 193.027 Q614.553 191.222 611.845 191.222 Q608.535 191.222 606.614 193.421 Q604.692 195.62 604.692 199.416 L604.692 214.069 L600.41 214.069 L600.41 198.559 Q600.41 194.809 599.09 193.027 Q597.771 191.222 595.016 191.222 Q591.753 191.222 589.831 193.444 Q587.91 195.643 587.91 199.416 L587.91 214.069 L583.628 214.069 L583.628 188.143 L587.91 188.143 L587.91 192.171 Q589.368 189.786 591.405 188.652 Q593.442 187.518 596.243 187.518 Q599.067 187.518 601.035 188.953 Q603.026 190.388 603.975 193.12 Z\" fill=\"#000000\" fill-rule=\"evenodd\" fill-opacity=\"1\" /><path clip-path=\"url(#clip720)\" d=\"M634.09 210.18 L634.09 223.93 L629.808 223.93 L629.808 188.143 L634.09 188.143 L634.09 192.078 Q635.433 189.763 637.47 188.652 Q639.53 187.518 642.377 187.518 Q647.099 187.518 650.039 191.268 Q653.002 195.018 653.002 201.129 Q653.002 207.24 650.039 210.99 Q647.099 214.74 642.377 214.74 Q639.53 214.74 637.47 213.629 Q635.433 212.495 634.09 210.18 M648.581 201.129 Q648.581 196.43 646.637 193.768 Q644.715 191.083 641.336 191.083 Q637.956 191.083 636.012 193.768 Q634.09 196.43 634.09 201.129 Q634.09 205.828 636.012 208.513 Q637.956 211.175 641.336 211.175 Q644.715 211.175 646.637 208.513 Q648.581 205.828 648.581 201.129 Z\" fill=\"#000000\" fill-rule=\"evenodd\" fill-opacity=\"1\" /><path clip-path=\"url(#clip720)\" d=\"M670.109 191.129 Q666.683 191.129 664.692 193.814 Q662.701 196.476 662.701 201.129 Q662.701 205.782 664.669 208.467 Q666.66 211.129 670.109 211.129 Q673.511 211.129 675.502 208.444 Q677.493 205.758 677.493 201.129 Q677.493 196.522 675.502 193.837 Q673.511 191.129 670.109 191.129 M670.109 187.518 Q675.664 187.518 678.835 191.129 Q682.007 194.74 682.007 201.129 Q682.007 207.495 678.835 211.129 Q675.664 214.74 670.109 214.74 Q664.53 214.74 661.359 211.129 Q658.211 207.495 658.211 201.129 Q658.211 194.74 661.359 191.129 Q664.53 187.518 670.109 187.518 Z\" fill=\"#000000\" fill-rule=\"evenodd\" fill-opacity=\"1\" /><path clip-path=\"url(#clip720)\" d=\"M705.595 188.907 L705.595 192.934 Q703.789 192.009 701.845 191.546 Q699.9 191.083 697.817 191.083 Q694.646 191.083 693.048 192.055 Q691.474 193.027 691.474 194.971 Q691.474 196.453 692.608 197.309 Q693.743 198.143 697.169 198.907 L698.627 199.231 Q703.164 200.203 705.062 201.985 Q706.983 203.745 706.983 206.916 Q706.983 210.527 704.113 212.633 Q701.266 214.74 696.266 214.74 Q694.183 214.74 691.914 214.323 Q689.669 213.93 687.169 213.12 L687.169 208.721 Q689.53 209.948 691.821 210.573 Q694.113 211.175 696.358 211.175 Q699.368 211.175 700.988 210.157 Q702.608 209.115 702.608 207.24 Q702.608 205.504 701.428 204.578 Q700.27 203.652 696.312 202.796 L694.831 202.448 Q690.872 201.615 689.113 199.902 Q687.354 198.166 687.354 195.157 Q687.354 191.499 689.946 189.509 Q692.539 187.518 697.308 187.518 Q699.669 187.518 701.752 187.865 Q703.835 188.212 705.595 188.907 Z\" fill=\"#000000\" fill-rule=\"evenodd\" fill-opacity=\"1\" /><path clip-path=\"url(#clip720)\" d=\"M735.942 200.041 L735.942 202.124 L716.358 202.124 Q716.636 206.522 718.997 208.837 Q721.381 211.129 725.618 211.129 Q728.071 211.129 730.363 210.527 Q732.678 209.925 734.946 208.721 L734.946 212.749 Q732.655 213.721 730.247 214.231 Q727.84 214.74 725.363 214.74 Q719.159 214.74 715.525 211.129 Q711.914 207.518 711.914 201.36 Q711.914 194.995 715.34 191.268 Q718.789 187.518 724.622 187.518 Q729.854 187.518 732.886 190.897 Q735.942 194.254 735.942 200.041 M731.682 198.791 Q731.636 195.296 729.715 193.212 Q727.817 191.129 724.668 191.129 Q721.104 191.129 718.951 193.143 Q716.821 195.157 716.497 198.814 L731.682 198.791 Z\" fill=\"#000000\" fill-rule=\"evenodd\" fill-opacity=\"1\" /><path clip-path=\"url(#clip720)\" d=\"M759.992 192.078 L759.992 178.05 L764.252 178.05 L764.252 214.069 L759.992 214.069 L759.992 210.18 Q758.65 212.495 756.59 213.629 Q754.553 214.74 751.682 214.74 Q746.983 214.74 744.02 210.99 Q741.08 207.24 741.08 201.129 Q741.08 195.018 744.02 191.268 Q746.983 187.518 751.682 187.518 Q754.553 187.518 756.59 188.652 Q758.65 189.763 759.992 192.078 M745.479 201.129 Q745.479 205.828 747.4 208.513 Q749.344 211.175 752.724 211.175 Q756.104 211.175 758.048 208.513 Q759.992 205.828 759.992 201.129 Q759.992 196.43 758.048 193.768 Q756.104 191.083 752.724 191.083 Q749.344 191.083 747.4 193.768 Q745.479 196.43 745.479 201.129 Z\" fill=\"#000000\" fill-rule=\"evenodd\" fill-opacity=\"1\" /></svg>\n"
      ]
     },
     "metadata": {},
     "output_type": "display_data"
    }
   ],
   "source": [
    "# solution time\n",
    "p5 = plot(1:nReactMax,solTimeTraj_r[1,:],\n",
    "    xlabel=\"# reactors\",\n",
    "    ylabel=\"sol. time [s]\",\n",
    "    marker=:circle,\n",
    "    markercolor = :black,\n",
    "    linecolor = :black,\n",
    "    label=\"monolithic\")\n",
    "\n",
    "p5 = plot!(1:nReactMax,solTimeTraj_r[2,:],\n",
    "    marker=:square, \n",
    "    markercolor = :black,\n",
    "    linecolor = :black,\n",
    "    markersize = 3,\n",
    "    linestyle = :dashdot,\n",
    "    label=\"decomposed\",\n",
    "    gridlinewidth=2,\n",
    "    dpi=600)\n",
    "\n",
    "display(p5)\n",
    "#savefig(p5,\"C:/Users/MACC-Jose/Documents/Canada/Papers/Benders Decomposition/Figures/C2_SolTime.pdf\");"
   ]
  },
  {
   "cell_type": "code",
   "execution_count": null,
   "id": "8ae803c4",
   "metadata": {},
   "outputs": [],
   "source": [
    "# solution time\n",
    "p5b = plot(1:nReactMax,solTimeTraj_r[1,:],\n",
    "    xlabel=\"# reactors\",\n",
    "    ylabel=\"sol. time [s]\",\n",
    "    marker=:circle,\n",
    "    markercolor = :black,\n",
    "    linecolor = :black,\n",
    "    label=\"monolithic\")\n",
    "\n",
    "p5b = plot!(1:nReactMax,solTimeMaxTraj_r,\n",
    "    marker=:square, \n",
    "    markercolor = :black,\n",
    "    linecolor = :black,\n",
    "    markersize = 3,\n",
    "    linestyle = :dashdot,\n",
    "    label=\"decomposed\",\n",
    "    gridlinewidth=2,\n",
    "    dpi=600)\n",
    "\n",
    "display(p5b)\n",
    "#savefig(p5b,\"C:/Users/MACC-Jose/Documents/Canada/Papers/Benders Decomposition/Figures/C2_SolMaxTime.pdf\");"
   ]
  },
  {
   "cell_type": "code",
   "execution_count": null,
   "id": "9e1ad122",
   "metadata": {},
   "outputs": [],
   "source": [
    "# objective function (parallel)\n",
    "p5c = plot(1:nReactMax,100*(solObjTraj_r[2,:] - solObjTraj_r[1,:])./solObjTraj_r[1,:],\n",
    "    xlabel=\"# reactors\", \n",
    "    ylabel=\"objective function difference [%]\",\n",
    "    marker=:xcross, \n",
    "    markercolor = :black,\n",
    "    linecolor = :black,\n",
    "    label=\"\",\n",
    "    dpi=600)\n",
    "\n",
    "display(p5c)\n",
    "#savefig(p5c,\"C:/Users/MACC-Jose/Documents/Canada/Papers/Benders Decomposition/Figures/C2_OFComp.pdf\");"
   ]
  },
  {
   "cell_type": "code",
   "execution_count": null,
   "id": "731f9dd8",
   "metadata": {},
   "outputs": [],
   "source": [
    "p6 = plot(1:nReactMax,iterTraj_r,\n",
    "    xlabel=\"# reactors\", \n",
    "    ylabel=\"# iterations\",\n",
    "    marker=:square, \n",
    "    markersize=3,\n",
    "    linecolor = :black,\n",
    "    markercolor = :black,\n",
    "    linestyle = :dashdot,\n",
    "    label=\"\",\n",
    "    yticks=range(0,150,step=10),\n",
    "    gridlinewidth=2,\n",
    "    dpi=600)\n",
    "\n",
    "display(p6)\n",
    "#savefig(p6,\"C:/Users/MACC-Jose/Documents/Canada/Papers/Benders Decomposition/Figures/C2_BenIter.pdf\");"
   ]
  },
  {
   "cell_type": "code",
   "execution_count": null,
   "id": "3c8c1018",
   "metadata": {},
   "outputs": [],
   "source": [
    "p8 = plot(1:nReactMax,optGapTraj_r,\n",
    "    yscale=:log10,\n",
    "    xlabel=\"# reactors\", \n",
    "    ylabel=L\"T_{benders}\",\n",
    "    marker=:square, \n",
    "    markersize=3,\n",
    "    linecolor = :black,\n",
    "    markercolor = :black,\n",
    "    linestyle = :dashdot,\n",
    "    label=\"\",\n",
    "    gridlinewidth=2,\n",
    "    dpi=600)\n",
    "\n",
    "display(p8)\n",
    "#savefig(p8,\"C:/Users/MACC-Jose/Documents/Canada/Papers/Benders Decomposition/Figures/C2_BenOptGap.pdf\");"
   ]
  },
  {
   "cell_type": "markdown",
   "id": "41cb96ae",
   "metadata": {},
   "source": [
    "Creating table to show the results"
   ]
  },
  {
   "cell_type": "code",
   "execution_count": null,
   "id": "3ce63e67",
   "metadata": {},
   "outputs": [],
   "source": [
    "table_iter = Any[]\n",
    "table_solTime_M = Any[]\n",
    "table_solTime_D = Any[]\n",
    "table_of_M = Any[]\n",
    "table_of_D = Any[]\n",
    "table_perChange = Any[]\n",
    "\n",
    "for tt in [5 10 15 20 25 30 40 50] \n",
    "    push!(table_iter, tt)\n",
    "    push!(table_solTime_M, solTimeTraj_r[1,tt])\n",
    "    push!(table_solTime_D, solTimeTraj_r[2,tt])\n",
    "    push!(table_of_M, solObjTraj_r[1,tt])\n",
    "    push!(table_of_D, solObjTraj_r[2,tt])\n",
    "    push!(table_perChange, 100*(solObjTraj_r[2,tt] - solObjTraj_r[1,tt])/solObjTraj_r[1,tt])\n",
    "end\n",
    "\n",
    "df_reac = DataFrame(; iter = table_iter, \n",
    "                sol_time_M = table_solTime_M, \n",
    "                 sol_time_D = table_solTime_D,\n",
    "                 comp_of_M = table_of_M,\n",
    "                 comp_of_D = table_of_D,\n",
    "                 per_change = table_perChange);"
   ]
  },
  {
   "cell_type": "code",
   "execution_count": null,
   "id": "44fda462",
   "metadata": {},
   "outputs": [],
   "source": [
    "display(\"Analysis: # of Reactors\")\n",
    "display(df_reac)"
   ]
  }
 ],
 "metadata": {
  "kernelspec": {
   "display_name": "Julia 1.8.5",
   "language": "julia",
   "name": "julia-1.8"
  },
  "language_info": {
   "file_extension": ".jl",
   "mimetype": "application/julia",
   "name": "julia",
   "version": "1.8.5"
  }
 },
 "nbformat": 4,
 "nbformat_minor": 5
}
