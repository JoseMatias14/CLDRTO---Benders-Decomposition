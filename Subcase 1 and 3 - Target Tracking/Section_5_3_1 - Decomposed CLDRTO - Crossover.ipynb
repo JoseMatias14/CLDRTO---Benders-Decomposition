{
 "cells": [
  {
   "cell_type": "markdown",
   "id": "39bb43e3",
   "metadata": {},
   "source": [
    "- **This code computes the decomposed solution of a Closed-Loop DRTO problem.**\n",
    "- Using tracking objective function\n",
    "- The underlying control structure (modeled in the CLDRTO model) is an MPC, which can is solved using three different strategies: 1. unconstrained, 2. constrained using binaries, and 3. constrained using MPCC N.B.:strategy 2 not working\n",
    "- The problem is posed as a scenario-based stochastic programming problem\n",
    "- The case study is an affine multiple parallel bioreactor system from:*Gao, Ling. \"Modeling and dynamics analyses of immobilized CSTR bioreactor using transfer function model.\" 2012 International Symposium on Information Technologies in Medicine and Education. Vol. 2. IEEE, 2012.*\n",
    "- The uncertainty represented by the scenarios comes from the maximum specific growth rate (V_m) --> see matlab file\n",
    "- We study the impact of the increase in the number of reactors in the crossover point\n",
    "\n",
    "AUTHOR: Jose Matias <assumpcj@mcmaster.ca>\n",
    "DATE: May 2023"
   ]
  },
  {
   "cell_type": "code",
   "execution_count": 1,
   "id": "67ea638f",
   "metadata": {},
   "outputs": [],
   "source": [
    "using LinearAlgebra, JuMP, CPLEX, Ipopt, Plots, CSV, DataFrames, Distributions, LaTeXStrings"
   ]
  },
  {
   "cell_type": "markdown",
   "id": "b2933767",
   "metadata": {},
   "source": [
    "# Bioreactor Model\n",
    "\n",
    "$\\dfrac{d C}{d t} = D (C_{in} - C) - \\dfrac{V_m C}{(K_s + C)} $ <br>\n",
    "$ \\dfrac{d P}{d t} = \\dfrac{V_m C}{(K_s + C)} - DP $ <br>\n",
    "\n",
    "where, <br>\n",
    "$t$: time in hours \\[h\\] <br>\n",
    "$C$: concentration of reactant (substrate) \\[g/L\\] <br>\n",
    "$P$: concentration of product (biomass) \\[g/L\\] <br>\n",
    "$C_{in}$: inlet concentration of substrate \\[g/L\\] <br>\n",
    "$D$: ratio of flowrate to reactor volume \\[1/h\\] <br>\n",
    "$V_m$: maximum reaction rate \\[g/(h L)\\] <br> \n",
    "$K_s$: reaction constant \\[g/L\\] <br>\n",
    "\n",
    "- System measurement ($y$) - product concentration $P$ <br>\n",
    "- System inputs ($u$) - inlet reactant concentration $C_{in}$ <br>\n",
    "- Uncertain parameters ($\\theta$) - maximum reaction rate $V_m$"
   ]
  },
  {
   "cell_type": "code",
   "execution_count": 2,
   "id": "cb37bc36",
   "metadata": {},
   "outputs": [],
   "source": [
    "# Sampling time\n",
    "T = 1 #[h]\n",
    "\n",
    "# Number of manipulated inputs\n",
    "nu = 1\n",
    "# Number of controlled outputs\n",
    "ny = 1\n",
    "\n",
    "# setting bounds (all arbitrary - not in deviation form!!) \n",
    "uMax = 2.4 # for tight constraints: 1.9 | for loose constraints: 5.0\n",
    "uMin = 0.0;\n",
    "\n",
    "yspMax = 1.2 \n",
    "yspMin = 0.0;"
   ]
  },
  {
   "cell_type": "markdown",
   "id": "06d023cd",
   "metadata": {},
   "source": [
    "# Building affine CL-DRTO models\n",
    "\n",
    "## Model linearization\n",
    "- linearization is done using Matlab's functions ss and c2d (see BioReactorLinearization.m)\n",
    "- sample time $\\Delta t$ is consider as 1h\n",
    "- linearization around point: $V_m = 0.5$ \\[g/(h L)\\], $K_s = 0.2$ \\[g/L\\], $D = 0.5$ \\[1/h\\], $C_{in,0} = 1$ \\[g/L\\], $C_{0} = 0.358$ \\[g/L\\], and $P_{0} = 0.642$ \\[g/L\\]\n",
    "\n",
    "which leads to: <br>\n",
    "$\\bar{x}_{k+1} = A \\bar{x}_k + B \\bar{u}_k$ <br>\n",
    "$\\bar{y}_k = C \\bar{u}_k$\n",
    "\n",
    "where, <br>\n",
    "$\\bar{x} = \\begin{bmatrix}\n",
    "\\bar{C}\\\\\n",
    "\\bar{P}\n",
    "\\end{bmatrix} =\n",
    "\\begin{bmatrix}\n",
    "C - C_0\\\\\n",
    "P - P_0\n",
    "\\end{bmatrix}$<br>\n",
    "$\\bar{u} = \\bar{C}_{in} = C_{in} - C_{in,0}$<br>\n",
    "$\\bar{y} = \\bar{P} = P - P_0$"
   ]
  },
  {
   "cell_type": "code",
   "execution_count": 3,
   "id": "06719deb",
   "metadata": {},
   "outputs": [],
   "source": [
    "# Linearization point\n",
    "u0 = 1.5\n",
    "x0 = [0.7179;0.7821]\n",
    "y0 = 0.7821\n",
    "\n",
    "# 100 pre-computed models based on parametric uncertainty Vm (computed using matlab: BioReactorLinearization.m)\n",
    "bioModels = CSV.read(\"C:\\\\Users\\\\MACC-Jose\\\\Documents\\\\GitHub\\\\BD\\\\Preliminary calculations\\\\BioreactorModel\", DataFrame; header=false);"
   ]
  },
  {
   "cell_type": "markdown",
   "id": "8c5197b2",
   "metadata": {},
   "source": [
    "CL-DRTO configuration"
   ]
  },
  {
   "cell_type": "code",
   "execution_count": 4,
   "id": "ad40ad5c",
   "metadata": {},
   "outputs": [],
   "source": [
    "# DRTO sampling time\n",
    "nDRTO = 4 # [h]\n",
    "# Prediction horizon\n",
    "pD = 20 + (8 - 1)# p = 8 *controller horizon  \n",
    "# Input control horizon \n",
    "mD = 20\n",
    "# Objective function: target tracking (deviation form)\n",
    "pTrack = 1 - y0 # [g/L]\n",
    "# Soft upper bounds on P weight (deviation form)\n",
    "pUB = 1.05 - y0 # [g/L]\n",
    "# objective function weight for P penalization term \n",
    "wP = 100;"
   ]
  },
  {
   "cell_type": "markdown",
   "id": "27186ab9",
   "metadata": {},
   "source": [
    "DRTO model changes with the number of scenarios and parallel reactors"
   ]
  },
  {
   "cell_type": "code",
   "execution_count": 5,
   "id": "57ec4745",
   "metadata": {},
   "outputs": [],
   "source": [
    "function DRTO_matrices(nReactors,nScenarios)\n",
    "    # ATTENTION: Used for the monolithic solution. It generates an array of models\n",
    "    # Several different models were already computed offline and saved in the \"bioModel\" array\n",
    "    # This function extracts the models based on a fixed index grid that is generated based on the number of scenarios\n",
    "    \n",
    "    ###########\n",
    "    # inputs: #\n",
    "    ###########\n",
    "    # nReactors - number of reactors in parallel\n",
    "    # nScenarios - number of scenarios used in the stochastic optimization\n",
    "    \n",
    "    # picking up indexes equally spaced between 1 and 100 (including initial and end point) \n",
    "    # based on the desired number of scenarios\n",
    "    if nScenarios == 1\n",
    "        indexScen = 50 # nominal model --> index = 50\n",
    "    else\n",
    "        indexScen = [floor(Int, 1 + (ii - 1)*(100-1)/(nScenarios-1)) for ii in 1:nScenarios]\n",
    "    end\n",
    "    \n",
    "    # building DRTO model\n",
    "    A_drto = Array{Float64}(undef,nx,nx,nScenarios) \n",
    "    B_drto = Array{Float64}(undef,nx,nu,nScenarios) \n",
    "\n",
    "    for kk in 1:nScenarios\n",
    "\n",
    "        index_temp = indexScen[kk]\n",
    "\n",
    "        A_drto[:,:,kk] = kron(I(nReactors),Matrix(bioModels[2*(index_temp - 1) + 1:2*(index_temp - 1) + 2,1:2]))\n",
    "        B_drto[:,:,kk] = repeat(bioModels[2*(index_temp - 1) + 1:2*(index_temp - 1) + 2,3], outer = [nReactors, 1, 1])\n",
    "\n",
    "    end\n",
    "\n",
    "    # mapping states to measurements is the same for all models\n",
    "    C_drto = repeat([0 1/nReactors], outer = [1, nReactors])\n",
    "    \n",
    "    return Dict('A' => A_drto, 'B' => B_drto, 'C' => C_drto)\n",
    "end;"
   ]
  },
  {
   "cell_type": "code",
   "execution_count": 6,
   "id": "0968ca7b",
   "metadata": {},
   "outputs": [],
   "source": [
    "function DRTO_matrix(nReactors,nScenario,nScenTotal)\n",
    "    # ATTENTION: Used for the decomposed solution. It generates a single model\n",
    "    # Several different models were already computed offline and saved in the \"bioModel\" array\n",
    "    # This function extracts the model of interest based on the index \"nScenario\"\n",
    "  \n",
    "    ###########\n",
    "    # inputs: #\n",
    "    ###########\n",
    "    # nReactors - number of reactors in parallel\n",
    "    # nScenario - index the of scenario used in the stochastic optimization\n",
    "    # nScenTotal - total number of scenario used in the stochastic optimization\n",
    "    \n",
    "    if nScenTotal == 1\n",
    "        index_temp = 50 # nominal model --> index = 50\n",
    "    else\n",
    "        indexScen = [floor(Int, 1 + (ii - 1)*(100-1)/(nScenTotal-1)) for ii in 1:nScenTotal]\n",
    "        index_temp = indexScen[nScenario]\n",
    "    end\n",
    "  \n",
    "    # building DRTO model\n",
    "    A_drto = kron(I(nReactors),Matrix(bioModels[2*(index_temp - 1) + 1:2*(index_temp - 1) + 2,1:2]))\n",
    "    B_drto = repeat(bioModels[2*(index_temp - 1) + 1:2*(index_temp - 1) + 2,3], outer = [nReactors, 1, 1])\n",
    "\n",
    "    # mapping states to measurements is the same for all models\n",
    "    C_drto = repeat([0 1/nReactors], outer = [1, nReactors]);\n",
    "    \n",
    "    return Dict('A' => A_drto, 'B' => B_drto, 'C' => C_drto)\n",
    "end;"
   ]
  },
  {
   "cell_type": "markdown",
   "id": "66f4ef3c",
   "metadata": {},
   "source": [
    "# Building MPC model\n",
    "\n",
    "Controller configuration"
   ]
  },
  {
   "cell_type": "code",
   "execution_count": 7,
   "id": "54509748",
   "metadata": {},
   "outputs": [],
   "source": [
    "# MPC sampling time\n",
    "nMPC = 1 # [h]\n",
    "\n",
    "# Controller configuration\n",
    "# Output prediction horizon\n",
    "p = 8\n",
    "# Input control horizon \n",
    "m = 2\n",
    "# Output weights\n",
    "q = 1\n",
    "# Input weights \n",
    "r = 1;"
   ]
  },
  {
   "cell_type": "markdown",
   "id": "dbffeddf",
   "metadata": {},
   "source": [
    "Notes:\n",
    "- Using nominal model(indexScen = 50)\n",
    "- For the description of how the MPC matrices (with disturbance model) are built, check script: check *Different Strategies to solve constrained MPC within CLDRTO* --> Preliminary calculation"
   ]
  },
  {
   "cell_type": "code",
   "execution_count": 8,
   "id": "1f3177a8",
   "metadata": {},
   "outputs": [],
   "source": [
    "function MPC_matrices(nReactors)\n",
    "    ###########\n",
    "    # inputs: #\n",
    "    ###########\n",
    "    # nReactors - number of reactors in parallel\n",
    "    \n",
    "    # extracting the matrices from the model array computed previously\n",
    "    nNom = 50 # nominal model --> index = 50\n",
    "    \n",
    "    A = kron(I(nReactors),Matrix(bioModels[2*(nNom - 1) + 1:2*(nNom - 1) + 2,1:2])) \n",
    "    B = repeat(bioModels[2*(nNom - 1) + 1:2*(nNom - 1) + 2,3], outer = [nReactors, 1])\n",
    "    C = repeat([0 1/nReactors], outer = [1, nReactors])\n",
    "    \n",
    "    # adding disturbance model\n",
    "    Ad = [A zeros(nx,ny); zeros(ny,nx) I(ny)]\n",
    "    Bd = [B; zeros(ny,nu)]\n",
    "    Cd = [C ones(ny,ny)]\n",
    "    \n",
    "    # building matrices for MPC\n",
    "    Psi = Cd*Ad\n",
    "    for ii in 2:p\n",
    "        Psi = [Psi;  Cd*Ad^ii]\n",
    "    end\n",
    "\n",
    "    # Computing Dynamic Matrix\n",
    "    a = Cd*Bd\n",
    "    for ii in 2:p\n",
    "        a = [a; Cd*Ad^(ii - 1)*Bd]\n",
    "    end\n",
    "    DynM = a\n",
    "\n",
    "    for ii in 1:(m - 2)\n",
    "        a = [zeros(ny,nu);a[1:(p-1)*ny,:]]\n",
    "        DynM = [DynM  a]\n",
    "    end\n",
    "\n",
    "    # adjusting dynamic matrix for since p > m (last column)\n",
    "    b = Cd*Bd\n",
    "\n",
    "    Ai = I(nx+1) # adding disturbance to the states\n",
    "    for ii = 1:(p - m)\n",
    "        Ai = Ai + Ad^ii\n",
    "        b = [b;Cd*Ai*Bd]\n",
    "    end\n",
    "\n",
    "    Theta=[DynM [zeros(ny*(m-1),nu);b]]\n",
    "    \n",
    "    # Creating Qbar and Rbar matrices\n",
    "    Qbar = Diagonal([q for ii in 1:p])\n",
    "    Rbar = Diagonal([r for ii in 1:m])\n",
    "\n",
    "    # Creating input movement OF penalty matrix \n",
    "    M=[zeros((m-1)*nu,nu) I(nu*(m-1)); zeros(nu) zeros(nu,nu*(m-1))]\n",
    "    Ibar=[I(nu); zeros(nu*(m-1),nu)]\n",
    "    IM = I(nu*m) - M';\n",
    "    \n",
    "    # Matrix H\n",
    "    H = Theta'*Qbar*Theta + IM'*Rbar*IM;\n",
    "    \n",
    "    return Dict('A' => A, 'B' => B, 'C' => C, 'H' => H, 'Θ' => Theta, 'Ψ' => Psi, 'Q' => Qbar, 'I' => Ibar, 'R' => Rbar, 'M' => IM)\n",
    "end;"
   ]
  },
  {
   "cell_type": "markdown",
   "id": "ab17a7c4",
   "metadata": {},
   "source": [
    "# Solving CL-DRTO Multiscenario Problem (monolithic)\n",
    " - Check details in script *Testing Monolithic CLDRTO* --> Preliminary calculations/Linear Bioreactor\n",
    " - For the description of the different solution strategies, check *Different Strategies to solve constrained MPC within CLDRTO* --> Preliminary calculation"
   ]
  },
  {
   "cell_type": "code",
   "execution_count": 9,
   "id": "74dd560e",
   "metadata": {},
   "outputs": [],
   "source": [
    "# Parameters for MPC solution\n",
    "# matrix to compute the gradients of the input bound constraints\n",
    "conMatrix = [I(m); -I(m)]; \n",
    "\n",
    "# big-M implementation\n",
    "bigM_mu = 10000#1000\n",
    "bigM_u = 10000#100\n",
    "\n",
    "# weight complementarity relaxation OF term\n",
    "pi_bar = 10^2; # 10^2"
   ]
  },
  {
   "cell_type": "code",
   "execution_count": 10,
   "id": "e5486fc7",
   "metadata": {},
   "outputs": [],
   "source": [
    "function MS_CLDRTO(xInit,uInit,nReac,nScen,pScen,solNom,option)\n",
    "    ###########\n",
    "    # inputs: #\n",
    "    ###########\n",
    "    # xInit - states at the current iteration (beginning of DRTO horizon)\n",
    "    # uInit - inputs at the current iteration, already implemented on the plant\n",
    "    # nReac - number of parallel reactors\n",
    "    # nScen - number of scenarios used in the problem (only one branching)\n",
    "    # pScen - probability of the scenarios\n",
    "    # solNom - nominal solution\n",
    "    # option - strategy for solving MPC\n",
    "\n",
    "    # Creating MPC matrices\n",
    "    mpc = MPC_matrices(nReac)\n",
    "    \n",
    "    # Creating DRTO matrices\n",
    "    drto = DRTO_matrices(nReac,nScen)\n",
    "\n",
    "    # Define model\n",
    "    if option == 3 || option == 1\n",
    "        model_ms = Model(Ipopt.Optimizer)\n",
    "        set_optimizer_attribute(model_ms, \"max_cpu_time\", 300.0) # 5 min\n",
    "    else \n",
    "        model_ms = Model(CPLEX.Optimizer)\n",
    "        set_optimizer_attribute(model_ms, \"CPX_PARAM_TILIM\", 300.0) # 5 min\n",
    "    end\n",
    "    set_silent(model_ms)\n",
    "    \n",
    "    ####################\n",
    "    # Set up variables #\n",
    "    ####################\n",
    "    # DRTO model variables\n",
    "    @variable(model_ms, xDRTO[1:pD,1:nx,1:nScen])\n",
    "    @variable(model_ms, yDRTO[1:pD,1:nScen])\n",
    "    \n",
    "    # MPC model variables\n",
    "    @variable(model_ms, xMPC[1:pD,1:nx,1:nScen])\n",
    "    @variable(model_ms, yMPC[1:pD,1:nScen])\n",
    "    \n",
    "    # MPC <-> DRTO model deviation\n",
    "    @variable(model_ms, de[1:pD,1:nScen])\n",
    "    \n",
    "    # inputs computed by MPCs\n",
    "    @variable(model_ms, u[1:pD,1:m,1:nScen])\n",
    "     if option == 1\n",
    "        @variable(model_ms, u_w_c[1:pD,1:m,1:nScen]) # inputs w/o clipping\n",
    "    \n",
    "        # input clipping \n",
    "        @variable(model_ms, mu_lb[1:pD,1:m,1:nScen] ≥ 0)\n",
    "        @variable(model_ms, eta_lb[1:pD,1:m,1:nScen] ≥ 0)\n",
    "        @variable(model_ms, mu_ub[1:pD,1:m,1:nScen] ≥ 0)\n",
    "        @variable(model_ms, eta_ub[1:pD,1:m,1:nScen] ≥ 0)       \n",
    "    end\n",
    "    \n",
    "    # setpoints for the controllers sent to the plant (CL-DRTO degrees of freedom)\n",
    "    @variable(model_ms, (yspMin - y0) ≤ ysp[1:pD,1:nScen] ≤ (yspMax - y0))\n",
    "    \n",
    "    # slacks for P soft constraint\n",
    "    @variable(model_ms, delta_p[1:pD,1:nScen] ≥ 0)\n",
    "    \n",
    "    if option == 2 || option == 3\n",
    "        @variable(model_ms, mu_g[1:mD,1:(2*m),1:nScen] ≥ 0) # upper and lower bounds for each input\n",
    "    end\n",
    "    if option == 2\n",
    "        @variable(model_ms, Y_lb[1:mD,1:m,1:nScen], Bin, start = 0) # Binaries for big-M implementation\n",
    "        @variable(model_ms, Y_ub[1:mD,1:m,1:nScen], Bin, start = 0) \n",
    "    end\n",
    "    \n",
    "    ########################\n",
    "    # Set up initial guess #\n",
    "    ########################\n",
    "    if solNom isa Dict\n",
    "        for ss in 1:nScen\n",
    "            for ii in 1:pD\n",
    "                set_start_value(yDRTO[ii,ss], solNom['y'][ii,1]) \n",
    "                set_start_value(yMPC[ii,ss], solNom['c'][ii,1])\n",
    "                set_start_value(ysp[ii,ss], solNom['s'][ii,1])\n",
    "\n",
    "                for rr in 1:nReac # when nReac increases, the number of states change!\n",
    "                    for xx in 1:2 # N.B. nx/reactor is hardcoded here... (maybe use nx/reactor as a function input) \n",
    "                        set_start_value(xDRTO[ii,xx + (rr - 1)*2,ss], solNom['x'][ii,xx,1])    \n",
    "                        set_start_value(xMPC[ii,xx + (rr - 1)*2,ss], solNom['m'][ii,xx,1])           \n",
    "                    end # end xx\n",
    "                end # number \n",
    "                \n",
    "                for uu in 1:m\n",
    "                    set_start_value(u[ii,uu,ss], solNom['u'][ii,uu,1])\n",
    "                end # end of uu\n",
    "            end # eend of ii\n",
    "        end # end of ss\n",
    "    end # end of if\n",
    "    \n",
    "    ######################################\n",
    "    # Set up constraints and expressions #\n",
    "    ######################################\n",
    "    # Model Dynamic for Dynamic RTO\n",
    "    @constraint(model_ms, CLDRTO_dyn_model_1[ss=1:nScen], xDRTO[1,:,ss] .== drto['A'][:,:,ss]*xInit + drto['B'][:,:,ss]*uInit)\n",
    "    @constraint(model_ms, CLDRTO_dyn_model[kk=1:(pD - 1),ss=1:nScen], xDRTO[kk + 1,:,ss] .== drto['A'][:,:,ss]*xDRTO[kk,:,ss] + drto['B'][:,:,ss]*u[kk,1,ss])\n",
    "    @constraint(model_ms, CLDRTO_model_out[kk=1:pD,ss=1:nScen], yDRTO[kk,ss] == dot(drto['C'],xDRTO[kk,:,ss]))\n",
    "    \n",
    "    # fixing setpoint changes after mD\n",
    "    @constraint(model_ms, control_horizon[kk=(mD+1):pD,ss=1:nScen], u[kk,1,ss] .== u[mD,1,ss])\n",
    "    \n",
    "    # P soft constraints\n",
    "    @constraint(model_ms, soft_P[kk=1:pD,ss=1:nScen], yDRTO[kk,ss] - delta_p[kk,ss] ≤ pUB)\n",
    "    \n",
    "    # nonanticipativity constraints\n",
    "    @constraint(model_ms, nonAnt[kk=1:nDRTO,ss=2:nScen], ysp[kk,1] - ysp[kk,ss] == 0.0);\n",
    "    \n",
    "    ################\n",
    "    # MPC solution #\n",
    "    ################    \n",
    "    if option == 1\n",
    "        # Model Dynamic for Controller\n",
    "        @constraint(model_ms, MPC_dyn_model_1[ss=1:nScen], xMPC[1,:,ss] .== mpc['A']*xInit + mpc['B']*uInit)\n",
    "        @constraint(model_ms, MPC_dyn_model[kk=1:(pD - 1),ss=1:nScen], xMPC[kk + 1,:,ss] .== mpc['A']*xMPC[kk,:,ss] + mpc['B']*u_w_c[kk,1,ss])\n",
    "        @constraint(model_ms, MPC_model_out[kk=1:pD,ss=1:nScen], yMPC[kk,ss] == dot(mpc['C'],xMPC[kk,:,ss]))\n",
    "\n",
    "        #  Model deviation\n",
    "        @constraint(model_ms, MPC_model_dev[kk=1:pD,ss=1:nScen], de[kk,ss] == yDRTO[kk,ss] - yMPC[kk,ss])\n",
    "        \n",
    "        @expression(model_ms, cfT_1[ss=1:nScen], (mpc['Ψ']*[xMPC[1,:,ss];de[1,ss]] - ysp[1:p,ss])'*mpc['Q']*mpc['Θ'] - uInit'*mpc['I']'*mpc['R']*mpc['M'])\n",
    "        @expression(model_ms, cfT[kk=2:mD,ss=1:nScen], (mpc['Ψ']*[xMPC[kk,:,ss];de[kk,ss]] - ysp[kk:(kk + p - 1),ss])'*mpc['Q']*mpc['Θ'] - u_w_c[kk-1,1,ss]'*mpc['I']'*mpc['R']*mpc['M'])\n",
    "        \n",
    "        # Unconstrained MPC solution  \n",
    "        @constraint(model_ms, MPC_sol_1[ss=1:nScen], mpc['H']*u_w_c[1,:,ss] + cfT_1[ss]' .== 0)\n",
    "        @constraint(model_ms, MPC_sol[kk=2:mD,ss=1:nScen], mpc['H']*u_w_c[kk,:,ss] + cfT[kk,ss]' .== 0)\n",
    "        \n",
    "        # input clipping\n",
    "        @constraint(model_ms, ic_1[kk = 1:mD,uu = 1:m,ss = 1:nScen], u[kk,uu,ss] == u_w_c[kk,uu,ss] - mu_ub[kk,uu,ss] + mu_lb[kk,uu,ss])\n",
    "        @constraint(model_ms, ic_2[kk = 1:mD,uu = 1:m,ss = 1:nScen], (uMax - u0) - u[kk,uu,ss] == eta_ub[kk,uu,ss])\n",
    "        @constraint(model_ms, ic_3[kk = 1:mD,uu = 1:m,ss = 1:nScen], eta_ub[kk,uu,ss]*mu_ub[kk,uu,ss] ≤ 1e-6)\n",
    "        @constraint(model_ms, ic_4[kk = 1:mD,uu = 1:m,ss = 1:nScen], u[kk,uu,ss] - (uMin - u0) == eta_lb[kk,uu,ss])\n",
    "        @constraint(model_ms, ic_5[kk = 1:mD,uu = 1:m,ss = 1:nScen], eta_lb[kk,uu,ss]*mu_lb[kk,uu,ss] ≤ 1e-6)\n",
    "        \n",
    "    elseif option == 2\n",
    "        # Model Dynamic for Controller\n",
    "        @constraint(model_ms, MPC_dyn_model_1[ss=1:nScen], xMPC[1,:,ss] .== mpc['A']*xInit + mpc['B']*uInit)\n",
    "        @constraint(model_ms, MPC_dyn_model[kk=1:(pD - 1),ss=1:nScen], xMPC[kk + 1,:,ss] .== mpc['A']*xMPC[kk,:,ss] + mpc['B']*u[kk,1,ss])\n",
    "        @constraint(model_ms, MPC_model_out[kk=1:pD,ss=1:nScen], yMPC[kk,ss] == dot(mpc['C'],xMPC[kk,:,ss]))\n",
    "\n",
    "        #  Model deviation\n",
    "        @constraint(model_ms, MPC_model_dev[kk=1:pD,ss=1:nScen], de[kk,ss] == yDRTO[kk,ss] - yMPC[kk,ss])\n",
    "\n",
    "        # sequence of Setpoints\n",
    "        @expression(model_ms, cfT_1[ss=1:nScen], (mpc['Ψ']*[xMPC[1,:,ss];de[1,ss]] - ysp[1:p,ss])'*mpc['Q']*mpc['Θ'] - uInit'*mpc['I']'*mpc['R']*mpc['M'])\n",
    "        @expression(model_ms, cfT[kk=2:mD,ss=1:nScen], (mpc['Ψ']*[xMPC[kk,:,ss];de[kk,ss]] - ysp[kk:(kk + p - 1),ss])'*mpc['Q']*mpc['Θ'] - u[kk-1,1,ss]'*mpc['I']'*mpc['R']*mpc['M'])\n",
    "\n",
    "        # Constrained with binaries\n",
    "        # 1. stationarity\n",
    "        @constraint(model_ms, MPC_sol_1[ss=1:nScen], u[1,:,ss]'*mpc['H'] + cfT_1[ss] +  mu_g[1,:,ss]'*conMatrix .== 0)\n",
    "        @constraint(model_ms, MPC_sol[kk=2:mD,ss=1:nScen], u[kk,:,ss]'*mpc['H'] + cfT[kk,ss] + mu_g[kk,:,ss]'*conMatrix .== 0)\n",
    "\n",
    "        # 2. primal feasibility\n",
    "        @constraint(model_ms, g_u_u[kk=1:mD,uu=1:m,ss=1:nScen], u[kk,uu,ss] - (uMax - u0) ≤ 0)\n",
    "        @constraint(model_ms, g_u_l[kk=1:mD,uu=1:m,ss=1:nScen], (uMin - u0) - u[kk,uu,ss] ≤ 0)\n",
    "    \n",
    "        # 3. complementarity --> using big-M implementation\n",
    "        @constraint(model_ms, bigM_1[kk=1:mD,uu=1:m,ss=1:nScen], mu_g[kk,uu,ss] ≤ bigM_mu*Y_ub[kk,uu,ss])\n",
    "        @constraint(model_ms, bigM_2[kk=1:mD,uu=1:m,ss=1:nScen], mu_g[kk,uu + m,ss] ≤ bigM_mu*Y_lb[kk,uu,ss])\n",
    "        @constraint(model_ms, bigM_3[kk=1:mD,uu=1:m,ss=1:nScen], u[kk,uu,ss] - (uMax - u0) ≥ -bigM_u*(1 - Y_ub[kk,uu,ss]))\n",
    "        @constraint(model_ms, bigM_4[kk=1:mD,uu=1:m,ss=1:nScen], (uMin - u0) - u[kk,uu,ss] ≥ -bigM_u*(1 - Y_lb[kk,uu,ss]))\n",
    "        \n",
    "        @constraint(model_ms, compSlack[kk=1:mD,uu=1:m,ss=1:nScen], Y_ub[kk,uu,ss] + Y_lb[kk,uu,ss] ≤ 1)\n",
    "    \n",
    "    elseif option == 3\n",
    "        # Model Dynamic for Controller\n",
    "        @constraint(model_ms, MPC_dyn_model_1[ss=1:nScen], xMPC[1,:,ss] .== mpc['A']*xInit + mpc['B']*uInit)\n",
    "        @constraint(model_ms, MPC_dyn_model[kk=1:(pD - 1),ss=1:nScen], xMPC[kk + 1,:,ss] .== mpc['A']*xMPC[kk,:,ss] + mpc['B']*u[kk,1,ss])\n",
    "        @constraint(model_ms, MPC_model_out[kk=1:pD,ss=1:nScen], yMPC[kk,ss] == dot(mpc['C'],xMPC[kk,:,ss]))\n",
    "\n",
    "        #  Model deviation\n",
    "        @constraint(model_ms, MPC_model_dev[kk=1:pD,ss=1:nScen], de[kk,ss] == yDRTO[kk,ss] - yMPC[kk,ss])\n",
    "\n",
    "        # sequence of Setpoints\n",
    "        @expression(model_ms, cfT_1[ss=1:nScen], (mpc['Ψ']*[xMPC[1,:,ss];de[1,ss]] - ysp[1:p,ss])'*mpc['Q']*mpc['Θ'] - uInit'*mpc['I']'*mpc['R']*mpc['M'])\n",
    "        @expression(model_ms, cfT[kk=2:mD,ss=1:nScen], (mpc['Ψ']*[xMPC[kk,:,ss];de[kk,ss]] - ysp[kk:(kk + p - 1),ss])'*mpc['Q']*mpc['Θ'] - u[kk-1,1,ss]'*mpc['I']'*mpc['R']*mpc['M'])\n",
    "\n",
    "        # Constrained with MPCC\n",
    "        # 1. stationarity\n",
    "        @constraint(model_ms, MPC_sol_1[ss=1:nScen], u[1,:,ss]'*mpc['H'] + cfT_1[ss] +  mu_g[1,:,ss]'*conMatrix .== 0)\n",
    "        @constraint(model_ms, MPC_sol[kk=2:mD,ss=1:nScen], u[kk,:,ss]'*mpc['H'] + cfT[kk,ss] + mu_g[kk,:,ss]'*conMatrix .== 0)\n",
    "\n",
    "        # 2. primal feasibility\n",
    "        @constraint(model_ms, MPC_c_upper[kk=1:mD,uu=1:m,ss=1:nScen], u[kk,uu,ss] - (uMax - u0) ≤ 0)\n",
    "        @constraint(model_ms, MPC_c_lower[kk=1:mD,uu=1:m,ss=1:nScen], (uMin - u0) - u[kk,uu,ss] ≤ 0)\n",
    "        \n",
    "        # Expressions for OF\n",
    "        @expression(model_ms, g_u_u[kk=1:mD,uu=1:m,ss=1:nScen], u[kk,uu,ss] - (uMax - u0))\n",
    "        @expression(model_ms, g_u_l[kk=1:mD,uu=1:m,ss=1:nScen], (uMin - u0) - u[kk,uu,ss])\n",
    "        \n",
    "    end\n",
    "      \n",
    "    #############################\n",
    "    # Set up objective function #\n",
    "    #############################\n",
    "    if option == 1 || option == 2\n",
    "        @objective(model_ms, Min, \n",
    "            pScen*sum((yDRTO[kk,ss] - pTrack)^2 + wP*delta_p[kk,ss]^2 for kk in 1:pD, ss in 1:nScen)\n",
    "        )\n",
    "    else\n",
    "        @objective(model_ms, Min, pScen*sum((yDRTO[kk,ss] - pTrack)^2 + wP*delta_p[kk,ss]^2 for kk in 1:pD, ss in 1:nScen)\n",
    "                                - pScen*pi_bar*sum(\n",
    "                                                sum(mu_g[kk,jj,ss]*g_u_u[kk,jj,ss] for jj = 1:m) +\n",
    "                                                sum(mu_g[kk,jj + m,ss]*g_u_l[kk,jj,ss] for jj = 1:m)\n",
    "                                                for kk = 1:mD, ss in 1:nScen)\n",
    "        )\n",
    "    end\n",
    "    # @show model_ms\n",
    "\n",
    "    #################\n",
    "    # Solve Problem #\n",
    "    #################\n",
    "    #set_optimizer_attribute(model_ms, \"CPX_PARAM_BARALG\", 1)\n",
    "    optimize!(model_ms)\n",
    "    \n",
    "    status = termination_status(model_ms)\n",
    "    #display(status)\n",
    "    \n",
    "    if status == MOI.OPTIMAL || status == MOI.ALMOST_OPTIMAL || status == MOI.LOCALLY_SOLVED\n",
    "        # Proved optimality or Optimal within relaxed tolerances\n",
    "        # solution time\n",
    "        timeSol = solve_time(model_ms)\n",
    "\n",
    "        flag = 1\n",
    "        # #primal_status(m)\n",
    "\n",
    "        #calling values of the solved problem\n",
    "        ϕ = objective_value(model_ms)\n",
    "        uArray = value.(u)\n",
    "        yspArray = value.(ysp)\n",
    "        yDRTOArray = value.(yDRTO)\n",
    "        yMPCArray = value.(yMPC)\n",
    "        xDRTOArray = value.(xDRTO)\n",
    "        xMPCArray = value.(xMPC)\n",
    "\n",
    "        outputFun = Dict('ϕ' => ϕ,\n",
    "                        't' => timeSol,\n",
    "                        'f' => flag, \n",
    "                        'u' => uArray,\n",
    "                        's' => yspArray,\n",
    "                        'x' => xDRTOArray,\n",
    "                        'y' => yDRTOArray, \n",
    "                        'm' => xDRTOArray,\n",
    "                        'c' => yDRTOArray)\n",
    "        \n",
    "        if option == 2 || option == 3\n",
    "            muArray = value.(mu_g)\n",
    "            merge!(outputFun,Dict('μ'=> muArray))\n",
    "        end\n",
    "        \n",
    "        return outputFun\n",
    "    else\n",
    "        # Handle other cases.\n",
    "        outputFun = Dict('f' => 0,\n",
    "                         't' => NaN,\n",
    "                         'ϕ' => NaN)\n",
    "                        \n",
    "        \n",
    "        return outputFun\n",
    "    end\n",
    "end;"
   ]
  },
  {
   "cell_type": "markdown",
   "id": "e2a35860",
   "metadata": {},
   "source": [
    "# Decomposition of CLDRTO Problem"
   ]
  },
  {
   "attachments": {
    "image-2.png": {
     "image/png": "[encoded data removed]"
    }
   },
   "cell_type": "markdown",
   "id": "eccb0edd",
   "metadata": {},
   "source": [
    "<div>\n",
    "<img src=\"attachment:image-2.png\" width=\"900\"/>\n",
    "</div>"
   ]
  },
  {
   "cell_type": "markdown",
   "id": "b2f632eb",
   "metadata": {},
   "source": [
    "## Modeling Subproblem"
   ]
  },
  {
   "cell_type": "code",
   "execution_count": 11,
   "id": "1c652a26",
   "metadata": {},
   "outputs": [],
   "source": [
    "## Modeling the sub problem (scenario) -- modeling inside a function\n",
    "function subp(xInit,uInit,ysp_fixed,nReac,nScen,pScen,solNom,option)\n",
    "    ###########\n",
    "    # inputs: #\n",
    "    ###########\n",
    "    # xInit - states at the current iteration (beginning of DRTO horizon)\n",
    "    # uInit - inputs at the current iteration, already implemented on the plant\n",
    "    # ysp_fixed - setpoints fixed by the Master Problem --> nonanticipativity constraints\n",
    "    # nReac - number of parallel reactors\n",
    "    # nScen - number of scenarios used in the problem (only one branching)\n",
    "    # pScen - probability of the scenarios\n",
    "    # solNom - nominal solution\n",
    "    # option - strategy for solving MPC \n",
    "        # for now, code only works for option = 3\n",
    "\n",
    "    # Creating MPC matrices\n",
    "    mpc = MPC_matrices(nReac)\n",
    "    \n",
    "    # Creating DRTO matrices\n",
    "    \n",
    "    # recomputing the number of total scenarios based on scenario probability and the fact that the scenarios have the same probability\n",
    "    nScenTotal = ceil(Int,1/pScen)    \n",
    "    drto = DRTO_matrix(nReac,nScen,nScenTotal)\n",
    "    \n",
    "    # Define subproblem model  #== 3\n",
    "    if option == 3 || option == 1 \n",
    "        sub = Model(Ipopt.Optimizer)\n",
    "        set_optimizer_attribute(sub, \"max_cpu_time\", 300.0) # 5 min\n",
    "    else \n",
    "        sub = Model(CPLEX.Optimizer)\n",
    "        set_optimizer_attribute(sub, \"CPX_PARAM_TILIM\", 300.0) # 5 min\n",
    "    end\n",
    "    set_silent(sub) # avoid printing\n",
    "    \n",
    "    ####################\n",
    "    # Set up variables #\n",
    "    ####################\n",
    "    # DRTO model variables\n",
    "    @variable(sub, xDRTO[1:pD, 1:nx])\n",
    "    @variable(sub, yDRTO[1:pD])\n",
    "    \n",
    "    # MPC model variables\n",
    "    @variable(sub, xMPC[1:pD, 1:nx])\n",
    "    @variable(sub, yMPC[1:pD])\n",
    "\n",
    "    # MPC <-> DRTO model deviation\n",
    "    @variable(sub, de[1:pD])\n",
    "    \n",
    "    # inputs computed by MPCs\n",
    "    @variable(sub, u[1:pD,1:m])\n",
    "    if option == 1\n",
    "        @variable(sub, u_w_c[1:pD,1:m]) # inputs w/o clipping\n",
    "    \n",
    "        # input clipping \n",
    "        @variable(sub, mu_lb[1:pD,1:m] ≥ 0)\n",
    "        @variable(sub, eta_lb[1:pD,1:m] ≥ 0)\n",
    "        @variable(sub, mu_ub[1:pD,1:m] ≥ 0)\n",
    "        @variable(sub, eta_ub[1:pD,1:m] ≥ 0)       \n",
    "    end\n",
    "\n",
    "    # setpoints for the controllers sent to the plant (CL-DRTO degrees of freedom)\n",
    "    @variable(sub, (yspMin - y0) ≤ ysp[1:pD] ≤ (yspMax - y0))\n",
    "        \n",
    "    # slacks for controlling setpoint into a zone\n",
    "    @variable(sub, delta_p[1:pD] ≥ 0)\n",
    "    \n",
    "    if option == 2 || option == 3\n",
    "        @variable(sub, mu_g[1:mD,1:(2*m)] ≥ 0) # upper and lower bounds for each input\n",
    "    end\n",
    "    if option == 2\n",
    "        @variable(sub, Y_lb[1:mD,1:m], start = 0) # Relaxing binaries for big-M implementation\n",
    "        @variable(sub, Y_ub[1:mD,1:m], start = 0) \n",
    "    end\n",
    "    \n",
    "    ########################\n",
    "    # Set up initial guess #\n",
    "    ########################\n",
    "    if solNom isa Dict\n",
    "        for ii in 1:pD\n",
    "            set_start_value(yDRTO[ii], solNom['y'][ii,1]) \n",
    "            set_start_value(yMPC[ii], solNom['c'][ii,1])\n",
    "            #set_start_value(ysp[ii], solNom['s'][ii,1])\n",
    "\n",
    "            for rr in 1:nReac # when nReac increases, the number of states change!\n",
    "                for xx in 1:2 # N.B. nx/reactor is hardcoded here... (maybe use nx/reactor as a function input) \n",
    "                    set_start_value(xDRTO[ii,xx + (rr - 1)*2], solNom['x'][ii,xx,1])    \n",
    "                    set_start_value(xMPC[ii,xx + (rr - 1)*2], solNom['m'][ii,xx,1])           \n",
    "                end # end xx\n",
    "            end # number \n",
    "                \n",
    "            for uu in 1:m\n",
    "                set_start_value(u[ii,uu], solNom['u'][ii,uu,1])\n",
    "            end # end of uu\n",
    "        end # eend of ii\n",
    "    end # end of if\n",
    "\n",
    "    ######################################\n",
    "    # Set up constraints and expressions #\n",
    "    ######################################\n",
    "    # Dynamic RTO model (linear)\n",
    "    @constraint(sub, CLDRTO_dyn_model_1, xDRTO[1,:] .== drto['A']*xInit + drto['B']*uInit)\n",
    "    @constraint(sub, CLDRTO_dyn_model[kk=1:(pD - 1)], xDRTO[kk + 1,:] .== drto['A']*xDRTO[kk,:] + drto['B']*u[kk,1])\n",
    "    @constraint(sub, CLDRTO_model_out[kk=1:pD], yDRTO[kk] == dot(drto['C'],xDRTO[kk,:]))\n",
    "\n",
    "    # fixing input after mD\n",
    "    @constraint(sub, control_horizon[kk=(mD+1):pD], u[kk,1] == u[mD,1]);\n",
    "    \n",
    "    # P soft constraints\n",
    "    @constraint(sub, soft_P[kk=1:pD], yDRTO[kk] - delta_p[kk] ≤ pUB)\n",
    "    \n",
    "    # nonanticipativity constraints\n",
    "    @constraint(sub, nonAnt[kk=1:nDRTO], ysp[kk] - ysp_fixed[kk] == 0.0);\n",
    "    \n",
    "    ################\n",
    "    # MPC solution #\n",
    "    ################\n",
    "    ################\n",
    "    # MPC solution #\n",
    "    ################ \n",
    "    if option == 1\n",
    "        # MPC model (linear)\n",
    "        @constraint(sub, MPC_dyn_model_1, xMPC[1,:] .== mpc['A']*xInit + mpc['B']*uInit)\n",
    "        @constraint(sub, MPC_dyn_model[kk=1:(pD - 1)], xMPC[kk + 1,:] .== mpc['A']*xMPC[kk,:] + mpc['B']*u_w_c[kk,1])\n",
    "        @constraint(sub, MPC_model_out[kk=1:pD], yMPC[kk] == dot(mpc['C'],xMPC[kk,:]))\n",
    "\n",
    "        #  MPC model deviation (disturance)\n",
    "        @constraint(sub, MPC_model_dev[kk=1:pD], de[kk] == yDRTO[kk] - yMPC[kk])\n",
    "\n",
    "        # sequence of Setpoints\n",
    "        @expression(sub, cfT_1, (mpc['Ψ']*[xMPC[1,:];de[1]] - ysp[1:p])'*mpc['Q']*mpc['Θ'] - uInit'*mpc['I']'*mpc['R']*mpc['M'])\n",
    "        @expression(sub, cfT[kk=2:mD], (mpc['Ψ']*[xMPC[kk,:];de[kk]] - ysp[kk:(kk + p - 1)])'*mpc['Q']*mpc['Θ'] - u_w_c[kk-1,1]'*mpc['I']'*mpc['R']*mpc['M'])\n",
    "\n",
    "        # Unconstrained MPC solution  \n",
    "        @constraint(sub, MPC_sol_1, mpc['H']*u_w_c[1,:] + cfT_1' .== 0)\n",
    "        @constraint(sub, MPC_sol[kk=2:mD],mpc['H']*u_w_c[kk,:] + cfT[kk]' .== 0)\n",
    "\n",
    "        # input clipping\n",
    "        @constraint(sub, ic_1[kk = 1:mD,uu = 1:m], u[kk,uu] == u_w_c[kk,uu] - mu_ub[kk,uu] + mu_lb[kk,uu])\n",
    "        @constraint(sub, ic_2[kk = 1:mD,uu = 1:m], (uMax - u0) - u[kk,uu] == eta_ub[kk,uu])\n",
    "        @constraint(sub, ic_3[kk = 1:mD,uu = 1:m], eta_ub[kk,uu]*mu_ub[kk,uu] ≤ 1e-6)\n",
    "        @constraint(sub, ic_4[kk = 1:mD,uu = 1:m], u[kk,uu] - (uMin - u0) == eta_lb[kk,uu])\n",
    "        @constraint(sub, ic_5[kk = 1:mD,uu = 1:m], eta_lb[kk,uu]*mu_lb[kk,uu] ≤ 1e-6)\n",
    "    \n",
    "    elseif option == 2\n",
    "        # MPC model (linear)\n",
    "        @constraint(sub, MPC_dyn_model_1, xMPC[1,:] .== mpc['A']*xInit + mpc['B']*uInit)\n",
    "        @constraint(sub, MPC_dyn_model[kk=1:(pD - 1)], xMPC[kk + 1,:] .== mpc['A']*xMPC[kk,:] + mpc['B']*u[kk,1])\n",
    "        @constraint(sub, MPC_model_out[kk=1:pD], yMPC[kk] == dot(mpc['C'],xMPC[kk,:]))\n",
    "\n",
    "        #  MPC model deviation (disturance)\n",
    "        @constraint(sub, MPC_model_dev[kk=1:pD], de[kk] == yDRTO[kk] - yMPC[kk])\n",
    "\n",
    "        # sequence of Setpoints\n",
    "        @expression(sub, cfT_1, (mpc['Ψ']*[xMPC[1,:];de[1]] - ysp[1:p])'*mpc['Q']*mpc['Θ'] - uInit'*mpc['I']'*mpc['R']*mpc['M'])\n",
    "        @expression(sub, cfT[kk=2:mD], (mpc['Ψ']*[xMPC[kk,:];de[kk]] - ysp[kk:(kk + p - 1)])'*mpc['Q']*mpc['Θ'] - u[kk-1,1]'*mpc['I']'*mpc['R']*mpc['M'])\n",
    "\n",
    "        # Constrained with binaries\n",
    "        # 1. stationarity\n",
    "        @constraint(sub, MPC_sol_1, u[1,:]'*mpc['H'] + cfT_1 +  mu_g[1,:]'*conMatrix .== 0)\n",
    "        @constraint(sub, MPC_sol[kk=2:mD], u[kk,:]'*mpc['H'] + cfT[kk] + mu_g[kk,:]'*conMatrix .== 0)\n",
    "\n",
    "        # 2. primal feasibility\n",
    "        @constraint(sub, MPC_c_upper[kk=1:mD,uu=1:m], u[kk,uu] - (uMax - u0) ≤ 0)\n",
    "        @constraint(sub, MPC_c_lower[kk=1:mD,uu=1:m], (uMin - u0) - u[kk,uu] ≤ 0)\n",
    "    \n",
    "        # 3. complementarity --> using big-M implementation\n",
    "        @constraint(sub, bigM_1[kk=1:mD,uu=1:m], mu_g[kk,uu] ≤ bigM_mu*Y_ub[kk,uu])\n",
    "        @constraint(sub, bigM_2[kk=1:mD,uu=1:m], mu_g[kk,uu + m] ≤ bigM_mu*Y_lb[kk,uu])\n",
    "        @constraint(sub, bigM_3[kk=1:mD,uu=1:m], u[kk,uu] - (uMax - u0) ≥ -bigM_u*(1 - Y_ub[kk,uu]))\n",
    "        @constraint(sub, bigM_4[kk=1:mD,uu=1:m], (uMin - u0) - u[kk,uu] ≥ -bigM_u*(1 - Y_lb[kk,uu]))\n",
    "        \n",
    "        @constraint(sub, compSlack[kk=1:mD,uu=1:m], Y_ub[kk,uu] + Y_lb[kk,uu] ≤ 1)\n",
    "    \n",
    "    elseif option == 3\n",
    "        # MPC model (linear)\n",
    "        @constraint(sub, MPC_dyn_model_1, xMPC[1,:] .== mpc['A']*xInit + mpc['B']*uInit)\n",
    "        @constraint(sub, MPC_dyn_model[kk=1:(pD - 1)], xMPC[kk + 1,:] .== mpc['A']*xMPC[kk,:] + mpc['B']*u[kk,1])\n",
    "        @constraint(sub, MPC_model_out[kk=1:pD], yMPC[kk] == dot(mpc['C'],xMPC[kk,:]))\n",
    "\n",
    "        #  MPC model deviation (disturance)\n",
    "        @constraint(sub, MPC_model_dev[kk=1:pD], de[kk] == yDRTO[kk] - yMPC[kk])\n",
    "\n",
    "        # sequence of Setpoints\n",
    "        @expression(sub, cfT_1, (mpc['Ψ']*[xMPC[1,:];de[1]] - ysp[1:p])'*mpc['Q']*mpc['Θ'] - uInit'*mpc['I']'*mpc['R']*mpc['M'])\n",
    "        @expression(sub, cfT[kk=2:mD], (mpc['Ψ']*[xMPC[kk,:];de[kk]] - ysp[kk:(kk + p - 1)])'*mpc['Q']*mpc['Θ'] - u[kk-1,1]'*mpc['I']'*mpc['R']*mpc['M'])\n",
    "\n",
    "        # Constrained with MPCC\n",
    "        # 1. stationarity\n",
    "        @constraint(sub, MPC_sol_1, u[1,:]'*mpc['H'] + cfT_1 +  mu_g[1,:]'*conMatrix .== 0)\n",
    "        @constraint(sub, MPC_sol[kk=2:mD], u[kk,:]'*mpc['H'] + cfT[kk] + mu_g[kk,:]'*conMatrix .== 0)\n",
    "\n",
    "        # 2. primal feasibility       \n",
    "        @constraint(sub, MPC_c_upper[kk=1:mD,uu=1:m], u[kk,uu] - (uMax - u0) ≤ 0)\n",
    "        @constraint(sub, MPC_c_lower[kk=1:mD,uu=1:m], (uMin - u0) - u[kk,uu] ≤ 0)\n",
    "        \n",
    "        # expression to be used in OF        \n",
    "        @expression(sub, g_u_u[kk=1:mD,uu=1:m], u[kk,uu] - (uMax - u0))\n",
    "        @expression(sub, g_u_l[kk=1:mD,uu=1:m], (uMin - u0) - u[kk,uu])\n",
    "        \n",
    "    end\n",
    "\n",
    "    #############################\n",
    "    # Set up objective function #\n",
    "    #############################\n",
    "     if option == 1 || option == 2\n",
    "        @objective(sub, Min, \n",
    "            pScen*sum((yDRTO[kk] - pTrack)^2 + wP*delta_p[kk]^2 for kk in 1:pD)\n",
    "        )\n",
    "    else\n",
    "        @objective(sub, Min, \n",
    "            pScen*sum((yDRTO[kk] - pTrack)^2 + wP*delta_p[kk]^2 for kk in 1:pD)\n",
    "                    - pScen*pi_bar*sum(\n",
    "                                    sum(mu_g[kk,jj]*g_u_u[kk,jj] for jj = 1:m) +\n",
    "                                    sum(mu_g[kk,jj + m]*g_u_l[kk,jj] for jj = 1:m)\n",
    "                                for kk = 1:mD)\n",
    "        )\n",
    "    end\n",
    "    \n",
    "    # @show sub\n",
    "    #set_optimizer_attribute(sub, \"CPX_PARAM_BARALG\", 1)\n",
    "    \n",
    "    optimize!(sub)\n",
    "    \n",
    "    # solution time\n",
    "    timeSol = solve_time(sub)\n",
    "    \n",
    "    status = termination_status(sub)\n",
    "    #display(status)\n",
    "    \n",
    "    # checking if there is a solution to the problem\n",
    "    if status == MOI.OPTIMAL || status == MOI.ALMOST_OPTIMAL || status == MOI.LOCALLY_SOLVED\n",
    "        # Proved optimality or Optimal within relaxed tolerances\n",
    "        # we add an optimality cut\n",
    "        flag = 1\n",
    "        # #primal_status(m)\n",
    "\n",
    "        #calling values of the solved problem\n",
    "        ϕ = objective_value(sub)\n",
    "        uArray = value.(u)\n",
    "        yspArray = value.(ysp)\n",
    "        yDRTOArray = value.(yDRTO)\n",
    "        yMPCArray = value.(yMPC)\n",
    "        xDRTOArray = value.(xDRTO)\n",
    "        xMPCArray = value.(xMPC)\n",
    "        \n",
    "        # lagrange multipliers associated with the nonantecipativity constraints\n",
    "        λ = dual.(nonAnt)\n",
    "\n",
    "        outputDict = Dict('ϕ' => ϕ,\n",
    "                        't' => timeSol,\n",
    "                        'f' => flag, \n",
    "                        'a' => status,\n",
    "                        'u' => uArray,\n",
    "                        's' => yspArray,\n",
    "                        'x' => xDRTOArray,\n",
    "                        'y' => yDRTOArray, \n",
    "                        'm' => xMPCArray,\n",
    "                        'c' => yMPCArray,\n",
    "                        'λ' => λ)\n",
    "        \n",
    "        # if binaries are used for solving const. MPC\n",
    "        if option == 2\n",
    "            muArray = value.(mu_g)\n",
    "                   \n",
    "            uubBinArray = value.(Y_ub)\n",
    "            ulbBinArray = value.(Y_lb)\n",
    "            \n",
    "            merge!(outputDict,Dict('μ'=> muArray))\n",
    "            merge!(outputDict,Dict('o' => ulbBinArray))\n",
    "            merge!(outputDict,Dict('p' => uubBinArray))\n",
    "            \n",
    "        end\n",
    "        \n",
    "        # if MPCC is used for solving const. MPC\n",
    "        if option == 3\n",
    "            muArray = value.(mu_g)\n",
    "            \n",
    "            merge!(outputDict,Dict('μ'=> muArray))\n",
    "        end\n",
    "        \n",
    "        return outputDict\n",
    "    else\n",
    "        #i.e. no feasible solution --> Add feasibility cut\n",
    "        #display(\"Feasibility cut: scenario $(scen)\")        \n",
    "\n",
    "        # ! soft bounds on ysp\n",
    "        delete_lower_bound.(ysp[1:pD])\n",
    "        delete_upper_bound.(ysp[1:pD])\n",
    "        \n",
    "        # ! soft bounds on y\n",
    "        #delete_lower_bound.(yDRTO[1:pD])\n",
    "        \n",
    "        if option != 1\n",
    "            # ! soft bounds on mu\n",
    "            delete_lower_bound.(mu_g[1:mD,1:m])\n",
    "            \n",
    "            # ! soft bounds on u\n",
    "            for kk in 1:mD\n",
    "                for uu in 1:m\n",
    "                    delete(sub, MPC_c_upper[kk,uu])\n",
    "                    delete(sub, MPC_c_lower[kk,uu])\n",
    "                end\n",
    "            end\n",
    "        end\n",
    "        \n",
    "        ####################\n",
    "        # Set up variables #\n",
    "        ####################         \n",
    "        @variable(sub, delta_ysp_u[1:pD] ≥ 0.0)\n",
    "        @variable(sub, delta_ysp_l[1:pD] ≥ 0.0)\n",
    "        \n",
    "        #@variable(sub, delta_y_l[1:pD] ≥ 0.0)\n",
    "        \n",
    "        if option == 2 || option == 3\n",
    "            @variable(sub, delta_mu[1:mD,1:m] ≥ 0.0)\n",
    "            \n",
    "            # slacks\n",
    "            @variable(sub, delta_u_u[1:mD,1:m] ≥ 0.0)\n",
    "            @variable(sub, delta_u_l[1:mD,1:m] ≥ 0.0)\n",
    "\n",
    "        end\n",
    "        \n",
    "        ###########################\n",
    "        # Always-feasible problem #\n",
    "        ###########################        \n",
    "        @constraint(sub, soft_ysp_upper[kk=1:pD], ysp[kk] - (yspMax - y0) ≤ delta_ysp_u[kk])\n",
    "        @constraint(sub, soft_ysp_lower[kk=1:pD], (yspMin - y0) - ysp[kk] ≤ delta_ysp_l[kk])\n",
    "        \n",
    "        #@constraint(sub, soft_y_lower[kk=1:pD], (0 - y0) - yDRTO[kk] ≤ delta_y_l[kk])\n",
    "\n",
    "        # adding a constraint to guarantee that mu is always feasible        \n",
    "        if option == 2 || option == 3\n",
    "            @constraint(sub, soft_MPC_mu_upper[kk=1:mD,uu=1:m], -mu_g[kk,uu] ≤ delta_mu[kk,uu])\n",
    "            \n",
    "            # adding a constraint to guarantee feasibility\n",
    "            @constraint(sub, soft_u_upper[kk=1:mD,uu=1:m], u[kk,uu] - (uMax - u0) ≤ delta_u_u[kk,uu])\n",
    "            @constraint(sub, soft_u_lower[kk=1:mD,uu=1:m], (uMin - u0) - u[kk,uu] ≤ delta_u_l[kk,uu])\n",
    "        end\n",
    "        \n",
    "       #############################\n",
    "        # Set up objective function #\n",
    "        #############################\n",
    "        # Modifying the objective --> call @objective with the new objective function.\n",
    "        # minimizing constraint violation - l1 penalty!\n",
    "        if option == 2 || option == 3\n",
    "            @objective(sub, Min, sum(delta_p[kk] + delta_ysp_u[kk] + delta_ysp_l[kk] for kk in 1:pD)\n",
    "                    + sum(sum(delta_mu[kk,uu] + delta_u_u[kk,uu] + delta_u_l[kk,uu] for uu in 1:m) for kk in 1:mD))\n",
    "        else\n",
    "            @objective(sub, Min, sum(delta_p[kk] + delta_ysp_u[kk] + delta_ysp_l[kk] for kk in 1:pD))\n",
    "        end\n",
    "        \n",
    "        #@show sub\n",
    "        #set_optimizer_attribute(sub, \"CPX_PARAM_BARALG\", 1)\n",
    "\n",
    "        # re-optimizing (now using the always feasible problem)\n",
    "        optimize!(sub)\n",
    "        \n",
    "        # solution time (adding time to solve the always feasible subproblem)\n",
    "        timeSol = timeSol + solve_time(sub)\n",
    "        \n",
    "        # checking status of the solution\n",
    "        status_sub = termination_status(sub)\n",
    "        \n",
    "        # flag for calling feasibility cuts (not optimality cuts)\n",
    "        flag = 0\n",
    "        \n",
    "        #calling values of the solved problem\n",
    "        uArray = value.(u)\n",
    "        yspArray = value.(ysp)\n",
    "        yDRTOArray = value.(yDRTO)\n",
    "        yMPCArray = value.(yMPC)\n",
    "        xDRTOArray = value.(xDRTO)\n",
    "        xMPCArray = value.(xMPC)\n",
    "    \n",
    "        # objective function of the feasibility problem\n",
    "        o = objective_value(sub)\n",
    "        \n",
    "        # lagrange multipliers associated with the nonantecipativity constraints and binaries from master problem\n",
    "        λ = dual.(nonAnt)\n",
    "        \n",
    "        outputDict = Dict('ϕ' => o,\n",
    "                        't' => timeSol,\n",
    "                        'f' => flag, \n",
    "                        'a' => status_sub,\n",
    "                        'u' => uArray,\n",
    "                        's' => yspArray,\n",
    "                        'x' => xDRTOArray,\n",
    "                        'y' => yDRTOArray, \n",
    "                        'm' => xMPCArray,\n",
    "                        'c' => yMPCArray,\n",
    "                        'λ' => λ)\n",
    "        \n",
    "         if option == 2 || option == 3\n",
    "            muArray = value.(mu_g)\n",
    "            merge!(outputDict,Dict('μ'=> muArray))\n",
    "        end\n",
    "        \n",
    "        return outputDict\n",
    "    end\n",
    "end;"
   ]
  },
  {
   "cell_type": "markdown",
   "id": "1690f637",
   "metadata": {},
   "source": [
    "Modeling Bender's Decomposition"
   ]
  },
  {
   "cell_type": "code",
   "execution_count": 12,
   "id": "418c3ed4",
   "metadata": {},
   "outputs": [],
   "source": [
    "# max number of iteration\n",
    "benIterMax = 50\n",
    "\n",
    "# optimality gap (relative) tolerance\n",
    "optGap = 1e-3; # UNC/BIN: 0.001 | MPCC: 0.5"
   ]
  },
  {
   "cell_type": "code",
   "execution_count": 13,
   "id": "6550488c",
   "metadata": {},
   "outputs": [],
   "source": [
    "## Modeling Benders Decompostion\n",
    "function BENS_CLDRTO(xInit,uInit,nReac,nScen,pScen,solNom,option)\n",
    "    \n",
    "    # flag for checking if last cut was opt. (1) or feas. (0)\n",
    "    flagO = 1\n",
    "    \n",
    "    # timing solution via Benders\n",
    "    timeSolBen = 0 \n",
    "    # timing solution via parallel Benders\n",
    "    timeSolParBen = 0 \n",
    "    \n",
    "    # Define master problem model\n",
    "    master = Model(CPLEX.Optimizer)\n",
    "    set_silent(master)\n",
    "    \n",
    "    #lower bound on scenario objective function approximation \n",
    "    alpha_down = 0.0;\n",
    "    \n",
    "    ####################\n",
    "    # Set up variables #\n",
    "    ####################\n",
    "    @variable(master,  (yspMin - y0) <= ysp[1:nDRTO] <=  (yspMax - y0))     \n",
    "    @variable(master, α ≥ alpha_down)\n",
    "    \n",
    "    ########################\n",
    "    # Set up initial guess #\n",
    "    ########################\n",
    "    if solNom isa Dict\n",
    "        for ii in 1:nDRTO\n",
    "            set_start_value(ysp[ii], solNom['s'][ii,1])\n",
    "        end \n",
    "    end \n",
    " \n",
    "    ################################################\n",
    "    # Solving problem with benders' decomposition  #\n",
    "    ################################################\n",
    "    for ii in 1:benIterMax\n",
    "           \n",
    "        #############################\n",
    "        # Set up objective function #\n",
    "        #############################\n",
    "        if flagO == 1 \n",
    "            # last cut was an optimality cut\n",
    "            # standard OF\n",
    "            @objective(master, Min, α)\n",
    "        else\n",
    "            # last cut was a feasibility cut\n",
    "            # \"nudge\" next solution towards nominal solution \n",
    "            @objective(master, Min, α + 0*sum((ysp[kk] - solNom['s'][kk,1])^2 for kk in 1:nDRTO))\n",
    "        end\n",
    "        \n",
    "            # solve master problem (with Benders' cut)\n",
    "            optimize!(master)\n",
    "\n",
    "            # solution time\n",
    "            timeSolMaster = solve_time(master)\n",
    "            # Master problem solution: lower bound of the original problem\n",
    "            lb = objective_value(master)\n",
    "            #display(lb)\n",
    "\n",
    "            # extracting solution for the non-anticipativity constraints\n",
    "            ysp_nonⁱ = value.(ysp)\n",
    "            #display(ysp_nonⁱ)\n",
    "\n",
    "        timeSolBen = timeSolBen + timeSolMaster\n",
    "        timeSolParBen = timeSolParBen + timeSolMaster # master cannot be paralellized \n",
    "\n",
    "        #######################\n",
    "        # Solving subproblems #\n",
    "        #######################\n",
    "        # objective function\n",
    "        o_temp = Vector{Float64}(undef,nScen)\n",
    "        # flag optimality / feasibility\n",
    "        flag_temp = Vector{Float64}(undef,nScen)\n",
    "        # solution time\n",
    "        solTime_temp = Vector{Float64}(undef,nScen)\n",
    "        # multipliers\n",
    "        lambdaN_temp = Matrix{Float64}(undef,nDRTO,nScen) \n",
    "        \n",
    "        for ss in 1:nScen\n",
    "            dicTemp = subp(xInit,uInit,ysp_nonⁱ,nReac,ss,pScen,solNom,option)\n",
    "           \n",
    "            # saving files\n",
    "            # objective function\n",
    "            o_temp[ss] = dicTemp['ϕ']\n",
    "            # solution time\n",
    "            solTime_temp[ss] = dicTemp['t']\n",
    "            # optimality / feasibility flag\n",
    "            flag_temp[ss] = dicTemp['f']\n",
    "            # multiplier\n",
    "            for kk in 1:nDRTO\n",
    "                lambdaN_temp[kk,ss] = dicTemp['λ'][kk]\n",
    "            end\n",
    "            \n",
    "        end\n",
    "        \n",
    "        ##########################################################\n",
    "        # If all subproblems were feasible, check optimality gap #\n",
    "        ##########################################################\n",
    "        if sum(flag_temp) == nScen \n",
    "            # Subproblem solution: upper bound of the original problem\n",
    "            ub = sum(o_temp)\n",
    "\n",
    "            # solve subproblems to find the upper bound of the original problem solution \n",
    "            timeSolBen = timeSolBen + sum(solTime_temp)\n",
    "\n",
    "            # assuming that subproblem solution is parallelized\n",
    "            timeSolParBen = timeSolParBen + maximum(solTime_temp)   \n",
    "            \n",
    "            # compute optimality gap\n",
    "            gap = abs(ub - lb)/abs(ub)\n",
    "            display(\"DB: opt gap = $(gap)\")\n",
    "\n",
    "            # check if optimality gap is small enough\n",
    "            # also, make sure last cut was an optimality cut due to change in OF \n",
    "            if gap < optGap && flagO == 1\n",
    "                global yspSol_dec = ysp_nonⁱ\n",
    "                global objFun_dec = ub\n",
    "                global optGap_dec = gap\n",
    "                global iter_dec = ii\n",
    "                global time_dec = timeSolBen\n",
    "                global time_max_dec = timeSolParBen\n",
    "                break\n",
    "            else # gap ≥ optGap \n",
    "                ##############################\n",
    "                # --> adding optimality cuts #\n",
    "                ##############################\n",
    "                display(\">>>>>> iteration $(ii):O\")\n",
    "                benderscutO = @constraint(master, α ≥ ub + \n",
    "                    sum(sum(lambdaN_temp[jj,ss] for ss in 1:nScen)*(ysp[jj] - ysp_nonⁱ[jj]) for jj in 1:nDRTO))\n",
    "                #@info \"we are adding this bender optimality cut $(benderscutO)\"\n",
    "                \n",
    "                # optimality cut was add\n",
    "                flagO = 1\n",
    "            \n",
    "            end # if gap\n",
    "        else # sum(flag_temp) != nScen\n",
    "            ###############################\n",
    "            # --> adding feasibility cuts #\n",
    "            ###############################\n",
    "            display(\">>>>>> iteration $(ii):F\")\n",
    "\n",
    "            benderscutF = @constraint(master, 0 ≥\n",
    "                sum(sum(lambdaN_temp[jj,ss] for ss in 1:nScen)*(ysp[jj] - ysp_nonⁱ[jj]) for jj in 1:nDRTO))\n",
    "            #@info \"we are adding this bender feasibility cut $(benderscutF)\"\n",
    "            \n",
    "            # feasibility cut was add\n",
    "            flagO = 0\n",
    "            \n",
    "        end # if nScen\n",
    "        \n",
    "        # checking if number of iterations reached max \n",
    "        if ii >= benIterMax\n",
    "            global yspSol_dec = [NaN for kk=1:nDRTO]\n",
    "            global objFun_dec = NaN\n",
    "            global optGap_dec = NaN\n",
    "            global iter_dec = benIterMax\n",
    "            global time_dec = timeSolBen\n",
    "            global time_max_dec = timeSolParBen\n",
    "        end # if < benIterMax\n",
    "    end # if for benders iterations\n",
    "    \n",
    "    #####################\n",
    "    # Extracting values #\n",
    "    #####################\n",
    "    if isnan(objFun_dec)\n",
    "        \n",
    "        outputFun = Dict('t' => time_dec,\n",
    "                         'ϕ' => objFun_dec,\n",
    "                         'm' => time_max_dec, \n",
    "                         'i' => iter_dec,\n",
    "                         'd' => yspSol_dec,\n",
    "                         'g' => optGap_dec)\n",
    "                        \n",
    "        \n",
    "        return outputFun\n",
    "        \n",
    "    else\n",
    "        # recomputing values\n",
    "        uArray = [subp(xInit,uInit,yspSol_dec,nReac,ss,pScen,solNom,option)['u']' for ss in 1:nScen]\n",
    "        yArray = [subp(xInit,uInit,yspSol_dec,nReac,ss,pScen,solNom,option)['y']' for ss in 1:nScen] \n",
    "        yspArray = [subp(xInit,uInit,yspSol_dec,nReac,ss,pScen,solNom,option)['s']' for ss in 1:nScen]\n",
    "\n",
    "        #calling values of the solved problem\n",
    "        return Dict('ϕ' => objFun_dec, \n",
    "                    'd' => yspSol_dec, \n",
    "                    't' => time_dec,\n",
    "                    'm' => time_max_dec, \n",
    "                    'i' => iter_dec,\n",
    "                    'g' => optGap_dec,\n",
    "                    'u' => uArray, \n",
    "                    'y' => yArray, \n",
    "                    's' => yspArray)\n",
    "    end     \n",
    "end;"
   ]
  },
  {
   "cell_type": "markdown",
   "id": "7dbb9c4b",
   "metadata": {},
   "source": [
    "# Checking the performance of the methods in terms of time vs. nScen"
   ]
  },
  {
   "cell_type": "code",
   "execution_count": 14,
   "id": "a5cd27ad",
   "metadata": {},
   "outputs": [
    {
     "name": "stdout",
     "output_type": "stream",
     "text": [
      "\n",
      "******************************************************************************\n",
      "This program contains Ipopt, a library for large-scale nonlinear optimization.\n",
      " Ipopt is released as open source code under the Eclipse Public License (EPL).\n",
      "         For more information visit https://github.com/coin-or/Ipopt\n",
      "******************************************************************************\n",
      "\n"
     ]
    },
    {
     "data": {
      "text/plain": [
       "\"evaluating 1 scenarios| option 3\""
      ]
     },
     "metadata": {},
     "output_type": "display_data"
    },
    {
     "data": {
      "text/plain": [
       "\"DB: opt gap = 1.0\""
      ]
     },
     "metadata": {},
     "output_type": "display_data"
    },
    {
     "data": {
      "text/plain": [
       "\">>>>>> iteration 1:O\""
      ]
     },
     "metadata": {},
     "output_type": "display_data"
    },
    {
     "data": {
      "text/plain": [
       "\"DB: opt gap = 1.0\""
      ]
     },
     "metadata": {},
     "output_type": "display_data"
    },
    {
     "data": {
      "text/plain": [
       "\">>>>>> iteration 2:O\""
      ]
     },
     "metadata": {},
     "output_type": "display_data"
    },
    {
     "data": {
      "text/plain": [
       "\"DB: opt gap = 1.0\""
      ]
     },
     "metadata": {},
     "output_type": "display_data"
    },
    {
     "data": {
      "text/plain": [
       "\">>>>>> iteration 3:O\""
      ]
     },
     "metadata": {},
     "output_type": "display_data"
    },
    {
     "data": {
      "text/plain": [
       "\"DB: opt gap = 1.0\""
      ]
     },
     "metadata": {},
     "output_type": "display_data"
    },
    {
     "data": {
      "text/plain": [
       "\">>>>>> iteration 4:O\""
      ]
     },
     "metadata": {},
     "output_type": "display_data"
    },
    {
     "data": {
      "text/plain": [
       "\"DB: opt gap = 0.950075186202999\""
      ]
     },
     "metadata": {},
     "output_type": "display_data"
    },
    {
     "data": {
      "text/plain": [
       "\">>>>>> iteration 5:O\""
      ]
     },
     "metadata": {},
     "output_type": "display_data"
    },
    {
     "data": {
      "text/plain": [
       "\"DB: opt gap = 0.7359498807631178\""
      ]
     },
     "metadata": {},
     "output_type": "display_data"
    },
    {
     "data": {
      "text/plain": [
       "\">>>>>> iteration 6:O\""
      ]
     },
     "metadata": {},
     "output_type": "display_data"
    },
    {
     "data": {
      "text/plain": [
       "\"DB: opt gap = 0.5374496513923062\""
      ]
     },
     "metadata": {},
     "output_type": "display_data"
    },
    {
     "data": {
      "text/plain": [
       "\">>>>>> iteration 7:O\""
      ]
     },
     "metadata": {},
     "output_type": "display_data"
    },
    {
     "data": {
      "text/plain": [
       "\"DB: opt gap = 0.528424757920487\""
      ]
     },
     "metadata": {},
     "output_type": "display_data"
    },
    {
     "data": {
      "text/plain": [
       "\">>>>>> iteration 8:O\""
      ]
     },
     "metadata": {},
     "output_type": "display_data"
    },
    {
     "data": {
      "text/plain": [
       "\"DB: opt gap = 0.46660395062339927\""
      ]
     },
     "metadata": {},
     "output_type": "display_data"
    },
    {
     "data": {
      "text/plain": [
       "\">>>>>> iteration 9:O\""
      ]
     },
     "metadata": {},
     "output_type": "display_data"
    },
    {
     "data": {
      "text/plain": [
       "\"DB: opt gap = 0.016689236082721087\""
      ]
     },
     "metadata": {},
     "output_type": "display_data"
    },
    {
     "data": {
      "text/plain": [
       "\">>>>>> iteration 10:O\""
      ]
     },
     "metadata": {},
     "output_type": "display_data"
    },
    {
     "data": {
      "text/plain": [
       "\"DB: opt gap = 0.016560901117821714\""
      ]
     },
     "metadata": {},
     "output_type": "display_data"
    },
    {
     "data": {
      "text/plain": [
       "\">>>>>> iteration 11:O\""
      ]
     },
     "metadata": {},
     "output_type": "display_data"
    },
    {
     "data": {
      "text/plain": [
       "\"DB: opt gap = 0.016463087614755074\""
      ]
     },
     "metadata": {},
     "output_type": "display_data"
    },
    {
     "data": {
      "text/plain": [
       "\">>>>>> iteration 12:O\""
      ]
     },
     "metadata": {},
     "output_type": "display_data"
    },
    {
     "data": {
      "text/plain": [
       "\"DB: opt gap = 0.01627868495901094\""
      ]
     },
     "metadata": {},
     "output_type": "display_data"
    },
    {
     "data": {
      "text/plain": [
       "\">>>>>> iteration 13:O\""
      ]
     },
     "metadata": {},
     "output_type": "display_data"
    },
    {
     "data": {
      "text/plain": [
       "\"DB: opt gap = 0.016233306177821292\""
      ]
     },
     "metadata": {},
     "output_type": "display_data"
    },
    {
     "data": {
      "text/plain": [
       "\">>>>>> iteration 14:O\""
      ]
     },
     "metadata": {},
     "output_type": "display_data"
    },
    {
     "data": {
      "text/plain": [
       "\"DB: opt gap = 0.015758892285271376\""
      ]
     },
     "metadata": {},
     "output_type": "display_data"
    },
    {
     "data": {
      "text/plain": [
       "\">>>>>> iteration 15:O\""
      ]
     },
     "metadata": {},
     "output_type": "display_data"
    },
    {
     "data": {
      "text/plain": [
       "\"DB: opt gap = 0.015646639086306393\""
      ]
     },
     "metadata": {},
     "output_type": "display_data"
    },
    {
     "data": {
      "text/plain": [
       "\">>>>>> iteration 16:O\""
      ]
     },
     "metadata": {},
     "output_type": "display_data"
    },
    {
     "data": {
      "text/plain": [
       "\"DB: opt gap = 0.015096111109505778\""
      ]
     },
     "metadata": {},
     "output_type": "display_data"
    },
    {
     "data": {
      "text/plain": [
       "\">>>>>> iteration 17:O\""
      ]
     },
     "metadata": {},
     "output_type": "display_data"
    },
    {
     "data": {
      "text/plain": [
       "\"DB: opt gap = 0.014994603585329669\""
      ]
     },
     "metadata": {},
     "output_type": "display_data"
    },
    {
     "data": {
      "text/plain": [
       "\">>>>>> iteration 18:O\""
      ]
     },
     "metadata": {},
     "output_type": "display_data"
    },
    {
     "data": {
      "text/plain": [
       "\"DB: opt gap = 5.340041852464904e-5\""
      ]
     },
     "metadata": {},
     "output_type": "display_data"
    },
    {
     "data": {
      "text/plain": [
       "\"time M 0.11299991607666016 | time D 1.8529994487762451\""
      ]
     },
     "metadata": {},
     "output_type": "display_data"
    },
    {
     "data": {
      "text/plain": [
       "\"evaluating 2 scenarios| option 3\""
      ]
     },
     "metadata": {},
     "output_type": "display_data"
    },
    {
     "data": {
      "text/plain": [
       "\"DB: opt gap = 1.0\""
      ]
     },
     "metadata": {},
     "output_type": "display_data"
    },
    {
     "data": {
      "text/plain": [
       "\">>>>>> iteration 1:O\""
      ]
     },
     "metadata": {},
     "output_type": "display_data"
    },
    {
     "data": {
      "text/plain": [
       "\"DB: opt gap = 1.0\""
      ]
     },
     "metadata": {},
     "output_type": "display_data"
    },
    {
     "data": {
      "text/plain": [
       "\">>>>>> iteration 2:O\""
      ]
     },
     "metadata": {},
     "output_type": "display_data"
    },
    {
     "data": {
      "text/plain": [
       "\"DB: opt gap = 1.0\""
      ]
     },
     "metadata": {},
     "output_type": "display_data"
    },
    {
     "data": {
      "text/plain": [
       "\">>>>>> iteration 3:O\""
      ]
     },
     "metadata": {},
     "output_type": "display_data"
    },
    {
     "data": {
      "text/plain": [
       "\"DB: opt gap = 1.0\""
      ]
     },
     "metadata": {},
     "output_type": "display_data"
    },
    {
     "data": {
      "text/plain": [
       "\">>>>>> iteration 4:O\""
      ]
     },
     "metadata": {},
     "output_type": "display_data"
    },
    {
     "data": {
      "text/plain": [
       "\"DB: opt gap = 1.0\""
      ]
     },
     "metadata": {},
     "output_type": "display_data"
    },
    {
     "data": {
      "text/plain": [
       "\">>>>>> iteration 5:O\""
      ]
     },
     "metadata": {},
     "output_type": "display_data"
    },
    {
     "data": {
      "text/plain": [
       "\"DB: opt gap = 1.0\""
      ]
     },
     "metadata": {},
     "output_type": "display_data"
    },
    {
     "data": {
      "text/plain": [
       "\">>>>>> iteration 6:O\""
      ]
     },
     "metadata": {},
     "output_type": "display_data"
    },
    {
     "data": {
      "text/plain": [
       "\"DB: opt gap = 1.0\""
      ]
     },
     "metadata": {},
     "output_type": "display_data"
    },
    {
     "data": {
      "text/plain": [
       "\">>>>>> iteration 7:O\""
      ]
     },
     "metadata": {},
     "output_type": "display_data"
    },
    {
     "data": {
      "text/plain": [
       "\"DB: opt gap = 0.6904738802625301\""
      ]
     },
     "metadata": {},
     "output_type": "display_data"
    },
    {
     "data": {
      "text/plain": [
       "\">>>>>> iteration 8:O\""
      ]
     },
     "metadata": {},
     "output_type": "display_data"
    },
    {
     "data": {
      "text/plain": [
       "\"DB: opt gap = 0.6071355449605944\""
      ]
     },
     "metadata": {},
     "output_type": "display_data"
    },
    {
     "data": {
      "text/plain": [
       "\">>>>>> iteration 9:O\""
      ]
     },
     "metadata": {},
     "output_type": "display_data"
    },
    {
     "data": {
      "text/plain": [
       "\"DB: opt gap = 0.6375261263837942\""
      ]
     },
     "metadata": {},
     "output_type": "display_data"
    },
    {
     "data": {
      "text/plain": [
       "\">>>>>> iteration 10:O\""
      ]
     },
     "metadata": {},
     "output_type": "display_data"
    },
    {
     "data": {
      "text/plain": [
       "\"DB: opt gap = 0.0787259362766003\""
      ]
     },
     "metadata": {},
     "output_type": "display_data"
    },
    {
     "data": {
      "text/plain": [
       "\">>>>>> iteration 11:O\""
      ]
     },
     "metadata": {},
     "output_type": "display_data"
    },
    {
     "data": {
      "text/plain": [
       "\"DB: opt gap = 0.07550214174121608\""
      ]
     },
     "metadata": {},
     "output_type": "display_data"
    },
    {
     "data": {
      "text/plain": [
       "\">>>>>> iteration 12:O\""
      ]
     },
     "metadata": {},
     "output_type": "display_data"
    },
    {
     "data": {
      "text/plain": [
       "\"DB: opt gap = 0.0002784408306618679\""
      ]
     },
     "metadata": {},
     "output_type": "display_data"
    },
    {
     "data": {
      "text/plain": [
       "\"time M 0.372999906539917 | time D 3.1649999618530273\""
      ]
     },
     "metadata": {},
     "output_type": "display_data"
    },
    {
     "data": {
      "text/plain": [
       "\"evaluating 3 scenarios| option 3\""
      ]
     },
     "metadata": {},
     "output_type": "display_data"
    },
    {
     "data": {
      "text/plain": [
       "\"DB: opt gap = 1.0\""
      ]
     },
     "metadata": {},
     "output_type": "display_data"
    },
    {
     "data": {
      "text/plain": [
       "\">>>>>> iteration 1:O\""
      ]
     },
     "metadata": {},
     "output_type": "display_data"
    },
    {
     "data": {
      "text/plain": [
       "\"DB: opt gap = 1.0\""
      ]
     },
     "metadata": {},
     "output_type": "display_data"
    },
    {
     "data": {
      "text/plain": [
       "\">>>>>> iteration 2:O\""
      ]
     },
     "metadata": {},
     "output_type": "display_data"
    },
    {
     "data": {
      "text/plain": [
       "\"DB: opt gap = 1.0\""
      ]
     },
     "metadata": {},
     "output_type": "display_data"
    },
    {
     "data": {
      "text/plain": [
       "\">>>>>> iteration 3:O\""
      ]
     },
     "metadata": {},
     "output_type": "display_data"
    },
    {
     "data": {
      "text/plain": [
       "\"DB: opt gap = 1.0\""
      ]
     },
     "metadata": {},
     "output_type": "display_data"
    },
    {
     "data": {
      "text/plain": [
       "\">>>>>> iteration 4:O\""
      ]
     },
     "metadata": {},
     "output_type": "display_data"
    },
    {
     "data": {
      "text/plain": [
       "\"DB: opt gap = 1.0\""
      ]
     },
     "metadata": {},
     "output_type": "display_data"
    },
    {
     "data": {
      "text/plain": [
       "\">>>>>> iteration 5:O\""
      ]
     },
     "metadata": {},
     "output_type": "display_data"
    },
    {
     "data": {
      "text/plain": [
       "\"DB: opt gap = 1.0\""
      ]
     },
     "metadata": {},
     "output_type": "display_data"
    },
    {
     "data": {
      "text/plain": [
       "\">>>>>> iteration 6:O\""
      ]
     },
     "metadata": {},
     "output_type": "display_data"
    },
    {
     "data": {
      "text/plain": [
       "\"DB: opt gap = 1.0\""
      ]
     },
     "metadata": {},
     "output_type": "display_data"
    },
    {
     "data": {
      "text/plain": [
       "\">>>>>> iteration 7:O\""
      ]
     },
     "metadata": {},
     "output_type": "display_data"
    },
    {
     "data": {
      "text/plain": [
       "\"DB: opt gap = 0.7554323068576974\""
      ]
     },
     "metadata": {},
     "output_type": "display_data"
    },
    {
     "data": {
      "text/plain": [
       "\">>>>>> iteration 8:O\""
      ]
     },
     "metadata": {},
     "output_type": "display_data"
    },
    {
     "data": {
      "text/plain": [
       "\"DB: opt gap = 0.6925474638168679\""
      ]
     },
     "metadata": {},
     "output_type": "display_data"
    },
    {
     "data": {
      "text/plain": [
       "\">>>>>> iteration 9:O\""
      ]
     },
     "metadata": {},
     "output_type": "display_data"
    },
    {
     "data": {
      "text/plain": [
       "\"DB: opt gap = 0.08034572300960312\""
      ]
     },
     "metadata": {},
     "output_type": "display_data"
    },
    {
     "data": {
      "text/plain": [
       "\">>>>>> iteration 10:O\""
      ]
     },
     "metadata": {},
     "output_type": "display_data"
    },
    {
     "data": {
      "text/plain": [
       "\"DB: opt gap = 0.07975740502098738\""
      ]
     },
     "metadata": {},
     "output_type": "display_data"
    },
    {
     "data": {
      "text/plain": [
       "\">>>>>> iteration 11:O\""
      ]
     },
     "metadata": {},
     "output_type": "display_data"
    },
    {
     "data": {
      "text/plain": [
       "\"DB: opt gap = 0.07871933819919692\""
      ]
     },
     "metadata": {},
     "output_type": "display_data"
    },
    {
     "data": {
      "text/plain": [
       "\">>>>>> iteration 12:O\""
      ]
     },
     "metadata": {},
     "output_type": "display_data"
    },
    {
     "data": {
      "text/plain": [
       "\"DB: opt gap = 0.0781569100943126\""
      ]
     },
     "metadata": {},
     "output_type": "display_data"
    },
    {
     "data": {
      "text/plain": [
       "\">>>>>> iteration 13:O\""
      ]
     },
     "metadata": {},
     "output_type": "display_data"
    },
    {
     "data": {
      "text/plain": [
       "\"DB: opt gap = 0.00010949380684728937\""
      ]
     },
     "metadata": {},
     "output_type": "display_data"
    },
    {
     "data": {
      "text/plain": [
       "\"time M 0.39300012588500977 | time D 4.844999551773071\""
      ]
     },
     "metadata": {},
     "output_type": "display_data"
    },
    {
     "data": {
      "text/plain": [
       "\"evaluating 4 scenarios| option 3\""
      ]
     },
     "metadata": {},
     "output_type": "display_data"
    },
    {
     "data": {
      "text/plain": [
       "\"DB: opt gap = 1.0\""
      ]
     },
     "metadata": {},
     "output_type": "display_data"
    },
    {
     "data": {
      "text/plain": [
       "\">>>>>> iteration 1:O\""
      ]
     },
     "metadata": {},
     "output_type": "display_data"
    },
    {
     "data": {
      "text/plain": [
       "\"DB: opt gap = 1.0\""
      ]
     },
     "metadata": {},
     "output_type": "display_data"
    },
    {
     "data": {
      "text/plain": [
       "\">>>>>> iteration 2:O\""
      ]
     },
     "metadata": {},
     "output_type": "display_data"
    },
    {
     "data": {
      "text/plain": [
       "\"DB: opt gap = 1.0\""
      ]
     },
     "metadata": {},
     "output_type": "display_data"
    },
    {
     "data": {
      "text/plain": [
       "\">>>>>> iteration 3:O\""
      ]
     },
     "metadata": {},
     "output_type": "display_data"
    },
    {
     "data": {
      "text/plain": [
       "\"DB: opt gap = 1.0\""
      ]
     },
     "metadata": {},
     "output_type": "display_data"
    },
    {
     "data": {
      "text/plain": [
       "\">>>>>> iteration 4:O\""
      ]
     },
     "metadata": {},
     "output_type": "display_data"
    },
    {
     "data": {
      "text/plain": [
       "\"DB: opt gap = 1.0\""
      ]
     },
     "metadata": {},
     "output_type": "display_data"
    },
    {
     "data": {
      "text/plain": [
       "\">>>>>> iteration 5:O\""
      ]
     },
     "metadata": {},
     "output_type": "display_data"
    },
    {
     "data": {
      "text/plain": [
       "\"DB: opt gap = 1.0\""
      ]
     },
     "metadata": {},
     "output_type": "display_data"
    },
    {
     "data": {
      "text/plain": [
       "\">>>>>> iteration 6:O\""
      ]
     },
     "metadata": {},
     "output_type": "display_data"
    },
    {
     "data": {
      "text/plain": [
       "\"DB: opt gap = 1.0\""
      ]
     },
     "metadata": {},
     "output_type": "display_data"
    },
    {
     "data": {
      "text/plain": [
       "\">>>>>> iteration 7:O\""
      ]
     },
     "metadata": {},
     "output_type": "display_data"
    },
    {
     "data": {
      "text/plain": [
       "\"DB: opt gap = 1.0\""
      ]
     },
     "metadata": {},
     "output_type": "display_data"
    },
    {
     "data": {
      "text/plain": [
       "\">>>>>> iteration 8:O\""
      ]
     },
     "metadata": {},
     "output_type": "display_data"
    },
    {
     "data": {
      "text/plain": [
       "\"DB: opt gap = 1.0\""
      ]
     },
     "metadata": {},
     "output_type": "display_data"
    },
    {
     "data": {
      "text/plain": [
       "\">>>>>> iteration 9:O\""
      ]
     },
     "metadata": {},
     "output_type": "display_data"
    },
    {
     "data": {
      "text/plain": [
       "\"DB: opt gap = 1.0\""
      ]
     },
     "metadata": {},
     "output_type": "display_data"
    },
    {
     "data": {
      "text/plain": [
       "\">>>>>> iteration 10:O\""
      ]
     },
     "metadata": {},
     "output_type": "display_data"
    },
    {
     "data": {
      "text/plain": [
       "\"DB: opt gap = 0.034860969917564995\""
      ]
     },
     "metadata": {},
     "output_type": "display_data"
    },
    {
     "data": {
      "text/plain": [
       "\">>>>>> iteration 11:O\""
      ]
     },
     "metadata": {},
     "output_type": "display_data"
    },
    {
     "data": {
      "text/plain": [
       "\"DB: opt gap = 0.03436491895971638\""
      ]
     },
     "metadata": {},
     "output_type": "display_data"
    },
    {
     "data": {
      "text/plain": [
       "\">>>>>> iteration 12:O\""
      ]
     },
     "metadata": {},
     "output_type": "display_data"
    },
    {
     "data": {
      "text/plain": [
       "\"DB: opt gap = 0.034047400343706596\""
      ]
     },
     "metadata": {},
     "output_type": "display_data"
    },
    {
     "data": {
      "text/plain": [
       "\">>>>>> iteration 13:O\""
      ]
     },
     "metadata": {},
     "output_type": "display_data"
    },
    {
     "data": {
      "text/plain": [
       "\"DB: opt gap = 0.034059666632044\""
      ]
     },
     "metadata": {},
     "output_type": "display_data"
    },
    {
     "data": {
      "text/plain": [
       "\">>>>>> iteration 14:O\""
      ]
     },
     "metadata": {},
     "output_type": "display_data"
    },
    {
     "data": {
      "text/plain": [
       "\"DB: opt gap = 0.03365662539237609\""
      ]
     },
     "metadata": {},
     "output_type": "display_data"
    },
    {
     "data": {
      "text/plain": [
       "\">>>>>> iteration 15:O\""
      ]
     },
     "metadata": {},
     "output_type": "display_data"
    },
    {
     "data": {
      "text/plain": [
       "\"DB: opt gap = 1.3246472941946238e-5\""
      ]
     },
     "metadata": {},
     "output_type": "display_data"
    },
    {
     "data": {
      "text/plain": [
       "\"time M 0.30699992179870605 | time D 7.9260008335113525\""
      ]
     },
     "metadata": {},
     "output_type": "display_data"
    },
    {
     "data": {
      "text/plain": [
       "\"evaluating 5 scenarios| option 3\""
      ]
     },
     "metadata": {},
     "output_type": "display_data"
    },
    {
     "data": {
      "text/plain": [
       "\"DB: opt gap = 1.0\""
      ]
     },
     "metadata": {},
     "output_type": "display_data"
    },
    {
     "data": {
      "text/plain": [
       "\">>>>>> iteration 1:O\""
      ]
     },
     "metadata": {},
     "output_type": "display_data"
    },
    {
     "data": {
      "text/plain": [
       "\"DB: opt gap = 1.0\""
      ]
     },
     "metadata": {},
     "output_type": "display_data"
    },
    {
     "data": {
      "text/plain": [
       "\">>>>>> iteration 2:O\""
      ]
     },
     "metadata": {},
     "output_type": "display_data"
    },
    {
     "data": {
      "text/plain": [
       "\"DB: opt gap = 1.0\""
      ]
     },
     "metadata": {},
     "output_type": "display_data"
    },
    {
     "data": {
      "text/plain": [
       "\">>>>>> iteration 3:O\""
      ]
     },
     "metadata": {},
     "output_type": "display_data"
    },
    {
     "data": {
      "text/plain": [
       "\"DB: opt gap = 1.0\""
      ]
     },
     "metadata": {},
     "output_type": "display_data"
    },
    {
     "data": {
      "text/plain": [
       "\">>>>>> iteration 4:O\""
      ]
     },
     "metadata": {},
     "output_type": "display_data"
    },
    {
     "data": {
      "text/plain": [
       "\"DB: opt gap = 1.0\""
      ]
     },
     "metadata": {},
     "output_type": "display_data"
    },
    {
     "data": {
      "text/plain": [
       "\">>>>>> iteration 5:O\""
      ]
     },
     "metadata": {},
     "output_type": "display_data"
    },
    {
     "data": {
      "text/plain": [
       "\"DB: opt gap = 1.0\""
      ]
     },
     "metadata": {},
     "output_type": "display_data"
    },
    {
     "data": {
      "text/plain": [
       "\">>>>>> iteration 6:O\""
      ]
     },
     "metadata": {},
     "output_type": "display_data"
    },
    {
     "data": {
      "text/plain": [
       "\"DB: opt gap = 1.0\""
      ]
     },
     "metadata": {},
     "output_type": "display_data"
    },
    {
     "data": {
      "text/plain": [
       "\">>>>>> iteration 7:O\""
      ]
     },
     "metadata": {},
     "output_type": "display_data"
    },
    {
     "data": {
      "text/plain": [
       "\"DB: opt gap = 0.1195160802518321\""
      ]
     },
     "metadata": {},
     "output_type": "display_data"
    },
    {
     "data": {
      "text/plain": [
       "\">>>>>> iteration 8:O\""
      ]
     },
     "metadata": {},
     "output_type": "display_data"
    },
    {
     "data": {
      "text/plain": [
       "\"DB: opt gap = 0.1188875426595531\""
      ]
     },
     "metadata": {},
     "output_type": "display_data"
    },
    {
     "data": {
      "text/plain": [
       "\">>>>>> iteration 9:O\""
      ]
     },
     "metadata": {},
     "output_type": "display_data"
    },
    {
     "data": {
      "text/plain": [
       "\">>>>>> iteration 10:F\""
      ]
     },
     "metadata": {},
     "output_type": "display_data"
    },
    {
     "data": {
      "text/plain": [
       "\"DB: opt gap = 0.11752907193444175\""
      ]
     },
     "metadata": {},
     "output_type": "display_data"
    },
    {
     "data": {
      "text/plain": [
       "\">>>>>> iteration 11:O\""
      ]
     },
     "metadata": {},
     "output_type": "display_data"
    },
    {
     "data": {
      "text/plain": [
       "\"DB: opt gap = 0.11634716905787199\""
      ]
     },
     "metadata": {},
     "output_type": "display_data"
    },
    {
     "data": {
      "text/plain": [
       "\">>>>>> iteration 12:O\""
      ]
     },
     "metadata": {},
     "output_type": "display_data"
    },
    {
     "data": {
      "text/plain": [
       "\"DB: opt gap = 0.09740880717559978\""
      ]
     },
     "metadata": {},
     "output_type": "display_data"
    },
    {
     "data": {
      "text/plain": [
       "\">>>>>> iteration 13:O\""
      ]
     },
     "metadata": {},
     "output_type": "display_data"
    },
    {
     "data": {
      "text/plain": [
       "\"DB: opt gap = 0.09418034781683582\""
      ]
     },
     "metadata": {},
     "output_type": "display_data"
    },
    {
     "data": {
      "text/plain": [
       "\">>>>>> iteration 14:O\""
      ]
     },
     "metadata": {},
     "output_type": "display_data"
    },
    {
     "data": {
      "text/plain": [
       "\"DB: opt gap = 0.09348333230127455\""
      ]
     },
     "metadata": {},
     "output_type": "display_data"
    },
    {
     "data": {
      "text/plain": [
       "\">>>>>> iteration 15:O\""
      ]
     },
     "metadata": {},
     "output_type": "display_data"
    },
    {
     "data": {
      "text/plain": [
       "\"DB: opt gap = 0.0784850927235287\""
      ]
     },
     "metadata": {},
     "output_type": "display_data"
    },
    {
     "data": {
      "text/plain": [
       "\">>>>>> iteration 16:O\""
      ]
     },
     "metadata": {},
     "output_type": "display_data"
    },
    {
     "data": {
      "text/plain": [
       "\"DB: opt gap = 0.07786610078051745\""
      ]
     },
     "metadata": {},
     "output_type": "display_data"
    },
    {
     "data": {
      "text/plain": [
       "\">>>>>> iteration 17:O\""
      ]
     },
     "metadata": {},
     "output_type": "display_data"
    },
    {
     "data": {
      "text/plain": [
       "\"DB: opt gap = 0.002467587499375015\""
      ]
     },
     "metadata": {},
     "output_type": "display_data"
    },
    {
     "data": {
      "text/plain": [
       "\">>>>>> iteration 18:O\""
      ]
     },
     "metadata": {},
     "output_type": "display_data"
    },
    {
     "data": {
      "text/plain": [
       "\"DB: opt gap = 0.002461985888011317\""
      ]
     },
     "metadata": {},
     "output_type": "display_data"
    },
    {
     "data": {
      "text/plain": [
       "\">>>>>> iteration 19:O\""
      ]
     },
     "metadata": {},
     "output_type": "display_data"
    },
    {
     "data": {
      "text/plain": [
       "\"DB: opt gap = 0.0026224901344467084\""
      ]
     },
     "metadata": {},
     "output_type": "display_data"
    },
    {
     "data": {
      "text/plain": [
       "\">>>>>> iteration 20:O\""
      ]
     },
     "metadata": {},
     "output_type": "display_data"
    },
    {
     "data": {
      "text/plain": [
       "\"DB: opt gap = 2.3296413682062185e-6\""
      ]
     },
     "metadata": {},
     "output_type": "display_data"
    },
    {
     "data": {
      "text/plain": [
       "\"time M 1.0829999446868896 | time D 13.272000789642334\""
      ]
     },
     "metadata": {},
     "output_type": "display_data"
    },
    {
     "data": {
      "text/plain": [
       "\"evaluating 6 scenarios| option 3\""
      ]
     },
     "metadata": {},
     "output_type": "display_data"
    },
    {
     "data": {
      "text/plain": [
       "\"DB: opt gap = 1.0\""
      ]
     },
     "metadata": {},
     "output_type": "display_data"
    },
    {
     "data": {
      "text/plain": [
       "\">>>>>> iteration 1:O\""
      ]
     },
     "metadata": {},
     "output_type": "display_data"
    },
    {
     "data": {
      "text/plain": [
       "\"DB: opt gap = 1.0\""
      ]
     },
     "metadata": {},
     "output_type": "display_data"
    },
    {
     "data": {
      "text/plain": [
       "\">>>>>> iteration 2:O\""
      ]
     },
     "metadata": {},
     "output_type": "display_data"
    },
    {
     "data": {
      "text/plain": [
       "\"DB: opt gap = 1.0\""
      ]
     },
     "metadata": {},
     "output_type": "display_data"
    },
    {
     "data": {
      "text/plain": [
       "\">>>>>> iteration 3:O\""
      ]
     },
     "metadata": {},
     "output_type": "display_data"
    },
    {
     "data": {
      "text/plain": [
       "\"DB: opt gap = 1.0\""
      ]
     },
     "metadata": {},
     "output_type": "display_data"
    },
    {
     "data": {
      "text/plain": [
       "\">>>>>> iteration 4:O\""
      ]
     },
     "metadata": {},
     "output_type": "display_data"
    },
    {
     "data": {
      "text/plain": [
       "\"DB: opt gap = 1.0\""
      ]
     },
     "metadata": {},
     "output_type": "display_data"
    },
    {
     "data": {
      "text/plain": [
       "\">>>>>> iteration 5:O\""
      ]
     },
     "metadata": {},
     "output_type": "display_data"
    },
    {
     "data": {
      "text/plain": [
       "\"DB: opt gap = 1.0\""
      ]
     },
     "metadata": {},
     "output_type": "display_data"
    },
    {
     "data": {
      "text/plain": [
       "\">>>>>> iteration 6:O\""
      ]
     },
     "metadata": {},
     "output_type": "display_data"
    },
    {
     "data": {
      "text/plain": [
       "\"DB: opt gap = 1.0\""
      ]
     },
     "metadata": {},
     "output_type": "display_data"
    },
    {
     "data": {
      "text/plain": [
       "\">>>>>> iteration 7:O\""
      ]
     },
     "metadata": {},
     "output_type": "display_data"
    },
    {
     "data": {
      "text/plain": [
       "\"DB: opt gap = 1.0\""
      ]
     },
     "metadata": {},
     "output_type": "display_data"
    },
    {
     "data": {
      "text/plain": [
       "\">>>>>> iteration 8:O\""
      ]
     },
     "metadata": {},
     "output_type": "display_data"
    },
    {
     "data": {
      "text/plain": [
       "\"DB: opt gap = 0.10643779039799595\""
      ]
     },
     "metadata": {},
     "output_type": "display_data"
    },
    {
     "data": {
      "text/plain": [
       "\">>>>>> iteration 9:O\""
      ]
     },
     "metadata": {},
     "output_type": "display_data"
    },
    {
     "data": {
      "text/plain": [
       "\"DB: opt gap = 0.10595443954079671\""
      ]
     },
     "metadata": {},
     "output_type": "display_data"
    },
    {
     "data": {
      "text/plain": [
       "\">>>>>> iteration 10:O\""
      ]
     },
     "metadata": {},
     "output_type": "display_data"
    },
    {
     "data": {
      "text/plain": [
       "\"DB: opt gap = 0.10467313242228442\""
      ]
     },
     "metadata": {},
     "output_type": "display_data"
    },
    {
     "data": {
      "text/plain": [
       "\">>>>>> iteration 11:O\""
      ]
     },
     "metadata": {},
     "output_type": "display_data"
    },
    {
     "data": {
      "text/plain": [
       "\"DB: opt gap = 0.10420871927050263\""
      ]
     },
     "metadata": {},
     "output_type": "display_data"
    },
    {
     "data": {
      "text/plain": [
       "\">>>>>> iteration 12:O\""
      ]
     },
     "metadata": {},
     "output_type": "display_data"
    },
    {
     "data": {
      "text/plain": [
       "\"DB: opt gap = 0.10350268819933033\""
      ]
     },
     "metadata": {},
     "output_type": "display_data"
    },
    {
     "data": {
      "text/plain": [
       "\">>>>>> iteration 13:O\""
      ]
     },
     "metadata": {},
     "output_type": "display_data"
    },
    {
     "data": {
      "text/plain": [
       "\"DB: opt gap = 0.10251726987879115\""
      ]
     },
     "metadata": {},
     "output_type": "display_data"
    },
    {
     "data": {
      "text/plain": [
       "\">>>>>> iteration 14:O\""
      ]
     },
     "metadata": {},
     "output_type": "display_data"
    },
    {
     "data": {
      "text/plain": [
       "\"DB: opt gap = 1.7089519213053382e-5\""
      ]
     },
     "metadata": {},
     "output_type": "display_data"
    },
    {
     "data": {
      "text/plain": [
       "\"time M 2.246999979019165 | time D 9.232000827789307\""
      ]
     },
     "metadata": {},
     "output_type": "display_data"
    },
    {
     "data": {
      "text/plain": [
       "\"evaluating 7 scenarios| option 3\""
      ]
     },
     "metadata": {},
     "output_type": "display_data"
    },
    {
     "data": {
      "text/plain": [
       "\"DB: opt gap = 1.0\""
      ]
     },
     "metadata": {},
     "output_type": "display_data"
    },
    {
     "data": {
      "text/plain": [
       "\">>>>>> iteration 1:O\""
      ]
     },
     "metadata": {},
     "output_type": "display_data"
    },
    {
     "data": {
      "text/plain": [
       "\"DB: opt gap = 1.0\""
      ]
     },
     "metadata": {},
     "output_type": "display_data"
    },
    {
     "data": {
      "text/plain": [
       "\">>>>>> iteration 2:O\""
      ]
     },
     "metadata": {},
     "output_type": "display_data"
    },
    {
     "data": {
      "text/plain": [
       "\"DB: opt gap = 1.0\""
      ]
     },
     "metadata": {},
     "output_type": "display_data"
    },
    {
     "data": {
      "text/plain": [
       "\">>>>>> iteration 3:O\""
      ]
     },
     "metadata": {},
     "output_type": "display_data"
    },
    {
     "data": {
      "text/plain": [
       "\"DB: opt gap = 1.0\""
      ]
     },
     "metadata": {},
     "output_type": "display_data"
    },
    {
     "data": {
      "text/plain": [
       "\">>>>>> iteration 4:O\""
      ]
     },
     "metadata": {},
     "output_type": "display_data"
    },
    {
     "data": {
      "text/plain": [
       "\"DB: opt gap = 1.0\""
      ]
     },
     "metadata": {},
     "output_type": "display_data"
    },
    {
     "data": {
      "text/plain": [
       "\">>>>>> iteration 5:O\""
      ]
     },
     "metadata": {},
     "output_type": "display_data"
    },
    {
     "data": {
      "text/plain": [
       "\"DB: opt gap = 1.0\""
      ]
     },
     "metadata": {},
     "output_type": "display_data"
    },
    {
     "data": {
      "text/plain": [
       "\">>>>>> iteration 6:O\""
      ]
     },
     "metadata": {},
     "output_type": "display_data"
    },
    {
     "data": {
      "text/plain": [
       "\"DB: opt gap = 1.0\""
      ]
     },
     "metadata": {},
     "output_type": "display_data"
    },
    {
     "data": {
      "text/plain": [
       "\">>>>>> iteration 7:O\""
      ]
     },
     "metadata": {},
     "output_type": "display_data"
    },
    {
     "data": {
      "text/plain": [
       "\"DB: opt gap = 1.0\""
      ]
     },
     "metadata": {},
     "output_type": "display_data"
    },
    {
     "data": {
      "text/plain": [
       "\">>>>>> iteration 8:O\""
      ]
     },
     "metadata": {},
     "output_type": "display_data"
    },
    {
     "data": {
      "text/plain": [
       "\"DB: opt gap = 0.12329247054902935\""
      ]
     },
     "metadata": {},
     "output_type": "display_data"
    },
    {
     "data": {
      "text/plain": [
       "\">>>>>> iteration 9:O\""
      ]
     },
     "metadata": {},
     "output_type": "display_data"
    },
    {
     "data": {
      "text/plain": [
       "\"DB: opt gap = 0.12254029983325823\""
      ]
     },
     "metadata": {},
     "output_type": "display_data"
    },
    {
     "data": {
      "text/plain": [
       "\">>>>>> iteration 10:O\""
      ]
     },
     "metadata": {},
     "output_type": "display_data"
    },
    {
     "data": {
      "text/plain": [
       "\"DB: opt gap = 0.12114605525667765\""
      ]
     },
     "metadata": {},
     "output_type": "display_data"
    },
    {
     "data": {
      "text/plain": [
       "\">>>>>> iteration 11:O\""
      ]
     },
     "metadata": {},
     "output_type": "display_data"
    },
    {
     "data": {
      "text/plain": [
       "\"DB: opt gap = 0.11966265366302868\""
      ]
     },
     "metadata": {},
     "output_type": "display_data"
    },
    {
     "data": {
      "text/plain": [
       "\">>>>>> iteration 12:O\""
      ]
     },
     "metadata": {},
     "output_type": "display_data"
    },
    {
     "data": {
      "text/plain": [
       "\"DB: opt gap = 0.11779140046634556\""
      ]
     },
     "metadata": {},
     "output_type": "display_data"
    },
    {
     "data": {
      "text/plain": [
       "\">>>>>> iteration 13:O\""
      ]
     },
     "metadata": {},
     "output_type": "display_data"
    },
    {
     "data": {
      "text/plain": [
       "\"DB: opt gap = 0.1164439084338918\""
      ]
     },
     "metadata": {},
     "output_type": "display_data"
    },
    {
     "data": {
      "text/plain": [
       "\">>>>>> iteration 14:O\""
      ]
     },
     "metadata": {},
     "output_type": "display_data"
    },
    {
     "data": {
      "text/plain": [
       "\"DB: opt gap = 0.11587613356105601\""
      ]
     },
     "metadata": {},
     "output_type": "display_data"
    },
    {
     "data": {
      "text/plain": [
       "\">>>>>> iteration 15:O\""
      ]
     },
     "metadata": {},
     "output_type": "display_data"
    },
    {
     "data": {
      "text/plain": [
       "\"DB: opt gap = 0.11484116359562631\""
      ]
     },
     "metadata": {},
     "output_type": "display_data"
    },
    {
     "data": {
      "text/plain": [
       "\">>>>>> iteration 16:O\""
      ]
     },
     "metadata": {},
     "output_type": "display_data"
    },
    {
     "data": {
      "text/plain": [
       "\"DB: opt gap = 0.11331112371074548\""
      ]
     },
     "metadata": {},
     "output_type": "display_data"
    },
    {
     "data": {
      "text/plain": [
       "\">>>>>> iteration 17:O\""
      ]
     },
     "metadata": {},
     "output_type": "display_data"
    },
    {
     "data": {
      "text/plain": [
       "\"DB: opt gap = 0.0001061008803521524\""
      ]
     },
     "metadata": {},
     "output_type": "display_data"
    },
    {
     "data": {
      "text/plain": [
       "\"time M 2.6510000228881836 | time D 11.548001050949097\""
      ]
     },
     "metadata": {},
     "output_type": "display_data"
    },
    {
     "data": {
      "text/plain": [
       "\"evaluating 8 scenarios| option 3\""
      ]
     },
     "metadata": {},
     "output_type": "display_data"
    },
    {
     "data": {
      "text/plain": [
       "\"DB: opt gap = 1.0\""
      ]
     },
     "metadata": {},
     "output_type": "display_data"
    },
    {
     "data": {
      "text/plain": [
       "\">>>>>> iteration 1:O\""
      ]
     },
     "metadata": {},
     "output_type": "display_data"
    },
    {
     "data": {
      "text/plain": [
       "\"DB: opt gap = 1.0\""
      ]
     },
     "metadata": {},
     "output_type": "display_data"
    },
    {
     "data": {
      "text/plain": [
       "\">>>>>> iteration 2:O\""
      ]
     },
     "metadata": {},
     "output_type": "display_data"
    },
    {
     "data": {
      "text/plain": [
       "\"DB: opt gap = 1.0\""
      ]
     },
     "metadata": {},
     "output_type": "display_data"
    },
    {
     "data": {
      "text/plain": [
       "\">>>>>> iteration 3:O\""
      ]
     },
     "metadata": {},
     "output_type": "display_data"
    },
    {
     "data": {
      "text/plain": [
       "\"DB: opt gap = 1.0\""
      ]
     },
     "metadata": {},
     "output_type": "display_data"
    },
    {
     "data": {
      "text/plain": [
       "\">>>>>> iteration 4:O\""
      ]
     },
     "metadata": {},
     "output_type": "display_data"
    },
    {
     "data": {
      "text/plain": [
       "\"DB: opt gap = 1.0\""
      ]
     },
     "metadata": {},
     "output_type": "display_data"
    },
    {
     "data": {
      "text/plain": [
       "\">>>>>> iteration 5:O\""
      ]
     },
     "metadata": {},
     "output_type": "display_data"
    },
    {
     "data": {
      "text/plain": [
       "\"DB: opt gap = 1.0\""
      ]
     },
     "metadata": {},
     "output_type": "display_data"
    },
    {
     "data": {
      "text/plain": [
       "\">>>>>> iteration 6:O\""
      ]
     },
     "metadata": {},
     "output_type": "display_data"
    },
    {
     "data": {
      "text/plain": [
       "\"DB: opt gap = 1.0\""
      ]
     },
     "metadata": {},
     "output_type": "display_data"
    },
    {
     "data": {
      "text/plain": [
       "\">>>>>> iteration 7:O\""
      ]
     },
     "metadata": {},
     "output_type": "display_data"
    },
    {
     "data": {
      "text/plain": [
       "\"DB: opt gap = 1.0\""
      ]
     },
     "metadata": {},
     "output_type": "display_data"
    },
    {
     "data": {
      "text/plain": [
       "\">>>>>> iteration 8:O\""
      ]
     },
     "metadata": {},
     "output_type": "display_data"
    },
    {
     "data": {
      "text/plain": [
       "\"DB: opt gap = 1.0\""
      ]
     },
     "metadata": {},
     "output_type": "display_data"
    },
    {
     "data": {
      "text/plain": [
       "\">>>>>> iteration 9:O\""
      ]
     },
     "metadata": {},
     "output_type": "display_data"
    },
    {
     "data": {
      "text/plain": [
       "\"DB: opt gap = 0.11248758337153088\""
      ]
     },
     "metadata": {},
     "output_type": "display_data"
    },
    {
     "data": {
      "text/plain": [
       "\">>>>>> iteration 10:O\""
      ]
     },
     "metadata": {},
     "output_type": "display_data"
    },
    {
     "data": {
      "text/plain": [
       "\"DB: opt gap = 0.11189483059729106\""
      ]
     },
     "metadata": {},
     "output_type": "display_data"
    },
    {
     "data": {
      "text/plain": [
       "\">>>>>> iteration 11:O\""
      ]
     },
     "metadata": {},
     "output_type": "display_data"
    },
    {
     "data": {
      "text/plain": [
       "\"DB: opt gap = 0.11090659506528708\""
      ]
     },
     "metadata": {},
     "output_type": "display_data"
    },
    {
     "data": {
      "text/plain": [
       "\">>>>>> iteration 12:O\""
      ]
     },
     "metadata": {},
     "output_type": "display_data"
    },
    {
     "data": {
      "text/plain": [
       "\"DB: opt gap = 0.1094168590913338\""
      ]
     },
     "metadata": {},
     "output_type": "display_data"
    },
    {
     "data": {
      "text/plain": [
       "\">>>>>> iteration 13:O\""
      ]
     },
     "metadata": {},
     "output_type": "display_data"
    },
    {
     "data": {
      "text/plain": [
       "\"DB: opt gap = 0.10845022413288502\""
      ]
     },
     "metadata": {},
     "output_type": "display_data"
    },
    {
     "data": {
      "text/plain": [
       "\">>>>>> iteration 14:O\""
      ]
     },
     "metadata": {},
     "output_type": "display_data"
    },
    {
     "data": {
      "text/plain": [
       "\"DB: opt gap = 0.10839621177858637\""
      ]
     },
     "metadata": {},
     "output_type": "display_data"
    },
    {
     "data": {
      "text/plain": [
       "\">>>>>> iteration 15:O\""
      ]
     },
     "metadata": {},
     "output_type": "display_data"
    },
    {
     "data": {
      "text/plain": [
       "\"DB: opt gap = 0.10802081138090748\""
      ]
     },
     "metadata": {},
     "output_type": "display_data"
    },
    {
     "data": {
      "text/plain": [
       "\">>>>>> iteration 16:O\""
      ]
     },
     "metadata": {},
     "output_type": "display_data"
    },
    {
     "data": {
      "text/plain": [
       "\"DB: opt gap = 2.4376783068719007e-5\""
      ]
     },
     "metadata": {},
     "output_type": "display_data"
    },
    {
     "data": {
      "text/plain": [
       "\"time M 3.871000051498413 | time D 13.543000936508179\""
      ]
     },
     "metadata": {},
     "output_type": "display_data"
    },
    {
     "data": {
      "text/plain": [
       "\"evaluating 9 scenarios| option 3\""
      ]
     },
     "metadata": {},
     "output_type": "display_data"
    },
    {
     "data": {
      "text/plain": [
       "\"DB: opt gap = 1.0\""
      ]
     },
     "metadata": {},
     "output_type": "display_data"
    },
    {
     "data": {
      "text/plain": [
       "\">>>>>> iteration 1:O\""
      ]
     },
     "metadata": {},
     "output_type": "display_data"
    },
    {
     "data": {
      "text/plain": [
       "\"DB: opt gap = 1.0\""
      ]
     },
     "metadata": {},
     "output_type": "display_data"
    },
    {
     "data": {
      "text/plain": [
       "\">>>>>> iteration 2:O\""
      ]
     },
     "metadata": {},
     "output_type": "display_data"
    },
    {
     "data": {
      "text/plain": [
       "\"DB: opt gap = 1.0\""
      ]
     },
     "metadata": {},
     "output_type": "display_data"
    },
    {
     "data": {
      "text/plain": [
       "\">>>>>> iteration 3:O\""
      ]
     },
     "metadata": {},
     "output_type": "display_data"
    },
    {
     "data": {
      "text/plain": [
       "\"DB: opt gap = 1.0\""
      ]
     },
     "metadata": {},
     "output_type": "display_data"
    },
    {
     "data": {
      "text/plain": [
       "\">>>>>> iteration 4:O\""
      ]
     },
     "metadata": {},
     "output_type": "display_data"
    },
    {
     "data": {
      "text/plain": [
       "\"DB: opt gap = 1.0\""
      ]
     },
     "metadata": {},
     "output_type": "display_data"
    },
    {
     "data": {
      "text/plain": [
       "\">>>>>> iteration 5:O\""
      ]
     },
     "metadata": {},
     "output_type": "display_data"
    },
    {
     "data": {
      "text/plain": [
       "\"DB: opt gap = 1.0\""
      ]
     },
     "metadata": {},
     "output_type": "display_data"
    },
    {
     "data": {
      "text/plain": [
       "\">>>>>> iteration 6:O\""
      ]
     },
     "metadata": {},
     "output_type": "display_data"
    },
    {
     "data": {
      "text/plain": [
       "\"DB: opt gap = 1.0\""
      ]
     },
     "metadata": {},
     "output_type": "display_data"
    },
    {
     "data": {
      "text/plain": [
       "\">>>>>> iteration 7:O\""
      ]
     },
     "metadata": {},
     "output_type": "display_data"
    },
    {
     "data": {
      "text/plain": [
       "\"DB: opt gap = 1.0\""
      ]
     },
     "metadata": {},
     "output_type": "display_data"
    },
    {
     "data": {
      "text/plain": [
       "\">>>>>> iteration 8:O\""
      ]
     },
     "metadata": {},
     "output_type": "display_data"
    },
    {
     "data": {
      "text/plain": [
       "\"DB: opt gap = 0.15651920362837965\""
      ]
     },
     "metadata": {},
     "output_type": "display_data"
    },
    {
     "data": {
      "text/plain": [
       "\">>>>>> iteration 9:O\""
      ]
     },
     "metadata": {},
     "output_type": "display_data"
    },
    {
     "data": {
      "text/plain": [
       "\"DB: opt gap = 0.1558623656493636\""
      ]
     },
     "metadata": {},
     "output_type": "display_data"
    },
    {
     "data": {
      "text/plain": [
       "\">>>>>> iteration 10:O\""
      ]
     },
     "metadata": {},
     "output_type": "display_data"
    },
    {
     "data": {
      "text/plain": [
       "\">>>>>> iteration 11:F\""
      ]
     },
     "metadata": {},
     "output_type": "display_data"
    },
    {
     "data": {
      "text/plain": [
       "\"DB: opt gap = 0.1544418596007338\""
      ]
     },
     "metadata": {},
     "output_type": "display_data"
    },
    {
     "data": {
      "text/plain": [
       "\">>>>>> iteration 12:O\""
      ]
     },
     "metadata": {},
     "output_type": "display_data"
    },
    {
     "data": {
      "text/plain": [
       "\"DB: opt gap = 0.15397992693562013\""
      ]
     },
     "metadata": {},
     "output_type": "display_data"
    },
    {
     "data": {
      "text/plain": [
       "\">>>>>> iteration 13:O\""
      ]
     },
     "metadata": {},
     "output_type": "display_data"
    },
    {
     "data": {
      "text/plain": [
       "\"DB: opt gap = 0.13770487042209767\""
      ]
     },
     "metadata": {},
     "output_type": "display_data"
    },
    {
     "data": {
      "text/plain": [
       "\">>>>>> iteration 14:O\""
      ]
     },
     "metadata": {},
     "output_type": "display_data"
    },
    {
     "data": {
      "text/plain": [
       "\"DB: opt gap = 0.13660468534349843\""
      ]
     },
     "metadata": {},
     "output_type": "display_data"
    },
    {
     "data": {
      "text/plain": [
       "\">>>>>> iteration 15:O\""
      ]
     },
     "metadata": {},
     "output_type": "display_data"
    },
    {
     "data": {
      "text/plain": [
       "\"DB: opt gap = 0.13244086202734934\""
      ]
     },
     "metadata": {},
     "output_type": "display_data"
    },
    {
     "data": {
      "text/plain": [
       "\">>>>>> iteration 16:O\""
      ]
     },
     "metadata": {},
     "output_type": "display_data"
    },
    {
     "data": {
      "text/plain": [
       "\"DB: opt gap = 0.12923110710325209\""
      ]
     },
     "metadata": {},
     "output_type": "display_data"
    },
    {
     "data": {
      "text/plain": [
       "\">>>>>> iteration 17:O\""
      ]
     },
     "metadata": {},
     "output_type": "display_data"
    },
    {
     "data": {
      "text/plain": [
       "\"DB: opt gap = 0.000651117487365091\""
      ]
     },
     "metadata": {},
     "output_type": "display_data"
    },
    {
     "data": {
      "text/plain": [
       "\"time M 3.6500000953674316 | time D 15.144001007080078\""
      ]
     },
     "metadata": {},
     "output_type": "display_data"
    },
    {
     "data": {
      "text/plain": [
       "\"evaluating 10 scenarios| option 3\""
      ]
     },
     "metadata": {},
     "output_type": "display_data"
    },
    {
     "data": {
      "text/plain": [
       "\"DB: opt gap = 1.0\""
      ]
     },
     "metadata": {},
     "output_type": "display_data"
    },
    {
     "data": {
      "text/plain": [
       "\">>>>>> iteration 1:O\""
      ]
     },
     "metadata": {},
     "output_type": "display_data"
    },
    {
     "data": {
      "text/plain": [
       "\"DB: opt gap = 1.0\""
      ]
     },
     "metadata": {},
     "output_type": "display_data"
    },
    {
     "data": {
      "text/plain": [
       "\">>>>>> iteration 2:O\""
      ]
     },
     "metadata": {},
     "output_type": "display_data"
    },
    {
     "data": {
      "text/plain": [
       "\"DB: opt gap = 1.0\""
      ]
     },
     "metadata": {},
     "output_type": "display_data"
    },
    {
     "data": {
      "text/plain": [
       "\">>>>>> iteration 3:O\""
      ]
     },
     "metadata": {},
     "output_type": "display_data"
    },
    {
     "data": {
      "text/plain": [
       "\"DB: opt gap = 1.0\""
      ]
     },
     "metadata": {},
     "output_type": "display_data"
    },
    {
     "data": {
      "text/plain": [
       "\">>>>>> iteration 4:O\""
      ]
     },
     "metadata": {},
     "output_type": "display_data"
    },
    {
     "data": {
      "text/plain": [
       "\"DB: opt gap = 1.0\""
      ]
     },
     "metadata": {},
     "output_type": "display_data"
    },
    {
     "data": {
      "text/plain": [
       "\">>>>>> iteration 5:O\""
      ]
     },
     "metadata": {},
     "output_type": "display_data"
    },
    {
     "data": {
      "text/plain": [
       "\"DB: opt gap = 1.0\""
      ]
     },
     "metadata": {},
     "output_type": "display_data"
    },
    {
     "data": {
      "text/plain": [
       "\">>>>>> iteration 6:O\""
      ]
     },
     "metadata": {},
     "output_type": "display_data"
    },
    {
     "data": {
      "text/plain": [
       "\"DB: opt gap = 1.0\""
      ]
     },
     "metadata": {},
     "output_type": "display_data"
    },
    {
     "data": {
      "text/plain": [
       "\">>>>>> iteration 7:O\""
      ]
     },
     "metadata": {},
     "output_type": "display_data"
    },
    {
     "data": {
      "text/plain": [
       "\"DB: opt gap = 1.0\""
      ]
     },
     "metadata": {},
     "output_type": "display_data"
    },
    {
     "data": {
      "text/plain": [
       "\">>>>>> iteration 8:O\""
      ]
     },
     "metadata": {},
     "output_type": "display_data"
    },
    {
     "data": {
      "text/plain": [
       "\"DB: opt gap = 1.0\""
      ]
     },
     "metadata": {},
     "output_type": "display_data"
    },
    {
     "data": {
      "text/plain": [
       "\">>>>>> iteration 9:O\""
      ]
     },
     "metadata": {},
     "output_type": "display_data"
    },
    {
     "data": {
      "text/plain": [
       "\"DB: opt gap = 0.11404106290259337\""
      ]
     },
     "metadata": {},
     "output_type": "display_data"
    },
    {
     "data": {
      "text/plain": [
       "\">>>>>> iteration 10:O\""
      ]
     },
     "metadata": {},
     "output_type": "display_data"
    },
    {
     "data": {
      "text/plain": [
       "\"DB: opt gap = 0.11363045914698727\""
      ]
     },
     "metadata": {},
     "output_type": "display_data"
    },
    {
     "data": {
      "text/plain": [
       "\">>>>>> iteration 11:O\""
      ]
     },
     "metadata": {},
     "output_type": "display_data"
    },
    {
     "data": {
      "text/plain": [
       "\"DB: opt gap = 0.11288582264010749\""
      ]
     },
     "metadata": {},
     "output_type": "display_data"
    },
    {
     "data": {
      "text/plain": [
       "\">>>>>> iteration 12:O\""
      ]
     },
     "metadata": {},
     "output_type": "display_data"
    },
    {
     "data": {
      "text/plain": [
       "\"DB: opt gap = 0.1113688429501789\""
      ]
     },
     "metadata": {},
     "output_type": "display_data"
    },
    {
     "data": {
      "text/plain": [
       "\">>>>>> iteration 13:O\""
      ]
     },
     "metadata": {},
     "output_type": "display_data"
    },
    {
     "data": {
      "text/plain": [
       "\"DB: opt gap = 0.1110454188880927\""
      ]
     },
     "metadata": {},
     "output_type": "display_data"
    },
    {
     "data": {
      "text/plain": [
       "\">>>>>> iteration 14:O\""
      ]
     },
     "metadata": {},
     "output_type": "display_data"
    },
    {
     "data": {
      "text/plain": [
       "\">>>>>> iteration 15:F\""
      ]
     },
     "metadata": {},
     "output_type": "display_data"
    },
    {
     "data": {
      "text/plain": [
       "\"DB: opt gap = 0.11046885997914922\""
      ]
     },
     "metadata": {},
     "output_type": "display_data"
    },
    {
     "data": {
      "text/plain": [
       "\">>>>>> iteration 16:O\""
      ]
     },
     "metadata": {},
     "output_type": "display_data"
    },
    {
     "data": {
      "text/plain": [
       "\"DB: opt gap = 0.10693075600245491\""
      ]
     },
     "metadata": {},
     "output_type": "display_data"
    },
    {
     "data": {
      "text/plain": [
       "\">>>>>> iteration 17:O\""
      ]
     },
     "metadata": {},
     "output_type": "display_data"
    },
    {
     "data": {
      "text/plain": [
       "\"DB: opt gap = 0.10635263298877971\""
      ]
     },
     "metadata": {},
     "output_type": "display_data"
    },
    {
     "data": {
      "text/plain": [
       "\">>>>>> iteration 18:O\""
      ]
     },
     "metadata": {},
     "output_type": "display_data"
    },
    {
     "data": {
      "text/plain": [
       "\"DB: opt gap = 0.10554066783019761\""
      ]
     },
     "metadata": {},
     "output_type": "display_data"
    },
    {
     "data": {
      "text/plain": [
       "\">>>>>> iteration 19:O\""
      ]
     },
     "metadata": {},
     "output_type": "display_data"
    },
    {
     "data": {
      "text/plain": [
       "\"DB: opt gap = 8.96678965529611e-5\""
      ]
     },
     "metadata": {},
     "output_type": "display_data"
    },
    {
     "data": {
      "text/plain": [
       "\"time M 5.578000068664551 | time D 17.350999116897583\""
      ]
     },
     "metadata": {},
     "output_type": "display_data"
    },
    {
     "data": {
      "text/plain": [
       "\"evaluating 11 scenarios| option 3\""
      ]
     },
     "metadata": {},
     "output_type": "display_data"
    },
    {
     "data": {
      "text/plain": [
       "\"DB: opt gap = 1.0\""
      ]
     },
     "metadata": {},
     "output_type": "display_data"
    },
    {
     "data": {
      "text/plain": [
       "\">>>>>> iteration 1:O\""
      ]
     },
     "metadata": {},
     "output_type": "display_data"
    },
    {
     "data": {
      "text/plain": [
       "\"DB: opt gap = 1.0\""
      ]
     },
     "metadata": {},
     "output_type": "display_data"
    },
    {
     "data": {
      "text/plain": [
       "\">>>>>> iteration 2:O\""
      ]
     },
     "metadata": {},
     "output_type": "display_data"
    },
    {
     "data": {
      "text/plain": [
       "\"DB: opt gap = 1.0\""
      ]
     },
     "metadata": {},
     "output_type": "display_data"
    },
    {
     "data": {
      "text/plain": [
       "\">>>>>> iteration 3:O\""
      ]
     },
     "metadata": {},
     "output_type": "display_data"
    },
    {
     "data": {
      "text/plain": [
       "\"DB: opt gap = 1.0\""
      ]
     },
     "metadata": {},
     "output_type": "display_data"
    },
    {
     "data": {
      "text/plain": [
       "\">>>>>> iteration 4:O\""
      ]
     },
     "metadata": {},
     "output_type": "display_data"
    },
    {
     "data": {
      "text/plain": [
       "\"DB: opt gap = 1.0\""
      ]
     },
     "metadata": {},
     "output_type": "display_data"
    },
    {
     "data": {
      "text/plain": [
       "\">>>>>> iteration 5:O\""
      ]
     },
     "metadata": {},
     "output_type": "display_data"
    },
    {
     "data": {
      "text/plain": [
       "\"DB: opt gap = 1.0\""
      ]
     },
     "metadata": {},
     "output_type": "display_data"
    },
    {
     "data": {
      "text/plain": [
       "\">>>>>> iteration 6:O\""
      ]
     },
     "metadata": {},
     "output_type": "display_data"
    },
    {
     "data": {
      "text/plain": [
       "\"DB: opt gap = 1.0\""
      ]
     },
     "metadata": {},
     "output_type": "display_data"
    },
    {
     "data": {
      "text/plain": [
       "\">>>>>> iteration 7:O\""
      ]
     },
     "metadata": {},
     "output_type": "display_data"
    },
    {
     "data": {
      "text/plain": [
       "\"DB: opt gap = 1.0\""
      ]
     },
     "metadata": {},
     "output_type": "display_data"
    },
    {
     "data": {
      "text/plain": [
       "\">>>>>> iteration 8:O\""
      ]
     },
     "metadata": {},
     "output_type": "display_data"
    },
    {
     "data": {
      "text/plain": [
       "\"DB: opt gap = 1.0\""
      ]
     },
     "metadata": {},
     "output_type": "display_data"
    },
    {
     "data": {
      "text/plain": [
       "\">>>>>> iteration 9:O\""
      ]
     },
     "metadata": {},
     "output_type": "display_data"
    },
    {
     "data": {
      "text/plain": [
       "\"DB: opt gap = 1.0\""
      ]
     },
     "metadata": {},
     "output_type": "display_data"
    },
    {
     "data": {
      "text/plain": [
       "\">>>>>> iteration 10:O\""
      ]
     },
     "metadata": {},
     "output_type": "display_data"
    },
    {
     "data": {
      "text/plain": [
       "\"DB: opt gap = 1.0\""
      ]
     },
     "metadata": {},
     "output_type": "display_data"
    },
    {
     "data": {
      "text/plain": [
       "\">>>>>> iteration 11:O\""
      ]
     },
     "metadata": {},
     "output_type": "display_data"
    },
    {
     "data": {
      "text/plain": [
       "\"DB: opt gap = 1.0\""
      ]
     },
     "metadata": {},
     "output_type": "display_data"
    },
    {
     "data": {
      "text/plain": [
       "\">>>>>> iteration 12:O\""
      ]
     },
     "metadata": {},
     "output_type": "display_data"
    },
    {
     "data": {
      "text/plain": [
       "\"DB: opt gap = 1.0\""
      ]
     },
     "metadata": {},
     "output_type": "display_data"
    },
    {
     "data": {
      "text/plain": [
       "\">>>>>> iteration 13:O\""
      ]
     },
     "metadata": {},
     "output_type": "display_data"
    },
    {
     "data": {
      "text/plain": [
       "\"DB: opt gap = 0.0936956103824184\""
      ]
     },
     "metadata": {},
     "output_type": "display_data"
    },
    {
     "data": {
      "text/plain": [
       "\">>>>>> iteration 14:O\""
      ]
     },
     "metadata": {},
     "output_type": "display_data"
    },
    {
     "data": {
      "text/plain": [
       "\"DB: opt gap = 0.09345546585508226\""
      ]
     },
     "metadata": {},
     "output_type": "display_data"
    },
    {
     "data": {
      "text/plain": [
       "\">>>>>> iteration 15:O\""
      ]
     },
     "metadata": {},
     "output_type": "display_data"
    },
    {
     "data": {
      "text/plain": [
       "\"DB: opt gap = 0.0927863628008627\""
      ]
     },
     "metadata": {},
     "output_type": "display_data"
    },
    {
     "data": {
      "text/plain": [
       "\">>>>>> iteration 16:O\""
      ]
     },
     "metadata": {},
     "output_type": "display_data"
    },
    {
     "data": {
      "text/plain": [
       "\"DB: opt gap = 0.09255193396160763\""
      ]
     },
     "metadata": {},
     "output_type": "display_data"
    },
    {
     "data": {
      "text/plain": [
       "\">>>>>> iteration 17:O\""
      ]
     },
     "metadata": {},
     "output_type": "display_data"
    },
    {
     "data": {
      "text/plain": [
       "\"DB: opt gap = 0.09209200320845887\""
      ]
     },
     "metadata": {},
     "output_type": "display_data"
    },
    {
     "data": {
      "text/plain": [
       "\">>>>>> iteration 18:O\""
      ]
     },
     "metadata": {},
     "output_type": "display_data"
    },
    {
     "data": {
      "text/plain": [
       "\"DB: opt gap = 0.09186303207489568\""
      ]
     },
     "metadata": {},
     "output_type": "display_data"
    },
    {
     "data": {
      "text/plain": [
       "\">>>>>> iteration 19:O\""
      ]
     },
     "metadata": {},
     "output_type": "display_data"
    },
    {
     "data": {
      "text/plain": [
       "\"DB: opt gap = 0.09153961989836269\""
      ]
     },
     "metadata": {},
     "output_type": "display_data"
    },
    {
     "data": {
      "text/plain": [
       "\">>>>>> iteration 20:O\""
      ]
     },
     "metadata": {},
     "output_type": "display_data"
    },
    {
     "data": {
      "text/plain": [
       "\"DB: opt gap = 6.124685510070119e-6\""
      ]
     },
     "metadata": {},
     "output_type": "display_data"
    },
    {
     "data": {
      "text/plain": [
       "\"time M 4.67300009727478 | time D 20.755000114440918\""
      ]
     },
     "metadata": {},
     "output_type": "display_data"
    },
    {
     "data": {
      "text/plain": [
       "\"evaluating 12 scenarios| option 3\""
      ]
     },
     "metadata": {},
     "output_type": "display_data"
    },
    {
     "data": {
      "text/plain": [
       "\"DB: opt gap = 1.0\""
      ]
     },
     "metadata": {},
     "output_type": "display_data"
    },
    {
     "data": {
      "text/plain": [
       "\">>>>>> iteration 1:O\""
      ]
     },
     "metadata": {},
     "output_type": "display_data"
    },
    {
     "data": {
      "text/plain": [
       "\"DB: opt gap = 1.0\""
      ]
     },
     "metadata": {},
     "output_type": "display_data"
    },
    {
     "data": {
      "text/plain": [
       "\">>>>>> iteration 2:O\""
      ]
     },
     "metadata": {},
     "output_type": "display_data"
    },
    {
     "data": {
      "text/plain": [
       "\"DB: opt gap = 1.0\""
      ]
     },
     "metadata": {},
     "output_type": "display_data"
    },
    {
     "data": {
      "text/plain": [
       "\">>>>>> iteration 3:O\""
      ]
     },
     "metadata": {},
     "output_type": "display_data"
    },
    {
     "data": {
      "text/plain": [
       "\"DB: opt gap = 1.0\""
      ]
     },
     "metadata": {},
     "output_type": "display_data"
    },
    {
     "data": {
      "text/plain": [
       "\">>>>>> iteration 4:O\""
      ]
     },
     "metadata": {},
     "output_type": "display_data"
    },
    {
     "data": {
      "text/plain": [
       "\"DB: opt gap = 1.0\""
      ]
     },
     "metadata": {},
     "output_type": "display_data"
    },
    {
     "data": {
      "text/plain": [
       "\">>>>>> iteration 5:O\""
      ]
     },
     "metadata": {},
     "output_type": "display_data"
    },
    {
     "data": {
      "text/plain": [
       "\"DB: opt gap = 1.0\""
      ]
     },
     "metadata": {},
     "output_type": "display_data"
    },
    {
     "data": {
      "text/plain": [
       "\">>>>>> iteration 6:O\""
      ]
     },
     "metadata": {},
     "output_type": "display_data"
    },
    {
     "data": {
      "text/plain": [
       "\"DB: opt gap = 1.0\""
      ]
     },
     "metadata": {},
     "output_type": "display_data"
    },
    {
     "data": {
      "text/plain": [
       "\">>>>>> iteration 7:O\""
      ]
     },
     "metadata": {},
     "output_type": "display_data"
    },
    {
     "data": {
      "text/plain": [
       "\"DB: opt gap = 1.0\""
      ]
     },
     "metadata": {},
     "output_type": "display_data"
    },
    {
     "data": {
      "text/plain": [
       "\">>>>>> iteration 8:O\""
      ]
     },
     "metadata": {},
     "output_type": "display_data"
    },
    {
     "data": {
      "text/plain": [
       "\"DB: opt gap = 1.0\""
      ]
     },
     "metadata": {},
     "output_type": "display_data"
    },
    {
     "data": {
      "text/plain": [
       "\">>>>>> iteration 9:O\""
      ]
     },
     "metadata": {},
     "output_type": "display_data"
    },
    {
     "data": {
      "text/plain": [
       "\"DB: opt gap = 0.16239245383711037\""
      ]
     },
     "metadata": {},
     "output_type": "display_data"
    },
    {
     "data": {
      "text/plain": [
       "\">>>>>> iteration 10:O\""
      ]
     },
     "metadata": {},
     "output_type": "display_data"
    },
    {
     "data": {
      "text/plain": [
       "\"DB: opt gap = 0.1619148620351932\""
      ]
     },
     "metadata": {},
     "output_type": "display_data"
    },
    {
     "data": {
      "text/plain": [
       "\">>>>>> iteration 11:O\""
      ]
     },
     "metadata": {},
     "output_type": "display_data"
    },
    {
     "data": {
      "text/plain": [
       "\"DB: opt gap = 0.1606466439279582\""
      ]
     },
     "metadata": {},
     "output_type": "display_data"
    },
    {
     "data": {
      "text/plain": [
       "\">>>>>> iteration 12:O\""
      ]
     },
     "metadata": {},
     "output_type": "display_data"
    },
    {
     "data": {
      "text/plain": [
       "\"DB: opt gap = 0.16018015428778487\""
      ]
     },
     "metadata": {},
     "output_type": "display_data"
    },
    {
     "data": {
      "text/plain": [
       "\">>>>>> iteration 13:O\""
      ]
     },
     "metadata": {},
     "output_type": "display_data"
    },
    {
     "data": {
      "text/plain": [
       "\"DB: opt gap = 0.1589269761186901\""
      ]
     },
     "metadata": {},
     "output_type": "display_data"
    },
    {
     "data": {
      "text/plain": [
       "\">>>>>> iteration 14:O\""
      ]
     },
     "metadata": {},
     "output_type": "display_data"
    },
    {
     "data": {
      "text/plain": [
       "\"DB: opt gap = 0.15840206165615567\""
      ]
     },
     "metadata": {},
     "output_type": "display_data"
    },
    {
     "data": {
      "text/plain": [
       "\">>>>>> iteration 15:O\""
      ]
     },
     "metadata": {},
     "output_type": "display_data"
    },
    {
     "data": {
      "text/plain": [
       "\"DB: opt gap = 0.15757235118291488\""
      ]
     },
     "metadata": {},
     "output_type": "display_data"
    },
    {
     "data": {
      "text/plain": [
       "\">>>>>> iteration 16:O\""
      ]
     },
     "metadata": {},
     "output_type": "display_data"
    },
    {
     "data": {
      "text/plain": [
       "\"DB: opt gap = 0.15735866648129995\""
      ]
     },
     "metadata": {},
     "output_type": "display_data"
    },
    {
     "data": {
      "text/plain": [
       "\">>>>>> iteration 17:O\""
      ]
     },
     "metadata": {},
     "output_type": "display_data"
    },
    {
     "data": {
      "text/plain": [
       "\"DB: opt gap = 2.2632530375621676e-5\""
      ]
     },
     "metadata": {},
     "output_type": "display_data"
    },
    {
     "data": {
      "text/plain": [
       "\"time M 6.541000127792358 | time D 21.468998670578003\""
      ]
     },
     "metadata": {},
     "output_type": "display_data"
    },
    {
     "data": {
      "text/plain": [
       "\"evaluating 13 scenarios| option 3\""
      ]
     },
     "metadata": {},
     "output_type": "display_data"
    },
    {
     "data": {
      "text/plain": [
       "\"DB: opt gap = 1.0\""
      ]
     },
     "metadata": {},
     "output_type": "display_data"
    },
    {
     "data": {
      "text/plain": [
       "\">>>>>> iteration 1:O\""
      ]
     },
     "metadata": {},
     "output_type": "display_data"
    },
    {
     "data": {
      "text/plain": [
       "\"DB: opt gap = 1.0\""
      ]
     },
     "metadata": {},
     "output_type": "display_data"
    },
    {
     "data": {
      "text/plain": [
       "\">>>>>> iteration 2:O\""
      ]
     },
     "metadata": {},
     "output_type": "display_data"
    },
    {
     "data": {
      "text/plain": [
       "\"DB: opt gap = 1.0\""
      ]
     },
     "metadata": {},
     "output_type": "display_data"
    },
    {
     "data": {
      "text/plain": [
       "\">>>>>> iteration 3:O\""
      ]
     },
     "metadata": {},
     "output_type": "display_data"
    },
    {
     "data": {
      "text/plain": [
       "\"DB: opt gap = 1.0\""
      ]
     },
     "metadata": {},
     "output_type": "display_data"
    },
    {
     "data": {
      "text/plain": [
       "\">>>>>> iteration 4:O\""
      ]
     },
     "metadata": {},
     "output_type": "display_data"
    },
    {
     "data": {
      "text/plain": [
       "\"DB: opt gap = 1.0\""
      ]
     },
     "metadata": {},
     "output_type": "display_data"
    },
    {
     "data": {
      "text/plain": [
       "\">>>>>> iteration 5:O\""
      ]
     },
     "metadata": {},
     "output_type": "display_data"
    },
    {
     "data": {
      "text/plain": [
       "\"DB: opt gap = 1.0\""
      ]
     },
     "metadata": {},
     "output_type": "display_data"
    },
    {
     "data": {
      "text/plain": [
       "\">>>>>> iteration 6:O\""
      ]
     },
     "metadata": {},
     "output_type": "display_data"
    },
    {
     "data": {
      "text/plain": [
       "\"DB: opt gap = 1.0\""
      ]
     },
     "metadata": {},
     "output_type": "display_data"
    },
    {
     "data": {
      "text/plain": [
       "\">>>>>> iteration 7:O\""
      ]
     },
     "metadata": {},
     "output_type": "display_data"
    },
    {
     "data": {
      "text/plain": [
       "\"DB: opt gap = 1.0\""
      ]
     },
     "metadata": {},
     "output_type": "display_data"
    },
    {
     "data": {
      "text/plain": [
       "\">>>>>> iteration 8:O\""
      ]
     },
     "metadata": {},
     "output_type": "display_data"
    },
    {
     "data": {
      "text/plain": [
       "\"DB: opt gap = 1.0\""
      ]
     },
     "metadata": {},
     "output_type": "display_data"
    },
    {
     "data": {
      "text/plain": [
       "\">>>>>> iteration 9:O\""
      ]
     },
     "metadata": {},
     "output_type": "display_data"
    },
    {
     "data": {
      "text/plain": [
       "\"DB: opt gap = 0.1282303884776253\""
      ]
     },
     "metadata": {},
     "output_type": "display_data"
    },
    {
     "data": {
      "text/plain": [
       "\">>>>>> iteration 10:O\""
      ]
     },
     "metadata": {},
     "output_type": "display_data"
    },
    {
     "data": {
      "text/plain": [
       "\"DB: opt gap = 0.12795239556421867\""
      ]
     },
     "metadata": {},
     "output_type": "display_data"
    },
    {
     "data": {
      "text/plain": [
       "\">>>>>> iteration 11:O\""
      ]
     },
     "metadata": {},
     "output_type": "display_data"
    },
    {
     "data": {
      "text/plain": [
       "\"DB: opt gap = 0.1272325817293586\""
      ]
     },
     "metadata": {},
     "output_type": "display_data"
    },
    {
     "data": {
      "text/plain": [
       "\">>>>>> iteration 12:O\""
      ]
     },
     "metadata": {},
     "output_type": "display_data"
    },
    {
     "data": {
      "text/plain": [
       "\"DB: opt gap = 0.12694370796860133\""
      ]
     },
     "metadata": {},
     "output_type": "display_data"
    },
    {
     "data": {
      "text/plain": [
       "\">>>>>> iteration 13:O\""
      ]
     },
     "metadata": {},
     "output_type": "display_data"
    },
    {
     "data": {
      "text/plain": [
       "\">>>>>> iteration 14:F\""
      ]
     },
     "metadata": {},
     "output_type": "display_data"
    },
    {
     "data": {
      "text/plain": [
       "\"DB: opt gap = 0.12644201932120758\""
      ]
     },
     "metadata": {},
     "output_type": "display_data"
    },
    {
     "data": {
      "text/plain": [
       "\">>>>>> iteration 15:O\""
      ]
     },
     "metadata": {},
     "output_type": "display_data"
    },
    {
     "data": {
      "text/plain": [
       "\"DB: opt gap = 0.12381834772844279\""
      ]
     },
     "metadata": {},
     "output_type": "display_data"
    },
    {
     "data": {
      "text/plain": [
       "\">>>>>> iteration 16:O\""
      ]
     },
     "metadata": {},
     "output_type": "display_data"
    },
    {
     "data": {
      "text/plain": [
       "\"DB: opt gap = 0.12265206313959928\""
      ]
     },
     "metadata": {},
     "output_type": "display_data"
    },
    {
     "data": {
      "text/plain": [
       "\">>>>>> iteration 17:O\""
      ]
     },
     "metadata": {},
     "output_type": "display_data"
    },
    {
     "data": {
      "text/plain": [
       "\"DB: opt gap = 0.12281766811035018\""
      ]
     },
     "metadata": {},
     "output_type": "display_data"
    },
    {
     "data": {
      "text/plain": [
       "\">>>>>> iteration 18:O\""
      ]
     },
     "metadata": {},
     "output_type": "display_data"
    },
    {
     "data": {
      "text/plain": [
       "\"DB: opt gap = 0.12183689546760561\""
      ]
     },
     "metadata": {},
     "output_type": "display_data"
    },
    {
     "data": {
      "text/plain": [
       "\">>>>>> iteration 19:O\""
      ]
     },
     "metadata": {},
     "output_type": "display_data"
    },
    {
     "data": {
      "text/plain": [
       "\"DB: opt gap = 4.238493168652113e-5\""
      ]
     },
     "metadata": {},
     "output_type": "display_data"
    },
    {
     "data": {
      "text/plain": [
       "\"time M 7.990000009536743 | time D 23.626999378204346\""
      ]
     },
     "metadata": {},
     "output_type": "display_data"
    },
    {
     "data": {
      "text/plain": [
       "\"evaluating 14 scenarios| option 3\""
      ]
     },
     "metadata": {},
     "output_type": "display_data"
    },
    {
     "data": {
      "text/plain": [
       "\"DB: opt gap = 1.0\""
      ]
     },
     "metadata": {},
     "output_type": "display_data"
    },
    {
     "data": {
      "text/plain": [
       "\">>>>>> iteration 1:O\""
      ]
     },
     "metadata": {},
     "output_type": "display_data"
    },
    {
     "data": {
      "text/plain": [
       "\"DB: opt gap = 1.0\""
      ]
     },
     "metadata": {},
     "output_type": "display_data"
    },
    {
     "data": {
      "text/plain": [
       "\">>>>>> iteration 2:O\""
      ]
     },
     "metadata": {},
     "output_type": "display_data"
    },
    {
     "data": {
      "text/plain": [
       "\"DB: opt gap = 1.0\""
      ]
     },
     "metadata": {},
     "output_type": "display_data"
    },
    {
     "data": {
      "text/plain": [
       "\">>>>>> iteration 3:O\""
      ]
     },
     "metadata": {},
     "output_type": "display_data"
    },
    {
     "data": {
      "text/plain": [
       "\"DB: opt gap = 1.0\""
      ]
     },
     "metadata": {},
     "output_type": "display_data"
    },
    {
     "data": {
      "text/plain": [
       "\">>>>>> iteration 4:O\""
      ]
     },
     "metadata": {},
     "output_type": "display_data"
    },
    {
     "data": {
      "text/plain": [
       "\"DB: opt gap = 1.0\""
      ]
     },
     "metadata": {},
     "output_type": "display_data"
    },
    {
     "data": {
      "text/plain": [
       "\">>>>>> iteration 5:O\""
      ]
     },
     "metadata": {},
     "output_type": "display_data"
    },
    {
     "data": {
      "text/plain": [
       "\"DB: opt gap = 1.0\""
      ]
     },
     "metadata": {},
     "output_type": "display_data"
    },
    {
     "data": {
      "text/plain": [
       "\">>>>>> iteration 6:O\""
      ]
     },
     "metadata": {},
     "output_type": "display_data"
    },
    {
     "data": {
      "text/plain": [
       "\"DB: opt gap = 1.0\""
      ]
     },
     "metadata": {},
     "output_type": "display_data"
    },
    {
     "data": {
      "text/plain": [
       "\">>>>>> iteration 7:O\""
      ]
     },
     "metadata": {},
     "output_type": "display_data"
    },
    {
     "data": {
      "text/plain": [
       "\"DB: opt gap = 1.0\""
      ]
     },
     "metadata": {},
     "output_type": "display_data"
    },
    {
     "data": {
      "text/plain": [
       "\">>>>>> iteration 8:O\""
      ]
     },
     "metadata": {},
     "output_type": "display_data"
    },
    {
     "data": {
      "text/plain": [
       "\"DB: opt gap = 1.0\""
      ]
     },
     "metadata": {},
     "output_type": "display_data"
    },
    {
     "data": {
      "text/plain": [
       "\">>>>>> iteration 9:O\""
      ]
     },
     "metadata": {},
     "output_type": "display_data"
    },
    {
     "data": {
      "text/plain": [
       "\"DB: opt gap = 1.0\""
      ]
     },
     "metadata": {},
     "output_type": "display_data"
    },
    {
     "data": {
      "text/plain": [
       "\">>>>>> iteration 10:O\""
      ]
     },
     "metadata": {},
     "output_type": "display_data"
    },
    {
     "data": {
      "text/plain": [
       "\"DB: opt gap = 0.12504068754036032\""
      ]
     },
     "metadata": {},
     "output_type": "display_data"
    },
    {
     "data": {
      "text/plain": [
       "\">>>>>> iteration 11:O\""
      ]
     },
     "metadata": {},
     "output_type": "display_data"
    },
    {
     "data": {
      "text/plain": [
       "\"DB: opt gap = 0.12475095595338623\""
      ]
     },
     "metadata": {},
     "output_type": "display_data"
    },
    {
     "data": {
      "text/plain": [
       "\">>>>>> iteration 12:O\""
      ]
     },
     "metadata": {},
     "output_type": "display_data"
    },
    {
     "data": {
      "text/plain": [
       "\"DB: opt gap = 0.12415355950976863\""
      ]
     },
     "metadata": {},
     "output_type": "display_data"
    },
    {
     "data": {
      "text/plain": [
       "\">>>>>> iteration 13:O\""
      ]
     },
     "metadata": {},
     "output_type": "display_data"
    },
    {
     "data": {
      "text/plain": [
       "\">>>>>> iteration 14:F\""
      ]
     },
     "metadata": {},
     "output_type": "display_data"
    },
    {
     "data": {
      "text/plain": [
       "\"DB: opt gap = 0.12333648058177327\""
      ]
     },
     "metadata": {},
     "output_type": "display_data"
    },
    {
     "data": {
      "text/plain": [
       "\">>>>>> iteration 15:O\""
      ]
     },
     "metadata": {},
     "output_type": "display_data"
    },
    {
     "data": {
      "text/plain": [
       "\"DB: opt gap = 0.12287780427984851\""
      ]
     },
     "metadata": {},
     "output_type": "display_data"
    },
    {
     "data": {
      "text/plain": [
       "\">>>>>> iteration 16:O\""
      ]
     },
     "metadata": {},
     "output_type": "display_data"
    },
    {
     "data": {
      "text/plain": [
       "\"DB: opt gap = 0.12243298897686787\""
      ]
     },
     "metadata": {},
     "output_type": "display_data"
    },
    {
     "data": {
      "text/plain": [
       "\">>>>>> iteration 17:O\""
      ]
     },
     "metadata": {},
     "output_type": "display_data"
    },
    {
     "data": {
      "text/plain": [
       "\"DB: opt gap = 0.12113296544393332\""
      ]
     },
     "metadata": {},
     "output_type": "display_data"
    },
    {
     "data": {
      "text/plain": [
       "\">>>>>> iteration 18:O\""
      ]
     },
     "metadata": {},
     "output_type": "display_data"
    },
    {
     "data": {
      "text/plain": [
       "\"DB: opt gap = 0.12042153093934937\""
      ]
     },
     "metadata": {},
     "output_type": "display_data"
    },
    {
     "data": {
      "text/plain": [
       "\">>>>>> iteration 19:O\""
      ]
     },
     "metadata": {},
     "output_type": "display_data"
    },
    {
     "data": {
      "text/plain": [
       "\"DB: opt gap = 0.12017038392169654\""
      ]
     },
     "metadata": {},
     "output_type": "display_data"
    },
    {
     "data": {
      "text/plain": [
       "\">>>>>> iteration 20:O\""
      ]
     },
     "metadata": {},
     "output_type": "display_data"
    },
    {
     "data": {
      "text/plain": [
       "\"DB: opt gap = 0.11948319245906379\""
      ]
     },
     "metadata": {},
     "output_type": "display_data"
    },
    {
     "data": {
      "text/plain": [
       "\">>>>>> iteration 21:O\""
      ]
     },
     "metadata": {},
     "output_type": "display_data"
    },
    {
     "data": {
      "text/plain": [
       "\"DB: opt gap = 2.8537116672747826e-5\""
      ]
     },
     "metadata": {},
     "output_type": "display_data"
    },
    {
     "data": {
      "text/plain": [
       "\"time M 8.799999952316284 | time D 27.125001668930054\""
      ]
     },
     "metadata": {},
     "output_type": "display_data"
    },
    {
     "data": {
      "text/plain": [
       "\"evaluating 15 scenarios| option 3\""
      ]
     },
     "metadata": {},
     "output_type": "display_data"
    },
    {
     "data": {
      "text/plain": [
       "\"DB: opt gap = 1.0\""
      ]
     },
     "metadata": {},
     "output_type": "display_data"
    },
    {
     "data": {
      "text/plain": [
       "\">>>>>> iteration 1:O\""
      ]
     },
     "metadata": {},
     "output_type": "display_data"
    },
    {
     "data": {
      "text/plain": [
       "\"DB: opt gap = 1.0\""
      ]
     },
     "metadata": {},
     "output_type": "display_data"
    },
    {
     "data": {
      "text/plain": [
       "\">>>>>> iteration 2:O\""
      ]
     },
     "metadata": {},
     "output_type": "display_data"
    },
    {
     "data": {
      "text/plain": [
       "\"DB: opt gap = 1.0\""
      ]
     },
     "metadata": {},
     "output_type": "display_data"
    },
    {
     "data": {
      "text/plain": [
       "\">>>>>> iteration 3:O\""
      ]
     },
     "metadata": {},
     "output_type": "display_data"
    },
    {
     "data": {
      "text/plain": [
       "\"DB: opt gap = 1.0\""
      ]
     },
     "metadata": {},
     "output_type": "display_data"
    },
    {
     "data": {
      "text/plain": [
       "\">>>>>> iteration 4:O\""
      ]
     },
     "metadata": {},
     "output_type": "display_data"
    },
    {
     "data": {
      "text/plain": [
       "\"DB: opt gap = 1.0\""
      ]
     },
     "metadata": {},
     "output_type": "display_data"
    },
    {
     "data": {
      "text/plain": [
       "\">>>>>> iteration 5:O\""
      ]
     },
     "metadata": {},
     "output_type": "display_data"
    },
    {
     "data": {
      "text/plain": [
       "\"DB: opt gap = 1.0\""
      ]
     },
     "metadata": {},
     "output_type": "display_data"
    },
    {
     "data": {
      "text/plain": [
       "\">>>>>> iteration 6:O\""
      ]
     },
     "metadata": {},
     "output_type": "display_data"
    },
    {
     "data": {
      "text/plain": [
       "\"DB: opt gap = 0.15729602453732447\""
      ]
     },
     "metadata": {},
     "output_type": "display_data"
    },
    {
     "data": {
      "text/plain": [
       "\">>>>>> iteration 7:O\""
      ]
     },
     "metadata": {},
     "output_type": "display_data"
    },
    {
     "data": {
      "text/plain": [
       "\"DB: opt gap = 0.15699706315907802\""
      ]
     },
     "metadata": {},
     "output_type": "display_data"
    },
    {
     "data": {
      "text/plain": [
       "\">>>>>> iteration 8:O\""
      ]
     },
     "metadata": {},
     "output_type": "display_data"
    },
    {
     "data": {
      "text/plain": [
       "\"DB: opt gap = 0.15630266715363972\""
      ]
     },
     "metadata": {},
     "output_type": "display_data"
    },
    {
     "data": {
      "text/plain": [
       "\">>>>>> iteration 9:O\""
      ]
     },
     "metadata": {},
     "output_type": "display_data"
    },
    {
     "data": {
      "text/plain": [
       "\"DB: opt gap = 0.15600862750769515\""
      ]
     },
     "metadata": {},
     "output_type": "display_data"
    },
    {
     "data": {
      "text/plain": [
       "\">>>>>> iteration 10:O\""
      ]
     },
     "metadata": {},
     "output_type": "display_data"
    },
    {
     "data": {
      "text/plain": [
       "\">>>>>> iteration 11:F\""
      ]
     },
     "metadata": {},
     "output_type": "display_data"
    },
    {
     "data": {
      "text/plain": [
       "\"DB: opt gap = 0.15550447293139283\""
      ]
     },
     "metadata": {},
     "output_type": "display_data"
    },
    {
     "data": {
      "text/plain": [
       "\">>>>>> iteration 12:O\""
      ]
     },
     "metadata": {},
     "output_type": "display_data"
    },
    {
     "data": {
      "text/plain": [
       "\"DB: opt gap = 0.15437482047871612\""
      ]
     },
     "metadata": {},
     "output_type": "display_data"
    },
    {
     "data": {
      "text/plain": [
       "\">>>>>> iteration 13:O\""
      ]
     },
     "metadata": {},
     "output_type": "display_data"
    },
    {
     "data": {
      "text/plain": [
       "\"DB: opt gap = 0.15254404717864997\""
      ]
     },
     "metadata": {},
     "output_type": "display_data"
    },
    {
     "data": {
      "text/plain": [
       "\">>>>>> iteration 14:O\""
      ]
     },
     "metadata": {},
     "output_type": "display_data"
    },
    {
     "data": {
      "text/plain": [
       "\"DB: opt gap = 0.15165099520304515\""
      ]
     },
     "metadata": {},
     "output_type": "display_data"
    },
    {
     "data": {
      "text/plain": [
       "\">>>>>> iteration 15:O\""
      ]
     },
     "metadata": {},
     "output_type": "display_data"
    },
    {
     "data": {
      "text/plain": [
       "\"DB: opt gap = 0.14774566869641292\""
      ]
     },
     "metadata": {},
     "output_type": "display_data"
    },
    {
     "data": {
      "text/plain": [
       "\">>>>>> iteration 16:O\""
      ]
     },
     "metadata": {},
     "output_type": "display_data"
    },
    {
     "data": {
      "text/plain": [
       "\"DB: opt gap = 0.14662909991762052\""
      ]
     },
     "metadata": {},
     "output_type": "display_data"
    },
    {
     "data": {
      "text/plain": [
       "\">>>>>> iteration 17:O\""
      ]
     },
     "metadata": {},
     "output_type": "display_data"
    },
    {
     "data": {
      "text/plain": [
       "\"DB: opt gap = 8.990077629362193e-5\""
      ]
     },
     "metadata": {},
     "output_type": "display_data"
    },
    {
     "data": {
      "text/plain": [
       "\"time M 7.693000078201294 | time D 25.892001390457153\""
      ]
     },
     "metadata": {},
     "output_type": "display_data"
    },
    {
     "data": {
      "text/plain": [
       "\"evaluating 16 scenarios| option 3\""
      ]
     },
     "metadata": {},
     "output_type": "display_data"
    },
    {
     "data": {
      "text/plain": [
       "\"DB: opt gap = 1.0\""
      ]
     },
     "metadata": {},
     "output_type": "display_data"
    },
    {
     "data": {
      "text/plain": [
       "\">>>>>> iteration 1:O\""
      ]
     },
     "metadata": {},
     "output_type": "display_data"
    },
    {
     "data": {
      "text/plain": [
       "\"DB: opt gap = 1.0\""
      ]
     },
     "metadata": {},
     "output_type": "display_data"
    },
    {
     "data": {
      "text/plain": [
       "\">>>>>> iteration 2:O\""
      ]
     },
     "metadata": {},
     "output_type": "display_data"
    },
    {
     "data": {
      "text/plain": [
       "\"DB: opt gap = 1.0\""
      ]
     },
     "metadata": {},
     "output_type": "display_data"
    },
    {
     "data": {
      "text/plain": [
       "\">>>>>> iteration 3:O\""
      ]
     },
     "metadata": {},
     "output_type": "display_data"
    },
    {
     "data": {
      "text/plain": [
       "\"DB: opt gap = 1.0\""
      ]
     },
     "metadata": {},
     "output_type": "display_data"
    },
    {
     "data": {
      "text/plain": [
       "\">>>>>> iteration 4:O\""
      ]
     },
     "metadata": {},
     "output_type": "display_data"
    },
    {
     "data": {
      "text/plain": [
       "\"DB: opt gap = 1.0\""
      ]
     },
     "metadata": {},
     "output_type": "display_data"
    },
    {
     "data": {
      "text/plain": [
       "\">>>>>> iteration 5:O\""
      ]
     },
     "metadata": {},
     "output_type": "display_data"
    },
    {
     "data": {
      "text/plain": [
       "\"DB: opt gap = 1.0\""
      ]
     },
     "metadata": {},
     "output_type": "display_data"
    },
    {
     "data": {
      "text/plain": [
       "\">>>>>> iteration 6:O\""
      ]
     },
     "metadata": {},
     "output_type": "display_data"
    },
    {
     "data": {
      "text/plain": [
       "\"DB: opt gap = 1.0\""
      ]
     },
     "metadata": {},
     "output_type": "display_data"
    },
    {
     "data": {
      "text/plain": [
       "\">>>>>> iteration 7:O\""
      ]
     },
     "metadata": {},
     "output_type": "display_data"
    },
    {
     "data": {
      "text/plain": [
       "\"DB: opt gap = 1.0\""
      ]
     },
     "metadata": {},
     "output_type": "display_data"
    },
    {
     "data": {
      "text/plain": [
       "\">>>>>> iteration 8:O\""
      ]
     },
     "metadata": {},
     "output_type": "display_data"
    },
    {
     "data": {
      "text/plain": [
       "\"DB: opt gap = 1.0\""
      ]
     },
     "metadata": {},
     "output_type": "display_data"
    },
    {
     "data": {
      "text/plain": [
       "\">>>>>> iteration 9:O\""
      ]
     },
     "metadata": {},
     "output_type": "display_data"
    },
    {
     "data": {
      "text/plain": [
       "\"DB: opt gap = 1.0\""
      ]
     },
     "metadata": {},
     "output_type": "display_data"
    },
    {
     "data": {
      "text/plain": [
       "\">>>>>> iteration 10:O\""
      ]
     },
     "metadata": {},
     "output_type": "display_data"
    },
    {
     "data": {
      "text/plain": [
       "\"DB: opt gap = 0.12203406552862375\""
      ]
     },
     "metadata": {},
     "output_type": "display_data"
    },
    {
     "data": {
      "text/plain": [
       "\">>>>>> iteration 11:O\""
      ]
     },
     "metadata": {},
     "output_type": "display_data"
    },
    {
     "data": {
      "text/plain": [
       "\"DB: opt gap = 0.12179963151512165\""
      ]
     },
     "metadata": {},
     "output_type": "display_data"
    },
    {
     "data": {
      "text/plain": [
       "\">>>>>> iteration 12:O\""
      ]
     },
     "metadata": {},
     "output_type": "display_data"
    },
    {
     "data": {
      "text/plain": [
       "\"DB: opt gap = 0.12120294416481876\""
      ]
     },
     "metadata": {},
     "output_type": "display_data"
    },
    {
     "data": {
      "text/plain": [
       "\">>>>>> iteration 13:O\""
      ]
     },
     "metadata": {},
     "output_type": "display_data"
    },
    {
     "data": {
      "text/plain": [
       "\"DB: opt gap = 0.12097391290423293\""
      ]
     },
     "metadata": {},
     "output_type": "display_data"
    },
    {
     "data": {
      "text/plain": [
       "\">>>>>> iteration 14:O\""
      ]
     },
     "metadata": {},
     "output_type": "display_data"
    },
    {
     "data": {
      "text/plain": [
       "\"DB: opt gap = 0.1206295068139207\""
      ]
     },
     "metadata": {},
     "output_type": "display_data"
    },
    {
     "data": {
      "text/plain": [
       "\">>>>>> iteration 15:O\""
      ]
     },
     "metadata": {},
     "output_type": "display_data"
    },
    {
     "data": {
      "text/plain": [
       "\">>>>>> iteration 16:F\""
      ]
     },
     "metadata": {},
     "output_type": "display_data"
    },
    {
     "data": {
      "text/plain": [
       "\"DB: opt gap = 0.12008666870720808\""
      ]
     },
     "metadata": {},
     "output_type": "display_data"
    },
    {
     "data": {
      "text/plain": [
       "\">>>>>> iteration 17:O\""
      ]
     },
     "metadata": {},
     "output_type": "display_data"
    },
    {
     "data": {
      "text/plain": [
       "\"DB: opt gap = 0.11890290831136693\""
      ]
     },
     "metadata": {},
     "output_type": "display_data"
    },
    {
     "data": {
      "text/plain": [
       "\">>>>>> iteration 18:O\""
      ]
     },
     "metadata": {},
     "output_type": "display_data"
    },
    {
     "data": {
      "text/plain": [
       "\"DB: opt gap = 0.11867926183855522\""
      ]
     },
     "metadata": {},
     "output_type": "display_data"
    },
    {
     "data": {
      "text/plain": [
       "\">>>>>> iteration 19:O\""
      ]
     },
     "metadata": {},
     "output_type": "display_data"
    },
    {
     "data": {
      "text/plain": [
       "\"DB: opt gap = 0.11820743086164787\""
      ]
     },
     "metadata": {},
     "output_type": "display_data"
    },
    {
     "data": {
      "text/plain": [
       "\">>>>>> iteration 20:O\""
      ]
     },
     "metadata": {},
     "output_type": "display_data"
    },
    {
     "data": {
      "text/plain": [
       "\"DB: opt gap = 1.4582737661749992e-5\""
      ]
     },
     "metadata": {},
     "output_type": "display_data"
    },
    {
     "data": {
      "text/plain": [
       "\"time M 10.266000032424927 | time D 34.05299997329712\""
      ]
     },
     "metadata": {},
     "output_type": "display_data"
    },
    {
     "data": {
      "text/plain": [
       "\"evaluating 17 scenarios| option 3\""
      ]
     },
     "metadata": {},
     "output_type": "display_data"
    },
    {
     "data": {
      "text/plain": [
       "\"DB: opt gap = 1.0\""
      ]
     },
     "metadata": {},
     "output_type": "display_data"
    },
    {
     "data": {
      "text/plain": [
       "\">>>>>> iteration 1:O\""
      ]
     },
     "metadata": {},
     "output_type": "display_data"
    },
    {
     "data": {
      "text/plain": [
       "\"DB: opt gap = 1.0\""
      ]
     },
     "metadata": {},
     "output_type": "display_data"
    },
    {
     "data": {
      "text/plain": [
       "\">>>>>> iteration 2:O\""
      ]
     },
     "metadata": {},
     "output_type": "display_data"
    },
    {
     "data": {
      "text/plain": [
       "\"DB: opt gap = 1.0\""
      ]
     },
     "metadata": {},
     "output_type": "display_data"
    },
    {
     "data": {
      "text/plain": [
       "\">>>>>> iteration 3:O\""
      ]
     },
     "metadata": {},
     "output_type": "display_data"
    },
    {
     "data": {
      "text/plain": [
       "\"DB: opt gap = 1.0\""
      ]
     },
     "metadata": {},
     "output_type": "display_data"
    },
    {
     "data": {
      "text/plain": [
       "\">>>>>> iteration 4:O\""
      ]
     },
     "metadata": {},
     "output_type": "display_data"
    },
    {
     "data": {
      "text/plain": [
       "\"DB: opt gap = 1.0\""
      ]
     },
     "metadata": {},
     "output_type": "display_data"
    },
    {
     "data": {
      "text/plain": [
       "\">>>>>> iteration 5:O\""
      ]
     },
     "metadata": {},
     "output_type": "display_data"
    },
    {
     "data": {
      "text/plain": [
       "\"DB: opt gap = 1.0\""
      ]
     },
     "metadata": {},
     "output_type": "display_data"
    },
    {
     "data": {
      "text/plain": [
       "\">>>>>> iteration 6:O\""
      ]
     },
     "metadata": {},
     "output_type": "display_data"
    },
    {
     "data": {
      "text/plain": [
       "\"DB: opt gap = 1.0\""
      ]
     },
     "metadata": {},
     "output_type": "display_data"
    },
    {
     "data": {
      "text/plain": [
       "\">>>>>> iteration 7:O\""
      ]
     },
     "metadata": {},
     "output_type": "display_data"
    },
    {
     "data": {
      "text/plain": [
       "\"DB: opt gap = 0.159995867290257\""
      ]
     },
     "metadata": {},
     "output_type": "display_data"
    },
    {
     "data": {
      "text/plain": [
       "\">>>>>> iteration 8:O\""
      ]
     },
     "metadata": {},
     "output_type": "display_data"
    },
    {
     "data": {
      "text/plain": [
       "\"DB: opt gap = 0.15962626942704738\""
      ]
     },
     "metadata": {},
     "output_type": "display_data"
    },
    {
     "data": {
      "text/plain": [
       "\">>>>>> iteration 9:O\""
      ]
     },
     "metadata": {},
     "output_type": "display_data"
    },
    {
     "data": {
      "text/plain": [
       "\"DB: opt gap = 0.1588986976536126\""
      ]
     },
     "metadata": {},
     "output_type": "display_data"
    },
    {
     "data": {
      "text/plain": [
       "\">>>>>> iteration 10:O\""
      ]
     },
     "metadata": {},
     "output_type": "display_data"
    },
    {
     "data": {
      "text/plain": [
       "\"DB: opt gap = 0.15808480588863238\""
      ]
     },
     "metadata": {},
     "output_type": "display_data"
    },
    {
     "data": {
      "text/plain": [
       "\">>>>>> iteration 11:O\""
      ]
     },
     "metadata": {},
     "output_type": "display_data"
    },
    {
     "data": {
      "text/plain": [
       "\">>>>>> iteration 12:F\""
      ]
     },
     "metadata": {},
     "output_type": "display_data"
    },
    {
     "data": {
      "text/plain": [
       "\"DB: opt gap = 0.15712583886630346\""
      ]
     },
     "metadata": {},
     "output_type": "display_data"
    },
    {
     "data": {
      "text/plain": [
       "\">>>>>> iteration 13:O\""
      ]
     },
     "metadata": {},
     "output_type": "display_data"
    },
    {
     "data": {
      "text/plain": [
       "\"DB: opt gap = 0.1561911884590602\""
      ]
     },
     "metadata": {},
     "output_type": "display_data"
    },
    {
     "data": {
      "text/plain": [
       "\">>>>>> iteration 14:O\""
      ]
     },
     "metadata": {},
     "output_type": "display_data"
    },
    {
     "data": {
      "text/plain": [
       "\"DB: opt gap = 0.15578070223105514\""
      ]
     },
     "metadata": {},
     "output_type": "display_data"
    },
    {
     "data": {
      "text/plain": [
       "\">>>>>> iteration 15:O\""
      ]
     },
     "metadata": {},
     "output_type": "display_data"
    },
    {
     "data": {
      "text/plain": [
       "\"DB: opt gap = 0.15455224931034434\""
      ]
     },
     "metadata": {},
     "output_type": "display_data"
    },
    {
     "data": {
      "text/plain": [
       "\">>>>>> iteration 16:O\""
      ]
     },
     "metadata": {},
     "output_type": "display_data"
    },
    {
     "data": {
      "text/plain": [
       "\"DB: opt gap = 2.2340940637711635e-5\""
      ]
     },
     "metadata": {},
     "output_type": "display_data"
    },
    {
     "data": {
      "text/plain": [
       "\"time M 12.236999988555908 | time D 33.353999853134155\""
      ]
     },
     "metadata": {},
     "output_type": "display_data"
    },
    {
     "data": {
      "text/plain": [
       "\"evaluating 18 scenarios| option 3\""
      ]
     },
     "metadata": {},
     "output_type": "display_data"
    },
    {
     "data": {
      "text/plain": [
       "\"DB: opt gap = 1.0\""
      ]
     },
     "metadata": {},
     "output_type": "display_data"
    },
    {
     "data": {
      "text/plain": [
       "\">>>>>> iteration 1:O\""
      ]
     },
     "metadata": {},
     "output_type": "display_data"
    },
    {
     "data": {
      "text/plain": [
       "\"DB: opt gap = 1.0\""
      ]
     },
     "metadata": {},
     "output_type": "display_data"
    },
    {
     "data": {
      "text/plain": [
       "\">>>>>> iteration 2:O\""
      ]
     },
     "metadata": {},
     "output_type": "display_data"
    },
    {
     "data": {
      "text/plain": [
       "\"DB: opt gap = 1.0\""
      ]
     },
     "metadata": {},
     "output_type": "display_data"
    },
    {
     "data": {
      "text/plain": [
       "\">>>>>> iteration 3:O\""
      ]
     },
     "metadata": {},
     "output_type": "display_data"
    },
    {
     "data": {
      "text/plain": [
       "\"DB: opt gap = 1.0\""
      ]
     },
     "metadata": {},
     "output_type": "display_data"
    },
    {
     "data": {
      "text/plain": [
       "\">>>>>> iteration 4:O\""
      ]
     },
     "metadata": {},
     "output_type": "display_data"
    },
    {
     "data": {
      "text/plain": [
       "\"DB: opt gap = 1.0\""
      ]
     },
     "metadata": {},
     "output_type": "display_data"
    },
    {
     "data": {
      "text/plain": [
       "\">>>>>> iteration 5:O\""
      ]
     },
     "metadata": {},
     "output_type": "display_data"
    },
    {
     "data": {
      "text/plain": [
       "\"DB: opt gap = 1.0\""
      ]
     },
     "metadata": {},
     "output_type": "display_data"
    },
    {
     "data": {
      "text/plain": [
       "\">>>>>> iteration 6:O\""
      ]
     },
     "metadata": {},
     "output_type": "display_data"
    },
    {
     "data": {
      "text/plain": [
       "\"DB: opt gap = 1.0\""
      ]
     },
     "metadata": {},
     "output_type": "display_data"
    },
    {
     "data": {
      "text/plain": [
       "\">>>>>> iteration 7:O\""
      ]
     },
     "metadata": {},
     "output_type": "display_data"
    },
    {
     "data": {
      "text/plain": [
       "\"DB: opt gap = 1.0\""
      ]
     },
     "metadata": {},
     "output_type": "display_data"
    },
    {
     "data": {
      "text/plain": [
       "\">>>>>> iteration 8:O\""
      ]
     },
     "metadata": {},
     "output_type": "display_data"
    },
    {
     "data": {
      "text/plain": [
       "\"DB: opt gap = 1.0\""
      ]
     },
     "metadata": {},
     "output_type": "display_data"
    },
    {
     "data": {
      "text/plain": [
       "\">>>>>> iteration 9:O\""
      ]
     },
     "metadata": {},
     "output_type": "display_data"
    },
    {
     "data": {
      "text/plain": [
       "\"DB: opt gap = 1.0\""
      ]
     },
     "metadata": {},
     "output_type": "display_data"
    },
    {
     "data": {
      "text/plain": [
       "\">>>>>> iteration 10:O\""
      ]
     },
     "metadata": {},
     "output_type": "display_data"
    },
    {
     "data": {
      "text/plain": [
       "\"DB: opt gap = 1.0\""
      ]
     },
     "metadata": {},
     "output_type": "display_data"
    },
    {
     "data": {
      "text/plain": [
       "\">>>>>> iteration 11:O\""
      ]
     },
     "metadata": {},
     "output_type": "display_data"
    },
    {
     "data": {
      "text/plain": [
       "\"DB: opt gap = 1.0\""
      ]
     },
     "metadata": {},
     "output_type": "display_data"
    },
    {
     "data": {
      "text/plain": [
       "\">>>>>> iteration 12:O\""
      ]
     },
     "metadata": {},
     "output_type": "display_data"
    },
    {
     "data": {
      "text/plain": [
       "\"DB: opt gap = 1.0\""
      ]
     },
     "metadata": {},
     "output_type": "display_data"
    },
    {
     "data": {
      "text/plain": [
       "\">>>>>> iteration 13:O\""
      ]
     },
     "metadata": {},
     "output_type": "display_data"
    },
    {
     "data": {
      "text/plain": [
       "\"DB: opt gap = 0.12188694231331722\""
      ]
     },
     "metadata": {},
     "output_type": "display_data"
    },
    {
     "data": {
      "text/plain": [
       "\">>>>>> iteration 14:O\""
      ]
     },
     "metadata": {},
     "output_type": "display_data"
    },
    {
     "data": {
      "text/plain": [
       "\"DB: opt gap = 0.12172202114739375\""
      ]
     },
     "metadata": {},
     "output_type": "display_data"
    },
    {
     "data": {
      "text/plain": [
       "\">>>>>> iteration 15:O\""
      ]
     },
     "metadata": {},
     "output_type": "display_data"
    },
    {
     "data": {
      "text/plain": [
       "\"DB: opt gap = 0.12127475697960173\""
      ]
     },
     "metadata": {},
     "output_type": "display_data"
    },
    {
     "data": {
      "text/plain": [
       "\">>>>>> iteration 16:O\""
      ]
     },
     "metadata": {},
     "output_type": "display_data"
    },
    {
     "data": {
      "text/plain": [
       "\"DB: opt gap = 0.12109296340428181\""
      ]
     },
     "metadata": {},
     "output_type": "display_data"
    },
    {
     "data": {
      "text/plain": [
       "\">>>>>> iteration 17:O\""
      ]
     },
     "metadata": {},
     "output_type": "display_data"
    },
    {
     "data": {
      "text/plain": [
       "\">>>>>> iteration 18:F\""
      ]
     },
     "metadata": {},
     "output_type": "display_data"
    },
    {
     "data": {
      "text/plain": [
       "\"DB: opt gap = 0.12075628875654972\""
      ]
     },
     "metadata": {},
     "output_type": "display_data"
    },
    {
     "data": {
      "text/plain": [
       "\">>>>>> iteration 19:O\""
      ]
     },
     "metadata": {},
     "output_type": "display_data"
    },
    {
     "data": {
      "text/plain": [
       "\"DB: opt gap = 0.1201791224532202\""
      ]
     },
     "metadata": {},
     "output_type": "display_data"
    },
    {
     "data": {
      "text/plain": [
       "\">>>>>> iteration 20:O\""
      ]
     },
     "metadata": {},
     "output_type": "display_data"
    },
    {
     "data": {
      "text/plain": [
       "\"DB: opt gap = 0.11986908106086067\""
      ]
     },
     "metadata": {},
     "output_type": "display_data"
    },
    {
     "data": {
      "text/plain": [
       "\">>>>>> iteration 21:O\""
      ]
     },
     "metadata": {},
     "output_type": "display_data"
    },
    {
     "data": {
      "text/plain": [
       "\"DB: opt gap = 0.1180580813726306\""
      ]
     },
     "metadata": {},
     "output_type": "display_data"
    },
    {
     "data": {
      "text/plain": [
       "\">>>>>> iteration 22:O\""
      ]
     },
     "metadata": {},
     "output_type": "display_data"
    },
    {
     "data": {
      "text/plain": [
       "\"DB: opt gap = 0.10645439511548614\""
      ]
     },
     "metadata": {},
     "output_type": "display_data"
    },
    {
     "data": {
      "text/plain": [
       "\">>>>>> iteration 23:O\""
      ]
     },
     "metadata": {},
     "output_type": "display_data"
    },
    {
     "data": {
      "text/plain": [
       "\"DB: opt gap = 0.10594952678872789\""
      ]
     },
     "metadata": {},
     "output_type": "display_data"
    },
    {
     "data": {
      "text/plain": [
       "\">>>>>> iteration 24:O\""
      ]
     },
     "metadata": {},
     "output_type": "display_data"
    },
    {
     "data": {
      "text/plain": [
       "\"DB: opt gap = 0.1050777538701344\""
      ]
     },
     "metadata": {},
     "output_type": "display_data"
    },
    {
     "data": {
      "text/plain": [
       "\">>>>>> iteration 25:O\""
      ]
     },
     "metadata": {},
     "output_type": "display_data"
    },
    {
     "data": {
      "text/plain": [
       "\"DB: opt gap = 0.10493783553909167\""
      ]
     },
     "metadata": {},
     "output_type": "display_data"
    },
    {
     "data": {
      "text/plain": [
       "\">>>>>> iteration 26:O\""
      ]
     },
     "metadata": {},
     "output_type": "display_data"
    },
    {
     "data": {
      "text/plain": [
       "\"DB: opt gap = 0.00029855451830249215\""
      ]
     },
     "metadata": {},
     "output_type": "display_data"
    },
    {
     "data": {
      "text/plain": [
       "\"time M 11.39299988746643 | time D 51.51900029182434\""
      ]
     },
     "metadata": {},
     "output_type": "display_data"
    },
    {
     "data": {
      "text/plain": [
       "\"evaluating 19 scenarios| option 3\""
      ]
     },
     "metadata": {},
     "output_type": "display_data"
    },
    {
     "data": {
      "text/plain": [
       "\"DB: opt gap = 1.0\""
      ]
     },
     "metadata": {},
     "output_type": "display_data"
    },
    {
     "data": {
      "text/plain": [
       "\">>>>>> iteration 1:O\""
      ]
     },
     "metadata": {},
     "output_type": "display_data"
    },
    {
     "data": {
      "text/plain": [
       "\"DB: opt gap = 1.0\""
      ]
     },
     "metadata": {},
     "output_type": "display_data"
    },
    {
     "data": {
      "text/plain": [
       "\">>>>>> iteration 2:O\""
      ]
     },
     "metadata": {},
     "output_type": "display_data"
    },
    {
     "data": {
      "text/plain": [
       "\"DB: opt gap = 1.0\""
      ]
     },
     "metadata": {},
     "output_type": "display_data"
    },
    {
     "data": {
      "text/plain": [
       "\">>>>>> iteration 3:O\""
      ]
     },
     "metadata": {},
     "output_type": "display_data"
    },
    {
     "data": {
      "text/plain": [
       "\"DB: opt gap = 1.0\""
      ]
     },
     "metadata": {},
     "output_type": "display_data"
    },
    {
     "data": {
      "text/plain": [
       "\">>>>>> iteration 4:O\""
      ]
     },
     "metadata": {},
     "output_type": "display_data"
    },
    {
     "data": {
      "text/plain": [
       "\"DB: opt gap = 1.0\""
      ]
     },
     "metadata": {},
     "output_type": "display_data"
    },
    {
     "data": {
      "text/plain": [
       "\">>>>>> iteration 5:O\""
      ]
     },
     "metadata": {},
     "output_type": "display_data"
    },
    {
     "data": {
      "text/plain": [
       "\"DB: opt gap = 1.0\""
      ]
     },
     "metadata": {},
     "output_type": "display_data"
    },
    {
     "data": {
      "text/plain": [
       "\">>>>>> iteration 6:O\""
      ]
     },
     "metadata": {},
     "output_type": "display_data"
    },
    {
     "data": {
      "text/plain": [
       "\"DB: opt gap = 1.0\""
      ]
     },
     "metadata": {},
     "output_type": "display_data"
    },
    {
     "data": {
      "text/plain": [
       "\">>>>>> iteration 7:O\""
      ]
     },
     "metadata": {},
     "output_type": "display_data"
    },
    {
     "data": {
      "text/plain": [
       "\"DB: opt gap = 1.0\""
      ]
     },
     "metadata": {},
     "output_type": "display_data"
    },
    {
     "data": {
      "text/plain": [
       "\">>>>>> iteration 8:O\""
      ]
     },
     "metadata": {},
     "output_type": "display_data"
    },
    {
     "data": {
      "text/plain": [
       "\"DB: opt gap = 1.0\""
      ]
     },
     "metadata": {},
     "output_type": "display_data"
    },
    {
     "data": {
      "text/plain": [
       "\">>>>>> iteration 9:O\""
      ]
     },
     "metadata": {},
     "output_type": "display_data"
    },
    {
     "data": {
      "text/plain": [
       "\"DB: opt gap = 1.0\""
      ]
     },
     "metadata": {},
     "output_type": "display_data"
    },
    {
     "data": {
      "text/plain": [
       "\">>>>>> iteration 10:O\""
      ]
     },
     "metadata": {},
     "output_type": "display_data"
    },
    {
     "data": {
      "text/plain": [
       "\"DB: opt gap = 1.0\""
      ]
     },
     "metadata": {},
     "output_type": "display_data"
    },
    {
     "data": {
      "text/plain": [
       "\">>>>>> iteration 11:O\""
      ]
     },
     "metadata": {},
     "output_type": "display_data"
    },
    {
     "data": {
      "text/plain": [
       "\"DB: opt gap = 0.14171908093519828\""
      ]
     },
     "metadata": {},
     "output_type": "display_data"
    },
    {
     "data": {
      "text/plain": [
       "\">>>>>> iteration 12:O\""
      ]
     },
     "metadata": {},
     "output_type": "display_data"
    },
    {
     "data": {
      "text/plain": [
       "\"DB: opt gap = 0.14148956767297582\""
      ]
     },
     "metadata": {},
     "output_type": "display_data"
    },
    {
     "data": {
      "text/plain": [
       "\">>>>>> iteration 13:O\""
      ]
     },
     "metadata": {},
     "output_type": "display_data"
    },
    {
     "data": {
      "text/plain": [
       "\"DB: opt gap = 0.1409254044124074\""
      ]
     },
     "metadata": {},
     "output_type": "display_data"
    },
    {
     "data": {
      "text/plain": [
       "\">>>>>> iteration 14:O\""
      ]
     },
     "metadata": {},
     "output_type": "display_data"
    },
    {
     "data": {
      "text/plain": [
       "\"DB: opt gap = 0.14068031269236497\""
      ]
     },
     "metadata": {},
     "output_type": "display_data"
    },
    {
     "data": {
      "text/plain": [
       "\">>>>>> iteration 15:O\""
      ]
     },
     "metadata": {},
     "output_type": "display_data"
    },
    {
     "data": {
      "text/plain": [
       "\"DB: opt gap = 0.1402918220310405\""
      ]
     },
     "metadata": {},
     "output_type": "display_data"
    },
    {
     "data": {
      "text/plain": [
       "\">>>>>> iteration 16:O\""
      ]
     },
     "metadata": {},
     "output_type": "display_data"
    },
    {
     "data": {
      "text/plain": [
       "\"DB: opt gap = 0.13974375840269623\""
      ]
     },
     "metadata": {},
     "output_type": "display_data"
    },
    {
     "data": {
      "text/plain": [
       "\">>>>>> iteration 17:O\""
      ]
     },
     "metadata": {},
     "output_type": "display_data"
    },
    {
     "data": {
      "text/plain": [
       "\">>>>>> iteration 18:F\""
      ]
     },
     "metadata": {},
     "output_type": "display_data"
    },
    {
     "data": {
      "text/plain": [
       "\"DB: opt gap = 2.4257444156611043e-6\""
      ]
     },
     "metadata": {},
     "output_type": "display_data"
    },
    {
     "data": {
      "text/plain": [
       "\">>>>>> iteration 19:O\""
      ]
     },
     "metadata": {},
     "output_type": "display_data"
    },
    {
     "data": {
      "text/plain": [
       "\"DB: opt gap = 1.2619633273278253e-6\""
      ]
     },
     "metadata": {},
     "output_type": "display_data"
    },
    {
     "data": {
      "text/plain": [
       "\"time M 14.167999982833862 | time D 36.3199987411499\""
      ]
     },
     "metadata": {},
     "output_type": "display_data"
    },
    {
     "data": {
      "text/plain": [
       "\"evaluating 20 scenarios| option 3\""
      ]
     },
     "metadata": {},
     "output_type": "display_data"
    },
    {
     "data": {
      "text/plain": [
       "\"DB: opt gap = 1.0\""
      ]
     },
     "metadata": {},
     "output_type": "display_data"
    },
    {
     "data": {
      "text/plain": [
       "\">>>>>> iteration 1:O\""
      ]
     },
     "metadata": {},
     "output_type": "display_data"
    },
    {
     "data": {
      "text/plain": [
       "\"DB: opt gap = 1.0\""
      ]
     },
     "metadata": {},
     "output_type": "display_data"
    },
    {
     "data": {
      "text/plain": [
       "\">>>>>> iteration 2:O\""
      ]
     },
     "metadata": {},
     "output_type": "display_data"
    },
    {
     "data": {
      "text/plain": [
       "\"DB: opt gap = 1.0\""
      ]
     },
     "metadata": {},
     "output_type": "display_data"
    },
    {
     "data": {
      "text/plain": [
       "\">>>>>> iteration 3:O\""
      ]
     },
     "metadata": {},
     "output_type": "display_data"
    },
    {
     "data": {
      "text/plain": [
       "\"DB: opt gap = 1.0\""
      ]
     },
     "metadata": {},
     "output_type": "display_data"
    },
    {
     "data": {
      "text/plain": [
       "\">>>>>> iteration 4:O\""
      ]
     },
     "metadata": {},
     "output_type": "display_data"
    },
    {
     "data": {
      "text/plain": [
       "\"DB: opt gap = 1.0\""
      ]
     },
     "metadata": {},
     "output_type": "display_data"
    },
    {
     "data": {
      "text/plain": [
       "\">>>>>> iteration 5:O\""
      ]
     },
     "metadata": {},
     "output_type": "display_data"
    },
    {
     "data": {
      "text/plain": [
       "\"DB: opt gap = 1.0\""
      ]
     },
     "metadata": {},
     "output_type": "display_data"
    },
    {
     "data": {
      "text/plain": [
       "\">>>>>> iteration 6:O\""
      ]
     },
     "metadata": {},
     "output_type": "display_data"
    },
    {
     "data": {
      "text/plain": [
       "\"DB: opt gap = 1.0\""
      ]
     },
     "metadata": {},
     "output_type": "display_data"
    },
    {
     "data": {
      "text/plain": [
       "\">>>>>> iteration 7:O\""
      ]
     },
     "metadata": {},
     "output_type": "display_data"
    },
    {
     "data": {
      "text/plain": [
       "\"DB: opt gap = 1.0\""
      ]
     },
     "metadata": {},
     "output_type": "display_data"
    },
    {
     "data": {
      "text/plain": [
       "\">>>>>> iteration 8:O\""
      ]
     },
     "metadata": {},
     "output_type": "display_data"
    },
    {
     "data": {
      "text/plain": [
       "\"DB: opt gap = 1.0\""
      ]
     },
     "metadata": {},
     "output_type": "display_data"
    },
    {
     "data": {
      "text/plain": [
       "\">>>>>> iteration 9:O\""
      ]
     },
     "metadata": {},
     "output_type": "display_data"
    },
    {
     "data": {
      "text/plain": [
       "\"DB: opt gap = 1.0\""
      ]
     },
     "metadata": {},
     "output_type": "display_data"
    },
    {
     "data": {
      "text/plain": [
       "\">>>>>> iteration 10:O\""
      ]
     },
     "metadata": {},
     "output_type": "display_data"
    },
    {
     "data": {
      "text/plain": [
       "\"DB: opt gap = 1.0\""
      ]
     },
     "metadata": {},
     "output_type": "display_data"
    },
    {
     "data": {
      "text/plain": [
       "\">>>>>> iteration 11:O\""
      ]
     },
     "metadata": {},
     "output_type": "display_data"
    },
    {
     "data": {
      "text/plain": [
       "\"DB: opt gap = 0.1550192595034791\""
      ]
     },
     "metadata": {},
     "output_type": "display_data"
    },
    {
     "data": {
      "text/plain": [
       "\">>>>>> iteration 12:O\""
      ]
     },
     "metadata": {},
     "output_type": "display_data"
    },
    {
     "data": {
      "text/plain": [
       "\"DB: opt gap = 0.15477052113109777\""
      ]
     },
     "metadata": {},
     "output_type": "display_data"
    },
    {
     "data": {
      "text/plain": [
       "\">>>>>> iteration 13:O\""
      ]
     },
     "metadata": {},
     "output_type": "display_data"
    },
    {
     "data": {
      "text/plain": [
       "\"DB: opt gap = 0.15419776483886896\""
      ]
     },
     "metadata": {},
     "output_type": "display_data"
    },
    {
     "data": {
      "text/plain": [
       "\">>>>>> iteration 14:O\""
      ]
     },
     "metadata": {},
     "output_type": "display_data"
    },
    {
     "data": {
      "text/plain": [
       "\"DB: opt gap = 0.15394370633671906\""
      ]
     },
     "metadata": {},
     "output_type": "display_data"
    },
    {
     "data": {
      "text/plain": [
       "\">>>>>> iteration 15:O\""
      ]
     },
     "metadata": {},
     "output_type": "display_data"
    },
    {
     "data": {
      "text/plain": [
       "\"DB: opt gap = 0.15355104911712394\""
      ]
     },
     "metadata": {},
     "output_type": "display_data"
    },
    {
     "data": {
      "text/plain": [
       "\">>>>>> iteration 16:O\""
      ]
     },
     "metadata": {},
     "output_type": "display_data"
    },
    {
     "data": {
      "text/plain": [
       "\"DB: opt gap = 0.15261917305779168\""
      ]
     },
     "metadata": {},
     "output_type": "display_data"
    },
    {
     "data": {
      "text/plain": [
       "\">>>>>> iteration 17:O\""
      ]
     },
     "metadata": {},
     "output_type": "display_data"
    },
    {
     "data": {
      "text/plain": [
       "\"DB: opt gap = 0.15233720241035553\""
      ]
     },
     "metadata": {},
     "output_type": "display_data"
    },
    {
     "data": {
      "text/plain": [
       "\">>>>>> iteration 18:O\""
      ]
     },
     "metadata": {},
     "output_type": "display_data"
    },
    {
     "data": {
      "text/plain": [
       "\"DB: opt gap = 0.15177141520762083\""
      ]
     },
     "metadata": {},
     "output_type": "display_data"
    },
    {
     "data": {
      "text/plain": [
       "\">>>>>> iteration 19:O\""
      ]
     },
     "metadata": {},
     "output_type": "display_data"
    },
    {
     "data": {
      "text/plain": [
       "\"DB: opt gap = 0.15110304855266238\""
      ]
     },
     "metadata": {},
     "output_type": "display_data"
    },
    {
     "data": {
      "text/plain": [
       "\">>>>>> iteration 20:O\""
      ]
     },
     "metadata": {},
     "output_type": "display_data"
    },
    {
     "data": {
      "text/plain": [
       "\"DB: opt gap = 8.775497470074384e-6\""
      ]
     },
     "metadata": {},
     "output_type": "display_data"
    },
    {
     "data": {
      "text/plain": [
       "\"time M 17.522000074386597 | time D 41.56299924850464\""
      ]
     },
     "metadata": {},
     "output_type": "display_data"
    },
    {
     "data": {
      "text/plain": [
       "\"evaluating 21 scenarios| option 3\""
      ]
     },
     "metadata": {},
     "output_type": "display_data"
    },
    {
     "data": {
      "text/plain": [
       "\"DB: opt gap = 1.0\""
      ]
     },
     "metadata": {},
     "output_type": "display_data"
    },
    {
     "data": {
      "text/plain": [
       "\">>>>>> iteration 1:O\""
      ]
     },
     "metadata": {},
     "output_type": "display_data"
    },
    {
     "data": {
      "text/plain": [
       "\"DB: opt gap = 1.0\""
      ]
     },
     "metadata": {},
     "output_type": "display_data"
    },
    {
     "data": {
      "text/plain": [
       "\">>>>>> iteration 2:O\""
      ]
     },
     "metadata": {},
     "output_type": "display_data"
    },
    {
     "data": {
      "text/plain": [
       "\"DB: opt gap = 1.0\""
      ]
     },
     "metadata": {},
     "output_type": "display_data"
    },
    {
     "data": {
      "text/plain": [
       "\">>>>>> iteration 3:O\""
      ]
     },
     "metadata": {},
     "output_type": "display_data"
    },
    {
     "data": {
      "text/plain": [
       "\"DB: opt gap = 1.0\""
      ]
     },
     "metadata": {},
     "output_type": "display_data"
    },
    {
     "data": {
      "text/plain": [
       "\">>>>>> iteration 4:O\""
      ]
     },
     "metadata": {},
     "output_type": "display_data"
    },
    {
     "data": {
      "text/plain": [
       "\"DB: opt gap = 1.0\""
      ]
     },
     "metadata": {},
     "output_type": "display_data"
    },
    {
     "data": {
      "text/plain": [
       "\">>>>>> iteration 5:O\""
      ]
     },
     "metadata": {},
     "output_type": "display_data"
    },
    {
     "data": {
      "text/plain": [
       "\"DB: opt gap = 1.0\""
      ]
     },
     "metadata": {},
     "output_type": "display_data"
    },
    {
     "data": {
      "text/plain": [
       "\">>>>>> iteration 6:O\""
      ]
     },
     "metadata": {},
     "output_type": "display_data"
    },
    {
     "data": {
      "text/plain": [
       "\"DB: opt gap = 1.0\""
      ]
     },
     "metadata": {},
     "output_type": "display_data"
    },
    {
     "data": {
      "text/plain": [
       "\">>>>>> iteration 7:O\""
      ]
     },
     "metadata": {},
     "output_type": "display_data"
    },
    {
     "data": {
      "text/plain": [
       "\"DB: opt gap = 1.0\""
      ]
     },
     "metadata": {},
     "output_type": "display_data"
    },
    {
     "data": {
      "text/plain": [
       "\">>>>>> iteration 8:O\""
      ]
     },
     "metadata": {},
     "output_type": "display_data"
    },
    {
     "data": {
      "text/plain": [
       "\"DB: opt gap = 1.0\""
      ]
     },
     "metadata": {},
     "output_type": "display_data"
    },
    {
     "data": {
      "text/plain": [
       "\">>>>>> iteration 9:O\""
      ]
     },
     "metadata": {},
     "output_type": "display_data"
    },
    {
     "data": {
      "text/plain": [
       "\"DB: opt gap = 1.0\""
      ]
     },
     "metadata": {},
     "output_type": "display_data"
    },
    {
     "data": {
      "text/plain": [
       "\">>>>>> iteration 10:O\""
      ]
     },
     "metadata": {},
     "output_type": "display_data"
    },
    {
     "data": {
      "text/plain": [
       "\"DB: opt gap = 1.0\""
      ]
     },
     "metadata": {},
     "output_type": "display_data"
    },
    {
     "data": {
      "text/plain": [
       "\">>>>>> iteration 11:O\""
      ]
     },
     "metadata": {},
     "output_type": "display_data"
    },
    {
     "data": {
      "text/plain": [
       "\"DB: opt gap = 1.0\""
      ]
     },
     "metadata": {},
     "output_type": "display_data"
    },
    {
     "data": {
      "text/plain": [
       "\">>>>>> iteration 12:O\""
      ]
     },
     "metadata": {},
     "output_type": "display_data"
    },
    {
     "data": {
      "text/plain": [
       "\"DB: opt gap = 0.12870606012237626\""
      ]
     },
     "metadata": {},
     "output_type": "display_data"
    },
    {
     "data": {
      "text/plain": [
       "\">>>>>> iteration 13:O\""
      ]
     },
     "metadata": {},
     "output_type": "display_data"
    },
    {
     "data": {
      "text/plain": [
       "\"DB: opt gap = 0.1285033841547967\""
      ]
     },
     "metadata": {},
     "output_type": "display_data"
    },
    {
     "data": {
      "text/plain": [
       "\">>>>>> iteration 14:O\""
      ]
     },
     "metadata": {},
     "output_type": "display_data"
    },
    {
     "data": {
      "text/plain": [
       "\"DB: opt gap = 0.12807774493505675\""
      ]
     },
     "metadata": {},
     "output_type": "display_data"
    },
    {
     "data": {
      "text/plain": [
       "\">>>>>> iteration 15:O\""
      ]
     },
     "metadata": {},
     "output_type": "display_data"
    },
    {
     "data": {
      "text/plain": [
       "\"DB: opt gap = 0.12758988016414036\""
      ]
     },
     "metadata": {},
     "output_type": "display_data"
    },
    {
     "data": {
      "text/plain": [
       "\">>>>>> iteration 16:O\""
      ]
     },
     "metadata": {},
     "output_type": "display_data"
    },
    {
     "data": {
      "text/plain": [
       "\">>>>>> iteration 17:F\""
      ]
     },
     "metadata": {},
     "output_type": "display_data"
    },
    {
     "data": {
      "text/plain": [
       "\"DB: opt gap = 0.1271015640498737\""
      ]
     },
     "metadata": {},
     "output_type": "display_data"
    },
    {
     "data": {
      "text/plain": [
       "\">>>>>> iteration 18:O\""
      ]
     },
     "metadata": {},
     "output_type": "display_data"
    },
    {
     "data": {
      "text/plain": [
       "\"DB: opt gap = 0.12599322233295485\""
      ]
     },
     "metadata": {},
     "output_type": "display_data"
    },
    {
     "data": {
      "text/plain": [
       "\">>>>>> iteration 19:O\""
      ]
     },
     "metadata": {},
     "output_type": "display_data"
    },
    {
     "data": {
      "text/plain": [
       "\"DB: opt gap = 0.12555562442564083\""
      ]
     },
     "metadata": {},
     "output_type": "display_data"
    },
    {
     "data": {
      "text/plain": [
       "\">>>>>> iteration 20:O\""
      ]
     },
     "metadata": {},
     "output_type": "display_data"
    },
    {
     "data": {
      "text/plain": [
       "\"DB: opt gap = 0.12403092650831805\""
      ]
     },
     "metadata": {},
     "output_type": "display_data"
    },
    {
     "data": {
      "text/plain": [
       "\">>>>>> iteration 21:O\""
      ]
     },
     "metadata": {},
     "output_type": "display_data"
    },
    {
     "data": {
      "text/plain": [
       "\"DB: opt gap = 0.12289620243187245\""
      ]
     },
     "metadata": {},
     "output_type": "display_data"
    },
    {
     "data": {
      "text/plain": [
       "\">>>>>> iteration 22:O\""
      ]
     },
     "metadata": {},
     "output_type": "display_data"
    },
    {
     "data": {
      "text/plain": [
       "\"DB: opt gap = 3.5890308101586694e-5\""
      ]
     },
     "metadata": {},
     "output_type": "display_data"
    },
    {
     "data": {
      "text/plain": [
       "\"time M 18.944000005722046 | time D 46.34500050544739\""
      ]
     },
     "metadata": {},
     "output_type": "display_data"
    },
    {
     "data": {
      "text/plain": [
       "\"evaluating 22 scenarios| option 3\""
      ]
     },
     "metadata": {},
     "output_type": "display_data"
    },
    {
     "data": {
      "text/plain": [
       "\"DB: opt gap = 1.0\""
      ]
     },
     "metadata": {},
     "output_type": "display_data"
    },
    {
     "data": {
      "text/plain": [
       "\">>>>>> iteration 1:O\""
      ]
     },
     "metadata": {},
     "output_type": "display_data"
    },
    {
     "data": {
      "text/plain": [
       "\"DB: opt gap = 1.0\""
      ]
     },
     "metadata": {},
     "output_type": "display_data"
    },
    {
     "data": {
      "text/plain": [
       "\">>>>>> iteration 2:O\""
      ]
     },
     "metadata": {},
     "output_type": "display_data"
    },
    {
     "data": {
      "text/plain": [
       "\"DB: opt gap = 1.0\""
      ]
     },
     "metadata": {},
     "output_type": "display_data"
    },
    {
     "data": {
      "text/plain": [
       "\">>>>>> iteration 3:O\""
      ]
     },
     "metadata": {},
     "output_type": "display_data"
    },
    {
     "data": {
      "text/plain": [
       "\"DB: opt gap = 1.0\""
      ]
     },
     "metadata": {},
     "output_type": "display_data"
    },
    {
     "data": {
      "text/plain": [
       "\">>>>>> iteration 4:O\""
      ]
     },
     "metadata": {},
     "output_type": "display_data"
    },
    {
     "data": {
      "text/plain": [
       "\"DB: opt gap = 1.0\""
      ]
     },
     "metadata": {},
     "output_type": "display_data"
    },
    {
     "data": {
      "text/plain": [
       "\">>>>>> iteration 5:O\""
      ]
     },
     "metadata": {},
     "output_type": "display_data"
    },
    {
     "data": {
      "text/plain": [
       "\"DB: opt gap = 1.0\""
      ]
     },
     "metadata": {},
     "output_type": "display_data"
    },
    {
     "data": {
      "text/plain": [
       "\">>>>>> iteration 6:O\""
      ]
     },
     "metadata": {},
     "output_type": "display_data"
    },
    {
     "data": {
      "text/plain": [
       "\"DB: opt gap = 1.0\""
      ]
     },
     "metadata": {},
     "output_type": "display_data"
    },
    {
     "data": {
      "text/plain": [
       "\">>>>>> iteration 7:O\""
      ]
     },
     "metadata": {},
     "output_type": "display_data"
    },
    {
     "data": {
      "text/plain": [
       "\"DB: opt gap = 1.0\""
      ]
     },
     "metadata": {},
     "output_type": "display_data"
    },
    {
     "data": {
      "text/plain": [
       "\">>>>>> iteration 8:O\""
      ]
     },
     "metadata": {},
     "output_type": "display_data"
    },
    {
     "data": {
      "text/plain": [
       "\"DB: opt gap = 1.0\""
      ]
     },
     "metadata": {},
     "output_type": "display_data"
    },
    {
     "data": {
      "text/plain": [
       "\">>>>>> iteration 9:O\""
      ]
     },
     "metadata": {},
     "output_type": "display_data"
    },
    {
     "data": {
      "text/plain": [
       "\"DB: opt gap = 1.0\""
      ]
     },
     "metadata": {},
     "output_type": "display_data"
    },
    {
     "data": {
      "text/plain": [
       "\">>>>>> iteration 10:O\""
      ]
     },
     "metadata": {},
     "output_type": "display_data"
    },
    {
     "data": {
      "text/plain": [
       "\"DB: opt gap = 1.0\""
      ]
     },
     "metadata": {},
     "output_type": "display_data"
    },
    {
     "data": {
      "text/plain": [
       "\">>>>>> iteration 11:O\""
      ]
     },
     "metadata": {},
     "output_type": "display_data"
    },
    {
     "data": {
      "text/plain": [
       "\"DB: opt gap = 1.0\""
      ]
     },
     "metadata": {},
     "output_type": "display_data"
    },
    {
     "data": {
      "text/plain": [
       "\">>>>>> iteration 12:O\""
      ]
     },
     "metadata": {},
     "output_type": "display_data"
    },
    {
     "data": {
      "text/plain": [
       "\"DB: opt gap = 1.0\""
      ]
     },
     "metadata": {},
     "output_type": "display_data"
    },
    {
     "data": {
      "text/plain": [
       "\">>>>>> iteration 13:O\""
      ]
     },
     "metadata": {},
     "output_type": "display_data"
    },
    {
     "data": {
      "text/plain": [
       "\"DB: opt gap = 1.0\""
      ]
     },
     "metadata": {},
     "output_type": "display_data"
    },
    {
     "data": {
      "text/plain": [
       "\">>>>>> iteration 14:O\""
      ]
     },
     "metadata": {},
     "output_type": "display_data"
    },
    {
     "data": {
      "text/plain": [
       "\"DB: opt gap = 0.12778947662557125\""
      ]
     },
     "metadata": {},
     "output_type": "display_data"
    },
    {
     "data": {
      "text/plain": [
       "\">>>>>> iteration 15:O\""
      ]
     },
     "metadata": {},
     "output_type": "display_data"
    },
    {
     "data": {
      "text/plain": [
       "\"DB: opt gap = 0.12763534272377813\""
      ]
     },
     "metadata": {},
     "output_type": "display_data"
    },
    {
     "data": {
      "text/plain": [
       "\">>>>>> iteration 16:O\""
      ]
     },
     "metadata": {},
     "output_type": "display_data"
    },
    {
     "data": {
      "text/plain": [
       "\"DB: opt gap = 0.12720957952938197\""
      ]
     },
     "metadata": {},
     "output_type": "display_data"
    },
    {
     "data": {
      "text/plain": [
       "\">>>>>> iteration 17:O\""
      ]
     },
     "metadata": {},
     "output_type": "display_data"
    },
    {
     "data": {
      "text/plain": [
       "\"DB: opt gap = 0.1270227168722408\""
      ]
     },
     "metadata": {},
     "output_type": "display_data"
    },
    {
     "data": {
      "text/plain": [
       "\">>>>>> iteration 18:O\""
      ]
     },
     "metadata": {},
     "output_type": "display_data"
    },
    {
     "data": {
      "text/plain": [
       "\"DB: opt gap = 0.12663387000594592\""
      ]
     },
     "metadata": {},
     "output_type": "display_data"
    },
    {
     "data": {
      "text/plain": [
       "\">>>>>> iteration 19:O\""
      ]
     },
     "metadata": {},
     "output_type": "display_data"
    },
    {
     "data": {
      "text/plain": [
       "\"DB: opt gap = 0.12646771309790372\""
      ]
     },
     "metadata": {},
     "output_type": "display_data"
    },
    {
     "data": {
      "text/plain": [
       "\">>>>>> iteration 20:O\""
      ]
     },
     "metadata": {},
     "output_type": "display_data"
    },
    {
     "data": {
      "text/plain": [
       "\"DB: opt gap = 0.12614432545472834\""
      ]
     },
     "metadata": {},
     "output_type": "display_data"
    },
    {
     "data": {
      "text/plain": [
       "\">>>>>> iteration 21:O\""
      ]
     },
     "metadata": {},
     "output_type": "display_data"
    },
    {
     "data": {
      "text/plain": [
       "\"DB: opt gap = 0.12598653090147216\""
      ]
     },
     "metadata": {},
     "output_type": "display_data"
    },
    {
     "data": {
      "text/plain": [
       "\">>>>>> iteration 22:O\""
      ]
     },
     "metadata": {},
     "output_type": "display_data"
    },
    {
     "data": {
      "text/plain": [
       "\"DB: opt gap = 0.1260727668979204\""
      ]
     },
     "metadata": {},
     "output_type": "display_data"
    },
    {
     "data": {
      "text/plain": [
       "\">>>>>> iteration 23:O\""
      ]
     },
     "metadata": {},
     "output_type": "display_data"
    },
    {
     "data": {
      "text/plain": [
       "\"DB: opt gap = 0.1259047025252323\""
      ]
     },
     "metadata": {},
     "output_type": "display_data"
    },
    {
     "data": {
      "text/plain": [
       "\">>>>>> iteration 24:O\""
      ]
     },
     "metadata": {},
     "output_type": "display_data"
    },
    {
     "data": {
      "text/plain": [
       "\">>>>>> iteration 25:F\""
      ]
     },
     "metadata": {},
     "output_type": "display_data"
    },
    {
     "data": {
      "text/plain": [
       "\"DB: opt gap = 3.7010238312714925e-7\""
      ]
     },
     "metadata": {},
     "output_type": "display_data"
    },
    {
     "data": {
      "text/plain": [
       "\">>>>>> iteration 26:O\""
      ]
     },
     "metadata": {},
     "output_type": "display_data"
    },
    {
     "data": {
      "text/plain": [
       "\"DB: opt gap = 9.427543438683972e-7\""
      ]
     },
     "metadata": {},
     "output_type": "display_data"
    },
    {
     "data": {
      "text/plain": [
       "\"time M 17.95300006866455 | time D 58.37499809265137\""
      ]
     },
     "metadata": {},
     "output_type": "display_data"
    },
    {
     "data": {
      "text/plain": [
       "\"evaluating 23 scenarios| option 3\""
      ]
     },
     "metadata": {},
     "output_type": "display_data"
    },
    {
     "data": {
      "text/plain": [
       "\"DB: opt gap = 1.0\""
      ]
     },
     "metadata": {},
     "output_type": "display_data"
    },
    {
     "data": {
      "text/plain": [
       "\">>>>>> iteration 1:O\""
      ]
     },
     "metadata": {},
     "output_type": "display_data"
    },
    {
     "data": {
      "text/plain": [
       "\"DB: opt gap = 1.0\""
      ]
     },
     "metadata": {},
     "output_type": "display_data"
    },
    {
     "data": {
      "text/plain": [
       "\">>>>>> iteration 2:O\""
      ]
     },
     "metadata": {},
     "output_type": "display_data"
    },
    {
     "data": {
      "text/plain": [
       "\"DB: opt gap = 1.0\""
      ]
     },
     "metadata": {},
     "output_type": "display_data"
    },
    {
     "data": {
      "text/plain": [
       "\">>>>>> iteration 3:O\""
      ]
     },
     "metadata": {},
     "output_type": "display_data"
    },
    {
     "data": {
      "text/plain": [
       "\"DB: opt gap = 1.0\""
      ]
     },
     "metadata": {},
     "output_type": "display_data"
    },
    {
     "data": {
      "text/plain": [
       "\">>>>>> iteration 4:O\""
      ]
     },
     "metadata": {},
     "output_type": "display_data"
    },
    {
     "data": {
      "text/plain": [
       "\"DB: opt gap = 1.0\""
      ]
     },
     "metadata": {},
     "output_type": "display_data"
    },
    {
     "data": {
      "text/plain": [
       "\">>>>>> iteration 5:O\""
      ]
     },
     "metadata": {},
     "output_type": "display_data"
    },
    {
     "data": {
      "text/plain": [
       "\"DB: opt gap = 1.0\""
      ]
     },
     "metadata": {},
     "output_type": "display_data"
    },
    {
     "data": {
      "text/plain": [
       "\">>>>>> iteration 6:O\""
      ]
     },
     "metadata": {},
     "output_type": "display_data"
    },
    {
     "data": {
      "text/plain": [
       "\"DB: opt gap = 1.0\""
      ]
     },
     "metadata": {},
     "output_type": "display_data"
    },
    {
     "data": {
      "text/plain": [
       "\">>>>>> iteration 7:O\""
      ]
     },
     "metadata": {},
     "output_type": "display_data"
    },
    {
     "data": {
      "text/plain": [
       "\"DB: opt gap = 1.0\""
      ]
     },
     "metadata": {},
     "output_type": "display_data"
    },
    {
     "data": {
      "text/plain": [
       "\">>>>>> iteration 8:O\""
      ]
     },
     "metadata": {},
     "output_type": "display_data"
    },
    {
     "data": {
      "text/plain": [
       "\"DB: opt gap = 0.15959935917443988\""
      ]
     },
     "metadata": {},
     "output_type": "display_data"
    },
    {
     "data": {
      "text/plain": [
       "\">>>>>> iteration 9:O\""
      ]
     },
     "metadata": {},
     "output_type": "display_data"
    },
    {
     "data": {
      "text/plain": [
       "\"DB: opt gap = 0.15936337724818408\""
      ]
     },
     "metadata": {},
     "output_type": "display_data"
    },
    {
     "data": {
      "text/plain": [
       "\">>>>>> iteration 10:O\""
      ]
     },
     "metadata": {},
     "output_type": "display_data"
    },
    {
     "data": {
      "text/plain": [
       "\"DB: opt gap = 0.15879365678157734\""
      ]
     },
     "metadata": {},
     "output_type": "display_data"
    },
    {
     "data": {
      "text/plain": [
       "\">>>>>> iteration 11:O\""
      ]
     },
     "metadata": {},
     "output_type": "display_data"
    },
    {
     "data": {
      "text/plain": [
       "\"DB: opt gap = 0.1585446049533722\""
      ]
     },
     "metadata": {},
     "output_type": "display_data"
    },
    {
     "data": {
      "text/plain": [
       "\">>>>>> iteration 12:O\""
      ]
     },
     "metadata": {},
     "output_type": "display_data"
    },
    {
     "data": {
      "text/plain": [
       "\"DB: opt gap = 0.15815896555691342\""
      ]
     },
     "metadata": {},
     "output_type": "display_data"
    },
    {
     "data": {
      "text/plain": [
       "\">>>>>> iteration 13:O\""
      ]
     },
     "metadata": {},
     "output_type": "display_data"
    },
    {
     "data": {
      "text/plain": [
       "\"DB: opt gap = 0.15746243723265443\""
      ]
     },
     "metadata": {},
     "output_type": "display_data"
    },
    {
     "data": {
      "text/plain": [
       "\">>>>>> iteration 14:O\""
      ]
     },
     "metadata": {},
     "output_type": "display_data"
    },
    {
     "data": {
      "text/plain": [
       "\"DB: opt gap = 0.15627916607328587\""
      ]
     },
     "metadata": {},
     "output_type": "display_data"
    },
    {
     "data": {
      "text/plain": [
       "\">>>>>> iteration 15:O\""
      ]
     },
     "metadata": {},
     "output_type": "display_data"
    },
    {
     "data": {
      "text/plain": [
       "\"DB: opt gap = 0.15606113132834984\""
      ]
     },
     "metadata": {},
     "output_type": "display_data"
    },
    {
     "data": {
      "text/plain": [
       "\">>>>>> iteration 16:O\""
      ]
     },
     "metadata": {},
     "output_type": "display_data"
    },
    {
     "data": {
      "text/plain": [
       "\"DB: opt gap = 0.15550806135453848\""
      ]
     },
     "metadata": {},
     "output_type": "display_data"
    },
    {
     "data": {
      "text/plain": [
       "\">>>>>> iteration 17:O\""
      ]
     },
     "metadata": {},
     "output_type": "display_data"
    },
    {
     "data": {
      "text/plain": [
       "\"DB: opt gap = 0.15521735380955456\""
      ]
     },
     "metadata": {},
     "output_type": "display_data"
    },
    {
     "data": {
      "text/plain": [
       "\">>>>>> iteration 18:O\""
      ]
     },
     "metadata": {},
     "output_type": "display_data"
    },
    {
     "data": {
      "text/plain": [
       "\">>>>>> iteration 19:F\""
      ]
     },
     "metadata": {},
     "output_type": "display_data"
    },
    {
     "data": {
      "text/plain": [
       "\"DB: opt gap = 1.2767146270562541e-5\""
      ]
     },
     "metadata": {},
     "output_type": "display_data"
    },
    {
     "data": {
      "text/plain": [
       "\">>>>>> iteration 20:O\""
      ]
     },
     "metadata": {},
     "output_type": "display_data"
    },
    {
     "data": {
      "text/plain": [
       "\"DB: opt gap = 1.3136754192102077e-5\""
      ]
     },
     "metadata": {},
     "output_type": "display_data"
    },
    {
     "data": {
      "text/plain": [
       "\"time M 14.340999841690063 | time D 47.06899905204773\""
      ]
     },
     "metadata": {},
     "output_type": "display_data"
    },
    {
     "data": {
      "text/plain": [
       "\"evaluating 24 scenarios| option 3\""
      ]
     },
     "metadata": {},
     "output_type": "display_data"
    },
    {
     "data": {
      "text/plain": [
       "\"DB: opt gap = 1.0\""
      ]
     },
     "metadata": {},
     "output_type": "display_data"
    },
    {
     "data": {
      "text/plain": [
       "\">>>>>> iteration 1:O\""
      ]
     },
     "metadata": {},
     "output_type": "display_data"
    },
    {
     "data": {
      "text/plain": [
       "\"DB: opt gap = 1.0\""
      ]
     },
     "metadata": {},
     "output_type": "display_data"
    },
    {
     "data": {
      "text/plain": [
       "\">>>>>> iteration 2:O\""
      ]
     },
     "metadata": {},
     "output_type": "display_data"
    },
    {
     "data": {
      "text/plain": [
       "\"DB: opt gap = 1.0\""
      ]
     },
     "metadata": {},
     "output_type": "display_data"
    },
    {
     "data": {
      "text/plain": [
       "\">>>>>> iteration 3:O\""
      ]
     },
     "metadata": {},
     "output_type": "display_data"
    },
    {
     "data": {
      "text/plain": [
       "\"DB: opt gap = 1.0\""
      ]
     },
     "metadata": {},
     "output_type": "display_data"
    },
    {
     "data": {
      "text/plain": [
       "\">>>>>> iteration 4:O\""
      ]
     },
     "metadata": {},
     "output_type": "display_data"
    },
    {
     "data": {
      "text/plain": [
       "\"DB: opt gap = 1.0\""
      ]
     },
     "metadata": {},
     "output_type": "display_data"
    },
    {
     "data": {
      "text/plain": [
       "\">>>>>> iteration 5:O\""
      ]
     },
     "metadata": {},
     "output_type": "display_data"
    },
    {
     "data": {
      "text/plain": [
       "\"DB: opt gap = 1.0\""
      ]
     },
     "metadata": {},
     "output_type": "display_data"
    },
    {
     "data": {
      "text/plain": [
       "\">>>>>> iteration 6:O\""
      ]
     },
     "metadata": {},
     "output_type": "display_data"
    },
    {
     "data": {
      "text/plain": [
       "\"DB: opt gap = 1.0\""
      ]
     },
     "metadata": {},
     "output_type": "display_data"
    },
    {
     "data": {
      "text/plain": [
       "\">>>>>> iteration 7:O\""
      ]
     },
     "metadata": {},
     "output_type": "display_data"
    },
    {
     "data": {
      "text/plain": [
       "\"DB: opt gap = 1.0\""
      ]
     },
     "metadata": {},
     "output_type": "display_data"
    },
    {
     "data": {
      "text/plain": [
       "\">>>>>> iteration 8:O\""
      ]
     },
     "metadata": {},
     "output_type": "display_data"
    },
    {
     "data": {
      "text/plain": [
       "\"DB: opt gap = 1.0\""
      ]
     },
     "metadata": {},
     "output_type": "display_data"
    },
    {
     "data": {
      "text/plain": [
       "\">>>>>> iteration 9:O\""
      ]
     },
     "metadata": {},
     "output_type": "display_data"
    },
    {
     "data": {
      "text/plain": [
       "\"DB: opt gap = 1.0\""
      ]
     },
     "metadata": {},
     "output_type": "display_data"
    },
    {
     "data": {
      "text/plain": [
       "\">>>>>> iteration 10:O\""
      ]
     },
     "metadata": {},
     "output_type": "display_data"
    },
    {
     "data": {
      "text/plain": [
       "\"DB: opt gap = 1.0\""
      ]
     },
     "metadata": {},
     "output_type": "display_data"
    },
    {
     "data": {
      "text/plain": [
       "\">>>>>> iteration 11:O\""
      ]
     },
     "metadata": {},
     "output_type": "display_data"
    },
    {
     "data": {
      "text/plain": [
       "\"DB: opt gap = 1.0\""
      ]
     },
     "metadata": {},
     "output_type": "display_data"
    },
    {
     "data": {
      "text/plain": [
       "\">>>>>> iteration 12:O\""
      ]
     },
     "metadata": {},
     "output_type": "display_data"
    },
    {
     "data": {
      "text/plain": [
       "\"DB: opt gap = 0.1795171322539948\""
      ]
     },
     "metadata": {},
     "output_type": "display_data"
    },
    {
     "data": {
      "text/plain": [
       "\">>>>>> iteration 13:O\""
      ]
     },
     "metadata": {},
     "output_type": "display_data"
    },
    {
     "data": {
      "text/plain": [
       "\"DB: opt gap = 0.17925813993727965\""
      ]
     },
     "metadata": {},
     "output_type": "display_data"
    },
    {
     "data": {
      "text/plain": [
       "\">>>>>> iteration 14:O\""
      ]
     },
     "metadata": {},
     "output_type": "display_data"
    },
    {
     "data": {
      "text/plain": [
       "\"DB: opt gap = 0.17832193087442297\""
      ]
     },
     "metadata": {},
     "output_type": "display_data"
    },
    {
     "data": {
      "text/plain": [
       "\">>>>>> iteration 15:O\""
      ]
     },
     "metadata": {},
     "output_type": "display_data"
    },
    {
     "data": {
      "text/plain": [
       "\"DB: opt gap = 0.1781846813185082\""
      ]
     },
     "metadata": {},
     "output_type": "display_data"
    },
    {
     "data": {
      "text/plain": [
       "\">>>>>> iteration 16:O\""
      ]
     },
     "metadata": {},
     "output_type": "display_data"
    },
    {
     "data": {
      "text/plain": [
       "\"DB: opt gap = 0.1775417791859953\""
      ]
     },
     "metadata": {},
     "output_type": "display_data"
    },
    {
     "data": {
      "text/plain": [
       "\">>>>>> iteration 17:O\""
      ]
     },
     "metadata": {},
     "output_type": "display_data"
    },
    {
     "data": {
      "text/plain": [
       "\"DB: opt gap = 0.17681144995593195\""
      ]
     },
     "metadata": {},
     "output_type": "display_data"
    },
    {
     "data": {
      "text/plain": [
       "\">>>>>> iteration 18:O\""
      ]
     },
     "metadata": {},
     "output_type": "display_data"
    },
    {
     "data": {
      "text/plain": [
       "\"DB: opt gap = 0.17658218636020268\""
      ]
     },
     "metadata": {},
     "output_type": "display_data"
    },
    {
     "data": {
      "text/plain": [
       "\">>>>>> iteration 19:O\""
      ]
     },
     "metadata": {},
     "output_type": "display_data"
    },
    {
     "data": {
      "text/plain": [
       "\"DB: opt gap = 0.17596124862796944\""
      ]
     },
     "metadata": {},
     "output_type": "display_data"
    },
    {
     "data": {
      "text/plain": [
       "\">>>>>> iteration 20:O\""
      ]
     },
     "metadata": {},
     "output_type": "display_data"
    },
    {
     "data": {
      "text/plain": [
       "\"DB: opt gap = 0.17575422165971497\""
      ]
     },
     "metadata": {},
     "output_type": "display_data"
    },
    {
     "data": {
      "text/plain": [
       "\">>>>>> iteration 21:O\""
      ]
     },
     "metadata": {},
     "output_type": "display_data"
    },
    {
     "data": {
      "text/plain": [
       "\"DB: opt gap = 0.17475247272067237\""
      ]
     },
     "metadata": {},
     "output_type": "display_data"
    },
    {
     "data": {
      "text/plain": [
       "\">>>>>> iteration 22:O\""
      ]
     },
     "metadata": {},
     "output_type": "display_data"
    },
    {
     "data": {
      "text/plain": [
       "\"DB: opt gap = 0.1745217844599608\""
      ]
     },
     "metadata": {},
     "output_type": "display_data"
    },
    {
     "data": {
      "text/plain": [
       "\">>>>>> iteration 23:O\""
      ]
     },
     "metadata": {},
     "output_type": "display_data"
    },
    {
     "data": {
      "text/plain": [
       "\"DB: opt gap = 1.6824047210870633e-5\""
      ]
     },
     "metadata": {},
     "output_type": "display_data"
    },
    {
     "data": {
      "text/plain": [
       "\"time M 20.497000217437744 | time D 54.18399930000305\""
      ]
     },
     "metadata": {},
     "output_type": "display_data"
    },
    {
     "data": {
      "text/plain": [
       "\"evaluating 25 scenarios| option 3\""
      ]
     },
     "metadata": {},
     "output_type": "display_data"
    },
    {
     "data": {
      "text/plain": [
       "\"DB: opt gap = 1.0\""
      ]
     },
     "metadata": {},
     "output_type": "display_data"
    },
    {
     "data": {
      "text/plain": [
       "\">>>>>> iteration 1:O\""
      ]
     },
     "metadata": {},
     "output_type": "display_data"
    },
    {
     "data": {
      "text/plain": [
       "\"DB: opt gap = 1.0\""
      ]
     },
     "metadata": {},
     "output_type": "display_data"
    },
    {
     "data": {
      "text/plain": [
       "\">>>>>> iteration 2:O\""
      ]
     },
     "metadata": {},
     "output_type": "display_data"
    },
    {
     "data": {
      "text/plain": [
       "\"DB: opt gap = 1.0\""
      ]
     },
     "metadata": {},
     "output_type": "display_data"
    },
    {
     "data": {
      "text/plain": [
       "\">>>>>> iteration 3:O\""
      ]
     },
     "metadata": {},
     "output_type": "display_data"
    },
    {
     "data": {
      "text/plain": [
       "\"DB: opt gap = 1.0\""
      ]
     },
     "metadata": {},
     "output_type": "display_data"
    },
    {
     "data": {
      "text/plain": [
       "\">>>>>> iteration 4:O\""
      ]
     },
     "metadata": {},
     "output_type": "display_data"
    },
    {
     "data": {
      "text/plain": [
       "\"DB: opt gap = 1.0\""
      ]
     },
     "metadata": {},
     "output_type": "display_data"
    },
    {
     "data": {
      "text/plain": [
       "\">>>>>> iteration 5:O\""
      ]
     },
     "metadata": {},
     "output_type": "display_data"
    },
    {
     "data": {
      "text/plain": [
       "\"DB: opt gap = 1.0\""
      ]
     },
     "metadata": {},
     "output_type": "display_data"
    },
    {
     "data": {
      "text/plain": [
       "\">>>>>> iteration 6:O\""
      ]
     },
     "metadata": {},
     "output_type": "display_data"
    },
    {
     "data": {
      "text/plain": [
       "\"DB: opt gap = 1.0\""
      ]
     },
     "metadata": {},
     "output_type": "display_data"
    },
    {
     "data": {
      "text/plain": [
       "\">>>>>> iteration 7:O\""
      ]
     },
     "metadata": {},
     "output_type": "display_data"
    },
    {
     "data": {
      "text/plain": [
       "\"DB: opt gap = 1.0\""
      ]
     },
     "metadata": {},
     "output_type": "display_data"
    },
    {
     "data": {
      "text/plain": [
       "\">>>>>> iteration 8:O\""
      ]
     },
     "metadata": {},
     "output_type": "display_data"
    },
    {
     "data": {
      "text/plain": [
       "\"DB: opt gap = 1.0\""
      ]
     },
     "metadata": {},
     "output_type": "display_data"
    },
    {
     "data": {
      "text/plain": [
       "\">>>>>> iteration 9:O\""
      ]
     },
     "metadata": {},
     "output_type": "display_data"
    },
    {
     "data": {
      "text/plain": [
       "\"DB: opt gap = 1.0\""
      ]
     },
     "metadata": {},
     "output_type": "display_data"
    },
    {
     "data": {
      "text/plain": [
       "\">>>>>> iteration 10:O\""
      ]
     },
     "metadata": {},
     "output_type": "display_data"
    },
    {
     "data": {
      "text/plain": [
       "\"DB: opt gap = 0.13617664301488028\""
      ]
     },
     "metadata": {},
     "output_type": "display_data"
    },
    {
     "data": {
      "text/plain": [
       "\">>>>>> iteration 11:O\""
      ]
     },
     "metadata": {},
     "output_type": "display_data"
    },
    {
     "data": {
      "text/plain": [
       "\"DB: opt gap = 0.13602137002624612\""
      ]
     },
     "metadata": {},
     "output_type": "display_data"
    },
    {
     "data": {
      "text/plain": [
       "\">>>>>> iteration 12:O\""
      ]
     },
     "metadata": {},
     "output_type": "display_data"
    },
    {
     "data": {
      "text/plain": [
       "\">>>>>> iteration 13:F\""
      ]
     },
     "metadata": {},
     "output_type": "display_data"
    },
    {
     "data": {
      "text/plain": [
       "\"DB: opt gap = 0.13569799098349156\""
      ]
     },
     "metadata": {},
     "output_type": "display_data"
    },
    {
     "data": {
      "text/plain": [
       "\">>>>>> iteration 14:O\""
      ]
     },
     "metadata": {},
     "output_type": "display_data"
    },
    {
     "data": {
      "text/plain": [
       "\"DB: opt gap = 0.1334711161331568\""
      ]
     },
     "metadata": {},
     "output_type": "display_data"
    },
    {
     "data": {
      "text/plain": [
       "\">>>>>> iteration 15:O\""
      ]
     },
     "metadata": {},
     "output_type": "display_data"
    },
    {
     "data": {
      "text/plain": [
       "\"DB: opt gap = 0.13305224600874524\""
      ]
     },
     "metadata": {},
     "output_type": "display_data"
    },
    {
     "data": {
      "text/plain": [
       "\">>>>>> iteration 16:O\""
      ]
     },
     "metadata": {},
     "output_type": "display_data"
    },
    {
     "data": {
      "text/plain": [
       "\"DB: opt gap = 0.13272882251144827\""
      ]
     },
     "metadata": {},
     "output_type": "display_data"
    },
    {
     "data": {
      "text/plain": [
       "\">>>>>> iteration 17:O\""
      ]
     },
     "metadata": {},
     "output_type": "display_data"
    },
    {
     "data": {
      "text/plain": [
       "\"DB: opt gap = 0.13123678851841666\""
      ]
     },
     "metadata": {},
     "output_type": "display_data"
    },
    {
     "data": {
      "text/plain": [
       "\">>>>>> iteration 18:O\""
      ]
     },
     "metadata": {},
     "output_type": "display_data"
    },
    {
     "data": {
      "text/plain": [
       "\"DB: opt gap = 0.13111672587389403\""
      ]
     },
     "metadata": {},
     "output_type": "display_data"
    },
    {
     "data": {
      "text/plain": [
       "\">>>>>> iteration 19:O\""
      ]
     },
     "metadata": {},
     "output_type": "display_data"
    },
    {
     "data": {
      "text/plain": [
       "\"DB: opt gap = 2.4158547119652885e-5\""
      ]
     },
     "metadata": {},
     "output_type": "display_data"
    },
    {
     "data": {
      "text/plain": [
       "\"time M 19.039000034332275 | time D 52.26700258255005\""
      ]
     },
     "metadata": {},
     "output_type": "display_data"
    },
    {
     "data": {
      "text/plain": [
       "\"evaluating 26 scenarios| option 3\""
      ]
     },
     "metadata": {},
     "output_type": "display_data"
    },
    {
     "data": {
      "text/plain": [
       "\"DB: opt gap = 1.0\""
      ]
     },
     "metadata": {},
     "output_type": "display_data"
    },
    {
     "data": {
      "text/plain": [
       "\">>>>>> iteration 1:O\""
      ]
     },
     "metadata": {},
     "output_type": "display_data"
    },
    {
     "data": {
      "text/plain": [
       "\"DB: opt gap = 1.0\""
      ]
     },
     "metadata": {},
     "output_type": "display_data"
    },
    {
     "data": {
      "text/plain": [
       "\">>>>>> iteration 2:O\""
      ]
     },
     "metadata": {},
     "output_type": "display_data"
    },
    {
     "data": {
      "text/plain": [
       "\"DB: opt gap = 1.0\""
      ]
     },
     "metadata": {},
     "output_type": "display_data"
    },
    {
     "data": {
      "text/plain": [
       "\">>>>>> iteration 3:O\""
      ]
     },
     "metadata": {},
     "output_type": "display_data"
    },
    {
     "data": {
      "text/plain": [
       "\"DB: opt gap = 1.0\""
      ]
     },
     "metadata": {},
     "output_type": "display_data"
    },
    {
     "data": {
      "text/plain": [
       "\">>>>>> iteration 4:O\""
      ]
     },
     "metadata": {},
     "output_type": "display_data"
    },
    {
     "data": {
      "text/plain": [
       "\"DB: opt gap = 1.0\""
      ]
     },
     "metadata": {},
     "output_type": "display_data"
    },
    {
     "data": {
      "text/plain": [
       "\">>>>>> iteration 5:O\""
      ]
     },
     "metadata": {},
     "output_type": "display_data"
    },
    {
     "data": {
      "text/plain": [
       "\"DB: opt gap = 1.0\""
      ]
     },
     "metadata": {},
     "output_type": "display_data"
    },
    {
     "data": {
      "text/plain": [
       "\">>>>>> iteration 6:O\""
      ]
     },
     "metadata": {},
     "output_type": "display_data"
    },
    {
     "data": {
      "text/plain": [
       "\"DB: opt gap = 1.0\""
      ]
     },
     "metadata": {},
     "output_type": "display_data"
    },
    {
     "data": {
      "text/plain": [
       "\">>>>>> iteration 7:O\""
      ]
     },
     "metadata": {},
     "output_type": "display_data"
    },
    {
     "data": {
      "text/plain": [
       "\"DB: opt gap = 1.0\""
      ]
     },
     "metadata": {},
     "output_type": "display_data"
    },
    {
     "data": {
      "text/plain": [
       "\">>>>>> iteration 8:O\""
      ]
     },
     "metadata": {},
     "output_type": "display_data"
    },
    {
     "data": {
      "text/plain": [
       "\"DB: opt gap = 1.0\""
      ]
     },
     "metadata": {},
     "output_type": "display_data"
    },
    {
     "data": {
      "text/plain": [
       "\">>>>>> iteration 9:O\""
      ]
     },
     "metadata": {},
     "output_type": "display_data"
    },
    {
     "data": {
      "text/plain": [
       "\"DB: opt gap = 1.0\""
      ]
     },
     "metadata": {},
     "output_type": "display_data"
    },
    {
     "data": {
      "text/plain": [
       "\">>>>>> iteration 10:O\""
      ]
     },
     "metadata": {},
     "output_type": "display_data"
    },
    {
     "data": {
      "text/plain": [
       "\"DB: opt gap = 1.0\""
      ]
     },
     "metadata": {},
     "output_type": "display_data"
    },
    {
     "data": {
      "text/plain": [
       "\">>>>>> iteration 11:O\""
      ]
     },
     "metadata": {},
     "output_type": "display_data"
    },
    {
     "data": {
      "text/plain": [
       "\"DB: opt gap = 1.0\""
      ]
     },
     "metadata": {},
     "output_type": "display_data"
    },
    {
     "data": {
      "text/plain": [
       "\">>>>>> iteration 12:O\""
      ]
     },
     "metadata": {},
     "output_type": "display_data"
    },
    {
     "data": {
      "text/plain": [
       "\"DB: opt gap = 1.0\""
      ]
     },
     "metadata": {},
     "output_type": "display_data"
    },
    {
     "data": {
      "text/plain": [
       "\">>>>>> iteration 13:O\""
      ]
     },
     "metadata": {},
     "output_type": "display_data"
    },
    {
     "data": {
      "text/plain": [
       "\"DB: opt gap = 0.15021207274792617\""
      ]
     },
     "metadata": {},
     "output_type": "display_data"
    },
    {
     "data": {
      "text/plain": [
       "\">>>>>> iteration 14:O\""
      ]
     },
     "metadata": {},
     "output_type": "display_data"
    },
    {
     "data": {
      "text/plain": [
       "\"DB: opt gap = 0.15003230580313984\""
      ]
     },
     "metadata": {},
     "output_type": "display_data"
    },
    {
     "data": {
      "text/plain": [
       "\">>>>>> iteration 15:O\""
      ]
     },
     "metadata": {},
     "output_type": "display_data"
    },
    {
     "data": {
      "text/plain": [
       "\"DB: opt gap = 0.14962255082471496\""
      ]
     },
     "metadata": {},
     "output_type": "display_data"
    },
    {
     "data": {
      "text/plain": [
       "\">>>>>> iteration 16:O\""
      ]
     },
     "metadata": {},
     "output_type": "display_data"
    },
    {
     "data": {
      "text/plain": [
       "\"DB: opt gap = 0.14943543661724007\""
      ]
     },
     "metadata": {},
     "output_type": "display_data"
    },
    {
     "data": {
      "text/plain": [
       "\">>>>>> iteration 17:O\""
      ]
     },
     "metadata": {},
     "output_type": "display_data"
    },
    {
     "data": {
      "text/plain": [
       "\"DB: opt gap = 0.14915954457693748\""
      ]
     },
     "metadata": {},
     "output_type": "display_data"
    },
    {
     "data": {
      "text/plain": [
       "\">>>>>> iteration 18:O\""
      ]
     },
     "metadata": {},
     "output_type": "display_data"
    },
    {
     "data": {
      "text/plain": [
       "\">>>>>> iteration 19:F\""
      ]
     },
     "metadata": {},
     "output_type": "display_data"
    },
    {
     "data": {
      "text/plain": [
       "\"DB: opt gap = 0.1486233024763152\""
      ]
     },
     "metadata": {},
     "output_type": "display_data"
    },
    {
     "data": {
      "text/plain": [
       "\">>>>>> iteration 20:O\""
      ]
     },
     "metadata": {},
     "output_type": "display_data"
    },
    {
     "data": {
      "text/plain": [
       "\"DB: opt gap = 0.14805513048722418\""
      ]
     },
     "metadata": {},
     "output_type": "display_data"
    },
    {
     "data": {
      "text/plain": [
       "\">>>>>> iteration 21:O\""
      ]
     },
     "metadata": {},
     "output_type": "display_data"
    },
    {
     "data": {
      "text/plain": [
       "\"DB: opt gap = 0.1475141612029025\""
      ]
     },
     "metadata": {},
     "output_type": "display_data"
    },
    {
     "data": {
      "text/plain": [
       "\">>>>>> iteration 22:O\""
      ]
     },
     "metadata": {},
     "output_type": "display_data"
    },
    {
     "data": {
      "text/plain": [
       "\"DB: opt gap = 0.14720498454426395\""
      ]
     },
     "metadata": {},
     "output_type": "display_data"
    },
    {
     "data": {
      "text/plain": [
       "\">>>>>> iteration 23:O\""
      ]
     },
     "metadata": {},
     "output_type": "display_data"
    },
    {
     "data": {
      "text/plain": [
       "\"DB: opt gap = 5.806528749646463e-6\""
      ]
     },
     "metadata": {},
     "output_type": "display_data"
    },
    {
     "data": {
      "text/plain": [
       "\"time M 24.243000030517578 | time D 65.34100079536438\""
      ]
     },
     "metadata": {},
     "output_type": "display_data"
    },
    {
     "data": {
      "text/plain": [
       "\"evaluating 27 scenarios| option 3\""
      ]
     },
     "metadata": {},
     "output_type": "display_data"
    },
    {
     "data": {
      "text/plain": [
       "\"DB: opt gap = 1.0\""
      ]
     },
     "metadata": {},
     "output_type": "display_data"
    },
    {
     "data": {
      "text/plain": [
       "\">>>>>> iteration 1:O\""
      ]
     },
     "metadata": {},
     "output_type": "display_data"
    },
    {
     "data": {
      "text/plain": [
       "\"DB: opt gap = 1.0\""
      ]
     },
     "metadata": {},
     "output_type": "display_data"
    },
    {
     "data": {
      "text/plain": [
       "\">>>>>> iteration 2:O\""
      ]
     },
     "metadata": {},
     "output_type": "display_data"
    },
    {
     "data": {
      "text/plain": [
       "\"DB: opt gap = 1.0\""
      ]
     },
     "metadata": {},
     "output_type": "display_data"
    },
    {
     "data": {
      "text/plain": [
       "\">>>>>> iteration 3:O\""
      ]
     },
     "metadata": {},
     "output_type": "display_data"
    },
    {
     "data": {
      "text/plain": [
       "\"DB: opt gap = 1.0\""
      ]
     },
     "metadata": {},
     "output_type": "display_data"
    },
    {
     "data": {
      "text/plain": [
       "\">>>>>> iteration 4:O\""
      ]
     },
     "metadata": {},
     "output_type": "display_data"
    },
    {
     "data": {
      "text/plain": [
       "\"DB: opt gap = 1.0\""
      ]
     },
     "metadata": {},
     "output_type": "display_data"
    },
    {
     "data": {
      "text/plain": [
       "\">>>>>> iteration 5:O\""
      ]
     },
     "metadata": {},
     "output_type": "display_data"
    },
    {
     "data": {
      "text/plain": [
       "\"DB: opt gap = 1.0\""
      ]
     },
     "metadata": {},
     "output_type": "display_data"
    },
    {
     "data": {
      "text/plain": [
       "\">>>>>> iteration 6:O\""
      ]
     },
     "metadata": {},
     "output_type": "display_data"
    },
    {
     "data": {
      "text/plain": [
       "\"DB: opt gap = 1.0\""
      ]
     },
     "metadata": {},
     "output_type": "display_data"
    },
    {
     "data": {
      "text/plain": [
       "\">>>>>> iteration 7:O\""
      ]
     },
     "metadata": {},
     "output_type": "display_data"
    },
    {
     "data": {
      "text/plain": [
       "\"DB: opt gap = 1.0\""
      ]
     },
     "metadata": {},
     "output_type": "display_data"
    },
    {
     "data": {
      "text/plain": [
       "\">>>>>> iteration 8:O\""
      ]
     },
     "metadata": {},
     "output_type": "display_data"
    },
    {
     "data": {
      "text/plain": [
       "\"DB: opt gap = 1.0\""
      ]
     },
     "metadata": {},
     "output_type": "display_data"
    },
    {
     "data": {
      "text/plain": [
       "\">>>>>> iteration 9:O\""
      ]
     },
     "metadata": {},
     "output_type": "display_data"
    },
    {
     "data": {
      "text/plain": [
       "\"DB: opt gap = 1.0\""
      ]
     },
     "metadata": {},
     "output_type": "display_data"
    },
    {
     "data": {
      "text/plain": [
       "\">>>>>> iteration 10:O\""
      ]
     },
     "metadata": {},
     "output_type": "display_data"
    },
    {
     "data": {
      "text/plain": [
       "\"DB: opt gap = 1.0\""
      ]
     },
     "metadata": {},
     "output_type": "display_data"
    },
    {
     "data": {
      "text/plain": [
       "\">>>>>> iteration 11:O\""
      ]
     },
     "metadata": {},
     "output_type": "display_data"
    },
    {
     "data": {
      "text/plain": [
       "\"DB: opt gap = 1.0\""
      ]
     },
     "metadata": {},
     "output_type": "display_data"
    },
    {
     "data": {
      "text/plain": [
       "\">>>>>> iteration 12:O\""
      ]
     },
     "metadata": {},
     "output_type": "display_data"
    },
    {
     "data": {
      "text/plain": [
       "\"DB: opt gap = 1.0\""
      ]
     },
     "metadata": {},
     "output_type": "display_data"
    },
    {
     "data": {
      "text/plain": [
       "\">>>>>> iteration 13:O\""
      ]
     },
     "metadata": {},
     "output_type": "display_data"
    },
    {
     "data": {
      "text/plain": [
       "\"DB: opt gap = 1.0\""
      ]
     },
     "metadata": {},
     "output_type": "display_data"
    },
    {
     "data": {
      "text/plain": [
       "\">>>>>> iteration 14:O\""
      ]
     },
     "metadata": {},
     "output_type": "display_data"
    },
    {
     "data": {
      "text/plain": [
       "\"DB: opt gap = 1.0\""
      ]
     },
     "metadata": {},
     "output_type": "display_data"
    },
    {
     "data": {
      "text/plain": [
       "\">>>>>> iteration 15:O\""
      ]
     },
     "metadata": {},
     "output_type": "display_data"
    },
    {
     "data": {
      "text/plain": [
       "\"DB: opt gap = 0.1354017856703154\""
      ]
     },
     "metadata": {},
     "output_type": "display_data"
    },
    {
     "data": {
      "text/plain": [
       "\">>>>>> iteration 16:O\""
      ]
     },
     "metadata": {},
     "output_type": "display_data"
    },
    {
     "data": {
      "text/plain": [
       "\"DB: opt gap = 0.13525268386393638\""
      ]
     },
     "metadata": {},
     "output_type": "display_data"
    },
    {
     "data": {
      "text/plain": [
       "\">>>>>> iteration 17:O\""
      ]
     },
     "metadata": {},
     "output_type": "display_data"
    },
    {
     "data": {
      "text/plain": [
       "\"DB: opt gap = 0.13493413856261635\""
      ]
     },
     "metadata": {},
     "output_type": "display_data"
    },
    {
     "data": {
      "text/plain": [
       "\">>>>>> iteration 18:O\""
      ]
     },
     "metadata": {},
     "output_type": "display_data"
    },
    {
     "data": {
      "text/plain": [
       "\">>>>>> iteration 19:F\""
      ]
     },
     "metadata": {},
     "output_type": "display_data"
    },
    {
     "data": {
      "text/plain": [
       "\"DB: opt gap = 0.13452083280638172\""
      ]
     },
     "metadata": {},
     "output_type": "display_data"
    },
    {
     "data": {
      "text/plain": [
       "\">>>>>> iteration 20:O\""
      ]
     },
     "metadata": {},
     "output_type": "display_data"
    },
    {
     "data": {
      "text/plain": [
       "\"DB: opt gap = 0.13433697573778625\""
      ]
     },
     "metadata": {},
     "output_type": "display_data"
    },
    {
     "data": {
      "text/plain": [
       "\">>>>>> iteration 21:O\""
      ]
     },
     "metadata": {},
     "output_type": "display_data"
    },
    {
     "data": {
      "text/plain": [
       "\"DB: opt gap = 0.13383348043132906\""
      ]
     },
     "metadata": {},
     "output_type": "display_data"
    },
    {
     "data": {
      "text/plain": [
       "\">>>>>> iteration 22:O\""
      ]
     },
     "metadata": {},
     "output_type": "display_data"
    },
    {
     "data": {
      "text/plain": [
       "\"DB: opt gap = 0.13320592677807458\""
      ]
     },
     "metadata": {},
     "output_type": "display_data"
    },
    {
     "data": {
      "text/plain": [
       "\">>>>>> iteration 23:O\""
      ]
     },
     "metadata": {},
     "output_type": "display_data"
    },
    {
     "data": {
      "text/plain": [
       "\"DB: opt gap = 0.1320142345582844\""
      ]
     },
     "metadata": {},
     "output_type": "display_data"
    },
    {
     "data": {
      "text/plain": [
       "\">>>>>> iteration 24:O\""
      ]
     },
     "metadata": {},
     "output_type": "display_data"
    },
    {
     "data": {
      "text/plain": [
       "\"DB: opt gap = 0.13185696763844995\""
      ]
     },
     "metadata": {},
     "output_type": "display_data"
    },
    {
     "data": {
      "text/plain": [
       "\">>>>>> iteration 25:O\""
      ]
     },
     "metadata": {},
     "output_type": "display_data"
    },
    {
     "data": {
      "text/plain": [
       "\"DB: opt gap = 9.792112001086032e-6\""
      ]
     },
     "metadata": {},
     "output_type": "display_data"
    },
    {
     "data": {
      "text/plain": [
       "\"time M 21.263999938964844 | time D 69.60300183296204\""
      ]
     },
     "metadata": {},
     "output_type": "display_data"
    },
    {
     "data": {
      "text/plain": [
       "\"evaluating 28 scenarios| option 3\""
      ]
     },
     "metadata": {},
     "output_type": "display_data"
    },
    {
     "data": {
      "text/plain": [
       "\"DB: opt gap = 1.0\""
      ]
     },
     "metadata": {},
     "output_type": "display_data"
    },
    {
     "data": {
      "text/plain": [
       "\">>>>>> iteration 1:O\""
      ]
     },
     "metadata": {},
     "output_type": "display_data"
    },
    {
     "data": {
      "text/plain": [
       "\"DB: opt gap = 1.0\""
      ]
     },
     "metadata": {},
     "output_type": "display_data"
    },
    {
     "data": {
      "text/plain": [
       "\">>>>>> iteration 2:O\""
      ]
     },
     "metadata": {},
     "output_type": "display_data"
    },
    {
     "data": {
      "text/plain": [
       "\"DB: opt gap = 1.0\""
      ]
     },
     "metadata": {},
     "output_type": "display_data"
    },
    {
     "data": {
      "text/plain": [
       "\">>>>>> iteration 3:O\""
      ]
     },
     "metadata": {},
     "output_type": "display_data"
    },
    {
     "data": {
      "text/plain": [
       "\"DB: opt gap = 1.0\""
      ]
     },
     "metadata": {},
     "output_type": "display_data"
    },
    {
     "data": {
      "text/plain": [
       "\">>>>>> iteration 4:O\""
      ]
     },
     "metadata": {},
     "output_type": "display_data"
    },
    {
     "data": {
      "text/plain": [
       "\"DB: opt gap = 1.0\""
      ]
     },
     "metadata": {},
     "output_type": "display_data"
    },
    {
     "data": {
      "text/plain": [
       "\">>>>>> iteration 5:O\""
      ]
     },
     "metadata": {},
     "output_type": "display_data"
    },
    {
     "data": {
      "text/plain": [
       "\"DB: opt gap = 1.0\""
      ]
     },
     "metadata": {},
     "output_type": "display_data"
    },
    {
     "data": {
      "text/plain": [
       "\">>>>>> iteration 6:O\""
      ]
     },
     "metadata": {},
     "output_type": "display_data"
    },
    {
     "data": {
      "text/plain": [
       "\"DB: opt gap = 1.0\""
      ]
     },
     "metadata": {},
     "output_type": "display_data"
    },
    {
     "data": {
      "text/plain": [
       "\">>>>>> iteration 7:O\""
      ]
     },
     "metadata": {},
     "output_type": "display_data"
    },
    {
     "data": {
      "text/plain": [
       "\"DB: opt gap = 1.0\""
      ]
     },
     "metadata": {},
     "output_type": "display_data"
    },
    {
     "data": {
      "text/plain": [
       "\">>>>>> iteration 8:O\""
      ]
     },
     "metadata": {},
     "output_type": "display_data"
    },
    {
     "data": {
      "text/plain": [
       "\"DB: opt gap = 1.0\""
      ]
     },
     "metadata": {},
     "output_type": "display_data"
    },
    {
     "data": {
      "text/plain": [
       "\">>>>>> iteration 9:O\""
      ]
     },
     "metadata": {},
     "output_type": "display_data"
    },
    {
     "data": {
      "text/plain": [
       "\"DB: opt gap = 0.1517928951101948\""
      ]
     },
     "metadata": {},
     "output_type": "display_data"
    },
    {
     "data": {
      "text/plain": [
       "\">>>>>> iteration 10:O\""
      ]
     },
     "metadata": {},
     "output_type": "display_data"
    },
    {
     "data": {
      "text/plain": [
       "\"DB: opt gap = 0.1516127427489152\""
      ]
     },
     "metadata": {},
     "output_type": "display_data"
    },
    {
     "data": {
      "text/plain": [
       "\">>>>>> iteration 11:O\""
      ]
     },
     "metadata": {},
     "output_type": "display_data"
    },
    {
     "data": {
      "text/plain": [
       "\"DB: opt gap = 0.15126384508869709\""
      ]
     },
     "metadata": {},
     "output_type": "display_data"
    },
    {
     "data": {
      "text/plain": [
       "\">>>>>> iteration 12:O\""
      ]
     },
     "metadata": {},
     "output_type": "display_data"
    },
    {
     "data": {
      "text/plain": [
       "\"DB: opt gap = 0.1507949348972314\""
      ]
     },
     "metadata": {},
     "output_type": "display_data"
    },
    {
     "data": {
      "text/plain": [
       "\">>>>>> iteration 13:O\""
      ]
     },
     "metadata": {},
     "output_type": "display_data"
    },
    {
     "data": {
      "text/plain": [
       "\"DB: opt gap = 0.15037718017541613\""
      ]
     },
     "metadata": {},
     "output_type": "display_data"
    },
    {
     "data": {
      "text/plain": [
       "\">>>>>> iteration 14:O\""
      ]
     },
     "metadata": {},
     "output_type": "display_data"
    },
    {
     "data": {
      "text/plain": [
       "\"DB: opt gap = 0.15029510700298807\""
      ]
     },
     "metadata": {},
     "output_type": "display_data"
    },
    {
     "data": {
      "text/plain": [
       "\">>>>>> iteration 15:O\""
      ]
     },
     "metadata": {},
     "output_type": "display_data"
    },
    {
     "data": {
      "text/plain": [
       "\"DB: opt gap = 0.15013158761940507\""
      ]
     },
     "metadata": {},
     "output_type": "display_data"
    },
    {
     "data": {
      "text/plain": [
       "\">>>>>> iteration 16:O\""
      ]
     },
     "metadata": {},
     "output_type": "display_data"
    },
    {
     "data": {
      "text/plain": [
       "\">>>>>> iteration 17:F\""
      ]
     },
     "metadata": {},
     "output_type": "display_data"
    },
    {
     "data": {
      "text/plain": [
       "\"DB: opt gap = 0.14984858717803043\""
      ]
     },
     "metadata": {},
     "output_type": "display_data"
    },
    {
     "data": {
      "text/plain": [
       "\">>>>>> iteration 18:O\""
      ]
     },
     "metadata": {},
     "output_type": "display_data"
    },
    {
     "data": {
      "text/plain": [
       "\"DB: opt gap = 0.1496832256117223\""
      ]
     },
     "metadata": {},
     "output_type": "display_data"
    },
    {
     "data": {
      "text/plain": [
       "\">>>>>> iteration 19:O\""
      ]
     },
     "metadata": {},
     "output_type": "display_data"
    },
    {
     "data": {
      "text/plain": [
       "\"DB: opt gap = 0.1488591005198979\""
      ]
     },
     "metadata": {},
     "output_type": "display_data"
    },
    {
     "data": {
      "text/plain": [
       "\">>>>>> iteration 20:O\""
      ]
     },
     "metadata": {},
     "output_type": "display_data"
    },
    {
     "data": {
      "text/plain": [
       "\"DB: opt gap = 5.758290238691793e-6\""
      ]
     },
     "metadata": {},
     "output_type": "display_data"
    },
    {
     "data": {
      "text/plain": [
       "\"time M 22.746000051498413 | time D 59.982001066207886\""
      ]
     },
     "metadata": {},
     "output_type": "display_data"
    },
    {
     "data": {
      "text/plain": [
       "\"evaluating 29 scenarios| option 3\""
      ]
     },
     "metadata": {},
     "output_type": "display_data"
    },
    {
     "data": {
      "text/plain": [
       "\"DB: opt gap = 1.0\""
      ]
     },
     "metadata": {},
     "output_type": "display_data"
    },
    {
     "data": {
      "text/plain": [
       "\">>>>>> iteration 1:O\""
      ]
     },
     "metadata": {},
     "output_type": "display_data"
    },
    {
     "data": {
      "text/plain": [
       "\"DB: opt gap = 1.0\""
      ]
     },
     "metadata": {},
     "output_type": "display_data"
    },
    {
     "data": {
      "text/plain": [
       "\">>>>>> iteration 2:O\""
      ]
     },
     "metadata": {},
     "output_type": "display_data"
    },
    {
     "data": {
      "text/plain": [
       "\"DB: opt gap = 1.0\""
      ]
     },
     "metadata": {},
     "output_type": "display_data"
    },
    {
     "data": {
      "text/plain": [
       "\">>>>>> iteration 3:O\""
      ]
     },
     "metadata": {},
     "output_type": "display_data"
    },
    {
     "data": {
      "text/plain": [
       "\">>>>>> iteration 4:F\""
      ]
     },
     "metadata": {},
     "output_type": "display_data"
    },
    {
     "data": {
      "text/plain": [
       "\"DB: opt gap = 1.0\""
      ]
     },
     "metadata": {},
     "output_type": "display_data"
    },
    {
     "data": {
      "text/plain": [
       "\">>>>>> iteration 5:O\""
      ]
     },
     "metadata": {},
     "output_type": "display_data"
    },
    {
     "data": {
      "text/plain": [
       "\"DB: opt gap = 0.9999999999905743\""
      ]
     },
     "metadata": {},
     "output_type": "display_data"
    },
    {
     "data": {
      "text/plain": [
       "\">>>>>> iteration 6:O\""
      ]
     },
     "metadata": {},
     "output_type": "display_data"
    },
    {
     "data": {
      "text/plain": [
       "\"DB: opt gap = 0.036213450163170846\""
      ]
     },
     "metadata": {},
     "output_type": "display_data"
    },
    {
     "data": {
      "text/plain": [
       "\">>>>>> iteration 7:O\""
      ]
     },
     "metadata": {},
     "output_type": "display_data"
    },
    {
     "data": {
      "text/plain": [
       "\"DB: opt gap = 0.03613859470050714\""
      ]
     },
     "metadata": {},
     "output_type": "display_data"
    },
    {
     "data": {
      "text/plain": [
       "\">>>>>> iteration 8:O\""
      ]
     },
     "metadata": {},
     "output_type": "display_data"
    },
    {
     "data": {
      "text/plain": [
       "\"DB: opt gap = 0.03611236881742081\""
      ]
     },
     "metadata": {},
     "output_type": "display_data"
    },
    {
     "data": {
      "text/plain": [
       "\">>>>>> iteration 9:O\""
      ]
     },
     "metadata": {},
     "output_type": "display_data"
    },
    {
     "data": {
      "text/plain": [
       "\"DB: opt gap = 0.03608253007919827\""
      ]
     },
     "metadata": {},
     "output_type": "display_data"
    },
    {
     "data": {
      "text/plain": [
       "\">>>>>> iteration 10:O\""
      ]
     },
     "metadata": {},
     "output_type": "display_data"
    },
    {
     "data": {
      "text/plain": [
       "\"DB: opt gap = 0.03586280865092528\""
      ]
     },
     "metadata": {},
     "output_type": "display_data"
    },
    {
     "data": {
      "text/plain": [
       "\">>>>>> iteration 11:O\""
      ]
     },
     "metadata": {},
     "output_type": "display_data"
    },
    {
     "data": {
      "text/plain": [
       "\"DB: opt gap = 0.03582913114945588\""
      ]
     },
     "metadata": {},
     "output_type": "display_data"
    },
    {
     "data": {
      "text/plain": [
       "\">>>>>> iteration 12:O\""
      ]
     },
     "metadata": {},
     "output_type": "display_data"
    },
    {
     "data": {
      "text/plain": [
       "\"DB: opt gap = 0.035778118659661885\""
      ]
     },
     "metadata": {},
     "output_type": "display_data"
    },
    {
     "data": {
      "text/plain": [
       "\">>>>>> iteration 13:O\""
      ]
     },
     "metadata": {},
     "output_type": "display_data"
    },
    {
     "data": {
      "text/plain": [
       "\"DB: opt gap = 1.0927233869743258e-6\""
      ]
     },
     "metadata": {},
     "output_type": "display_data"
    },
    {
     "data": {
      "text/plain": [
       "\"time M 20.75499987602234 | time D 41.48400044441223\""
      ]
     },
     "metadata": {},
     "output_type": "display_data"
    },
    {
     "data": {
      "text/plain": [
       "\"evaluating 30 scenarios| option 3\""
      ]
     },
     "metadata": {},
     "output_type": "display_data"
    },
    {
     "data": {
      "text/plain": [
       "\"DB: opt gap = 1.0\""
      ]
     },
     "metadata": {},
     "output_type": "display_data"
    },
    {
     "data": {
      "text/plain": [
       "\">>>>>> iteration 1:O\""
      ]
     },
     "metadata": {},
     "output_type": "display_data"
    },
    {
     "data": {
      "text/plain": [
       "\"DB: opt gap = 1.0\""
      ]
     },
     "metadata": {},
     "output_type": "display_data"
    },
    {
     "data": {
      "text/plain": [
       "\">>>>>> iteration 2:O\""
      ]
     },
     "metadata": {},
     "output_type": "display_data"
    },
    {
     "data": {
      "text/plain": [
       "\"DB: opt gap = 1.0\""
      ]
     },
     "metadata": {},
     "output_type": "display_data"
    },
    {
     "data": {
      "text/plain": [
       "\">>>>>> iteration 3:O\""
      ]
     },
     "metadata": {},
     "output_type": "display_data"
    },
    {
     "data": {
      "text/plain": [
       "\"DB: opt gap = 1.0\""
      ]
     },
     "metadata": {},
     "output_type": "display_data"
    },
    {
     "data": {
      "text/plain": [
       "\">>>>>> iteration 4:O\""
      ]
     },
     "metadata": {},
     "output_type": "display_data"
    },
    {
     "data": {
      "text/plain": [
       "\"DB: opt gap = 1.0\""
      ]
     },
     "metadata": {},
     "output_type": "display_data"
    },
    {
     "data": {
      "text/plain": [
       "\">>>>>> iteration 5:O\""
      ]
     },
     "metadata": {},
     "output_type": "display_data"
    },
    {
     "data": {
      "text/plain": [
       "\"DB: opt gap = 1.0\""
      ]
     },
     "metadata": {},
     "output_type": "display_data"
    },
    {
     "data": {
      "text/plain": [
       "\">>>>>> iteration 6:O\""
      ]
     },
     "metadata": {},
     "output_type": "display_data"
    },
    {
     "data": {
      "text/plain": [
       "\"DB: opt gap = 1.0\""
      ]
     },
     "metadata": {},
     "output_type": "display_data"
    },
    {
     "data": {
      "text/plain": [
       "\">>>>>> iteration 7:O\""
      ]
     },
     "metadata": {},
     "output_type": "display_data"
    },
    {
     "data": {
      "text/plain": [
       "\"DB: opt gap = 1.0\""
      ]
     },
     "metadata": {},
     "output_type": "display_data"
    },
    {
     "data": {
      "text/plain": [
       "\">>>>>> iteration 8:O\""
      ]
     },
     "metadata": {},
     "output_type": "display_data"
    },
    {
     "data": {
      "text/plain": [
       "\"DB: opt gap = 1.0\""
      ]
     },
     "metadata": {},
     "output_type": "display_data"
    },
    {
     "data": {
      "text/plain": [
       "\">>>>>> iteration 9:O\""
      ]
     },
     "metadata": {},
     "output_type": "display_data"
    },
    {
     "data": {
      "text/plain": [
       "\"DB: opt gap = 1.0\""
      ]
     },
     "metadata": {},
     "output_type": "display_data"
    },
    {
     "data": {
      "text/plain": [
       "\">>>>>> iteration 10:O\""
      ]
     },
     "metadata": {},
     "output_type": "display_data"
    },
    {
     "data": {
      "text/plain": [
       "\"DB: opt gap = 1.0\""
      ]
     },
     "metadata": {},
     "output_type": "display_data"
    },
    {
     "data": {
      "text/plain": [
       "\">>>>>> iteration 11:O\""
      ]
     },
     "metadata": {},
     "output_type": "display_data"
    },
    {
     "data": {
      "text/plain": [
       "\"DB: opt gap = 1.0\""
      ]
     },
     "metadata": {},
     "output_type": "display_data"
    },
    {
     "data": {
      "text/plain": [
       "\">>>>>> iteration 12:O\""
      ]
     },
     "metadata": {},
     "output_type": "display_data"
    },
    {
     "data": {
      "text/plain": [
       "\"DB: opt gap = 1.0\""
      ]
     },
     "metadata": {},
     "output_type": "display_data"
    },
    {
     "data": {
      "text/plain": [
       "\">>>>>> iteration 13:O\""
      ]
     },
     "metadata": {},
     "output_type": "display_data"
    },
    {
     "data": {
      "text/plain": [
       "\"DB: opt gap = 1.0\""
      ]
     },
     "metadata": {},
     "output_type": "display_data"
    },
    {
     "data": {
      "text/plain": [
       "\">>>>>> iteration 14:O\""
      ]
     },
     "metadata": {},
     "output_type": "display_data"
    },
    {
     "data": {
      "text/plain": [
       "\"DB: opt gap = 0.14031518030869694\""
      ]
     },
     "metadata": {},
     "output_type": "display_data"
    },
    {
     "data": {
      "text/plain": [
       "\">>>>>> iteration 15:O\""
      ]
     },
     "metadata": {},
     "output_type": "display_data"
    },
    {
     "data": {
      "text/plain": [
       "\"DB: opt gap = 0.1401689496097066\""
      ]
     },
     "metadata": {},
     "output_type": "display_data"
    },
    {
     "data": {
      "text/plain": [
       "\">>>>>> iteration 16:O\""
      ]
     },
     "metadata": {},
     "output_type": "display_data"
    },
    {
     "data": {
      "text/plain": [
       "\"DB: opt gap = 0.13986286611192\""
      ]
     },
     "metadata": {},
     "output_type": "display_data"
    },
    {
     "data": {
      "text/plain": [
       "\">>>>>> iteration 17:O\""
      ]
     },
     "metadata": {},
     "output_type": "display_data"
    },
    {
     "data": {
      "text/plain": [
       "\">>>>>> iteration 18:F\""
      ]
     },
     "metadata": {},
     "output_type": "display_data"
    },
    {
     "data": {
      "text/plain": [
       "\"DB: opt gap = 0.13948558757868829\""
      ]
     },
     "metadata": {},
     "output_type": "display_data"
    },
    {
     "data": {
      "text/plain": [
       "\">>>>>> iteration 19:O\""
      ]
     },
     "metadata": {},
     "output_type": "display_data"
    },
    {
     "data": {
      "text/plain": [
       "\"DB: opt gap = 0.13910711283926655\""
      ]
     },
     "metadata": {},
     "output_type": "display_data"
    },
    {
     "data": {
      "text/plain": [
       "\">>>>>> iteration 20:O\""
      ]
     },
     "metadata": {},
     "output_type": "display_data"
    },
    {
     "data": {
      "text/plain": [
       "\"DB: opt gap = 0.119534776582223\""
      ]
     },
     "metadata": {},
     "output_type": "display_data"
    },
    {
     "data": {
      "text/plain": [
       "\">>>>>> iteration 21:O\""
      ]
     },
     "metadata": {},
     "output_type": "display_data"
    },
    {
     "data": {
      "text/plain": [
       "\"DB: opt gap = 0.11918405873116468\""
      ]
     },
     "metadata": {},
     "output_type": "display_data"
    },
    {
     "data": {
      "text/plain": [
       "\">>>>>> iteration 22:O\""
      ]
     },
     "metadata": {},
     "output_type": "display_data"
    },
    {
     "data": {
      "text/plain": [
       "\"DB: opt gap = 0.11377265212524677\""
      ]
     },
     "metadata": {},
     "output_type": "display_data"
    },
    {
     "data": {
      "text/plain": [
       "\">>>>>> iteration 23:O\""
      ]
     },
     "metadata": {},
     "output_type": "display_data"
    },
    {
     "data": {
      "text/plain": [
       "\"DB: opt gap = 0.11349907311790171\""
      ]
     },
     "metadata": {},
     "output_type": "display_data"
    },
    {
     "data": {
      "text/plain": [
       "\">>>>>> iteration 24:O\""
      ]
     },
     "metadata": {},
     "output_type": "display_data"
    },
    {
     "data": {
      "text/plain": [
       "\"DB: opt gap = 0.11296245355607477\""
      ]
     },
     "metadata": {},
     "output_type": "display_data"
    },
    {
     "data": {
      "text/plain": [
       "\">>>>>> iteration 25:O\""
      ]
     },
     "metadata": {},
     "output_type": "display_data"
    },
    {
     "data": {
      "text/plain": [
       "\"DB: opt gap = 0.11277621242358754\""
      ]
     },
     "metadata": {},
     "output_type": "display_data"
    },
    {
     "data": {
      "text/plain": [
       "\">>>>>> iteration 26:O\""
      ]
     },
     "metadata": {},
     "output_type": "display_data"
    },
    {
     "data": {
      "text/plain": [
       "\"DB: opt gap = 0.0008082381216425621\""
      ]
     },
     "metadata": {},
     "output_type": "display_data"
    },
    {
     "data": {
      "text/plain": [
       "\"time M 27.86899995803833 | time D 82.55499720573425\""
      ]
     },
     "metadata": {},
     "output_type": "display_data"
    },
    {
     "data": {
      "text/plain": [
       "\"evaluating 31 scenarios| option 3\""
      ]
     },
     "metadata": {},
     "output_type": "display_data"
    },
    {
     "data": {
      "text/plain": [
       "\"DB: opt gap = 1.0\""
      ]
     },
     "metadata": {},
     "output_type": "display_data"
    },
    {
     "data": {
      "text/plain": [
       "\">>>>>> iteration 1:O\""
      ]
     },
     "metadata": {},
     "output_type": "display_data"
    },
    {
     "data": {
      "text/plain": [
       "\"DB: opt gap = 1.0\""
      ]
     },
     "metadata": {},
     "output_type": "display_data"
    },
    {
     "data": {
      "text/plain": [
       "\">>>>>> iteration 2:O\""
      ]
     },
     "metadata": {},
     "output_type": "display_data"
    },
    {
     "data": {
      "text/plain": [
       "\"DB: opt gap = 1.0\""
      ]
     },
     "metadata": {},
     "output_type": "display_data"
    },
    {
     "data": {
      "text/plain": [
       "\">>>>>> iteration 3:O\""
      ]
     },
     "metadata": {},
     "output_type": "display_data"
    },
    {
     "data": {
      "text/plain": [
       "\"DB: opt gap = 1.0\""
      ]
     },
     "metadata": {},
     "output_type": "display_data"
    },
    {
     "data": {
      "text/plain": [
       "\">>>>>> iteration 4:O\""
      ]
     },
     "metadata": {},
     "output_type": "display_data"
    },
    {
     "data": {
      "text/plain": [
       "\"DB: opt gap = 1.0\""
      ]
     },
     "metadata": {},
     "output_type": "display_data"
    },
    {
     "data": {
      "text/plain": [
       "\">>>>>> iteration 5:O\""
      ]
     },
     "metadata": {},
     "output_type": "display_data"
    },
    {
     "data": {
      "text/plain": [
       "\"DB: opt gap = 1.0\""
      ]
     },
     "metadata": {},
     "output_type": "display_data"
    },
    {
     "data": {
      "text/plain": [
       "\">>>>>> iteration 6:O\""
      ]
     },
     "metadata": {},
     "output_type": "display_data"
    },
    {
     "data": {
      "text/plain": [
       "\"DB: opt gap = 1.0\""
      ]
     },
     "metadata": {},
     "output_type": "display_data"
    },
    {
     "data": {
      "text/plain": [
       "\">>>>>> iteration 7:O\""
      ]
     },
     "metadata": {},
     "output_type": "display_data"
    },
    {
     "data": {
      "text/plain": [
       "\"DB: opt gap = 1.0\""
      ]
     },
     "metadata": {},
     "output_type": "display_data"
    },
    {
     "data": {
      "text/plain": [
       "\">>>>>> iteration 8:O\""
      ]
     },
     "metadata": {},
     "output_type": "display_data"
    },
    {
     "data": {
      "text/plain": [
       "\"DB: opt gap = 1.0\""
      ]
     },
     "metadata": {},
     "output_type": "display_data"
    },
    {
     "data": {
      "text/plain": [
       "\">>>>>> iteration 9:O\""
      ]
     },
     "metadata": {},
     "output_type": "display_data"
    },
    {
     "data": {
      "text/plain": [
       "\"DB: opt gap = 1.0\""
      ]
     },
     "metadata": {},
     "output_type": "display_data"
    },
    {
     "data": {
      "text/plain": [
       "\">>>>>> iteration 10:O\""
      ]
     },
     "metadata": {},
     "output_type": "display_data"
    },
    {
     "data": {
      "text/plain": [
       "\"DB: opt gap = 1.0\""
      ]
     },
     "metadata": {},
     "output_type": "display_data"
    },
    {
     "data": {
      "text/plain": [
       "\">>>>>> iteration 11:O\""
      ]
     },
     "metadata": {},
     "output_type": "display_data"
    },
    {
     "data": {
      "text/plain": [
       "\"DB: opt gap = 0.13905333879338547\""
      ]
     },
     "metadata": {},
     "output_type": "display_data"
    },
    {
     "data": {
      "text/plain": [
       "\">>>>>> iteration 12:O\""
      ]
     },
     "metadata": {},
     "output_type": "display_data"
    },
    {
     "data": {
      "text/plain": [
       "\"DB: opt gap = 0.1389217308026189\""
      ]
     },
     "metadata": {},
     "output_type": "display_data"
    },
    {
     "data": {
      "text/plain": [
       "\">>>>>> iteration 13:O\""
      ]
     },
     "metadata": {},
     "output_type": "display_data"
    },
    {
     "data": {
      "text/plain": [
       "\">>>>>> iteration 14:F\""
      ]
     },
     "metadata": {},
     "output_type": "display_data"
    },
    {
     "data": {
      "text/plain": [
       "\"DB: opt gap = 0.138642956603894\""
      ]
     },
     "metadata": {},
     "output_type": "display_data"
    },
    {
     "data": {
      "text/plain": [
       "\">>>>>> iteration 15:O\""
      ]
     },
     "metadata": {},
     "output_type": "display_data"
    },
    {
     "data": {
      "text/plain": [
       "\"DB: opt gap = 0.13707512822997184\""
      ]
     },
     "metadata": {},
     "output_type": "display_data"
    },
    {
     "data": {
      "text/plain": [
       "\">>>>>> iteration 16:O\""
      ]
     },
     "metadata": {},
     "output_type": "display_data"
    },
    {
     "data": {
      "text/plain": [
       "\"DB: opt gap = 0.13698254070179838\""
      ]
     },
     "metadata": {},
     "output_type": "display_data"
    },
    {
     "data": {
      "text/plain": [
       "\">>>>>> iteration 17:O\""
      ]
     },
     "metadata": {},
     "output_type": "display_data"
    },
    {
     "data": {
      "text/plain": [
       "\"DB: opt gap = 0.13650770645808924\""
      ]
     },
     "metadata": {},
     "output_type": "display_data"
    },
    {
     "data": {
      "text/plain": [
       "\">>>>>> iteration 18:O\""
      ]
     },
     "metadata": {},
     "output_type": "display_data"
    },
    {
     "data": {
      "text/plain": [
       "\"DB: opt gap = 0.13647258287744715\""
      ]
     },
     "metadata": {},
     "output_type": "display_data"
    },
    {
     "data": {
      "text/plain": [
       "\">>>>>> iteration 19:O\""
      ]
     },
     "metadata": {},
     "output_type": "display_data"
    },
    {
     "data": {
      "text/plain": [
       "\"DB: opt gap = 0.13638259134928038\""
      ]
     },
     "metadata": {},
     "output_type": "display_data"
    },
    {
     "data": {
      "text/plain": [
       "\">>>>>> iteration 20:O\""
      ]
     },
     "metadata": {},
     "output_type": "display_data"
    },
    {
     "data": {
      "text/plain": [
       "\"DB: opt gap = 0.13634288724498986\""
      ]
     },
     "metadata": {},
     "output_type": "display_data"
    },
    {
     "data": {
      "text/plain": [
       "\">>>>>> iteration 21:O\""
      ]
     },
     "metadata": {},
     "output_type": "display_data"
    },
    {
     "data": {
      "text/plain": [
       "\"DB: opt gap = 4.499467663711416e-6\""
      ]
     },
     "metadata": {},
     "output_type": "display_data"
    },
    {
     "data": {
      "text/plain": [
       "\"time M 29.895999908447266 | time D 68.26300048828125\""
      ]
     },
     "metadata": {},
     "output_type": "display_data"
    },
    {
     "data": {
      "text/plain": [
       "\"evaluating 32 scenarios| option 3\""
      ]
     },
     "metadata": {},
     "output_type": "display_data"
    },
    {
     "data": {
      "text/plain": [
       "\"DB: opt gap = 1.0\""
      ]
     },
     "metadata": {},
     "output_type": "display_data"
    },
    {
     "data": {
      "text/plain": [
       "\">>>>>> iteration 1:O\""
      ]
     },
     "metadata": {},
     "output_type": "display_data"
    },
    {
     "data": {
      "text/plain": [
       "\"DB: opt gap = 1.0\""
      ]
     },
     "metadata": {},
     "output_type": "display_data"
    },
    {
     "data": {
      "text/plain": [
       "\">>>>>> iteration 2:O\""
      ]
     },
     "metadata": {},
     "output_type": "display_data"
    },
    {
     "data": {
      "text/plain": [
       "\"DB: opt gap = 1.0\""
      ]
     },
     "metadata": {},
     "output_type": "display_data"
    },
    {
     "data": {
      "text/plain": [
       "\">>>>>> iteration 3:O\""
      ]
     },
     "metadata": {},
     "output_type": "display_data"
    },
    {
     "data": {
      "text/plain": [
       "\"DB: opt gap = 1.0\""
      ]
     },
     "metadata": {},
     "output_type": "display_data"
    },
    {
     "data": {
      "text/plain": [
       "\">>>>>> iteration 4:O\""
      ]
     },
     "metadata": {},
     "output_type": "display_data"
    },
    {
     "data": {
      "text/plain": [
       "\"DB: opt gap = 1.0\""
      ]
     },
     "metadata": {},
     "output_type": "display_data"
    },
    {
     "data": {
      "text/plain": [
       "\">>>>>> iteration 5:O\""
      ]
     },
     "metadata": {},
     "output_type": "display_data"
    },
    {
     "data": {
      "text/plain": [
       "\"DB: opt gap = 1.0\""
      ]
     },
     "metadata": {},
     "output_type": "display_data"
    },
    {
     "data": {
      "text/plain": [
       "\">>>>>> iteration 6:O\""
      ]
     },
     "metadata": {},
     "output_type": "display_data"
    },
    {
     "data": {
      "text/plain": [
       "\"DB: opt gap = 1.0\""
      ]
     },
     "metadata": {},
     "output_type": "display_data"
    },
    {
     "data": {
      "text/plain": [
       "\">>>>>> iteration 7:O\""
      ]
     },
     "metadata": {},
     "output_type": "display_data"
    },
    {
     "data": {
      "text/plain": [
       "\"DB: opt gap = 1.0\""
      ]
     },
     "metadata": {},
     "output_type": "display_data"
    },
    {
     "data": {
      "text/plain": [
       "\">>>>>> iteration 8:O\""
      ]
     },
     "metadata": {},
     "output_type": "display_data"
    },
    {
     "data": {
      "text/plain": [
       "\"DB: opt gap = 1.0\""
      ]
     },
     "metadata": {},
     "output_type": "display_data"
    },
    {
     "data": {
      "text/plain": [
       "\">>>>>> iteration 9:O\""
      ]
     },
     "metadata": {},
     "output_type": "display_data"
    },
    {
     "data": {
      "text/plain": [
       "\"DB: opt gap = 1.0\""
      ]
     },
     "metadata": {},
     "output_type": "display_data"
    },
    {
     "data": {
      "text/plain": [
       "\">>>>>> iteration 10:O\""
      ]
     },
     "metadata": {},
     "output_type": "display_data"
    },
    {
     "data": {
      "text/plain": [
       "\"DB: opt gap = 1.0\""
      ]
     },
     "metadata": {},
     "output_type": "display_data"
    },
    {
     "data": {
      "text/plain": [
       "\">>>>>> iteration 11:O\""
      ]
     },
     "metadata": {},
     "output_type": "display_data"
    },
    {
     "data": {
      "text/plain": [
       "\"DB: opt gap = 1.0\""
      ]
     },
     "metadata": {},
     "output_type": "display_data"
    },
    {
     "data": {
      "text/plain": [
       "\">>>>>> iteration 12:O\""
      ]
     },
     "metadata": {},
     "output_type": "display_data"
    },
    {
     "data": {
      "text/plain": [
       "\"DB: opt gap = 1.0\""
      ]
     },
     "metadata": {},
     "output_type": "display_data"
    },
    {
     "data": {
      "text/plain": [
       "\">>>>>> iteration 13:O\""
      ]
     },
     "metadata": {},
     "output_type": "display_data"
    },
    {
     "data": {
      "text/plain": [
       "\"DB: opt gap = 0.14055548268028162\""
      ]
     },
     "metadata": {},
     "output_type": "display_data"
    },
    {
     "data": {
      "text/plain": [
       "\">>>>>> iteration 14:O\""
      ]
     },
     "metadata": {},
     "output_type": "display_data"
    },
    {
     "data": {
      "text/plain": [
       "\"DB: opt gap = 0.14041623166000206\""
      ]
     },
     "metadata": {},
     "output_type": "display_data"
    },
    {
     "data": {
      "text/plain": [
       "\">>>>>> iteration 15:O\""
      ]
     },
     "metadata": {},
     "output_type": "display_data"
    },
    {
     "data": {
      "text/plain": [
       "\"DB: opt gap = 0.14011914110156393\""
      ]
     },
     "metadata": {},
     "output_type": "display_data"
    },
    {
     "data": {
      "text/plain": [
       "\">>>>>> iteration 16:O\""
      ]
     },
     "metadata": {},
     "output_type": "display_data"
    },
    {
     "data": {
      "text/plain": [
       "\"DB: opt gap = 0.1397761971772186\""
      ]
     },
     "metadata": {},
     "output_type": "display_data"
    },
    {
     "data": {
      "text/plain": [
       "\">>>>>> iteration 17:O\""
      ]
     },
     "metadata": {},
     "output_type": "display_data"
    },
    {
     "data": {
      "text/plain": [
       "\"DB: opt gap = 0.13944462662735277\""
      ]
     },
     "metadata": {},
     "output_type": "display_data"
    },
    {
     "data": {
      "text/plain": [
       "\">>>>>> iteration 18:O\""
      ]
     },
     "metadata": {},
     "output_type": "display_data"
    },
    {
     "data": {
      "text/plain": [
       "\">>>>>> iteration 19:F\""
      ]
     },
     "metadata": {},
     "output_type": "display_data"
    },
    {
     "data": {
      "text/plain": [
       "\"DB: opt gap = 3.535666946742418e-7\""
      ]
     },
     "metadata": {},
     "output_type": "display_data"
    },
    {
     "data": {
      "text/plain": [
       "\">>>>>> iteration 20:O\""
      ]
     },
     "metadata": {},
     "output_type": "display_data"
    },
    {
     "data": {
      "text/plain": [
       "\"DB: opt gap = 7.165232342972433e-7\""
      ]
     },
     "metadata": {},
     "output_type": "display_data"
    },
    {
     "data": {
      "text/plain": [
       "\"time M 33.835999965667725 | time D 67.3600001335144\""
      ]
     },
     "metadata": {},
     "output_type": "display_data"
    },
    {
     "data": {
      "text/plain": [
       "\"evaluating 33 scenarios| option 3\""
      ]
     },
     "metadata": {},
     "output_type": "display_data"
    },
    {
     "data": {
      "text/plain": [
       "\"DB: opt gap = 1.0\""
      ]
     },
     "metadata": {},
     "output_type": "display_data"
    },
    {
     "data": {
      "text/plain": [
       "\">>>>>> iteration 1:O\""
      ]
     },
     "metadata": {},
     "output_type": "display_data"
    },
    {
     "data": {
      "text/plain": [
       "\"DB: opt gap = 1.0\""
      ]
     },
     "metadata": {},
     "output_type": "display_data"
    },
    {
     "data": {
      "text/plain": [
       "\">>>>>> iteration 2:O\""
      ]
     },
     "metadata": {},
     "output_type": "display_data"
    },
    {
     "data": {
      "text/plain": [
       "\"DB: opt gap = 1.0\""
      ]
     },
     "metadata": {},
     "output_type": "display_data"
    },
    {
     "data": {
      "text/plain": [
       "\">>>>>> iteration 3:O\""
      ]
     },
     "metadata": {},
     "output_type": "display_data"
    },
    {
     "data": {
      "text/plain": [
       "\"DB: opt gap = 1.0\""
      ]
     },
     "metadata": {},
     "output_type": "display_data"
    },
    {
     "data": {
      "text/plain": [
       "\">>>>>> iteration 4:O\""
      ]
     },
     "metadata": {},
     "output_type": "display_data"
    },
    {
     "data": {
      "text/plain": [
       "\"DB: opt gap = 1.0\""
      ]
     },
     "metadata": {},
     "output_type": "display_data"
    },
    {
     "data": {
      "text/plain": [
       "\">>>>>> iteration 5:O\""
      ]
     },
     "metadata": {},
     "output_type": "display_data"
    },
    {
     "data": {
      "text/plain": [
       "\"DB: opt gap = 1.0\""
      ]
     },
     "metadata": {},
     "output_type": "display_data"
    },
    {
     "data": {
      "text/plain": [
       "\">>>>>> iteration 6:O\""
      ]
     },
     "metadata": {},
     "output_type": "display_data"
    },
    {
     "data": {
      "text/plain": [
       "\"DB: opt gap = 1.0\""
      ]
     },
     "metadata": {},
     "output_type": "display_data"
    },
    {
     "data": {
      "text/plain": [
       "\">>>>>> iteration 7:O\""
      ]
     },
     "metadata": {},
     "output_type": "display_data"
    },
    {
     "data": {
      "text/plain": [
       "\"DB: opt gap = 1.0\""
      ]
     },
     "metadata": {},
     "output_type": "display_data"
    },
    {
     "data": {
      "text/plain": [
       "\">>>>>> iteration 8:O\""
      ]
     },
     "metadata": {},
     "output_type": "display_data"
    },
    {
     "data": {
      "text/plain": [
       "\"DB: opt gap = 0.15673598061203337\""
      ]
     },
     "metadata": {},
     "output_type": "display_data"
    },
    {
     "data": {
      "text/plain": [
       "\">>>>>> iteration 9:O\""
      ]
     },
     "metadata": {},
     "output_type": "display_data"
    },
    {
     "data": {
      "text/plain": [
       "\"DB: opt gap = 0.15656440874816524\""
      ]
     },
     "metadata": {},
     "output_type": "display_data"
    },
    {
     "data": {
      "text/plain": [
       "\">>>>>> iteration 10:O\""
      ]
     },
     "metadata": {},
     "output_type": "display_data"
    },
    {
     "data": {
      "text/plain": [
       "\"DB: opt gap = 0.1562069310493138\""
      ]
     },
     "metadata": {},
     "output_type": "display_data"
    },
    {
     "data": {
      "text/plain": [
       "\">>>>>> iteration 11:O\""
      ]
     },
     "metadata": {},
     "output_type": "display_data"
    },
    {
     "data": {
      "text/plain": [
       "\"DB: opt gap = 0.15581203716714262\""
      ]
     },
     "metadata": {},
     "output_type": "display_data"
    },
    {
     "data": {
      "text/plain": [
       "\">>>>>> iteration 12:O\""
      ]
     },
     "metadata": {},
     "output_type": "display_data"
    },
    {
     "data": {
      "text/plain": [
       "\"DB: opt gap = 0.15536663070824352\""
      ]
     },
     "metadata": {},
     "output_type": "display_data"
    },
    {
     "data": {
      "text/plain": [
       "\">>>>>> iteration 13:O\""
      ]
     },
     "metadata": {},
     "output_type": "display_data"
    },
    {
     "data": {
      "text/plain": [
       "\"DB: opt gap = 0.15458850695510507\""
      ]
     },
     "metadata": {},
     "output_type": "display_data"
    },
    {
     "data": {
      "text/plain": [
       "\">>>>>> iteration 14:O\""
      ]
     },
     "metadata": {},
     "output_type": "display_data"
    },
    {
     "data": {
      "text/plain": [
       "\"DB: opt gap = 0.1544432661144633\""
      ]
     },
     "metadata": {},
     "output_type": "display_data"
    },
    {
     "data": {
      "text/plain": [
       "\">>>>>> iteration 15:O\""
      ]
     },
     "metadata": {},
     "output_type": "display_data"
    },
    {
     "data": {
      "text/plain": [
       "\"DB: opt gap = 0.15410383602556577\""
      ]
     },
     "metadata": {},
     "output_type": "display_data"
    },
    {
     "data": {
      "text/plain": [
       "\">>>>>> iteration 16:O\""
      ]
     },
     "metadata": {},
     "output_type": "display_data"
    },
    {
     "data": {
      "text/plain": [
       "\"DB: opt gap = 0.15395338492713637\""
      ]
     },
     "metadata": {},
     "output_type": "display_data"
    },
    {
     "data": {
      "text/plain": [
       "\">>>>>> iteration 17:O\""
      ]
     },
     "metadata": {},
     "output_type": "display_data"
    },
    {
     "data": {
      "text/plain": [
       "\"DB: opt gap = 5.407295563096329e-6\""
      ]
     },
     "metadata": {},
     "output_type": "display_data"
    },
    {
     "data": {
      "text/plain": [
       "\"time M 39.901999950408936 | time D 69.31200313568115\""
      ]
     },
     "metadata": {},
     "output_type": "display_data"
    },
    {
     "data": {
      "text/plain": [
       "\"evaluating 34 scenarios| option 3\""
      ]
     },
     "metadata": {},
     "output_type": "display_data"
    },
    {
     "data": {
      "text/plain": [
       "\"DB: opt gap = 1.0\""
      ]
     },
     "metadata": {},
     "output_type": "display_data"
    },
    {
     "data": {
      "text/plain": [
       "\">>>>>> iteration 1:O\""
      ]
     },
     "metadata": {},
     "output_type": "display_data"
    },
    {
     "data": {
      "text/plain": [
       "\"DB: opt gap = 1.0\""
      ]
     },
     "metadata": {},
     "output_type": "display_data"
    },
    {
     "data": {
      "text/plain": [
       "\">>>>>> iteration 2:O\""
      ]
     },
     "metadata": {},
     "output_type": "display_data"
    },
    {
     "data": {
      "text/plain": [
       "\"DB: opt gap = 1.0\""
      ]
     },
     "metadata": {},
     "output_type": "display_data"
    },
    {
     "data": {
      "text/plain": [
       "\">>>>>> iteration 3:O\""
      ]
     },
     "metadata": {},
     "output_type": "display_data"
    },
    {
     "data": {
      "text/plain": [
       "\"DB: opt gap = 1.0\""
      ]
     },
     "metadata": {},
     "output_type": "display_data"
    },
    {
     "data": {
      "text/plain": [
       "\">>>>>> iteration 4:O\""
      ]
     },
     "metadata": {},
     "output_type": "display_data"
    },
    {
     "data": {
      "text/plain": [
       "\"DB: opt gap = 1.0\""
      ]
     },
     "metadata": {},
     "output_type": "display_data"
    },
    {
     "data": {
      "text/plain": [
       "\">>>>>> iteration 5:O\""
      ]
     },
     "metadata": {},
     "output_type": "display_data"
    },
    {
     "data": {
      "text/plain": [
       "\"DB: opt gap = 1.0\""
      ]
     },
     "metadata": {},
     "output_type": "display_data"
    },
    {
     "data": {
      "text/plain": [
       "\">>>>>> iteration 6:O\""
      ]
     },
     "metadata": {},
     "output_type": "display_data"
    },
    {
     "data": {
      "text/plain": [
       "\"DB: opt gap = 1.0\""
      ]
     },
     "metadata": {},
     "output_type": "display_data"
    },
    {
     "data": {
      "text/plain": [
       "\">>>>>> iteration 7:O\""
      ]
     },
     "metadata": {},
     "output_type": "display_data"
    },
    {
     "data": {
      "text/plain": [
       "\"DB: opt gap = 1.0\""
      ]
     },
     "metadata": {},
     "output_type": "display_data"
    },
    {
     "data": {
      "text/plain": [
       "\">>>>>> iteration 8:O\""
      ]
     },
     "metadata": {},
     "output_type": "display_data"
    },
    {
     "data": {
      "text/plain": [
       "\"DB: opt gap = 1.0\""
      ]
     },
     "metadata": {},
     "output_type": "display_data"
    },
    {
     "data": {
      "text/plain": [
       "\">>>>>> iteration 9:O\""
      ]
     },
     "metadata": {},
     "output_type": "display_data"
    },
    {
     "data": {
      "text/plain": [
       "\"DB: opt gap = 1.0\""
      ]
     },
     "metadata": {},
     "output_type": "display_data"
    },
    {
     "data": {
      "text/plain": [
       "\">>>>>> iteration 10:O\""
      ]
     },
     "metadata": {},
     "output_type": "display_data"
    },
    {
     "data": {
      "text/plain": [
       "\">>>>>> iteration 11:F\""
      ]
     },
     "metadata": {},
     "output_type": "display_data"
    },
    {
     "data": {
      "text/plain": [
       "\"DB: opt gap = 1.0\""
      ]
     },
     "metadata": {},
     "output_type": "display_data"
    },
    {
     "data": {
      "text/plain": [
       "\">>>>>> iteration 12:O\""
      ]
     },
     "metadata": {},
     "output_type": "display_data"
    },
    {
     "data": {
      "text/plain": [
       "\"DB: opt gap = 0.9999999999217142\""
      ]
     },
     "metadata": {},
     "output_type": "display_data"
    },
    {
     "data": {
      "text/plain": [
       "\">>>>>> iteration 13:O\""
      ]
     },
     "metadata": {},
     "output_type": "display_data"
    },
    {
     "data": {
      "text/plain": [
       "\"DB: opt gap = 0.04647123658075704\""
      ]
     },
     "metadata": {},
     "output_type": "display_data"
    },
    {
     "data": {
      "text/plain": [
       "\">>>>>> iteration 14:O\""
      ]
     },
     "metadata": {},
     "output_type": "display_data"
    },
    {
     "data": {
      "text/plain": [
       "\">>>>>> iteration 15:F\""
      ]
     },
     "metadata": {},
     "output_type": "display_data"
    },
    {
     "data": {
      "text/plain": [
       "\"DB: opt gap = 0.046389006277543644\""
      ]
     },
     "metadata": {},
     "output_type": "display_data"
    },
    {
     "data": {
      "text/plain": [
       "\">>>>>> iteration 16:O\""
      ]
     },
     "metadata": {},
     "output_type": "display_data"
    },
    {
     "data": {
      "text/plain": [
       "\"DB: opt gap = 0.04636480476506723\""
      ]
     },
     "metadata": {},
     "output_type": "display_data"
    },
    {
     "data": {
      "text/plain": [
       "\">>>>>> iteration 17:O\""
      ]
     },
     "metadata": {},
     "output_type": "display_data"
    },
    {
     "data": {
      "text/plain": [
       "\"DB: opt gap = 0.046337431319586835\""
      ]
     },
     "metadata": {},
     "output_type": "display_data"
    },
    {
     "data": {
      "text/plain": [
       "\">>>>>> iteration 18:O\""
      ]
     },
     "metadata": {},
     "output_type": "display_data"
    },
    {
     "data": {
      "text/plain": [
       "\"DB: opt gap = 0.046281137445340306\""
      ]
     },
     "metadata": {},
     "output_type": "display_data"
    },
    {
     "data": {
      "text/plain": [
       "\">>>>>> iteration 19:O\""
      ]
     },
     "metadata": {},
     "output_type": "display_data"
    },
    {
     "data": {
      "text/plain": [
       "\"DB: opt gap = 1.9607245028964004e-6\""
      ]
     },
     "metadata": {},
     "output_type": "display_data"
    },
    {
     "data": {
      "text/plain": [
       "\"time M 31.8989999294281 | time D 65.80700063705444\""
      ]
     },
     "metadata": {},
     "output_type": "display_data"
    },
    {
     "data": {
      "text/plain": [
       "\"evaluating 35 scenarios| option 3\""
      ]
     },
     "metadata": {},
     "output_type": "display_data"
    },
    {
     "data": {
      "text/plain": [
       "\"DB: opt gap = 1.0\""
      ]
     },
     "metadata": {},
     "output_type": "display_data"
    },
    {
     "data": {
      "text/plain": [
       "\">>>>>> iteration 1:O\""
      ]
     },
     "metadata": {},
     "output_type": "display_data"
    },
    {
     "data": {
      "text/plain": [
       "\"DB: opt gap = 1.0\""
      ]
     },
     "metadata": {},
     "output_type": "display_data"
    },
    {
     "data": {
      "text/plain": [
       "\">>>>>> iteration 2:O\""
      ]
     },
     "metadata": {},
     "output_type": "display_data"
    },
    {
     "data": {
      "text/plain": [
       "\"DB: opt gap = 1.0\""
      ]
     },
     "metadata": {},
     "output_type": "display_data"
    },
    {
     "data": {
      "text/plain": [
       "\">>>>>> iteration 3:O\""
      ]
     },
     "metadata": {},
     "output_type": "display_data"
    },
    {
     "data": {
      "text/plain": [
       "\"DB: opt gap = 1.0\""
      ]
     },
     "metadata": {},
     "output_type": "display_data"
    },
    {
     "data": {
      "text/plain": [
       "\">>>>>> iteration 4:O\""
      ]
     },
     "metadata": {},
     "output_type": "display_data"
    },
    {
     "data": {
      "text/plain": [
       "\"DB: opt gap = 1.0\""
      ]
     },
     "metadata": {},
     "output_type": "display_data"
    },
    {
     "data": {
      "text/plain": [
       "\">>>>>> iteration 5:O\""
      ]
     },
     "metadata": {},
     "output_type": "display_data"
    },
    {
     "data": {
      "text/plain": [
       "\"DB: opt gap = 1.0\""
      ]
     },
     "metadata": {},
     "output_type": "display_data"
    },
    {
     "data": {
      "text/plain": [
       "\">>>>>> iteration 6:O\""
      ]
     },
     "metadata": {},
     "output_type": "display_data"
    },
    {
     "data": {
      "text/plain": [
       "\"DB: opt gap = 1.0\""
      ]
     },
     "metadata": {},
     "output_type": "display_data"
    },
    {
     "data": {
      "text/plain": [
       "\">>>>>> iteration 7:O\""
      ]
     },
     "metadata": {},
     "output_type": "display_data"
    },
    {
     "data": {
      "text/plain": [
       "\"DB: opt gap = 1.0\""
      ]
     },
     "metadata": {},
     "output_type": "display_data"
    },
    {
     "data": {
      "text/plain": [
       "\">>>>>> iteration 8:O\""
      ]
     },
     "metadata": {},
     "output_type": "display_data"
    },
    {
     "data": {
      "text/plain": [
       "\"DB: opt gap = 0.18274749984564154\""
      ]
     },
     "metadata": {},
     "output_type": "display_data"
    },
    {
     "data": {
      "text/plain": [
       "\">>>>>> iteration 9:O\""
      ]
     },
     "metadata": {},
     "output_type": "display_data"
    },
    {
     "data": {
      "text/plain": [
       "\"DB: opt gap = 0.1825719008567296\""
      ]
     },
     "metadata": {},
     "output_type": "display_data"
    },
    {
     "data": {
      "text/plain": [
       "\">>>>>> iteration 10:O\""
      ]
     },
     "metadata": {},
     "output_type": "display_data"
    },
    {
     "data": {
      "text/plain": [
       "\"DB: opt gap = 0.1820846668352346\""
      ]
     },
     "metadata": {},
     "output_type": "display_data"
    },
    {
     "data": {
      "text/plain": [
       "\">>>>>> iteration 11:O\""
      ]
     },
     "metadata": {},
     "output_type": "display_data"
    },
    {
     "data": {
      "text/plain": [
       "\"DB: opt gap = 0.18190726341310542\""
      ]
     },
     "metadata": {},
     "output_type": "display_data"
    },
    {
     "data": {
      "text/plain": [
       "\">>>>>> iteration 12:O\""
      ]
     },
     "metadata": {},
     "output_type": "display_data"
    },
    {
     "data": {
      "text/plain": [
       "\"DB: opt gap = 0.1816408434864027\""
      ]
     },
     "metadata": {},
     "output_type": "display_data"
    },
    {
     "data": {
      "text/plain": [
       "\">>>>>> iteration 13:O\""
      ]
     },
     "metadata": {},
     "output_type": "display_data"
    },
    {
     "data": {
      "text/plain": [
       "\"DB: opt gap = 0.18108140445382795\""
      ]
     },
     "metadata": {},
     "output_type": "display_data"
    },
    {
     "data": {
      "text/plain": [
       "\">>>>>> iteration 14:O\""
      ]
     },
     "metadata": {},
     "output_type": "display_data"
    },
    {
     "data": {
      "text/plain": [
       "\"DB: opt gap = 0.1809152481633137\""
      ]
     },
     "metadata": {},
     "output_type": "display_data"
    },
    {
     "data": {
      "text/plain": [
       "\">>>>>> iteration 15:O\""
      ]
     },
     "metadata": {},
     "output_type": "display_data"
    },
    {
     "data": {
      "text/plain": [
       "\"DB: opt gap = 0.18041626541394212\""
      ]
     },
     "metadata": {},
     "output_type": "display_data"
    },
    {
     "data": {
      "text/plain": [
       "\">>>>>> iteration 16:O\""
      ]
     },
     "metadata": {},
     "output_type": "display_data"
    },
    {
     "data": {
      "text/plain": [
       "\"DB: opt gap = 0.18023417282073734\""
      ]
     },
     "metadata": {},
     "output_type": "display_data"
    },
    {
     "data": {
      "text/plain": [
       "\">>>>>> iteration 17:O\""
      ]
     },
     "metadata": {},
     "output_type": "display_data"
    },
    {
     "data": {
      "text/plain": [
       "\"DB: opt gap = 0.1799449300451634\""
      ]
     },
     "metadata": {},
     "output_type": "display_data"
    },
    {
     "data": {
      "text/plain": [
       "\">>>>>> iteration 18:O\""
      ]
     },
     "metadata": {},
     "output_type": "display_data"
    },
    {
     "data": {
      "text/plain": [
       "\"DB: opt gap = 0.17990760696973154\""
      ]
     },
     "metadata": {},
     "output_type": "display_data"
    },
    {
     "data": {
      "text/plain": [
       "\">>>>>> iteration 19:O\""
      ]
     },
     "metadata": {},
     "output_type": "display_data"
    },
    {
     "data": {
      "text/plain": [
       "\">>>>>> iteration 20:F\""
      ]
     },
     "metadata": {},
     "output_type": "display_data"
    },
    {
     "data": {
      "text/plain": [
       "\"DB: opt gap = 0.17932982193611963\""
      ]
     },
     "metadata": {},
     "output_type": "display_data"
    },
    {
     "data": {
      "text/plain": [
       "\">>>>>> iteration 21:O\""
      ]
     },
     "metadata": {},
     "output_type": "display_data"
    },
    {
     "data": {
      "text/plain": [
       "\"DB: opt gap = 0.17916055165732914\""
      ]
     },
     "metadata": {},
     "output_type": "display_data"
    },
    {
     "data": {
      "text/plain": [
       "\">>>>>> iteration 22:O\""
      ]
     },
     "metadata": {},
     "output_type": "display_data"
    },
    {
     "data": {
      "text/plain": [
       "\"DB: opt gap = 6.711079532978343e-6\""
      ]
     },
     "metadata": {},
     "output_type": "display_data"
    },
    {
     "data": {
      "text/plain": [
       "\"time M 41.513999938964844 | time D 80.82599973678589\""
      ]
     },
     "metadata": {},
     "output_type": "display_data"
    },
    {
     "data": {
      "text/plain": [
       "\"evaluating 36 scenarios| option 3\""
      ]
     },
     "metadata": {},
     "output_type": "display_data"
    },
    {
     "data": {
      "text/plain": [
       "\"DB: opt gap = 1.0\""
      ]
     },
     "metadata": {},
     "output_type": "display_data"
    },
    {
     "data": {
      "text/plain": [
       "\">>>>>> iteration 1:O\""
      ]
     },
     "metadata": {},
     "output_type": "display_data"
    },
    {
     "data": {
      "text/plain": [
       "\"DB: opt gap = 1.0\""
      ]
     },
     "metadata": {},
     "output_type": "display_data"
    },
    {
     "data": {
      "text/plain": [
       "\">>>>>> iteration 2:O\""
      ]
     },
     "metadata": {},
     "output_type": "display_data"
    },
    {
     "data": {
      "text/plain": [
       "\"DB: opt gap = 1.0\""
      ]
     },
     "metadata": {},
     "output_type": "display_data"
    },
    {
     "data": {
      "text/plain": [
       "\">>>>>> iteration 3:O\""
      ]
     },
     "metadata": {},
     "output_type": "display_data"
    },
    {
     "data": {
      "text/plain": [
       "\"DB: opt gap = 1.0\""
      ]
     },
     "metadata": {},
     "output_type": "display_data"
    },
    {
     "data": {
      "text/plain": [
       "\">>>>>> iteration 4:O\""
      ]
     },
     "metadata": {},
     "output_type": "display_data"
    },
    {
     "data": {
      "text/plain": [
       "\"DB: opt gap = 1.0\""
      ]
     },
     "metadata": {},
     "output_type": "display_data"
    },
    {
     "data": {
      "text/plain": [
       "\">>>>>> iteration 5:O\""
      ]
     },
     "metadata": {},
     "output_type": "display_data"
    },
    {
     "data": {
      "text/plain": [
       "\"DB: opt gap = 1.0\""
      ]
     },
     "metadata": {},
     "output_type": "display_data"
    },
    {
     "data": {
      "text/plain": [
       "\">>>>>> iteration 6:O\""
      ]
     },
     "metadata": {},
     "output_type": "display_data"
    },
    {
     "data": {
      "text/plain": [
       "\"DB: opt gap = 1.0\""
      ]
     },
     "metadata": {},
     "output_type": "display_data"
    },
    {
     "data": {
      "text/plain": [
       "\">>>>>> iteration 7:O\""
      ]
     },
     "metadata": {},
     "output_type": "display_data"
    },
    {
     "data": {
      "text/plain": [
       "\"DB: opt gap = 1.0\""
      ]
     },
     "metadata": {},
     "output_type": "display_data"
    },
    {
     "data": {
      "text/plain": [
       "\">>>>>> iteration 8:O\""
      ]
     },
     "metadata": {},
     "output_type": "display_data"
    },
    {
     "data": {
      "text/plain": [
       "\"DB: opt gap = 1.0\""
      ]
     },
     "metadata": {},
     "output_type": "display_data"
    },
    {
     "data": {
      "text/plain": [
       "\">>>>>> iteration 9:O\""
      ]
     },
     "metadata": {},
     "output_type": "display_data"
    },
    {
     "data": {
      "text/plain": [
       "\"DB: opt gap = 0.15235902973207727\""
      ]
     },
     "metadata": {},
     "output_type": "display_data"
    },
    {
     "data": {
      "text/plain": [
       "\">>>>>> iteration 10:O\""
      ]
     },
     "metadata": {},
     "output_type": "display_data"
    },
    {
     "data": {
      "text/plain": [
       "\"DB: opt gap = 0.15222259782073339\""
      ]
     },
     "metadata": {},
     "output_type": "display_data"
    },
    {
     "data": {
      "text/plain": [
       "\">>>>>> iteration 11:O\""
      ]
     },
     "metadata": {},
     "output_type": "display_data"
    },
    {
     "data": {
      "text/plain": [
       "\"DB: opt gap = 0.15193921141611097\""
      ]
     },
     "metadata": {},
     "output_type": "display_data"
    },
    {
     "data": {
      "text/plain": [
       "\">>>>>> iteration 12:O\""
      ]
     },
     "metadata": {},
     "output_type": "display_data"
    },
    {
     "data": {
      "text/plain": [
       "\"DB: opt gap = 0.15157786258799721\""
      ]
     },
     "metadata": {},
     "output_type": "display_data"
    },
    {
     "data": {
      "text/plain": [
       "\">>>>>> iteration 13:O\""
      ]
     },
     "metadata": {},
     "output_type": "display_data"
    },
    {
     "data": {
      "text/plain": [
       "\"DB: opt gap = 0.1512293085799825\""
      ]
     },
     "metadata": {},
     "output_type": "display_data"
    },
    {
     "data": {
      "text/plain": [
       "\">>>>>> iteration 14:O\""
      ]
     },
     "metadata": {},
     "output_type": "display_data"
    },
    {
     "data": {
      "text/plain": [
       "\"DB: opt gap = 0.15115858445117392\""
      ]
     },
     "metadata": {},
     "output_type": "display_data"
    },
    {
     "data": {
      "text/plain": [
       "\">>>>>> iteration 15:O\""
      ]
     },
     "metadata": {},
     "output_type": "display_data"
    },
    {
     "data": {
      "text/plain": [
       "\"DB: opt gap = 0.1510256096909711\""
      ]
     },
     "metadata": {},
     "output_type": "display_data"
    },
    {
     "data": {
      "text/plain": [
       "\">>>>>> iteration 16:O\""
      ]
     },
     "metadata": {},
     "output_type": "display_data"
    },
    {
     "data": {
      "text/plain": [
       "\"DB: opt gap = 0.1507317829889283\""
      ]
     },
     "metadata": {},
     "output_type": "display_data"
    },
    {
     "data": {
      "text/plain": [
       "\">>>>>> iteration 17:O\""
      ]
     },
     "metadata": {},
     "output_type": "display_data"
    },
    {
     "data": {
      "text/plain": [
       "\"DB: opt gap = 0.1506054610362434\""
      ]
     },
     "metadata": {},
     "output_type": "display_data"
    },
    {
     "data": {
      "text/plain": [
       "\">>>>>> iteration 18:O\""
      ]
     },
     "metadata": {},
     "output_type": "display_data"
    },
    {
     "data": {
      "text/plain": [
       "\"DB: opt gap = 0.14997246396001554\""
      ]
     },
     "metadata": {},
     "output_type": "display_data"
    },
    {
     "data": {
      "text/plain": [
       "\">>>>>> iteration 19:O\""
      ]
     },
     "metadata": {},
     "output_type": "display_data"
    },
    {
     "data": {
      "text/plain": [
       "\"DB: opt gap = 0.14983972309773788\""
      ]
     },
     "metadata": {},
     "output_type": "display_data"
    },
    {
     "data": {
      "text/plain": [
       "\">>>>>> iteration 20:O\""
      ]
     },
     "metadata": {},
     "output_type": "display_data"
    },
    {
     "data": {
      "text/plain": [
       "\"DB: opt gap = 6.480173133197312e-6\""
      ]
     },
     "metadata": {},
     "output_type": "display_data"
    },
    {
     "data": {
      "text/plain": [
       "\"time M 35.94700002670288 | time D 79.7520022392273\""
      ]
     },
     "metadata": {},
     "output_type": "display_data"
    },
    {
     "data": {
      "text/plain": [
       "\"evaluating 37 scenarios| option 3\""
      ]
     },
     "metadata": {},
     "output_type": "display_data"
    },
    {
     "data": {
      "text/plain": [
       "\"DB: opt gap = 1.0\""
      ]
     },
     "metadata": {},
     "output_type": "display_data"
    },
    {
     "data": {
      "text/plain": [
       "\">>>>>> iteration 1:O\""
      ]
     },
     "metadata": {},
     "output_type": "display_data"
    },
    {
     "data": {
      "text/plain": [
       "\"DB: opt gap = 1.0\""
      ]
     },
     "metadata": {},
     "output_type": "display_data"
    },
    {
     "data": {
      "text/plain": [
       "\">>>>>> iteration 2:O\""
      ]
     },
     "metadata": {},
     "output_type": "display_data"
    },
    {
     "data": {
      "text/plain": [
       "\"DB: opt gap = 1.0\""
      ]
     },
     "metadata": {},
     "output_type": "display_data"
    },
    {
     "data": {
      "text/plain": [
       "\">>>>>> iteration 3:O\""
      ]
     },
     "metadata": {},
     "output_type": "display_data"
    },
    {
     "data": {
      "text/plain": [
       "\"DB: opt gap = 1.0\""
      ]
     },
     "metadata": {},
     "output_type": "display_data"
    },
    {
     "data": {
      "text/plain": [
       "\">>>>>> iteration 4:O\""
      ]
     },
     "metadata": {},
     "output_type": "display_data"
    },
    {
     "data": {
      "text/plain": [
       "\"DB: opt gap = 1.0\""
      ]
     },
     "metadata": {},
     "output_type": "display_data"
    },
    {
     "data": {
      "text/plain": [
       "\">>>>>> iteration 5:O\""
      ]
     },
     "metadata": {},
     "output_type": "display_data"
    },
    {
     "data": {
      "text/plain": [
       "\"DB: opt gap = 1.0\""
      ]
     },
     "metadata": {},
     "output_type": "display_data"
    },
    {
     "data": {
      "text/plain": [
       "\">>>>>> iteration 6:O\""
      ]
     },
     "metadata": {},
     "output_type": "display_data"
    },
    {
     "data": {
      "text/plain": [
       "\"DB: opt gap = 1.0\""
      ]
     },
     "metadata": {},
     "output_type": "display_data"
    },
    {
     "data": {
      "text/plain": [
       "\">>>>>> iteration 7:O\""
      ]
     },
     "metadata": {},
     "output_type": "display_data"
    },
    {
     "data": {
      "text/plain": [
       "\"DB: opt gap = 1.0\""
      ]
     },
     "metadata": {},
     "output_type": "display_data"
    },
    {
     "data": {
      "text/plain": [
       "\">>>>>> iteration 8:O\""
      ]
     },
     "metadata": {},
     "output_type": "display_data"
    },
    {
     "data": {
      "text/plain": [
       "\"DB: opt gap = 1.0\""
      ]
     },
     "metadata": {},
     "output_type": "display_data"
    },
    {
     "data": {
      "text/plain": [
       "\">>>>>> iteration 9:O\""
      ]
     },
     "metadata": {},
     "output_type": "display_data"
    },
    {
     "data": {
      "text/plain": [
       "\"DB: opt gap = 1.0\""
      ]
     },
     "metadata": {},
     "output_type": "display_data"
    },
    {
     "data": {
      "text/plain": [
       "\">>>>>> iteration 10:O\""
      ]
     },
     "metadata": {},
     "output_type": "display_data"
    },
    {
     "data": {
      "text/plain": [
       "\"DB: opt gap = 1.0\""
      ]
     },
     "metadata": {},
     "output_type": "display_data"
    },
    {
     "data": {
      "text/plain": [
       "\">>>>>> iteration 11:O\""
      ]
     },
     "metadata": {},
     "output_type": "display_data"
    },
    {
     "data": {
      "text/plain": [
       "\"DB: opt gap = 1.0\""
      ]
     },
     "metadata": {},
     "output_type": "display_data"
    },
    {
     "data": {
      "text/plain": [
       "\">>>>>> iteration 12:O\""
      ]
     },
     "metadata": {},
     "output_type": "display_data"
    },
    {
     "data": {
      "text/plain": [
       "\"DB: opt gap = 1.0\""
      ]
     },
     "metadata": {},
     "output_type": "display_data"
    },
    {
     "data": {
      "text/plain": [
       "\">>>>>> iteration 13:O\""
      ]
     },
     "metadata": {},
     "output_type": "display_data"
    },
    {
     "data": {
      "text/plain": [
       "\"DB: opt gap = 0.14381164495872692\""
      ]
     },
     "metadata": {},
     "output_type": "display_data"
    },
    {
     "data": {
      "text/plain": [
       "\">>>>>> iteration 14:O\""
      ]
     },
     "metadata": {},
     "output_type": "display_data"
    },
    {
     "data": {
      "text/plain": [
       "\"DB: opt gap = 0.14369208347058726\""
      ]
     },
     "metadata": {},
     "output_type": "display_data"
    },
    {
     "data": {
      "text/plain": [
       "\">>>>>> iteration 15:O\""
      ]
     },
     "metadata": {},
     "output_type": "display_data"
    },
    {
     "data": {
      "text/plain": [
       "\"DB: opt gap = 0.14341563884263808\""
      ]
     },
     "metadata": {},
     "output_type": "display_data"
    },
    {
     "data": {
      "text/plain": [
       "\">>>>>> iteration 16:O\""
      ]
     },
     "metadata": {},
     "output_type": "display_data"
    },
    {
     "data": {
      "text/plain": [
       "\"DB: opt gap = 0.14329133888551207\""
      ]
     },
     "metadata": {},
     "output_type": "display_data"
    },
    {
     "data": {
      "text/plain": [
       "\">>>>>> iteration 17:O\""
      ]
     },
     "metadata": {},
     "output_type": "display_data"
    },
    {
     "data": {
      "text/plain": [
       "\"DB: opt gap = 0.1430914164651898\""
      ]
     },
     "metadata": {},
     "output_type": "display_data"
    },
    {
     "data": {
      "text/plain": [
       "\">>>>>> iteration 18:O\""
      ]
     },
     "metadata": {},
     "output_type": "display_data"
    },
    {
     "data": {
      "text/plain": [
       "\"DB: opt gap = 0.14275510687082663\""
      ]
     },
     "metadata": {},
     "output_type": "display_data"
    },
    {
     "data": {
      "text/plain": [
       "\">>>>>> iteration 19:O\""
      ]
     },
     "metadata": {},
     "output_type": "display_data"
    },
    {
     "data": {
      "text/plain": [
       "\"DB: opt gap = 0.14206479665448138\""
      ]
     },
     "metadata": {},
     "output_type": "display_data"
    },
    {
     "data": {
      "text/plain": [
       "\">>>>>> iteration 20:O\""
      ]
     },
     "metadata": {},
     "output_type": "display_data"
    },
    {
     "data": {
      "text/plain": [
       "\"DB: opt gap = 0.14194414535272867\""
      ]
     },
     "metadata": {},
     "output_type": "display_data"
    },
    {
     "data": {
      "text/plain": [
       "\">>>>>> iteration 21:O\""
      ]
     },
     "metadata": {},
     "output_type": "display_data"
    },
    {
     "data": {
      "text/plain": [
       "\"DB: opt gap = 0.14167254611662747\""
      ]
     },
     "metadata": {},
     "output_type": "display_data"
    },
    {
     "data": {
      "text/plain": [
       "\">>>>>> iteration 22:O\""
      ]
     },
     "metadata": {},
     "output_type": "display_data"
    },
    {
     "data": {
      "text/plain": [
       "\"DB: opt gap = 0.14155613894643915\""
      ]
     },
     "metadata": {},
     "output_type": "display_data"
    },
    {
     "data": {
      "text/plain": [
       "\">>>>>> iteration 23:O\""
      ]
     },
     "metadata": {},
     "output_type": "display_data"
    },
    {
     "data": {
      "text/plain": [
       "\"DB: opt gap = 3.3036554233384667e-6\""
      ]
     },
     "metadata": {},
     "output_type": "display_data"
    },
    {
     "data": {
      "text/plain": [
       "\"time M 37.60199999809265 | time D 95.21099781990051\""
      ]
     },
     "metadata": {},
     "output_type": "display_data"
    },
    {
     "data": {
      "text/plain": [
       "\"evaluating 38 scenarios| option 3\""
      ]
     },
     "metadata": {},
     "output_type": "display_data"
    },
    {
     "data": {
      "text/plain": [
       "\"DB: opt gap = 1.0\""
      ]
     },
     "metadata": {},
     "output_type": "display_data"
    },
    {
     "data": {
      "text/plain": [
       "\">>>>>> iteration 1:O\""
      ]
     },
     "metadata": {},
     "output_type": "display_data"
    },
    {
     "data": {
      "text/plain": [
       "\"DB: opt gap = 1.0\""
      ]
     },
     "metadata": {},
     "output_type": "display_data"
    },
    {
     "data": {
      "text/plain": [
       "\">>>>>> iteration 2:O\""
      ]
     },
     "metadata": {},
     "output_type": "display_data"
    },
    {
     "data": {
      "text/plain": [
       "\"DB: opt gap = 1.0\""
      ]
     },
     "metadata": {},
     "output_type": "display_data"
    },
    {
     "data": {
      "text/plain": [
       "\">>>>>> iteration 3:O\""
      ]
     },
     "metadata": {},
     "output_type": "display_data"
    },
    {
     "data": {
      "text/plain": [
       "\"DB: opt gap = 1.0\""
      ]
     },
     "metadata": {},
     "output_type": "display_data"
    },
    {
     "data": {
      "text/plain": [
       "\">>>>>> iteration 4:O\""
      ]
     },
     "metadata": {},
     "output_type": "display_data"
    },
    {
     "data": {
      "text/plain": [
       "\"DB: opt gap = 1.0\""
      ]
     },
     "metadata": {},
     "output_type": "display_data"
    },
    {
     "data": {
      "text/plain": [
       "\">>>>>> iteration 5:O\""
      ]
     },
     "metadata": {},
     "output_type": "display_data"
    },
    {
     "data": {
      "text/plain": [
       "\"DB: opt gap = 1.0\""
      ]
     },
     "metadata": {},
     "output_type": "display_data"
    },
    {
     "data": {
      "text/plain": [
       "\">>>>>> iteration 6:O\""
      ]
     },
     "metadata": {},
     "output_type": "display_data"
    },
    {
     "data": {
      "text/plain": [
       "\"DB: opt gap = 0.1647559592002187\""
      ]
     },
     "metadata": {},
     "output_type": "display_data"
    },
    {
     "data": {
      "text/plain": [
       "\">>>>>> iteration 7:O\""
      ]
     },
     "metadata": {},
     "output_type": "display_data"
    },
    {
     "data": {
      "text/plain": [
       "\"DB: opt gap = 0.1646092809639337\""
      ]
     },
     "metadata": {},
     "output_type": "display_data"
    },
    {
     "data": {
      "text/plain": [
       "\">>>>>> iteration 8:O\""
      ]
     },
     "metadata": {},
     "output_type": "display_data"
    },
    {
     "data": {
      "text/plain": [
       "\"DB: opt gap = 0.16425771390289487\""
      ]
     },
     "metadata": {},
     "output_type": "display_data"
    },
    {
     "data": {
      "text/plain": [
       "\">>>>>> iteration 9:O\""
      ]
     },
     "metadata": {},
     "output_type": "display_data"
    },
    {
     "data": {
      "text/plain": [
       "\"DB: opt gap = 0.16409161886336107\""
      ]
     },
     "metadata": {},
     "output_type": "display_data"
    },
    {
     "data": {
      "text/plain": [
       "\">>>>>> iteration 10:O\""
      ]
     },
     "metadata": {},
     "output_type": "display_data"
    },
    {
     "data": {
      "text/plain": [
       "\"DB: opt gap = 0.1638472794834346\""
      ]
     },
     "metadata": {},
     "output_type": "display_data"
    },
    {
     "data": {
      "text/plain": [
       "\">>>>>> iteration 11:O\""
      ]
     },
     "metadata": {},
     "output_type": "display_data"
    },
    {
     "data": {
      "text/plain": [
       "\"DB: opt gap = 0.16342364883635996\""
      ]
     },
     "metadata": {},
     "output_type": "display_data"
    },
    {
     "data": {
      "text/plain": [
       "\">>>>>> iteration 12:O\""
      ]
     },
     "metadata": {},
     "output_type": "display_data"
    },
    {
     "data": {
      "text/plain": [
       "\"DB: opt gap = 0.16257043773484\""
      ]
     },
     "metadata": {},
     "output_type": "display_data"
    },
    {
     "data": {
      "text/plain": [
       "\">>>>>> iteration 13:O\""
      ]
     },
     "metadata": {},
     "output_type": "display_data"
    },
    {
     "data": {
      "text/plain": [
       "\"DB: opt gap = 0.1624096891554555\""
      ]
     },
     "metadata": {},
     "output_type": "display_data"
    },
    {
     "data": {
      "text/plain": [
       "\">>>>>> iteration 14:O\""
      ]
     },
     "metadata": {},
     "output_type": "display_data"
    },
    {
     "data": {
      "text/plain": [
       "\"DB: opt gap = 0.16206939935600662\""
      ]
     },
     "metadata": {},
     "output_type": "display_data"
    },
    {
     "data": {
      "text/plain": [
       "\">>>>>> iteration 15:O\""
      ]
     },
     "metadata": {},
     "output_type": "display_data"
    },
    {
     "data": {
      "text/plain": [
       "\">>>>>> iteration 16:F\""
      ]
     },
     "metadata": {},
     "output_type": "display_data"
    },
    {
     "data": {
      "text/plain": [
       "\"DB: opt gap = 8.191667619837961e-6\""
      ]
     },
     "metadata": {},
     "output_type": "display_data"
    },
    {
     "data": {
      "text/plain": [
       "\">>>>>> iteration 17:O\""
      ]
     },
     "metadata": {},
     "output_type": "display_data"
    },
    {
     "data": {
      "text/plain": [
       "\"DB: opt gap = 8.195499764324908e-6\""
      ]
     },
     "metadata": {},
     "output_type": "display_data"
    },
    {
     "data": {
      "text/plain": [
       "\"time M 48.72099995613098 | time D 71.99500131607056\""
      ]
     },
     "metadata": {},
     "output_type": "display_data"
    },
    {
     "data": {
      "text/plain": [
       "\"evaluating 39 scenarios| option 3\""
      ]
     },
     "metadata": {},
     "output_type": "display_data"
    },
    {
     "data": {
      "text/plain": [
       "\"DB: opt gap = 1.0\""
      ]
     },
     "metadata": {},
     "output_type": "display_data"
    },
    {
     "data": {
      "text/plain": [
       "\">>>>>> iteration 1:O\""
      ]
     },
     "metadata": {},
     "output_type": "display_data"
    },
    {
     "data": {
      "text/plain": [
       "\"DB: opt gap = 1.0\""
      ]
     },
     "metadata": {},
     "output_type": "display_data"
    },
    {
     "data": {
      "text/plain": [
       "\">>>>>> iteration 2:O\""
      ]
     },
     "metadata": {},
     "output_type": "display_data"
    },
    {
     "data": {
      "text/plain": [
       "\"DB: opt gap = 1.0\""
      ]
     },
     "metadata": {},
     "output_type": "display_data"
    },
    {
     "data": {
      "text/plain": [
       "\">>>>>> iteration 3:O\""
      ]
     },
     "metadata": {},
     "output_type": "display_data"
    },
    {
     "data": {
      "text/plain": [
       "\">>>>>> iteration 4:F\""
      ]
     },
     "metadata": {},
     "output_type": "display_data"
    },
    {
     "data": {
      "text/plain": [
       "\"DB: opt gap = 1.0\""
      ]
     },
     "metadata": {},
     "output_type": "display_data"
    },
    {
     "data": {
      "text/plain": [
       "\">>>>>> iteration 5:O\""
      ]
     },
     "metadata": {},
     "output_type": "display_data"
    },
    {
     "data": {
      "text/plain": [
       "\"DB: opt gap = 0.9999999999733866\""
      ]
     },
     "metadata": {},
     "output_type": "display_data"
    },
    {
     "data": {
      "text/plain": [
       "\">>>>>> iteration 6:O\""
      ]
     },
     "metadata": {},
     "output_type": "display_data"
    },
    {
     "data": {
      "text/plain": [
       "\"DB: opt gap = 0.0388702112464758\""
      ]
     },
     "metadata": {},
     "output_type": "display_data"
    },
    {
     "data": {
      "text/plain": [
       "\">>>>>> iteration 7:O\""
      ]
     },
     "metadata": {},
     "output_type": "display_data"
    },
    {
     "data": {
      "text/plain": [
       "\"DB: opt gap = 0.03882083703782952\""
      ]
     },
     "metadata": {},
     "output_type": "display_data"
    },
    {
     "data": {
      "text/plain": [
       "\">>>>>> iteration 8:O\""
      ]
     },
     "metadata": {},
     "output_type": "display_data"
    },
    {
     "data": {
      "text/plain": [
       "\"DB: opt gap = 0.03876322668208555\""
      ]
     },
     "metadata": {},
     "output_type": "display_data"
    },
    {
     "data": {
      "text/plain": [
       "\">>>>>> iteration 9:O\""
      ]
     },
     "metadata": {},
     "output_type": "display_data"
    },
    {
     "data": {
      "text/plain": [
       "\"DB: opt gap = 0.038732163348939\""
      ]
     },
     "metadata": {},
     "output_type": "display_data"
    },
    {
     "data": {
      "text/plain": [
       "\">>>>>> iteration 10:O\""
      ]
     },
     "metadata": {},
     "output_type": "display_data"
    },
    {
     "data": {
      "text/plain": [
       "\"DB: opt gap = 0.038696194648108743\""
      ]
     },
     "metadata": {},
     "output_type": "display_data"
    },
    {
     "data": {
      "text/plain": [
       "\">>>>>> iteration 11:O\""
      ]
     },
     "metadata": {},
     "output_type": "display_data"
    },
    {
     "data": {
      "text/plain": [
       "\"DB: opt gap = 0.038615121548149306\""
      ]
     },
     "metadata": {},
     "output_type": "display_data"
    },
    {
     "data": {
      "text/plain": [
       "\">>>>>> iteration 12:O\""
      ]
     },
     "metadata": {},
     "output_type": "display_data"
    },
    {
     "data": {
      "text/plain": [
       "\"DB: opt gap = 0.03856009841349551\""
      ]
     },
     "metadata": {},
     "output_type": "display_data"
    },
    {
     "data": {
      "text/plain": [
       "\">>>>>> iteration 13:O\""
      ]
     },
     "metadata": {},
     "output_type": "display_data"
    },
    {
     "data": {
      "text/plain": [
       "\"DB: opt gap = 4.429485651125612e-7\""
      ]
     },
     "metadata": {},
     "output_type": "display_data"
    },
    {
     "data": {
      "text/plain": [
       "\"time M 52.400999784469604 | time D 54.70899748802185\""
      ]
     },
     "metadata": {},
     "output_type": "display_data"
    },
    {
     "data": {
      "text/plain": [
       "\"evaluating 40 scenarios| option 3\""
      ]
     },
     "metadata": {},
     "output_type": "display_data"
    },
    {
     "data": {
      "text/plain": [
       "\"DB: opt gap = 1.0\""
      ]
     },
     "metadata": {},
     "output_type": "display_data"
    },
    {
     "data": {
      "text/plain": [
       "\">>>>>> iteration 1:O\""
      ]
     },
     "metadata": {},
     "output_type": "display_data"
    },
    {
     "data": {
      "text/plain": [
       "\"DB: opt gap = 1.0\""
      ]
     },
     "metadata": {},
     "output_type": "display_data"
    },
    {
     "data": {
      "text/plain": [
       "\">>>>>> iteration 2:O\""
      ]
     },
     "metadata": {},
     "output_type": "display_data"
    },
    {
     "data": {
      "text/plain": [
       "\"DB: opt gap = 1.0\""
      ]
     },
     "metadata": {},
     "output_type": "display_data"
    },
    {
     "data": {
      "text/plain": [
       "\">>>>>> iteration 3:O\""
      ]
     },
     "metadata": {},
     "output_type": "display_data"
    },
    {
     "data": {
      "text/plain": [
       "\"DB: opt gap = 1.0\""
      ]
     },
     "metadata": {},
     "output_type": "display_data"
    },
    {
     "data": {
      "text/plain": [
       "\">>>>>> iteration 4:O\""
      ]
     },
     "metadata": {},
     "output_type": "display_data"
    },
    {
     "data": {
      "text/plain": [
       "\"DB: opt gap = 1.0\""
      ]
     },
     "metadata": {},
     "output_type": "display_data"
    },
    {
     "data": {
      "text/plain": [
       "\">>>>>> iteration 5:O\""
      ]
     },
     "metadata": {},
     "output_type": "display_data"
    },
    {
     "data": {
      "text/plain": [
       "\"DB: opt gap = 1.0\""
      ]
     },
     "metadata": {},
     "output_type": "display_data"
    },
    {
     "data": {
      "text/plain": [
       "\">>>>>> iteration 6:O\""
      ]
     },
     "metadata": {},
     "output_type": "display_data"
    },
    {
     "data": {
      "text/plain": [
       "\"DB: opt gap = 1.0\""
      ]
     },
     "metadata": {},
     "output_type": "display_data"
    },
    {
     "data": {
      "text/plain": [
       "\">>>>>> iteration 7:O\""
      ]
     },
     "metadata": {},
     "output_type": "display_data"
    },
    {
     "data": {
      "text/plain": [
       "\"DB: opt gap = 1.0\""
      ]
     },
     "metadata": {},
     "output_type": "display_data"
    },
    {
     "data": {
      "text/plain": [
       "\">>>>>> iteration 8:O\""
      ]
     },
     "metadata": {},
     "output_type": "display_data"
    },
    {
     "data": {
      "text/plain": [
       "\"DB: opt gap = 1.0\""
      ]
     },
     "metadata": {},
     "output_type": "display_data"
    },
    {
     "data": {
      "text/plain": [
       "\">>>>>> iteration 9:O\""
      ]
     },
     "metadata": {},
     "output_type": "display_data"
    },
    {
     "data": {
      "text/plain": [
       "\"DB: opt gap = 0.1436456350341298\""
      ]
     },
     "metadata": {},
     "output_type": "display_data"
    },
    {
     "data": {
      "text/plain": [
       "\">>>>>> iteration 10:O\""
      ]
     },
     "metadata": {},
     "output_type": "display_data"
    },
    {
     "data": {
      "text/plain": [
       "\"DB: opt gap = 0.14352562671002086\""
      ]
     },
     "metadata": {},
     "output_type": "display_data"
    },
    {
     "data": {
      "text/plain": [
       "\">>>>>> iteration 11:O\""
      ]
     },
     "metadata": {},
     "output_type": "display_data"
    },
    {
     "data": {
      "text/plain": [
       "\"DB: opt gap = 0.14324863905193758\""
      ]
     },
     "metadata": {},
     "output_type": "display_data"
    },
    {
     "data": {
      "text/plain": [
       "\">>>>>> iteration 12:O\""
      ]
     },
     "metadata": {},
     "output_type": "display_data"
    },
    {
     "data": {
      "text/plain": [
       "\"DB: opt gap = 0.14312971105619693\""
      ]
     },
     "metadata": {},
     "output_type": "display_data"
    },
    {
     "data": {
      "text/plain": [
       "\">>>>>> iteration 13:O\""
      ]
     },
     "metadata": {},
     "output_type": "display_data"
    },
    {
     "data": {
      "text/plain": [
       "\"DB: opt gap = 0.14294415847999048\""
      ]
     },
     "metadata": {},
     "output_type": "display_data"
    },
    {
     "data": {
      "text/plain": [
       "\">>>>>> iteration 14:O\""
      ]
     },
     "metadata": {},
     "output_type": "display_data"
    },
    {
     "data": {
      "text/plain": [
       "\"DB: opt gap = 0.1426430237755958\""
      ]
     },
     "metadata": {},
     "output_type": "display_data"
    },
    {
     "data": {
      "text/plain": [
       "\">>>>>> iteration 15:O\""
      ]
     },
     "metadata": {},
     "output_type": "display_data"
    },
    {
     "data": {
      "text/plain": [
       "\"DB: opt gap = 0.14206904116079722\""
      ]
     },
     "metadata": {},
     "output_type": "display_data"
    },
    {
     "data": {
      "text/plain": [
       "\">>>>>> iteration 16:O\""
      ]
     },
     "metadata": {},
     "output_type": "display_data"
    },
    {
     "data": {
      "text/plain": [
       "\"DB: opt gap = 0.1419568593095023\""
      ]
     },
     "metadata": {},
     "output_type": "display_data"
    },
    {
     "data": {
      "text/plain": [
       "\">>>>>> iteration 17:O\""
      ]
     },
     "metadata": {},
     "output_type": "display_data"
    },
    {
     "data": {
      "text/plain": [
       "\"DB: opt gap = 0.14170249708007107\""
      ]
     },
     "metadata": {},
     "output_type": "display_data"
    },
    {
     "data": {
      "text/plain": [
       "\">>>>>> iteration 18:O\""
      ]
     },
     "metadata": {},
     "output_type": "display_data"
    },
    {
     "data": {
      "text/plain": [
       "\"DB: opt gap = 0.1415710592433762\""
      ]
     },
     "metadata": {},
     "output_type": "display_data"
    },
    {
     "data": {
      "text/plain": [
       "\">>>>>> iteration 19:O\""
      ]
     },
     "metadata": {},
     "output_type": "display_data"
    },
    {
     "data": {
      "text/plain": [
       "\">>>>>> iteration 20:F\""
      ]
     },
     "metadata": {},
     "output_type": "display_data"
    },
    {
     "data": {
      "text/plain": [
       "\"DB: opt gap = 3.1033715319377955e-6\""
      ]
     },
     "metadata": {},
     "output_type": "display_data"
    },
    {
     "data": {
      "text/plain": [
       "\">>>>>> iteration 21:O\""
      ]
     },
     "metadata": {},
     "output_type": "display_data"
    },
    {
     "data": {
      "text/plain": [
       "\"DB: opt gap = 3.7700630135860533e-6\""
      ]
     },
     "metadata": {},
     "output_type": "display_data"
    },
    {
     "data": {
      "text/plain": [
       "\"time M 53.105000019073486 | time D 85.49500322341919\""
      ]
     },
     "metadata": {},
     "output_type": "display_data"
    },
    {
     "data": {
      "text/plain": [
       "\"evaluating 41 scenarios| option 3\""
      ]
     },
     "metadata": {},
     "output_type": "display_data"
    },
    {
     "data": {
      "text/plain": [
       "\"DB: opt gap = 1.0\""
      ]
     },
     "metadata": {},
     "output_type": "display_data"
    },
    {
     "data": {
      "text/plain": [
       "\">>>>>> iteration 1:O\""
      ]
     },
     "metadata": {},
     "output_type": "display_data"
    },
    {
     "data": {
      "text/plain": [
       "\"DB: opt gap = 1.0\""
      ]
     },
     "metadata": {},
     "output_type": "display_data"
    },
    {
     "data": {
      "text/plain": [
       "\">>>>>> iteration 2:O\""
      ]
     },
     "metadata": {},
     "output_type": "display_data"
    },
    {
     "data": {
      "text/plain": [
       "\"DB: opt gap = 1.0\""
      ]
     },
     "metadata": {},
     "output_type": "display_data"
    },
    {
     "data": {
      "text/plain": [
       "\">>>>>> iteration 3:O\""
      ]
     },
     "metadata": {},
     "output_type": "display_data"
    },
    {
     "data": {
      "text/plain": [
       "\"DB: opt gap = 1.0\""
      ]
     },
     "metadata": {},
     "output_type": "display_data"
    },
    {
     "data": {
      "text/plain": [
       "\">>>>>> iteration 4:O\""
      ]
     },
     "metadata": {},
     "output_type": "display_data"
    },
    {
     "data": {
      "text/plain": [
       "\"DB: opt gap = 1.0\""
      ]
     },
     "metadata": {},
     "output_type": "display_data"
    },
    {
     "data": {
      "text/plain": [
       "\">>>>>> iteration 5:O\""
      ]
     },
     "metadata": {},
     "output_type": "display_data"
    },
    {
     "data": {
      "text/plain": [
       "\"DB: opt gap = 1.0\""
      ]
     },
     "metadata": {},
     "output_type": "display_data"
    },
    {
     "data": {
      "text/plain": [
       "\">>>>>> iteration 6:O\""
      ]
     },
     "metadata": {},
     "output_type": "display_data"
    },
    {
     "data": {
      "text/plain": [
       "\"DB: opt gap = 1.0\""
      ]
     },
     "metadata": {},
     "output_type": "display_data"
    },
    {
     "data": {
      "text/plain": [
       "\">>>>>> iteration 7:O\""
      ]
     },
     "metadata": {},
     "output_type": "display_data"
    },
    {
     "data": {
      "text/plain": [
       "\"DB: opt gap = 1.0\""
      ]
     },
     "metadata": {},
     "output_type": "display_data"
    },
    {
     "data": {
      "text/plain": [
       "\">>>>>> iteration 8:O\""
      ]
     },
     "metadata": {},
     "output_type": "display_data"
    },
    {
     "data": {
      "text/plain": [
       "\"DB: opt gap = 1.0\""
      ]
     },
     "metadata": {},
     "output_type": "display_data"
    },
    {
     "data": {
      "text/plain": [
       "\">>>>>> iteration 9:O\""
      ]
     },
     "metadata": {},
     "output_type": "display_data"
    },
    {
     "data": {
      "text/plain": [
       "\"DB: opt gap = 1.0\""
      ]
     },
     "metadata": {},
     "output_type": "display_data"
    },
    {
     "data": {
      "text/plain": [
       "\">>>>>> iteration 10:O\""
      ]
     },
     "metadata": {},
     "output_type": "display_data"
    },
    {
     "data": {
      "text/plain": [
       "\"DB: opt gap = 0.1598053261665651\""
      ]
     },
     "metadata": {},
     "output_type": "display_data"
    },
    {
     "data": {
      "text/plain": [
       "\">>>>>> iteration 11:O\""
      ]
     },
     "metadata": {},
     "output_type": "display_data"
    },
    {
     "data": {
      "text/plain": [
       "\"DB: opt gap = 0.159658420180968\""
      ]
     },
     "metadata": {},
     "output_type": "display_data"
    },
    {
     "data": {
      "text/plain": [
       "\">>>>>> iteration 12:O\""
      ]
     },
     "metadata": {},
     "output_type": "display_data"
    },
    {
     "data": {
      "text/plain": [
       "\"DB: opt gap = 0.15937361884164158\""
      ]
     },
     "metadata": {},
     "output_type": "display_data"
    },
    {
     "data": {
      "text/plain": [
       "\">>>>>> iteration 13:O\""
      ]
     },
     "metadata": {},
     "output_type": "display_data"
    },
    {
     "data": {
      "text/plain": [
       "\"DB: opt gap = 0.15897396154448942\""
      ]
     },
     "metadata": {},
     "output_type": "display_data"
    },
    {
     "data": {
      "text/plain": [
       "\">>>>>> iteration 14:O\""
      ]
     },
     "metadata": {},
     "output_type": "display_data"
    },
    {
     "data": {
      "text/plain": [
       "\"DB: opt gap = 0.1586137557431558\""
      ]
     },
     "metadata": {},
     "output_type": "display_data"
    },
    {
     "data": {
      "text/plain": [
       "\">>>>>> iteration 15:O\""
      ]
     },
     "metadata": {},
     "output_type": "display_data"
    },
    {
     "data": {
      "text/plain": [
       "\"DB: opt gap = 0.15856230590361747\""
      ]
     },
     "metadata": {},
     "output_type": "display_data"
    },
    {
     "data": {
      "text/plain": [
       "\">>>>>> iteration 16:O\""
      ]
     },
     "metadata": {},
     "output_type": "display_data"
    },
    {
     "data": {
      "text/plain": [
       "\"DB: opt gap = 0.15843655001696488\""
      ]
     },
     "metadata": {},
     "output_type": "display_data"
    },
    {
     "data": {
      "text/plain": [
       "\">>>>>> iteration 17:O\""
      ]
     },
     "metadata": {},
     "output_type": "display_data"
    },
    {
     "data": {
      "text/plain": [
       "\">>>>>> iteration 18:F\""
      ]
     },
     "metadata": {},
     "output_type": "display_data"
    },
    {
     "data": {
      "text/plain": [
       "\"DB: opt gap = 2.501157750696169e-6\""
      ]
     },
     "metadata": {},
     "output_type": "display_data"
    },
    {
     "data": {
      "text/plain": [
       "\">>>>>> iteration 19:O\""
      ]
     },
     "metadata": {},
     "output_type": "display_data"
    },
    {
     "data": {
      "text/plain": [
       "\"DB: opt gap = 2.4654082625422674e-6\""
      ]
     },
     "metadata": {},
     "output_type": "display_data"
    },
    {
     "data": {
      "text/plain": [
       "\"time M 47.650999784469604 | time D 77.76100301742554\""
      ]
     },
     "metadata": {},
     "output_type": "display_data"
    },
    {
     "data": {
      "text/plain": [
       "\"evaluating 42 scenarios| option 3\""
      ]
     },
     "metadata": {},
     "output_type": "display_data"
    },
    {
     "data": {
      "text/plain": [
       "\"DB: opt gap = 1.0\""
      ]
     },
     "metadata": {},
     "output_type": "display_data"
    },
    {
     "data": {
      "text/plain": [
       "\">>>>>> iteration 1:O\""
      ]
     },
     "metadata": {},
     "output_type": "display_data"
    },
    {
     "data": {
      "text/plain": [
       "\"DB: opt gap = 1.0\""
      ]
     },
     "metadata": {},
     "output_type": "display_data"
    },
    {
     "data": {
      "text/plain": [
       "\">>>>>> iteration 2:O\""
      ]
     },
     "metadata": {},
     "output_type": "display_data"
    },
    {
     "data": {
      "text/plain": [
       "\"DB: opt gap = 1.0\""
      ]
     },
     "metadata": {},
     "output_type": "display_data"
    },
    {
     "data": {
      "text/plain": [
       "\">>>>>> iteration 3:O\""
      ]
     },
     "metadata": {},
     "output_type": "display_data"
    },
    {
     "data": {
      "text/plain": [
       "\"DB: opt gap = 1.0\""
      ]
     },
     "metadata": {},
     "output_type": "display_data"
    },
    {
     "data": {
      "text/plain": [
       "\">>>>>> iteration 4:O\""
      ]
     },
     "metadata": {},
     "output_type": "display_data"
    },
    {
     "data": {
      "text/plain": [
       "\"DB: opt gap = 1.0\""
      ]
     },
     "metadata": {},
     "output_type": "display_data"
    },
    {
     "data": {
      "text/plain": [
       "\">>>>>> iteration 5:O\""
      ]
     },
     "metadata": {},
     "output_type": "display_data"
    },
    {
     "data": {
      "text/plain": [
       "\"DB: opt gap = 1.0\""
      ]
     },
     "metadata": {},
     "output_type": "display_data"
    },
    {
     "data": {
      "text/plain": [
       "\">>>>>> iteration 6:O\""
      ]
     },
     "metadata": {},
     "output_type": "display_data"
    },
    {
     "data": {
      "text/plain": [
       "\"DB: opt gap = 1.0\""
      ]
     },
     "metadata": {},
     "output_type": "display_data"
    },
    {
     "data": {
      "text/plain": [
       "\">>>>>> iteration 7:O\""
      ]
     },
     "metadata": {},
     "output_type": "display_data"
    },
    {
     "data": {
      "text/plain": [
       "\"DB: opt gap = 0.1466150596483677\""
      ]
     },
     "metadata": {},
     "output_type": "display_data"
    },
    {
     "data": {
      "text/plain": [
       "\">>>>>> iteration 8:O\""
      ]
     },
     "metadata": {},
     "output_type": "display_data"
    },
    {
     "data": {
      "text/plain": [
       "\"DB: opt gap = 0.14650177814906737\""
      ]
     },
     "metadata": {},
     "output_type": "display_data"
    },
    {
     "data": {
      "text/plain": [
       "\">>>>>> iteration 9:O\""
      ]
     },
     "metadata": {},
     "output_type": "display_data"
    },
    {
     "data": {
      "text/plain": [
       "\"DB: opt gap = 0.14626235267786603\""
      ]
     },
     "metadata": {},
     "output_type": "display_data"
    },
    {
     "data": {
      "text/plain": [
       "\">>>>>> iteration 10:O\""
      ]
     },
     "metadata": {},
     "output_type": "display_data"
    },
    {
     "data": {
      "text/plain": [
       "\">>>>>> iteration 11:F\""
      ]
     },
     "metadata": {},
     "output_type": "display_data"
    },
    {
     "data": {
      "text/plain": [
       "\"DB: opt gap = 0.14596476448776968\""
      ]
     },
     "metadata": {},
     "output_type": "display_data"
    },
    {
     "data": {
      "text/plain": [
       "\">>>>>> iteration 12:O\""
      ]
     },
     "metadata": {},
     "output_type": "display_data"
    },
    {
     "data": {
      "text/plain": [
       "\"DB: opt gap = 0.14559295886359738\""
      ]
     },
     "metadata": {},
     "output_type": "display_data"
    },
    {
     "data": {
      "text/plain": [
       "\">>>>>> iteration 13:O\""
      ]
     },
     "metadata": {},
     "output_type": "display_data"
    },
    {
     "data": {
      "text/plain": [
       "\"DB: opt gap = 0.14517162743041953\""
      ]
     },
     "metadata": {},
     "output_type": "display_data"
    },
    {
     "data": {
      "text/plain": [
       "\">>>>>> iteration 14:O\""
      ]
     },
     "metadata": {},
     "output_type": "display_data"
    },
    {
     "data": {
      "text/plain": [
       "\"DB: opt gap = 0.14497386779790747\""
      ]
     },
     "metadata": {},
     "output_type": "display_data"
    },
    {
     "data": {
      "text/plain": [
       "\">>>>>> iteration 15:O\""
      ]
     },
     "metadata": {},
     "output_type": "display_data"
    },
    {
     "data": {
      "text/plain": [
       "\"DB: opt gap = 0.1442332880481085\""
      ]
     },
     "metadata": {},
     "output_type": "display_data"
    },
    {
     "data": {
      "text/plain": [
       "\">>>>>> iteration 16:O\""
      ]
     },
     "metadata": {},
     "output_type": "display_data"
    },
    {
     "data": {
      "text/plain": [
       "\"DB: opt gap = 3.902268453194236e-6\""
      ]
     },
     "metadata": {},
     "output_type": "display_data"
    },
    {
     "data": {
      "text/plain": [
       "\"time M 55.75599980354309 | time D 67.43999814987183\""
      ]
     },
     "metadata": {},
     "output_type": "display_data"
    },
    {
     "data": {
      "text/plain": [
       "\"evaluating 43 scenarios| option 3\""
      ]
     },
     "metadata": {},
     "output_type": "display_data"
    },
    {
     "data": {
      "text/plain": [
       "\"DB: opt gap = 1.0\""
      ]
     },
     "metadata": {},
     "output_type": "display_data"
    },
    {
     "data": {
      "text/plain": [
       "\">>>>>> iteration 1:O\""
      ]
     },
     "metadata": {},
     "output_type": "display_data"
    },
    {
     "data": {
      "text/plain": [
       "\"DB: opt gap = 1.0\""
      ]
     },
     "metadata": {},
     "output_type": "display_data"
    },
    {
     "data": {
      "text/plain": [
       "\">>>>>> iteration 2:O\""
      ]
     },
     "metadata": {},
     "output_type": "display_data"
    },
    {
     "data": {
      "text/plain": [
       "\"DB: opt gap = 1.0\""
      ]
     },
     "metadata": {},
     "output_type": "display_data"
    },
    {
     "data": {
      "text/plain": [
       "\">>>>>> iteration 3:O\""
      ]
     },
     "metadata": {},
     "output_type": "display_data"
    },
    {
     "data": {
      "text/plain": [
       "\"DB: opt gap = 1.0\""
      ]
     },
     "metadata": {},
     "output_type": "display_data"
    },
    {
     "data": {
      "text/plain": [
       "\">>>>>> iteration 4:O\""
      ]
     },
     "metadata": {},
     "output_type": "display_data"
    },
    {
     "data": {
      "text/plain": [
       "\"DB: opt gap = 1.0\""
      ]
     },
     "metadata": {},
     "output_type": "display_data"
    },
    {
     "data": {
      "text/plain": [
       "\">>>>>> iteration 5:O\""
      ]
     },
     "metadata": {},
     "output_type": "display_data"
    },
    {
     "data": {
      "text/plain": [
       "\"DB: opt gap = 1.0\""
      ]
     },
     "metadata": {},
     "output_type": "display_data"
    },
    {
     "data": {
      "text/plain": [
       "\">>>>>> iteration 6:O\""
      ]
     },
     "metadata": {},
     "output_type": "display_data"
    },
    {
     "data": {
      "text/plain": [
       "\"DB: opt gap = 1.0\""
      ]
     },
     "metadata": {},
     "output_type": "display_data"
    },
    {
     "data": {
      "text/plain": [
       "\">>>>>> iteration 7:O\""
      ]
     },
     "metadata": {},
     "output_type": "display_data"
    },
    {
     "data": {
      "text/plain": [
       "\"DB: opt gap = 1.0\""
      ]
     },
     "metadata": {},
     "output_type": "display_data"
    },
    {
     "data": {
      "text/plain": [
       "\">>>>>> iteration 8:O\""
      ]
     },
     "metadata": {},
     "output_type": "display_data"
    },
    {
     "data": {
      "text/plain": [
       "\"DB: opt gap = 1.0\""
      ]
     },
     "metadata": {},
     "output_type": "display_data"
    },
    {
     "data": {
      "text/plain": [
       "\">>>>>> iteration 9:O\""
      ]
     },
     "metadata": {},
     "output_type": "display_data"
    },
    {
     "data": {
      "text/plain": [
       "\"DB: opt gap = 1.0\""
      ]
     },
     "metadata": {},
     "output_type": "display_data"
    },
    {
     "data": {
      "text/plain": [
       "\">>>>>> iteration 10:O\""
      ]
     },
     "metadata": {},
     "output_type": "display_data"
    },
    {
     "data": {
      "text/plain": [
       "\"DB: opt gap = 1.0\""
      ]
     },
     "metadata": {},
     "output_type": "display_data"
    },
    {
     "data": {
      "text/plain": [
       "\">>>>>> iteration 11:O\""
      ]
     },
     "metadata": {},
     "output_type": "display_data"
    },
    {
     "data": {
      "text/plain": [
       "\"DB: opt gap = 1.0\""
      ]
     },
     "metadata": {},
     "output_type": "display_data"
    },
    {
     "data": {
      "text/plain": [
       "\">>>>>> iteration 12:O\""
      ]
     },
     "metadata": {},
     "output_type": "display_data"
    },
    {
     "data": {
      "text/plain": [
       "\"DB: opt gap = 0.34315974669697624\""
      ]
     },
     "metadata": {},
     "output_type": "display_data"
    },
    {
     "data": {
      "text/plain": [
       "\">>>>>> iteration 13:O\""
      ]
     },
     "metadata": {},
     "output_type": "display_data"
    },
    {
     "data": {
      "text/plain": [
       "\"DB: opt gap = 0.34281336274219415\""
      ]
     },
     "metadata": {},
     "output_type": "display_data"
    },
    {
     "data": {
      "text/plain": [
       "\">>>>>> iteration 14:O\""
      ]
     },
     "metadata": {},
     "output_type": "display_data"
    },
    {
     "data": {
      "text/plain": [
       "\"DB: opt gap = 0.3412911458450054\""
      ]
     },
     "metadata": {},
     "output_type": "display_data"
    },
    {
     "data": {
      "text/plain": [
       "\">>>>>> iteration 15:O\""
      ]
     },
     "metadata": {},
     "output_type": "display_data"
    },
    {
     "data": {
      "text/plain": [
       "\"DB: opt gap = 0.34045768969081003\""
      ]
     },
     "metadata": {},
     "output_type": "display_data"
    },
    {
     "data": {
      "text/plain": [
       "\">>>>>> iteration 16:O\""
      ]
     },
     "metadata": {},
     "output_type": "display_data"
    },
    {
     "data": {
      "text/plain": [
       "\"DB: opt gap = 0.3392490569020969\""
      ]
     },
     "metadata": {},
     "output_type": "display_data"
    },
    {
     "data": {
      "text/plain": [
       "\">>>>>> iteration 17:O\""
      ]
     },
     "metadata": {},
     "output_type": "display_data"
    },
    {
     "data": {
      "text/plain": [
       "\"DB: opt gap = 0.3385946700693203\""
      ]
     },
     "metadata": {},
     "output_type": "display_data"
    },
    {
     "data": {
      "text/plain": [
       "\">>>>>> iteration 18:O\""
      ]
     },
     "metadata": {},
     "output_type": "display_data"
    },
    {
     "data": {
      "text/plain": [
       "\"DB: opt gap = 0.33822095345549774\""
      ]
     },
     "metadata": {},
     "output_type": "display_data"
    },
    {
     "data": {
      "text/plain": [
       "\">>>>>> iteration 19:O\""
      ]
     },
     "metadata": {},
     "output_type": "display_data"
    },
    {
     "data": {
      "text/plain": [
       "\"DB: opt gap = 1.3938761616826065e-5\""
      ]
     },
     "metadata": {},
     "output_type": "display_data"
    },
    {
     "data": {
      "text/plain": [
       "\"time M 52.067999839782715 | time D 82.04399704933167\""
      ]
     },
     "metadata": {},
     "output_type": "display_data"
    },
    {
     "data": {
      "text/plain": [
       "\"evaluating 44 scenarios| option 3\""
      ]
     },
     "metadata": {},
     "output_type": "display_data"
    },
    {
     "data": {
      "text/plain": [
       "\"DB: opt gap = 1.0\""
      ]
     },
     "metadata": {},
     "output_type": "display_data"
    },
    {
     "data": {
      "text/plain": [
       "\">>>>>> iteration 1:O\""
      ]
     },
     "metadata": {},
     "output_type": "display_data"
    },
    {
     "data": {
      "text/plain": [
       "\"DB: opt gap = 1.0\""
      ]
     },
     "metadata": {},
     "output_type": "display_data"
    },
    {
     "data": {
      "text/plain": [
       "\">>>>>> iteration 2:O\""
      ]
     },
     "metadata": {},
     "output_type": "display_data"
    },
    {
     "data": {
      "text/plain": [
       "\"DB: opt gap = 1.0\""
      ]
     },
     "metadata": {},
     "output_type": "display_data"
    },
    {
     "data": {
      "text/plain": [
       "\">>>>>> iteration 3:O\""
      ]
     },
     "metadata": {},
     "output_type": "display_data"
    },
    {
     "data": {
      "text/plain": [
       "\"DB: opt gap = 1.0\""
      ]
     },
     "metadata": {},
     "output_type": "display_data"
    },
    {
     "data": {
      "text/plain": [
       "\">>>>>> iteration 4:O\""
      ]
     },
     "metadata": {},
     "output_type": "display_data"
    },
    {
     "data": {
      "text/plain": [
       "\"DB: opt gap = 1.0\""
      ]
     },
     "metadata": {},
     "output_type": "display_data"
    },
    {
     "data": {
      "text/plain": [
       "\">>>>>> iteration 5:O\""
      ]
     },
     "metadata": {},
     "output_type": "display_data"
    },
    {
     "data": {
      "text/plain": [
       "\"DB: opt gap = 0.16563295362990302\""
      ]
     },
     "metadata": {},
     "output_type": "display_data"
    },
    {
     "data": {
      "text/plain": [
       "\">>>>>> iteration 6:O\""
      ]
     },
     "metadata": {},
     "output_type": "display_data"
    },
    {
     "data": {
      "text/plain": [
       "\"DB: opt gap = 0.16550117687040852\""
      ]
     },
     "metadata": {},
     "output_type": "display_data"
    },
    {
     "data": {
      "text/plain": [
       "\">>>>>> iteration 7:O\""
      ]
     },
     "metadata": {},
     "output_type": "display_data"
    },
    {
     "data": {
      "text/plain": [
       "\"DB: opt gap = 0.1651833786319653\""
      ]
     },
     "metadata": {},
     "output_type": "display_data"
    },
    {
     "data": {
      "text/plain": [
       "\">>>>>> iteration 8:O\""
      ]
     },
     "metadata": {},
     "output_type": "display_data"
    },
    {
     "data": {
      "text/plain": [
       "\"DB: opt gap = 0.16504751690359873\""
      ]
     },
     "metadata": {},
     "output_type": "display_data"
    },
    {
     "data": {
      "text/plain": [
       "\">>>>>> iteration 9:O\""
      ]
     },
     "metadata": {},
     "output_type": "display_data"
    },
    {
     "data": {
      "text/plain": [
       "\"DB: opt gap = 0.16477196967328303\""
      ]
     },
     "metadata": {},
     "output_type": "display_data"
    },
    {
     "data": {
      "text/plain": [
       "\">>>>>> iteration 10:O\""
      ]
     },
     "metadata": {},
     "output_type": "display_data"
    },
    {
     "data": {
      "text/plain": [
       "\"DB: opt gap = 0.16463781876458342\""
      ]
     },
     "metadata": {},
     "output_type": "display_data"
    },
    {
     "data": {
      "text/plain": [
       "\">>>>>> iteration 11:O\""
      ]
     },
     "metadata": {},
     "output_type": "display_data"
    },
    {
     "data": {
      "text/plain": [
       "\"DB: opt gap = 0.16440317391576303\""
      ]
     },
     "metadata": {},
     "output_type": "display_data"
    },
    {
     "data": {
      "text/plain": [
       "\">>>>>> iteration 12:O\""
      ]
     },
     "metadata": {},
     "output_type": "display_data"
    },
    {
     "data": {
      "text/plain": [
       "\"DB: opt gap = 0.16426638013407624\""
      ]
     },
     "metadata": {},
     "output_type": "display_data"
    },
    {
     "data": {
      "text/plain": [
       "\">>>>>> iteration 13:O\""
      ]
     },
     "metadata": {},
     "output_type": "display_data"
    },
    {
     "data": {
      "text/plain": [
       "\"DB: opt gap = 0.16431037600554277\""
      ]
     },
     "metadata": {},
     "output_type": "display_data"
    },
    {
     "data": {
      "text/plain": [
       "\">>>>>> iteration 14:O\""
      ]
     },
     "metadata": {},
     "output_type": "display_data"
    },
    {
     "data": {
      "text/plain": [
       "\"DB: opt gap = 0.1641768324957683\""
      ]
     },
     "metadata": {},
     "output_type": "display_data"
    },
    {
     "data": {
      "text/plain": [
       "\">>>>>> iteration 15:O\""
      ]
     },
     "metadata": {},
     "output_type": "display_data"
    },
    {
     "data": {
      "text/plain": [
       "\">>>>>> iteration 16:F\""
      ]
     },
     "metadata": {},
     "output_type": "display_data"
    },
    {
     "data": {
      "text/plain": [
       "\"DB: opt gap = 0.16393453985370765\""
      ]
     },
     "metadata": {},
     "output_type": "display_data"
    },
    {
     "data": {
      "text/plain": [
       "\">>>>>> iteration 17:O\""
      ]
     },
     "metadata": {},
     "output_type": "display_data"
    },
    {
     "data": {
      "text/plain": [
       "\"DB: opt gap = 0.1633278554662156\""
      ]
     },
     "metadata": {},
     "output_type": "display_data"
    },
    {
     "data": {
      "text/plain": [
       "\">>>>>> iteration 18:O\""
      ]
     },
     "metadata": {},
     "output_type": "display_data"
    },
    {
     "data": {
      "text/plain": [
       "\"DB: opt gap = 2.1368957373708152e-7\""
      ]
     },
     "metadata": {},
     "output_type": "display_data"
    },
    {
     "data": {
      "text/plain": [
       "\"time M 55.806999921798706 | time D 84.00099992752075\""
      ]
     },
     "metadata": {},
     "output_type": "display_data"
    },
    {
     "data": {
      "text/plain": [
       "\"evaluating 45 scenarios| option 3\""
      ]
     },
     "metadata": {},
     "output_type": "display_data"
    },
    {
     "data": {
      "text/plain": [
       "\"DB: opt gap = 1.0\""
      ]
     },
     "metadata": {},
     "output_type": "display_data"
    },
    {
     "data": {
      "text/plain": [
       "\">>>>>> iteration 1:O\""
      ]
     },
     "metadata": {},
     "output_type": "display_data"
    },
    {
     "data": {
      "text/plain": [
       "\"DB: opt gap = 1.0\""
      ]
     },
     "metadata": {},
     "output_type": "display_data"
    },
    {
     "data": {
      "text/plain": [
       "\">>>>>> iteration 2:O\""
      ]
     },
     "metadata": {},
     "output_type": "display_data"
    },
    {
     "data": {
      "text/plain": [
       "\"DB: opt gap = 1.0\""
      ]
     },
     "metadata": {},
     "output_type": "display_data"
    },
    {
     "data": {
      "text/plain": [
       "\">>>>>> iteration 3:O\""
      ]
     },
     "metadata": {},
     "output_type": "display_data"
    },
    {
     "data": {
      "text/plain": [
       "\"DB: opt gap = 1.0\""
      ]
     },
     "metadata": {},
     "output_type": "display_data"
    },
    {
     "data": {
      "text/plain": [
       "\">>>>>> iteration 4:O\""
      ]
     },
     "metadata": {},
     "output_type": "display_data"
    },
    {
     "data": {
      "text/plain": [
       "\"DB: opt gap = 1.0\""
      ]
     },
     "metadata": {},
     "output_type": "display_data"
    },
    {
     "data": {
      "text/plain": [
       "\">>>>>> iteration 5:O\""
      ]
     },
     "metadata": {},
     "output_type": "display_data"
    },
    {
     "data": {
      "text/plain": [
       "\"DB: opt gap = 1.0\""
      ]
     },
     "metadata": {},
     "output_type": "display_data"
    },
    {
     "data": {
      "text/plain": [
       "\">>>>>> iteration 6:O\""
      ]
     },
     "metadata": {},
     "output_type": "display_data"
    },
    {
     "data": {
      "text/plain": [
       "\"DB: opt gap = 1.0\""
      ]
     },
     "metadata": {},
     "output_type": "display_data"
    },
    {
     "data": {
      "text/plain": [
       "\">>>>>> iteration 7:O\""
      ]
     },
     "metadata": {},
     "output_type": "display_data"
    },
    {
     "data": {
      "text/plain": [
       "\"DB: opt gap = 1.0\""
      ]
     },
     "metadata": {},
     "output_type": "display_data"
    },
    {
     "data": {
      "text/plain": [
       "\">>>>>> iteration 8:O\""
      ]
     },
     "metadata": {},
     "output_type": "display_data"
    },
    {
     "data": {
      "text/plain": [
       "\"DB: opt gap = 1.0\""
      ]
     },
     "metadata": {},
     "output_type": "display_data"
    },
    {
     "data": {
      "text/plain": [
       "\">>>>>> iteration 9:O\""
      ]
     },
     "metadata": {},
     "output_type": "display_data"
    },
    {
     "data": {
      "text/plain": [
       "\"DB: opt gap = 0.18878761663090923\""
      ]
     },
     "metadata": {},
     "output_type": "display_data"
    },
    {
     "data": {
      "text/plain": [
       "\">>>>>> iteration 10:O\""
      ]
     },
     "metadata": {},
     "output_type": "display_data"
    },
    {
     "data": {
      "text/plain": [
       "\"DB: opt gap = 0.18863212766154605\""
      ]
     },
     "metadata": {},
     "output_type": "display_data"
    },
    {
     "data": {
      "text/plain": [
       "\">>>>>> iteration 11:O\""
      ]
     },
     "metadata": {},
     "output_type": "display_data"
    },
    {
     "data": {
      "text/plain": [
       "\"DB: opt gap = 0.18813514292441183\""
      ]
     },
     "metadata": {},
     "output_type": "display_data"
    },
    {
     "data": {
      "text/plain": [
       "\">>>>>> iteration 12:O\""
      ]
     },
     "metadata": {},
     "output_type": "display_data"
    },
    {
     "data": {
      "text/plain": [
       "\"DB: opt gap = 0.18796747458584329\""
      ]
     },
     "metadata": {},
     "output_type": "display_data"
    },
    {
     "data": {
      "text/plain": [
       "\">>>>>> iteration 13:O\""
      ]
     },
     "metadata": {},
     "output_type": "display_data"
    },
    {
     "data": {
      "text/plain": [
       "\">>>>>> iteration 14:F\""
      ]
     },
     "metadata": {},
     "output_type": "display_data"
    },
    {
     "data": {
      "text/plain": [
       "\"DB: opt gap = 0.1877174166049333\""
      ]
     },
     "metadata": {},
     "output_type": "display_data"
    },
    {
     "data": {
      "text/plain": [
       "\">>>>>> iteration 15:O\""
      ]
     },
     "metadata": {},
     "output_type": "display_data"
    },
    {
     "data": {
      "text/plain": [
       "\"DB: opt gap = 0.1871433684523713\""
      ]
     },
     "metadata": {},
     "output_type": "display_data"
    },
    {
     "data": {
      "text/plain": [
       "\">>>>>> iteration 16:O\""
      ]
     },
     "metadata": {},
     "output_type": "display_data"
    },
    {
     "data": {
      "text/plain": [
       "\"DB: opt gap = 0.1867046774835267\""
      ]
     },
     "metadata": {},
     "output_type": "display_data"
    },
    {
     "data": {
      "text/plain": [
       "\">>>>>> iteration 17:O\""
      ]
     },
     "metadata": {},
     "output_type": "display_data"
    },
    {
     "data": {
      "text/plain": [
       "\"DB: opt gap = 0.18339593769300253\""
      ]
     },
     "metadata": {},
     "output_type": "display_data"
    },
    {
     "data": {
      "text/plain": [
       "\">>>>>> iteration 18:O\""
      ]
     },
     "metadata": {},
     "output_type": "display_data"
    },
    {
     "data": {
      "text/plain": [
       "\"DB: opt gap = 0.1832489510758722\""
      ]
     },
     "metadata": {},
     "output_type": "display_data"
    },
    {
     "data": {
      "text/plain": [
       "\">>>>>> iteration 19:O\""
      ]
     },
     "metadata": {},
     "output_type": "display_data"
    },
    {
     "data": {
      "text/plain": [
       "\"DB: opt gap = 0.1821501190910062\""
      ]
     },
     "metadata": {},
     "output_type": "display_data"
    },
    {
     "data": {
      "text/plain": [
       "\">>>>>> iteration 20:O\""
      ]
     },
     "metadata": {},
     "output_type": "display_data"
    },
    {
     "data": {
      "text/plain": [
       "\"DB: opt gap = 0.18200882190227655\""
      ]
     },
     "metadata": {},
     "output_type": "display_data"
    },
    {
     "data": {
      "text/plain": [
       "\">>>>>> iteration 21:O\""
      ]
     },
     "metadata": {},
     "output_type": "display_data"
    },
    {
     "data": {
      "text/plain": [
       "\"DB: opt gap = 2.6304417633465897e-5\""
      ]
     },
     "metadata": {},
     "output_type": "display_data"
    },
    {
     "data": {
      "text/plain": [
       "\"time M 68.88199996948242 | time D 89.75699377059937\""
      ]
     },
     "metadata": {},
     "output_type": "display_data"
    },
    {
     "data": {
      "text/plain": [
       "\"evaluating 46 scenarios| option 3\""
      ]
     },
     "metadata": {},
     "output_type": "display_data"
    },
    {
     "data": {
      "text/plain": [
       "\"DB: opt gap = 1.0\""
      ]
     },
     "metadata": {},
     "output_type": "display_data"
    },
    {
     "data": {
      "text/plain": [
       "\">>>>>> iteration 1:O\""
      ]
     },
     "metadata": {},
     "output_type": "display_data"
    },
    {
     "data": {
      "text/plain": [
       "\"DB: opt gap = 1.0\""
      ]
     },
     "metadata": {},
     "output_type": "display_data"
    },
    {
     "data": {
      "text/plain": [
       "\">>>>>> iteration 2:O\""
      ]
     },
     "metadata": {},
     "output_type": "display_data"
    },
    {
     "data": {
      "text/plain": [
       "\"DB: opt gap = 1.0\""
      ]
     },
     "metadata": {},
     "output_type": "display_data"
    },
    {
     "data": {
      "text/plain": [
       "\">>>>>> iteration 3:O\""
      ]
     },
     "metadata": {},
     "output_type": "display_data"
    },
    {
     "data": {
      "text/plain": [
       "\"DB: opt gap = 1.0\""
      ]
     },
     "metadata": {},
     "output_type": "display_data"
    },
    {
     "data": {
      "text/plain": [
       "\">>>>>> iteration 4:O\""
      ]
     },
     "metadata": {},
     "output_type": "display_data"
    },
    {
     "data": {
      "text/plain": [
       "\"DB: opt gap = 1.0\""
      ]
     },
     "metadata": {},
     "output_type": "display_data"
    },
    {
     "data": {
      "text/plain": [
       "\">>>>>> iteration 5:O\""
      ]
     },
     "metadata": {},
     "output_type": "display_data"
    },
    {
     "data": {
      "text/plain": [
       "\"DB: opt gap = 1.0\""
      ]
     },
     "metadata": {},
     "output_type": "display_data"
    },
    {
     "data": {
      "text/plain": [
       "\">>>>>> iteration 6:O\""
      ]
     },
     "metadata": {},
     "output_type": "display_data"
    },
    {
     "data": {
      "text/plain": [
       "\"DB: opt gap = 1.0\""
      ]
     },
     "metadata": {},
     "output_type": "display_data"
    },
    {
     "data": {
      "text/plain": [
       "\">>>>>> iteration 7:O\""
      ]
     },
     "metadata": {},
     "output_type": "display_data"
    },
    {
     "data": {
      "text/plain": [
       "\"DB: opt gap = 1.0\""
      ]
     },
     "metadata": {},
     "output_type": "display_data"
    },
    {
     "data": {
      "text/plain": [
       "\">>>>>> iteration 8:O\""
      ]
     },
     "metadata": {},
     "output_type": "display_data"
    },
    {
     "data": {
      "text/plain": [
       "\"DB: opt gap = 1.0\""
      ]
     },
     "metadata": {},
     "output_type": "display_data"
    },
    {
     "data": {
      "text/plain": [
       "\">>>>>> iteration 9:O\""
      ]
     },
     "metadata": {},
     "output_type": "display_data"
    },
    {
     "data": {
      "text/plain": [
       "\"DB: opt gap = 0.16430930267204927\""
      ]
     },
     "metadata": {},
     "output_type": "display_data"
    },
    {
     "data": {
      "text/plain": [
       "\">>>>>> iteration 10:O\""
      ]
     },
     "metadata": {},
     "output_type": "display_data"
    },
    {
     "data": {
      "text/plain": [
       "\"DB: opt gap = 0.16415867328487815\""
      ]
     },
     "metadata": {},
     "output_type": "display_data"
    },
    {
     "data": {
      "text/plain": [
       "\">>>>>> iteration 11:O\""
      ]
     },
     "metadata": {},
     "output_type": "display_data"
    },
    {
     "data": {
      "text/plain": [
       "\"DB: opt gap = 0.16386631677321348\""
      ]
     },
     "metadata": {},
     "output_type": "display_data"
    },
    {
     "data": {
      "text/plain": [
       "\">>>>>> iteration 12:O\""
      ]
     },
     "metadata": {},
     "output_type": "display_data"
    },
    {
     "data": {
      "text/plain": [
       "\"DB: opt gap = 0.16350873682937803\""
      ]
     },
     "metadata": {},
     "output_type": "display_data"
    },
    {
     "data": {
      "text/plain": [
       "\">>>>>> iteration 13:O\""
      ]
     },
     "metadata": {},
     "output_type": "display_data"
    },
    {
     "data": {
      "text/plain": [
       "\"DB: opt gap = 0.1631750621708426\""
      ]
     },
     "metadata": {},
     "output_type": "display_data"
    },
    {
     "data": {
      "text/plain": [
       "\">>>>>> iteration 14:O\""
      ]
     },
     "metadata": {},
     "output_type": "display_data"
    },
    {
     "data": {
      "text/plain": [
       "\"DB: opt gap = 0.16296452450551596\""
      ]
     },
     "metadata": {},
     "output_type": "display_data"
    },
    {
     "data": {
      "text/plain": [
       "\">>>>>> iteration 15:O\""
      ]
     },
     "metadata": {},
     "output_type": "display_data"
    },
    {
     "data": {
      "text/plain": [
       "\"DB: opt gap = 0.16284236276501265\""
      ]
     },
     "metadata": {},
     "output_type": "display_data"
    },
    {
     "data": {
      "text/plain": [
       "\">>>>>> iteration 16:O\""
      ]
     },
     "metadata": {},
     "output_type": "display_data"
    },
    {
     "data": {
      "text/plain": [
       "\"DB: opt gap = 4.32064530737844e-7\""
      ]
     },
     "metadata": {},
     "output_type": "display_data"
    },
    {
     "data": {
      "text/plain": [
       "\"time M 62.662999868392944 | time D 75.48099613189697\""
      ]
     },
     "metadata": {},
     "output_type": "display_data"
    },
    {
     "data": {
      "text/plain": [
       "\"evaluating 47 scenarios| option 3\""
      ]
     },
     "metadata": {},
     "output_type": "display_data"
    },
    {
     "data": {
      "text/plain": [
       "\"DB: opt gap = 1.0\""
      ]
     },
     "metadata": {},
     "output_type": "display_data"
    },
    {
     "data": {
      "text/plain": [
       "\">>>>>> iteration 1:O\""
      ]
     },
     "metadata": {},
     "output_type": "display_data"
    },
    {
     "data": {
      "text/plain": [
       "\"DB: opt gap = 1.0\""
      ]
     },
     "metadata": {},
     "output_type": "display_data"
    },
    {
     "data": {
      "text/plain": [
       "\">>>>>> iteration 2:O\""
      ]
     },
     "metadata": {},
     "output_type": "display_data"
    },
    {
     "data": {
      "text/plain": [
       "\"DB: opt gap = 1.0\""
      ]
     },
     "metadata": {},
     "output_type": "display_data"
    },
    {
     "data": {
      "text/plain": [
       "\">>>>>> iteration 3:O\""
      ]
     },
     "metadata": {},
     "output_type": "display_data"
    },
    {
     "data": {
      "text/plain": [
       "\"DB: opt gap = 1.0\""
      ]
     },
     "metadata": {},
     "output_type": "display_data"
    },
    {
     "data": {
      "text/plain": [
       "\">>>>>> iteration 4:O\""
      ]
     },
     "metadata": {},
     "output_type": "display_data"
    },
    {
     "data": {
      "text/plain": [
       "\"DB: opt gap = 1.0\""
      ]
     },
     "metadata": {},
     "output_type": "display_data"
    },
    {
     "data": {
      "text/plain": [
       "\">>>>>> iteration 5:O\""
      ]
     },
     "metadata": {},
     "output_type": "display_data"
    },
    {
     "data": {
      "text/plain": [
       "\"DB: opt gap = 1.0\""
      ]
     },
     "metadata": {},
     "output_type": "display_data"
    },
    {
     "data": {
      "text/plain": [
       "\">>>>>> iteration 6:O\""
      ]
     },
     "metadata": {},
     "output_type": "display_data"
    },
    {
     "data": {
      "text/plain": [
       "\"DB: opt gap = 1.0\""
      ]
     },
     "metadata": {},
     "output_type": "display_data"
    },
    {
     "data": {
      "text/plain": [
       "\">>>>>> iteration 7:O\""
      ]
     },
     "metadata": {},
     "output_type": "display_data"
    },
    {
     "data": {
      "text/plain": [
       "\"DB: opt gap = 1.0\""
      ]
     },
     "metadata": {},
     "output_type": "display_data"
    },
    {
     "data": {
      "text/plain": [
       "\">>>>>> iteration 8:O\""
      ]
     },
     "metadata": {},
     "output_type": "display_data"
    },
    {
     "data": {
      "text/plain": [
       "\"DB: opt gap = 1.0\""
      ]
     },
     "metadata": {},
     "output_type": "display_data"
    },
    {
     "data": {
      "text/plain": [
       "\">>>>>> iteration 9:O\""
      ]
     },
     "metadata": {},
     "output_type": "display_data"
    },
    {
     "data": {
      "text/plain": [
       "\"DB: opt gap = 1.0\""
      ]
     },
     "metadata": {},
     "output_type": "display_data"
    },
    {
     "data": {
      "text/plain": [
       "\">>>>>> iteration 10:O\""
      ]
     },
     "metadata": {},
     "output_type": "display_data"
    },
    {
     "data": {
      "text/plain": [
       "\"DB: opt gap = 0.15811986967412653\""
      ]
     },
     "metadata": {},
     "output_type": "display_data"
    },
    {
     "data": {
      "text/plain": [
       "\">>>>>> iteration 11:O\""
      ]
     },
     "metadata": {},
     "output_type": "display_data"
    },
    {
     "data": {
      "text/plain": [
       "\"DB: opt gap = 0.15799854411977837\""
      ]
     },
     "metadata": {},
     "output_type": "display_data"
    },
    {
     "data": {
      "text/plain": [
       "\">>>>>> iteration 12:O\""
      ]
     },
     "metadata": {},
     "output_type": "display_data"
    },
    {
     "data": {
      "text/plain": [
       "\"DB: opt gap = 0.15773817518160682\""
      ]
     },
     "metadata": {},
     "output_type": "display_data"
    },
    {
     "data": {
      "text/plain": [
       "\">>>>>> iteration 13:O\""
      ]
     },
     "metadata": {},
     "output_type": "display_data"
    },
    {
     "data": {
      "text/plain": [
       "\"DB: opt gap = 0.157449162031349\""
      ]
     },
     "metadata": {},
     "output_type": "display_data"
    },
    {
     "data": {
      "text/plain": [
       "\">>>>>> iteration 14:O\""
      ]
     },
     "metadata": {},
     "output_type": "display_data"
    },
    {
     "data": {
      "text/plain": [
       "\"DB: opt gap = 0.15712392855847038\""
      ]
     },
     "metadata": {},
     "output_type": "display_data"
    },
    {
     "data": {
      "text/plain": [
       "\">>>>>> iteration 15:O\""
      ]
     },
     "metadata": {},
     "output_type": "display_data"
    },
    {
     "data": {
      "text/plain": [
       "\"DB: opt gap = 0.15647233195179827\""
      ]
     },
     "metadata": {},
     "output_type": "display_data"
    },
    {
     "data": {
      "text/plain": [
       "\">>>>>> iteration 16:O\""
      ]
     },
     "metadata": {},
     "output_type": "display_data"
    },
    {
     "data": {
      "text/plain": [
       "\"DB: opt gap = 0.15635105684924194\""
      ]
     },
     "metadata": {},
     "output_type": "display_data"
    },
    {
     "data": {
      "text/plain": [
       "\">>>>>> iteration 17:O\""
      ]
     },
     "metadata": {},
     "output_type": "display_data"
    },
    {
     "data": {
      "text/plain": [
       "\"DB: opt gap = 0.15608462128667644\""
      ]
     },
     "metadata": {},
     "output_type": "display_data"
    },
    {
     "data": {
      "text/plain": [
       "\">>>>>> iteration 18:O\""
      ]
     },
     "metadata": {},
     "output_type": "display_data"
    },
    {
     "data": {
      "text/plain": [
       "\"DB: opt gap = 0.15598235585654185\""
      ]
     },
     "metadata": {},
     "output_type": "display_data"
    },
    {
     "data": {
      "text/plain": [
       "\">>>>>> iteration 19:O\""
      ]
     },
     "metadata": {},
     "output_type": "display_data"
    },
    {
     "data": {
      "text/plain": [
       "\">>>>>> iteration 20:F\""
      ]
     },
     "metadata": {},
     "output_type": "display_data"
    },
    {
     "data": {
      "text/plain": [
       "\"DB: opt gap = 1.654043312239028e-6\""
      ]
     },
     "metadata": {},
     "output_type": "display_data"
    },
    {
     "data": {
      "text/plain": [
       "\">>>>>> iteration 21:O\""
      ]
     },
     "metadata": {},
     "output_type": "display_data"
    },
    {
     "data": {
      "text/plain": [
       "\"DB: opt gap = 1.9371461200864487e-6\""
      ]
     },
     "metadata": {},
     "output_type": "display_data"
    },
    {
     "data": {
      "text/plain": [
       "\"time M 62.323999881744385 | time D 102.13499999046326\""
      ]
     },
     "metadata": {},
     "output_type": "display_data"
    },
    {
     "data": {
      "text/plain": [
       "\"evaluating 48 scenarios| option 3\""
      ]
     },
     "metadata": {},
     "output_type": "display_data"
    },
    {
     "data": {
      "text/plain": [
       "\"DB: opt gap = 1.0\""
      ]
     },
     "metadata": {},
     "output_type": "display_data"
    },
    {
     "data": {
      "text/plain": [
       "\">>>>>> iteration 1:O\""
      ]
     },
     "metadata": {},
     "output_type": "display_data"
    },
    {
     "data": {
      "text/plain": [
       "\"DB: opt gap = 1.0\""
      ]
     },
     "metadata": {},
     "output_type": "display_data"
    },
    {
     "data": {
      "text/plain": [
       "\">>>>>> iteration 2:O\""
      ]
     },
     "metadata": {},
     "output_type": "display_data"
    },
    {
     "data": {
      "text/plain": [
       "\"DB: opt gap = 1.0\""
      ]
     },
     "metadata": {},
     "output_type": "display_data"
    },
    {
     "data": {
      "text/plain": [
       "\">>>>>> iteration 3:O\""
      ]
     },
     "metadata": {},
     "output_type": "display_data"
    },
    {
     "data": {
      "text/plain": [
       "\"DB: opt gap = 1.0\""
      ]
     },
     "metadata": {},
     "output_type": "display_data"
    },
    {
     "data": {
      "text/plain": [
       "\">>>>>> iteration 4:O\""
      ]
     },
     "metadata": {},
     "output_type": "display_data"
    },
    {
     "data": {
      "text/plain": [
       "\"DB: opt gap = 1.0\""
      ]
     },
     "metadata": {},
     "output_type": "display_data"
    },
    {
     "data": {
      "text/plain": [
       "\">>>>>> iteration 5:O\""
      ]
     },
     "metadata": {},
     "output_type": "display_data"
    },
    {
     "data": {
      "text/plain": [
       "\"DB: opt gap = 1.0\""
      ]
     },
     "metadata": {},
     "output_type": "display_data"
    },
    {
     "data": {
      "text/plain": [
       "\">>>>>> iteration 6:O\""
      ]
     },
     "metadata": {},
     "output_type": "display_data"
    },
    {
     "data": {
      "text/plain": [
       "\"DB: opt gap = 1.0\""
      ]
     },
     "metadata": {},
     "output_type": "display_data"
    },
    {
     "data": {
      "text/plain": [
       "\">>>>>> iteration 7:O\""
      ]
     },
     "metadata": {},
     "output_type": "display_data"
    },
    {
     "data": {
      "text/plain": [
       "\"DB: opt gap = 1.0\""
      ]
     },
     "metadata": {},
     "output_type": "display_data"
    },
    {
     "data": {
      "text/plain": [
       "\">>>>>> iteration 8:O\""
      ]
     },
     "metadata": {},
     "output_type": "display_data"
    },
    {
     "data": {
      "text/plain": [
       "\"DB: opt gap = 1.0\""
      ]
     },
     "metadata": {},
     "output_type": "display_data"
    },
    {
     "data": {
      "text/plain": [
       "\">>>>>> iteration 9:O\""
      ]
     },
     "metadata": {},
     "output_type": "display_data"
    },
    {
     "data": {
      "text/plain": [
       "\"DB: opt gap = 1.0\""
      ]
     },
     "metadata": {},
     "output_type": "display_data"
    },
    {
     "data": {
      "text/plain": [
       "\">>>>>> iteration 10:O\""
      ]
     },
     "metadata": {},
     "output_type": "display_data"
    },
    {
     "data": {
      "text/plain": [
       "\"DB: opt gap = 1.0\""
      ]
     },
     "metadata": {},
     "output_type": "display_data"
    },
    {
     "data": {
      "text/plain": [
       "\">>>>>> iteration 11:O\""
      ]
     },
     "metadata": {},
     "output_type": "display_data"
    },
    {
     "data": {
      "text/plain": [
       "\"DB: opt gap = 1.0\""
      ]
     },
     "metadata": {},
     "output_type": "display_data"
    },
    {
     "data": {
      "text/plain": [
       "\">>>>>> iteration 12:O\""
      ]
     },
     "metadata": {},
     "output_type": "display_data"
    },
    {
     "data": {
      "text/plain": [
       "\"DB: opt gap = 1.0\""
      ]
     },
     "metadata": {},
     "output_type": "display_data"
    },
    {
     "data": {
      "text/plain": [
       "\">>>>>> iteration 13:O\""
      ]
     },
     "metadata": {},
     "output_type": "display_data"
    },
    {
     "data": {
      "text/plain": [
       "\"DB: opt gap = 1.0\""
      ]
     },
     "metadata": {},
     "output_type": "display_data"
    },
    {
     "data": {
      "text/plain": [
       "\">>>>>> iteration 14:O\""
      ]
     },
     "metadata": {},
     "output_type": "display_data"
    },
    {
     "data": {
      "text/plain": [
       "\"DB: opt gap = 1.0\""
      ]
     },
     "metadata": {},
     "output_type": "display_data"
    },
    {
     "data": {
      "text/plain": [
       "\">>>>>> iteration 15:O\""
      ]
     },
     "metadata": {},
     "output_type": "display_data"
    },
    {
     "data": {
      "text/plain": [
       "\"DB: opt gap = 0.1467861642964794\""
      ]
     },
     "metadata": {},
     "output_type": "display_data"
    },
    {
     "data": {
      "text/plain": [
       "\">>>>>> iteration 16:O\""
      ]
     },
     "metadata": {},
     "output_type": "display_data"
    },
    {
     "data": {
      "text/plain": [
       "\"DB: opt gap = 0.14667815452250024\""
      ]
     },
     "metadata": {},
     "output_type": "display_data"
    },
    {
     "data": {
      "text/plain": [
       "\">>>>>> iteration 17:O\""
      ]
     },
     "metadata": {},
     "output_type": "display_data"
    },
    {
     "data": {
      "text/plain": [
       "\"DB: opt gap = 0.14644758280895342\""
      ]
     },
     "metadata": {},
     "output_type": "display_data"
    },
    {
     "data": {
      "text/plain": [
       "\">>>>>> iteration 18:O\""
      ]
     },
     "metadata": {},
     "output_type": "display_data"
    },
    {
     "data": {
      "text/plain": [
       "\"DB: opt gap = 0.14616357450152453\""
      ]
     },
     "metadata": {},
     "output_type": "display_data"
    },
    {
     "data": {
      "text/plain": [
       "\">>>>>> iteration 19:O\""
      ]
     },
     "metadata": {},
     "output_type": "display_data"
    },
    {
     "data": {
      "text/plain": [
       "\"DB: opt gap = 0.1458856671368605\""
      ]
     },
     "metadata": {},
     "output_type": "display_data"
    },
    {
     "data": {
      "text/plain": [
       "\">>>>>> iteration 20:O\""
      ]
     },
     "metadata": {},
     "output_type": "display_data"
    },
    {
     "data": {
      "text/plain": [
       "\"DB: opt gap = 0.1456435993302243\""
      ]
     },
     "metadata": {},
     "output_type": "display_data"
    },
    {
     "data": {
      "text/plain": [
       "\">>>>>> iteration 21:O\""
      ]
     },
     "metadata": {},
     "output_type": "display_data"
    },
    {
     "data": {
      "text/plain": [
       "\"DB: opt gap = 0.14554762878430647\""
      ]
     },
     "metadata": {},
     "output_type": "display_data"
    },
    {
     "data": {
      "text/plain": [
       "\">>>>>> iteration 22:O\""
      ]
     },
     "metadata": {},
     "output_type": "display_data"
    },
    {
     "data": {
      "text/plain": [
       "\">>>>>> iteration 23:F\""
      ]
     },
     "metadata": {},
     "output_type": "display_data"
    },
    {
     "data": {
      "text/plain": [
       "\"DB: opt gap = 2.2664297457077513e-6\""
      ]
     },
     "metadata": {},
     "output_type": "display_data"
    },
    {
     "data": {
      "text/plain": [
       "\">>>>>> iteration 24:O\""
      ]
     },
     "metadata": {},
     "output_type": "display_data"
    },
    {
     "data": {
      "text/plain": [
       "\"DB: opt gap = 1.084981589494393e-6\""
      ]
     },
     "metadata": {},
     "output_type": "display_data"
    },
    {
     "data": {
      "text/plain": [
       "\"time M 66.77700018882751 | time D 116.68300032615662\""
      ]
     },
     "metadata": {},
     "output_type": "display_data"
    },
    {
     "data": {
      "text/plain": [
       "\"evaluating 49 scenarios| option 3\""
      ]
     },
     "metadata": {},
     "output_type": "display_data"
    },
    {
     "data": {
      "text/plain": [
       "\"DB: opt gap = 1.0\""
      ]
     },
     "metadata": {},
     "output_type": "display_data"
    },
    {
     "data": {
      "text/plain": [
       "\">>>>>> iteration 1:O\""
      ]
     },
     "metadata": {},
     "output_type": "display_data"
    },
    {
     "data": {
      "text/plain": [
       "\"DB: opt gap = 1.0\""
      ]
     },
     "metadata": {},
     "output_type": "display_data"
    },
    {
     "data": {
      "text/plain": [
       "\">>>>>> iteration 2:O\""
      ]
     },
     "metadata": {},
     "output_type": "display_data"
    },
    {
     "data": {
      "text/plain": [
       "\"DB: opt gap = 1.0\""
      ]
     },
     "metadata": {},
     "output_type": "display_data"
    },
    {
     "data": {
      "text/plain": [
       "\">>>>>> iteration 3:O\""
      ]
     },
     "metadata": {},
     "output_type": "display_data"
    },
    {
     "data": {
      "text/plain": [
       "\">>>>>> iteration 4:F\""
      ]
     },
     "metadata": {},
     "output_type": "display_data"
    },
    {
     "data": {
      "text/plain": [
       "\"DB: opt gap = 1.0\""
      ]
     },
     "metadata": {},
     "output_type": "display_data"
    },
    {
     "data": {
      "text/plain": [
       "\">>>>>> iteration 5:O\""
      ]
     },
     "metadata": {},
     "output_type": "display_data"
    },
    {
     "data": {
      "text/plain": [
       "\"DB: opt gap = 0.9999999999394289\""
      ]
     },
     "metadata": {},
     "output_type": "display_data"
    },
    {
     "data": {
      "text/plain": [
       "\">>>>>> iteration 6:O\""
      ]
     },
     "metadata": {},
     "output_type": "display_data"
    },
    {
     "data": {
      "text/plain": [
       "\"DB: opt gap = 0.03738942985533309\""
      ]
     },
     "metadata": {},
     "output_type": "display_data"
    },
    {
     "data": {
      "text/plain": [
       "\">>>>>> iteration 7:O\""
      ]
     },
     "metadata": {},
     "output_type": "display_data"
    },
    {
     "data": {
      "text/plain": [
       "\"DB: opt gap = 0.037362739277373797\""
      ]
     },
     "metadata": {},
     "output_type": "display_data"
    },
    {
     "data": {
      "text/plain": [
       "\">>>>>> iteration 8:O\""
      ]
     },
     "metadata": {},
     "output_type": "display_data"
    },
    {
     "data": {
      "text/plain": [
       "\"DB: opt gap = 0.03733716282256761\""
      ]
     },
     "metadata": {},
     "output_type": "display_data"
    },
    {
     "data": {
      "text/plain": [
       "\">>>>>> iteration 9:O\""
      ]
     },
     "metadata": {},
     "output_type": "display_data"
    },
    {
     "data": {
      "text/plain": [
       "\"DB: opt gap = 0.03719220652141989\""
      ]
     },
     "metadata": {},
     "output_type": "display_data"
    },
    {
     "data": {
      "text/plain": [
       "\">>>>>> iteration 10:O\""
      ]
     },
     "metadata": {},
     "output_type": "display_data"
    },
    {
     "data": {
      "text/plain": [
       "\"DB: opt gap = 0.03715374229816263\""
      ]
     },
     "metadata": {},
     "output_type": "display_data"
    },
    {
     "data": {
      "text/plain": [
       "\">>>>>> iteration 11:O\""
      ]
     },
     "metadata": {},
     "output_type": "display_data"
    },
    {
     "data": {
      "text/plain": [
       "\"DB: opt gap = 0.03712833146392889\""
      ]
     },
     "metadata": {},
     "output_type": "display_data"
    },
    {
     "data": {
      "text/plain": [
       "\">>>>>> iteration 12:O\""
      ]
     },
     "metadata": {},
     "output_type": "display_data"
    },
    {
     "data": {
      "text/plain": [
       "\"DB: opt gap = 2.080003711154065e-6\""
      ]
     },
     "metadata": {},
     "output_type": "display_data"
    },
    {
     "data": {
      "text/plain": [
       "\"time M 68.67699980735779 | time D 67.11199688911438\""
      ]
     },
     "metadata": {},
     "output_type": "display_data"
    },
    {
     "data": {
      "text/plain": [
       "\"evaluating 50 scenarios| option 3\""
      ]
     },
     "metadata": {},
     "output_type": "display_data"
    },
    {
     "data": {
      "text/plain": [
       "\"DB: opt gap = 1.0\""
      ]
     },
     "metadata": {},
     "output_type": "display_data"
    },
    {
     "data": {
      "text/plain": [
       "\">>>>>> iteration 1:O\""
      ]
     },
     "metadata": {},
     "output_type": "display_data"
    },
    {
     "data": {
      "text/plain": [
       "\"DB: opt gap = 1.0\""
      ]
     },
     "metadata": {},
     "output_type": "display_data"
    },
    {
     "data": {
      "text/plain": [
       "\">>>>>> iteration 2:O\""
      ]
     },
     "metadata": {},
     "output_type": "display_data"
    },
    {
     "data": {
      "text/plain": [
       "\"DB: opt gap = 1.0\""
      ]
     },
     "metadata": {},
     "output_type": "display_data"
    },
    {
     "data": {
      "text/plain": [
       "\">>>>>> iteration 3:O\""
      ]
     },
     "metadata": {},
     "output_type": "display_data"
    },
    {
     "data": {
      "text/plain": [
       "\"DB: opt gap = 1.0\""
      ]
     },
     "metadata": {},
     "output_type": "display_data"
    },
    {
     "data": {
      "text/plain": [
       "\">>>>>> iteration 4:O\""
      ]
     },
     "metadata": {},
     "output_type": "display_data"
    },
    {
     "data": {
      "text/plain": [
       "\"DB: opt gap = 1.0\""
      ]
     },
     "metadata": {},
     "output_type": "display_data"
    },
    {
     "data": {
      "text/plain": [
       "\">>>>>> iteration 5:O\""
      ]
     },
     "metadata": {},
     "output_type": "display_data"
    },
    {
     "data": {
      "text/plain": [
       "\"DB: opt gap = 1.0\""
      ]
     },
     "metadata": {},
     "output_type": "display_data"
    },
    {
     "data": {
      "text/plain": [
       "\">>>>>> iteration 6:O\""
      ]
     },
     "metadata": {},
     "output_type": "display_data"
    },
    {
     "data": {
      "text/plain": [
       "\"DB: opt gap = 1.0\""
      ]
     },
     "metadata": {},
     "output_type": "display_data"
    },
    {
     "data": {
      "text/plain": [
       "\">>>>>> iteration 7:O\""
      ]
     },
     "metadata": {},
     "output_type": "display_data"
    },
    {
     "data": {
      "text/plain": [
       "\"DB: opt gap = 1.0\""
      ]
     },
     "metadata": {},
     "output_type": "display_data"
    },
    {
     "data": {
      "text/plain": [
       "\">>>>>> iteration 8:O\""
      ]
     },
     "metadata": {},
     "output_type": "display_data"
    },
    {
     "data": {
      "text/plain": [
       "\"DB: opt gap = 1.0\""
      ]
     },
     "metadata": {},
     "output_type": "display_data"
    },
    {
     "data": {
      "text/plain": [
       "\">>>>>> iteration 9:O\""
      ]
     },
     "metadata": {},
     "output_type": "display_data"
    },
    {
     "data": {
      "text/plain": [
       "\"DB: opt gap = 0.16243428936689716\""
      ]
     },
     "metadata": {},
     "output_type": "display_data"
    },
    {
     "data": {
      "text/plain": [
       "\">>>>>> iteration 10:O\""
      ]
     },
     "metadata": {},
     "output_type": "display_data"
    },
    {
     "data": {
      "text/plain": [
       "\"DB: opt gap = 0.16232065185279823\""
      ]
     },
     "metadata": {},
     "output_type": "display_data"
    },
    {
     "data": {
      "text/plain": [
       "\">>>>>> iteration 11:O\""
      ]
     },
     "metadata": {},
     "output_type": "display_data"
    },
    {
     "data": {
      "text/plain": [
       "\"DB: opt gap = 0.1620700225031833\""
      ]
     },
     "metadata": {},
     "output_type": "display_data"
    },
    {
     "data": {
      "text/plain": [
       "\">>>>>> iteration 12:O\""
      ]
     },
     "metadata": {},
     "output_type": "display_data"
    },
    {
     "data": {
      "text/plain": [
       "\"DB: opt gap = 0.1620345778699351\""
      ]
     },
     "metadata": {},
     "output_type": "display_data"
    },
    {
     "data": {
      "text/plain": [
       "\">>>>>> iteration 13:O\""
      ]
     },
     "metadata": {},
     "output_type": "display_data"
    },
    {
     "data": {
      "text/plain": [
       "\"DB: opt gap = 0.16167988345514972\""
      ]
     },
     "metadata": {},
     "output_type": "display_data"
    },
    {
     "data": {
      "text/plain": [
       "\">>>>>> iteration 14:O\""
      ]
     },
     "metadata": {},
     "output_type": "display_data"
    },
    {
     "data": {
      "text/plain": [
       "\"DB: opt gap = 0.16156483882252048\""
      ]
     },
     "metadata": {},
     "output_type": "display_data"
    },
    {
     "data": {
      "text/plain": [
       "\">>>>>> iteration 15:O\""
      ]
     },
     "metadata": {},
     "output_type": "display_data"
    },
    {
     "data": {
      "text/plain": [
       "\"DB: opt gap = 0.16137487252526747\""
      ]
     },
     "metadata": {},
     "output_type": "display_data"
    },
    {
     "data": {
      "text/plain": [
       "\">>>>>> iteration 16:O\""
      ]
     },
     "metadata": {},
     "output_type": "display_data"
    },
    {
     "data": {
      "text/plain": [
       "\"DB: opt gap = 0.16132264369071805\""
      ]
     },
     "metadata": {},
     "output_type": "display_data"
    },
    {
     "data": {
      "text/plain": [
       "\">>>>>> iteration 17:O\""
      ]
     },
     "metadata": {},
     "output_type": "display_data"
    },
    {
     "data": {
      "text/plain": [
       "\">>>>>> iteration 18:F\""
      ]
     },
     "metadata": {},
     "output_type": "display_data"
    },
    {
     "data": {
      "text/plain": [
       "\"DB: opt gap = 9.842066971756114e-7\""
      ]
     },
     "metadata": {},
     "output_type": "display_data"
    },
    {
     "data": {
      "text/plain": [
       "\">>>>>> iteration 19:O\""
      ]
     },
     "metadata": {},
     "output_type": "display_data"
    },
    {
     "data": {
      "text/plain": [
       "\"DB: opt gap = 1.497867098064952e-6\""
      ]
     },
     "metadata": {},
     "output_type": "display_data"
    },
    {
     "data": {
      "text/plain": [
       "\"time M 66.23600006103516 | time D 98.67799854278564\""
      ]
     },
     "metadata": {},
     "output_type": "display_data"
    }
   ],
   "source": [
    "# testing the number of scenarios\n",
    "nScenMax = 50 # 3 | 30 | 50 \n",
    "\n",
    "# number of reactors in parallel\n",
    "nReactors = 2 # 5 | 10 | 20 | 30\n",
    "\n",
    "\n",
    "#preparing plot \n",
    "# --> monolithic vs. decomposed \n",
    "# solution time\n",
    "solTimeTraj_s = Matrix{Float64}(undef,2,nScenMax) \n",
    "# computed objective function\n",
    "solObjTraj_s = Matrix{Float64}(undef,2,nScenMax) \n",
    "# --> only decomposed\n",
    "# max solution time over all scenarios \n",
    "solTimeMaxTraj_s = Vector{Float64}(undef,nScenMax) \n",
    "# number of iterations\n",
    "iterTraj_s = Vector{Float64}(undef,nScenMax) \n",
    "# optimality gap\n",
    "optGapTraj_s = Vector{Float64}(undef,nScenMax) \n",
    "\n",
    "# Initial conditions (deviation form)\n",
    "xInit_0 = repeat([0.3583;0.6418] .- x0, outer = [nReactors,1])\n",
    "uInit_0 = 1.0 - u0;\n",
    "\n",
    "#option = 1 --> Unconstrained MPC\n",
    "#option = 2 --> Constrained MPC with binaries --> DOES NOT WORK YET!\n",
    "#option = 3 --> Constrained MPC with MPCC\n",
    "opti = 3\n",
    "    \n",
    "# Computing nominal solution #\n",
    "#number of scenarios \n",
    "scenNom = 1\n",
    "#equiprobable scenarios\n",
    "pNom = 1.0\n",
    "#number of reactors \n",
    "reacNom = 1\n",
    "# number of states of the nominal solution\n",
    "nx = 2*reacNom\n",
    "\n",
    "solNominal = MS_CLDRTO(x0,u0,reacNom,scenNom,pNom,0,opti); \n",
    "\n",
    "for ss = 1:nScenMax\n",
    "    display(\"evaluating $(ss) scenarios| option $(opti)\")\n",
    "\n",
    "    #number os scenarios\n",
    "    nScen = ss\n",
    "    #equiprobable scenarios\n",
    "    pScen = 1.0/nScen\n",
    "    # Number of states\n",
    "    nx = 2*nReactors\n",
    "       \n",
    "    # solving monolithical problem \n",
    "    sol_m_Dict = MS_CLDRTO(xInit_0,uInit_0,nReactors,nScen,pScen,solNominal,opti)\n",
    "\n",
    "    # solving decomposed problem\n",
    "    sol_d_Dict = BENS_CLDRTO(xInit_0,uInit_0,nReactors,nScen,pScen,solNominal,opti)\n",
    "    \n",
    "    # for plotting\n",
    "    display(\"time M $(sol_m_Dict['t']) | time D $(sol_d_Dict['t'])\")\n",
    "    solTimeTraj_s[1,ss] = sol_m_Dict['t']\n",
    "    solTimeTraj_s[2,ss] = sol_d_Dict['t']\n",
    "    solObjTraj_s[1,ss] = sol_m_Dict['ϕ']\n",
    "    solObjTraj_s[2,ss] = sol_d_Dict['ϕ']\n",
    "    \n",
    "    solTimeMaxTraj_s[ss] = sol_d_Dict['m']\n",
    "    iterTraj_s[ss] = sol_d_Dict['i'] \n",
    "    optGapTraj_s[ss] = sol_d_Dict['g']\n",
    "end\n"
   ]
  },
  {
   "cell_type": "code",
   "execution_count": 15,
   "id": "a37c83ea",
   "metadata": {},
   "outputs": [],
   "source": [
    "# solObjTraj_s[2,32] = NaN\n",
    "# solObjTraj_s[2,34] = NaN\n",
    "# optGapTraj_s[32] = NaN\n",
    "# optGapTraj_s[34] = NaN\n",
    "# solTimeMaxTraj_s[32] = NaN\n",
    "# solTimeMaxTraj_s[34] = NaN\n",
    "# solTimeTraj_s[2,32] = NaN\n",
    "# solTimeTraj_s[2,34] = NaN;"
   ]
  },
  {
   "cell_type": "code",
   "execution_count": 16,
   "id": "06275755",
   "metadata": {},
   "outputs": [
    {
     "data": {
      "image/svg+xml": [
       "<?xml version=\"1.0\" encoding=\"utf-8\"?>\n",
       "<svg xmlns=\"http://www.w3.org/2000/svg\" xmlns:xlink=\"http://www.w3.org/1999/xlink\" width=\"600\" height=\"400\" viewBox=\"0 0 2400 1600\">\n",
       "<defs>\n",
       "  <clipPath id=\"clip490\">\n",
       "    <rect x=\"0\" y=\"0\" width=\"2400\" height=\"1600\"/>\n",
       "  </clipPath>\n",
       "</defs>\n",
       "<path clip-path=\"url(#clip490)\" d=\"M0 1600 L2400 1600 L2400 0 L0 0  Z\" fill=\"#ffffff\" fill-rule=\"evenodd\" fill-opacity=\"1\"/>\n",
       "<defs>\n",
       "  <clipPath id=\"clip491\">\n",
       "    <rect x=\"480\" y=\"0\" width=\"1681\" height=\"1600\"/>\n",
       "  </clipPath>\n",
       "</defs>\n",
       "<path clip-path=\"url(#clip490)\" d=\"M232.389 1423.18 L2352.76 1423.18 L2352.76 47.2441 L232.389 47.2441  Z\" fill=\"#ffffff\" fill-rule=\"evenodd\" fill-opacity=\"1\"/>\n",
       "<defs>\n",
       "  <clipPath id=\"clip492\">\n",
       "    <rect x=\"232\" y=\"47\" width=\"2121\" height=\"1377\"/>\n",
       "  </clipPath>\n",
       "</defs>\n",
       "<polyline clip-path=\"url(#clip492)\" style=\"stroke:#000000; stroke-linecap:round; stroke-linejoin:round; stroke-width:8; stroke-opacity:0.1; fill:none\" points=\"251.576,1423.18 251.576,47.2441 \"/>\n",
       "<polyline clip-path=\"url(#clip492)\" style=\"stroke:#000000; stroke-linecap:round; stroke-linejoin:round; stroke-width:8; stroke-opacity:0.1; fill:none\" points=\"659.81,1423.18 659.81,47.2441 \"/>\n",
       "<polyline clip-path=\"url(#clip492)\" style=\"stroke:#000000; stroke-linecap:round; stroke-linejoin:round; stroke-width:8; stroke-opacity:0.1; fill:none\" points=\"1068.04,1423.18 1068.04,47.2441 \"/>\n",
       "<polyline clip-path=\"url(#clip492)\" style=\"stroke:#000000; stroke-linecap:round; stroke-linejoin:round; stroke-width:8; stroke-opacity:0.1; fill:none\" points=\"1476.28,1423.18 1476.28,47.2441 \"/>\n",
       "<polyline clip-path=\"url(#clip492)\" style=\"stroke:#000000; stroke-linecap:round; stroke-linejoin:round; stroke-width:8; stroke-opacity:0.1; fill:none\" points=\"1884.51,1423.18 1884.51,47.2441 \"/>\n",
       "<polyline clip-path=\"url(#clip492)\" style=\"stroke:#000000; stroke-linecap:round; stroke-linejoin:round; stroke-width:8; stroke-opacity:0.1; fill:none\" points=\"2292.75,1423.18 2292.75,47.2441 \"/>\n",
       "<polyline clip-path=\"url(#clip490)\" style=\"stroke:#000000; stroke-linecap:round; stroke-linejoin:round; stroke-width:4; stroke-opacity:1; fill:none\" points=\"232.389,1423.18 2352.76,1423.18 \"/>\n",
       "<polyline clip-path=\"url(#clip490)\" style=\"stroke:#000000; stroke-linecap:round; stroke-linejoin:round; stroke-width:4; stroke-opacity:1; fill:none\" points=\"251.576,1423.18 251.576,1404.28 \"/>\n",
       "<polyline clip-path=\"url(#clip490)\" style=\"stroke:#000000; stroke-linecap:round; stroke-linejoin:round; stroke-width:4; stroke-opacity:1; fill:none\" points=\"659.81,1423.18 659.81,1404.28 \"/>\n",
       "<polyline clip-path=\"url(#clip490)\" style=\"stroke:#000000; stroke-linecap:round; stroke-linejoin:round; stroke-width:4; stroke-opacity:1; fill:none\" points=\"1068.04,1423.18 1068.04,1404.28 \"/>\n",
       "<polyline clip-path=\"url(#clip490)\" style=\"stroke:#000000; stroke-linecap:round; stroke-linejoin:round; stroke-width:4; stroke-opacity:1; fill:none\" points=\"1476.28,1423.18 1476.28,1404.28 \"/>\n",
       "<polyline clip-path=\"url(#clip490)\" style=\"stroke:#000000; stroke-linecap:round; stroke-linejoin:round; stroke-width:4; stroke-opacity:1; fill:none\" points=\"1884.51,1423.18 1884.51,1404.28 \"/>\n",
       "<polyline clip-path=\"url(#clip490)\" style=\"stroke:#000000; stroke-linecap:round; stroke-linejoin:round; stroke-width:4; stroke-opacity:1; fill:none\" points=\"2292.75,1423.18 2292.75,1404.28 \"/>\n",
       "<path clip-path=\"url(#clip490)\" d=\"M251.576 1454.1 Q247.965 1454.1 246.137 1457.66 Q244.331 1461.2 244.331 1468.33 Q244.331 1475.44 246.137 1479.01 Q247.965 1482.55 251.576 1482.55 Q255.211 1482.55 257.016 1479.01 Q258.845 1475.44 258.845 1468.33 Q258.845 1461.2 257.016 1457.66 Q255.211 1454.1 251.576 1454.1 M251.576 1450.39 Q257.386 1450.39 260.442 1455 Q263.521 1459.58 263.521 1468.33 Q263.521 1477.06 260.442 1481.67 Q257.386 1486.25 251.576 1486.25 Q245.766 1486.25 242.687 1481.67 Q239.632 1477.06 239.632 1468.33 Q239.632 1459.58 242.687 1455 Q245.766 1450.39 251.576 1450.39 Z\" fill=\"#000000\" fill-rule=\"evenodd\" fill-opacity=\"1\" /><path clip-path=\"url(#clip490)\" d=\"M634.498 1481.64 L642.137 1481.64 L642.137 1455.28 L633.827 1456.95 L633.827 1452.69 L642.09 1451.02 L646.766 1451.02 L646.766 1481.64 L654.405 1481.64 L654.405 1485.58 L634.498 1485.58 L634.498 1481.64 Z\" fill=\"#000000\" fill-rule=\"evenodd\" fill-opacity=\"1\" /><path clip-path=\"url(#clip490)\" d=\"M673.849 1454.1 Q670.238 1454.1 668.41 1457.66 Q666.604 1461.2 666.604 1468.33 Q666.604 1475.44 668.41 1479.01 Q670.238 1482.55 673.849 1482.55 Q677.484 1482.55 679.289 1479.01 Q681.118 1475.44 681.118 1468.33 Q681.118 1461.2 679.289 1457.66 Q677.484 1454.1 673.849 1454.1 M673.849 1450.39 Q679.66 1450.39 682.715 1455 Q685.794 1459.58 685.794 1468.33 Q685.794 1477.06 682.715 1481.67 Q679.66 1486.25 673.849 1486.25 Q668.039 1486.25 664.961 1481.67 Q661.905 1477.06 661.905 1468.33 Q661.905 1459.58 664.961 1455 Q668.039 1450.39 673.849 1450.39 Z\" fill=\"#000000\" fill-rule=\"evenodd\" fill-opacity=\"1\" /><path clip-path=\"url(#clip490)\" d=\"M1046.82 1481.64 L1063.14 1481.64 L1063.14 1485.58 L1041.19 1485.58 L1041.19 1481.64 Q1043.85 1478.89 1048.44 1474.26 Q1053.04 1469.61 1054.22 1468.27 Q1056.47 1465.74 1057.35 1464.01 Q1058.25 1462.25 1058.25 1460.56 Q1058.25 1457.8 1056.31 1456.07 Q1054.39 1454.33 1051.28 1454.33 Q1049.09 1454.33 1046.63 1455.09 Q1044.2 1455.86 1041.42 1457.41 L1041.42 1452.69 Q1044.25 1451.55 1046.7 1450.97 Q1049.16 1450.39 1051.19 1450.39 Q1056.56 1450.39 1059.76 1453.08 Q1062.95 1455.77 1062.95 1460.26 Q1062.95 1462.39 1062.14 1464.31 Q1061.35 1466.2 1059.25 1468.8 Q1058.67 1469.47 1055.57 1472.69 Q1052.47 1475.88 1046.82 1481.64 Z\" fill=\"#000000\" fill-rule=\"evenodd\" fill-opacity=\"1\" /><path clip-path=\"url(#clip490)\" d=\"M1082.95 1454.1 Q1079.34 1454.1 1077.51 1457.66 Q1075.71 1461.2 1075.71 1468.33 Q1075.71 1475.44 1077.51 1479.01 Q1079.34 1482.55 1082.95 1482.55 Q1086.59 1482.55 1088.39 1479.01 Q1090.22 1475.44 1090.22 1468.33 Q1090.22 1461.2 1088.39 1457.66 Q1086.59 1454.1 1082.95 1454.1 M1082.95 1450.39 Q1088.76 1450.39 1091.82 1455 Q1094.9 1459.58 1094.9 1468.33 Q1094.9 1477.06 1091.82 1481.67 Q1088.76 1486.25 1082.95 1486.25 Q1077.14 1486.25 1074.06 1481.67 Q1071.01 1477.06 1071.01 1468.33 Q1071.01 1459.58 1074.06 1455 Q1077.14 1450.39 1082.95 1450.39 Z\" fill=\"#000000\" fill-rule=\"evenodd\" fill-opacity=\"1\" /><path clip-path=\"url(#clip490)\" d=\"M1465.12 1466.95 Q1468.48 1467.66 1470.35 1469.93 Q1472.25 1472.2 1472.25 1475.53 Q1472.25 1480.65 1468.73 1483.45 Q1465.21 1486.25 1458.73 1486.25 Q1456.56 1486.25 1454.24 1485.81 Q1451.95 1485.39 1449.5 1484.54 L1449.5 1480.02 Q1451.44 1481.16 1453.75 1481.74 Q1456.07 1482.32 1458.59 1482.32 Q1462.99 1482.32 1465.28 1480.58 Q1467.6 1478.84 1467.6 1475.53 Q1467.6 1472.48 1465.44 1470.77 Q1463.31 1469.03 1459.5 1469.03 L1455.47 1469.03 L1455.47 1465.19 L1459.68 1465.19 Q1463.13 1465.19 1464.96 1463.82 Q1466.79 1462.43 1466.79 1459.84 Q1466.79 1457.18 1464.89 1455.77 Q1463.01 1454.33 1459.5 1454.33 Q1457.57 1454.33 1455.38 1454.75 Q1453.18 1455.16 1450.54 1456.04 L1450.54 1451.88 Q1453.2 1451.14 1455.51 1450.77 Q1457.85 1450.39 1459.91 1450.39 Q1465.24 1450.39 1468.34 1452.83 Q1471.44 1455.23 1471.44 1459.35 Q1471.44 1462.22 1469.8 1464.21 Q1468.15 1466.18 1465.12 1466.95 Z\" fill=\"#000000\" fill-rule=\"evenodd\" fill-opacity=\"1\" /><path clip-path=\"url(#clip490)\" d=\"M1491.12 1454.1 Q1487.5 1454.1 1485.68 1457.66 Q1483.87 1461.2 1483.87 1468.33 Q1483.87 1475.44 1485.68 1479.01 Q1487.5 1482.55 1491.12 1482.55 Q1494.75 1482.55 1496.56 1479.01 Q1498.38 1475.44 1498.38 1468.33 Q1498.38 1461.2 1496.56 1457.66 Q1494.75 1454.1 1491.12 1454.1 M1491.12 1450.39 Q1496.93 1450.39 1499.98 1455 Q1503.06 1459.58 1503.06 1468.33 Q1503.06 1477.06 1499.98 1481.67 Q1496.93 1486.25 1491.12 1486.25 Q1485.31 1486.25 1482.23 1481.67 Q1479.17 1477.06 1479.17 1468.33 Q1479.17 1459.58 1482.23 1455 Q1485.31 1450.39 1491.12 1450.39 Z\" fill=\"#000000\" fill-rule=\"evenodd\" fill-opacity=\"1\" /><path clip-path=\"url(#clip490)\" d=\"M1872.68 1455.09 L1860.88 1473.54 L1872.68 1473.54 L1872.68 1455.09 M1871.46 1451.02 L1877.34 1451.02 L1877.34 1473.54 L1882.27 1473.54 L1882.27 1477.43 L1877.34 1477.43 L1877.34 1485.58 L1872.68 1485.58 L1872.68 1477.43 L1857.08 1477.43 L1857.08 1472.92 L1871.46 1451.02 Z\" fill=\"#000000\" fill-rule=\"evenodd\" fill-opacity=\"1\" /><path clip-path=\"url(#clip490)\" d=\"M1900 1454.1 Q1896.39 1454.1 1894.56 1457.66 Q1892.75 1461.2 1892.75 1468.33 Q1892.75 1475.44 1894.56 1479.01 Q1896.39 1482.55 1900 1482.55 Q1903.63 1482.55 1905.44 1479.01 Q1907.27 1475.44 1907.27 1468.33 Q1907.27 1461.2 1905.44 1457.66 Q1903.63 1454.1 1900 1454.1 M1900 1450.39 Q1905.81 1450.39 1908.86 1455 Q1911.94 1459.58 1911.94 1468.33 Q1911.94 1477.06 1908.86 1481.67 Q1905.81 1486.25 1900 1486.25 Q1894.19 1486.25 1891.11 1481.67 Q1888.05 1477.06 1888.05 1468.33 Q1888.05 1459.58 1891.11 1455 Q1894.19 1450.39 1900 1450.39 Z\" fill=\"#000000\" fill-rule=\"evenodd\" fill-opacity=\"1\" /><path clip-path=\"url(#clip490)\" d=\"M2267.44 1451.02 L2285.8 1451.02 L2285.8 1454.96 L2271.73 1454.96 L2271.73 1463.43 Q2272.75 1463.08 2273.76 1462.92 Q2274.78 1462.73 2275.8 1462.73 Q2281.59 1462.73 2284.97 1465.9 Q2288.35 1469.08 2288.35 1474.49 Q2288.35 1480.07 2284.88 1483.17 Q2281.4 1486.25 2275.08 1486.25 Q2272.91 1486.25 2270.64 1485.88 Q2268.39 1485.51 2265.99 1484.77 L2265.99 1480.07 Q2268.07 1481.2 2270.29 1481.76 Q2272.51 1482.32 2274.99 1482.32 Q2279 1482.32 2281.33 1480.21 Q2283.67 1478.1 2283.67 1474.49 Q2283.67 1470.88 2281.33 1468.77 Q2279 1466.67 2274.99 1466.67 Q2273.12 1466.67 2271.24 1467.08 Q2269.39 1467.5 2267.44 1468.38 L2267.44 1451.02 Z\" fill=\"#000000\" fill-rule=\"evenodd\" fill-opacity=\"1\" /><path clip-path=\"url(#clip490)\" d=\"M2307.56 1454.1 Q2303.95 1454.1 2302.12 1457.66 Q2300.31 1461.2 2300.31 1468.33 Q2300.31 1475.44 2302.12 1479.01 Q2303.95 1482.55 2307.56 1482.55 Q2311.19 1482.55 2313 1479.01 Q2314.83 1475.44 2314.83 1468.33 Q2314.83 1461.2 2313 1457.66 Q2311.19 1454.1 2307.56 1454.1 M2307.56 1450.39 Q2313.37 1450.39 2316.43 1455 Q2319.5 1459.58 2319.5 1468.33 Q2319.5 1477.06 2316.43 1481.67 Q2313.37 1486.25 2307.56 1486.25 Q2301.75 1486.25 2298.67 1481.67 Q2295.62 1477.06 2295.62 1468.33 Q2295.62 1459.58 2298.67 1455 Q2301.75 1450.39 2307.56 1450.39 Z\" fill=\"#000000\" fill-rule=\"evenodd\" fill-opacity=\"1\" /><path clip-path=\"url(#clip490)\" d=\"M1132.35 1539.37 L1123.09 1539.37 L1120.41 1550 L1129.74 1550 L1132.35 1539.37 M1127.57 1521.26 L1124.26 1534.46 L1133.56 1534.46 L1136.9 1521.26 L1141.99 1521.26 L1138.71 1534.46 L1148.64 1534.46 L1148.64 1539.37 L1137.47 1539.37 L1134.86 1550 L1144.98 1550 L1144.98 1554.87 L1133.62 1554.87 L1130.31 1568.04 L1125.22 1568.04 L1128.5 1554.87 L1119.17 1554.87 L1115.89 1568.04 L1110.77 1568.04 L1114.08 1554.87 L1104.05 1554.87 L1104.05 1550 L1115.26 1550 L1117.93 1539.37 L1107.68 1539.37 L1107.68 1534.46 L1119.17 1534.46 L1122.42 1521.26 L1127.57 1521.26 Z\" fill=\"#000000\" fill-rule=\"evenodd\" fill-opacity=\"1\" /><path clip-path=\"url(#clip490)\" d=\"M1203.23 1533.45 L1203.23 1538.98 Q1200.75 1537.71 1198.07 1537.07 Q1195.4 1536.44 1192.54 1536.44 Q1188.18 1536.44 1185.98 1537.77 Q1183.81 1539.11 1183.81 1541.79 Q1183.81 1543.82 1185.37 1545 Q1186.93 1546.15 1191.64 1547.2 L1193.65 1547.64 Q1199.89 1548.98 1202.5 1551.43 Q1205.14 1553.85 1205.14 1558.21 Q1205.14 1563.17 1201.19 1566.07 Q1197.28 1568.97 1190.4 1568.97 Q1187.54 1568.97 1184.42 1568.39 Q1181.33 1567.85 1177.89 1566.74 L1177.89 1560.69 Q1181.14 1562.38 1184.29 1563.24 Q1187.44 1564.07 1190.53 1564.07 Q1194.67 1564.07 1196.9 1562.66 Q1199.12 1561.23 1199.12 1558.65 Q1199.12 1556.27 1197.5 1554.99 Q1195.91 1553.72 1190.47 1552.54 L1188.43 1552.07 Q1182.99 1550.92 1180.57 1548.56 Q1178.15 1546.18 1178.15 1542.04 Q1178.15 1537.01 1181.71 1534.27 Q1185.28 1531.54 1191.84 1531.54 Q1195.08 1531.54 1197.95 1532.01 Q1200.81 1532.49 1203.23 1533.45 Z\" fill=\"#000000\" fill-rule=\"evenodd\" fill-opacity=\"1\" /><path clip-path=\"url(#clip490)\" d=\"M1240.12 1533.76 L1240.12 1539.24 Q1237.64 1537.87 1235.12 1537.2 Q1232.64 1536.5 1230.09 1536.5 Q1224.4 1536.5 1221.24 1540.13 Q1218.09 1543.73 1218.09 1550.25 Q1218.09 1556.78 1221.24 1560.4 Q1224.4 1564 1230.09 1564 Q1232.64 1564 1235.12 1563.33 Q1237.64 1562.63 1240.12 1561.26 L1240.12 1566.68 Q1237.67 1567.82 1235.03 1568.39 Q1232.42 1568.97 1229.46 1568.97 Q1221.4 1568.97 1216.66 1563.91 Q1211.92 1558.85 1211.92 1550.25 Q1211.92 1541.53 1216.69 1536.53 Q1221.5 1531.54 1229.84 1531.54 Q1232.54 1531.54 1235.12 1532.11 Q1237.7 1532.65 1240.12 1533.76 Z\" fill=\"#000000\" fill-rule=\"evenodd\" fill-opacity=\"1\" /><path clip-path=\"url(#clip490)\" d=\"M1280.8 1548.76 L1280.8 1551.62 L1253.87 1551.62 Q1254.25 1557.67 1257.5 1560.85 Q1260.78 1564 1266.6 1564 Q1269.97 1564 1273.13 1563.17 Q1276.31 1562.35 1279.43 1560.69 L1279.43 1566.23 Q1276.28 1567.57 1272.97 1568.27 Q1269.66 1568.97 1266.25 1568.97 Q1257.72 1568.97 1252.72 1564 Q1247.76 1559.04 1247.76 1550.57 Q1247.76 1541.82 1252.47 1536.69 Q1257.21 1531.54 1265.23 1531.54 Q1272.43 1531.54 1276.59 1536.18 Q1280.8 1540.8 1280.8 1548.76 M1274.94 1547.04 Q1274.88 1542.23 1272.23 1539.37 Q1269.62 1536.5 1265.3 1536.5 Q1260.39 1536.5 1257.43 1539.27 Q1254.51 1542.04 1254.06 1547.07 L1274.94 1547.04 Z\" fill=\"#000000\" fill-rule=\"evenodd\" fill-opacity=\"1\" /><path clip-path=\"url(#clip490)\" d=\"M1320.04 1546.53 L1320.04 1568.04 L1314.18 1568.04 L1314.18 1546.72 Q1314.18 1541.66 1312.21 1539.14 Q1310.24 1536.63 1306.29 1536.63 Q1301.55 1536.63 1298.81 1539.65 Q1296.07 1542.68 1296.07 1547.9 L1296.07 1568.04 L1290.19 1568.04 L1290.19 1532.4 L1296.07 1532.4 L1296.07 1537.93 Q1298.17 1534.72 1301.01 1533.13 Q1303.87 1531.54 1307.6 1531.54 Q1313.74 1531.54 1316.89 1535.36 Q1320.04 1539.14 1320.04 1546.53 Z\" fill=\"#000000\" fill-rule=\"evenodd\" fill-opacity=\"1\" /><path clip-path=\"url(#clip490)\" d=\"M1347.92 1550.12 Q1340.82 1550.12 1338.09 1551.75 Q1335.35 1553.37 1335.35 1557.29 Q1335.35 1560.4 1337.39 1562.25 Q1339.46 1564.07 1342.99 1564.07 Q1347.86 1564.07 1350.79 1560.63 Q1353.75 1557.16 1353.75 1551.43 L1353.75 1550.12 L1347.92 1550.12 M1359.6 1547.71 L1359.6 1568.04 L1353.75 1568.04 L1353.75 1562.63 Q1351.74 1565.88 1348.75 1567.44 Q1345.76 1568.97 1341.43 1568.97 Q1335.95 1568.97 1332.71 1565.91 Q1329.49 1562.82 1329.49 1557.67 Q1329.49 1551.65 1333.5 1548.6 Q1337.55 1545.54 1345.54 1545.54 L1353.75 1545.54 L1353.75 1544.97 Q1353.75 1540.93 1351.07 1538.73 Q1348.43 1536.5 1343.63 1536.5 Q1340.57 1536.5 1337.67 1537.23 Q1334.78 1537.97 1332.1 1539.43 L1332.1 1534.02 Q1335.32 1532.78 1338.34 1532.17 Q1341.37 1531.54 1344.23 1531.54 Q1351.96 1531.54 1355.78 1535.55 Q1359.6 1539.56 1359.6 1547.71 Z\" fill=\"#000000\" fill-rule=\"evenodd\" fill-opacity=\"1\" /><path clip-path=\"url(#clip490)\" d=\"M1392.32 1537.87 Q1391.34 1537.3 1390.16 1537.04 Q1389.01 1536.76 1387.61 1536.76 Q1382.65 1536.76 1379.97 1540 Q1377.33 1543.22 1377.33 1549.27 L1377.33 1568.04 L1371.44 1568.04 L1371.44 1532.4 L1377.33 1532.4 L1377.33 1537.93 Q1379.18 1534.69 1382.14 1533.13 Q1385.1 1531.54 1389.33 1531.54 Q1389.94 1531.54 1390.67 1531.63 Q1391.4 1531.7 1392.29 1531.85 L1392.32 1537.87 Z\" fill=\"#000000\" fill-rule=\"evenodd\" fill-opacity=\"1\" /><path clip-path=\"url(#clip490)\" d=\"M1398.47 1532.4 L1404.32 1532.4 L1404.32 1568.04 L1398.47 1568.04 L1398.47 1532.4 M1398.47 1518.52 L1404.32 1518.52 L1404.32 1525.93 L1398.47 1525.93 L1398.47 1518.52 Z\" fill=\"#000000\" fill-rule=\"evenodd\" fill-opacity=\"1\" /><path clip-path=\"url(#clip490)\" d=\"M1430.39 1536.5 Q1425.68 1536.5 1422.94 1540.19 Q1420.21 1543.85 1420.21 1550.25 Q1420.21 1556.65 1422.91 1560.34 Q1425.65 1564 1430.39 1564 Q1435.07 1564 1437.81 1560.31 Q1440.54 1556.62 1440.54 1550.25 Q1440.54 1543.92 1437.81 1540.23 Q1435.07 1536.5 1430.39 1536.5 M1430.39 1531.54 Q1438.03 1531.54 1442.39 1536.5 Q1446.75 1541.47 1446.75 1550.25 Q1446.75 1559 1442.39 1564 Q1438.03 1568.97 1430.39 1568.97 Q1422.72 1568.97 1418.36 1564 Q1414.03 1559 1414.03 1550.25 Q1414.03 1541.47 1418.36 1536.5 Q1422.72 1531.54 1430.39 1531.54 Z\" fill=\"#000000\" fill-rule=\"evenodd\" fill-opacity=\"1\" /><path clip-path=\"url(#clip490)\" d=\"M1479.18 1533.45 L1479.18 1538.98 Q1476.7 1537.71 1474.03 1537.07 Q1471.35 1536.44 1468.49 1536.44 Q1464.13 1536.44 1461.93 1537.77 Q1459.77 1539.11 1459.77 1541.79 Q1459.77 1543.82 1461.33 1545 Q1462.89 1546.15 1467.6 1547.2 L1469.6 1547.64 Q1475.84 1548.98 1478.45 1551.43 Q1481.09 1553.85 1481.09 1558.21 Q1481.09 1563.17 1477.15 1566.07 Q1473.23 1568.97 1466.36 1568.97 Q1463.49 1568.97 1460.37 1568.39 Q1457.29 1567.85 1453.85 1566.74 L1453.85 1560.69 Q1457.09 1562.38 1460.25 1563.24 Q1463.4 1564.07 1466.48 1564.07 Q1470.62 1564.07 1472.85 1562.66 Q1475.08 1561.23 1475.08 1558.65 Q1475.08 1556.27 1473.45 1554.99 Q1471.86 1553.72 1466.42 1552.54 L1464.38 1552.07 Q1458.94 1550.92 1456.52 1548.56 Q1454.1 1546.18 1454.1 1542.04 Q1454.1 1537.01 1457.67 1534.27 Q1461.23 1531.54 1467.79 1531.54 Q1471.04 1531.54 1473.9 1532.01 Q1476.76 1532.49 1479.18 1533.45 Z\" fill=\"#000000\" fill-rule=\"evenodd\" fill-opacity=\"1\" /><polyline clip-path=\"url(#clip492)\" style=\"stroke:#000000; stroke-linecap:round; stroke-linejoin:round; stroke-width:8; stroke-opacity:0.1; fill:none\" points=\"232.389,1385.5 2352.76,1385.5 \"/>\n",
       "<polyline clip-path=\"url(#clip492)\" style=\"stroke:#000000; stroke-linecap:round; stroke-linejoin:round; stroke-width:8; stroke-opacity:0.1; fill:none\" points=\"232.389,1107.11 2352.76,1107.11 \"/>\n",
       "<polyline clip-path=\"url(#clip492)\" style=\"stroke:#000000; stroke-linecap:round; stroke-linejoin:round; stroke-width:8; stroke-opacity:0.1; fill:none\" points=\"232.389,828.727 2352.76,828.727 \"/>\n",
       "<polyline clip-path=\"url(#clip492)\" style=\"stroke:#000000; stroke-linecap:round; stroke-linejoin:round; stroke-width:8; stroke-opacity:0.1; fill:none\" points=\"232.389,550.342 2352.76,550.342 \"/>\n",
       "<polyline clip-path=\"url(#clip492)\" style=\"stroke:#000000; stroke-linecap:round; stroke-linejoin:round; stroke-width:8; stroke-opacity:0.1; fill:none\" points=\"232.389,271.957 2352.76,271.957 \"/>\n",
       "<polyline clip-path=\"url(#clip490)\" style=\"stroke:#000000; stroke-linecap:round; stroke-linejoin:round; stroke-width:4; stroke-opacity:1; fill:none\" points=\"232.389,1423.18 232.389,47.2441 \"/>\n",
       "<polyline clip-path=\"url(#clip490)\" style=\"stroke:#000000; stroke-linecap:round; stroke-linejoin:round; stroke-width:4; stroke-opacity:1; fill:none\" points=\"232.389,1385.5 251.287,1385.5 \"/>\n",
       "<polyline clip-path=\"url(#clip490)\" style=\"stroke:#000000; stroke-linecap:round; stroke-linejoin:round; stroke-width:4; stroke-opacity:1; fill:none\" points=\"232.389,1107.11 251.287,1107.11 \"/>\n",
       "<polyline clip-path=\"url(#clip490)\" style=\"stroke:#000000; stroke-linecap:round; stroke-linejoin:round; stroke-width:4; stroke-opacity:1; fill:none\" points=\"232.389,828.727 251.287,828.727 \"/>\n",
       "<polyline clip-path=\"url(#clip490)\" style=\"stroke:#000000; stroke-linecap:round; stroke-linejoin:round; stroke-width:4; stroke-opacity:1; fill:none\" points=\"232.389,550.342 251.287,550.342 \"/>\n",
       "<polyline clip-path=\"url(#clip490)\" style=\"stroke:#000000; stroke-linecap:round; stroke-linejoin:round; stroke-width:4; stroke-opacity:1; fill:none\" points=\"232.389,271.957 251.287,271.957 \"/>\n",
       "<path clip-path=\"url(#clip490)\" d=\"M184.445 1371.3 Q180.834 1371.3 179.005 1374.86 Q177.2 1378.4 177.2 1385.53 Q177.2 1392.64 179.005 1396.2 Q180.834 1399.74 184.445 1399.74 Q188.079 1399.74 189.885 1396.2 Q191.713 1392.64 191.713 1385.53 Q191.713 1378.4 189.885 1374.86 Q188.079 1371.3 184.445 1371.3 M184.445 1367.59 Q190.255 1367.59 193.311 1372.2 Q196.389 1376.78 196.389 1385.53 Q196.389 1394.26 193.311 1398.86 Q190.255 1403.45 184.445 1403.45 Q178.635 1403.45 175.556 1398.86 Q172.501 1394.26 172.501 1385.53 Q172.501 1376.78 175.556 1372.2 Q178.635 1367.59 184.445 1367.59 Z\" fill=\"#000000\" fill-rule=\"evenodd\" fill-opacity=\"1\" /><path clip-path=\"url(#clip490)\" d=\"M149.306 1120.46 L165.626 1120.46 L165.626 1124.39 L143.681 1124.39 L143.681 1120.46 Q146.343 1117.7 150.927 1113.07 Q155.533 1108.42 156.714 1107.08 Q158.959 1104.55 159.839 1102.82 Q160.741 1101.06 160.741 1099.37 Q160.741 1096.61 158.797 1094.88 Q156.876 1093.14 153.774 1093.14 Q151.575 1093.14 149.121 1093.91 Q146.691 1094.67 143.913 1096.22 L143.913 1091.5 Q146.737 1090.36 149.191 1089.79 Q151.644 1089.21 153.681 1089.21 Q159.052 1089.21 162.246 1091.89 Q165.44 1094.58 165.44 1099.07 Q165.44 1101.2 164.63 1103.12 Q163.843 1105.02 161.737 1107.61 Q161.158 1108.28 158.056 1111.5 Q154.954 1114.69 149.306 1120.46 Z\" fill=\"#000000\" fill-rule=\"evenodd\" fill-opacity=\"1\" /><path clip-path=\"url(#clip490)\" d=\"M175.487 1089.83 L193.843 1089.83 L193.843 1093.77 L179.769 1093.77 L179.769 1102.24 Q180.788 1101.89 181.806 1101.73 Q182.825 1101.54 183.843 1101.54 Q189.63 1101.54 193.01 1104.72 Q196.389 1107.89 196.389 1113.3 Q196.389 1118.88 192.917 1121.98 Q189.445 1125.06 183.126 1125.06 Q180.95 1125.06 178.681 1124.69 Q176.436 1124.32 174.028 1123.58 L174.028 1118.88 Q176.112 1120.02 178.334 1120.57 Q180.556 1121.13 183.033 1121.13 Q187.038 1121.13 189.375 1119.02 Q191.713 1116.91 191.713 1113.3 Q191.713 1109.69 189.375 1107.59 Q187.038 1105.48 183.033 1105.48 Q181.158 1105.48 179.283 1105.9 Q177.431 1106.31 175.487 1107.19 L175.487 1089.83 Z\" fill=\"#000000\" fill-rule=\"evenodd\" fill-opacity=\"1\" /><path clip-path=\"url(#clip490)\" d=\"M144.329 811.447 L162.686 811.447 L162.686 815.382 L148.612 815.382 L148.612 823.854 Q149.63 823.507 150.649 823.345 Q151.667 823.16 152.686 823.16 Q158.473 823.16 161.852 826.331 Q165.232 829.502 165.232 834.919 Q165.232 840.498 161.76 843.6 Q158.288 846.678 151.968 846.678 Q149.792 846.678 147.524 846.308 Q145.279 845.938 142.871 845.197 L142.871 840.498 Q144.954 841.632 147.177 842.188 Q149.399 842.743 151.876 842.743 Q155.88 842.743 158.218 840.637 Q160.556 838.53 160.556 834.919 Q160.556 831.308 158.218 829.202 Q155.88 827.095 151.876 827.095 Q150.001 827.095 148.126 827.512 Q146.274 827.928 144.329 828.808 L144.329 811.447 Z\" fill=\"#000000\" fill-rule=\"evenodd\" fill-opacity=\"1\" /><path clip-path=\"url(#clip490)\" d=\"M184.445 814.526 Q180.834 814.526 179.005 818.09 Q177.2 821.632 177.2 828.762 Q177.2 835.868 179.005 839.433 Q180.834 842.975 184.445 842.975 Q188.079 842.975 189.885 839.433 Q191.713 835.868 191.713 828.762 Q191.713 821.632 189.885 818.09 Q188.079 814.526 184.445 814.526 M184.445 810.822 Q190.255 810.822 193.311 815.428 Q196.389 820.012 196.389 828.762 Q196.389 837.489 193.311 842.095 Q190.255 846.678 184.445 846.678 Q178.635 846.678 175.556 842.095 Q172.501 837.489 172.501 828.762 Q172.501 820.012 175.556 815.428 Q178.635 810.822 184.445 810.822 Z\" fill=\"#000000\" fill-rule=\"evenodd\" fill-opacity=\"1\" /><path clip-path=\"url(#clip490)\" d=\"M144.098 533.062 L166.32 533.062 L166.32 535.053 L153.774 567.622 L148.89 567.622 L160.695 536.997 L144.098 536.997 L144.098 533.062 Z\" fill=\"#000000\" fill-rule=\"evenodd\" fill-opacity=\"1\" /><path clip-path=\"url(#clip490)\" d=\"M175.487 533.062 L193.843 533.062 L193.843 536.997 L179.769 536.997 L179.769 545.47 Q180.788 545.122 181.806 544.96 Q182.825 544.775 183.843 544.775 Q189.63 544.775 193.01 547.946 Q196.389 551.118 196.389 556.534 Q196.389 562.113 192.917 565.215 Q189.445 568.293 183.126 568.293 Q180.95 568.293 178.681 567.923 Q176.436 567.553 174.028 566.812 L174.028 562.113 Q176.112 563.247 178.334 563.803 Q180.556 564.358 183.033 564.358 Q187.038 564.358 189.375 562.252 Q191.713 560.145 191.713 556.534 Q191.713 552.923 189.375 550.817 Q187.038 548.71 183.033 548.71 Q181.158 548.71 179.283 549.127 Q177.431 549.544 175.487 550.423 L175.487 533.062 Z\" fill=\"#000000\" fill-rule=\"evenodd\" fill-opacity=\"1\" /><path clip-path=\"url(#clip490)\" d=\"M114.931 285.302 L122.57 285.302 L122.57 258.937 L114.26 260.603 L114.26 256.344 L122.524 254.677 L127.2 254.677 L127.2 285.302 L134.839 285.302 L134.839 289.237 L114.931 289.237 L114.931 285.302 Z\" fill=\"#000000\" fill-rule=\"evenodd\" fill-opacity=\"1\" /><path clip-path=\"url(#clip490)\" d=\"M154.283 257.756 Q150.672 257.756 148.843 261.321 Q147.038 264.863 147.038 271.992 Q147.038 279.099 148.843 282.663 Q150.672 286.205 154.283 286.205 Q157.917 286.205 159.723 282.663 Q161.552 279.099 161.552 271.992 Q161.552 264.863 159.723 261.321 Q157.917 257.756 154.283 257.756 M154.283 254.052 Q160.093 254.052 163.149 258.659 Q166.227 263.242 166.227 271.992 Q166.227 280.719 163.149 285.325 Q160.093 289.909 154.283 289.909 Q148.473 289.909 145.394 285.325 Q142.339 280.719 142.339 271.992 Q142.339 263.242 145.394 258.659 Q148.473 254.052 154.283 254.052 Z\" fill=\"#000000\" fill-rule=\"evenodd\" fill-opacity=\"1\" /><path clip-path=\"url(#clip490)\" d=\"M184.445 257.756 Q180.834 257.756 179.005 261.321 Q177.2 264.863 177.2 271.992 Q177.2 279.099 179.005 282.663 Q180.834 286.205 184.445 286.205 Q188.079 286.205 189.885 282.663 Q191.713 279.099 191.713 271.992 Q191.713 264.863 189.885 261.321 Q188.079 257.756 184.445 257.756 M184.445 254.052 Q190.255 254.052 193.311 258.659 Q196.389 263.242 196.389 271.992 Q196.389 280.719 193.311 285.325 Q190.255 289.909 184.445 289.909 Q178.635 289.909 175.556 285.325 Q172.501 280.719 172.501 271.992 Q172.501 263.242 175.556 258.659 Q178.635 254.052 184.445 254.052 Z\" fill=\"#000000\" fill-rule=\"evenodd\" fill-opacity=\"1\" /><path clip-path=\"url(#clip490)\" d=\"M29.4065 898.413 L34.9447 898.413 Q33.6716 900.895 33.035 903.569 Q32.3984 906.243 32.3984 909.107 Q32.3984 913.468 33.7352 915.664 Q35.072 917.828 37.7456 917.828 Q39.7826 917.828 40.9603 916.269 Q42.1061 914.709 43.1565 909.998 L43.6021 907.993 Q44.9389 901.755 47.3897 899.145 Q49.8086 896.503 54.1691 896.503 Q59.1344 896.503 62.0308 900.45 Q64.9272 904.365 64.9272 911.24 Q64.9272 914.104 64.3543 917.223 Q63.8132 920.311 62.6992 923.748 L56.6518 923.748 Q58.3387 920.502 59.198 917.351 Q60.0256 914.2 60.0256 911.112 Q60.0256 906.975 58.6251 904.747 Q57.1929 902.519 54.6147 902.519 Q52.2276 902.519 50.9545 904.142 Q49.6813 905.733 48.5037 911.176 L48.0262 913.213 Q46.8804 918.656 44.5251 921.075 Q42.138 923.494 38.0002 923.494 Q32.9713 923.494 30.2341 919.929 Q27.4968 916.364 27.4968 909.807 Q27.4968 906.561 27.9743 903.696 Q28.4517 900.832 29.4065 898.413 Z\" fill=\"#000000\" fill-rule=\"evenodd\" fill-opacity=\"1\" /><path clip-path=\"url(#clip490)\" d=\"M32.4621 873.364 Q32.4621 878.074 36.1542 880.812 Q39.8145 883.549 46.212 883.549 Q52.6095 883.549 56.3017 880.843 Q59.9619 878.106 59.9619 873.364 Q59.9619 868.685 56.2698 865.948 Q52.5777 863.21 46.212 863.21 Q39.8781 863.21 36.186 865.948 Q32.4621 868.685 32.4621 873.364 M27.4968 873.364 Q27.4968 865.725 32.4621 861.364 Q37.4273 857.004 46.212 857.004 Q54.9649 857.004 59.9619 861.364 Q64.9272 865.725 64.9272 873.364 Q64.9272 881.034 59.9619 885.395 Q54.9649 889.724 46.212 889.724 Q37.4273 889.724 32.4621 885.395 Q27.4968 881.034 27.4968 873.364 Z\" fill=\"#000000\" fill-rule=\"evenodd\" fill-opacity=\"1\" /><path clip-path=\"url(#clip490)\" d=\"M14.479 847.296 L14.479 841.44 L64.0042 841.44 L64.0042 847.296 L14.479 847.296 Z\" fill=\"#000000\" fill-rule=\"evenodd\" fill-opacity=\"1\" /><path clip-path=\"url(#clip490)\" d=\"M55.9197 828.358 L55.9197 821.642 L64.0042 821.642 L64.0042 828.358 L55.9197 828.358 Z\" fill=\"#000000\" fill-rule=\"evenodd\" fill-opacity=\"1\" /><path clip-path=\"url(#clip490)\" d=\"M18.2347 781.952 L28.3562 781.952 L28.3562 769.889 L32.9077 769.889 L32.9077 781.952 L52.2594 781.952 Q56.6199 781.952 57.8613 780.775 Q59.1026 779.565 59.1026 775.905 L59.1026 769.889 L64.0042 769.889 L64.0042 775.905 Q64.0042 782.684 61.4897 785.262 Q58.9434 787.84 52.2594 787.84 L32.9077 787.84 L32.9077 792.137 L28.3562 792.137 L28.3562 787.84 L18.2347 787.84 L18.2347 781.952 Z\" fill=\"#000000\" fill-rule=\"evenodd\" fill-opacity=\"1\" /><path clip-path=\"url(#clip490)\" d=\"M28.3562 762.187 L28.3562 756.33 L64.0042 756.33 L64.0042 762.187 L28.3562 762.187 M14.479 762.187 L14.479 756.33 L21.895 756.33 L21.895 762.187 L14.479 762.187 Z\" fill=\"#000000\" fill-rule=\"evenodd\" fill-opacity=\"1\" /><path clip-path=\"url(#clip490)\" d=\"M35.1993 716.322 Q31.2526 714.126 29.3747 711.07 Q27.4968 708.014 27.4968 703.877 Q27.4968 698.307 31.4117 695.283 Q35.2948 692.259 42.4881 692.259 L64.0042 692.259 L64.0042 698.148 L42.679 698.148 Q37.5546 698.148 35.072 699.962 Q32.5894 701.776 32.5894 705.5 Q32.5894 710.052 35.6131 712.693 Q38.6368 715.335 43.8567 715.335 L64.0042 715.335 L64.0042 721.223 L42.679 721.223 Q37.5228 721.223 35.072 723.038 Q32.5894 724.852 32.5894 728.639 Q32.5894 733.127 35.6449 735.769 Q38.6686 738.411 43.8567 738.411 L64.0042 738.411 L64.0042 744.299 L28.3562 744.299 L28.3562 738.411 L33.8944 738.411 Q30.616 736.406 29.0564 733.605 Q27.4968 730.804 27.4968 726.952 Q27.4968 723.069 29.4702 720.364 Q31.4436 717.627 35.1993 716.322 Z\" fill=\"#000000\" fill-rule=\"evenodd\" fill-opacity=\"1\" /><path clip-path=\"url(#clip490)\" d=\"M44.7161 650.087 L47.5806 650.087 L47.5806 677.013 Q53.6281 676.632 56.8109 673.385 Q59.9619 670.107 59.9619 664.282 Q59.9619 660.908 59.1344 657.757 Q58.3069 654.574 56.6518 651.455 L62.1899 651.455 Q63.5267 654.606 64.227 657.916 Q64.9272 661.227 64.9272 664.632 Q64.9272 673.162 59.9619 678.159 Q54.9967 683.125 46.5303 683.125 Q37.7774 683.125 32.6531 678.414 Q27.4968 673.671 27.4968 665.651 Q27.4968 658.457 32.1438 654.288 Q36.7589 650.087 44.7161 650.087 M42.9973 655.943 Q38.1912 656.007 35.3266 658.648 Q32.4621 661.258 32.4621 665.587 Q32.4621 670.489 35.2312 673.449 Q38.0002 676.377 43.0292 676.823 L42.9973 655.943 Z\" fill=\"#000000\" fill-rule=\"evenodd\" fill-opacity=\"1\" /><path clip-path=\"url(#clip490)\" d=\"M14.479 620.295 L14.479 606.8 L19.0304 606.8 L19.0304 614.439 L68.0464 614.439 L68.0464 606.8 L72.5979 606.8 L72.5979 620.295 L14.479 620.295 Z\" fill=\"#000000\" fill-rule=\"evenodd\" fill-opacity=\"1\" /><path clip-path=\"url(#clip490)\" d=\"M29.4065 571.597 L34.9447 571.597 Q33.6716 574.08 33.035 576.754 Q32.3984 579.427 32.3984 582.292 Q32.3984 586.652 33.7352 588.848 Q35.072 591.013 37.7456 591.013 Q39.7826 591.013 40.9603 589.453 Q42.1061 587.894 43.1565 583.183 L43.6021 581.178 Q44.9389 574.939 47.3897 572.329 Q49.8086 569.688 54.1691 569.688 Q59.1344 569.688 62.0308 573.634 Q64.9272 577.549 64.9272 584.424 Q64.9272 587.289 64.3543 590.408 Q63.8132 593.495 62.6992 596.933 L56.6518 596.933 Q58.3387 593.686 59.198 590.535 Q60.0256 587.384 60.0256 584.297 Q60.0256 580.159 58.6251 577.931 Q57.1929 575.703 54.6147 575.703 Q52.2276 575.703 50.9545 577.327 Q49.6813 578.918 48.5037 584.361 L48.0262 586.398 Q46.8804 591.84 44.5251 594.259 Q42.138 596.678 38.0002 596.678 Q32.9713 596.678 30.2341 593.113 Q27.4968 589.549 27.4968 582.992 Q27.4968 579.745 27.9743 576.881 Q28.4517 574.016 29.4065 571.597 Z\" fill=\"#000000\" fill-rule=\"evenodd\" fill-opacity=\"1\" /><path clip-path=\"url(#clip490)\" d=\"M14.479 546.676 L72.5979 546.676 L72.5979 560.171 L68.0464 560.171 L68.0464 552.564 L19.0304 552.564 L19.0304 560.171 L14.479 560.171 L14.479 546.676 Z\" fill=\"#000000\" fill-rule=\"evenodd\" fill-opacity=\"1\" /><polyline clip-path=\"url(#clip492)\" style=\"stroke:#000000; stroke-linecap:round; stroke-linejoin:round; stroke-width:4; stroke-opacity:1; fill:none\" points=\"292.4,1384.24 333.223,1381.34 374.046,1381.12 414.87,1382.08 455.693,1373.44 496.517,1360.48 537.34,1355.98 578.163,1342.39 618.987,1344.85 659.81,1323.38 700.634,1333.46 741.457,1312.66 782.28,1296.52 823.104,1287.51 863.927,1299.83 904.75,1271.18 945.574,1249.23 986.397,1258.63 1027.22,1227.73 1068.04,1190.38 1108.87,1174.55 1149.69,1185.58 1190.51,1225.8 1231.34,1157.25 1272.16,1173.49 1312.98,1115.54 1353.81,1148.71 1394.63,1132.21 1435.45,1154.38 1476.28,1075.16 1517.1,1052.59 1557.92,1008.72 1598.75,941.172 1639.57,1030.29 1680.39,923.222 1721.22,985.213 1762.04,966.784 1802.86,842.969 1843.69,801.991 1884.51,794.152 1925.34,854.884 1966.16,764.632 2006.98,805.699 2047.81,764.064 2088.63,618.469 2129.45,687.72 2170.28,691.494 2211.1,641.909 2251.92,620.751 2292.75,647.933 \"/>\n",
       "<circle clip-path=\"url(#clip492)\" cx=\"292.4\" cy=\"1384.24\" r=\"14.4\" fill=\"#000000\" fill-rule=\"evenodd\" fill-opacity=\"1\" stroke=\"none\"/>\n",
       "<circle clip-path=\"url(#clip492)\" cx=\"333.223\" cy=\"1381.34\" r=\"14.4\" fill=\"#000000\" fill-rule=\"evenodd\" fill-opacity=\"1\" stroke=\"none\"/>\n",
       "<circle clip-path=\"url(#clip492)\" cx=\"374.046\" cy=\"1381.12\" r=\"14.4\" fill=\"#000000\" fill-rule=\"evenodd\" fill-opacity=\"1\" stroke=\"none\"/>\n",
       "<circle clip-path=\"url(#clip492)\" cx=\"414.87\" cy=\"1382.08\" r=\"14.4\" fill=\"#000000\" fill-rule=\"evenodd\" fill-opacity=\"1\" stroke=\"none\"/>\n",
       "<circle clip-path=\"url(#clip492)\" cx=\"455.693\" cy=\"1373.44\" r=\"14.4\" fill=\"#000000\" fill-rule=\"evenodd\" fill-opacity=\"1\" stroke=\"none\"/>\n",
       "<circle clip-path=\"url(#clip492)\" cx=\"496.517\" cy=\"1360.48\" r=\"14.4\" fill=\"#000000\" fill-rule=\"evenodd\" fill-opacity=\"1\" stroke=\"none\"/>\n",
       "<circle clip-path=\"url(#clip492)\" cx=\"537.34\" cy=\"1355.98\" r=\"14.4\" fill=\"#000000\" fill-rule=\"evenodd\" fill-opacity=\"1\" stroke=\"none\"/>\n",
       "<circle clip-path=\"url(#clip492)\" cx=\"578.163\" cy=\"1342.39\" r=\"14.4\" fill=\"#000000\" fill-rule=\"evenodd\" fill-opacity=\"1\" stroke=\"none\"/>\n",
       "<circle clip-path=\"url(#clip492)\" cx=\"618.987\" cy=\"1344.85\" r=\"14.4\" fill=\"#000000\" fill-rule=\"evenodd\" fill-opacity=\"1\" stroke=\"none\"/>\n",
       "<circle clip-path=\"url(#clip492)\" cx=\"659.81\" cy=\"1323.38\" r=\"14.4\" fill=\"#000000\" fill-rule=\"evenodd\" fill-opacity=\"1\" stroke=\"none\"/>\n",
       "<circle clip-path=\"url(#clip492)\" cx=\"700.634\" cy=\"1333.46\" r=\"14.4\" fill=\"#000000\" fill-rule=\"evenodd\" fill-opacity=\"1\" stroke=\"none\"/>\n",
       "<circle clip-path=\"url(#clip492)\" cx=\"741.457\" cy=\"1312.66\" r=\"14.4\" fill=\"#000000\" fill-rule=\"evenodd\" fill-opacity=\"1\" stroke=\"none\"/>\n",
       "<circle clip-path=\"url(#clip492)\" cx=\"782.28\" cy=\"1296.52\" r=\"14.4\" fill=\"#000000\" fill-rule=\"evenodd\" fill-opacity=\"1\" stroke=\"none\"/>\n",
       "<circle clip-path=\"url(#clip492)\" cx=\"823.104\" cy=\"1287.51\" r=\"14.4\" fill=\"#000000\" fill-rule=\"evenodd\" fill-opacity=\"1\" stroke=\"none\"/>\n",
       "<circle clip-path=\"url(#clip492)\" cx=\"863.927\" cy=\"1299.83\" r=\"14.4\" fill=\"#000000\" fill-rule=\"evenodd\" fill-opacity=\"1\" stroke=\"none\"/>\n",
       "<circle clip-path=\"url(#clip492)\" cx=\"904.75\" cy=\"1271.18\" r=\"14.4\" fill=\"#000000\" fill-rule=\"evenodd\" fill-opacity=\"1\" stroke=\"none\"/>\n",
       "<circle clip-path=\"url(#clip492)\" cx=\"945.574\" cy=\"1249.23\" r=\"14.4\" fill=\"#000000\" fill-rule=\"evenodd\" fill-opacity=\"1\" stroke=\"none\"/>\n",
       "<circle clip-path=\"url(#clip492)\" cx=\"986.397\" cy=\"1258.63\" r=\"14.4\" fill=\"#000000\" fill-rule=\"evenodd\" fill-opacity=\"1\" stroke=\"none\"/>\n",
       "<circle clip-path=\"url(#clip492)\" cx=\"1027.22\" cy=\"1227.73\" r=\"14.4\" fill=\"#000000\" fill-rule=\"evenodd\" fill-opacity=\"1\" stroke=\"none\"/>\n",
       "<circle clip-path=\"url(#clip492)\" cx=\"1068.04\" cy=\"1190.38\" r=\"14.4\" fill=\"#000000\" fill-rule=\"evenodd\" fill-opacity=\"1\" stroke=\"none\"/>\n",
       "<circle clip-path=\"url(#clip492)\" cx=\"1108.87\" cy=\"1174.55\" r=\"14.4\" fill=\"#000000\" fill-rule=\"evenodd\" fill-opacity=\"1\" stroke=\"none\"/>\n",
       "<circle clip-path=\"url(#clip492)\" cx=\"1149.69\" cy=\"1185.58\" r=\"14.4\" fill=\"#000000\" fill-rule=\"evenodd\" fill-opacity=\"1\" stroke=\"none\"/>\n",
       "<circle clip-path=\"url(#clip492)\" cx=\"1190.51\" cy=\"1225.8\" r=\"14.4\" fill=\"#000000\" fill-rule=\"evenodd\" fill-opacity=\"1\" stroke=\"none\"/>\n",
       "<circle clip-path=\"url(#clip492)\" cx=\"1231.34\" cy=\"1157.25\" r=\"14.4\" fill=\"#000000\" fill-rule=\"evenodd\" fill-opacity=\"1\" stroke=\"none\"/>\n",
       "<circle clip-path=\"url(#clip492)\" cx=\"1272.16\" cy=\"1173.49\" r=\"14.4\" fill=\"#000000\" fill-rule=\"evenodd\" fill-opacity=\"1\" stroke=\"none\"/>\n",
       "<circle clip-path=\"url(#clip492)\" cx=\"1312.98\" cy=\"1115.54\" r=\"14.4\" fill=\"#000000\" fill-rule=\"evenodd\" fill-opacity=\"1\" stroke=\"none\"/>\n",
       "<circle clip-path=\"url(#clip492)\" cx=\"1353.81\" cy=\"1148.71\" r=\"14.4\" fill=\"#000000\" fill-rule=\"evenodd\" fill-opacity=\"1\" stroke=\"none\"/>\n",
       "<circle clip-path=\"url(#clip492)\" cx=\"1394.63\" cy=\"1132.21\" r=\"14.4\" fill=\"#000000\" fill-rule=\"evenodd\" fill-opacity=\"1\" stroke=\"none\"/>\n",
       "<circle clip-path=\"url(#clip492)\" cx=\"1435.45\" cy=\"1154.38\" r=\"14.4\" fill=\"#000000\" fill-rule=\"evenodd\" fill-opacity=\"1\" stroke=\"none\"/>\n",
       "<circle clip-path=\"url(#clip492)\" cx=\"1476.28\" cy=\"1075.16\" r=\"14.4\" fill=\"#000000\" fill-rule=\"evenodd\" fill-opacity=\"1\" stroke=\"none\"/>\n",
       "<circle clip-path=\"url(#clip492)\" cx=\"1517.1\" cy=\"1052.59\" r=\"14.4\" fill=\"#000000\" fill-rule=\"evenodd\" fill-opacity=\"1\" stroke=\"none\"/>\n",
       "<circle clip-path=\"url(#clip492)\" cx=\"1557.92\" cy=\"1008.72\" r=\"14.4\" fill=\"#000000\" fill-rule=\"evenodd\" fill-opacity=\"1\" stroke=\"none\"/>\n",
       "<circle clip-path=\"url(#clip492)\" cx=\"1598.75\" cy=\"941.172\" r=\"14.4\" fill=\"#000000\" fill-rule=\"evenodd\" fill-opacity=\"1\" stroke=\"none\"/>\n",
       "<circle clip-path=\"url(#clip492)\" cx=\"1639.57\" cy=\"1030.29\" r=\"14.4\" fill=\"#000000\" fill-rule=\"evenodd\" fill-opacity=\"1\" stroke=\"none\"/>\n",
       "<circle clip-path=\"url(#clip492)\" cx=\"1680.39\" cy=\"923.222\" r=\"14.4\" fill=\"#000000\" fill-rule=\"evenodd\" fill-opacity=\"1\" stroke=\"none\"/>\n",
       "<circle clip-path=\"url(#clip492)\" cx=\"1721.22\" cy=\"985.213\" r=\"14.4\" fill=\"#000000\" fill-rule=\"evenodd\" fill-opacity=\"1\" stroke=\"none\"/>\n",
       "<circle clip-path=\"url(#clip492)\" cx=\"1762.04\" cy=\"966.784\" r=\"14.4\" fill=\"#000000\" fill-rule=\"evenodd\" fill-opacity=\"1\" stroke=\"none\"/>\n",
       "<circle clip-path=\"url(#clip492)\" cx=\"1802.86\" cy=\"842.969\" r=\"14.4\" fill=\"#000000\" fill-rule=\"evenodd\" fill-opacity=\"1\" stroke=\"none\"/>\n",
       "<circle clip-path=\"url(#clip492)\" cx=\"1843.69\" cy=\"801.991\" r=\"14.4\" fill=\"#000000\" fill-rule=\"evenodd\" fill-opacity=\"1\" stroke=\"none\"/>\n",
       "<circle clip-path=\"url(#clip492)\" cx=\"1884.51\" cy=\"794.152\" r=\"14.4\" fill=\"#000000\" fill-rule=\"evenodd\" fill-opacity=\"1\" stroke=\"none\"/>\n",
       "<circle clip-path=\"url(#clip492)\" cx=\"1925.34\" cy=\"854.884\" r=\"14.4\" fill=\"#000000\" fill-rule=\"evenodd\" fill-opacity=\"1\" stroke=\"none\"/>\n",
       "<circle clip-path=\"url(#clip492)\" cx=\"1966.16\" cy=\"764.632\" r=\"14.4\" fill=\"#000000\" fill-rule=\"evenodd\" fill-opacity=\"1\" stroke=\"none\"/>\n",
       "<circle clip-path=\"url(#clip492)\" cx=\"2006.98\" cy=\"805.699\" r=\"14.4\" fill=\"#000000\" fill-rule=\"evenodd\" fill-opacity=\"1\" stroke=\"none\"/>\n",
       "<circle clip-path=\"url(#clip492)\" cx=\"2047.81\" cy=\"764.064\" r=\"14.4\" fill=\"#000000\" fill-rule=\"evenodd\" fill-opacity=\"1\" stroke=\"none\"/>\n",
       "<circle clip-path=\"url(#clip492)\" cx=\"2088.63\" cy=\"618.469\" r=\"14.4\" fill=\"#000000\" fill-rule=\"evenodd\" fill-opacity=\"1\" stroke=\"none\"/>\n",
       "<circle clip-path=\"url(#clip492)\" cx=\"2129.45\" cy=\"687.72\" r=\"14.4\" fill=\"#000000\" fill-rule=\"evenodd\" fill-opacity=\"1\" stroke=\"none\"/>\n",
       "<circle clip-path=\"url(#clip492)\" cx=\"2170.28\" cy=\"691.494\" r=\"14.4\" fill=\"#000000\" fill-rule=\"evenodd\" fill-opacity=\"1\" stroke=\"none\"/>\n",
       "<circle clip-path=\"url(#clip492)\" cx=\"2211.1\" cy=\"641.909\" r=\"14.4\" fill=\"#000000\" fill-rule=\"evenodd\" fill-opacity=\"1\" stroke=\"none\"/>\n",
       "<circle clip-path=\"url(#clip492)\" cx=\"2251.92\" cy=\"620.751\" r=\"14.4\" fill=\"#000000\" fill-rule=\"evenodd\" fill-opacity=\"1\" stroke=\"none\"/>\n",
       "<circle clip-path=\"url(#clip492)\" cx=\"2292.75\" cy=\"647.933\" r=\"14.4\" fill=\"#000000\" fill-rule=\"evenodd\" fill-opacity=\"1\" stroke=\"none\"/>\n",
       "<polyline clip-path=\"url(#clip492)\" style=\"stroke:#000000; stroke-linecap:round; stroke-linejoin:round; stroke-width:4; stroke-opacity:1; fill:none\" stroke-dasharray=\"16, 8, 2, 8\" points=\"292.4,1364.86 333.223,1350.25 374.046,1331.55 414.87,1297.24 455.693,1237.71 496.517,1282.69 537.34,1256.91 578.163,1234.69 618.987,1216.86 659.81,1192.29 700.634,1154.38 741.457,1146.43 782.28,1122.4 823.104,1083.45 863.927,1097.18 904.75,1006.3 945.574,1014.09 986.397,811.812 1027.22,981.059 1068.04,922.676 1108.87,869.427 1149.69,735.468 1190.51,861.365 1231.34,782.137 1272.16,803.483 1312.98,657.899 1353.81,610.44 1394.63,717.573 1435.45,923.556 1476.28,466.214 1517.1,625.361 1557.92,635.417 1598.75,613.68 1639.57,652.71 1680.39,485.467 1721.22,497.427 1762.04,325.285 1802.86,583.804 1843.69,776.29 1884.51,433.476 1925.34,519.597 1966.16,634.526 2006.98,471.905 2047.81,450.113 2088.63,386.017 2129.45,544.986 2170.28,248.183 2211.1,86.1857 2251.92,638.178 2292.75,286.678 \"/>\n",
       "<path clip-path=\"url(#clip492)\" d=\"M280.4 1352.86 L280.4 1376.86 L304.4 1376.86 L304.4 1352.86 L280.4 1352.86 Z\" fill=\"#000000\" fill-rule=\"evenodd\" fill-opacity=\"1\" stroke=\"none\"/>\n",
       "<path clip-path=\"url(#clip492)\" d=\"M321.223 1338.25 L321.223 1362.25 L345.223 1362.25 L345.223 1338.25 L321.223 1338.25 Z\" fill=\"#000000\" fill-rule=\"evenodd\" fill-opacity=\"1\" stroke=\"none\"/>\n",
       "<path clip-path=\"url(#clip492)\" d=\"M362.046 1319.55 L362.046 1343.55 L386.046 1343.55 L386.046 1319.55 L362.046 1319.55 Z\" fill=\"#000000\" fill-rule=\"evenodd\" fill-opacity=\"1\" stroke=\"none\"/>\n",
       "<path clip-path=\"url(#clip492)\" d=\"M402.87 1285.24 L402.87 1309.24 L426.87 1309.24 L426.87 1285.24 L402.87 1285.24 Z\" fill=\"#000000\" fill-rule=\"evenodd\" fill-opacity=\"1\" stroke=\"none\"/>\n",
       "<path clip-path=\"url(#clip492)\" d=\"M443.693 1225.71 L443.693 1249.71 L467.693 1249.71 L467.693 1225.71 L443.693 1225.71 Z\" fill=\"#000000\" fill-rule=\"evenodd\" fill-opacity=\"1\" stroke=\"none\"/>\n",
       "<path clip-path=\"url(#clip492)\" d=\"M484.517 1270.69 L484.517 1294.69 L508.517 1294.69 L508.517 1270.69 L484.517 1270.69 Z\" fill=\"#000000\" fill-rule=\"evenodd\" fill-opacity=\"1\" stroke=\"none\"/>\n",
       "<path clip-path=\"url(#clip492)\" d=\"M525.34 1244.91 L525.34 1268.91 L549.34 1268.91 L549.34 1244.91 L525.34 1244.91 Z\" fill=\"#000000\" fill-rule=\"evenodd\" fill-opacity=\"1\" stroke=\"none\"/>\n",
       "<path clip-path=\"url(#clip492)\" d=\"M566.163 1222.69 L566.163 1246.69 L590.163 1246.69 L590.163 1222.69 L566.163 1222.69 Z\" fill=\"#000000\" fill-rule=\"evenodd\" fill-opacity=\"1\" stroke=\"none\"/>\n",
       "<path clip-path=\"url(#clip492)\" d=\"M606.987 1204.86 L606.987 1228.86 L630.987 1228.86 L630.987 1204.86 L606.987 1204.86 Z\" fill=\"#000000\" fill-rule=\"evenodd\" fill-opacity=\"1\" stroke=\"none\"/>\n",
       "<path clip-path=\"url(#clip492)\" d=\"M647.81 1180.29 L647.81 1204.29 L671.81 1204.29 L671.81 1180.29 L647.81 1180.29 Z\" fill=\"#000000\" fill-rule=\"evenodd\" fill-opacity=\"1\" stroke=\"none\"/>\n",
       "<path clip-path=\"url(#clip492)\" d=\"M688.634 1142.38 L688.634 1166.38 L712.634 1166.38 L712.634 1142.38 L688.634 1142.38 Z\" fill=\"#000000\" fill-rule=\"evenodd\" fill-opacity=\"1\" stroke=\"none\"/>\n",
       "<path clip-path=\"url(#clip492)\" d=\"M729.457 1134.43 L729.457 1158.43 L753.457 1158.43 L753.457 1134.43 L729.457 1134.43 Z\" fill=\"#000000\" fill-rule=\"evenodd\" fill-opacity=\"1\" stroke=\"none\"/>\n",
       "<path clip-path=\"url(#clip492)\" d=\"M770.28 1110.4 L770.28 1134.4 L794.28 1134.4 L794.28 1110.4 L770.28 1110.4 Z\" fill=\"#000000\" fill-rule=\"evenodd\" fill-opacity=\"1\" stroke=\"none\"/>\n",
       "<path clip-path=\"url(#clip492)\" d=\"M811.104 1071.45 L811.104 1095.45 L835.104 1095.45 L835.104 1071.45 L811.104 1071.45 Z\" fill=\"#000000\" fill-rule=\"evenodd\" fill-opacity=\"1\" stroke=\"none\"/>\n",
       "<path clip-path=\"url(#clip492)\" d=\"M851.927 1085.18 L851.927 1109.18 L875.927 1109.18 L875.927 1085.18 L851.927 1085.18 Z\" fill=\"#000000\" fill-rule=\"evenodd\" fill-opacity=\"1\" stroke=\"none\"/>\n",
       "<path clip-path=\"url(#clip492)\" d=\"M892.75 994.303 L892.75 1018.3 L916.75 1018.3 L916.75 994.303 L892.75 994.303 Z\" fill=\"#000000\" fill-rule=\"evenodd\" fill-opacity=\"1\" stroke=\"none\"/>\n",
       "<path clip-path=\"url(#clip492)\" d=\"M933.574 1002.09 L933.574 1026.09 L957.574 1026.09 L957.574 1002.09 L933.574 1002.09 Z\" fill=\"#000000\" fill-rule=\"evenodd\" fill-opacity=\"1\" stroke=\"none\"/>\n",
       "<path clip-path=\"url(#clip492)\" d=\"M974.397 799.812 L974.397 823.812 L998.397 823.812 L998.397 799.812 L974.397 799.812 Z\" fill=\"#000000\" fill-rule=\"evenodd\" fill-opacity=\"1\" stroke=\"none\"/>\n",
       "<path clip-path=\"url(#clip492)\" d=\"M1015.22 969.059 L1015.22 993.059 L1039.22 993.059 L1039.22 969.059 L1015.22 969.059 Z\" fill=\"#000000\" fill-rule=\"evenodd\" fill-opacity=\"1\" stroke=\"none\"/>\n",
       "<path clip-path=\"url(#clip492)\" d=\"M1056.04 910.676 L1056.04 934.676 L1080.04 934.676 L1080.04 910.676 L1056.04 910.676 Z\" fill=\"#000000\" fill-rule=\"evenodd\" fill-opacity=\"1\" stroke=\"none\"/>\n",
       "<path clip-path=\"url(#clip492)\" d=\"M1096.87 857.427 L1096.87 881.427 L1120.87 881.427 L1120.87 857.427 L1096.87 857.427 Z\" fill=\"#000000\" fill-rule=\"evenodd\" fill-opacity=\"1\" stroke=\"none\"/>\n",
       "<path clip-path=\"url(#clip492)\" d=\"M1137.69 723.468 L1137.69 747.468 L1161.69 747.468 L1161.69 723.468 L1137.69 723.468 Z\" fill=\"#000000\" fill-rule=\"evenodd\" fill-opacity=\"1\" stroke=\"none\"/>\n",
       "<path clip-path=\"url(#clip492)\" d=\"M1178.51 849.365 L1178.51 873.365 L1202.51 873.365 L1202.51 849.365 L1178.51 849.365 Z\" fill=\"#000000\" fill-rule=\"evenodd\" fill-opacity=\"1\" stroke=\"none\"/>\n",
       "<path clip-path=\"url(#clip492)\" d=\"M1219.34 770.137 L1219.34 794.137 L1243.34 794.137 L1243.34 770.137 L1219.34 770.137 Z\" fill=\"#000000\" fill-rule=\"evenodd\" fill-opacity=\"1\" stroke=\"none\"/>\n",
       "<path clip-path=\"url(#clip492)\" d=\"M1260.16 791.483 L1260.16 815.483 L1284.16 815.483 L1284.16 791.483 L1260.16 791.483 Z\" fill=\"#000000\" fill-rule=\"evenodd\" fill-opacity=\"1\" stroke=\"none\"/>\n",
       "<path clip-path=\"url(#clip492)\" d=\"M1300.98 645.899 L1300.98 669.899 L1324.98 669.899 L1324.98 645.899 L1300.98 645.899 Z\" fill=\"#000000\" fill-rule=\"evenodd\" fill-opacity=\"1\" stroke=\"none\"/>\n",
       "<path clip-path=\"url(#clip492)\" d=\"M1341.81 598.44 L1341.81 622.44 L1365.81 622.44 L1365.81 598.44 L1341.81 598.44 Z\" fill=\"#000000\" fill-rule=\"evenodd\" fill-opacity=\"1\" stroke=\"none\"/>\n",
       "<path clip-path=\"url(#clip492)\" d=\"M1382.63 705.573 L1382.63 729.573 L1406.63 729.573 L1406.63 705.573 L1382.63 705.573 Z\" fill=\"#000000\" fill-rule=\"evenodd\" fill-opacity=\"1\" stroke=\"none\"/>\n",
       "<path clip-path=\"url(#clip492)\" d=\"M1423.45 911.556 L1423.45 935.556 L1447.45 935.556 L1447.45 911.556 L1423.45 911.556 Z\" fill=\"#000000\" fill-rule=\"evenodd\" fill-opacity=\"1\" stroke=\"none\"/>\n",
       "<path clip-path=\"url(#clip492)\" d=\"M1464.28 454.214 L1464.28 478.214 L1488.28 478.214 L1488.28 454.214 L1464.28 454.214 Z\" fill=\"#000000\" fill-rule=\"evenodd\" fill-opacity=\"1\" stroke=\"none\"/>\n",
       "<path clip-path=\"url(#clip492)\" d=\"M1505.1 613.361 L1505.1 637.361 L1529.1 637.361 L1529.1 613.361 L1505.1 613.361 Z\" fill=\"#000000\" fill-rule=\"evenodd\" fill-opacity=\"1\" stroke=\"none\"/>\n",
       "<path clip-path=\"url(#clip492)\" d=\"M1545.92 623.417 L1545.92 647.417 L1569.92 647.417 L1569.92 623.417 L1545.92 623.417 Z\" fill=\"#000000\" fill-rule=\"evenodd\" fill-opacity=\"1\" stroke=\"none\"/>\n",
       "<path clip-path=\"url(#clip492)\" d=\"M1586.75 601.68 L1586.75 625.68 L1610.75 625.68 L1610.75 601.68 L1586.75 601.68 Z\" fill=\"#000000\" fill-rule=\"evenodd\" fill-opacity=\"1\" stroke=\"none\"/>\n",
       "<path clip-path=\"url(#clip492)\" d=\"M1627.57 640.71 L1627.57 664.71 L1651.57 664.71 L1651.57 640.71 L1627.57 640.71 Z\" fill=\"#000000\" fill-rule=\"evenodd\" fill-opacity=\"1\" stroke=\"none\"/>\n",
       "<path clip-path=\"url(#clip492)\" d=\"M1668.39 473.467 L1668.39 497.467 L1692.39 497.467 L1692.39 473.467 L1668.39 473.467 Z\" fill=\"#000000\" fill-rule=\"evenodd\" fill-opacity=\"1\" stroke=\"none\"/>\n",
       "<path clip-path=\"url(#clip492)\" d=\"M1709.22 485.427 L1709.22 509.427 L1733.22 509.427 L1733.22 485.427 L1709.22 485.427 Z\" fill=\"#000000\" fill-rule=\"evenodd\" fill-opacity=\"1\" stroke=\"none\"/>\n",
       "<path clip-path=\"url(#clip492)\" d=\"M1750.04 313.285 L1750.04 337.285 L1774.04 337.285 L1774.04 313.285 L1750.04 313.285 Z\" fill=\"#000000\" fill-rule=\"evenodd\" fill-opacity=\"1\" stroke=\"none\"/>\n",
       "<path clip-path=\"url(#clip492)\" d=\"M1790.86 571.804 L1790.86 595.804 L1814.86 595.804 L1814.86 571.804 L1790.86 571.804 Z\" fill=\"#000000\" fill-rule=\"evenodd\" fill-opacity=\"1\" stroke=\"none\"/>\n",
       "<path clip-path=\"url(#clip492)\" d=\"M1831.69 764.29 L1831.69 788.29 L1855.69 788.29 L1855.69 764.29 L1831.69 764.29 Z\" fill=\"#000000\" fill-rule=\"evenodd\" fill-opacity=\"1\" stroke=\"none\"/>\n",
       "<path clip-path=\"url(#clip492)\" d=\"M1872.51 421.476 L1872.51 445.476 L1896.51 445.476 L1896.51 421.476 L1872.51 421.476 Z\" fill=\"#000000\" fill-rule=\"evenodd\" fill-opacity=\"1\" stroke=\"none\"/>\n",
       "<path clip-path=\"url(#clip492)\" d=\"M1913.34 507.597 L1913.34 531.597 L1937.34 531.597 L1937.34 507.597 L1913.34 507.597 Z\" fill=\"#000000\" fill-rule=\"evenodd\" fill-opacity=\"1\" stroke=\"none\"/>\n",
       "<path clip-path=\"url(#clip492)\" d=\"M1954.16 622.526 L1954.16 646.526 L1978.16 646.526 L1978.16 622.526 L1954.16 622.526 Z\" fill=\"#000000\" fill-rule=\"evenodd\" fill-opacity=\"1\" stroke=\"none\"/>\n",
       "<path clip-path=\"url(#clip492)\" d=\"M1994.98 459.905 L1994.98 483.905 L2018.98 483.905 L2018.98 459.905 L1994.98 459.905 Z\" fill=\"#000000\" fill-rule=\"evenodd\" fill-opacity=\"1\" stroke=\"none\"/>\n",
       "<path clip-path=\"url(#clip492)\" d=\"M2035.81 438.113 L2035.81 462.113 L2059.81 462.113 L2059.81 438.113 L2035.81 438.113 Z\" fill=\"#000000\" fill-rule=\"evenodd\" fill-opacity=\"1\" stroke=\"none\"/>\n",
       "<path clip-path=\"url(#clip492)\" d=\"M2076.63 374.017 L2076.63 398.017 L2100.63 398.017 L2100.63 374.017 L2076.63 374.017 Z\" fill=\"#000000\" fill-rule=\"evenodd\" fill-opacity=\"1\" stroke=\"none\"/>\n",
       "<path clip-path=\"url(#clip492)\" d=\"M2117.45 532.986 L2117.45 556.986 L2141.45 556.986 L2141.45 532.986 L2117.45 532.986 Z\" fill=\"#000000\" fill-rule=\"evenodd\" fill-opacity=\"1\" stroke=\"none\"/>\n",
       "<path clip-path=\"url(#clip492)\" d=\"M2158.28 236.183 L2158.28 260.183 L2182.28 260.183 L2182.28 236.183 L2158.28 236.183 Z\" fill=\"#000000\" fill-rule=\"evenodd\" fill-opacity=\"1\" stroke=\"none\"/>\n",
       "<path clip-path=\"url(#clip492)\" d=\"M2199.1 74.1857 L2199.1 98.1857 L2223.1 98.1857 L2223.1 74.1857 L2199.1 74.1857 Z\" fill=\"#000000\" fill-rule=\"evenodd\" fill-opacity=\"1\" stroke=\"none\"/>\n",
       "<path clip-path=\"url(#clip492)\" d=\"M2239.92 626.178 L2239.92 650.178 L2263.92 650.178 L2263.92 626.178 L2239.92 626.178 Z\" fill=\"#000000\" fill-rule=\"evenodd\" fill-opacity=\"1\" stroke=\"none\"/>\n",
       "<path clip-path=\"url(#clip492)\" d=\"M2280.75 274.678 L2280.75 298.678 L2304.75 298.678 L2304.75 274.678 L2280.75 274.678 Z\" fill=\"#000000\" fill-rule=\"evenodd\" fill-opacity=\"1\" stroke=\"none\"/>\n",
       "<path clip-path=\"url(#clip490)\" d=\"M303.068 248.629 L811.747 248.629 L811.747 93.1086 L303.068 93.1086  Z\" fill=\"#ffffff\" fill-rule=\"evenodd\" fill-opacity=\"1\"/>\n",
       "<polyline clip-path=\"url(#clip490)\" style=\"stroke:#000000; stroke-linecap:round; stroke-linejoin:round; stroke-width:4; stroke-opacity:1; fill:none\" points=\"303.068,248.629 811.747,248.629 811.747,93.1086 303.068,93.1086 303.068,248.629 \"/>\n",
       "<polyline clip-path=\"url(#clip490)\" style=\"stroke:#000000; stroke-linecap:round; stroke-linejoin:round; stroke-width:4; stroke-opacity:1; fill:none\" points=\"326.628,144.949 467.986,144.949 \"/>\n",
       "<circle clip-path=\"url(#clip490)\" cx=\"397.307\" cy=\"144.949\" r=\"19.633\" fill=\"#000000\" fill-rule=\"evenodd\" fill-opacity=\"1\" stroke=\"none\"/>\n",
       "<path clip-path=\"url(#clip490)\" d=\"M511.892 141.28 Q513.49 138.409 515.712 137.044 Q517.934 135.678 520.943 135.678 Q524.994 135.678 527.193 138.525 Q529.392 141.349 529.392 146.581 L529.392 162.229 L525.11 162.229 L525.11 146.719 Q525.11 142.993 523.79 141.187 Q522.471 139.382 519.763 139.382 Q516.453 139.382 514.531 141.581 Q512.61 143.78 512.61 147.576 L512.61 162.229 L508.328 162.229 L508.328 146.719 Q508.328 142.969 507.008 141.187 Q505.689 139.382 502.934 139.382 Q499.67 139.382 497.749 141.604 Q495.828 143.803 495.828 147.576 L495.828 162.229 L491.545 162.229 L491.545 136.303 L495.828 136.303 L495.828 140.331 Q497.286 137.946 499.323 136.812 Q501.36 135.678 504.161 135.678 Q506.985 135.678 508.953 137.113 Q510.943 138.548 511.892 141.28 Z\" fill=\"#000000\" fill-rule=\"evenodd\" fill-opacity=\"1\" /><path clip-path=\"url(#clip490)\" d=\"M547.934 139.289 Q544.508 139.289 542.517 141.974 Q540.526 144.636 540.526 149.289 Q540.526 153.942 542.494 156.627 Q544.485 159.289 547.934 159.289 Q551.337 159.289 553.327 156.604 Q555.318 153.918 555.318 149.289 Q555.318 144.682 553.327 141.997 Q551.337 139.289 547.934 139.289 M547.934 135.678 Q553.489 135.678 556.661 139.289 Q559.832 142.9 559.832 149.289 Q559.832 155.655 556.661 159.289 Q553.489 162.9 547.934 162.9 Q542.355 162.9 539.184 159.289 Q536.036 155.655 536.036 149.289 Q536.036 142.9 539.184 139.289 Q542.355 135.678 547.934 135.678 Z\" fill=\"#000000\" fill-rule=\"evenodd\" fill-opacity=\"1\" /><path clip-path=\"url(#clip490)\" d=\"M588.443 146.581 L588.443 162.229 L584.184 162.229 L584.184 146.719 Q584.184 143.039 582.748 141.21 Q581.313 139.382 578.443 139.382 Q574.994 139.382 573.003 141.581 Q571.012 143.78 571.012 147.576 L571.012 162.229 L566.73 162.229 L566.73 136.303 L571.012 136.303 L571.012 140.331 Q572.54 137.993 574.6 136.835 Q576.684 135.678 579.392 135.678 Q583.86 135.678 586.151 138.456 Q588.443 141.21 588.443 146.581 Z\" fill=\"#000000\" fill-rule=\"evenodd\" fill-opacity=\"1\" /><path clip-path=\"url(#clip490)\" d=\"M606.984 139.289 Q603.559 139.289 601.568 141.974 Q599.577 144.636 599.577 149.289 Q599.577 153.942 601.545 156.627 Q603.535 159.289 606.984 159.289 Q610.387 159.289 612.378 156.604 Q614.369 153.918 614.369 149.289 Q614.369 144.682 612.378 141.997 Q610.387 139.289 606.984 139.289 M606.984 135.678 Q612.54 135.678 615.711 139.289 Q618.883 142.9 618.883 149.289 Q618.883 155.655 615.711 159.289 Q612.54 162.9 606.984 162.9 Q601.406 162.9 598.235 159.289 Q595.086 155.655 595.086 149.289 Q595.086 142.9 598.235 139.289 Q601.406 135.678 606.984 135.678 Z\" fill=\"#000000\" fill-rule=\"evenodd\" fill-opacity=\"1\" /><path clip-path=\"url(#clip490)\" d=\"M625.943 126.21 L630.202 126.21 L630.202 162.229 L625.943 162.229 L625.943 126.21 Z\" fill=\"#000000\" fill-rule=\"evenodd\" fill-opacity=\"1\" /><path clip-path=\"url(#clip490)\" d=\"M639.114 136.303 L643.373 136.303 L643.373 162.229 L639.114 162.229 L639.114 136.303 M639.114 126.21 L643.373 126.21 L643.373 131.604 L639.114 131.604 L639.114 126.21 Z\" fill=\"#000000\" fill-rule=\"evenodd\" fill-opacity=\"1\" /><path clip-path=\"url(#clip490)\" d=\"M656.498 128.942 L656.498 136.303 L665.271 136.303 L665.271 139.613 L656.498 139.613 L656.498 153.687 Q656.498 156.858 657.355 157.761 Q658.234 158.664 660.896 158.664 L665.271 158.664 L665.271 162.229 L660.896 162.229 Q655.966 162.229 654.091 160.4 Q652.216 158.548 652.216 153.687 L652.216 139.613 L649.091 139.613 L649.091 136.303 L652.216 136.303 L652.216 128.942 L656.498 128.942 Z\" fill=\"#000000\" fill-rule=\"evenodd\" fill-opacity=\"1\" /><path clip-path=\"url(#clip490)\" d=\"M692.424 146.581 L692.424 162.229 L688.165 162.229 L688.165 146.719 Q688.165 143.039 686.729 141.21 Q685.294 139.382 682.424 139.382 Q678.975 139.382 676.984 141.581 Q674.993 143.78 674.993 147.576 L674.993 162.229 L670.711 162.229 L670.711 126.21 L674.993 126.21 L674.993 140.331 Q676.521 137.993 678.581 136.835 Q680.665 135.678 683.373 135.678 Q687.841 135.678 690.132 138.456 Q692.424 141.21 692.424 146.581 Z\" fill=\"#000000\" fill-rule=\"evenodd\" fill-opacity=\"1\" /><path clip-path=\"url(#clip490)\" d=\"M700.919 136.303 L705.178 136.303 L705.178 162.229 L700.919 162.229 L700.919 136.303 M700.919 126.21 L705.178 126.21 L705.178 131.604 L700.919 131.604 L700.919 126.21 Z\" fill=\"#000000\" fill-rule=\"evenodd\" fill-opacity=\"1\" /><path clip-path=\"url(#clip490)\" d=\"M732.748 137.298 L732.748 141.28 Q730.942 140.284 729.113 139.798 Q727.308 139.289 725.456 139.289 Q721.313 139.289 719.021 141.928 Q716.729 144.544 716.729 149.289 Q716.729 154.034 719.021 156.673 Q721.313 159.289 725.456 159.289 Q727.308 159.289 729.113 158.803 Q730.942 158.293 732.748 157.298 L732.748 161.233 Q730.965 162.067 729.044 162.483 Q727.146 162.9 724.993 162.9 Q719.137 162.9 715.688 159.219 Q712.239 155.539 712.239 149.289 Q712.239 142.946 715.711 139.312 Q719.206 135.678 725.271 135.678 Q727.238 135.678 729.113 136.095 Q730.988 136.488 732.748 137.298 Z\" fill=\"#000000\" fill-rule=\"evenodd\" fill-opacity=\"1\" /><polyline clip-path=\"url(#clip490)\" style=\"stroke:#000000; stroke-linecap:round; stroke-linejoin:round; stroke-width:4; stroke-opacity:1; fill:none\" stroke-dasharray=\"16, 8, 2, 8\" points=\"326.628,196.789 467.986,196.789 \"/>\n",
       "<path clip-path=\"url(#clip490)\" d=\"M375.492 174.974 L375.492 218.603 L419.121 218.603 L419.121 174.974 L375.492 174.974 Z\" fill=\"#000000\" fill-rule=\"evenodd\" fill-opacity=\"1\" stroke=\"none\"/>\n",
       "<path clip-path=\"url(#clip490)\" d=\"M510.457 192.078 L510.457 178.05 L514.716 178.05 L514.716 214.069 L510.457 214.069 L510.457 210.18 Q509.115 212.495 507.054 213.629 Q505.017 214.74 502.147 214.74 Q497.448 214.74 494.485 210.99 Q491.545 207.24 491.545 201.129 Q491.545 195.018 494.485 191.268 Q497.448 187.518 502.147 187.518 Q505.017 187.518 507.054 188.652 Q509.115 189.763 510.457 192.078 M495.943 201.129 Q495.943 205.828 497.865 208.513 Q499.809 211.175 503.189 211.175 Q506.568 211.175 508.513 208.513 Q510.457 205.828 510.457 201.129 Q510.457 196.43 508.513 193.768 Q506.568 191.083 503.189 191.083 Q499.809 191.083 497.865 193.768 Q495.943 196.43 495.943 201.129 Z\" fill=\"#000000\" fill-rule=\"evenodd\" fill-opacity=\"1\" /><path clip-path=\"url(#clip490)\" d=\"M545.665 200.041 L545.665 202.124 L526.082 202.124 Q526.36 206.522 528.721 208.837 Q531.105 211.129 535.341 211.129 Q537.795 211.129 540.087 210.527 Q542.401 209.925 544.67 208.721 L544.67 212.749 Q542.378 213.721 539.971 214.231 Q537.564 214.74 535.087 214.74 Q528.883 214.74 525.249 211.129 Q521.638 207.518 521.638 201.36 Q521.638 194.995 525.064 191.268 Q528.513 187.518 534.346 187.518 Q539.577 187.518 542.61 190.897 Q545.665 194.254 545.665 200.041 M541.406 198.791 Q541.36 195.296 539.439 193.212 Q537.54 191.129 534.392 191.129 Q530.827 191.129 528.675 193.143 Q526.545 195.157 526.221 198.814 L541.406 198.791 Z\" fill=\"#000000\" fill-rule=\"evenodd\" fill-opacity=\"1\" /><path clip-path=\"url(#clip490)\" d=\"M571.313 189.138 L571.313 193.12 Q569.508 192.124 567.679 191.638 Q565.874 191.129 564.022 191.129 Q559.878 191.129 557.587 193.768 Q555.295 196.384 555.295 201.129 Q555.295 205.874 557.587 208.513 Q559.878 211.129 564.022 211.129 Q565.874 211.129 567.679 210.643 Q569.508 210.133 571.313 209.138 L571.313 213.073 Q569.531 213.907 567.61 214.323 Q565.712 214.74 563.559 214.74 Q557.702 214.74 554.253 211.059 Q550.804 207.379 550.804 201.129 Q550.804 194.786 554.276 191.152 Q557.772 187.518 563.837 187.518 Q565.804 187.518 567.679 187.935 Q569.554 188.328 571.313 189.138 Z\" fill=\"#000000\" fill-rule=\"evenodd\" fill-opacity=\"1\" /><path clip-path=\"url(#clip490)\" d=\"M588.767 191.129 Q585.341 191.129 583.35 193.814 Q581.36 196.476 581.36 201.129 Q581.36 205.782 583.327 208.467 Q585.318 211.129 588.767 211.129 Q592.17 211.129 594.16 208.444 Q596.151 205.758 596.151 201.129 Q596.151 196.522 594.16 193.837 Q592.17 191.129 588.767 191.129 M588.767 187.518 Q594.322 187.518 597.494 191.129 Q600.665 194.74 600.665 201.129 Q600.665 207.495 597.494 211.129 Q594.322 214.74 588.767 214.74 Q583.188 214.74 580.017 211.129 Q576.869 207.495 576.869 201.129 Q576.869 194.74 580.017 191.129 Q583.188 187.518 588.767 187.518 Z\" fill=\"#000000\" fill-rule=\"evenodd\" fill-opacity=\"1\" /><path clip-path=\"url(#clip490)\" d=\"M627.91 193.12 Q629.507 190.249 631.73 188.884 Q633.952 187.518 636.961 187.518 Q641.012 187.518 643.211 190.365 Q645.41 193.189 645.41 198.421 L645.41 214.069 L641.128 214.069 L641.128 198.559 Q641.128 194.833 639.808 193.027 Q638.489 191.222 635.781 191.222 Q632.47 191.222 630.549 193.421 Q628.628 195.62 628.628 199.416 L628.628 214.069 L624.345 214.069 L624.345 198.559 Q624.345 194.809 623.026 193.027 Q621.707 191.222 618.952 191.222 Q615.688 191.222 613.767 193.444 Q611.846 195.643 611.846 199.416 L611.846 214.069 L607.563 214.069 L607.563 188.143 L611.846 188.143 L611.846 192.171 Q613.304 189.786 615.341 188.652 Q617.378 187.518 620.179 187.518 Q623.003 187.518 624.97 188.953 Q626.961 190.388 627.91 193.12 Z\" fill=\"#000000\" fill-rule=\"evenodd\" fill-opacity=\"1\" /><path clip-path=\"url(#clip490)\" d=\"M658.026 210.18 L658.026 223.93 L653.743 223.93 L653.743 188.143 L658.026 188.143 L658.026 192.078 Q659.368 189.763 661.405 188.652 Q663.466 187.518 666.313 187.518 Q671.035 187.518 673.975 191.268 Q676.938 195.018 676.938 201.129 Q676.938 207.24 673.975 210.99 Q671.035 214.74 666.313 214.74 Q663.466 214.74 661.405 213.629 Q659.368 212.495 658.026 210.18 M672.517 201.129 Q672.517 196.43 670.572 193.768 Q668.651 191.083 665.271 191.083 Q661.892 191.083 659.947 193.768 Q658.026 196.43 658.026 201.129 Q658.026 205.828 659.947 208.513 Q661.892 211.175 665.271 211.175 Q668.651 211.175 670.572 208.513 Q672.517 205.828 672.517 201.129 Z\" fill=\"#000000\" fill-rule=\"evenodd\" fill-opacity=\"1\" /><path clip-path=\"url(#clip490)\" d=\"M694.044 191.129 Q690.618 191.129 688.628 193.814 Q686.637 196.476 686.637 201.129 Q686.637 205.782 688.604 208.467 Q690.595 211.129 694.044 211.129 Q697.447 211.129 699.438 208.444 Q701.428 205.758 701.428 201.129 Q701.428 196.522 699.438 193.837 Q697.447 191.129 694.044 191.129 M694.044 187.518 Q699.6 187.518 702.771 191.129 Q705.942 194.74 705.942 201.129 Q705.942 207.495 702.771 211.129 Q699.6 214.74 694.044 214.74 Q688.466 214.74 685.294 211.129 Q682.146 207.495 682.146 201.129 Q682.146 194.74 685.294 191.129 Q688.466 187.518 694.044 187.518 Z\" fill=\"#000000\" fill-rule=\"evenodd\" fill-opacity=\"1\" /><path clip-path=\"url(#clip490)\" d=\"M729.53 188.907 L729.53 192.934 Q727.725 192.009 725.78 191.546 Q723.836 191.083 721.752 191.083 Q718.581 191.083 716.984 192.055 Q715.41 193.027 715.41 194.971 Q715.41 196.453 716.544 197.309 Q717.678 198.143 721.104 198.907 L722.563 199.231 Q727.1 200.203 728.998 201.985 Q730.919 203.745 730.919 206.916 Q730.919 210.527 728.049 212.633 Q725.201 214.74 720.201 214.74 Q718.118 214.74 715.85 214.323 Q713.604 213.93 711.104 213.12 L711.104 208.721 Q713.465 209.948 715.757 210.573 Q718.049 211.175 720.294 211.175 Q723.303 211.175 724.924 210.157 Q726.544 209.115 726.544 207.24 Q726.544 205.504 725.363 204.578 Q724.206 203.652 720.248 202.796 L718.766 202.448 Q714.808 201.615 713.049 199.902 Q711.289 198.166 711.289 195.157 Q711.289 191.499 713.882 189.509 Q716.475 187.518 721.243 187.518 Q723.604 187.518 725.688 187.865 Q727.771 188.212 729.53 188.907 Z\" fill=\"#000000\" fill-rule=\"evenodd\" fill-opacity=\"1\" /><path clip-path=\"url(#clip490)\" d=\"M759.877 200.041 L759.877 202.124 L740.294 202.124 Q740.572 206.522 742.933 208.837 Q745.317 211.129 749.553 211.129 Q752.007 211.129 754.298 210.527 Q756.613 209.925 758.882 208.721 L758.882 212.749 Q756.59 213.721 754.183 214.231 Q751.775 214.74 749.299 214.74 Q743.095 214.74 739.461 211.129 Q735.85 207.518 735.85 201.36 Q735.85 194.995 739.275 191.268 Q742.724 187.518 748.558 187.518 Q753.789 187.518 756.822 190.897 Q759.877 194.254 759.877 200.041 M755.618 198.791 Q755.572 195.296 753.65 193.212 Q751.752 191.129 748.604 191.129 Q745.039 191.129 742.887 193.143 Q740.757 195.157 740.433 198.814 L755.618 198.791 Z\" fill=\"#000000\" fill-rule=\"evenodd\" fill-opacity=\"1\" /><path clip-path=\"url(#clip490)\" d=\"M783.928 192.078 L783.928 178.05 L788.187 178.05 L788.187 214.069 L783.928 214.069 L783.928 210.18 Q782.585 212.495 780.525 213.629 Q778.488 214.74 775.618 214.74 Q770.919 214.74 767.956 210.99 Q765.016 207.24 765.016 201.129 Q765.016 195.018 767.956 191.268 Q770.919 187.518 775.618 187.518 Q778.488 187.518 780.525 188.652 Q782.585 189.763 783.928 192.078 M769.414 201.129 Q769.414 205.828 771.335 208.513 Q773.28 211.175 776.659 211.175 Q780.039 211.175 781.984 208.513 Q783.928 205.828 783.928 201.129 Q783.928 196.43 781.984 193.768 Q780.039 191.083 776.659 191.083 Q773.28 191.083 771.335 193.768 Q769.414 196.43 769.414 201.129 Z\" fill=\"#000000\" fill-rule=\"evenodd\" fill-opacity=\"1\" /></svg>\n"
      ]
     },
     "metadata": {},
     "output_type": "display_data"
    }
   ],
   "source": [
    "# solution time\n",
    "p1 = plot(1:nScenMax,solTimeTraj_s[1,:],\n",
    "    xlabel=\"# scenarios\",\n",
    "    ylabel=\"sol. time [s]\",\n",
    "    marker=:circle,\n",
    "    markercolor = :black,\n",
    "    linecolor = :black,\n",
    "    label=\"monolithic\")\n",
    "\n",
    "p1 = plot!(1:nScenMax,solTimeTraj_s[2,:],\n",
    "    marker=:square, \n",
    "    markercolor = :black,\n",
    "    linecolor = :black,\n",
    "    markersize = 3,\n",
    "    linestyle = :dashdot,\n",
    "    label=\"decomposed\",\n",
    "    gridlinewidth=2,\n",
    "    dpi=600)\n",
    "\n",
    "display(p1)"
   ]
  },
  {
   "cell_type": "code",
   "execution_count": 17,
   "id": "f9e5bfc5",
   "metadata": {},
   "outputs": [
    {
     "data": {
      "image/svg+xml": [
       "<?xml version=\"1.0\" encoding=\"utf-8\"?>\n",
       "<svg xmlns=\"http://www.w3.org/2000/svg\" xmlns:xlink=\"http://www.w3.org/1999/xlink\" width=\"600\" height=\"400\" viewBox=\"0 0 2400 1600\">\n",
       "<defs>\n",
       "  <clipPath id=\"clip530\">\n",
       "    <rect x=\"0\" y=\"0\" width=\"2400\" height=\"1600\"/>\n",
       "  </clipPath>\n",
       "</defs>\n",
       "<path clip-path=\"url(#clip530)\" d=\"M0 1600 L2400 1600 L2400 0 L0 0  Z\" fill=\"#ffffff\" fill-rule=\"evenodd\" fill-opacity=\"1\"/>\n",
       "<defs>\n",
       "  <clipPath id=\"clip531\">\n",
       "    <rect x=\"480\" y=\"0\" width=\"1681\" height=\"1600\"/>\n",
       "  </clipPath>\n",
       "</defs>\n",
       "<path clip-path=\"url(#clip530)\" d=\"M205.121 1423.18 L2352.76 1423.18 L2352.76 47.2441 L205.121 47.2441  Z\" fill=\"#ffffff\" fill-rule=\"evenodd\" fill-opacity=\"1\"/>\n",
       "<defs>\n",
       "  <clipPath id=\"clip532\">\n",
       "    <rect x=\"205\" y=\"47\" width=\"2149\" height=\"1377\"/>\n",
       "  </clipPath>\n",
       "</defs>\n",
       "<polyline clip-path=\"url(#clip532)\" style=\"stroke:#000000; stroke-linecap:round; stroke-linejoin:round; stroke-width:8; stroke-opacity:0.1; fill:none\" points=\"224.555,1423.18 224.555,47.2441 \"/>\n",
       "<polyline clip-path=\"url(#clip532)\" style=\"stroke:#000000; stroke-linecap:round; stroke-linejoin:round; stroke-width:8; stroke-opacity:0.1; fill:none\" points=\"638.039,1423.18 638.039,47.2441 \"/>\n",
       "<polyline clip-path=\"url(#clip532)\" style=\"stroke:#000000; stroke-linecap:round; stroke-linejoin:round; stroke-width:8; stroke-opacity:0.1; fill:none\" points=\"1051.52,1423.18 1051.52,47.2441 \"/>\n",
       "<polyline clip-path=\"url(#clip532)\" style=\"stroke:#000000; stroke-linecap:round; stroke-linejoin:round; stroke-width:8; stroke-opacity:0.1; fill:none\" points=\"1465.01,1423.18 1465.01,47.2441 \"/>\n",
       "<polyline clip-path=\"url(#clip532)\" style=\"stroke:#000000; stroke-linecap:round; stroke-linejoin:round; stroke-width:8; stroke-opacity:0.1; fill:none\" points=\"1878.49,1423.18 1878.49,47.2441 \"/>\n",
       "<polyline clip-path=\"url(#clip532)\" style=\"stroke:#000000; stroke-linecap:round; stroke-linejoin:round; stroke-width:8; stroke-opacity:0.1; fill:none\" points=\"2291.97,1423.18 2291.97,47.2441 \"/>\n",
       "<polyline clip-path=\"url(#clip530)\" style=\"stroke:#000000; stroke-linecap:round; stroke-linejoin:round; stroke-width:4; stroke-opacity:1; fill:none\" points=\"205.121,1423.18 2352.76,1423.18 \"/>\n",
       "<polyline clip-path=\"url(#clip530)\" style=\"stroke:#000000; stroke-linecap:round; stroke-linejoin:round; stroke-width:4; stroke-opacity:1; fill:none\" points=\"224.555,1423.18 224.555,1404.28 \"/>\n",
       "<polyline clip-path=\"url(#clip530)\" style=\"stroke:#000000; stroke-linecap:round; stroke-linejoin:round; stroke-width:4; stroke-opacity:1; fill:none\" points=\"638.039,1423.18 638.039,1404.28 \"/>\n",
       "<polyline clip-path=\"url(#clip530)\" style=\"stroke:#000000; stroke-linecap:round; stroke-linejoin:round; stroke-width:4; stroke-opacity:1; fill:none\" points=\"1051.52,1423.18 1051.52,1404.28 \"/>\n",
       "<polyline clip-path=\"url(#clip530)\" style=\"stroke:#000000; stroke-linecap:round; stroke-linejoin:round; stroke-width:4; stroke-opacity:1; fill:none\" points=\"1465.01,1423.18 1465.01,1404.28 \"/>\n",
       "<polyline clip-path=\"url(#clip530)\" style=\"stroke:#000000; stroke-linecap:round; stroke-linejoin:round; stroke-width:4; stroke-opacity:1; fill:none\" points=\"1878.49,1423.18 1878.49,1404.28 \"/>\n",
       "<polyline clip-path=\"url(#clip530)\" style=\"stroke:#000000; stroke-linecap:round; stroke-linejoin:round; stroke-width:4; stroke-opacity:1; fill:none\" points=\"2291.97,1423.18 2291.97,1404.28 \"/>\n",
       "<path clip-path=\"url(#clip530)\" d=\"M224.555 1454.1 Q220.944 1454.1 219.115 1457.66 Q217.309 1461.2 217.309 1468.33 Q217.309 1475.44 219.115 1479.01 Q220.944 1482.55 224.555 1482.55 Q228.189 1482.55 229.994 1479.01 Q231.823 1475.44 231.823 1468.33 Q231.823 1461.2 229.994 1457.66 Q228.189 1454.1 224.555 1454.1 M224.555 1450.39 Q230.365 1450.39 233.42 1455 Q236.499 1459.58 236.499 1468.33 Q236.499 1477.06 233.42 1481.67 Q230.365 1486.25 224.555 1486.25 Q218.745 1486.25 215.666 1481.67 Q212.61 1477.06 212.61 1468.33 Q212.61 1459.58 215.666 1455 Q218.745 1450.39 224.555 1450.39 Z\" fill=\"#000000\" fill-rule=\"evenodd\" fill-opacity=\"1\" /><path clip-path=\"url(#clip530)\" d=\"M612.726 1481.64 L620.365 1481.64 L620.365 1455.28 L612.055 1456.95 L612.055 1452.69 L620.319 1451.02 L624.995 1451.02 L624.995 1481.64 L632.633 1481.64 L632.633 1485.58 L612.726 1485.58 L612.726 1481.64 Z\" fill=\"#000000\" fill-rule=\"evenodd\" fill-opacity=\"1\" /><path clip-path=\"url(#clip530)\" d=\"M652.078 1454.1 Q648.467 1454.1 646.638 1457.66 Q644.832 1461.2 644.832 1468.33 Q644.832 1475.44 646.638 1479.01 Q648.467 1482.55 652.078 1482.55 Q655.712 1482.55 657.518 1479.01 Q659.346 1475.44 659.346 1468.33 Q659.346 1461.2 657.518 1457.66 Q655.712 1454.1 652.078 1454.1 M652.078 1450.39 Q657.888 1450.39 660.943 1455 Q664.022 1459.58 664.022 1468.33 Q664.022 1477.06 660.943 1481.67 Q657.888 1486.25 652.078 1486.25 Q646.268 1486.25 643.189 1481.67 Q640.133 1477.06 640.133 1468.33 Q640.133 1459.58 643.189 1455 Q646.268 1450.39 652.078 1450.39 Z\" fill=\"#000000\" fill-rule=\"evenodd\" fill-opacity=\"1\" /><path clip-path=\"url(#clip530)\" d=\"M1030.3 1481.64 L1046.61 1481.64 L1046.61 1485.58 L1024.67 1485.58 L1024.67 1481.64 Q1027.33 1478.89 1031.92 1474.26 Q1036.52 1469.61 1037.7 1468.27 Q1039.95 1465.74 1040.83 1464.01 Q1041.73 1462.25 1041.73 1460.56 Q1041.73 1457.8 1039.79 1456.07 Q1037.87 1454.33 1034.76 1454.33 Q1032.56 1454.33 1030.11 1455.09 Q1027.68 1455.86 1024.9 1457.41 L1024.9 1452.69 Q1027.73 1451.55 1030.18 1450.97 Q1032.63 1450.39 1034.67 1450.39 Q1040.04 1450.39 1043.24 1453.08 Q1046.43 1455.77 1046.43 1460.26 Q1046.43 1462.39 1045.62 1464.31 Q1044.83 1466.2 1042.73 1468.8 Q1042.15 1469.47 1039.05 1472.69 Q1035.94 1475.88 1030.3 1481.64 Z\" fill=\"#000000\" fill-rule=\"evenodd\" fill-opacity=\"1\" /><path clip-path=\"url(#clip530)\" d=\"M1066.43 1454.1 Q1062.82 1454.1 1060.99 1457.66 Q1059.18 1461.2 1059.18 1468.33 Q1059.18 1475.44 1060.99 1479.01 Q1062.82 1482.55 1066.43 1482.55 Q1070.06 1482.55 1071.87 1479.01 Q1073.7 1475.44 1073.7 1468.33 Q1073.7 1461.2 1071.87 1457.66 Q1070.06 1454.1 1066.43 1454.1 M1066.43 1450.39 Q1072.24 1450.39 1075.3 1455 Q1078.37 1459.58 1078.37 1468.33 Q1078.37 1477.06 1075.3 1481.67 Q1072.24 1486.25 1066.43 1486.25 Q1060.62 1486.25 1057.54 1481.67 Q1054.49 1477.06 1054.49 1468.33 Q1054.49 1459.58 1057.54 1455 Q1060.62 1450.39 1066.43 1450.39 Z\" fill=\"#000000\" fill-rule=\"evenodd\" fill-opacity=\"1\" /><path clip-path=\"url(#clip530)\" d=\"M1453.85 1466.95 Q1457.21 1467.66 1459.08 1469.93 Q1460.98 1472.2 1460.98 1475.53 Q1460.98 1480.65 1457.46 1483.45 Q1453.94 1486.25 1447.46 1486.25 Q1445.28 1486.25 1442.97 1485.81 Q1440.68 1485.39 1438.22 1484.54 L1438.22 1480.02 Q1440.17 1481.16 1442.48 1481.74 Q1444.8 1482.32 1447.32 1482.32 Q1451.72 1482.32 1454.01 1480.58 Q1456.33 1478.84 1456.33 1475.53 Q1456.33 1472.48 1454.17 1470.77 Q1452.04 1469.03 1448.22 1469.03 L1444.2 1469.03 L1444.2 1465.19 L1448.41 1465.19 Q1451.86 1465.19 1453.69 1463.82 Q1455.52 1462.43 1455.52 1459.84 Q1455.52 1457.18 1453.62 1455.77 Q1451.74 1454.33 1448.22 1454.33 Q1446.3 1454.33 1444.1 1454.75 Q1441.9 1455.16 1439.27 1456.04 L1439.27 1451.88 Q1441.93 1451.14 1444.24 1450.77 Q1446.58 1450.39 1448.64 1450.39 Q1453.96 1450.39 1457.07 1452.83 Q1460.17 1455.23 1460.17 1459.35 Q1460.17 1462.22 1458.52 1464.21 Q1456.88 1466.18 1453.85 1466.95 Z\" fill=\"#000000\" fill-rule=\"evenodd\" fill-opacity=\"1\" /><path clip-path=\"url(#clip530)\" d=\"M1479.84 1454.1 Q1476.23 1454.1 1474.4 1457.66 Q1472.6 1461.2 1472.6 1468.33 Q1472.6 1475.44 1474.4 1479.01 Q1476.23 1482.55 1479.84 1482.55 Q1483.48 1482.55 1485.28 1479.01 Q1487.11 1475.44 1487.11 1468.33 Q1487.11 1461.2 1485.28 1457.66 Q1483.48 1454.1 1479.84 1454.1 M1479.84 1450.39 Q1485.65 1450.39 1488.71 1455 Q1491.79 1459.58 1491.79 1468.33 Q1491.79 1477.06 1488.71 1481.67 Q1485.65 1486.25 1479.84 1486.25 Q1474.03 1486.25 1470.96 1481.67 Q1467.9 1477.06 1467.9 1468.33 Q1467.9 1459.58 1470.96 1455 Q1474.03 1450.39 1479.84 1450.39 Z\" fill=\"#000000\" fill-rule=\"evenodd\" fill-opacity=\"1\" /><path clip-path=\"url(#clip530)\" d=\"M1866.66 1455.09 L1854.86 1473.54 L1866.66 1473.54 L1866.66 1455.09 M1865.43 1451.02 L1871.31 1451.02 L1871.31 1473.54 L1876.24 1473.54 L1876.24 1477.43 L1871.31 1477.43 L1871.31 1485.58 L1866.66 1485.58 L1866.66 1477.43 L1851.06 1477.43 L1851.06 1472.92 L1865.43 1451.02 Z\" fill=\"#000000\" fill-rule=\"evenodd\" fill-opacity=\"1\" /><path clip-path=\"url(#clip530)\" d=\"M1893.98 1454.1 Q1890.36 1454.1 1888.54 1457.66 Q1886.73 1461.2 1886.73 1468.33 Q1886.73 1475.44 1888.54 1479.01 Q1890.36 1482.55 1893.98 1482.55 Q1897.61 1482.55 1899.42 1479.01 Q1901.24 1475.44 1901.24 1468.33 Q1901.24 1461.2 1899.42 1457.66 Q1897.61 1454.1 1893.98 1454.1 M1893.98 1450.39 Q1899.79 1450.39 1902.84 1455 Q1905.92 1459.58 1905.92 1468.33 Q1905.92 1477.06 1902.84 1481.67 Q1899.79 1486.25 1893.98 1486.25 Q1888.17 1486.25 1885.09 1481.67 Q1882.03 1477.06 1882.03 1468.33 Q1882.03 1459.58 1885.09 1455 Q1888.17 1450.39 1893.98 1450.39 Z\" fill=\"#000000\" fill-rule=\"evenodd\" fill-opacity=\"1\" /><path clip-path=\"url(#clip530)\" d=\"M2266.67 1451.02 L2285.03 1451.02 L2285.03 1454.96 L2270.96 1454.96 L2270.96 1463.43 Q2271.97 1463.08 2272.99 1462.92 Q2274.01 1462.73 2275.03 1462.73 Q2280.82 1462.73 2284.2 1465.9 Q2287.58 1469.08 2287.58 1474.49 Q2287.58 1480.07 2284.1 1483.17 Q2280.63 1486.25 2274.31 1486.25 Q2272.14 1486.25 2269.87 1485.88 Q2267.62 1485.51 2265.21 1484.77 L2265.21 1480.07 Q2267.3 1481.2 2269.52 1481.76 Q2271.74 1482.32 2274.22 1482.32 Q2278.22 1482.32 2280.56 1480.21 Q2282.9 1478.1 2282.9 1474.49 Q2282.9 1470.88 2280.56 1468.77 Q2278.22 1466.67 2274.22 1466.67 Q2272.34 1466.67 2270.47 1467.08 Q2268.62 1467.5 2266.67 1468.38 L2266.67 1451.02 Z\" fill=\"#000000\" fill-rule=\"evenodd\" fill-opacity=\"1\" /><path clip-path=\"url(#clip530)\" d=\"M2306.79 1454.1 Q2303.18 1454.1 2301.35 1457.66 Q2299.54 1461.2 2299.54 1468.33 Q2299.54 1475.44 2301.35 1479.01 Q2303.18 1482.55 2306.79 1482.55 Q2310.42 1482.55 2312.23 1479.01 Q2314.06 1475.44 2314.06 1468.33 Q2314.06 1461.2 2312.23 1457.66 Q2310.42 1454.1 2306.79 1454.1 M2306.79 1450.39 Q2312.6 1450.39 2315.65 1455 Q2318.73 1459.58 2318.73 1468.33 Q2318.73 1477.06 2315.65 1481.67 Q2312.6 1486.25 2306.79 1486.25 Q2300.98 1486.25 2297.9 1481.67 Q2294.84 1477.06 2294.84 1468.33 Q2294.84 1459.58 2297.9 1455 Q2300.98 1450.39 2306.79 1450.39 Z\" fill=\"#000000\" fill-rule=\"evenodd\" fill-opacity=\"1\" /><path clip-path=\"url(#clip530)\" d=\"M1118.71 1539.37 L1109.45 1539.37 L1106.78 1550 L1116.1 1550 L1118.71 1539.37 M1113.94 1521.26 L1110.63 1534.46 L1119.92 1534.46 L1123.27 1521.26 L1128.36 1521.26 L1125.08 1534.46 L1135.01 1534.46 L1135.01 1539.37 L1123.84 1539.37 L1121.23 1550 L1131.35 1550 L1131.35 1554.87 L1119.99 1554.87 L1116.68 1568.04 L1111.58 1568.04 L1114.86 1554.87 L1105.54 1554.87 L1102.26 1568.04 L1097.13 1568.04 L1100.44 1554.87 L1090.42 1554.87 L1090.42 1550 L1101.62 1550 L1104.3 1539.37 L1094.05 1539.37 L1094.05 1534.46 L1105.54 1534.46 L1108.78 1521.26 L1113.94 1521.26 Z\" fill=\"#000000\" fill-rule=\"evenodd\" fill-opacity=\"1\" /><path clip-path=\"url(#clip530)\" d=\"M1189.6 1533.45 L1189.6 1538.98 Q1187.11 1537.71 1184.44 1537.07 Q1181.77 1536.44 1178.9 1536.44 Q1174.54 1536.44 1172.34 1537.77 Q1170.18 1539.11 1170.18 1541.79 Q1170.18 1543.82 1171.74 1545 Q1173.3 1546.15 1178.01 1547.2 L1180.02 1547.64 Q1186.25 1548.98 1188.86 1551.43 Q1191.51 1553.85 1191.51 1558.21 Q1191.51 1563.17 1187.56 1566.07 Q1183.64 1568.97 1176.77 1568.97 Q1173.9 1568.97 1170.79 1568.39 Q1167.7 1567.85 1164.26 1566.74 L1164.26 1560.69 Q1167.51 1562.38 1170.66 1563.24 Q1173.81 1564.07 1176.9 1564.07 Q1181.03 1564.07 1183.26 1562.66 Q1185.49 1561.23 1185.49 1558.65 Q1185.49 1556.27 1183.87 1554.99 Q1182.28 1553.72 1176.83 1552.54 L1174.8 1552.07 Q1169.35 1550.92 1166.93 1548.56 Q1164.51 1546.18 1164.51 1542.04 Q1164.51 1537.01 1168.08 1534.27 Q1171.64 1531.54 1178.2 1531.54 Q1181.45 1531.54 1184.31 1532.01 Q1187.18 1532.49 1189.6 1533.45 Z\" fill=\"#000000\" fill-rule=\"evenodd\" fill-opacity=\"1\" /><path clip-path=\"url(#clip530)\" d=\"M1226.49 1533.76 L1226.49 1539.24 Q1224 1537.87 1221.49 1537.2 Q1219.01 1536.5 1216.46 1536.5 Q1210.76 1536.5 1207.61 1540.13 Q1204.46 1543.73 1204.46 1550.25 Q1204.46 1556.78 1207.61 1560.4 Q1210.76 1564 1216.46 1564 Q1219.01 1564 1221.49 1563.33 Q1224 1562.63 1226.49 1561.26 L1226.49 1566.68 Q1224.03 1567.82 1221.39 1568.39 Q1218.78 1568.97 1215.82 1568.97 Q1207.77 1568.97 1203.03 1563.91 Q1198.28 1558.85 1198.28 1550.25 Q1198.28 1541.53 1203.06 1536.53 Q1207.87 1531.54 1216.2 1531.54 Q1218.91 1531.54 1221.49 1532.11 Q1224.07 1532.65 1226.49 1533.76 Z\" fill=\"#000000\" fill-rule=\"evenodd\" fill-opacity=\"1\" /><path clip-path=\"url(#clip530)\" d=\"M1267.16 1548.76 L1267.16 1551.62 L1240.23 1551.62 Q1240.62 1557.67 1243.86 1560.85 Q1247.14 1564 1252.97 1564 Q1256.34 1564 1259.49 1563.17 Q1262.67 1562.35 1265.79 1560.69 L1265.79 1566.23 Q1262.64 1567.57 1259.33 1568.27 Q1256.02 1568.97 1252.62 1568.97 Q1244.09 1568.97 1239.09 1564 Q1234.12 1559.04 1234.12 1550.57 Q1234.12 1541.82 1238.83 1536.69 Q1243.58 1531.54 1251.6 1531.54 Q1258.79 1531.54 1262.96 1536.18 Q1267.16 1540.8 1267.16 1548.76 M1261.31 1547.04 Q1261.24 1542.23 1258.6 1539.37 Q1255.99 1536.5 1251.66 1536.5 Q1246.76 1536.5 1243.8 1539.27 Q1240.87 1542.04 1240.43 1547.07 L1261.31 1547.04 Z\" fill=\"#000000\" fill-rule=\"evenodd\" fill-opacity=\"1\" /><path clip-path=\"url(#clip530)\" d=\"M1306.41 1546.53 L1306.41 1568.04 L1300.55 1568.04 L1300.55 1546.72 Q1300.55 1541.66 1298.58 1539.14 Q1296.6 1536.63 1292.66 1536.63 Q1287.91 1536.63 1285.18 1539.65 Q1282.44 1542.68 1282.44 1547.9 L1282.44 1568.04 L1276.55 1568.04 L1276.55 1532.4 L1282.44 1532.4 L1282.44 1537.93 Q1284.54 1534.72 1287.37 1533.13 Q1290.24 1531.54 1293.96 1531.54 Q1300.1 1531.54 1303.26 1535.36 Q1306.41 1539.14 1306.41 1546.53 Z\" fill=\"#000000\" fill-rule=\"evenodd\" fill-opacity=\"1\" /><path clip-path=\"url(#clip530)\" d=\"M1334.29 1550.12 Q1327.19 1550.12 1324.45 1551.75 Q1321.72 1553.37 1321.72 1557.29 Q1321.72 1560.4 1323.75 1562.25 Q1325.82 1564.07 1329.35 1564.07 Q1334.22 1564.07 1337.15 1560.63 Q1340.11 1557.16 1340.11 1551.43 L1340.11 1550.12 L1334.29 1550.12 M1345.97 1547.71 L1345.97 1568.04 L1340.11 1568.04 L1340.11 1562.63 Q1338.11 1565.88 1335.12 1567.44 Q1332.12 1568.97 1327.8 1568.97 Q1322.32 1568.97 1319.07 1565.91 Q1315.86 1562.82 1315.86 1557.67 Q1315.86 1551.65 1319.87 1548.6 Q1323.91 1545.54 1331.9 1545.54 L1340.11 1545.54 L1340.11 1544.97 Q1340.11 1540.93 1337.44 1538.73 Q1334.8 1536.5 1329.99 1536.5 Q1326.94 1536.5 1324.04 1537.23 Q1321.14 1537.97 1318.47 1539.43 L1318.47 1534.02 Q1321.68 1532.78 1324.71 1532.17 Q1327.73 1531.54 1330.6 1531.54 Q1338.33 1531.54 1342.15 1535.55 Q1345.97 1539.56 1345.97 1547.71 Z\" fill=\"#000000\" fill-rule=\"evenodd\" fill-opacity=\"1\" /><path clip-path=\"url(#clip530)\" d=\"M1378.69 1537.87 Q1377.7 1537.3 1376.52 1537.04 Q1375.38 1536.76 1373.98 1536.76 Q1369.01 1536.76 1366.34 1540 Q1363.7 1543.22 1363.7 1549.27 L1363.7 1568.04 L1357.81 1568.04 L1357.81 1532.4 L1363.7 1532.4 L1363.7 1537.93 Q1365.54 1534.69 1368.5 1533.13 Q1371.46 1531.54 1375.7 1531.54 Q1376.3 1531.54 1377.03 1531.63 Q1377.77 1531.7 1378.66 1531.85 L1378.69 1537.87 Z\" fill=\"#000000\" fill-rule=\"evenodd\" fill-opacity=\"1\" /><path clip-path=\"url(#clip530)\" d=\"M1384.83 1532.4 L1390.69 1532.4 L1390.69 1568.04 L1384.83 1568.04 L1384.83 1532.4 M1384.83 1518.52 L1390.69 1518.52 L1390.69 1525.93 L1384.83 1525.93 L1384.83 1518.52 Z\" fill=\"#000000\" fill-rule=\"evenodd\" fill-opacity=\"1\" /><path clip-path=\"url(#clip530)\" d=\"M1416.76 1536.5 Q1412.05 1536.5 1409.31 1540.19 Q1406.57 1543.85 1406.57 1550.25 Q1406.57 1556.65 1409.28 1560.34 Q1412.01 1564 1416.76 1564 Q1421.43 1564 1424.17 1560.31 Q1426.91 1556.62 1426.91 1550.25 Q1426.91 1543.92 1424.17 1540.23 Q1421.43 1536.5 1416.76 1536.5 M1416.76 1531.54 Q1424.39 1531.54 1428.76 1536.5 Q1433.12 1541.47 1433.12 1550.25 Q1433.12 1559 1428.76 1564 Q1424.39 1568.97 1416.76 1568.97 Q1409.09 1568.97 1404.72 1564 Q1400.4 1559 1400.4 1550.25 Q1400.4 1541.47 1404.72 1536.5 Q1409.09 1531.54 1416.76 1531.54 Z\" fill=\"#000000\" fill-rule=\"evenodd\" fill-opacity=\"1\" /><path clip-path=\"url(#clip530)\" d=\"M1465.55 1533.45 L1465.55 1538.98 Q1463.07 1537.71 1460.39 1537.07 Q1457.72 1536.44 1454.85 1536.44 Q1450.49 1536.44 1448.3 1537.77 Q1446.13 1539.11 1446.13 1541.79 Q1446.13 1543.82 1447.69 1545 Q1449.25 1546.15 1453.96 1547.2 L1455.97 1547.64 Q1462.21 1548.98 1464.82 1551.43 Q1467.46 1553.85 1467.46 1558.21 Q1467.46 1563.17 1463.51 1566.07 Q1459.6 1568.97 1452.72 1568.97 Q1449.86 1568.97 1446.74 1568.39 Q1443.65 1567.85 1440.21 1566.74 L1440.21 1560.69 Q1443.46 1562.38 1446.61 1563.24 Q1449.76 1564.07 1452.85 1564.07 Q1456.99 1564.07 1459.22 1562.66 Q1461.44 1561.23 1461.44 1558.65 Q1461.44 1556.27 1459.82 1554.99 Q1458.23 1553.72 1452.79 1552.54 L1450.75 1552.07 Q1445.31 1550.92 1442.89 1548.56 Q1440.47 1546.18 1440.47 1542.04 Q1440.47 1537.01 1444.03 1534.27 Q1447.6 1531.54 1454.15 1531.54 Q1457.4 1531.54 1460.27 1532.01 Q1463.13 1532.49 1465.55 1533.45 Z\" fill=\"#000000\" fill-rule=\"evenodd\" fill-opacity=\"1\" /><polyline clip-path=\"url(#clip532)\" style=\"stroke:#000000; stroke-linecap:round; stroke-linejoin:round; stroke-width:8; stroke-opacity:0.1; fill:none\" points=\"205.121,1386.37 2352.76,1386.37 \"/>\n",
       "<polyline clip-path=\"url(#clip532)\" style=\"stroke:#000000; stroke-linecap:round; stroke-linejoin:round; stroke-width:8; stroke-opacity:0.1; fill:none\" points=\"205.121,1008.86 2352.76,1008.86 \"/>\n",
       "<polyline clip-path=\"url(#clip532)\" style=\"stroke:#000000; stroke-linecap:round; stroke-linejoin:round; stroke-width:8; stroke-opacity:0.1; fill:none\" points=\"205.121,631.349 2352.76,631.349 \"/>\n",
       "<polyline clip-path=\"url(#clip532)\" style=\"stroke:#000000; stroke-linecap:round; stroke-linejoin:round; stroke-width:8; stroke-opacity:0.1; fill:none\" points=\"205.121,253.838 2352.76,253.838 \"/>\n",
       "<polyline clip-path=\"url(#clip530)\" style=\"stroke:#000000; stroke-linecap:round; stroke-linejoin:round; stroke-width:4; stroke-opacity:1; fill:none\" points=\"205.121,1423.18 205.121,47.2441 \"/>\n",
       "<polyline clip-path=\"url(#clip530)\" style=\"stroke:#000000; stroke-linecap:round; stroke-linejoin:round; stroke-width:4; stroke-opacity:1; fill:none\" points=\"205.121,1386.37 224.019,1386.37 \"/>\n",
       "<polyline clip-path=\"url(#clip530)\" style=\"stroke:#000000; stroke-linecap:round; stroke-linejoin:round; stroke-width:4; stroke-opacity:1; fill:none\" points=\"205.121,1008.86 224.019,1008.86 \"/>\n",
       "<polyline clip-path=\"url(#clip530)\" style=\"stroke:#000000; stroke-linecap:round; stroke-linejoin:round; stroke-width:4; stroke-opacity:1; fill:none\" points=\"205.121,631.349 224.019,631.349 \"/>\n",
       "<polyline clip-path=\"url(#clip530)\" style=\"stroke:#000000; stroke-linecap:round; stroke-linejoin:round; stroke-width:4; stroke-opacity:1; fill:none\" points=\"205.121,253.838 224.019,253.838 \"/>\n",
       "<path clip-path=\"url(#clip530)\" d=\"M157.177 1372.17 Q153.566 1372.17 151.737 1375.73 Q149.931 1379.28 149.931 1386.41 Q149.931 1393.51 151.737 1397.08 Q153.566 1400.62 157.177 1400.62 Q160.811 1400.62 162.616 1397.08 Q164.445 1393.51 164.445 1386.41 Q164.445 1379.28 162.616 1375.73 Q160.811 1372.17 157.177 1372.17 M157.177 1368.47 Q162.987 1368.47 166.042 1373.07 Q169.121 1377.66 169.121 1386.41 Q169.121 1395.13 166.042 1399.74 Q162.987 1404.32 157.177 1404.32 Q151.366 1404.32 148.288 1399.74 Q145.232 1395.13 145.232 1386.41 Q145.232 1377.66 148.288 1373.07 Q151.366 1368.47 157.177 1368.47 Z\" fill=\"#000000\" fill-rule=\"evenodd\" fill-opacity=\"1\" /><path clip-path=\"url(#clip530)\" d=\"M121.043 1022.21 L137.362 1022.21 L137.362 1026.14 L115.418 1026.14 L115.418 1022.21 Q118.08 1019.45 122.663 1014.82 Q127.269 1010.17 128.45 1008.83 Q130.695 1006.3 131.575 1004.57 Q132.478 1002.81 132.478 1001.12 Q132.478 998.363 130.533 996.627 Q128.612 994.89 125.51 994.89 Q123.311 994.89 120.857 995.654 Q118.427 996.418 115.649 997.969 L115.649 993.247 Q118.473 992.113 120.927 991.534 Q123.38 990.955 125.418 990.955 Q130.788 990.955 133.982 993.64 Q137.177 996.326 137.177 1000.82 Q137.177 1002.95 136.367 1004.87 Q135.579 1006.77 133.473 1009.36 Q132.894 1010.03 129.792 1013.25 Q126.691 1016.44 121.043 1022.21 Z\" fill=\"#000000\" fill-rule=\"evenodd\" fill-opacity=\"1\" /><path clip-path=\"url(#clip530)\" d=\"M157.177 994.659 Q153.566 994.659 151.737 998.224 Q149.931 1001.77 149.931 1008.89 Q149.931 1016 151.737 1019.57 Q153.566 1023.11 157.177 1023.11 Q160.811 1023.11 162.616 1019.57 Q164.445 1016 164.445 1008.89 Q164.445 1001.77 162.616 998.224 Q160.811 994.659 157.177 994.659 M157.177 990.955 Q162.987 990.955 166.042 995.562 Q169.121 1000.15 169.121 1008.89 Q169.121 1017.62 166.042 1022.23 Q162.987 1026.81 157.177 1026.81 Q151.366 1026.81 148.288 1022.23 Q145.232 1017.62 145.232 1008.89 Q145.232 1000.15 148.288 995.562 Q151.366 990.955 157.177 990.955 Z\" fill=\"#000000\" fill-rule=\"evenodd\" fill-opacity=\"1\" /><path clip-path=\"url(#clip530)\" d=\"M129.862 618.143 L118.056 636.592 L129.862 636.592 L129.862 618.143 M128.635 614.069 L134.515 614.069 L134.515 636.592 L139.445 636.592 L139.445 640.481 L134.515 640.481 L134.515 648.629 L129.862 648.629 L129.862 640.481 L114.26 640.481 L114.26 635.967 L128.635 614.069 Z\" fill=\"#000000\" fill-rule=\"evenodd\" fill-opacity=\"1\" /><path clip-path=\"url(#clip530)\" d=\"M157.177 617.148 Q153.566 617.148 151.737 620.713 Q149.931 624.254 149.931 631.384 Q149.931 638.49 151.737 642.055 Q153.566 645.597 157.177 645.597 Q160.811 645.597 162.616 642.055 Q164.445 638.49 164.445 631.384 Q164.445 624.254 162.616 620.713 Q160.811 617.148 157.177 617.148 M157.177 613.444 Q162.987 613.444 166.042 618.051 Q169.121 622.634 169.121 631.384 Q169.121 640.111 166.042 644.717 Q162.987 649.301 157.177 649.301 Q151.366 649.301 148.288 644.717 Q145.232 640.111 145.232 631.384 Q145.232 622.634 148.288 618.051 Q151.366 613.444 157.177 613.444 Z\" fill=\"#000000\" fill-rule=\"evenodd\" fill-opacity=\"1\" /><path clip-path=\"url(#clip530)\" d=\"M127.593 251.975 Q124.445 251.975 122.593 254.128 Q120.765 256.28 120.765 260.03 Q120.765 263.757 122.593 265.933 Q124.445 268.086 127.593 268.086 Q130.742 268.086 132.57 265.933 Q134.422 263.757 134.422 260.03 Q134.422 256.28 132.57 254.128 Q130.742 251.975 127.593 251.975 M136.876 237.322 L136.876 241.581 Q135.117 240.748 133.311 240.308 Q131.529 239.868 129.769 239.868 Q125.14 239.868 122.686 242.993 Q120.255 246.118 119.908 252.438 Q121.274 250.424 123.334 249.359 Q125.394 248.271 127.871 248.271 Q133.08 248.271 136.089 251.442 Q139.121 254.591 139.121 260.03 Q139.121 265.354 135.973 268.572 Q132.825 271.79 127.593 271.79 Q121.598 271.79 118.427 267.206 Q115.256 262.6 115.256 253.873 Q115.256 245.679 119.144 240.818 Q123.033 235.933 129.584 235.933 Q131.343 235.933 133.126 236.281 Q134.931 236.628 136.876 237.322 Z\" fill=\"#000000\" fill-rule=\"evenodd\" fill-opacity=\"1\" /><path clip-path=\"url(#clip530)\" d=\"M157.177 239.637 Q153.566 239.637 151.737 243.202 Q149.931 246.743 149.931 253.873 Q149.931 260.979 151.737 264.544 Q153.566 268.086 157.177 268.086 Q160.811 268.086 162.616 264.544 Q164.445 260.979 164.445 253.873 Q164.445 246.743 162.616 243.202 Q160.811 239.637 157.177 239.637 M157.177 235.933 Q162.987 235.933 166.042 240.54 Q169.121 245.123 169.121 253.873 Q169.121 262.6 166.042 267.206 Q162.987 271.79 157.177 271.79 Q151.366 271.79 148.288 267.206 Q145.232 262.6 145.232 253.873 Q145.232 245.123 148.288 240.54 Q151.366 235.933 157.177 235.933 Z\" fill=\"#000000\" fill-rule=\"evenodd\" fill-opacity=\"1\" /><path clip-path=\"url(#clip530)\" d=\"M29.4065 1005.21 L34.9447 1005.21 Q33.6716 1007.7 33.035 1010.37 Q32.3984 1013.04 32.3984 1015.91 Q32.3984 1020.27 33.7352 1022.46 Q35.072 1024.63 37.7456 1024.63 Q39.7826 1024.63 40.9603 1023.07 Q42.1061 1021.51 43.1565 1016.8 L43.6021 1014.79 Q44.9389 1008.56 47.3897 1005.95 Q49.8086 1003.3 54.1691 1003.3 Q59.1344 1003.3 62.0308 1007.25 Q64.9272 1011.17 64.9272 1018.04 Q64.9272 1020.9 64.3543 1024.02 Q63.8132 1027.11 62.6992 1030.55 L56.6518 1030.55 Q58.3387 1027.3 59.198 1024.15 Q60.0256 1021 60.0256 1017.91 Q60.0256 1013.78 58.6251 1011.55 Q57.1929 1009.32 54.6147 1009.32 Q52.2276 1009.32 50.9545 1010.94 Q49.6813 1012.53 48.5037 1017.98 L48.0262 1020.01 Q46.8804 1025.46 44.5251 1027.88 Q42.138 1030.29 38.0002 1030.29 Q32.9713 1030.29 30.2341 1026.73 Q27.4968 1023.16 27.4968 1016.61 Q27.4968 1013.36 27.9743 1010.5 Q28.4517 1007.63 29.4065 1005.21 Z\" fill=\"#000000\" fill-rule=\"evenodd\" fill-opacity=\"1\" /><path clip-path=\"url(#clip530)\" d=\"M32.4621 980.164 Q32.4621 984.875 36.1542 987.612 Q39.8145 990.349 46.212 990.349 Q52.6095 990.349 56.3017 987.644 Q59.9619 984.907 59.9619 980.164 Q59.9619 975.486 56.2698 972.748 Q52.5777 970.011 46.212 970.011 Q39.8781 970.011 36.186 972.748 Q32.4621 975.486 32.4621 980.164 M27.4968 980.164 Q27.4968 972.526 32.4621 968.165 Q37.4273 963.804 46.212 963.804 Q54.9649 963.804 59.9619 968.165 Q64.9272 972.526 64.9272 980.164 Q64.9272 987.835 59.9619 992.196 Q54.9649 996.524 46.212 996.524 Q37.4273 996.524 32.4621 992.196 Q27.4968 987.835 27.4968 980.164 Z\" fill=\"#000000\" fill-rule=\"evenodd\" fill-opacity=\"1\" /><path clip-path=\"url(#clip530)\" d=\"M14.479 954.097 L14.479 948.24 L64.0042 948.24 L64.0042 954.097 L14.479 954.097 Z\" fill=\"#000000\" fill-rule=\"evenodd\" fill-opacity=\"1\" /><path clip-path=\"url(#clip530)\" d=\"M55.9197 935.159 L55.9197 928.443 L64.0042 928.443 L64.0042 935.159 L55.9197 935.159 Z\" fill=\"#000000\" fill-rule=\"evenodd\" fill-opacity=\"1\" /><path clip-path=\"url(#clip530)\" d=\"M18.2347 888.753 L28.3562 888.753 L28.3562 876.69 L32.9077 876.69 L32.9077 888.753 L52.2594 888.753 Q56.6199 888.753 57.8613 887.575 Q59.1026 886.366 59.1026 882.705 L59.1026 876.69 L64.0042 876.69 L64.0042 882.705 Q64.0042 889.485 61.4897 892.063 Q58.9434 894.641 52.2594 894.641 L32.9077 894.641 L32.9077 898.938 L28.3562 898.938 L28.3562 894.641 L18.2347 894.641 L18.2347 888.753 Z\" fill=\"#000000\" fill-rule=\"evenodd\" fill-opacity=\"1\" /><path clip-path=\"url(#clip530)\" d=\"M28.3562 868.987 L28.3562 863.131 L64.0042 863.131 L64.0042 868.987 L28.3562 868.987 M14.479 868.987 L14.479 863.131 L21.895 863.131 L21.895 868.987 L14.479 868.987 Z\" fill=\"#000000\" fill-rule=\"evenodd\" fill-opacity=\"1\" /><path clip-path=\"url(#clip530)\" d=\"M35.1993 823.122 Q31.2526 820.926 29.3747 817.871 Q27.4968 814.815 27.4968 810.677 Q27.4968 805.107 31.4117 802.084 Q35.2948 799.06 42.4881 799.06 L64.0042 799.06 L64.0042 804.948 L42.679 804.948 Q37.5546 804.948 35.072 806.763 Q32.5894 808.577 32.5894 812.301 Q32.5894 816.852 35.6131 819.494 Q38.6368 822.136 43.8567 822.136 L64.0042 822.136 L64.0042 828.024 L42.679 828.024 Q37.5228 828.024 35.072 829.838 Q32.5894 831.652 32.5894 835.44 Q32.5894 839.928 35.6449 842.57 Q38.6686 845.211 43.8567 845.211 L64.0042 845.211 L64.0042 851.1 L28.3562 851.1 L28.3562 845.211 L33.8944 845.211 Q30.616 843.206 29.0564 840.405 Q27.4968 837.604 27.4968 833.753 Q27.4968 829.87 29.4702 827.165 Q31.4436 824.427 35.1993 823.122 Z\" fill=\"#000000\" fill-rule=\"evenodd\" fill-opacity=\"1\" /><path clip-path=\"url(#clip530)\" d=\"M44.7161 756.887 L47.5806 756.887 L47.5806 783.814 Q53.6281 783.432 56.8109 780.186 Q59.9619 776.907 59.9619 771.083 Q59.9619 767.709 59.1344 764.558 Q58.3069 761.375 56.6518 758.256 L62.1899 758.256 Q63.5267 761.407 64.227 764.717 Q64.9272 768.027 64.9272 771.433 Q64.9272 779.963 59.9619 784.96 Q54.9967 789.925 46.5303 789.925 Q37.7774 789.925 32.6531 785.215 Q27.4968 780.472 27.4968 772.451 Q27.4968 765.258 32.1438 761.089 Q36.7589 756.887 44.7161 756.887 M42.9973 762.744 Q38.1912 762.807 35.3266 765.449 Q32.4621 768.059 32.4621 772.388 Q32.4621 777.289 35.2312 780.249 Q38.0002 783.178 43.0292 783.623 L42.9973 762.744 Z\" fill=\"#000000\" fill-rule=\"evenodd\" fill-opacity=\"1\" /><path clip-path=\"url(#clip530)\" d=\"M14.5426 712.486 Q21.8632 716.751 29.0246 718.82 Q36.186 720.889 43.5384 720.889 Q50.8908 720.889 58.1159 718.82 Q65.3091 716.72 72.5979 712.486 L72.5979 717.579 Q65.1182 722.353 57.8931 724.74 Q50.668 727.096 43.5384 727.096 Q36.4406 727.096 29.2474 724.74 Q22.0542 722.385 14.5426 717.579 L14.5426 712.486 Z\" fill=\"#000000\" fill-rule=\"evenodd\" fill-opacity=\"1\" /><path clip-path=\"url(#clip530)\" d=\"M35.1993 673.369 Q31.2526 671.173 29.3747 668.117 Q27.4968 665.062 27.4968 660.924 Q27.4968 655.354 31.4117 652.33 Q35.2948 649.307 42.4881 649.307 L64.0042 649.307 L64.0042 655.195 L42.679 655.195 Q37.5546 655.195 35.072 657.009 Q32.5894 658.823 32.5894 662.547 Q32.5894 667.099 35.6131 669.741 Q38.6368 672.382 43.8567 672.382 L64.0042 672.382 L64.0042 678.271 L42.679 678.271 Q37.5228 678.271 35.072 680.085 Q32.5894 681.899 32.5894 685.687 Q32.5894 690.175 35.6449 692.816 Q38.6686 695.458 43.8567 695.458 L64.0042 695.458 L64.0042 701.346 L28.3562 701.346 L28.3562 695.458 L33.8944 695.458 Q30.616 693.453 29.0564 690.652 Q27.4968 687.851 27.4968 684 Q27.4968 680.117 29.4702 677.411 Q31.4436 674.674 35.1993 673.369 Z\" fill=\"#000000\" fill-rule=\"evenodd\" fill-opacity=\"1\" /><path clip-path=\"url(#clip530)\" d=\"M46.0847 621.425 Q46.0847 628.523 47.7079 631.26 Q49.3312 633.997 53.2461 633.997 Q56.3653 633.997 58.2114 631.96 Q60.0256 629.891 60.0256 626.358 Q60.0256 621.489 56.5881 618.56 Q53.1188 615.6 47.3897 615.6 L46.0847 615.6 L46.0847 621.425 M43.6657 609.744 L64.0042 609.744 L64.0042 615.6 L58.5933 615.6 Q61.8398 617.606 63.3994 620.597 Q64.9272 623.589 64.9272 627.918 Q64.9272 633.392 61.8716 636.639 Q58.7843 639.854 53.6281 639.854 Q47.6125 639.854 44.5569 635.843 Q41.5014 631.801 41.5014 623.812 L41.5014 615.6 L40.9285 615.6 Q36.8862 615.6 34.6901 618.274 Q32.4621 620.916 32.4621 625.722 Q32.4621 628.777 33.1941 631.674 Q33.9262 634.57 35.3903 637.244 L29.9795 637.244 Q28.7381 634.029 28.1334 631.005 Q27.4968 627.982 27.4968 625.117 Q27.4968 617.383 31.5072 613.563 Q35.5176 609.744 43.6657 609.744 Z\" fill=\"#000000\" fill-rule=\"evenodd\" fill-opacity=\"1\" /><path clip-path=\"url(#clip530)\" d=\"M28.3562 568.049 L45.7028 580.939 L64.0042 567.38 L64.0042 574.287 L49.9996 584.663 L64.0042 595.039 L64.0042 601.946 L45.3526 588.1 L28.3562 600.768 L28.3562 593.861 L41.0558 584.408 L28.3562 574.955 L28.3562 568.049 Z\" fill=\"#000000\" fill-rule=\"evenodd\" fill-opacity=\"1\" /><path clip-path=\"url(#clip530)\" d=\"M14.5426 560.028 L14.5426 554.935 Q22.0542 550.161 29.2474 547.806 Q36.4406 545.418 43.5384 545.418 Q50.668 545.418 57.8931 547.806 Q65.1182 550.161 72.5979 554.935 L72.5979 560.028 Q65.3091 555.795 58.1159 553.726 Q50.8908 551.625 43.5384 551.625 Q36.186 551.625 29.0246 553.726 Q21.8632 555.795 14.5426 560.028 Z\" fill=\"#000000\" fill-rule=\"evenodd\" fill-opacity=\"1\" /><path clip-path=\"url(#clip530)\" d=\"M14.479 513.494 L14.479 499.999 L19.0304 499.999 L19.0304 507.638 L68.0464 507.638 L68.0464 499.999 L72.5979 499.999 L72.5979 513.494 L14.479 513.494 Z\" fill=\"#000000\" fill-rule=\"evenodd\" fill-opacity=\"1\" /><path clip-path=\"url(#clip530)\" d=\"M29.4065 464.797 L34.9447 464.797 Q33.6716 467.279 33.035 469.953 Q32.3984 472.627 32.3984 475.491 Q32.3984 479.852 33.7352 482.048 Q35.072 484.212 37.7456 484.212 Q39.7826 484.212 40.9603 482.653 Q42.1061 481.093 43.1565 476.382 L43.6021 474.377 Q44.9389 468.139 47.3897 465.529 Q49.8086 462.887 54.1691 462.887 Q59.1344 462.887 62.0308 466.834 Q64.9272 470.749 64.9272 477.624 Q64.9272 480.488 64.3543 483.607 Q63.8132 486.695 62.6992 490.132 L56.6518 490.132 Q58.3387 486.886 59.198 483.735 Q60.0256 480.584 60.0256 477.496 Q60.0256 473.359 58.6251 471.131 Q57.1929 468.903 54.6147 468.903 Q52.2276 468.903 50.9545 470.526 Q49.6813 472.117 48.5037 477.56 L48.0262 479.597 Q46.8804 485.04 44.5251 487.459 Q42.138 489.878 38.0002 489.878 Q32.9713 489.878 30.2341 486.313 Q27.4968 482.748 27.4968 476.191 Q27.4968 472.945 27.9743 470.08 Q28.4517 467.216 29.4065 464.797 Z\" fill=\"#000000\" fill-rule=\"evenodd\" fill-opacity=\"1\" /><path clip-path=\"url(#clip530)\" d=\"M14.479 439.875 L72.5979 439.875 L72.5979 453.37 L68.0464 453.37 L68.0464 445.763 L19.0304 445.763 L19.0304 453.37 L14.479 453.37 L14.479 439.875 Z\" fill=\"#000000\" fill-rule=\"evenodd\" fill-opacity=\"1\" /><polyline clip-path=\"url(#clip532)\" style=\"stroke:#000000; stroke-linecap:round; stroke-linejoin:round; stroke-width:4; stroke-opacity:1; fill:none\" points=\"265.903,1384.24 307.251,1379.33 348.6,1378.95 389.948,1380.58 431.297,1365.93 472.645,1343.96 513.993,1336.33 555.342,1313.3 596.69,1317.48 638.039,1281.08 679.387,1298.17 720.735,1262.91 762.084,1235.56 803.432,1220.27 844.78,1241.16 886.129,1192.59 927.477,1155.39 968.826,1171.32 1010.17,1118.94 1051.52,1055.63 1092.87,1028.79 1134.22,1047.5 1175.57,1115.68 1216.92,999.479 1258.26,1027 1299.61,928.771 1340.96,985.002 1382.31,957.028 1423.66,994.609 1465.01,860.329 1506.35,822.068 1547.7,747.698 1589.05,633.199 1630.4,784.26 1671.75,602.772 1713.1,707.852 1754.44,676.613 1795.79,466.736 1837.14,397.274 1878.49,383.985 1919.84,486.932 1961.19,333.946 2002.54,403.559 2043.88,332.983 2085.23,86.1857 2126.58,203.573 2167.93,209.972 2209.28,125.919 2250.63,90.0552 2291.97,136.13 \"/>\n",
       "<circle clip-path=\"url(#clip532)\" cx=\"265.903\" cy=\"1384.24\" r=\"14.4\" fill=\"#000000\" fill-rule=\"evenodd\" fill-opacity=\"1\" stroke=\"none\"/>\n",
       "<circle clip-path=\"url(#clip532)\" cx=\"307.251\" cy=\"1379.33\" r=\"14.4\" fill=\"#000000\" fill-rule=\"evenodd\" fill-opacity=\"1\" stroke=\"none\"/>\n",
       "<circle clip-path=\"url(#clip532)\" cx=\"348.6\" cy=\"1378.95\" r=\"14.4\" fill=\"#000000\" fill-rule=\"evenodd\" fill-opacity=\"1\" stroke=\"none\"/>\n",
       "<circle clip-path=\"url(#clip532)\" cx=\"389.948\" cy=\"1380.58\" r=\"14.4\" fill=\"#000000\" fill-rule=\"evenodd\" fill-opacity=\"1\" stroke=\"none\"/>\n",
       "<circle clip-path=\"url(#clip532)\" cx=\"431.297\" cy=\"1365.93\" r=\"14.4\" fill=\"#000000\" fill-rule=\"evenodd\" fill-opacity=\"1\" stroke=\"none\"/>\n",
       "<circle clip-path=\"url(#clip532)\" cx=\"472.645\" cy=\"1343.96\" r=\"14.4\" fill=\"#000000\" fill-rule=\"evenodd\" fill-opacity=\"1\" stroke=\"none\"/>\n",
       "<circle clip-path=\"url(#clip532)\" cx=\"513.993\" cy=\"1336.33\" r=\"14.4\" fill=\"#000000\" fill-rule=\"evenodd\" fill-opacity=\"1\" stroke=\"none\"/>\n",
       "<circle clip-path=\"url(#clip532)\" cx=\"555.342\" cy=\"1313.3\" r=\"14.4\" fill=\"#000000\" fill-rule=\"evenodd\" fill-opacity=\"1\" stroke=\"none\"/>\n",
       "<circle clip-path=\"url(#clip532)\" cx=\"596.69\" cy=\"1317.48\" r=\"14.4\" fill=\"#000000\" fill-rule=\"evenodd\" fill-opacity=\"1\" stroke=\"none\"/>\n",
       "<circle clip-path=\"url(#clip532)\" cx=\"638.039\" cy=\"1281.08\" r=\"14.4\" fill=\"#000000\" fill-rule=\"evenodd\" fill-opacity=\"1\" stroke=\"none\"/>\n",
       "<circle clip-path=\"url(#clip532)\" cx=\"679.387\" cy=\"1298.17\" r=\"14.4\" fill=\"#000000\" fill-rule=\"evenodd\" fill-opacity=\"1\" stroke=\"none\"/>\n",
       "<circle clip-path=\"url(#clip532)\" cx=\"720.735\" cy=\"1262.91\" r=\"14.4\" fill=\"#000000\" fill-rule=\"evenodd\" fill-opacity=\"1\" stroke=\"none\"/>\n",
       "<circle clip-path=\"url(#clip532)\" cx=\"762.084\" cy=\"1235.56\" r=\"14.4\" fill=\"#000000\" fill-rule=\"evenodd\" fill-opacity=\"1\" stroke=\"none\"/>\n",
       "<circle clip-path=\"url(#clip532)\" cx=\"803.432\" cy=\"1220.27\" r=\"14.4\" fill=\"#000000\" fill-rule=\"evenodd\" fill-opacity=\"1\" stroke=\"none\"/>\n",
       "<circle clip-path=\"url(#clip532)\" cx=\"844.78\" cy=\"1241.16\" r=\"14.4\" fill=\"#000000\" fill-rule=\"evenodd\" fill-opacity=\"1\" stroke=\"none\"/>\n",
       "<circle clip-path=\"url(#clip532)\" cx=\"886.129\" cy=\"1192.59\" r=\"14.4\" fill=\"#000000\" fill-rule=\"evenodd\" fill-opacity=\"1\" stroke=\"none\"/>\n",
       "<circle clip-path=\"url(#clip532)\" cx=\"927.477\" cy=\"1155.39\" r=\"14.4\" fill=\"#000000\" fill-rule=\"evenodd\" fill-opacity=\"1\" stroke=\"none\"/>\n",
       "<circle clip-path=\"url(#clip532)\" cx=\"968.826\" cy=\"1171.32\" r=\"14.4\" fill=\"#000000\" fill-rule=\"evenodd\" fill-opacity=\"1\" stroke=\"none\"/>\n",
       "<circle clip-path=\"url(#clip532)\" cx=\"1010.17\" cy=\"1118.94\" r=\"14.4\" fill=\"#000000\" fill-rule=\"evenodd\" fill-opacity=\"1\" stroke=\"none\"/>\n",
       "<circle clip-path=\"url(#clip532)\" cx=\"1051.52\" cy=\"1055.63\" r=\"14.4\" fill=\"#000000\" fill-rule=\"evenodd\" fill-opacity=\"1\" stroke=\"none\"/>\n",
       "<circle clip-path=\"url(#clip532)\" cx=\"1092.87\" cy=\"1028.79\" r=\"14.4\" fill=\"#000000\" fill-rule=\"evenodd\" fill-opacity=\"1\" stroke=\"none\"/>\n",
       "<circle clip-path=\"url(#clip532)\" cx=\"1134.22\" cy=\"1047.5\" r=\"14.4\" fill=\"#000000\" fill-rule=\"evenodd\" fill-opacity=\"1\" stroke=\"none\"/>\n",
       "<circle clip-path=\"url(#clip532)\" cx=\"1175.57\" cy=\"1115.68\" r=\"14.4\" fill=\"#000000\" fill-rule=\"evenodd\" fill-opacity=\"1\" stroke=\"none\"/>\n",
       "<circle clip-path=\"url(#clip532)\" cx=\"1216.92\" cy=\"999.479\" r=\"14.4\" fill=\"#000000\" fill-rule=\"evenodd\" fill-opacity=\"1\" stroke=\"none\"/>\n",
       "<circle clip-path=\"url(#clip532)\" cx=\"1258.26\" cy=\"1027\" r=\"14.4\" fill=\"#000000\" fill-rule=\"evenodd\" fill-opacity=\"1\" stroke=\"none\"/>\n",
       "<circle clip-path=\"url(#clip532)\" cx=\"1299.61\" cy=\"928.771\" r=\"14.4\" fill=\"#000000\" fill-rule=\"evenodd\" fill-opacity=\"1\" stroke=\"none\"/>\n",
       "<circle clip-path=\"url(#clip532)\" cx=\"1340.96\" cy=\"985.002\" r=\"14.4\" fill=\"#000000\" fill-rule=\"evenodd\" fill-opacity=\"1\" stroke=\"none\"/>\n",
       "<circle clip-path=\"url(#clip532)\" cx=\"1382.31\" cy=\"957.028\" r=\"14.4\" fill=\"#000000\" fill-rule=\"evenodd\" fill-opacity=\"1\" stroke=\"none\"/>\n",
       "<circle clip-path=\"url(#clip532)\" cx=\"1423.66\" cy=\"994.609\" r=\"14.4\" fill=\"#000000\" fill-rule=\"evenodd\" fill-opacity=\"1\" stroke=\"none\"/>\n",
       "<circle clip-path=\"url(#clip532)\" cx=\"1465.01\" cy=\"860.329\" r=\"14.4\" fill=\"#000000\" fill-rule=\"evenodd\" fill-opacity=\"1\" stroke=\"none\"/>\n",
       "<circle clip-path=\"url(#clip532)\" cx=\"1506.35\" cy=\"822.068\" r=\"14.4\" fill=\"#000000\" fill-rule=\"evenodd\" fill-opacity=\"1\" stroke=\"none\"/>\n",
       "<circle clip-path=\"url(#clip532)\" cx=\"1547.7\" cy=\"747.698\" r=\"14.4\" fill=\"#000000\" fill-rule=\"evenodd\" fill-opacity=\"1\" stroke=\"none\"/>\n",
       "<circle clip-path=\"url(#clip532)\" cx=\"1589.05\" cy=\"633.199\" r=\"14.4\" fill=\"#000000\" fill-rule=\"evenodd\" fill-opacity=\"1\" stroke=\"none\"/>\n",
       "<circle clip-path=\"url(#clip532)\" cx=\"1630.4\" cy=\"784.26\" r=\"14.4\" fill=\"#000000\" fill-rule=\"evenodd\" fill-opacity=\"1\" stroke=\"none\"/>\n",
       "<circle clip-path=\"url(#clip532)\" cx=\"1671.75\" cy=\"602.772\" r=\"14.4\" fill=\"#000000\" fill-rule=\"evenodd\" fill-opacity=\"1\" stroke=\"none\"/>\n",
       "<circle clip-path=\"url(#clip532)\" cx=\"1713.1\" cy=\"707.852\" r=\"14.4\" fill=\"#000000\" fill-rule=\"evenodd\" fill-opacity=\"1\" stroke=\"none\"/>\n",
       "<circle clip-path=\"url(#clip532)\" cx=\"1754.44\" cy=\"676.613\" r=\"14.4\" fill=\"#000000\" fill-rule=\"evenodd\" fill-opacity=\"1\" stroke=\"none\"/>\n",
       "<circle clip-path=\"url(#clip532)\" cx=\"1795.79\" cy=\"466.736\" r=\"14.4\" fill=\"#000000\" fill-rule=\"evenodd\" fill-opacity=\"1\" stroke=\"none\"/>\n",
       "<circle clip-path=\"url(#clip532)\" cx=\"1837.14\" cy=\"397.274\" r=\"14.4\" fill=\"#000000\" fill-rule=\"evenodd\" fill-opacity=\"1\" stroke=\"none\"/>\n",
       "<circle clip-path=\"url(#clip532)\" cx=\"1878.49\" cy=\"383.985\" r=\"14.4\" fill=\"#000000\" fill-rule=\"evenodd\" fill-opacity=\"1\" stroke=\"none\"/>\n",
       "<circle clip-path=\"url(#clip532)\" cx=\"1919.84\" cy=\"486.932\" r=\"14.4\" fill=\"#000000\" fill-rule=\"evenodd\" fill-opacity=\"1\" stroke=\"none\"/>\n",
       "<circle clip-path=\"url(#clip532)\" cx=\"1961.19\" cy=\"333.946\" r=\"14.4\" fill=\"#000000\" fill-rule=\"evenodd\" fill-opacity=\"1\" stroke=\"none\"/>\n",
       "<circle clip-path=\"url(#clip532)\" cx=\"2002.54\" cy=\"403.559\" r=\"14.4\" fill=\"#000000\" fill-rule=\"evenodd\" fill-opacity=\"1\" stroke=\"none\"/>\n",
       "<circle clip-path=\"url(#clip532)\" cx=\"2043.88\" cy=\"332.983\" r=\"14.4\" fill=\"#000000\" fill-rule=\"evenodd\" fill-opacity=\"1\" stroke=\"none\"/>\n",
       "<circle clip-path=\"url(#clip532)\" cx=\"2085.23\" cy=\"86.1857\" r=\"14.4\" fill=\"#000000\" fill-rule=\"evenodd\" fill-opacity=\"1\" stroke=\"none\"/>\n",
       "<circle clip-path=\"url(#clip532)\" cx=\"2126.58\" cy=\"203.573\" r=\"14.4\" fill=\"#000000\" fill-rule=\"evenodd\" fill-opacity=\"1\" stroke=\"none\"/>\n",
       "<circle clip-path=\"url(#clip532)\" cx=\"2167.93\" cy=\"209.972\" r=\"14.4\" fill=\"#000000\" fill-rule=\"evenodd\" fill-opacity=\"1\" stroke=\"none\"/>\n",
       "<circle clip-path=\"url(#clip532)\" cx=\"2209.28\" cy=\"125.919\" r=\"14.4\" fill=\"#000000\" fill-rule=\"evenodd\" fill-opacity=\"1\" stroke=\"none\"/>\n",
       "<circle clip-path=\"url(#clip532)\" cx=\"2250.63\" cy=\"90.0552\" r=\"14.4\" fill=\"#000000\" fill-rule=\"evenodd\" fill-opacity=\"1\" stroke=\"none\"/>\n",
       "<circle clip-path=\"url(#clip532)\" cx=\"2291.97\" cy=\"136.13\" r=\"14.4\" fill=\"#000000\" fill-rule=\"evenodd\" fill-opacity=\"1\" stroke=\"none\"/>\n",
       "<polyline clip-path=\"url(#clip532)\" style=\"stroke:#000000; stroke-linecap:round; stroke-linejoin:round; stroke-width:4; stroke-opacity:1; fill:none\" stroke-dasharray=\"16, 8, 2, 8\" points=\"265.903,1351.39 307.251,1347.87 348.6,1341.79 389.948,1331.88 431.297,1313.72 472.645,1336.35 513.993,1330.59 555.342,1325.29 596.69,1329.61 638.039,1319.78 679.387,1314.36 720.735,1311.76 762.084,1316.32 803.432,1307.04 844.78,1319.55 886.129,1306.6 927.477,1314.66 968.826,1269 1010.17,1310.76 1051.52,1304.83 1092.87,1297.71 1134.22,1275.67 1175.57,1295.75 1216.92,1288.12 1258.26,1301.6 1299.61,1285.8 1340.96,1285.9 1382.31,1303.98 1423.66,1331.07 1465.01,1272.95 1506.35,1297.81 1547.7,1302.11 1589.05,1310.21 1630.4,1309.06 1671.75,1291.99 1713.1,1289.46 1754.44,1274.38 1795.79,1309.93 1837.14,1328.93 1878.49,1295.41 1919.84,1299.34 1961.19,1313.62 2002.54,1300.83 2043.88,1301.62 2085.23,1296.39 2126.58,1315.57 2167.93,1291.75 2209.28,1280.82 2250.63,1322.46 2291.97,1295.66 \"/>\n",
       "<path clip-path=\"url(#clip532)\" d=\"M253.903 1339.39 L253.903 1363.39 L277.903 1363.39 L277.903 1339.39 L253.903 1339.39 Z\" fill=\"#000000\" fill-rule=\"evenodd\" fill-opacity=\"1\" stroke=\"none\"/>\n",
       "<path clip-path=\"url(#clip532)\" d=\"M295.251 1335.87 L295.251 1359.87 L319.251 1359.87 L319.251 1335.87 L295.251 1335.87 Z\" fill=\"#000000\" fill-rule=\"evenodd\" fill-opacity=\"1\" stroke=\"none\"/>\n",
       "<path clip-path=\"url(#clip532)\" d=\"M336.6 1329.79 L336.6 1353.79 L360.6 1353.79 L360.6 1329.79 L336.6 1329.79 Z\" fill=\"#000000\" fill-rule=\"evenodd\" fill-opacity=\"1\" stroke=\"none\"/>\n",
       "<path clip-path=\"url(#clip532)\" d=\"M377.948 1319.88 L377.948 1343.88 L401.948 1343.88 L401.948 1319.88 L377.948 1319.88 Z\" fill=\"#000000\" fill-rule=\"evenodd\" fill-opacity=\"1\" stroke=\"none\"/>\n",
       "<path clip-path=\"url(#clip532)\" d=\"M419.297 1301.72 L419.297 1325.72 L443.297 1325.72 L443.297 1301.72 L419.297 1301.72 Z\" fill=\"#000000\" fill-rule=\"evenodd\" fill-opacity=\"1\" stroke=\"none\"/>\n",
       "<path clip-path=\"url(#clip532)\" d=\"M460.645 1324.35 L460.645 1348.35 L484.645 1348.35 L484.645 1324.35 L460.645 1324.35 Z\" fill=\"#000000\" fill-rule=\"evenodd\" fill-opacity=\"1\" stroke=\"none\"/>\n",
       "<path clip-path=\"url(#clip532)\" d=\"M501.993 1318.59 L501.993 1342.59 L525.993 1342.59 L525.993 1318.59 L501.993 1318.59 Z\" fill=\"#000000\" fill-rule=\"evenodd\" fill-opacity=\"1\" stroke=\"none\"/>\n",
       "<path clip-path=\"url(#clip532)\" d=\"M543.342 1313.29 L543.342 1337.29 L567.342 1337.29 L567.342 1313.29 L543.342 1313.29 Z\" fill=\"#000000\" fill-rule=\"evenodd\" fill-opacity=\"1\" stroke=\"none\"/>\n",
       "<path clip-path=\"url(#clip532)\" d=\"M584.69 1317.61 L584.69 1341.61 L608.69 1341.61 L608.69 1317.61 L584.69 1317.61 Z\" fill=\"#000000\" fill-rule=\"evenodd\" fill-opacity=\"1\" stroke=\"none\"/>\n",
       "<path clip-path=\"url(#clip532)\" d=\"M626.039 1307.78 L626.039 1331.78 L650.039 1331.78 L650.039 1307.78 L626.039 1307.78 Z\" fill=\"#000000\" fill-rule=\"evenodd\" fill-opacity=\"1\" stroke=\"none\"/>\n",
       "<path clip-path=\"url(#clip532)\" d=\"M667.387 1302.36 L667.387 1326.36 L691.387 1326.36 L691.387 1302.36 L667.387 1302.36 Z\" fill=\"#000000\" fill-rule=\"evenodd\" fill-opacity=\"1\" stroke=\"none\"/>\n",
       "<path clip-path=\"url(#clip532)\" d=\"M708.735 1299.76 L708.735 1323.76 L732.735 1323.76 L732.735 1299.76 L708.735 1299.76 Z\" fill=\"#000000\" fill-rule=\"evenodd\" fill-opacity=\"1\" stroke=\"none\"/>\n",
       "<path clip-path=\"url(#clip532)\" d=\"M750.084 1304.32 L750.084 1328.32 L774.084 1328.32 L774.084 1304.32 L750.084 1304.32 Z\" fill=\"#000000\" fill-rule=\"evenodd\" fill-opacity=\"1\" stroke=\"none\"/>\n",
       "<path clip-path=\"url(#clip532)\" d=\"M791.432 1295.04 L791.432 1319.04 L815.432 1319.04 L815.432 1295.04 L791.432 1295.04 Z\" fill=\"#000000\" fill-rule=\"evenodd\" fill-opacity=\"1\" stroke=\"none\"/>\n",
       "<path clip-path=\"url(#clip532)\" d=\"M832.78 1307.55 L832.78 1331.55 L856.78 1331.55 L856.78 1307.55 L832.78 1307.55 Z\" fill=\"#000000\" fill-rule=\"evenodd\" fill-opacity=\"1\" stroke=\"none\"/>\n",
       "<path clip-path=\"url(#clip532)\" d=\"M874.129 1294.6 L874.129 1318.6 L898.129 1318.6 L898.129 1294.6 L874.129 1294.6 Z\" fill=\"#000000\" fill-rule=\"evenodd\" fill-opacity=\"1\" stroke=\"none\"/>\n",
       "<path clip-path=\"url(#clip532)\" d=\"M915.477 1302.66 L915.477 1326.66 L939.477 1326.66 L939.477 1302.66 L915.477 1302.66 Z\" fill=\"#000000\" fill-rule=\"evenodd\" fill-opacity=\"1\" stroke=\"none\"/>\n",
       "<path clip-path=\"url(#clip532)\" d=\"M956.826 1257 L956.826 1281 L980.826 1281 L980.826 1257 L956.826 1257 Z\" fill=\"#000000\" fill-rule=\"evenodd\" fill-opacity=\"1\" stroke=\"none\"/>\n",
       "<path clip-path=\"url(#clip532)\" d=\"M998.174 1298.76 L998.174 1322.76 L1022.17 1322.76 L1022.17 1298.76 L998.174 1298.76 Z\" fill=\"#000000\" fill-rule=\"evenodd\" fill-opacity=\"1\" stroke=\"none\"/>\n",
       "<path clip-path=\"url(#clip532)\" d=\"M1039.52 1292.83 L1039.52 1316.83 L1063.52 1316.83 L1063.52 1292.83 L1039.52 1292.83 Z\" fill=\"#000000\" fill-rule=\"evenodd\" fill-opacity=\"1\" stroke=\"none\"/>\n",
       "<path clip-path=\"url(#clip532)\" d=\"M1080.87 1285.71 L1080.87 1309.71 L1104.87 1309.71 L1104.87 1285.71 L1080.87 1285.71 Z\" fill=\"#000000\" fill-rule=\"evenodd\" fill-opacity=\"1\" stroke=\"none\"/>\n",
       "<path clip-path=\"url(#clip532)\" d=\"M1122.22 1263.67 L1122.22 1287.67 L1146.22 1287.67 L1146.22 1263.67 L1122.22 1263.67 Z\" fill=\"#000000\" fill-rule=\"evenodd\" fill-opacity=\"1\" stroke=\"none\"/>\n",
       "<path clip-path=\"url(#clip532)\" d=\"M1163.57 1283.75 L1163.57 1307.75 L1187.57 1307.75 L1187.57 1283.75 L1163.57 1283.75 Z\" fill=\"#000000\" fill-rule=\"evenodd\" fill-opacity=\"1\" stroke=\"none\"/>\n",
       "<path clip-path=\"url(#clip532)\" d=\"M1204.92 1276.12 L1204.92 1300.12 L1228.92 1300.12 L1228.92 1276.12 L1204.92 1276.12 Z\" fill=\"#000000\" fill-rule=\"evenodd\" fill-opacity=\"1\" stroke=\"none\"/>\n",
       "<path clip-path=\"url(#clip532)\" d=\"M1246.26 1289.6 L1246.26 1313.6 L1270.26 1313.6 L1270.26 1289.6 L1246.26 1289.6 Z\" fill=\"#000000\" fill-rule=\"evenodd\" fill-opacity=\"1\" stroke=\"none\"/>\n",
       "<path clip-path=\"url(#clip532)\" d=\"M1287.61 1273.8 L1287.61 1297.8 L1311.61 1297.8 L1311.61 1273.8 L1287.61 1273.8 Z\" fill=\"#000000\" fill-rule=\"evenodd\" fill-opacity=\"1\" stroke=\"none\"/>\n",
       "<path clip-path=\"url(#clip532)\" d=\"M1328.96 1273.9 L1328.96 1297.9 L1352.96 1297.9 L1352.96 1273.9 L1328.96 1273.9 Z\" fill=\"#000000\" fill-rule=\"evenodd\" fill-opacity=\"1\" stroke=\"none\"/>\n",
       "<path clip-path=\"url(#clip532)\" d=\"M1370.31 1291.98 L1370.31 1315.98 L1394.31 1315.98 L1394.31 1291.98 L1370.31 1291.98 Z\" fill=\"#000000\" fill-rule=\"evenodd\" fill-opacity=\"1\" stroke=\"none\"/>\n",
       "<path clip-path=\"url(#clip532)\" d=\"M1411.66 1319.07 L1411.66 1343.07 L1435.66 1343.07 L1435.66 1319.07 L1411.66 1319.07 Z\" fill=\"#000000\" fill-rule=\"evenodd\" fill-opacity=\"1\" stroke=\"none\"/>\n",
       "<path clip-path=\"url(#clip532)\" d=\"M1453.01 1260.95 L1453.01 1284.95 L1477.01 1284.95 L1477.01 1260.95 L1453.01 1260.95 Z\" fill=\"#000000\" fill-rule=\"evenodd\" fill-opacity=\"1\" stroke=\"none\"/>\n",
       "<path clip-path=\"url(#clip532)\" d=\"M1494.35 1285.81 L1494.35 1309.81 L1518.35 1309.81 L1518.35 1285.81 L1494.35 1285.81 Z\" fill=\"#000000\" fill-rule=\"evenodd\" fill-opacity=\"1\" stroke=\"none\"/>\n",
       "<path clip-path=\"url(#clip532)\" d=\"M1535.7 1290.11 L1535.7 1314.11 L1559.7 1314.11 L1559.7 1290.11 L1535.7 1290.11 Z\" fill=\"#000000\" fill-rule=\"evenodd\" fill-opacity=\"1\" stroke=\"none\"/>\n",
       "<path clip-path=\"url(#clip532)\" d=\"M1577.05 1298.21 L1577.05 1322.21 L1601.05 1322.21 L1601.05 1298.21 L1577.05 1298.21 Z\" fill=\"#000000\" fill-rule=\"evenodd\" fill-opacity=\"1\" stroke=\"none\"/>\n",
       "<path clip-path=\"url(#clip532)\" d=\"M1618.4 1297.06 L1618.4 1321.06 L1642.4 1321.06 L1642.4 1297.06 L1618.4 1297.06 Z\" fill=\"#000000\" fill-rule=\"evenodd\" fill-opacity=\"1\" stroke=\"none\"/>\n",
       "<path clip-path=\"url(#clip532)\" d=\"M1659.75 1279.99 L1659.75 1303.99 L1683.75 1303.99 L1683.75 1279.99 L1659.75 1279.99 Z\" fill=\"#000000\" fill-rule=\"evenodd\" fill-opacity=\"1\" stroke=\"none\"/>\n",
       "<path clip-path=\"url(#clip532)\" d=\"M1701.1 1277.46 L1701.1 1301.46 L1725.1 1301.46 L1725.1 1277.46 L1701.1 1277.46 Z\" fill=\"#000000\" fill-rule=\"evenodd\" fill-opacity=\"1\" stroke=\"none\"/>\n",
       "<path clip-path=\"url(#clip532)\" d=\"M1742.44 1262.38 L1742.44 1286.38 L1766.44 1286.38 L1766.44 1262.38 L1742.44 1262.38 Z\" fill=\"#000000\" fill-rule=\"evenodd\" fill-opacity=\"1\" stroke=\"none\"/>\n",
       "<path clip-path=\"url(#clip532)\" d=\"M1783.79 1297.93 L1783.79 1321.93 L1807.79 1321.93 L1807.79 1297.93 L1783.79 1297.93 Z\" fill=\"#000000\" fill-rule=\"evenodd\" fill-opacity=\"1\" stroke=\"none\"/>\n",
       "<path clip-path=\"url(#clip532)\" d=\"M1825.14 1316.93 L1825.14 1340.93 L1849.14 1340.93 L1849.14 1316.93 L1825.14 1316.93 Z\" fill=\"#000000\" fill-rule=\"evenodd\" fill-opacity=\"1\" stroke=\"none\"/>\n",
       "<path clip-path=\"url(#clip532)\" d=\"M1866.49 1283.41 L1866.49 1307.41 L1890.49 1307.41 L1890.49 1283.41 L1866.49 1283.41 Z\" fill=\"#000000\" fill-rule=\"evenodd\" fill-opacity=\"1\" stroke=\"none\"/>\n",
       "<path clip-path=\"url(#clip532)\" d=\"M1907.84 1287.34 L1907.84 1311.34 L1931.84 1311.34 L1931.84 1287.34 L1907.84 1287.34 Z\" fill=\"#000000\" fill-rule=\"evenodd\" fill-opacity=\"1\" stroke=\"none\"/>\n",
       "<path clip-path=\"url(#clip532)\" d=\"M1949.19 1301.62 L1949.19 1325.62 L1973.19 1325.62 L1973.19 1301.62 L1949.19 1301.62 Z\" fill=\"#000000\" fill-rule=\"evenodd\" fill-opacity=\"1\" stroke=\"none\"/>\n",
       "<path clip-path=\"url(#clip532)\" d=\"M1990.54 1288.83 L1990.54 1312.83 L2014.54 1312.83 L2014.54 1288.83 L1990.54 1288.83 Z\" fill=\"#000000\" fill-rule=\"evenodd\" fill-opacity=\"1\" stroke=\"none\"/>\n",
       "<path clip-path=\"url(#clip532)\" d=\"M2031.88 1289.62 L2031.88 1313.62 L2055.88 1313.62 L2055.88 1289.62 L2031.88 1289.62 Z\" fill=\"#000000\" fill-rule=\"evenodd\" fill-opacity=\"1\" stroke=\"none\"/>\n",
       "<path clip-path=\"url(#clip532)\" d=\"M2073.23 1284.39 L2073.23 1308.39 L2097.23 1308.39 L2097.23 1284.39 L2073.23 1284.39 Z\" fill=\"#000000\" fill-rule=\"evenodd\" fill-opacity=\"1\" stroke=\"none\"/>\n",
       "<path clip-path=\"url(#clip532)\" d=\"M2114.58 1303.57 L2114.58 1327.57 L2138.58 1327.57 L2138.58 1303.57 L2114.58 1303.57 Z\" fill=\"#000000\" fill-rule=\"evenodd\" fill-opacity=\"1\" stroke=\"none\"/>\n",
       "<path clip-path=\"url(#clip532)\" d=\"M2155.93 1279.75 L2155.93 1303.75 L2179.93 1303.75 L2179.93 1279.75 L2155.93 1279.75 Z\" fill=\"#000000\" fill-rule=\"evenodd\" fill-opacity=\"1\" stroke=\"none\"/>\n",
       "<path clip-path=\"url(#clip532)\" d=\"M2197.28 1268.82 L2197.28 1292.82 L2221.28 1292.82 L2221.28 1268.82 L2197.28 1268.82 Z\" fill=\"#000000\" fill-rule=\"evenodd\" fill-opacity=\"1\" stroke=\"none\"/>\n",
       "<path clip-path=\"url(#clip532)\" d=\"M2238.63 1310.46 L2238.63 1334.46 L2262.63 1334.46 L2262.63 1310.46 L2238.63 1310.46 Z\" fill=\"#000000\" fill-rule=\"evenodd\" fill-opacity=\"1\" stroke=\"none\"/>\n",
       "<path clip-path=\"url(#clip532)\" d=\"M2279.97 1283.66 L2279.97 1307.66 L2303.97 1307.66 L2303.97 1283.66 L2279.97 1283.66 Z\" fill=\"#000000\" fill-rule=\"evenodd\" fill-opacity=\"1\" stroke=\"none\"/>\n",
       "<path clip-path=\"url(#clip530)\" d=\"M276.709 248.629 L788.114 248.629 L788.114 93.1086 L276.709 93.1086  Z\" fill=\"#ffffff\" fill-rule=\"evenodd\" fill-opacity=\"1\"/>\n",
       "<polyline clip-path=\"url(#clip530)\" style=\"stroke:#000000; stroke-linecap:round; stroke-linejoin:round; stroke-width:4; stroke-opacity:1; fill:none\" points=\"276.709,248.629 788.114,248.629 788.114,93.1086 276.709,93.1086 276.709,248.629 \"/>\n",
       "<polyline clip-path=\"url(#clip530)\" style=\"stroke:#000000; stroke-linecap:round; stroke-linejoin:round; stroke-width:4; stroke-opacity:1; fill:none\" points=\"300.571,144.949 443.747,144.949 \"/>\n",
       "<circle clip-path=\"url(#clip530)\" cx=\"372.159\" cy=\"144.949\" r=\"19.8855\" fill=\"#000000\" fill-rule=\"evenodd\" fill-opacity=\"1\" stroke=\"none\"/>\n",
       "<path clip-path=\"url(#clip530)\" d=\"M487.957 141.28 Q489.554 138.409 491.776 137.044 Q493.998 135.678 497.008 135.678 Q501.059 135.678 503.258 138.525 Q505.457 141.349 505.457 146.581 L505.457 162.229 L501.174 162.229 L501.174 146.719 Q501.174 142.993 499.855 141.187 Q498.535 139.382 495.827 139.382 Q492.517 139.382 490.596 141.581 Q488.674 143.78 488.674 147.576 L488.674 162.229 L484.392 162.229 L484.392 146.719 Q484.392 142.969 483.073 141.187 Q481.753 139.382 478.999 139.382 Q475.735 139.382 473.813 141.604 Q471.892 143.803 471.892 147.576 L471.892 162.229 L467.61 162.229 L467.61 136.303 L471.892 136.303 L471.892 140.331 Q473.35 137.946 475.387 136.812 Q477.424 135.678 480.225 135.678 Q483.049 135.678 485.017 137.113 Q487.008 138.548 487.957 141.28 Z\" fill=\"#000000\" fill-rule=\"evenodd\" fill-opacity=\"1\" /><path clip-path=\"url(#clip530)\" d=\"M523.998 139.289 Q520.572 139.289 518.582 141.974 Q516.591 144.636 516.591 149.289 Q516.591 153.942 518.558 156.627 Q520.549 159.289 523.998 159.289 Q527.401 159.289 529.392 156.604 Q531.382 153.918 531.382 149.289 Q531.382 144.682 529.392 141.997 Q527.401 139.289 523.998 139.289 M523.998 135.678 Q529.554 135.678 532.725 139.289 Q535.896 142.9 535.896 149.289 Q535.896 155.655 532.725 159.289 Q529.554 162.9 523.998 162.9 Q518.42 162.9 515.248 159.289 Q512.1 155.655 512.1 149.289 Q512.1 142.9 515.248 139.289 Q518.42 135.678 523.998 135.678 Z\" fill=\"#000000\" fill-rule=\"evenodd\" fill-opacity=\"1\" /><path clip-path=\"url(#clip530)\" d=\"M564.507 146.581 L564.507 162.229 L560.248 162.229 L560.248 146.719 Q560.248 143.039 558.813 141.21 Q557.378 139.382 554.507 139.382 Q551.058 139.382 549.068 141.581 Q547.077 143.78 547.077 147.576 L547.077 162.229 L542.794 162.229 L542.794 136.303 L547.077 136.303 L547.077 140.331 Q548.605 137.993 550.665 136.835 Q552.748 135.678 555.456 135.678 Q559.924 135.678 562.216 138.456 Q564.507 141.21 564.507 146.581 Z\" fill=\"#000000\" fill-rule=\"evenodd\" fill-opacity=\"1\" /><path clip-path=\"url(#clip530)\" d=\"M583.049 139.289 Q579.623 139.289 577.632 141.974 Q575.642 144.636 575.642 149.289 Q575.642 153.942 577.609 156.627 Q579.6 159.289 583.049 159.289 Q586.452 159.289 588.442 156.604 Q590.433 153.918 590.433 149.289 Q590.433 144.682 588.442 141.997 Q586.452 139.289 583.049 139.289 M583.049 135.678 Q588.604 135.678 591.776 139.289 Q594.947 142.9 594.947 149.289 Q594.947 155.655 591.776 159.289 Q588.604 162.9 583.049 162.9 Q577.47 162.9 574.299 159.289 Q571.151 155.655 571.151 149.289 Q571.151 142.9 574.299 139.289 Q577.47 135.678 583.049 135.678 Z\" fill=\"#000000\" fill-rule=\"evenodd\" fill-opacity=\"1\" /><path clip-path=\"url(#clip530)\" d=\"M602.007 126.21 L606.266 126.21 L606.266 162.229 L602.007 162.229 L602.007 126.21 Z\" fill=\"#000000\" fill-rule=\"evenodd\" fill-opacity=\"1\" /><path clip-path=\"url(#clip530)\" d=\"M615.178 136.303 L619.438 136.303 L619.438 162.229 L615.178 162.229 L615.178 136.303 M615.178 126.21 L619.438 126.21 L619.438 131.604 L615.178 131.604 L615.178 126.21 Z\" fill=\"#000000\" fill-rule=\"evenodd\" fill-opacity=\"1\" /><path clip-path=\"url(#clip530)\" d=\"M632.563 128.942 L632.563 136.303 L641.336 136.303 L641.336 139.613 L632.563 139.613 L632.563 153.687 Q632.563 156.858 633.419 157.761 Q634.299 158.664 636.961 158.664 L641.336 158.664 L641.336 162.229 L636.961 162.229 Q632.03 162.229 630.155 160.4 Q628.28 158.548 628.28 153.687 L628.28 139.613 L625.155 139.613 L625.155 136.303 L628.28 136.303 L628.28 128.942 L632.563 128.942 Z\" fill=\"#000000\" fill-rule=\"evenodd\" fill-opacity=\"1\" /><path clip-path=\"url(#clip530)\" d=\"M668.488 146.581 L668.488 162.229 L664.229 162.229 L664.229 146.719 Q664.229 143.039 662.794 141.21 Q661.359 139.382 658.488 139.382 Q655.039 139.382 653.049 141.581 Q651.058 143.78 651.058 147.576 L651.058 162.229 L646.775 162.229 L646.775 126.21 L651.058 126.21 L651.058 140.331 Q652.586 137.993 654.646 136.835 Q656.729 135.678 659.437 135.678 Q663.905 135.678 666.197 138.456 Q668.488 141.21 668.488 146.581 Z\" fill=\"#000000\" fill-rule=\"evenodd\" fill-opacity=\"1\" /><path clip-path=\"url(#clip530)\" d=\"M676.984 136.303 L681.243 136.303 L681.243 162.229 L676.984 162.229 L676.984 136.303 M676.984 126.21 L681.243 126.21 L681.243 131.604 L676.984 131.604 L676.984 126.21 Z\" fill=\"#000000\" fill-rule=\"evenodd\" fill-opacity=\"1\" /><path clip-path=\"url(#clip530)\" d=\"M708.812 137.298 L708.812 141.28 Q707.007 140.284 705.178 139.798 Q703.372 139.289 701.52 139.289 Q697.377 139.289 695.085 141.928 Q692.794 144.544 692.794 149.289 Q692.794 154.034 695.085 156.673 Q697.377 159.289 701.52 159.289 Q703.372 159.289 705.178 158.803 Q707.007 158.293 708.812 157.298 L708.812 161.233 Q707.03 162.067 705.108 162.483 Q703.21 162.9 701.058 162.9 Q695.201 162.9 691.752 159.219 Q688.303 155.539 688.303 149.289 Q688.303 142.946 691.775 139.312 Q695.271 135.678 701.335 135.678 Q703.303 135.678 705.178 136.095 Q707.053 136.488 708.812 137.298 Z\" fill=\"#000000\" fill-rule=\"evenodd\" fill-opacity=\"1\" /><polyline clip-path=\"url(#clip530)\" style=\"stroke:#000000; stroke-linecap:round; stroke-linejoin:round; stroke-width:4; stroke-opacity:1; fill:none\" stroke-dasharray=\"16, 8, 2, 8\" points=\"300.571,196.789 443.747,196.789 \"/>\n",
       "<path clip-path=\"url(#clip530)\" d=\"M350.064 174.694 L350.064 218.884 L394.254 218.884 L394.254 174.694 L350.064 174.694 Z\" fill=\"#000000\" fill-rule=\"evenodd\" fill-opacity=\"1\" stroke=\"none\"/>\n",
       "<path clip-path=\"url(#clip530)\" d=\"M486.522 192.078 L486.522 178.05 L490.781 178.05 L490.781 214.069 L486.522 214.069 L486.522 210.18 Q485.179 212.495 483.119 213.629 Q481.082 214.74 478.211 214.74 Q473.512 214.74 470.549 210.99 Q467.61 207.24 467.61 201.129 Q467.61 195.018 470.549 191.268 Q473.512 187.518 478.211 187.518 Q481.082 187.518 483.119 188.652 Q485.179 189.763 486.522 192.078 M472.008 201.129 Q472.008 205.828 473.929 208.513 Q475.874 211.175 479.253 211.175 Q482.633 211.175 484.577 208.513 Q486.522 205.828 486.522 201.129 Q486.522 196.43 484.577 193.768 Q482.633 191.083 479.253 191.083 Q475.874 191.083 473.929 193.768 Q472.008 196.43 472.008 201.129 Z\" fill=\"#000000\" fill-rule=\"evenodd\" fill-opacity=\"1\" /><path clip-path=\"url(#clip530)\" d=\"M521.73 200.041 L521.73 202.124 L502.147 202.124 Q502.424 206.522 504.785 208.837 Q507.17 211.129 511.406 211.129 Q513.859 211.129 516.151 210.527 Q518.466 209.925 520.734 208.721 L520.734 212.749 Q518.443 213.721 516.035 214.231 Q513.628 214.74 511.151 214.74 Q504.947 214.74 501.313 211.129 Q497.702 207.518 497.702 201.36 Q497.702 194.995 501.128 191.268 Q504.577 187.518 510.41 187.518 Q515.642 187.518 518.674 190.897 Q521.73 194.254 521.73 200.041 M517.471 198.791 Q517.424 195.296 515.503 193.212 Q513.605 191.129 510.457 191.129 Q506.892 191.129 504.739 193.143 Q502.61 195.157 502.285 198.814 L517.471 198.791 Z\" fill=\"#000000\" fill-rule=\"evenodd\" fill-opacity=\"1\" /><path clip-path=\"url(#clip530)\" d=\"M547.378 189.138 L547.378 193.12 Q545.572 192.124 543.744 191.638 Q541.938 191.129 540.086 191.129 Q535.943 191.129 533.651 193.768 Q531.359 196.384 531.359 201.129 Q531.359 205.874 533.651 208.513 Q535.943 211.129 540.086 211.129 Q541.938 211.129 543.744 210.643 Q545.572 210.133 547.378 209.138 L547.378 213.073 Q545.595 213.907 543.674 214.323 Q541.776 214.74 539.623 214.74 Q533.767 214.74 530.318 211.059 Q526.869 207.379 526.869 201.129 Q526.869 194.786 530.341 191.152 Q533.836 187.518 539.901 187.518 Q541.869 187.518 543.744 187.935 Q545.619 188.328 547.378 189.138 Z\" fill=\"#000000\" fill-rule=\"evenodd\" fill-opacity=\"1\" /><path clip-path=\"url(#clip530)\" d=\"M564.831 191.129 Q561.405 191.129 559.415 193.814 Q557.424 196.476 557.424 201.129 Q557.424 205.782 559.392 208.467 Q561.382 211.129 564.831 211.129 Q568.234 211.129 570.225 208.444 Q572.216 205.758 572.216 201.129 Q572.216 196.522 570.225 193.837 Q568.234 191.129 564.831 191.129 M564.831 187.518 Q570.387 187.518 573.558 191.129 Q576.729 194.74 576.729 201.129 Q576.729 207.495 573.558 211.129 Q570.387 214.74 564.831 214.74 Q559.253 214.74 556.081 211.129 Q552.933 207.495 552.933 201.129 Q552.933 194.74 556.081 191.129 Q559.253 187.518 564.831 187.518 Z\" fill=\"#000000\" fill-rule=\"evenodd\" fill-opacity=\"1\" /><path clip-path=\"url(#clip530)\" d=\"M603.975 193.12 Q605.572 190.249 607.794 188.884 Q610.016 187.518 613.026 187.518 Q617.076 187.518 619.276 190.365 Q621.475 193.189 621.475 198.421 L621.475 214.069 L617.192 214.069 L617.192 198.559 Q617.192 194.833 615.873 193.027 Q614.553 191.222 611.845 191.222 Q608.535 191.222 606.614 193.421 Q604.692 195.62 604.692 199.416 L604.692 214.069 L600.41 214.069 L600.41 198.559 Q600.41 194.809 599.09 193.027 Q597.771 191.222 595.016 191.222 Q591.753 191.222 589.831 193.444 Q587.91 195.643 587.91 199.416 L587.91 214.069 L583.628 214.069 L583.628 188.143 L587.91 188.143 L587.91 192.171 Q589.368 189.786 591.405 188.652 Q593.442 187.518 596.243 187.518 Q599.067 187.518 601.035 188.953 Q603.026 190.388 603.975 193.12 Z\" fill=\"#000000\" fill-rule=\"evenodd\" fill-opacity=\"1\" /><path clip-path=\"url(#clip530)\" d=\"M634.09 210.18 L634.09 223.93 L629.808 223.93 L629.808 188.143 L634.09 188.143 L634.09 192.078 Q635.433 189.763 637.47 188.652 Q639.53 187.518 642.377 187.518 Q647.099 187.518 650.039 191.268 Q653.002 195.018 653.002 201.129 Q653.002 207.24 650.039 210.99 Q647.099 214.74 642.377 214.74 Q639.53 214.74 637.47 213.629 Q635.433 212.495 634.09 210.18 M648.581 201.129 Q648.581 196.43 646.637 193.768 Q644.715 191.083 641.336 191.083 Q637.956 191.083 636.012 193.768 Q634.09 196.43 634.09 201.129 Q634.09 205.828 636.012 208.513 Q637.956 211.175 641.336 211.175 Q644.715 211.175 646.637 208.513 Q648.581 205.828 648.581 201.129 Z\" fill=\"#000000\" fill-rule=\"evenodd\" fill-opacity=\"1\" /><path clip-path=\"url(#clip530)\" d=\"M670.109 191.129 Q666.683 191.129 664.692 193.814 Q662.701 196.476 662.701 201.129 Q662.701 205.782 664.669 208.467 Q666.66 211.129 670.109 211.129 Q673.511 211.129 675.502 208.444 Q677.493 205.758 677.493 201.129 Q677.493 196.522 675.502 193.837 Q673.511 191.129 670.109 191.129 M670.109 187.518 Q675.664 187.518 678.835 191.129 Q682.007 194.74 682.007 201.129 Q682.007 207.495 678.835 211.129 Q675.664 214.74 670.109 214.74 Q664.53 214.74 661.359 211.129 Q658.211 207.495 658.211 201.129 Q658.211 194.74 661.359 191.129 Q664.53 187.518 670.109 187.518 Z\" fill=\"#000000\" fill-rule=\"evenodd\" fill-opacity=\"1\" /><path clip-path=\"url(#clip530)\" d=\"M705.595 188.907 L705.595 192.934 Q703.789 192.009 701.845 191.546 Q699.9 191.083 697.817 191.083 Q694.646 191.083 693.048 192.055 Q691.474 193.027 691.474 194.971 Q691.474 196.453 692.608 197.309 Q693.743 198.143 697.169 198.907 L698.627 199.231 Q703.164 200.203 705.062 201.985 Q706.983 203.745 706.983 206.916 Q706.983 210.527 704.113 212.633 Q701.266 214.74 696.266 214.74 Q694.183 214.74 691.914 214.323 Q689.669 213.93 687.169 213.12 L687.169 208.721 Q689.53 209.948 691.821 210.573 Q694.113 211.175 696.358 211.175 Q699.368 211.175 700.988 210.157 Q702.608 209.115 702.608 207.24 Q702.608 205.504 701.428 204.578 Q700.27 203.652 696.312 202.796 L694.831 202.448 Q690.872 201.615 689.113 199.902 Q687.354 198.166 687.354 195.157 Q687.354 191.499 689.946 189.509 Q692.539 187.518 697.308 187.518 Q699.669 187.518 701.752 187.865 Q703.835 188.212 705.595 188.907 Z\" fill=\"#000000\" fill-rule=\"evenodd\" fill-opacity=\"1\" /><path clip-path=\"url(#clip530)\" d=\"M735.942 200.041 L735.942 202.124 L716.358 202.124 Q716.636 206.522 718.997 208.837 Q721.381 211.129 725.618 211.129 Q728.071 211.129 730.363 210.527 Q732.678 209.925 734.946 208.721 L734.946 212.749 Q732.655 213.721 730.247 214.231 Q727.84 214.74 725.363 214.74 Q719.159 214.74 715.525 211.129 Q711.914 207.518 711.914 201.36 Q711.914 194.995 715.34 191.268 Q718.789 187.518 724.622 187.518 Q729.854 187.518 732.886 190.897 Q735.942 194.254 735.942 200.041 M731.682 198.791 Q731.636 195.296 729.715 193.212 Q727.817 191.129 724.668 191.129 Q721.104 191.129 718.951 193.143 Q716.821 195.157 716.497 198.814 L731.682 198.791 Z\" fill=\"#000000\" fill-rule=\"evenodd\" fill-opacity=\"1\" /><path clip-path=\"url(#clip530)\" d=\"M759.992 192.078 L759.992 178.05 L764.252 178.05 L764.252 214.069 L759.992 214.069 L759.992 210.18 Q758.65 212.495 756.59 213.629 Q754.553 214.74 751.682 214.74 Q746.983 214.74 744.02 210.99 Q741.08 207.24 741.08 201.129 Q741.08 195.018 744.02 191.268 Q746.983 187.518 751.682 187.518 Q754.553 187.518 756.59 188.652 Q758.65 189.763 759.992 192.078 M745.479 201.129 Q745.479 205.828 747.4 208.513 Q749.344 211.175 752.724 211.175 Q756.104 211.175 758.048 208.513 Q759.992 205.828 759.992 201.129 Q759.992 196.43 758.048 193.768 Q756.104 191.083 752.724 191.083 Q749.344 191.083 747.4 193.768 Q745.479 196.43 745.479 201.129 Z\" fill=\"#000000\" fill-rule=\"evenodd\" fill-opacity=\"1\" /></svg>\n"
      ]
     },
     "metadata": {},
     "output_type": "display_data"
    }
   ],
   "source": [
    "# solution time (parallel)\n",
    "p1b = plot(1:nScenMax,solTimeTraj_s[1,:],\n",
    "    xlabel=\"# scenarios\", \n",
    "    ylabel=\"sol. time (max) [s]\",\n",
    "    marker=:circle, \n",
    "    markercolor = :black,\n",
    "    linecolor = :black,\n",
    "    label=\"monolithic\")\n",
    "\n",
    "p1b = plot!(1:nScenMax,solTimeMaxTraj_s,\n",
    "    marker=:square, \n",
    "    markercolor = :black,\n",
    "    linecolor = :black,\n",
    "    markersize = 3,\n",
    "    linestyle = :dashdot,\n",
    "    label=\"decomposed\",\n",
    "    gridlinewidth=2,\n",
    "    dpi=600)\n",
    "\n",
    "display(p1b)\n",
    "#savefig(p1b,\"C:/Users/MACC-Jose/Documents/Canada/Papers/Benders Decomposition/Figures/C2_r5_SolTimePar.pdf\");"
   ]
  },
  {
   "cell_type": "code",
   "execution_count": 18,
   "id": "18cad4e5",
   "metadata": {},
   "outputs": [
    {
     "data": {
      "image/svg+xml": [
       "<?xml version=\"1.0\" encoding=\"utf-8\"?>\n",
       "<svg xmlns=\"http://www.w3.org/2000/svg\" xmlns:xlink=\"http://www.w3.org/1999/xlink\" width=\"600\" height=\"400\" viewBox=\"0 0 2400 1600\">\n",
       "<defs>\n",
       "  <clipPath id=\"clip580\">\n",
       "    <rect x=\"0\" y=\"0\" width=\"2400\" height=\"1600\"/>\n",
       "  </clipPath>\n",
       "</defs>\n",
       "<path clip-path=\"url(#clip580)\" d=\"M0 1600 L2400 1600 L2400 0 L0 0  Z\" fill=\"#ffffff\" fill-rule=\"evenodd\" fill-opacity=\"1\"/>\n",
       "<defs>\n",
       "  <clipPath id=\"clip581\">\n",
       "    <rect x=\"480\" y=\"0\" width=\"1681\" height=\"1600\"/>\n",
       "  </clipPath>\n",
       "</defs>\n",
       "<path clip-path=\"url(#clip580)\" d=\"M287.852 1423.18 L2352.76 1423.18 L2352.76 47.2441 L287.852 47.2441  Z\" fill=\"#ffffff\" fill-rule=\"evenodd\" fill-opacity=\"1\"/>\n",
       "<defs>\n",
       "  <clipPath id=\"clip582\">\n",
       "    <rect x=\"287\" y=\"47\" width=\"2066\" height=\"1377\"/>\n",
       "  </clipPath>\n",
       "</defs>\n",
       "<polyline clip-path=\"url(#clip582)\" style=\"stroke:#000000; stroke-linecap:round; stroke-linejoin:round; stroke-width:2; stroke-opacity:0.1; fill:none\" points=\"306.537,1423.18 306.537,47.2441 \"/>\n",
       "<polyline clip-path=\"url(#clip582)\" style=\"stroke:#000000; stroke-linecap:round; stroke-linejoin:round; stroke-width:2; stroke-opacity:0.1; fill:none\" points=\"704.093,1423.18 704.093,47.2441 \"/>\n",
       "<polyline clip-path=\"url(#clip582)\" style=\"stroke:#000000; stroke-linecap:round; stroke-linejoin:round; stroke-width:2; stroke-opacity:0.1; fill:none\" points=\"1101.65,1423.18 1101.65,47.2441 \"/>\n",
       "<polyline clip-path=\"url(#clip582)\" style=\"stroke:#000000; stroke-linecap:round; stroke-linejoin:round; stroke-width:2; stroke-opacity:0.1; fill:none\" points=\"1499.2,1423.18 1499.2,47.2441 \"/>\n",
       "<polyline clip-path=\"url(#clip582)\" style=\"stroke:#000000; stroke-linecap:round; stroke-linejoin:round; stroke-width:2; stroke-opacity:0.1; fill:none\" points=\"1896.76,1423.18 1896.76,47.2441 \"/>\n",
       "<polyline clip-path=\"url(#clip582)\" style=\"stroke:#000000; stroke-linecap:round; stroke-linejoin:round; stroke-width:2; stroke-opacity:0.1; fill:none\" points=\"2294.32,1423.18 2294.32,47.2441 \"/>\n",
       "<polyline clip-path=\"url(#clip580)\" style=\"stroke:#000000; stroke-linecap:round; stroke-linejoin:round; stroke-width:4; stroke-opacity:1; fill:none\" points=\"287.852,1423.18 2352.76,1423.18 \"/>\n",
       "<polyline clip-path=\"url(#clip580)\" style=\"stroke:#000000; stroke-linecap:round; stroke-linejoin:round; stroke-width:4; stroke-opacity:1; fill:none\" points=\"306.537,1423.18 306.537,1404.28 \"/>\n",
       "<polyline clip-path=\"url(#clip580)\" style=\"stroke:#000000; stroke-linecap:round; stroke-linejoin:round; stroke-width:4; stroke-opacity:1; fill:none\" points=\"704.093,1423.18 704.093,1404.28 \"/>\n",
       "<polyline clip-path=\"url(#clip580)\" style=\"stroke:#000000; stroke-linecap:round; stroke-linejoin:round; stroke-width:4; stroke-opacity:1; fill:none\" points=\"1101.65,1423.18 1101.65,1404.28 \"/>\n",
       "<polyline clip-path=\"url(#clip580)\" style=\"stroke:#000000; stroke-linecap:round; stroke-linejoin:round; stroke-width:4; stroke-opacity:1; fill:none\" points=\"1499.2,1423.18 1499.2,1404.28 \"/>\n",
       "<polyline clip-path=\"url(#clip580)\" style=\"stroke:#000000; stroke-linecap:round; stroke-linejoin:round; stroke-width:4; stroke-opacity:1; fill:none\" points=\"1896.76,1423.18 1896.76,1404.28 \"/>\n",
       "<polyline clip-path=\"url(#clip580)\" style=\"stroke:#000000; stroke-linecap:round; stroke-linejoin:round; stroke-width:4; stroke-opacity:1; fill:none\" points=\"2294.32,1423.18 2294.32,1404.28 \"/>\n",
       "<path clip-path=\"url(#clip580)\" d=\"M306.537 1454.1 Q302.926 1454.1 301.097 1457.66 Q299.292 1461.2 299.292 1468.33 Q299.292 1475.44 301.097 1479.01 Q302.926 1482.55 306.537 1482.55 Q310.171 1482.55 311.977 1479.01 Q313.806 1475.44 313.806 1468.33 Q313.806 1461.2 311.977 1457.66 Q310.171 1454.1 306.537 1454.1 M306.537 1450.39 Q312.347 1450.39 315.403 1455 Q318.482 1459.58 318.482 1468.33 Q318.482 1477.06 315.403 1481.67 Q312.347 1486.25 306.537 1486.25 Q300.727 1486.25 297.648 1481.67 Q294.593 1477.06 294.593 1468.33 Q294.593 1459.58 297.648 1455 Q300.727 1450.39 306.537 1450.39 Z\" fill=\"#000000\" fill-rule=\"evenodd\" fill-opacity=\"1\" /><path clip-path=\"url(#clip580)\" d=\"M678.78 1481.64 L686.419 1481.64 L686.419 1455.28 L678.109 1456.95 L678.109 1452.69 L686.373 1451.02 L691.049 1451.02 L691.049 1481.64 L698.688 1481.64 L698.688 1485.58 L678.78 1485.58 L678.78 1481.64 Z\" fill=\"#000000\" fill-rule=\"evenodd\" fill-opacity=\"1\" /><path clip-path=\"url(#clip580)\" d=\"M718.132 1454.1 Q714.521 1454.1 712.692 1457.66 Q710.887 1461.2 710.887 1468.33 Q710.887 1475.44 712.692 1479.01 Q714.521 1482.55 718.132 1482.55 Q721.766 1482.55 723.572 1479.01 Q725.401 1475.44 725.401 1468.33 Q725.401 1461.2 723.572 1457.66 Q721.766 1454.1 718.132 1454.1 M718.132 1450.39 Q723.942 1450.39 726.998 1455 Q730.076 1459.58 730.076 1468.33 Q730.076 1477.06 726.998 1481.67 Q723.942 1486.25 718.132 1486.25 Q712.322 1486.25 709.243 1481.67 Q706.188 1477.06 706.188 1468.33 Q706.188 1459.58 709.243 1455 Q712.322 1450.39 718.132 1450.39 Z\" fill=\"#000000\" fill-rule=\"evenodd\" fill-opacity=\"1\" /><path clip-path=\"url(#clip580)\" d=\"M1080.42 1481.64 L1096.74 1481.64 L1096.74 1485.58 L1074.8 1485.58 L1074.8 1481.64 Q1077.46 1478.89 1082.04 1474.26 Q1086.65 1469.61 1087.83 1468.27 Q1090.07 1465.74 1090.95 1464.01 Q1091.86 1462.25 1091.86 1460.56 Q1091.86 1457.8 1089.91 1456.07 Q1087.99 1454.33 1084.89 1454.33 Q1082.69 1454.33 1080.24 1455.09 Q1077.81 1455.86 1075.03 1457.41 L1075.03 1452.69 Q1077.85 1451.55 1080.31 1450.97 Q1082.76 1450.39 1084.8 1450.39 Q1090.17 1450.39 1093.36 1453.08 Q1096.56 1455.77 1096.56 1460.26 Q1096.56 1462.39 1095.75 1464.31 Q1094.96 1466.2 1092.85 1468.8 Q1092.27 1469.47 1089.17 1472.69 Q1086.07 1475.88 1080.42 1481.64 Z\" fill=\"#000000\" fill-rule=\"evenodd\" fill-opacity=\"1\" /><path clip-path=\"url(#clip580)\" d=\"M1116.56 1454.1 Q1112.94 1454.1 1111.12 1457.66 Q1109.31 1461.2 1109.31 1468.33 Q1109.31 1475.44 1111.12 1479.01 Q1112.94 1482.55 1116.56 1482.55 Q1120.19 1482.55 1122 1479.01 Q1123.82 1475.44 1123.82 1468.33 Q1123.82 1461.2 1122 1457.66 Q1120.19 1454.1 1116.56 1454.1 M1116.56 1450.39 Q1122.37 1450.39 1125.42 1455 Q1128.5 1459.58 1128.5 1468.33 Q1128.5 1477.06 1125.42 1481.67 Q1122.37 1486.25 1116.56 1486.25 Q1110.75 1486.25 1107.67 1481.67 Q1104.61 1477.06 1104.61 1468.33 Q1104.61 1459.58 1107.67 1455 Q1110.75 1450.39 1116.56 1450.39 Z\" fill=\"#000000\" fill-rule=\"evenodd\" fill-opacity=\"1\" /><path clip-path=\"url(#clip580)\" d=\"M1488.05 1466.95 Q1491.4 1467.66 1493.28 1469.93 Q1495.18 1472.2 1495.18 1475.53 Q1495.18 1480.65 1491.66 1483.45 Q1488.14 1486.25 1481.66 1486.25 Q1479.48 1486.25 1477.17 1485.81 Q1474.88 1485.39 1472.42 1484.54 L1472.42 1480.02 Q1474.37 1481.16 1476.68 1481.74 Q1479 1482.32 1481.52 1482.32 Q1485.92 1482.32 1488.21 1480.58 Q1490.52 1478.84 1490.52 1475.53 Q1490.52 1472.48 1488.37 1470.77 Q1486.24 1469.03 1482.42 1469.03 L1478.39 1469.03 L1478.39 1465.19 L1482.61 1465.19 Q1486.06 1465.19 1487.88 1463.82 Q1489.71 1462.43 1489.71 1459.84 Q1489.71 1457.18 1487.82 1455.77 Q1485.94 1454.33 1482.42 1454.33 Q1480.5 1454.33 1478.3 1454.75 Q1476.1 1455.16 1473.46 1456.04 L1473.46 1451.88 Q1476.13 1451.14 1478.44 1450.77 Q1480.78 1450.39 1482.84 1450.39 Q1488.16 1450.39 1491.26 1452.83 Q1494.37 1455.23 1494.37 1459.35 Q1494.37 1462.22 1492.72 1464.21 Q1491.08 1466.18 1488.05 1466.95 Z\" fill=\"#000000\" fill-rule=\"evenodd\" fill-opacity=\"1\" /><path clip-path=\"url(#clip580)\" d=\"M1514.04 1454.1 Q1510.43 1454.1 1508.6 1457.66 Q1506.8 1461.2 1506.8 1468.33 Q1506.8 1475.44 1508.6 1479.01 Q1510.43 1482.55 1514.04 1482.55 Q1517.68 1482.55 1519.48 1479.01 Q1521.31 1475.44 1521.31 1468.33 Q1521.31 1461.2 1519.48 1457.66 Q1517.68 1454.1 1514.04 1454.1 M1514.04 1450.39 Q1519.85 1450.39 1522.91 1455 Q1525.99 1459.58 1525.99 1468.33 Q1525.99 1477.06 1522.91 1481.67 Q1519.85 1486.25 1514.04 1486.25 Q1508.23 1486.25 1505.15 1481.67 Q1502.1 1477.06 1502.1 1468.33 Q1502.1 1459.58 1505.15 1455 Q1508.23 1450.39 1514.04 1450.39 Z\" fill=\"#000000\" fill-rule=\"evenodd\" fill-opacity=\"1\" /><path clip-path=\"url(#clip580)\" d=\"M1884.93 1455.09 L1873.13 1473.54 L1884.93 1473.54 L1884.93 1455.09 M1883.7 1451.02 L1889.58 1451.02 L1889.58 1473.54 L1894.51 1473.54 L1894.51 1477.43 L1889.58 1477.43 L1889.58 1485.58 L1884.93 1485.58 L1884.93 1477.43 L1869.33 1477.43 L1869.33 1472.92 L1883.7 1451.02 Z\" fill=\"#000000\" fill-rule=\"evenodd\" fill-opacity=\"1\" /><path clip-path=\"url(#clip580)\" d=\"M1912.25 1454.1 Q1908.63 1454.1 1906.81 1457.66 Q1905 1461.2 1905 1468.33 Q1905 1475.44 1906.81 1479.01 Q1908.63 1482.55 1912.25 1482.55 Q1915.88 1482.55 1917.69 1479.01 Q1919.51 1475.44 1919.51 1468.33 Q1919.51 1461.2 1917.69 1457.66 Q1915.88 1454.1 1912.25 1454.1 M1912.25 1450.39 Q1918.06 1450.39 1921.11 1455 Q1924.19 1459.58 1924.19 1468.33 Q1924.19 1477.06 1921.11 1481.67 Q1918.06 1486.25 1912.25 1486.25 Q1906.44 1486.25 1903.36 1481.67 Q1900.3 1477.06 1900.3 1468.33 Q1900.3 1459.58 1903.36 1455 Q1906.44 1450.39 1912.25 1450.39 Z\" fill=\"#000000\" fill-rule=\"evenodd\" fill-opacity=\"1\" /><path clip-path=\"url(#clip580)\" d=\"M2269.01 1451.02 L2287.37 1451.02 L2287.37 1454.96 L2273.3 1454.96 L2273.3 1463.43 Q2274.32 1463.08 2275.33 1462.92 Q2276.35 1462.73 2277.37 1462.73 Q2283.16 1462.73 2286.54 1465.9 Q2289.92 1469.08 2289.92 1474.49 Q2289.92 1480.07 2286.44 1483.17 Q2282.97 1486.25 2276.65 1486.25 Q2274.48 1486.25 2272.21 1485.88 Q2269.96 1485.51 2267.56 1484.77 L2267.56 1480.07 Q2269.64 1481.2 2271.86 1481.76 Q2274.08 1482.32 2276.56 1482.32 Q2280.57 1482.32 2282.9 1480.21 Q2285.24 1478.1 2285.24 1474.49 Q2285.24 1470.88 2282.9 1468.77 Q2280.57 1466.67 2276.56 1466.67 Q2274.69 1466.67 2272.81 1467.08 Q2270.96 1467.5 2269.01 1468.38 L2269.01 1451.02 Z\" fill=\"#000000\" fill-rule=\"evenodd\" fill-opacity=\"1\" /><path clip-path=\"url(#clip580)\" d=\"M2309.13 1454.1 Q2305.52 1454.1 2303.69 1457.66 Q2301.88 1461.2 2301.88 1468.33 Q2301.88 1475.44 2303.69 1479.01 Q2305.52 1482.55 2309.13 1482.55 Q2312.76 1482.55 2314.57 1479.01 Q2316.4 1475.44 2316.4 1468.33 Q2316.4 1461.2 2314.57 1457.66 Q2312.76 1454.1 2309.13 1454.1 M2309.13 1450.39 Q2314.94 1450.39 2318 1455 Q2321.07 1459.58 2321.07 1468.33 Q2321.07 1477.06 2318 1481.67 Q2314.94 1486.25 2309.13 1486.25 Q2303.32 1486.25 2300.24 1481.67 Q2297.19 1477.06 2297.19 1468.33 Q2297.19 1459.58 2300.24 1455 Q2303.32 1450.39 2309.13 1450.39 Z\" fill=\"#000000\" fill-rule=\"evenodd\" fill-opacity=\"1\" /><path clip-path=\"url(#clip580)\" d=\"M1160.08 1539.37 L1150.82 1539.37 L1148.14 1550 L1157.47 1550 L1160.08 1539.37 M1155.3 1521.26 L1151.99 1534.46 L1161.29 1534.46 L1164.63 1521.26 L1169.72 1521.26 L1166.44 1534.46 L1176.38 1534.46 L1176.38 1539.37 L1165.2 1539.37 L1162.59 1550 L1172.72 1550 L1172.72 1554.87 L1161.35 1554.87 L1158.04 1568.04 L1152.95 1568.04 L1156.23 1554.87 L1146.9 1554.87 L1143.62 1568.04 L1138.5 1568.04 L1141.81 1554.87 L1131.78 1554.87 L1131.78 1550 L1142.99 1550 L1145.66 1539.37 L1135.41 1539.37 L1135.41 1534.46 L1146.9 1534.46 L1150.15 1521.26 L1155.3 1521.26 Z\" fill=\"#000000\" fill-rule=\"evenodd\" fill-opacity=\"1\" /><path clip-path=\"url(#clip580)\" d=\"M1230.96 1533.45 L1230.96 1538.98 Q1228.48 1537.71 1225.81 1537.07 Q1223.13 1536.44 1220.27 1536.44 Q1215.91 1536.44 1213.71 1537.77 Q1211.55 1539.11 1211.55 1541.79 Q1211.55 1543.82 1213.11 1545 Q1214.67 1546.15 1219.38 1547.2 L1221.38 1547.64 Q1227.62 1548.98 1230.23 1551.43 Q1232.87 1553.85 1232.87 1558.21 Q1232.87 1563.17 1228.92 1566.07 Q1225.01 1568.97 1218.13 1568.97 Q1215.27 1568.97 1212.15 1568.39 Q1209.06 1567.85 1205.63 1566.74 L1205.63 1560.69 Q1208.87 1562.38 1212.02 1563.24 Q1215.17 1564.07 1218.26 1564.07 Q1222.4 1564.07 1224.63 1562.66 Q1226.86 1561.23 1226.86 1558.65 Q1226.86 1556.27 1225.23 1554.99 Q1223.64 1553.72 1218.2 1552.54 L1216.16 1552.07 Q1210.72 1550.92 1208.3 1548.56 Q1205.88 1546.18 1205.88 1542.04 Q1205.88 1537.01 1209.45 1534.27 Q1213.01 1531.54 1219.57 1531.54 Q1222.81 1531.54 1225.68 1532.01 Q1228.54 1532.49 1230.96 1533.45 Z\" fill=\"#000000\" fill-rule=\"evenodd\" fill-opacity=\"1\" /><path clip-path=\"url(#clip580)\" d=\"M1267.85 1533.76 L1267.85 1539.24 Q1265.37 1537.87 1262.85 1537.2 Q1260.37 1536.5 1257.82 1536.5 Q1252.13 1536.5 1248.98 1540.13 Q1245.83 1543.73 1245.83 1550.25 Q1245.83 1556.78 1248.98 1560.4 Q1252.13 1564 1257.82 1564 Q1260.37 1564 1262.85 1563.33 Q1265.37 1562.63 1267.85 1561.26 L1267.85 1566.68 Q1265.4 1567.82 1262.76 1568.39 Q1260.15 1568.97 1257.19 1568.97 Q1249.14 1568.97 1244.39 1563.91 Q1239.65 1558.85 1239.65 1550.25 Q1239.65 1541.53 1244.42 1536.53 Q1249.23 1531.54 1257.57 1531.54 Q1260.28 1531.54 1262.85 1532.11 Q1265.43 1532.65 1267.85 1533.76 Z\" fill=\"#000000\" fill-rule=\"evenodd\" fill-opacity=\"1\" /><path clip-path=\"url(#clip580)\" d=\"M1308.53 1548.76 L1308.53 1551.62 L1281.6 1551.62 Q1281.98 1557.67 1285.23 1560.85 Q1288.51 1564 1294.33 1564 Q1297.71 1564 1300.86 1563.17 Q1304.04 1562.35 1307.16 1560.69 L1307.16 1566.23 Q1304.01 1567.57 1300.7 1568.27 Q1297.39 1568.97 1293.98 1568.97 Q1285.45 1568.97 1280.45 1564 Q1275.49 1559.04 1275.49 1550.57 Q1275.49 1541.82 1280.2 1536.69 Q1284.94 1531.54 1292.96 1531.54 Q1300.16 1531.54 1304.33 1536.18 Q1308.53 1540.8 1308.53 1548.76 M1302.67 1547.04 Q1302.61 1542.23 1299.97 1539.37 Q1297.36 1536.5 1293.03 1536.5 Q1288.13 1536.5 1285.17 1539.27 Q1282.24 1542.04 1281.79 1547.07 L1302.67 1547.04 Z\" fill=\"#000000\" fill-rule=\"evenodd\" fill-opacity=\"1\" /><path clip-path=\"url(#clip580)\" d=\"M1347.77 1546.53 L1347.77 1568.04 L1341.92 1568.04 L1341.92 1546.72 Q1341.92 1541.66 1339.94 1539.14 Q1337.97 1536.63 1334.02 1536.63 Q1329.28 1536.63 1326.54 1539.65 Q1323.81 1542.68 1323.81 1547.9 L1323.81 1568.04 L1317.92 1568.04 L1317.92 1532.4 L1323.81 1532.4 L1323.81 1537.93 Q1325.91 1534.72 1328.74 1533.13 Q1331.6 1531.54 1335.33 1531.54 Q1341.47 1531.54 1344.62 1535.36 Q1347.77 1539.14 1347.77 1546.53 Z\" fill=\"#000000\" fill-rule=\"evenodd\" fill-opacity=\"1\" /><path clip-path=\"url(#clip580)\" d=\"M1375.65 1550.12 Q1368.56 1550.12 1365.82 1551.75 Q1363.08 1553.37 1363.08 1557.29 Q1363.08 1560.4 1365.12 1562.25 Q1367.19 1564.07 1370.72 1564.07 Q1375.59 1564.07 1378.52 1560.63 Q1381.48 1557.16 1381.48 1551.43 L1381.48 1550.12 L1375.65 1550.12 M1387.33 1547.71 L1387.33 1568.04 L1381.48 1568.04 L1381.48 1562.63 Q1379.47 1565.88 1376.48 1567.44 Q1373.49 1568.97 1369.16 1568.97 Q1363.69 1568.97 1360.44 1565.91 Q1357.23 1562.82 1357.23 1557.67 Q1357.23 1551.65 1361.24 1548.6 Q1365.28 1545.54 1373.27 1545.54 L1381.48 1545.54 L1381.48 1544.97 Q1381.48 1540.93 1378.8 1538.73 Q1376.16 1536.5 1371.36 1536.5 Q1368.3 1536.5 1365.4 1537.23 Q1362.51 1537.97 1359.83 1539.43 L1359.83 1534.02 Q1363.05 1532.78 1366.07 1532.17 Q1369.1 1531.54 1371.96 1531.54 Q1379.7 1531.54 1383.52 1535.55 Q1387.33 1539.56 1387.33 1547.71 Z\" fill=\"#000000\" fill-rule=\"evenodd\" fill-opacity=\"1\" /><path clip-path=\"url(#clip580)\" d=\"M1420.05 1537.87 Q1419.07 1537.3 1417.89 1537.04 Q1416.74 1536.76 1415.34 1536.76 Q1410.38 1536.76 1407.71 1540 Q1405.06 1543.22 1405.06 1549.27 L1405.06 1568.04 L1399.18 1568.04 L1399.18 1532.4 L1405.06 1532.4 L1405.06 1537.93 Q1406.91 1534.69 1409.87 1533.13 Q1412.83 1531.54 1417.06 1531.54 Q1417.67 1531.54 1418.4 1531.63 Q1419.13 1531.7 1420.02 1531.85 L1420.05 1537.87 Z\" fill=\"#000000\" fill-rule=\"evenodd\" fill-opacity=\"1\" /><path clip-path=\"url(#clip580)\" d=\"M1426.2 1532.4 L1432.05 1532.4 L1432.05 1568.04 L1426.2 1568.04 L1426.2 1532.4 M1426.2 1518.52 L1432.05 1518.52 L1432.05 1525.93 L1426.2 1525.93 L1426.2 1518.52 Z\" fill=\"#000000\" fill-rule=\"evenodd\" fill-opacity=\"1\" /><path clip-path=\"url(#clip580)\" d=\"M1458.12 1536.5 Q1453.41 1536.5 1450.67 1540.19 Q1447.94 1543.85 1447.94 1550.25 Q1447.94 1556.65 1450.64 1560.34 Q1453.38 1564 1458.12 1564 Q1462.8 1564 1465.54 1560.31 Q1468.27 1556.62 1468.27 1550.25 Q1468.27 1543.92 1465.54 1540.23 Q1462.8 1536.5 1458.12 1536.5 M1458.12 1531.54 Q1465.76 1531.54 1470.12 1536.5 Q1474.48 1541.47 1474.48 1550.25 Q1474.48 1559 1470.12 1564 Q1465.76 1568.97 1458.12 1568.97 Q1450.45 1568.97 1446.09 1564 Q1441.76 1559 1441.76 1550.25 Q1441.76 1541.47 1446.09 1536.5 Q1450.45 1531.54 1458.12 1531.54 Z\" fill=\"#000000\" fill-rule=\"evenodd\" fill-opacity=\"1\" /><path clip-path=\"url(#clip580)\" d=\"M1506.91 1533.45 L1506.91 1538.98 Q1504.43 1537.71 1501.76 1537.07 Q1499.08 1536.44 1496.22 1536.44 Q1491.86 1536.44 1489.66 1537.77 Q1487.5 1539.11 1487.5 1541.79 Q1487.5 1543.82 1489.06 1545 Q1490.62 1546.15 1495.33 1547.2 L1497.33 1547.64 Q1503.57 1548.98 1506.18 1551.43 Q1508.82 1553.85 1508.82 1558.21 Q1508.82 1563.17 1504.88 1566.07 Q1500.96 1568.97 1494.09 1568.97 Q1491.22 1568.97 1488.1 1568.39 Q1485.02 1567.85 1481.58 1566.74 L1481.58 1560.69 Q1484.83 1562.38 1487.98 1563.24 Q1491.13 1564.07 1494.22 1564.07 Q1498.35 1564.07 1500.58 1562.66 Q1502.81 1561.23 1502.81 1558.65 Q1502.81 1556.27 1501.19 1554.99 Q1499.59 1553.72 1494.15 1552.54 L1492.11 1552.07 Q1486.67 1550.92 1484.25 1548.56 Q1481.83 1546.18 1481.83 1542.04 Q1481.83 1537.01 1485.4 1534.27 Q1488.96 1531.54 1495.52 1531.54 Q1498.77 1531.54 1501.63 1532.01 Q1504.5 1532.49 1506.91 1533.45 Z\" fill=\"#000000\" fill-rule=\"evenodd\" fill-opacity=\"1\" /><polyline clip-path=\"url(#clip582)\" style=\"stroke:#000000; stroke-linecap:round; stroke-linejoin:round; stroke-width:2; stroke-opacity:0.1; fill:none\" points=\"287.852,1203.8 2352.76,1203.8 \"/>\n",
       "<polyline clip-path=\"url(#clip582)\" style=\"stroke:#000000; stroke-linecap:round; stroke-linejoin:round; stroke-width:2; stroke-opacity:0.1; fill:none\" points=\"287.852,818.622 2352.76,818.622 \"/>\n",
       "<polyline clip-path=\"url(#clip582)\" style=\"stroke:#000000; stroke-linecap:round; stroke-linejoin:round; stroke-width:2; stroke-opacity:0.1; fill:none\" points=\"287.852,433.448 2352.76,433.448 \"/>\n",
       "<polyline clip-path=\"url(#clip582)\" style=\"stroke:#000000; stroke-linecap:round; stroke-linejoin:round; stroke-width:2; stroke-opacity:0.1; fill:none\" points=\"287.852,48.2744 2352.76,48.2744 \"/>\n",
       "<polyline clip-path=\"url(#clip580)\" style=\"stroke:#000000; stroke-linecap:round; stroke-linejoin:round; stroke-width:4; stroke-opacity:1; fill:none\" points=\"287.852,1423.18 287.852,47.2441 \"/>\n",
       "<polyline clip-path=\"url(#clip580)\" style=\"stroke:#000000; stroke-linecap:round; stroke-linejoin:round; stroke-width:4; stroke-opacity:1; fill:none\" points=\"287.852,1203.8 306.75,1203.8 \"/>\n",
       "<polyline clip-path=\"url(#clip580)\" style=\"stroke:#000000; stroke-linecap:round; stroke-linejoin:round; stroke-width:4; stroke-opacity:1; fill:none\" points=\"287.852,818.622 306.75,818.622 \"/>\n",
       "<polyline clip-path=\"url(#clip580)\" style=\"stroke:#000000; stroke-linecap:round; stroke-linejoin:round; stroke-width:4; stroke-opacity:1; fill:none\" points=\"287.852,433.448 306.75,433.448 \"/>\n",
       "<polyline clip-path=\"url(#clip580)\" style=\"stroke:#000000; stroke-linecap:round; stroke-linejoin:round; stroke-width:4; stroke-opacity:1; fill:none\" points=\"287.852,48.2744 306.75,48.2744 \"/>\n",
       "<path clip-path=\"url(#clip580)\" d=\"M114.26 1204.25 L143.936 1204.25 L143.936 1208.18 L114.26 1208.18 L114.26 1204.25 Z\" fill=\"#000000\" fill-rule=\"evenodd\" fill-opacity=\"1\" /><path clip-path=\"url(#clip580)\" d=\"M164.028 1189.6 Q160.417 1189.6 158.589 1193.16 Q156.783 1196.7 156.783 1203.83 Q156.783 1210.94 158.589 1214.5 Q160.417 1218.04 164.028 1218.04 Q167.663 1218.04 169.468 1214.5 Q171.297 1210.94 171.297 1203.83 Q171.297 1196.7 169.468 1193.16 Q167.663 1189.6 164.028 1189.6 M164.028 1185.89 Q169.839 1185.89 172.894 1190.5 Q175.973 1195.08 175.973 1203.83 Q175.973 1212.56 172.894 1217.16 Q169.839 1221.75 164.028 1221.75 Q158.218 1221.75 155.14 1217.16 Q152.084 1212.56 152.084 1203.83 Q152.084 1195.08 155.14 1190.5 Q158.218 1185.89 164.028 1185.89 Z\" fill=\"#000000\" fill-rule=\"evenodd\" fill-opacity=\"1\" /><path clip-path=\"url(#clip580)\" d=\"M184.19 1215.2 L189.075 1215.2 L189.075 1221.08 L184.19 1221.08 L184.19 1215.2 Z\" fill=\"#000000\" fill-rule=\"evenodd\" fill-opacity=\"1\" /><path clip-path=\"url(#clip580)\" d=\"M209.26 1189.6 Q205.649 1189.6 203.82 1193.16 Q202.014 1196.7 202.014 1203.83 Q202.014 1210.94 203.82 1214.5 Q205.649 1218.04 209.26 1218.04 Q212.894 1218.04 214.699 1214.5 Q216.528 1210.94 216.528 1203.83 Q216.528 1196.7 214.699 1193.16 Q212.894 1189.6 209.26 1189.6 M209.26 1185.89 Q215.07 1185.89 218.125 1190.5 Q221.204 1195.08 221.204 1203.83 Q221.204 1212.56 218.125 1217.16 Q215.07 1221.75 209.26 1221.75 Q203.449 1221.75 200.371 1217.16 Q197.315 1212.56 197.315 1203.83 Q197.315 1195.08 200.371 1190.5 Q203.449 1185.89 209.26 1185.89 Z\" fill=\"#000000\" fill-rule=\"evenodd\" fill-opacity=\"1\" /><path clip-path=\"url(#clip580)\" d=\"M242.269 1190.59 L230.463 1209.04 L242.269 1209.04 L242.269 1190.59 M241.042 1186.52 L246.921 1186.52 L246.921 1209.04 L251.852 1209.04 L251.852 1212.93 L246.921 1212.93 L246.921 1221.08 L242.269 1221.08 L242.269 1212.93 L226.667 1212.93 L226.667 1208.41 L241.042 1186.52 Z\" fill=\"#000000\" fill-rule=\"evenodd\" fill-opacity=\"1\" /><path clip-path=\"url(#clip580)\" d=\"M116.343 819.074 L146.019 819.074 L146.019 823.009 L116.343 823.009 L116.343 819.074 Z\" fill=\"#000000\" fill-rule=\"evenodd\" fill-opacity=\"1\" /><path clip-path=\"url(#clip580)\" d=\"M166.112 804.421 Q162.501 804.421 160.672 807.986 Q158.866 811.527 158.866 818.657 Q158.866 825.764 160.672 829.328 Q162.501 832.87 166.112 832.87 Q169.746 832.87 171.552 829.328 Q173.38 825.764 173.38 818.657 Q173.38 811.527 171.552 807.986 Q169.746 804.421 166.112 804.421 M166.112 800.717 Q171.922 800.717 174.977 805.324 Q178.056 809.907 178.056 818.657 Q178.056 827.384 174.977 831.99 Q171.922 836.574 166.112 836.574 Q160.302 836.574 157.223 831.99 Q154.167 827.384 154.167 818.657 Q154.167 809.907 157.223 805.324 Q160.302 800.717 166.112 800.717 Z\" fill=\"#000000\" fill-rule=\"evenodd\" fill-opacity=\"1\" /><path clip-path=\"url(#clip580)\" d=\"M186.274 830.023 L191.158 830.023 L191.158 835.902 L186.274 835.902 L186.274 830.023 Z\" fill=\"#000000\" fill-rule=\"evenodd\" fill-opacity=\"1\" /><path clip-path=\"url(#clip580)\" d=\"M211.343 804.421 Q207.732 804.421 205.903 807.986 Q204.098 811.527 204.098 818.657 Q204.098 825.764 205.903 829.328 Q207.732 832.87 211.343 832.87 Q214.977 832.87 216.783 829.328 Q218.611 825.764 218.611 818.657 Q218.611 811.527 216.783 807.986 Q214.977 804.421 211.343 804.421 M211.343 800.717 Q217.153 800.717 220.209 805.324 Q223.287 809.907 223.287 818.657 Q223.287 827.384 220.209 831.99 Q217.153 836.574 211.343 836.574 Q205.533 836.574 202.454 831.99 Q199.399 827.384 199.399 818.657 Q199.399 809.907 202.454 805.324 Q205.533 800.717 211.343 800.717 Z\" fill=\"#000000\" fill-rule=\"evenodd\" fill-opacity=\"1\" /><path clip-path=\"url(#clip580)\" d=\"M235.533 831.967 L251.852 831.967 L251.852 835.902 L229.908 835.902 L229.908 831.967 Q232.57 829.213 237.153 824.583 Q241.759 819.93 242.94 818.588 Q245.185 816.065 246.065 814.328 Q246.968 812.569 246.968 810.879 Q246.968 808.125 245.023 806.389 Q243.102 804.653 240 804.653 Q237.801 804.653 235.347 805.416 Q232.917 806.18 230.139 807.731 L230.139 803.009 Q232.963 801.875 235.417 801.296 Q237.871 800.717 239.908 800.717 Q245.278 800.717 248.472 803.403 Q251.667 806.088 251.667 810.578 Q251.667 812.708 250.857 814.629 Q250.07 816.527 247.963 819.12 Q247.384 819.791 244.283 823.009 Q241.181 826.203 235.533 831.967 Z\" fill=\"#000000\" fill-rule=\"evenodd\" fill-opacity=\"1\" /><path clip-path=\"url(#clip580)\" d=\"M164.515 419.247 Q160.903 419.247 159.075 422.812 Q157.269 426.354 157.269 433.483 Q157.269 440.59 159.075 444.154 Q160.903 447.696 164.515 447.696 Q168.149 447.696 169.954 444.154 Q171.783 440.59 171.783 433.483 Q171.783 426.354 169.954 422.812 Q168.149 419.247 164.515 419.247 M164.515 415.543 Q170.325 415.543 173.38 420.15 Q176.459 424.733 176.459 433.483 Q176.459 442.21 173.38 446.816 Q170.325 451.4 164.515 451.4 Q158.704 451.4 155.626 446.816 Q152.57 442.21 152.57 433.483 Q152.57 424.733 155.626 420.15 Q158.704 415.543 164.515 415.543 Z\" fill=\"#000000\" fill-rule=\"evenodd\" fill-opacity=\"1\" /><path clip-path=\"url(#clip580)\" d=\"M184.676 444.849 L189.561 444.849 L189.561 450.728 L184.676 450.728 L184.676 444.849 Z\" fill=\"#000000\" fill-rule=\"evenodd\" fill-opacity=\"1\" /><path clip-path=\"url(#clip580)\" d=\"M209.746 419.247 Q206.135 419.247 204.306 422.812 Q202.5 426.354 202.5 433.483 Q202.5 440.59 204.306 444.154 Q206.135 447.696 209.746 447.696 Q213.38 447.696 215.186 444.154 Q217.014 440.59 217.014 433.483 Q217.014 426.354 215.186 422.812 Q213.38 419.247 209.746 419.247 M209.746 415.543 Q215.556 415.543 218.611 420.15 Q221.69 424.733 221.69 433.483 Q221.69 442.21 218.611 446.816 Q215.556 451.4 209.746 451.4 Q203.936 451.4 200.857 446.816 Q197.801 442.21 197.801 433.483 Q197.801 424.733 200.857 420.15 Q203.936 415.543 209.746 415.543 Z\" fill=\"#000000\" fill-rule=\"evenodd\" fill-opacity=\"1\" /><path clip-path=\"url(#clip580)\" d=\"M239.908 419.247 Q236.297 419.247 234.468 422.812 Q232.662 426.354 232.662 433.483 Q232.662 440.59 234.468 444.154 Q236.297 447.696 239.908 447.696 Q243.542 447.696 245.347 444.154 Q247.176 440.59 247.176 433.483 Q247.176 426.354 245.347 422.812 Q243.542 419.247 239.908 419.247 M239.908 415.543 Q245.718 415.543 248.773 420.15 Q251.852 424.733 251.852 433.483 Q251.852 442.21 248.773 446.816 Q245.718 451.4 239.908 451.4 Q234.097 451.4 231.019 446.816 Q227.963 442.21 227.963 433.483 Q227.963 424.733 231.019 420.15 Q234.097 415.543 239.908 415.543 Z\" fill=\"#000000\" fill-rule=\"evenodd\" fill-opacity=\"1\" /><path clip-path=\"url(#clip580)\" d=\"M166.112 34.0731 Q162.501 34.0731 160.672 37.6379 Q158.866 41.1796 158.866 48.3091 Q158.866 55.4156 160.672 58.9804 Q162.501 62.522 166.112 62.522 Q169.746 62.522 171.552 58.9804 Q173.38 55.4156 173.38 48.3091 Q173.38 41.1796 171.552 37.6379 Q169.746 34.0731 166.112 34.0731 M166.112 30.3694 Q171.922 30.3694 174.977 34.9759 Q178.056 39.5592 178.056 48.3091 Q178.056 57.036 174.977 61.6424 Q171.922 66.2257 166.112 66.2257 Q160.302 66.2257 157.223 61.6424 Q154.167 57.036 154.167 48.3091 Q154.167 39.5592 157.223 34.9759 Q160.302 30.3694 166.112 30.3694 Z\" fill=\"#000000\" fill-rule=\"evenodd\" fill-opacity=\"1\" /><path clip-path=\"url(#clip580)\" d=\"M186.274 59.6748 L191.158 59.6748 L191.158 65.5544 L186.274 65.5544 L186.274 59.6748 Z\" fill=\"#000000\" fill-rule=\"evenodd\" fill-opacity=\"1\" /><path clip-path=\"url(#clip580)\" d=\"M211.343 34.0731 Q207.732 34.0731 205.903 37.6379 Q204.098 41.1796 204.098 48.3091 Q204.098 55.4156 205.903 58.9804 Q207.732 62.522 211.343 62.522 Q214.977 62.522 216.783 58.9804 Q218.611 55.4156 218.611 48.3091 Q218.611 41.1796 216.783 37.6379 Q214.977 34.0731 211.343 34.0731 M211.343 30.3694 Q217.153 30.3694 220.209 34.9759 Q223.287 39.5592 223.287 48.3091 Q223.287 57.036 220.209 61.6424 Q217.153 66.2257 211.343 66.2257 Q205.533 66.2257 202.454 61.6424 Q199.399 57.036 199.399 48.3091 Q199.399 39.5592 202.454 34.9759 Q205.533 30.3694 211.343 30.3694 Z\" fill=\"#000000\" fill-rule=\"evenodd\" fill-opacity=\"1\" /><path clip-path=\"url(#clip580)\" d=\"M235.533 61.6193 L251.852 61.6193 L251.852 65.5544 L229.908 65.5544 L229.908 61.6193 Q232.57 58.8646 237.153 54.235 Q241.759 49.5823 242.94 48.2397 Q245.185 45.7166 246.065 43.9805 Q246.968 42.2212 246.968 40.5314 Q246.968 37.7768 245.023 36.0407 Q243.102 34.3046 240 34.3046 Q237.801 34.3046 235.347 35.0685 Q232.917 35.8324 230.139 37.3833 L230.139 32.6611 Q232.963 31.5268 235.417 30.9481 Q237.871 30.3694 239.908 30.3694 Q245.278 30.3694 248.472 33.0546 Q251.667 35.7398 251.667 40.2305 Q251.667 42.3601 250.857 44.2814 Q250.07 46.1795 247.963 48.7721 Q247.384 49.4434 244.283 52.661 Q241.181 55.8554 235.533 61.6193 Z\" fill=\"#000000\" fill-rule=\"evenodd\" fill-opacity=\"1\" /><path clip-path=\"url(#clip580)\" d=\"M32.4621 1247.81 Q32.4621 1252.52 36.1542 1255.26 Q39.8145 1258 46.212 1258 Q52.6095 1258 56.3017 1255.29 Q59.9619 1252.55 59.9619 1247.81 Q59.9619 1243.13 56.2698 1240.39 Q52.5777 1237.66 46.212 1237.66 Q39.8781 1237.66 36.186 1240.39 Q32.4621 1243.13 32.4621 1247.81 M27.4968 1247.81 Q27.4968 1240.17 32.4621 1235.81 Q37.4273 1231.45 46.212 1231.45 Q54.9649 1231.45 59.9619 1235.81 Q64.9272 1240.17 64.9272 1247.81 Q64.9272 1255.48 59.9619 1259.84 Q54.9649 1264.17 46.212 1264.17 Q37.4273 1264.17 32.4621 1259.84 Q27.4968 1255.48 27.4968 1247.81 Z\" fill=\"#000000\" fill-rule=\"evenodd\" fill-opacity=\"1\" /><path clip-path=\"url(#clip580)\" d=\"M46.212 1196.15 Q39.7508 1196.15 36.0905 1198.83 Q32.3984 1201.47 32.3984 1206.12 Q32.3984 1210.76 36.0905 1213.44 Q39.7508 1216.08 46.212 1216.08 Q52.6732 1216.08 56.3653 1213.44 Q60.0256 1210.76 60.0256 1206.12 Q60.0256 1201.47 56.3653 1198.83 Q52.6732 1196.15 46.212 1196.15 M33.7671 1216.08 Q30.5842 1214.23 29.0564 1211.43 Q27.4968 1208.6 27.4968 1204.68 Q27.4968 1198.19 32.6531 1194.15 Q37.8093 1190.07 46.212 1190.07 Q54.6147 1190.07 59.771 1194.15 Q64.9272 1198.19 64.9272 1204.68 Q64.9272 1208.6 63.3994 1211.43 Q61.8398 1214.23 58.657 1216.08 L64.0042 1216.08 L64.0042 1221.97 L14.479 1221.97 L14.479 1216.08 L33.7671 1216.08 Z\" fill=\"#000000\" fill-rule=\"evenodd\" fill-opacity=\"1\" /><path clip-path=\"url(#clip580)\" d=\"M28.3562 1180.37 L28.3562 1174.51 L64.6407 1174.51 Q71.452 1174.51 74.5076 1177.12 Q77.5631 1179.7 77.5631 1185.46 L77.5631 1187.69 L72.5979 1187.69 L72.5979 1186.13 Q72.5979 1182.78 71.0383 1181.58 Q69.5105 1180.37 64.6407 1180.37 L28.3562 1180.37 M14.479 1180.37 L14.479 1174.51 L21.895 1174.51 L21.895 1180.37 L14.479 1180.37 Z\" fill=\"#000000\" fill-rule=\"evenodd\" fill-opacity=\"1\" /><path clip-path=\"url(#clip580)\" d=\"M44.7161 1131.76 L47.5806 1131.76 L47.5806 1158.69 Q53.6281 1158.31 56.8109 1155.06 Q59.9619 1151.78 59.9619 1145.96 Q59.9619 1142.59 59.1344 1139.43 Q58.3069 1136.25 56.6518 1133.13 L62.1899 1133.13 Q63.5267 1136.28 64.227 1139.59 Q64.9272 1142.9 64.9272 1146.31 Q64.9272 1154.84 59.9619 1159.84 Q54.9967 1164.8 46.5303 1164.8 Q37.7774 1164.8 32.6531 1160.09 Q27.4968 1155.35 27.4968 1147.33 Q27.4968 1140.13 32.1438 1135.97 Q36.7589 1131.76 44.7161 1131.76 M42.9973 1137.62 Q38.1912 1137.68 35.3266 1140.33 Q32.4621 1142.94 32.4621 1147.26 Q32.4621 1152.17 35.2312 1155.13 Q38.0002 1158.05 43.0292 1158.5 L42.9973 1137.62 Z\" fill=\"#000000\" fill-rule=\"evenodd\" fill-opacity=\"1\" /><path clip-path=\"url(#clip580)\" d=\"M29.7248 1096.5 L35.1993 1096.5 Q33.8307 1098.98 33.1623 1101.49 Q32.4621 1103.98 32.4621 1106.52 Q32.4621 1112.22 36.0905 1115.37 Q39.6872 1118.52 46.212 1118.52 Q52.7369 1118.52 56.3653 1115.37 Q59.9619 1112.22 59.9619 1106.52 Q59.9619 1103.98 59.2935 1101.49 Q58.5933 1098.98 57.2247 1096.5 L62.6355 1096.5 Q63.7814 1098.95 64.3543 1101.59 Q64.9272 1104.2 64.9272 1107.16 Q64.9272 1115.21 59.8664 1119.96 Q54.8057 1124.7 46.212 1124.7 Q37.491 1124.7 32.4939 1119.92 Q27.4968 1115.12 27.4968 1106.78 Q27.4968 1104.07 28.0697 1101.49 Q28.6108 1098.92 29.7248 1096.5 Z\" fill=\"#000000\" fill-rule=\"evenodd\" fill-opacity=\"1\" /><path clip-path=\"url(#clip580)\" d=\"M18.2347 1080.52 L28.3562 1080.52 L28.3562 1068.46 L32.9077 1068.46 L32.9077 1080.52 L52.2594 1080.52 Q56.6199 1080.52 57.8613 1079.34 Q59.1026 1078.13 59.1026 1074.47 L59.1026 1068.46 L64.0042 1068.46 L64.0042 1074.47 Q64.0042 1081.25 61.4897 1083.83 Q58.9434 1086.41 52.2594 1086.41 L32.9077 1086.41 L32.9077 1090.7 L28.3562 1090.7 L28.3562 1086.41 L18.2347 1086.41 L18.2347 1080.52 Z\" fill=\"#000000\" fill-rule=\"evenodd\" fill-opacity=\"1\" /><path clip-path=\"url(#clip580)\" d=\"M28.3562 1060.75 L28.3562 1054.9 L64.0042 1054.9 L64.0042 1060.75 L28.3562 1060.75 M14.479 1060.75 L14.479 1054.9 L21.895 1054.9 L21.895 1060.75 L14.479 1060.75 Z\" fill=\"#000000\" fill-rule=\"evenodd\" fill-opacity=\"1\" /><path clip-path=\"url(#clip580)\" d=\"M28.3562 1046.85 L28.3562 1040.64 L58.275 1029.5 L28.3562 1018.36 L28.3562 1012.15 L64.0042 1025.52 L64.0042 1033.48 L28.3562 1046.85 Z\" fill=\"#000000\" fill-rule=\"evenodd\" fill-opacity=\"1\" /><path clip-path=\"url(#clip580)\" d=\"M44.7161 973.576 L47.5806 973.576 L47.5806 1000.5 Q53.6281 1000.12 56.8109 996.874 Q59.9619 993.596 59.9619 987.771 Q59.9619 984.398 59.1344 981.247 Q58.3069 978.064 56.6518 974.944 L62.1899 974.944 Q63.5267 978.096 64.227 981.406 Q64.9272 984.716 64.9272 988.121 Q64.9272 996.652 59.9619 1001.65 Q54.9967 1006.61 46.5303 1006.61 Q37.7774 1006.61 32.6531 1001.9 Q27.4968 997.161 27.4968 989.14 Q27.4968 981.947 32.1438 977.777 Q36.7589 973.576 44.7161 973.576 M42.9973 979.432 Q38.1912 979.496 35.3266 982.138 Q32.4621 984.748 32.4621 989.076 Q32.4621 993.978 35.2312 996.938 Q38.0002 999.866 43.0292 1000.31 L42.9973 979.432 Z\" fill=\"#000000\" fill-rule=\"evenodd\" fill-opacity=\"1\" /><path clip-path=\"url(#clip580)\" d=\"M14.479 925.196 L19.3487 925.196 L19.3487 930.798 Q19.3487 933.949 20.6219 935.191 Q21.895 936.4 25.2052 936.4 L28.3562 936.4 L28.3562 926.756 L32.9077 926.756 L32.9077 936.4 L64.0042 936.4 L64.0042 942.288 L32.9077 942.288 L32.9077 947.89 L28.3562 947.89 L28.3562 942.288 L25.8736 942.288 Q19.9216 942.288 17.2162 939.519 Q14.479 936.75 14.479 930.735 L14.479 925.196 Z\" fill=\"#000000\" fill-rule=\"evenodd\" fill-opacity=\"1\" /><path clip-path=\"url(#clip580)\" d=\"M49.9359 920.9 L28.3562 920.9 L28.3562 915.043 L49.7131 915.043 Q54.7739 915.043 57.3202 913.07 Q59.8346 911.096 59.8346 907.15 Q59.8346 902.407 56.8109 899.67 Q53.7872 896.901 48.5673 896.901 L28.3562 896.901 L28.3562 891.044 L64.0042 891.044 L64.0042 896.901 L58.5296 896.901 Q61.7762 899.033 63.3676 901.866 Q64.9272 904.667 64.9272 908.391 Q64.9272 914.534 61.1078 917.717 Q57.2883 920.9 49.9359 920.9 M27.4968 906.163 L27.4968 906.163 Z\" fill=\"#000000\" fill-rule=\"evenodd\" fill-opacity=\"1\" /><path clip-path=\"url(#clip580)\" d=\"M42.4881 849.349 L64.0042 849.349 L64.0042 855.206 L42.679 855.206 Q37.6183 855.206 35.1038 857.179 Q32.5894 859.152 32.5894 863.099 Q32.5894 867.841 35.6131 870.579 Q38.6368 873.316 43.8567 873.316 L64.0042 873.316 L64.0042 879.204 L28.3562 879.204 L28.3562 873.316 L33.8944 873.316 Q30.6797 871.215 29.0883 868.383 Q27.4968 865.518 27.4968 861.794 Q27.4968 855.651 31.3163 852.5 Q35.1038 849.349 42.4881 849.349 Z\" fill=\"#000000\" fill-rule=\"evenodd\" fill-opacity=\"1\" /><path clip-path=\"url(#clip580)\" d=\"M29.7248 812.014 L35.1993 812.014 Q33.8307 814.497 33.1623 817.011 Q32.4621 819.494 32.4621 822.04 Q32.4621 827.738 36.0905 830.889 Q39.6872 834.04 46.212 834.04 Q52.7369 834.04 56.3653 830.889 Q59.9619 827.738 59.9619 822.04 Q59.9619 819.494 59.2935 817.011 Q58.5933 814.497 57.2247 812.014 L62.6355 812.014 Q63.7814 814.465 64.3543 817.107 Q64.9272 819.717 64.9272 822.677 Q64.9272 830.729 59.8664 835.472 Q54.8057 840.214 46.212 840.214 Q37.491 840.214 32.4939 835.44 Q27.4968 830.634 27.4968 822.295 Q27.4968 819.589 28.0697 817.011 Q28.6108 814.433 29.7248 812.014 Z\" fill=\"#000000\" fill-rule=\"evenodd\" fill-opacity=\"1\" /><path clip-path=\"url(#clip580)\" d=\"M18.2347 796.036 L28.3562 796.036 L28.3562 783.973 L32.9077 783.973 L32.9077 796.036 L52.2594 796.036 Q56.6199 796.036 57.8613 794.859 Q59.1026 793.649 59.1026 789.989 L59.1026 783.973 L64.0042 783.973 L64.0042 789.989 Q64.0042 796.768 61.4897 799.346 Q58.9434 801.925 52.2594 801.925 L32.9077 801.925 L32.9077 806.221 L28.3562 806.221 L28.3562 801.925 L18.2347 801.925 L18.2347 796.036 Z\" fill=\"#000000\" fill-rule=\"evenodd\" fill-opacity=\"1\" /><path clip-path=\"url(#clip580)\" d=\"M28.3562 776.271 L28.3562 770.414 L64.0042 770.414 L64.0042 776.271 L28.3562 776.271 M14.479 776.271 L14.479 770.414 L21.895 770.414 L21.895 776.271 L14.479 776.271 Z\" fill=\"#000000\" fill-rule=\"evenodd\" fill-opacity=\"1\" /><path clip-path=\"url(#clip580)\" d=\"M32.4621 744.347 Q32.4621 749.057 36.1542 751.795 Q39.8145 754.532 46.212 754.532 Q52.6095 754.532 56.3017 751.826 Q59.9619 749.089 59.9619 744.347 Q59.9619 739.668 56.2698 736.931 Q52.5777 734.193 46.212 734.193 Q39.8781 734.193 36.186 736.931 Q32.4621 739.668 32.4621 744.347 M27.4968 744.347 Q27.4968 736.708 32.4621 732.347 Q37.4273 727.987 46.212 727.987 Q54.9649 727.987 59.9619 732.347 Q64.9272 736.708 64.9272 744.347 Q64.9272 752.017 59.9619 756.378 Q54.9649 760.707 46.212 760.707 Q37.4273 760.707 32.4621 756.378 Q27.4968 752.017 27.4968 744.347 Z\" fill=\"#000000\" fill-rule=\"evenodd\" fill-opacity=\"1\" /><path clip-path=\"url(#clip580)\" d=\"M42.4881 688.647 L64.0042 688.647 L64.0042 694.503 L42.679 694.503 Q37.6183 694.503 35.1038 696.477 Q32.5894 698.45 32.5894 702.397 Q32.5894 707.139 35.6131 709.876 Q38.6368 712.614 43.8567 712.614 L64.0042 712.614 L64.0042 718.502 L28.3562 718.502 L28.3562 712.614 L33.8944 712.614 Q30.6797 710.513 29.0883 707.68 Q27.4968 704.816 27.4968 701.092 Q27.4968 694.949 31.3163 691.798 Q35.1038 688.647 42.4881 688.647 Z\" fill=\"#000000\" fill-rule=\"evenodd\" fill-opacity=\"1\" /><path clip-path=\"url(#clip580)\" d=\"M33.7671 632.788 L14.479 632.788 L14.479 626.931 L64.0042 626.931 L64.0042 632.788 L58.657 632.788 Q61.8398 634.634 63.3994 637.467 Q64.9272 640.267 64.9272 644.214 Q64.9272 650.675 59.771 654.749 Q54.6147 658.792 46.212 658.792 Q37.8093 658.792 32.6531 654.749 Q27.4968 650.675 27.4968 644.214 Q27.4968 640.267 29.0564 637.467 Q30.5842 634.634 33.7671 632.788 M46.212 652.744 Q52.6732 652.744 56.3653 650.102 Q60.0256 647.429 60.0256 642.782 Q60.0256 638.135 56.3653 635.461 Q52.6732 632.788 46.212 632.788 Q39.7508 632.788 36.0905 635.461 Q32.3984 638.135 32.3984 642.782 Q32.3984 647.429 36.0905 650.102 Q39.7508 652.744 46.212 652.744 Z\" fill=\"#000000\" fill-rule=\"evenodd\" fill-opacity=\"1\" /><path clip-path=\"url(#clip580)\" d=\"M28.3562 614.868 L28.3562 609.012 L64.0042 609.012 L64.0042 614.868 L28.3562 614.868 M14.479 614.868 L14.479 609.012 L21.895 609.012 L21.895 614.868 L14.479 614.868 Z\" fill=\"#000000\" fill-rule=\"evenodd\" fill-opacity=\"1\" /><path clip-path=\"url(#clip580)\" d=\"M14.479 578.711 L19.3487 578.711 L19.3487 584.313 Q19.3487 587.464 20.6219 588.705 Q21.895 589.915 25.2052 589.915 L28.3562 589.915 L28.3562 580.271 L32.9077 580.271 L32.9077 589.915 L64.0042 589.915 L64.0042 595.803 L32.9077 595.803 L32.9077 601.405 L28.3562 601.405 L28.3562 595.803 L25.8736 595.803 Q19.9216 595.803 17.2162 593.034 Q14.479 590.265 14.479 584.249 L14.479 578.711 Z\" fill=\"#000000\" fill-rule=\"evenodd\" fill-opacity=\"1\" /><path clip-path=\"url(#clip580)\" d=\"M14.479 555.763 L19.3487 555.763 L19.3487 561.365 Q19.3487 564.516 20.6219 565.757 Q21.895 566.966 25.2052 566.966 L28.3562 566.966 L28.3562 557.322 L32.9077 557.322 L32.9077 566.966 L64.0042 566.966 L64.0042 572.855 L32.9077 572.855 L32.9077 578.456 L28.3562 578.456 L28.3562 572.855 L25.8736 572.855 Q19.9216 572.855 17.2162 570.086 Q14.479 567.316 14.479 561.301 L14.479 555.763 Z\" fill=\"#000000\" fill-rule=\"evenodd\" fill-opacity=\"1\" /><path clip-path=\"url(#clip580)\" d=\"M44.7161 520.369 L47.5806 520.369 L47.5806 547.296 Q53.6281 546.914 56.8109 543.668 Q59.9619 540.39 59.9619 534.565 Q59.9619 531.191 59.1344 528.04 Q58.3069 524.857 56.6518 521.738 L62.1899 521.738 Q63.5267 524.889 64.227 528.199 Q64.9272 531.509 64.9272 534.915 Q64.9272 543.445 59.9619 548.442 Q54.9967 553.407 46.5303 553.407 Q37.7774 553.407 32.6531 548.697 Q27.4968 543.954 27.4968 535.934 Q27.4968 528.74 32.1438 524.571 Q36.7589 520.369 44.7161 520.369 M42.9973 526.226 Q38.1912 526.289 35.3266 528.931 Q32.4621 531.541 32.4621 535.87 Q32.4621 540.771 35.2312 543.732 Q38.0002 546.66 43.0292 547.105 L42.9973 526.226 Z\" fill=\"#000000\" fill-rule=\"evenodd\" fill-opacity=\"1\" /><path clip-path=\"url(#clip580)\" d=\"M33.8307 490.1 Q33.2578 491.087 33.0032 492.265 Q32.7167 493.411 32.7167 494.811 Q32.7167 499.776 35.9632 502.45 Q39.1779 505.092 45.2253 505.092 L64.0042 505.092 L64.0042 510.98 L28.3562 510.98 L28.3562 505.092 L33.8944 505.092 Q30.6479 503.246 29.0883 500.286 Q27.4968 497.326 27.4968 493.092 Q27.4968 492.488 27.5923 491.756 Q27.656 491.023 27.8151 490.132 L33.8307 490.1 Z\" fill=\"#000000\" fill-rule=\"evenodd\" fill-opacity=\"1\" /><path clip-path=\"url(#clip580)\" d=\"M44.7161 454.898 L47.5806 454.898 L47.5806 481.825 Q53.6281 481.443 56.8109 478.197 Q59.9619 474.918 59.9619 469.094 Q59.9619 465.72 59.1344 462.569 Q58.3069 459.386 56.6518 456.267 L62.1899 456.267 Q63.5267 459.418 64.227 462.728 Q64.9272 466.038 64.9272 469.444 Q64.9272 477.974 59.9619 482.971 Q54.9967 487.936 46.5303 487.936 Q37.7774 487.936 32.6531 483.225 Q27.4968 478.483 27.4968 470.462 Q27.4968 463.269 32.1438 459.099 Q36.7589 454.898 44.7161 454.898 M42.9973 460.755 Q38.1912 460.818 35.3266 463.46 Q32.4621 466.07 32.4621 470.399 Q32.4621 475.3 35.2312 478.26 Q38.0002 481.188 43.0292 481.634 L42.9973 460.755 Z\" fill=\"#000000\" fill-rule=\"evenodd\" fill-opacity=\"1\" /><path clip-path=\"url(#clip580)\" d=\"M42.4881 415.653 L64.0042 415.653 L64.0042 421.51 L42.679 421.51 Q37.6183 421.51 35.1038 423.483 Q32.5894 425.457 32.5894 429.403 Q32.5894 434.146 35.6131 436.883 Q38.6368 439.62 43.8567 439.62 L64.0042 439.62 L64.0042 445.509 L28.3562 445.509 L28.3562 439.62 L33.8944 439.62 Q30.6797 437.52 29.0883 434.687 Q27.4968 431.822 27.4968 428.098 Q27.4968 421.956 31.3163 418.805 Q35.1038 415.653 42.4881 415.653 Z\" fill=\"#000000\" fill-rule=\"evenodd\" fill-opacity=\"1\" /><path clip-path=\"url(#clip580)\" d=\"M29.7248 378.319 L35.1993 378.319 Q33.8307 380.801 33.1623 383.316 Q32.4621 385.798 32.4621 388.345 Q32.4621 394.042 36.0905 397.193 Q39.6872 400.344 46.212 400.344 Q52.7369 400.344 56.3653 397.193 Q59.9619 394.042 59.9619 388.345 Q59.9619 385.798 59.2935 383.316 Q58.5933 380.801 57.2247 378.319 L62.6355 378.319 Q63.7814 380.769 64.3543 383.411 Q64.9272 386.021 64.9272 388.981 Q64.9272 397.034 59.8664 401.776 Q54.8057 406.519 46.212 406.519 Q37.491 406.519 32.4939 401.744 Q27.4968 396.938 27.4968 388.599 Q27.4968 385.894 28.0697 383.316 Q28.6108 380.738 29.7248 378.319 Z\" fill=\"#000000\" fill-rule=\"evenodd\" fill-opacity=\"1\" /><path clip-path=\"url(#clip580)\" d=\"M44.7161 337.642 L47.5806 337.642 L47.5806 364.569 Q53.6281 364.187 56.8109 360.94 Q59.9619 357.662 59.9619 351.837 Q59.9619 348.463 59.1344 345.312 Q58.3069 342.13 56.6518 339.01 L62.1899 339.01 Q63.5267 342.161 64.227 345.472 Q64.9272 348.782 64.9272 352.187 Q64.9272 360.717 59.9619 365.715 Q54.9967 370.68 46.5303 370.68 Q37.7774 370.68 32.6531 365.969 Q27.4968 361.227 27.4968 353.206 Q27.4968 346.013 32.1438 341.843 Q36.7589 337.642 44.7161 337.642 M42.9973 343.498 Q38.1912 343.562 35.3266 346.204 Q32.4621 348.814 32.4621 353.142 Q32.4621 358.044 35.2312 361.004 Q38.0002 363.932 43.0292 364.378 L42.9973 343.498 Z\" fill=\"#000000\" fill-rule=\"evenodd\" fill-opacity=\"1\" /><path clip-path=\"url(#clip580)\" d=\"M14.479 307.85 L14.479 294.355 L19.0304 294.355 L19.0304 301.994 L68.0464 301.994 L68.0464 294.355 L72.5979 294.355 L72.5979 307.85 L14.479 307.85 Z\" fill=\"#000000\" fill-rule=\"evenodd\" fill-opacity=\"1\" /><path clip-path=\"url(#clip580)\" d=\"M43.0928 240.628 Q43.0928 243.397 45.4481 244.989 Q47.8034 246.548 52.0048 246.548 Q56.1425 246.548 58.5296 244.989 Q60.885 243.397 60.885 240.628 Q60.885 237.923 58.5296 236.363 Q56.1425 234.772 52.0048 234.772 Q47.8353 234.772 45.48 236.363 Q43.0928 237.923 43.0928 240.628 M39.0506 240.628 Q39.0506 235.599 42.5517 232.639 Q46.0529 229.679 52.0048 229.679 Q57.9567 229.679 61.4579 232.671 Q64.9272 235.631 64.9272 240.628 Q64.9272 245.721 61.4579 248.681 Q57.9567 251.641 52.0048 251.641 Q46.021 251.641 42.5517 248.681 Q39.0506 245.689 39.0506 240.628 M19.667 273.475 Q19.667 276.213 22.0542 277.804 Q24.4095 279.364 28.5472 279.364 Q32.7485 279.364 35.1038 277.804 Q37.4592 276.245 37.4592 273.475 Q37.4592 270.706 35.1038 269.147 Q32.7485 267.555 28.5472 267.555 Q24.4413 267.555 22.0542 269.147 Q19.667 270.738 19.667 273.475 M15.6248 244.734 L15.6248 239.642 L64.9272 269.37 L64.9272 274.462 L15.6248 244.734 M15.6248 273.475 Q15.6248 268.447 19.1259 265.455 Q22.5952 262.463 28.5472 262.463 Q34.5628 262.463 38.0321 265.455 Q41.5014 268.415 41.5014 273.475 Q41.5014 278.536 38.0321 281.496 Q34.5309 284.424 28.5472 284.424 Q22.6271 284.424 19.1259 281.464 Q15.6248 278.504 15.6248 273.475 Z\" fill=\"#000000\" fill-rule=\"evenodd\" fill-opacity=\"1\" /><path clip-path=\"url(#clip580)\" d=\"M14.479 206.254 L72.5979 206.254 L72.5979 219.749 L68.0464 219.749 L68.0464 212.142 L19.0304 212.142 L19.0304 219.749 L14.479 219.749 L14.479 206.254 Z\" fill=\"#000000\" fill-rule=\"evenodd\" fill-opacity=\"1\" /><polyline clip-path=\"url(#clip582)\" style=\"stroke:#000000; stroke-linecap:round; stroke-linejoin:round; stroke-width:4; stroke-opacity:1; fill:none\" points=\"346.293,398.748 386.048,405.665 425.804,426.766 465.559,429.459 505.315,430.644 545.07,433.018 584.826,423.87 624.582,428.006 664.337,247.668 704.093,415.602 743.848,436.353 783.604,433.778 823.359,432.462 863.115,423.699 902.871,425.861 942.626,436.695 982.382,435.369 1022.14,356.262 1061.89,424.031 1101.65,425.08 1141.4,420.569 1181.16,439.137 1220.92,439.342 1260.67,419.553 1300.43,437.508 1340.18,418.378 1379.94,438.127 1419.69,414.232 1459.45,436.742 1499.2,86.1857 1538.96,442.675 1578.72,442.679 1618.47,439.373 1658.23,410.82 1697.98,415.664 1737.74,441.892 1777.49,414.977 1817.25,410.55 1857,413.917 1896.76,413.264 1936.52,416.642 1976.27,412.991 2016.03,414.6 2055.78,415.488 2095.54,411.525 2135.29,449.758 2175.05,407.75 2214.8,411.254 2254.56,1384.24 2294.32,408.624 \"/>\n",
       "<line clip-path=\"url(#clip582)\" x1=\"346.293\" y1=\"398.748\" x2=\"330.293\" y2=\"382.748\" style=\"stroke:#000000; stroke-width:3.2; stroke-opacity:1\"/>\n",
       "<line clip-path=\"url(#clip582)\" x1=\"346.293\" y1=\"398.748\" x2=\"330.293\" y2=\"414.748\" style=\"stroke:#000000; stroke-width:3.2; stroke-opacity:1\"/>\n",
       "<line clip-path=\"url(#clip582)\" x1=\"346.293\" y1=\"398.748\" x2=\"362.293\" y2=\"414.748\" style=\"stroke:#000000; stroke-width:3.2; stroke-opacity:1\"/>\n",
       "<line clip-path=\"url(#clip582)\" x1=\"346.293\" y1=\"398.748\" x2=\"362.293\" y2=\"382.748\" style=\"stroke:#000000; stroke-width:3.2; stroke-opacity:1\"/>\n",
       "<line clip-path=\"url(#clip582)\" x1=\"386.048\" y1=\"405.665\" x2=\"370.048\" y2=\"389.665\" style=\"stroke:#000000; stroke-width:3.2; stroke-opacity:1\"/>\n",
       "<line clip-path=\"url(#clip582)\" x1=\"386.048\" y1=\"405.665\" x2=\"370.048\" y2=\"421.665\" style=\"stroke:#000000; stroke-width:3.2; stroke-opacity:1\"/>\n",
       "<line clip-path=\"url(#clip582)\" x1=\"386.048\" y1=\"405.665\" x2=\"402.048\" y2=\"421.665\" style=\"stroke:#000000; stroke-width:3.2; stroke-opacity:1\"/>\n",
       "<line clip-path=\"url(#clip582)\" x1=\"386.048\" y1=\"405.665\" x2=\"402.048\" y2=\"389.665\" style=\"stroke:#000000; stroke-width:3.2; stroke-opacity:1\"/>\n",
       "<line clip-path=\"url(#clip582)\" x1=\"425.804\" y1=\"426.766\" x2=\"409.804\" y2=\"410.766\" style=\"stroke:#000000; stroke-width:3.2; stroke-opacity:1\"/>\n",
       "<line clip-path=\"url(#clip582)\" x1=\"425.804\" y1=\"426.766\" x2=\"409.804\" y2=\"442.766\" style=\"stroke:#000000; stroke-width:3.2; stroke-opacity:1\"/>\n",
       "<line clip-path=\"url(#clip582)\" x1=\"425.804\" y1=\"426.766\" x2=\"441.804\" y2=\"442.766\" style=\"stroke:#000000; stroke-width:3.2; stroke-opacity:1\"/>\n",
       "<line clip-path=\"url(#clip582)\" x1=\"425.804\" y1=\"426.766\" x2=\"441.804\" y2=\"410.766\" style=\"stroke:#000000; stroke-width:3.2; stroke-opacity:1\"/>\n",
       "<line clip-path=\"url(#clip582)\" x1=\"465.559\" y1=\"429.459\" x2=\"449.559\" y2=\"413.459\" style=\"stroke:#000000; stroke-width:3.2; stroke-opacity:1\"/>\n",
       "<line clip-path=\"url(#clip582)\" x1=\"465.559\" y1=\"429.459\" x2=\"449.559\" y2=\"445.459\" style=\"stroke:#000000; stroke-width:3.2; stroke-opacity:1\"/>\n",
       "<line clip-path=\"url(#clip582)\" x1=\"465.559\" y1=\"429.459\" x2=\"481.559\" y2=\"445.459\" style=\"stroke:#000000; stroke-width:3.2; stroke-opacity:1\"/>\n",
       "<line clip-path=\"url(#clip582)\" x1=\"465.559\" y1=\"429.459\" x2=\"481.559\" y2=\"413.459\" style=\"stroke:#000000; stroke-width:3.2; stroke-opacity:1\"/>\n",
       "<line clip-path=\"url(#clip582)\" x1=\"505.315\" y1=\"430.644\" x2=\"489.315\" y2=\"414.644\" style=\"stroke:#000000; stroke-width:3.2; stroke-opacity:1\"/>\n",
       "<line clip-path=\"url(#clip582)\" x1=\"505.315\" y1=\"430.644\" x2=\"489.315\" y2=\"446.644\" style=\"stroke:#000000; stroke-width:3.2; stroke-opacity:1\"/>\n",
       "<line clip-path=\"url(#clip582)\" x1=\"505.315\" y1=\"430.644\" x2=\"521.315\" y2=\"446.644\" style=\"stroke:#000000; stroke-width:3.2; stroke-opacity:1\"/>\n",
       "<line clip-path=\"url(#clip582)\" x1=\"505.315\" y1=\"430.644\" x2=\"521.315\" y2=\"414.644\" style=\"stroke:#000000; stroke-width:3.2; stroke-opacity:1\"/>\n",
       "<line clip-path=\"url(#clip582)\" x1=\"545.07\" y1=\"433.018\" x2=\"529.07\" y2=\"417.018\" style=\"stroke:#000000; stroke-width:3.2; stroke-opacity:1\"/>\n",
       "<line clip-path=\"url(#clip582)\" x1=\"545.07\" y1=\"433.018\" x2=\"529.07\" y2=\"449.018\" style=\"stroke:#000000; stroke-width:3.2; stroke-opacity:1\"/>\n",
       "<line clip-path=\"url(#clip582)\" x1=\"545.07\" y1=\"433.018\" x2=\"561.07\" y2=\"449.018\" style=\"stroke:#000000; stroke-width:3.2; stroke-opacity:1\"/>\n",
       "<line clip-path=\"url(#clip582)\" x1=\"545.07\" y1=\"433.018\" x2=\"561.07\" y2=\"417.018\" style=\"stroke:#000000; stroke-width:3.2; stroke-opacity:1\"/>\n",
       "<line clip-path=\"url(#clip582)\" x1=\"584.826\" y1=\"423.87\" x2=\"568.826\" y2=\"407.87\" style=\"stroke:#000000; stroke-width:3.2; stroke-opacity:1\"/>\n",
       "<line clip-path=\"url(#clip582)\" x1=\"584.826\" y1=\"423.87\" x2=\"568.826\" y2=\"439.87\" style=\"stroke:#000000; stroke-width:3.2; stroke-opacity:1\"/>\n",
       "<line clip-path=\"url(#clip582)\" x1=\"584.826\" y1=\"423.87\" x2=\"600.826\" y2=\"439.87\" style=\"stroke:#000000; stroke-width:3.2; stroke-opacity:1\"/>\n",
       "<line clip-path=\"url(#clip582)\" x1=\"584.826\" y1=\"423.87\" x2=\"600.826\" y2=\"407.87\" style=\"stroke:#000000; stroke-width:3.2; stroke-opacity:1\"/>\n",
       "<line clip-path=\"url(#clip582)\" x1=\"624.582\" y1=\"428.006\" x2=\"608.582\" y2=\"412.006\" style=\"stroke:#000000; stroke-width:3.2; stroke-opacity:1\"/>\n",
       "<line clip-path=\"url(#clip582)\" x1=\"624.582\" y1=\"428.006\" x2=\"608.582\" y2=\"444.006\" style=\"stroke:#000000; stroke-width:3.2; stroke-opacity:1\"/>\n",
       "<line clip-path=\"url(#clip582)\" x1=\"624.582\" y1=\"428.006\" x2=\"640.582\" y2=\"444.006\" style=\"stroke:#000000; stroke-width:3.2; stroke-opacity:1\"/>\n",
       "<line clip-path=\"url(#clip582)\" x1=\"624.582\" y1=\"428.006\" x2=\"640.582\" y2=\"412.006\" style=\"stroke:#000000; stroke-width:3.2; stroke-opacity:1\"/>\n",
       "<line clip-path=\"url(#clip582)\" x1=\"664.337\" y1=\"247.668\" x2=\"648.337\" y2=\"231.668\" style=\"stroke:#000000; stroke-width:3.2; stroke-opacity:1\"/>\n",
       "<line clip-path=\"url(#clip582)\" x1=\"664.337\" y1=\"247.668\" x2=\"648.337\" y2=\"263.668\" style=\"stroke:#000000; stroke-width:3.2; stroke-opacity:1\"/>\n",
       "<line clip-path=\"url(#clip582)\" x1=\"664.337\" y1=\"247.668\" x2=\"680.337\" y2=\"263.668\" style=\"stroke:#000000; stroke-width:3.2; stroke-opacity:1\"/>\n",
       "<line clip-path=\"url(#clip582)\" x1=\"664.337\" y1=\"247.668\" x2=\"680.337\" y2=\"231.668\" style=\"stroke:#000000; stroke-width:3.2; stroke-opacity:1\"/>\n",
       "<line clip-path=\"url(#clip582)\" x1=\"704.093\" y1=\"415.602\" x2=\"688.093\" y2=\"399.602\" style=\"stroke:#000000; stroke-width:3.2; stroke-opacity:1\"/>\n",
       "<line clip-path=\"url(#clip582)\" x1=\"704.093\" y1=\"415.602\" x2=\"688.093\" y2=\"431.602\" style=\"stroke:#000000; stroke-width:3.2; stroke-opacity:1\"/>\n",
       "<line clip-path=\"url(#clip582)\" x1=\"704.093\" y1=\"415.602\" x2=\"720.093\" y2=\"431.602\" style=\"stroke:#000000; stroke-width:3.2; stroke-opacity:1\"/>\n",
       "<line clip-path=\"url(#clip582)\" x1=\"704.093\" y1=\"415.602\" x2=\"720.093\" y2=\"399.602\" style=\"stroke:#000000; stroke-width:3.2; stroke-opacity:1\"/>\n",
       "<line clip-path=\"url(#clip582)\" x1=\"743.848\" y1=\"436.353\" x2=\"727.848\" y2=\"420.353\" style=\"stroke:#000000; stroke-width:3.2; stroke-opacity:1\"/>\n",
       "<line clip-path=\"url(#clip582)\" x1=\"743.848\" y1=\"436.353\" x2=\"727.848\" y2=\"452.353\" style=\"stroke:#000000; stroke-width:3.2; stroke-opacity:1\"/>\n",
       "<line clip-path=\"url(#clip582)\" x1=\"743.848\" y1=\"436.353\" x2=\"759.848\" y2=\"452.353\" style=\"stroke:#000000; stroke-width:3.2; stroke-opacity:1\"/>\n",
       "<line clip-path=\"url(#clip582)\" x1=\"743.848\" y1=\"436.353\" x2=\"759.848\" y2=\"420.353\" style=\"stroke:#000000; stroke-width:3.2; stroke-opacity:1\"/>\n",
       "<line clip-path=\"url(#clip582)\" x1=\"783.604\" y1=\"433.778\" x2=\"767.604\" y2=\"417.778\" style=\"stroke:#000000; stroke-width:3.2; stroke-opacity:1\"/>\n",
       "<line clip-path=\"url(#clip582)\" x1=\"783.604\" y1=\"433.778\" x2=\"767.604\" y2=\"449.778\" style=\"stroke:#000000; stroke-width:3.2; stroke-opacity:1\"/>\n",
       "<line clip-path=\"url(#clip582)\" x1=\"783.604\" y1=\"433.778\" x2=\"799.604\" y2=\"449.778\" style=\"stroke:#000000; stroke-width:3.2; stroke-opacity:1\"/>\n",
       "<line clip-path=\"url(#clip582)\" x1=\"783.604\" y1=\"433.778\" x2=\"799.604\" y2=\"417.778\" style=\"stroke:#000000; stroke-width:3.2; stroke-opacity:1\"/>\n",
       "<line clip-path=\"url(#clip582)\" x1=\"823.359\" y1=\"432.462\" x2=\"807.359\" y2=\"416.462\" style=\"stroke:#000000; stroke-width:3.2; stroke-opacity:1\"/>\n",
       "<line clip-path=\"url(#clip582)\" x1=\"823.359\" y1=\"432.462\" x2=\"807.359\" y2=\"448.462\" style=\"stroke:#000000; stroke-width:3.2; stroke-opacity:1\"/>\n",
       "<line clip-path=\"url(#clip582)\" x1=\"823.359\" y1=\"432.462\" x2=\"839.359\" y2=\"448.462\" style=\"stroke:#000000; stroke-width:3.2; stroke-opacity:1\"/>\n",
       "<line clip-path=\"url(#clip582)\" x1=\"823.359\" y1=\"432.462\" x2=\"839.359\" y2=\"416.462\" style=\"stroke:#000000; stroke-width:3.2; stroke-opacity:1\"/>\n",
       "<line clip-path=\"url(#clip582)\" x1=\"863.115\" y1=\"423.699\" x2=\"847.115\" y2=\"407.699\" style=\"stroke:#000000; stroke-width:3.2; stroke-opacity:1\"/>\n",
       "<line clip-path=\"url(#clip582)\" x1=\"863.115\" y1=\"423.699\" x2=\"847.115\" y2=\"439.699\" style=\"stroke:#000000; stroke-width:3.2; stroke-opacity:1\"/>\n",
       "<line clip-path=\"url(#clip582)\" x1=\"863.115\" y1=\"423.699\" x2=\"879.115\" y2=\"439.699\" style=\"stroke:#000000; stroke-width:3.2; stroke-opacity:1\"/>\n",
       "<line clip-path=\"url(#clip582)\" x1=\"863.115\" y1=\"423.699\" x2=\"879.115\" y2=\"407.699\" style=\"stroke:#000000; stroke-width:3.2; stroke-opacity:1\"/>\n",
       "<line clip-path=\"url(#clip582)\" x1=\"902.871\" y1=\"425.861\" x2=\"886.871\" y2=\"409.861\" style=\"stroke:#000000; stroke-width:3.2; stroke-opacity:1\"/>\n",
       "<line clip-path=\"url(#clip582)\" x1=\"902.871\" y1=\"425.861\" x2=\"886.871\" y2=\"441.861\" style=\"stroke:#000000; stroke-width:3.2; stroke-opacity:1\"/>\n",
       "<line clip-path=\"url(#clip582)\" x1=\"902.871\" y1=\"425.861\" x2=\"918.871\" y2=\"441.861\" style=\"stroke:#000000; stroke-width:3.2; stroke-opacity:1\"/>\n",
       "<line clip-path=\"url(#clip582)\" x1=\"902.871\" y1=\"425.861\" x2=\"918.871\" y2=\"409.861\" style=\"stroke:#000000; stroke-width:3.2; stroke-opacity:1\"/>\n",
       "<line clip-path=\"url(#clip582)\" x1=\"942.626\" y1=\"436.695\" x2=\"926.626\" y2=\"420.695\" style=\"stroke:#000000; stroke-width:3.2; stroke-opacity:1\"/>\n",
       "<line clip-path=\"url(#clip582)\" x1=\"942.626\" y1=\"436.695\" x2=\"926.626\" y2=\"452.695\" style=\"stroke:#000000; stroke-width:3.2; stroke-opacity:1\"/>\n",
       "<line clip-path=\"url(#clip582)\" x1=\"942.626\" y1=\"436.695\" x2=\"958.626\" y2=\"452.695\" style=\"stroke:#000000; stroke-width:3.2; stroke-opacity:1\"/>\n",
       "<line clip-path=\"url(#clip582)\" x1=\"942.626\" y1=\"436.695\" x2=\"958.626\" y2=\"420.695\" style=\"stroke:#000000; stroke-width:3.2; stroke-opacity:1\"/>\n",
       "<line clip-path=\"url(#clip582)\" x1=\"982.382\" y1=\"435.369\" x2=\"966.382\" y2=\"419.369\" style=\"stroke:#000000; stroke-width:3.2; stroke-opacity:1\"/>\n",
       "<line clip-path=\"url(#clip582)\" x1=\"982.382\" y1=\"435.369\" x2=\"966.382\" y2=\"451.369\" style=\"stroke:#000000; stroke-width:3.2; stroke-opacity:1\"/>\n",
       "<line clip-path=\"url(#clip582)\" x1=\"982.382\" y1=\"435.369\" x2=\"998.382\" y2=\"451.369\" style=\"stroke:#000000; stroke-width:3.2; stroke-opacity:1\"/>\n",
       "<line clip-path=\"url(#clip582)\" x1=\"982.382\" y1=\"435.369\" x2=\"998.382\" y2=\"419.369\" style=\"stroke:#000000; stroke-width:3.2; stroke-opacity:1\"/>\n",
       "<line clip-path=\"url(#clip582)\" x1=\"1022.14\" y1=\"356.262\" x2=\"1006.14\" y2=\"340.262\" style=\"stroke:#000000; stroke-width:3.2; stroke-opacity:1\"/>\n",
       "<line clip-path=\"url(#clip582)\" x1=\"1022.14\" y1=\"356.262\" x2=\"1006.14\" y2=\"372.262\" style=\"stroke:#000000; stroke-width:3.2; stroke-opacity:1\"/>\n",
       "<line clip-path=\"url(#clip582)\" x1=\"1022.14\" y1=\"356.262\" x2=\"1038.14\" y2=\"372.262\" style=\"stroke:#000000; stroke-width:3.2; stroke-opacity:1\"/>\n",
       "<line clip-path=\"url(#clip582)\" x1=\"1022.14\" y1=\"356.262\" x2=\"1038.14\" y2=\"340.262\" style=\"stroke:#000000; stroke-width:3.2; stroke-opacity:1\"/>\n",
       "<line clip-path=\"url(#clip582)\" x1=\"1061.89\" y1=\"424.031\" x2=\"1045.89\" y2=\"408.031\" style=\"stroke:#000000; stroke-width:3.2; stroke-opacity:1\"/>\n",
       "<line clip-path=\"url(#clip582)\" x1=\"1061.89\" y1=\"424.031\" x2=\"1045.89\" y2=\"440.031\" style=\"stroke:#000000; stroke-width:3.2; stroke-opacity:1\"/>\n",
       "<line clip-path=\"url(#clip582)\" x1=\"1061.89\" y1=\"424.031\" x2=\"1077.89\" y2=\"440.031\" style=\"stroke:#000000; stroke-width:3.2; stroke-opacity:1\"/>\n",
       "<line clip-path=\"url(#clip582)\" x1=\"1061.89\" y1=\"424.031\" x2=\"1077.89\" y2=\"408.031\" style=\"stroke:#000000; stroke-width:3.2; stroke-opacity:1\"/>\n",
       "<line clip-path=\"url(#clip582)\" x1=\"1101.65\" y1=\"425.08\" x2=\"1085.65\" y2=\"409.08\" style=\"stroke:#000000; stroke-width:3.2; stroke-opacity:1\"/>\n",
       "<line clip-path=\"url(#clip582)\" x1=\"1101.65\" y1=\"425.08\" x2=\"1085.65\" y2=\"441.08\" style=\"stroke:#000000; stroke-width:3.2; stroke-opacity:1\"/>\n",
       "<line clip-path=\"url(#clip582)\" x1=\"1101.65\" y1=\"425.08\" x2=\"1117.65\" y2=\"441.08\" style=\"stroke:#000000; stroke-width:3.2; stroke-opacity:1\"/>\n",
       "<line clip-path=\"url(#clip582)\" x1=\"1101.65\" y1=\"425.08\" x2=\"1117.65\" y2=\"409.08\" style=\"stroke:#000000; stroke-width:3.2; stroke-opacity:1\"/>\n",
       "<line clip-path=\"url(#clip582)\" x1=\"1141.4\" y1=\"420.569\" x2=\"1125.4\" y2=\"404.569\" style=\"stroke:#000000; stroke-width:3.2; stroke-opacity:1\"/>\n",
       "<line clip-path=\"url(#clip582)\" x1=\"1141.4\" y1=\"420.569\" x2=\"1125.4\" y2=\"436.569\" style=\"stroke:#000000; stroke-width:3.2; stroke-opacity:1\"/>\n",
       "<line clip-path=\"url(#clip582)\" x1=\"1141.4\" y1=\"420.569\" x2=\"1157.4\" y2=\"436.569\" style=\"stroke:#000000; stroke-width:3.2; stroke-opacity:1\"/>\n",
       "<line clip-path=\"url(#clip582)\" x1=\"1141.4\" y1=\"420.569\" x2=\"1157.4\" y2=\"404.569\" style=\"stroke:#000000; stroke-width:3.2; stroke-opacity:1\"/>\n",
       "<line clip-path=\"url(#clip582)\" x1=\"1181.16\" y1=\"439.137\" x2=\"1165.16\" y2=\"423.137\" style=\"stroke:#000000; stroke-width:3.2; stroke-opacity:1\"/>\n",
       "<line clip-path=\"url(#clip582)\" x1=\"1181.16\" y1=\"439.137\" x2=\"1165.16\" y2=\"455.137\" style=\"stroke:#000000; stroke-width:3.2; stroke-opacity:1\"/>\n",
       "<line clip-path=\"url(#clip582)\" x1=\"1181.16\" y1=\"439.137\" x2=\"1197.16\" y2=\"455.137\" style=\"stroke:#000000; stroke-width:3.2; stroke-opacity:1\"/>\n",
       "<line clip-path=\"url(#clip582)\" x1=\"1181.16\" y1=\"439.137\" x2=\"1197.16\" y2=\"423.137\" style=\"stroke:#000000; stroke-width:3.2; stroke-opacity:1\"/>\n",
       "<line clip-path=\"url(#clip582)\" x1=\"1220.92\" y1=\"439.342\" x2=\"1204.92\" y2=\"423.342\" style=\"stroke:#000000; stroke-width:3.2; stroke-opacity:1\"/>\n",
       "<line clip-path=\"url(#clip582)\" x1=\"1220.92\" y1=\"439.342\" x2=\"1204.92\" y2=\"455.342\" style=\"stroke:#000000; stroke-width:3.2; stroke-opacity:1\"/>\n",
       "<line clip-path=\"url(#clip582)\" x1=\"1220.92\" y1=\"439.342\" x2=\"1236.92\" y2=\"455.342\" style=\"stroke:#000000; stroke-width:3.2; stroke-opacity:1\"/>\n",
       "<line clip-path=\"url(#clip582)\" x1=\"1220.92\" y1=\"439.342\" x2=\"1236.92\" y2=\"423.342\" style=\"stroke:#000000; stroke-width:3.2; stroke-opacity:1\"/>\n",
       "<line clip-path=\"url(#clip582)\" x1=\"1260.67\" y1=\"419.553\" x2=\"1244.67\" y2=\"403.553\" style=\"stroke:#000000; stroke-width:3.2; stroke-opacity:1\"/>\n",
       "<line clip-path=\"url(#clip582)\" x1=\"1260.67\" y1=\"419.553\" x2=\"1244.67\" y2=\"435.553\" style=\"stroke:#000000; stroke-width:3.2; stroke-opacity:1\"/>\n",
       "<line clip-path=\"url(#clip582)\" x1=\"1260.67\" y1=\"419.553\" x2=\"1276.67\" y2=\"435.553\" style=\"stroke:#000000; stroke-width:3.2; stroke-opacity:1\"/>\n",
       "<line clip-path=\"url(#clip582)\" x1=\"1260.67\" y1=\"419.553\" x2=\"1276.67\" y2=\"403.553\" style=\"stroke:#000000; stroke-width:3.2; stroke-opacity:1\"/>\n",
       "<line clip-path=\"url(#clip582)\" x1=\"1300.43\" y1=\"437.508\" x2=\"1284.43\" y2=\"421.508\" style=\"stroke:#000000; stroke-width:3.2; stroke-opacity:1\"/>\n",
       "<line clip-path=\"url(#clip582)\" x1=\"1300.43\" y1=\"437.508\" x2=\"1284.43\" y2=\"453.508\" style=\"stroke:#000000; stroke-width:3.2; stroke-opacity:1\"/>\n",
       "<line clip-path=\"url(#clip582)\" x1=\"1300.43\" y1=\"437.508\" x2=\"1316.43\" y2=\"453.508\" style=\"stroke:#000000; stroke-width:3.2; stroke-opacity:1\"/>\n",
       "<line clip-path=\"url(#clip582)\" x1=\"1300.43\" y1=\"437.508\" x2=\"1316.43\" y2=\"421.508\" style=\"stroke:#000000; stroke-width:3.2; stroke-opacity:1\"/>\n",
       "<line clip-path=\"url(#clip582)\" x1=\"1340.18\" y1=\"418.378\" x2=\"1324.18\" y2=\"402.378\" style=\"stroke:#000000; stroke-width:3.2; stroke-opacity:1\"/>\n",
       "<line clip-path=\"url(#clip582)\" x1=\"1340.18\" y1=\"418.378\" x2=\"1324.18\" y2=\"434.378\" style=\"stroke:#000000; stroke-width:3.2; stroke-opacity:1\"/>\n",
       "<line clip-path=\"url(#clip582)\" x1=\"1340.18\" y1=\"418.378\" x2=\"1356.18\" y2=\"434.378\" style=\"stroke:#000000; stroke-width:3.2; stroke-opacity:1\"/>\n",
       "<line clip-path=\"url(#clip582)\" x1=\"1340.18\" y1=\"418.378\" x2=\"1356.18\" y2=\"402.378\" style=\"stroke:#000000; stroke-width:3.2; stroke-opacity:1\"/>\n",
       "<line clip-path=\"url(#clip582)\" x1=\"1379.94\" y1=\"438.127\" x2=\"1363.94\" y2=\"422.127\" style=\"stroke:#000000; stroke-width:3.2; stroke-opacity:1\"/>\n",
       "<line clip-path=\"url(#clip582)\" x1=\"1379.94\" y1=\"438.127\" x2=\"1363.94\" y2=\"454.127\" style=\"stroke:#000000; stroke-width:3.2; stroke-opacity:1\"/>\n",
       "<line clip-path=\"url(#clip582)\" x1=\"1379.94\" y1=\"438.127\" x2=\"1395.94\" y2=\"454.127\" style=\"stroke:#000000; stroke-width:3.2; stroke-opacity:1\"/>\n",
       "<line clip-path=\"url(#clip582)\" x1=\"1379.94\" y1=\"438.127\" x2=\"1395.94\" y2=\"422.127\" style=\"stroke:#000000; stroke-width:3.2; stroke-opacity:1\"/>\n",
       "<line clip-path=\"url(#clip582)\" x1=\"1419.69\" y1=\"414.232\" x2=\"1403.69\" y2=\"398.232\" style=\"stroke:#000000; stroke-width:3.2; stroke-opacity:1\"/>\n",
       "<line clip-path=\"url(#clip582)\" x1=\"1419.69\" y1=\"414.232\" x2=\"1403.69\" y2=\"430.232\" style=\"stroke:#000000; stroke-width:3.2; stroke-opacity:1\"/>\n",
       "<line clip-path=\"url(#clip582)\" x1=\"1419.69\" y1=\"414.232\" x2=\"1435.69\" y2=\"430.232\" style=\"stroke:#000000; stroke-width:3.2; stroke-opacity:1\"/>\n",
       "<line clip-path=\"url(#clip582)\" x1=\"1419.69\" y1=\"414.232\" x2=\"1435.69\" y2=\"398.232\" style=\"stroke:#000000; stroke-width:3.2; stroke-opacity:1\"/>\n",
       "<line clip-path=\"url(#clip582)\" x1=\"1459.45\" y1=\"436.742\" x2=\"1443.45\" y2=\"420.742\" style=\"stroke:#000000; stroke-width:3.2; stroke-opacity:1\"/>\n",
       "<line clip-path=\"url(#clip582)\" x1=\"1459.45\" y1=\"436.742\" x2=\"1443.45\" y2=\"452.742\" style=\"stroke:#000000; stroke-width:3.2; stroke-opacity:1\"/>\n",
       "<line clip-path=\"url(#clip582)\" x1=\"1459.45\" y1=\"436.742\" x2=\"1475.45\" y2=\"452.742\" style=\"stroke:#000000; stroke-width:3.2; stroke-opacity:1\"/>\n",
       "<line clip-path=\"url(#clip582)\" x1=\"1459.45\" y1=\"436.742\" x2=\"1475.45\" y2=\"420.742\" style=\"stroke:#000000; stroke-width:3.2; stroke-opacity:1\"/>\n",
       "<line clip-path=\"url(#clip582)\" x1=\"1499.2\" y1=\"86.1857\" x2=\"1483.2\" y2=\"70.1857\" style=\"stroke:#000000; stroke-width:3.2; stroke-opacity:1\"/>\n",
       "<line clip-path=\"url(#clip582)\" x1=\"1499.2\" y1=\"86.1857\" x2=\"1483.2\" y2=\"102.186\" style=\"stroke:#000000; stroke-width:3.2; stroke-opacity:1\"/>\n",
       "<line clip-path=\"url(#clip582)\" x1=\"1499.2\" y1=\"86.1857\" x2=\"1515.2\" y2=\"102.186\" style=\"stroke:#000000; stroke-width:3.2; stroke-opacity:1\"/>\n",
       "<line clip-path=\"url(#clip582)\" x1=\"1499.2\" y1=\"86.1857\" x2=\"1515.2\" y2=\"70.1857\" style=\"stroke:#000000; stroke-width:3.2; stroke-opacity:1\"/>\n",
       "<line clip-path=\"url(#clip582)\" x1=\"1538.96\" y1=\"442.675\" x2=\"1522.96\" y2=\"426.675\" style=\"stroke:#000000; stroke-width:3.2; stroke-opacity:1\"/>\n",
       "<line clip-path=\"url(#clip582)\" x1=\"1538.96\" y1=\"442.675\" x2=\"1522.96\" y2=\"458.675\" style=\"stroke:#000000; stroke-width:3.2; stroke-opacity:1\"/>\n",
       "<line clip-path=\"url(#clip582)\" x1=\"1538.96\" y1=\"442.675\" x2=\"1554.96\" y2=\"458.675\" style=\"stroke:#000000; stroke-width:3.2; stroke-opacity:1\"/>\n",
       "<line clip-path=\"url(#clip582)\" x1=\"1538.96\" y1=\"442.675\" x2=\"1554.96\" y2=\"426.675\" style=\"stroke:#000000; stroke-width:3.2; stroke-opacity:1\"/>\n",
       "<line clip-path=\"url(#clip582)\" x1=\"1578.72\" y1=\"442.679\" x2=\"1562.72\" y2=\"426.679\" style=\"stroke:#000000; stroke-width:3.2; stroke-opacity:1\"/>\n",
       "<line clip-path=\"url(#clip582)\" x1=\"1578.72\" y1=\"442.679\" x2=\"1562.72\" y2=\"458.679\" style=\"stroke:#000000; stroke-width:3.2; stroke-opacity:1\"/>\n",
       "<line clip-path=\"url(#clip582)\" x1=\"1578.72\" y1=\"442.679\" x2=\"1594.72\" y2=\"458.679\" style=\"stroke:#000000; stroke-width:3.2; stroke-opacity:1\"/>\n",
       "<line clip-path=\"url(#clip582)\" x1=\"1578.72\" y1=\"442.679\" x2=\"1594.72\" y2=\"426.679\" style=\"stroke:#000000; stroke-width:3.2; stroke-opacity:1\"/>\n",
       "<line clip-path=\"url(#clip582)\" x1=\"1618.47\" y1=\"439.373\" x2=\"1602.47\" y2=\"423.373\" style=\"stroke:#000000; stroke-width:3.2; stroke-opacity:1\"/>\n",
       "<line clip-path=\"url(#clip582)\" x1=\"1618.47\" y1=\"439.373\" x2=\"1602.47\" y2=\"455.373\" style=\"stroke:#000000; stroke-width:3.2; stroke-opacity:1\"/>\n",
       "<line clip-path=\"url(#clip582)\" x1=\"1618.47\" y1=\"439.373\" x2=\"1634.47\" y2=\"455.373\" style=\"stroke:#000000; stroke-width:3.2; stroke-opacity:1\"/>\n",
       "<line clip-path=\"url(#clip582)\" x1=\"1618.47\" y1=\"439.373\" x2=\"1634.47\" y2=\"423.373\" style=\"stroke:#000000; stroke-width:3.2; stroke-opacity:1\"/>\n",
       "<line clip-path=\"url(#clip582)\" x1=\"1658.23\" y1=\"410.82\" x2=\"1642.23\" y2=\"394.82\" style=\"stroke:#000000; stroke-width:3.2; stroke-opacity:1\"/>\n",
       "<line clip-path=\"url(#clip582)\" x1=\"1658.23\" y1=\"410.82\" x2=\"1642.23\" y2=\"426.82\" style=\"stroke:#000000; stroke-width:3.2; stroke-opacity:1\"/>\n",
       "<line clip-path=\"url(#clip582)\" x1=\"1658.23\" y1=\"410.82\" x2=\"1674.23\" y2=\"426.82\" style=\"stroke:#000000; stroke-width:3.2; stroke-opacity:1\"/>\n",
       "<line clip-path=\"url(#clip582)\" x1=\"1658.23\" y1=\"410.82\" x2=\"1674.23\" y2=\"394.82\" style=\"stroke:#000000; stroke-width:3.2; stroke-opacity:1\"/>\n",
       "<line clip-path=\"url(#clip582)\" x1=\"1697.98\" y1=\"415.664\" x2=\"1681.98\" y2=\"399.664\" style=\"stroke:#000000; stroke-width:3.2; stroke-opacity:1\"/>\n",
       "<line clip-path=\"url(#clip582)\" x1=\"1697.98\" y1=\"415.664\" x2=\"1681.98\" y2=\"431.664\" style=\"stroke:#000000; stroke-width:3.2; stroke-opacity:1\"/>\n",
       "<line clip-path=\"url(#clip582)\" x1=\"1697.98\" y1=\"415.664\" x2=\"1713.98\" y2=\"431.664\" style=\"stroke:#000000; stroke-width:3.2; stroke-opacity:1\"/>\n",
       "<line clip-path=\"url(#clip582)\" x1=\"1697.98\" y1=\"415.664\" x2=\"1713.98\" y2=\"399.664\" style=\"stroke:#000000; stroke-width:3.2; stroke-opacity:1\"/>\n",
       "<line clip-path=\"url(#clip582)\" x1=\"1737.74\" y1=\"441.892\" x2=\"1721.74\" y2=\"425.892\" style=\"stroke:#000000; stroke-width:3.2; stroke-opacity:1\"/>\n",
       "<line clip-path=\"url(#clip582)\" x1=\"1737.74\" y1=\"441.892\" x2=\"1721.74\" y2=\"457.892\" style=\"stroke:#000000; stroke-width:3.2; stroke-opacity:1\"/>\n",
       "<line clip-path=\"url(#clip582)\" x1=\"1737.74\" y1=\"441.892\" x2=\"1753.74\" y2=\"457.892\" style=\"stroke:#000000; stroke-width:3.2; stroke-opacity:1\"/>\n",
       "<line clip-path=\"url(#clip582)\" x1=\"1737.74\" y1=\"441.892\" x2=\"1753.74\" y2=\"425.892\" style=\"stroke:#000000; stroke-width:3.2; stroke-opacity:1\"/>\n",
       "<line clip-path=\"url(#clip582)\" x1=\"1777.49\" y1=\"414.977\" x2=\"1761.49\" y2=\"398.977\" style=\"stroke:#000000; stroke-width:3.2; stroke-opacity:1\"/>\n",
       "<line clip-path=\"url(#clip582)\" x1=\"1777.49\" y1=\"414.977\" x2=\"1761.49\" y2=\"430.977\" style=\"stroke:#000000; stroke-width:3.2; stroke-opacity:1\"/>\n",
       "<line clip-path=\"url(#clip582)\" x1=\"1777.49\" y1=\"414.977\" x2=\"1793.49\" y2=\"430.977\" style=\"stroke:#000000; stroke-width:3.2; stroke-opacity:1\"/>\n",
       "<line clip-path=\"url(#clip582)\" x1=\"1777.49\" y1=\"414.977\" x2=\"1793.49\" y2=\"398.977\" style=\"stroke:#000000; stroke-width:3.2; stroke-opacity:1\"/>\n",
       "<line clip-path=\"url(#clip582)\" x1=\"1817.25\" y1=\"410.55\" x2=\"1801.25\" y2=\"394.55\" style=\"stroke:#000000; stroke-width:3.2; stroke-opacity:1\"/>\n",
       "<line clip-path=\"url(#clip582)\" x1=\"1817.25\" y1=\"410.55\" x2=\"1801.25\" y2=\"426.55\" style=\"stroke:#000000; stroke-width:3.2; stroke-opacity:1\"/>\n",
       "<line clip-path=\"url(#clip582)\" x1=\"1817.25\" y1=\"410.55\" x2=\"1833.25\" y2=\"426.55\" style=\"stroke:#000000; stroke-width:3.2; stroke-opacity:1\"/>\n",
       "<line clip-path=\"url(#clip582)\" x1=\"1817.25\" y1=\"410.55\" x2=\"1833.25\" y2=\"394.55\" style=\"stroke:#000000; stroke-width:3.2; stroke-opacity:1\"/>\n",
       "<line clip-path=\"url(#clip582)\" x1=\"1857\" y1=\"413.917\" x2=\"1841\" y2=\"397.917\" style=\"stroke:#000000; stroke-width:3.2; stroke-opacity:1\"/>\n",
       "<line clip-path=\"url(#clip582)\" x1=\"1857\" y1=\"413.917\" x2=\"1841\" y2=\"429.917\" style=\"stroke:#000000; stroke-width:3.2; stroke-opacity:1\"/>\n",
       "<line clip-path=\"url(#clip582)\" x1=\"1857\" y1=\"413.917\" x2=\"1873\" y2=\"429.917\" style=\"stroke:#000000; stroke-width:3.2; stroke-opacity:1\"/>\n",
       "<line clip-path=\"url(#clip582)\" x1=\"1857\" y1=\"413.917\" x2=\"1873\" y2=\"397.917\" style=\"stroke:#000000; stroke-width:3.2; stroke-opacity:1\"/>\n",
       "<line clip-path=\"url(#clip582)\" x1=\"1896.76\" y1=\"413.264\" x2=\"1880.76\" y2=\"397.264\" style=\"stroke:#000000; stroke-width:3.2; stroke-opacity:1\"/>\n",
       "<line clip-path=\"url(#clip582)\" x1=\"1896.76\" y1=\"413.264\" x2=\"1880.76\" y2=\"429.264\" style=\"stroke:#000000; stroke-width:3.2; stroke-opacity:1\"/>\n",
       "<line clip-path=\"url(#clip582)\" x1=\"1896.76\" y1=\"413.264\" x2=\"1912.76\" y2=\"429.264\" style=\"stroke:#000000; stroke-width:3.2; stroke-opacity:1\"/>\n",
       "<line clip-path=\"url(#clip582)\" x1=\"1896.76\" y1=\"413.264\" x2=\"1912.76\" y2=\"397.264\" style=\"stroke:#000000; stroke-width:3.2; stroke-opacity:1\"/>\n",
       "<line clip-path=\"url(#clip582)\" x1=\"1936.52\" y1=\"416.642\" x2=\"1920.52\" y2=\"400.642\" style=\"stroke:#000000; stroke-width:3.2; stroke-opacity:1\"/>\n",
       "<line clip-path=\"url(#clip582)\" x1=\"1936.52\" y1=\"416.642\" x2=\"1920.52\" y2=\"432.642\" style=\"stroke:#000000; stroke-width:3.2; stroke-opacity:1\"/>\n",
       "<line clip-path=\"url(#clip582)\" x1=\"1936.52\" y1=\"416.642\" x2=\"1952.52\" y2=\"432.642\" style=\"stroke:#000000; stroke-width:3.2; stroke-opacity:1\"/>\n",
       "<line clip-path=\"url(#clip582)\" x1=\"1936.52\" y1=\"416.642\" x2=\"1952.52\" y2=\"400.642\" style=\"stroke:#000000; stroke-width:3.2; stroke-opacity:1\"/>\n",
       "<line clip-path=\"url(#clip582)\" x1=\"1976.27\" y1=\"412.991\" x2=\"1960.27\" y2=\"396.991\" style=\"stroke:#000000; stroke-width:3.2; stroke-opacity:1\"/>\n",
       "<line clip-path=\"url(#clip582)\" x1=\"1976.27\" y1=\"412.991\" x2=\"1960.27\" y2=\"428.991\" style=\"stroke:#000000; stroke-width:3.2; stroke-opacity:1\"/>\n",
       "<line clip-path=\"url(#clip582)\" x1=\"1976.27\" y1=\"412.991\" x2=\"1992.27\" y2=\"428.991\" style=\"stroke:#000000; stroke-width:3.2; stroke-opacity:1\"/>\n",
       "<line clip-path=\"url(#clip582)\" x1=\"1976.27\" y1=\"412.991\" x2=\"1992.27\" y2=\"396.991\" style=\"stroke:#000000; stroke-width:3.2; stroke-opacity:1\"/>\n",
       "<line clip-path=\"url(#clip582)\" x1=\"2016.03\" y1=\"414.6\" x2=\"2000.03\" y2=\"398.6\" style=\"stroke:#000000; stroke-width:3.2; stroke-opacity:1\"/>\n",
       "<line clip-path=\"url(#clip582)\" x1=\"2016.03\" y1=\"414.6\" x2=\"2000.03\" y2=\"430.6\" style=\"stroke:#000000; stroke-width:3.2; stroke-opacity:1\"/>\n",
       "<line clip-path=\"url(#clip582)\" x1=\"2016.03\" y1=\"414.6\" x2=\"2032.03\" y2=\"430.6\" style=\"stroke:#000000; stroke-width:3.2; stroke-opacity:1\"/>\n",
       "<line clip-path=\"url(#clip582)\" x1=\"2016.03\" y1=\"414.6\" x2=\"2032.03\" y2=\"398.6\" style=\"stroke:#000000; stroke-width:3.2; stroke-opacity:1\"/>\n",
       "<line clip-path=\"url(#clip582)\" x1=\"2055.78\" y1=\"415.488\" x2=\"2039.78\" y2=\"399.488\" style=\"stroke:#000000; stroke-width:3.2; stroke-opacity:1\"/>\n",
       "<line clip-path=\"url(#clip582)\" x1=\"2055.78\" y1=\"415.488\" x2=\"2039.78\" y2=\"431.488\" style=\"stroke:#000000; stroke-width:3.2; stroke-opacity:1\"/>\n",
       "<line clip-path=\"url(#clip582)\" x1=\"2055.78\" y1=\"415.488\" x2=\"2071.78\" y2=\"431.488\" style=\"stroke:#000000; stroke-width:3.2; stroke-opacity:1\"/>\n",
       "<line clip-path=\"url(#clip582)\" x1=\"2055.78\" y1=\"415.488\" x2=\"2071.78\" y2=\"399.488\" style=\"stroke:#000000; stroke-width:3.2; stroke-opacity:1\"/>\n",
       "<line clip-path=\"url(#clip582)\" x1=\"2095.54\" y1=\"411.525\" x2=\"2079.54\" y2=\"395.525\" style=\"stroke:#000000; stroke-width:3.2; stroke-opacity:1\"/>\n",
       "<line clip-path=\"url(#clip582)\" x1=\"2095.54\" y1=\"411.525\" x2=\"2079.54\" y2=\"427.525\" style=\"stroke:#000000; stroke-width:3.2; stroke-opacity:1\"/>\n",
       "<line clip-path=\"url(#clip582)\" x1=\"2095.54\" y1=\"411.525\" x2=\"2111.54\" y2=\"427.525\" style=\"stroke:#000000; stroke-width:3.2; stroke-opacity:1\"/>\n",
       "<line clip-path=\"url(#clip582)\" x1=\"2095.54\" y1=\"411.525\" x2=\"2111.54\" y2=\"395.525\" style=\"stroke:#000000; stroke-width:3.2; stroke-opacity:1\"/>\n",
       "<line clip-path=\"url(#clip582)\" x1=\"2135.29\" y1=\"449.758\" x2=\"2119.29\" y2=\"433.758\" style=\"stroke:#000000; stroke-width:3.2; stroke-opacity:1\"/>\n",
       "<line clip-path=\"url(#clip582)\" x1=\"2135.29\" y1=\"449.758\" x2=\"2119.29\" y2=\"465.758\" style=\"stroke:#000000; stroke-width:3.2; stroke-opacity:1\"/>\n",
       "<line clip-path=\"url(#clip582)\" x1=\"2135.29\" y1=\"449.758\" x2=\"2151.29\" y2=\"465.758\" style=\"stroke:#000000; stroke-width:3.2; stroke-opacity:1\"/>\n",
       "<line clip-path=\"url(#clip582)\" x1=\"2135.29\" y1=\"449.758\" x2=\"2151.29\" y2=\"433.758\" style=\"stroke:#000000; stroke-width:3.2; stroke-opacity:1\"/>\n",
       "<line clip-path=\"url(#clip582)\" x1=\"2175.05\" y1=\"407.75\" x2=\"2159.05\" y2=\"391.75\" style=\"stroke:#000000; stroke-width:3.2; stroke-opacity:1\"/>\n",
       "<line clip-path=\"url(#clip582)\" x1=\"2175.05\" y1=\"407.75\" x2=\"2159.05\" y2=\"423.75\" style=\"stroke:#000000; stroke-width:3.2; stroke-opacity:1\"/>\n",
       "<line clip-path=\"url(#clip582)\" x1=\"2175.05\" y1=\"407.75\" x2=\"2191.05\" y2=\"423.75\" style=\"stroke:#000000; stroke-width:3.2; stroke-opacity:1\"/>\n",
       "<line clip-path=\"url(#clip582)\" x1=\"2175.05\" y1=\"407.75\" x2=\"2191.05\" y2=\"391.75\" style=\"stroke:#000000; stroke-width:3.2; stroke-opacity:1\"/>\n",
       "<line clip-path=\"url(#clip582)\" x1=\"2214.8\" y1=\"411.254\" x2=\"2198.8\" y2=\"395.254\" style=\"stroke:#000000; stroke-width:3.2; stroke-opacity:1\"/>\n",
       "<line clip-path=\"url(#clip582)\" x1=\"2214.8\" y1=\"411.254\" x2=\"2198.8\" y2=\"427.254\" style=\"stroke:#000000; stroke-width:3.2; stroke-opacity:1\"/>\n",
       "<line clip-path=\"url(#clip582)\" x1=\"2214.8\" y1=\"411.254\" x2=\"2230.8\" y2=\"427.254\" style=\"stroke:#000000; stroke-width:3.2; stroke-opacity:1\"/>\n",
       "<line clip-path=\"url(#clip582)\" x1=\"2214.8\" y1=\"411.254\" x2=\"2230.8\" y2=\"395.254\" style=\"stroke:#000000; stroke-width:3.2; stroke-opacity:1\"/>\n",
       "<line clip-path=\"url(#clip582)\" x1=\"2254.56\" y1=\"1384.24\" x2=\"2238.56\" y2=\"1368.24\" style=\"stroke:#000000; stroke-width:3.2; stroke-opacity:1\"/>\n",
       "<line clip-path=\"url(#clip582)\" x1=\"2254.56\" y1=\"1384.24\" x2=\"2238.56\" y2=\"1400.24\" style=\"stroke:#000000; stroke-width:3.2; stroke-opacity:1\"/>\n",
       "<line clip-path=\"url(#clip582)\" x1=\"2254.56\" y1=\"1384.24\" x2=\"2270.56\" y2=\"1400.24\" style=\"stroke:#000000; stroke-width:3.2; stroke-opacity:1\"/>\n",
       "<line clip-path=\"url(#clip582)\" x1=\"2254.56\" y1=\"1384.24\" x2=\"2270.56\" y2=\"1368.24\" style=\"stroke:#000000; stroke-width:3.2; stroke-opacity:1\"/>\n",
       "<line clip-path=\"url(#clip582)\" x1=\"2294.32\" y1=\"408.624\" x2=\"2278.32\" y2=\"392.624\" style=\"stroke:#000000; stroke-width:3.2; stroke-opacity:1\"/>\n",
       "<line clip-path=\"url(#clip582)\" x1=\"2294.32\" y1=\"408.624\" x2=\"2278.32\" y2=\"424.624\" style=\"stroke:#000000; stroke-width:3.2; stroke-opacity:1\"/>\n",
       "<line clip-path=\"url(#clip582)\" x1=\"2294.32\" y1=\"408.624\" x2=\"2310.32\" y2=\"424.624\" style=\"stroke:#000000; stroke-width:3.2; stroke-opacity:1\"/>\n",
       "<line clip-path=\"url(#clip582)\" x1=\"2294.32\" y1=\"408.624\" x2=\"2310.32\" y2=\"392.624\" style=\"stroke:#000000; stroke-width:3.2; stroke-opacity:1\"/>\n",
       "</svg>\n"
      ]
     },
     "metadata": {},
     "output_type": "display_data"
    }
   ],
   "source": [
    "# objective function (parallel)\n",
    "p2 = plot(1:nScenMax,100*(solObjTraj_s[2,:] - solObjTraj_s[1,:])./solObjTraj_s[1,:],\n",
    "    xlabel=\"# scenarios\", \n",
    "    ylabel=\"objective function difference [%]\",\n",
    "    marker=:xcross, \n",
    "    markercolor = :black,\n",
    "    linecolor = :black,\n",
    "    label=\"\",\n",
    "    dpi=600)\n",
    "\n",
    "display(p2)"
   ]
  },
  {
   "cell_type": "code",
   "execution_count": 19,
   "id": "e2222e80",
   "metadata": {},
   "outputs": [
    {
     "data": {
      "image/svg+xml": [
       "<?xml version=\"1.0\" encoding=\"utf-8\"?>\n",
       "<svg xmlns=\"http://www.w3.org/2000/svg\" xmlns:xlink=\"http://www.w3.org/1999/xlink\" width=\"600\" height=\"400\" viewBox=\"0 0 2400 1600\">\n",
       "<defs>\n",
       "  <clipPath id=\"clip620\">\n",
       "    <rect x=\"0\" y=\"0\" width=\"2400\" height=\"1600\"/>\n",
       "  </clipPath>\n",
       "</defs>\n",
       "<path clip-path=\"url(#clip620)\" d=\"M0 1600 L2400 1600 L2400 0 L0 0  Z\" fill=\"#ffffff\" fill-rule=\"evenodd\" fill-opacity=\"1\"/>\n",
       "<defs>\n",
       "  <clipPath id=\"clip621\">\n",
       "    <rect x=\"480\" y=\"0\" width=\"1681\" height=\"1600\"/>\n",
       "  </clipPath>\n",
       "</defs>\n",
       "<path clip-path=\"url(#clip620)\" d=\"M203.964 1423.18 L2352.76 1423.18 L2352.76 47.2441 L203.964 47.2441  Z\" fill=\"#ffffff\" fill-rule=\"evenodd\" fill-opacity=\"1\"/>\n",
       "<defs>\n",
       "  <clipPath id=\"clip622\">\n",
       "    <rect x=\"203\" y=\"47\" width=\"2150\" height=\"1377\"/>\n",
       "  </clipPath>\n",
       "</defs>\n",
       "<polyline clip-path=\"url(#clip622)\" style=\"stroke:#000000; stroke-linecap:round; stroke-linejoin:round; stroke-width:8; stroke-opacity:0.1; fill:none\" points=\"223.408,1423.18 223.408,47.2441 \"/>\n",
       "<polyline clip-path=\"url(#clip622)\" style=\"stroke:#000000; stroke-linecap:round; stroke-linejoin:round; stroke-width:8; stroke-opacity:0.1; fill:none\" points=\"637.114,1423.18 637.114,47.2441 \"/>\n",
       "<polyline clip-path=\"url(#clip622)\" style=\"stroke:#000000; stroke-linecap:round; stroke-linejoin:round; stroke-width:8; stroke-opacity:0.1; fill:none\" points=\"1050.82,1423.18 1050.82,47.2441 \"/>\n",
       "<polyline clip-path=\"url(#clip622)\" style=\"stroke:#000000; stroke-linecap:round; stroke-linejoin:round; stroke-width:8; stroke-opacity:0.1; fill:none\" points=\"1464.53,1423.18 1464.53,47.2441 \"/>\n",
       "<polyline clip-path=\"url(#clip622)\" style=\"stroke:#000000; stroke-linecap:round; stroke-linejoin:round; stroke-width:8; stroke-opacity:0.1; fill:none\" points=\"1878.23,1423.18 1878.23,47.2441 \"/>\n",
       "<polyline clip-path=\"url(#clip622)\" style=\"stroke:#000000; stroke-linecap:round; stroke-linejoin:round; stroke-width:8; stroke-opacity:0.1; fill:none\" points=\"2291.94,1423.18 2291.94,47.2441 \"/>\n",
       "<polyline clip-path=\"url(#clip620)\" style=\"stroke:#000000; stroke-linecap:round; stroke-linejoin:round; stroke-width:4; stroke-opacity:1; fill:none\" points=\"203.964,1423.18 2352.76,1423.18 \"/>\n",
       "<polyline clip-path=\"url(#clip620)\" style=\"stroke:#000000; stroke-linecap:round; stroke-linejoin:round; stroke-width:4; stroke-opacity:1; fill:none\" points=\"223.408,1423.18 223.408,1404.28 \"/>\n",
       "<polyline clip-path=\"url(#clip620)\" style=\"stroke:#000000; stroke-linecap:round; stroke-linejoin:round; stroke-width:4; stroke-opacity:1; fill:none\" points=\"637.114,1423.18 637.114,1404.28 \"/>\n",
       "<polyline clip-path=\"url(#clip620)\" style=\"stroke:#000000; stroke-linecap:round; stroke-linejoin:round; stroke-width:4; stroke-opacity:1; fill:none\" points=\"1050.82,1423.18 1050.82,1404.28 \"/>\n",
       "<polyline clip-path=\"url(#clip620)\" style=\"stroke:#000000; stroke-linecap:round; stroke-linejoin:round; stroke-width:4; stroke-opacity:1; fill:none\" points=\"1464.53,1423.18 1464.53,1404.28 \"/>\n",
       "<polyline clip-path=\"url(#clip620)\" style=\"stroke:#000000; stroke-linecap:round; stroke-linejoin:round; stroke-width:4; stroke-opacity:1; fill:none\" points=\"1878.23,1423.18 1878.23,1404.28 \"/>\n",
       "<polyline clip-path=\"url(#clip620)\" style=\"stroke:#000000; stroke-linecap:round; stroke-linejoin:round; stroke-width:4; stroke-opacity:1; fill:none\" points=\"2291.94,1423.18 2291.94,1404.28 \"/>\n",
       "<path clip-path=\"url(#clip620)\" d=\"M223.408 1454.1 Q219.797 1454.1 217.968 1457.66 Q216.162 1461.2 216.162 1468.33 Q216.162 1475.44 217.968 1479.01 Q219.797 1482.55 223.408 1482.55 Q227.042 1482.55 228.848 1479.01 Q230.676 1475.44 230.676 1468.33 Q230.676 1461.2 228.848 1457.66 Q227.042 1454.1 223.408 1454.1 M223.408 1450.39 Q229.218 1450.39 232.273 1455 Q235.352 1459.58 235.352 1468.33 Q235.352 1477.06 232.273 1481.67 Q229.218 1486.25 223.408 1486.25 Q217.598 1486.25 214.519 1481.67 Q211.463 1477.06 211.463 1468.33 Q211.463 1459.58 214.519 1455 Q217.598 1450.39 223.408 1450.39 Z\" fill=\"#000000\" fill-rule=\"evenodd\" fill-opacity=\"1\" /><path clip-path=\"url(#clip620)\" d=\"M611.802 1481.64 L619.441 1481.64 L619.441 1455.28 L611.131 1456.95 L611.131 1452.69 L619.395 1451.02 L624.071 1451.02 L624.071 1481.64 L631.709 1481.64 L631.709 1485.58 L611.802 1485.58 L611.802 1481.64 Z\" fill=\"#000000\" fill-rule=\"evenodd\" fill-opacity=\"1\" /><path clip-path=\"url(#clip620)\" d=\"M651.154 1454.1 Q647.543 1454.1 645.714 1457.66 Q643.908 1461.2 643.908 1468.33 Q643.908 1475.44 645.714 1479.01 Q647.543 1482.55 651.154 1482.55 Q654.788 1482.55 656.593 1479.01 Q658.422 1475.44 658.422 1468.33 Q658.422 1461.2 656.593 1457.66 Q654.788 1454.1 651.154 1454.1 M651.154 1450.39 Q656.964 1450.39 660.019 1455 Q663.098 1459.58 663.098 1468.33 Q663.098 1477.06 660.019 1481.67 Q656.964 1486.25 651.154 1486.25 Q645.344 1486.25 642.265 1481.67 Q639.209 1477.06 639.209 1468.33 Q639.209 1459.58 642.265 1455 Q645.344 1450.39 651.154 1450.39 Z\" fill=\"#000000\" fill-rule=\"evenodd\" fill-opacity=\"1\" /><path clip-path=\"url(#clip620)\" d=\"M1029.59 1481.64 L1045.91 1481.64 L1045.91 1485.58 L1023.97 1485.58 L1023.97 1481.64 Q1026.63 1478.89 1031.21 1474.26 Q1035.82 1469.61 1037 1468.27 Q1039.25 1465.74 1040.13 1464.01 Q1041.03 1462.25 1041.03 1460.56 Q1041.03 1457.8 1039.09 1456.07 Q1037.16 1454.33 1034.06 1454.33 Q1031.86 1454.33 1029.41 1455.09 Q1026.98 1455.86 1024.2 1457.41 L1024.2 1452.69 Q1027.02 1451.55 1029.48 1450.97 Q1031.93 1450.39 1033.97 1450.39 Q1039.34 1450.39 1042.53 1453.08 Q1045.73 1455.77 1045.73 1460.26 Q1045.73 1462.39 1044.92 1464.31 Q1044.13 1466.2 1042.02 1468.8 Q1041.45 1469.47 1038.34 1472.69 Q1035.24 1475.88 1029.59 1481.64 Z\" fill=\"#000000\" fill-rule=\"evenodd\" fill-opacity=\"1\" /><path clip-path=\"url(#clip620)\" d=\"M1065.73 1454.1 Q1062.12 1454.1 1060.29 1457.66 Q1058.48 1461.2 1058.48 1468.33 Q1058.48 1475.44 1060.29 1479.01 Q1062.12 1482.55 1065.73 1482.55 Q1069.36 1482.55 1071.17 1479.01 Q1073 1475.44 1073 1468.33 Q1073 1461.2 1071.17 1457.66 Q1069.36 1454.1 1065.73 1454.1 M1065.73 1450.39 Q1071.54 1450.39 1074.59 1455 Q1077.67 1459.58 1077.67 1468.33 Q1077.67 1477.06 1074.59 1481.67 Q1071.54 1486.25 1065.73 1486.25 Q1059.92 1486.25 1056.84 1481.67 Q1053.78 1477.06 1053.78 1468.33 Q1053.78 1459.58 1056.84 1455 Q1059.92 1450.39 1065.73 1450.39 Z\" fill=\"#000000\" fill-rule=\"evenodd\" fill-opacity=\"1\" /><path clip-path=\"url(#clip620)\" d=\"M1453.37 1466.95 Q1456.73 1467.66 1458.6 1469.93 Q1460.5 1472.2 1460.5 1475.53 Q1460.5 1480.65 1456.98 1483.45 Q1453.46 1486.25 1446.98 1486.25 Q1444.81 1486.25 1442.49 1485.81 Q1440.2 1485.39 1437.75 1484.54 L1437.75 1480.02 Q1439.69 1481.16 1442 1481.74 Q1444.32 1482.32 1446.84 1482.32 Q1451.24 1482.32 1453.53 1480.58 Q1455.85 1478.84 1455.85 1475.53 Q1455.85 1472.48 1453.69 1470.77 Q1451.56 1469.03 1447.75 1469.03 L1443.72 1469.03 L1443.72 1465.19 L1447.93 1465.19 Q1451.38 1465.19 1453.21 1463.82 Q1455.04 1462.43 1455.04 1459.84 Q1455.04 1457.18 1453.14 1455.77 Q1451.26 1454.33 1447.75 1454.33 Q1445.82 1454.33 1443.63 1454.75 Q1441.43 1455.16 1438.79 1456.04 L1438.79 1451.88 Q1441.45 1451.14 1443.76 1450.77 Q1446.1 1450.39 1448.16 1450.39 Q1453.49 1450.39 1456.59 1452.83 Q1459.69 1455.23 1459.69 1459.35 Q1459.69 1462.22 1458.05 1464.21 Q1456.4 1466.18 1453.37 1466.95 Z\" fill=\"#000000\" fill-rule=\"evenodd\" fill-opacity=\"1\" /><path clip-path=\"url(#clip620)\" d=\"M1479.37 1454.1 Q1475.75 1454.1 1473.93 1457.66 Q1472.12 1461.2 1472.12 1468.33 Q1472.12 1475.44 1473.93 1479.01 Q1475.75 1482.55 1479.37 1482.55 Q1483 1482.55 1484.81 1479.01 Q1486.63 1475.44 1486.63 1468.33 Q1486.63 1461.2 1484.81 1457.66 Q1483 1454.1 1479.37 1454.1 M1479.37 1450.39 Q1485.18 1450.39 1488.23 1455 Q1491.31 1459.58 1491.31 1468.33 Q1491.31 1477.06 1488.23 1481.67 Q1485.18 1486.25 1479.37 1486.25 Q1473.56 1486.25 1470.48 1481.67 Q1467.42 1477.06 1467.42 1468.33 Q1467.42 1459.58 1470.48 1455 Q1473.56 1450.39 1479.37 1450.39 Z\" fill=\"#000000\" fill-rule=\"evenodd\" fill-opacity=\"1\" /><path clip-path=\"url(#clip620)\" d=\"M1866.41 1455.09 L1854.6 1473.54 L1866.41 1473.54 L1866.41 1455.09 M1865.18 1451.02 L1871.06 1451.02 L1871.06 1473.54 L1875.99 1473.54 L1875.99 1477.43 L1871.06 1477.43 L1871.06 1485.58 L1866.41 1485.58 L1866.41 1477.43 L1850.8 1477.43 L1850.8 1472.92 L1865.18 1451.02 Z\" fill=\"#000000\" fill-rule=\"evenodd\" fill-opacity=\"1\" /><path clip-path=\"url(#clip620)\" d=\"M1893.72 1454.1 Q1890.11 1454.1 1888.28 1457.66 Q1886.48 1461.2 1886.48 1468.33 Q1886.48 1475.44 1888.28 1479.01 Q1890.11 1482.55 1893.72 1482.55 Q1897.35 1482.55 1899.16 1479.01 Q1900.99 1475.44 1900.99 1468.33 Q1900.99 1461.2 1899.16 1457.66 Q1897.35 1454.1 1893.72 1454.1 M1893.72 1450.39 Q1899.53 1450.39 1902.59 1455 Q1905.66 1459.58 1905.66 1468.33 Q1905.66 1477.06 1902.59 1481.67 Q1899.53 1486.25 1893.72 1486.25 Q1887.91 1486.25 1884.83 1481.67 Q1881.78 1477.06 1881.78 1468.33 Q1881.78 1459.58 1884.83 1455 Q1887.91 1450.39 1893.72 1450.39 Z\" fill=\"#000000\" fill-rule=\"evenodd\" fill-opacity=\"1\" /><path clip-path=\"url(#clip620)\" d=\"M2266.64 1451.02 L2285 1451.02 L2285 1454.96 L2270.92 1454.96 L2270.92 1463.43 Q2271.94 1463.08 2272.96 1462.92 Q2273.98 1462.73 2275 1462.73 Q2280.78 1462.73 2284.16 1465.9 Q2287.54 1469.08 2287.54 1474.49 Q2287.54 1480.07 2284.07 1483.17 Q2280.6 1486.25 2274.28 1486.25 Q2272.1 1486.25 2269.83 1485.88 Q2267.59 1485.51 2265.18 1484.77 L2265.18 1480.07 Q2267.27 1481.2 2269.49 1481.76 Q2271.71 1482.32 2274.19 1482.32 Q2278.19 1482.32 2280.53 1480.21 Q2282.87 1478.1 2282.87 1474.49 Q2282.87 1470.88 2280.53 1468.77 Q2278.19 1466.67 2274.19 1466.67 Q2272.31 1466.67 2270.44 1467.08 Q2268.58 1467.5 2266.64 1468.38 L2266.64 1451.02 Z\" fill=\"#000000\" fill-rule=\"evenodd\" fill-opacity=\"1\" /><path clip-path=\"url(#clip620)\" d=\"M2306.76 1454.1 Q2303.14 1454.1 2301.32 1457.66 Q2299.51 1461.2 2299.51 1468.33 Q2299.51 1475.44 2301.32 1479.01 Q2303.14 1482.55 2306.76 1482.55 Q2310.39 1482.55 2312.2 1479.01 Q2314.02 1475.44 2314.02 1468.33 Q2314.02 1461.2 2312.2 1457.66 Q2310.39 1454.1 2306.76 1454.1 M2306.76 1450.39 Q2312.57 1450.39 2315.62 1455 Q2318.7 1459.58 2318.7 1468.33 Q2318.7 1477.06 2315.62 1481.67 Q2312.57 1486.25 2306.76 1486.25 Q2300.95 1486.25 2297.87 1481.67 Q2294.81 1477.06 2294.81 1468.33 Q2294.81 1459.58 2297.87 1455 Q2300.95 1450.39 2306.76 1450.39 Z\" fill=\"#000000\" fill-rule=\"evenodd\" fill-opacity=\"1\" /><path clip-path=\"url(#clip620)\" d=\"M1118.13 1539.37 L1108.87 1539.37 L1106.2 1550 L1115.52 1550 L1118.13 1539.37 M1113.36 1521.26 L1110.05 1534.46 L1119.34 1534.46 L1122.69 1521.26 L1127.78 1521.26 L1124.5 1534.46 L1134.43 1534.46 L1134.43 1539.37 L1123.26 1539.37 L1120.65 1550 L1130.77 1550 L1130.77 1554.87 L1119.41 1554.87 L1116.1 1568.04 L1111.01 1568.04 L1114.28 1554.87 L1104.96 1554.87 L1101.68 1568.04 L1096.56 1568.04 L1099.87 1554.87 L1089.84 1554.87 L1089.84 1550 L1101.04 1550 L1103.72 1539.37 L1093.47 1539.37 L1093.47 1534.46 L1104.96 1534.46 L1108.2 1521.26 L1113.36 1521.26 Z\" fill=\"#000000\" fill-rule=\"evenodd\" fill-opacity=\"1\" /><path clip-path=\"url(#clip620)\" d=\"M1189.02 1533.45 L1189.02 1538.98 Q1186.53 1537.71 1183.86 1537.07 Q1181.19 1536.44 1178.32 1536.44 Q1173.96 1536.44 1171.77 1537.77 Q1169.6 1539.11 1169.6 1541.79 Q1169.6 1543.82 1171.16 1545 Q1172.72 1546.15 1177.43 1547.2 L1179.44 1547.64 Q1185.68 1548.98 1188.28 1551.43 Q1190.93 1553.85 1190.93 1558.21 Q1190.93 1563.17 1186.98 1566.07 Q1183.07 1568.97 1176.19 1568.97 Q1173.33 1568.97 1170.21 1568.39 Q1167.12 1567.85 1163.68 1566.74 L1163.68 1560.69 Q1166.93 1562.38 1170.08 1563.24 Q1173.23 1564.07 1176.32 1564.07 Q1180.46 1564.07 1182.68 1562.66 Q1184.91 1561.23 1184.91 1558.65 Q1184.91 1556.27 1183.29 1554.99 Q1181.7 1553.72 1176.25 1552.54 L1174.22 1552.07 Q1168.77 1550.92 1166.36 1548.56 Q1163.94 1546.18 1163.94 1542.04 Q1163.94 1537.01 1167.5 1534.27 Q1171.07 1531.54 1177.62 1531.54 Q1180.87 1531.54 1183.73 1532.01 Q1186.6 1532.49 1189.02 1533.45 Z\" fill=\"#000000\" fill-rule=\"evenodd\" fill-opacity=\"1\" /><path clip-path=\"url(#clip620)\" d=\"M1225.91 1533.76 L1225.91 1539.24 Q1223.42 1537.87 1220.91 1537.2 Q1218.43 1536.5 1215.88 1536.5 Q1210.18 1536.5 1207.03 1540.13 Q1203.88 1543.73 1203.88 1550.25 Q1203.88 1556.78 1207.03 1560.4 Q1210.18 1564 1215.88 1564 Q1218.43 1564 1220.91 1563.33 Q1223.42 1562.63 1225.91 1561.26 L1225.91 1566.68 Q1223.46 1567.82 1220.81 1568.39 Q1218.2 1568.97 1215.24 1568.97 Q1207.19 1568.97 1202.45 1563.91 Q1197.71 1558.85 1197.71 1550.25 Q1197.71 1541.53 1202.48 1536.53 Q1207.29 1531.54 1215.63 1531.54 Q1218.33 1531.54 1220.91 1532.11 Q1223.49 1532.65 1225.91 1533.76 Z\" fill=\"#000000\" fill-rule=\"evenodd\" fill-opacity=\"1\" /><path clip-path=\"url(#clip620)\" d=\"M1266.58 1548.76 L1266.58 1551.62 L1239.66 1551.62 Q1240.04 1557.67 1243.28 1560.85 Q1246.56 1564 1252.39 1564 Q1255.76 1564 1258.91 1563.17 Q1262.1 1562.35 1265.21 1560.69 L1265.21 1566.23 Q1262.06 1567.57 1258.75 1568.27 Q1255.44 1568.97 1252.04 1568.97 Q1243.51 1568.97 1238.51 1564 Q1233.55 1559.04 1233.55 1550.57 Q1233.55 1541.82 1238.26 1536.69 Q1243 1531.54 1251.02 1531.54 Q1258.21 1531.54 1262.38 1536.18 Q1266.58 1540.8 1266.58 1548.76 M1260.73 1547.04 Q1260.66 1542.23 1258.02 1539.37 Q1255.41 1536.5 1251.08 1536.5 Q1246.18 1536.5 1243.22 1539.27 Q1240.29 1542.04 1239.85 1547.07 L1260.73 1547.04 Z\" fill=\"#000000\" fill-rule=\"evenodd\" fill-opacity=\"1\" /><path clip-path=\"url(#clip620)\" d=\"M1305.83 1546.53 L1305.83 1568.04 L1299.97 1568.04 L1299.97 1546.72 Q1299.97 1541.66 1298 1539.14 Q1296.02 1536.63 1292.08 1536.63 Q1287.34 1536.63 1284.6 1539.65 Q1281.86 1542.68 1281.86 1547.9 L1281.86 1568.04 L1275.97 1568.04 L1275.97 1532.4 L1281.86 1532.4 L1281.86 1537.93 Q1283.96 1534.72 1286.79 1533.13 Q1289.66 1531.54 1293.38 1531.54 Q1299.53 1531.54 1302.68 1535.36 Q1305.83 1539.14 1305.83 1546.53 Z\" fill=\"#000000\" fill-rule=\"evenodd\" fill-opacity=\"1\" /><path clip-path=\"url(#clip620)\" d=\"M1333.71 1550.12 Q1326.61 1550.12 1323.87 1551.75 Q1321.14 1553.37 1321.14 1557.29 Q1321.14 1560.4 1323.17 1562.25 Q1325.24 1564.07 1328.78 1564.07 Q1333.65 1564.07 1336.57 1560.63 Q1339.53 1557.16 1339.53 1551.43 L1339.53 1550.12 L1333.71 1550.12 M1345.39 1547.71 L1345.39 1568.04 L1339.53 1568.04 L1339.53 1562.63 Q1337.53 1565.88 1334.54 1567.44 Q1331.55 1568.97 1327.22 1568.97 Q1321.74 1568.97 1318.5 1565.91 Q1315.28 1562.82 1315.28 1557.67 Q1315.28 1551.65 1319.29 1548.6 Q1323.33 1545.54 1331.32 1545.54 L1339.53 1545.54 L1339.53 1544.97 Q1339.53 1540.93 1336.86 1538.73 Q1334.22 1536.5 1329.41 1536.5 Q1326.36 1536.5 1323.46 1537.23 Q1320.56 1537.97 1317.89 1539.43 L1317.89 1534.02 Q1321.11 1532.78 1324.13 1532.17 Q1327.15 1531.54 1330.02 1531.54 Q1337.75 1531.54 1341.57 1535.55 Q1345.39 1539.56 1345.39 1547.71 Z\" fill=\"#000000\" fill-rule=\"evenodd\" fill-opacity=\"1\" /><path clip-path=\"url(#clip620)\" d=\"M1378.11 1537.87 Q1377.12 1537.3 1375.95 1537.04 Q1374.8 1536.76 1373.4 1536.76 Q1368.43 1536.76 1365.76 1540 Q1363.12 1543.22 1363.12 1549.27 L1363.12 1568.04 L1357.23 1568.04 L1357.23 1532.4 L1363.12 1532.4 L1363.12 1537.93 Q1364.97 1534.69 1367.93 1533.13 Q1370.89 1531.54 1375.12 1531.54 Q1375.72 1531.54 1376.46 1531.63 Q1377.19 1531.7 1378.08 1531.85 L1378.11 1537.87 Z\" fill=\"#000000\" fill-rule=\"evenodd\" fill-opacity=\"1\" /><path clip-path=\"url(#clip620)\" d=\"M1384.25 1532.4 L1390.11 1532.4 L1390.11 1568.04 L1384.25 1568.04 L1384.25 1532.4 M1384.25 1518.52 L1390.11 1518.52 L1390.11 1525.93 L1384.25 1525.93 L1384.25 1518.52 Z\" fill=\"#000000\" fill-rule=\"evenodd\" fill-opacity=\"1\" /><path clip-path=\"url(#clip620)\" d=\"M1416.18 1536.5 Q1411.47 1536.5 1408.73 1540.19 Q1405.99 1543.85 1405.99 1550.25 Q1405.99 1556.65 1408.7 1560.34 Q1411.43 1564 1416.18 1564 Q1420.86 1564 1423.59 1560.31 Q1426.33 1556.62 1426.33 1550.25 Q1426.33 1543.92 1423.59 1540.23 Q1420.86 1536.5 1416.18 1536.5 M1416.18 1531.54 Q1423.82 1531.54 1428.18 1536.5 Q1432.54 1541.47 1432.54 1550.25 Q1432.54 1559 1428.18 1564 Q1423.82 1568.97 1416.18 1568.97 Q1408.51 1568.97 1404.15 1564 Q1399.82 1559 1399.82 1550.25 Q1399.82 1541.47 1404.15 1536.5 Q1408.51 1531.54 1416.18 1531.54 Z\" fill=\"#000000\" fill-rule=\"evenodd\" fill-opacity=\"1\" /><path clip-path=\"url(#clip620)\" d=\"M1464.97 1533.45 L1464.97 1538.98 Q1462.49 1537.71 1459.81 1537.07 Q1457.14 1536.44 1454.28 1536.44 Q1449.92 1536.44 1447.72 1537.77 Q1445.56 1539.11 1445.56 1541.79 Q1445.56 1543.82 1447.11 1545 Q1448.67 1546.15 1453.38 1547.2 L1455.39 1547.64 Q1461.63 1548.98 1464.24 1551.43 Q1466.88 1553.85 1466.88 1558.21 Q1466.88 1563.17 1462.93 1566.07 Q1459.02 1568.97 1452.14 1568.97 Q1449.28 1568.97 1446.16 1568.39 Q1443.07 1567.85 1439.63 1566.74 L1439.63 1560.69 Q1442.88 1562.38 1446.03 1563.24 Q1449.18 1564.07 1452.27 1564.07 Q1456.41 1564.07 1458.64 1562.66 Q1460.86 1561.23 1460.86 1558.65 Q1460.86 1556.27 1459.24 1554.99 Q1457.65 1553.72 1452.21 1552.54 L1450.17 1552.07 Q1444.73 1550.92 1442.31 1548.56 Q1439.89 1546.18 1439.89 1542.04 Q1439.89 1537.01 1443.45 1534.27 Q1447.02 1531.54 1453.58 1531.54 Q1456.82 1531.54 1459.69 1532.01 Q1462.55 1532.49 1464.97 1533.45 Z\" fill=\"#000000\" fill-rule=\"evenodd\" fill-opacity=\"1\" /><polyline clip-path=\"url(#clip622)\" style=\"stroke:#000000; stroke-linecap:round; stroke-linejoin:round; stroke-width:8; stroke-opacity:0.1; fill:none\" points=\"203.964,735.212 2352.76,735.212 \"/>\n",
       "<polyline clip-path=\"url(#clip620)\" style=\"stroke:#000000; stroke-linecap:round; stroke-linejoin:round; stroke-width:4; stroke-opacity:1; fill:none\" points=\"203.964,1423.18 203.964,47.2441 \"/>\n",
       "<polyline clip-path=\"url(#clip620)\" style=\"stroke:#000000; stroke-linecap:round; stroke-linejoin:round; stroke-width:4; stroke-opacity:1; fill:none\" points=\"203.964,735.212 222.861,735.212 \"/>\n",
       "<path clip-path=\"url(#clip620)\" d=\"M119.885 748.557 L136.204 748.557 L136.204 752.492 L114.26 752.492 L114.26 748.557 Q116.922 745.802 121.505 741.173 Q126.112 736.52 127.292 735.177 Q129.538 732.654 130.417 730.918 Q131.32 729.159 131.32 727.469 Q131.32 724.714 129.376 722.978 Q127.455 721.242 124.353 721.242 Q122.154 721.242 119.7 722.006 Q117.269 722.77 114.492 724.321 L114.492 719.599 Q117.316 718.464 119.769 717.886 Q122.223 717.307 124.26 717.307 Q129.63 717.307 132.825 719.992 Q136.019 722.677 136.019 727.168 Q136.019 729.298 135.209 731.219 Q134.422 733.117 132.316 735.71 Q131.737 736.381 128.635 739.599 Q125.533 742.793 119.885 748.557 Z\" fill=\"#000000\" fill-rule=\"evenodd\" fill-opacity=\"1\" /><path clip-path=\"url(#clip620)\" d=\"M156.019 721.011 Q152.408 721.011 150.579 724.575 Q148.774 728.117 148.774 735.247 Q148.774 742.353 150.579 745.918 Q152.408 749.46 156.019 749.46 Q159.653 749.46 161.459 745.918 Q163.288 742.353 163.288 735.247 Q163.288 728.117 161.459 724.575 Q159.653 721.011 156.019 721.011 M156.019 717.307 Q161.829 717.307 164.885 721.913 Q167.964 726.497 167.964 735.247 Q167.964 743.973 164.885 748.58 Q161.829 753.163 156.019 753.163 Q150.209 753.163 147.13 748.58 Q144.075 743.973 144.075 735.247 Q144.075 726.497 147.13 721.913 Q150.209 717.307 156.019 717.307 Z\" fill=\"#000000\" fill-rule=\"evenodd\" fill-opacity=\"1\" /><path clip-path=\"url(#clip620)\" d=\"M35.3266 895.15 L35.3266 904.412 L45.9574 907.086 L45.9574 897.76 L35.3266 895.15 M17.2162 899.925 L30.4251 903.235 L30.4251 893.941 L17.2162 890.599 L17.2162 885.506 L30.4251 888.785 L30.4251 878.854 L35.3266 878.854 L35.3266 890.026 L45.9574 892.636 L45.9574 882.514 L50.8271 882.514 L50.8271 893.877 L64.0042 897.187 L64.0042 902.28 L50.8271 899.002 L50.8271 908.327 L64.0042 911.606 L64.0042 916.73 L50.8271 913.42 L50.8271 923.446 L45.9574 923.446 L45.9574 912.242 L35.3266 909.569 L35.3266 919.817 L30.4251 919.817 L30.4251 908.327 L17.2162 905.081 L17.2162 899.925 Z\" fill=\"#000000\" fill-rule=\"evenodd\" fill-opacity=\"1\" /><path clip-path=\"url(#clip620)\" d=\"M28.3562 846.994 L28.3562 841.137 L64.0042 841.137 L64.0042 846.994 L28.3562 846.994 M14.479 846.994 L14.479 841.137 L21.895 841.137 L21.895 846.994 L14.479 846.994 Z\" fill=\"#000000\" fill-rule=\"evenodd\" fill-opacity=\"1\" /><path clip-path=\"url(#clip620)\" d=\"M18.2347 823.091 L28.3562 823.091 L28.3562 811.028 L32.9077 811.028 L32.9077 823.091 L52.2594 823.091 Q56.6199 823.091 57.8613 821.913 Q59.1026 820.703 59.1026 817.043 L59.1026 811.028 L64.0042 811.028 L64.0042 817.043 Q64.0042 823.823 61.4897 826.401 Q58.9434 828.979 52.2594 828.979 L32.9077 828.979 L32.9077 833.276 L28.3562 833.276 L28.3562 828.979 L18.2347 828.979 L18.2347 823.091 Z\" fill=\"#000000\" fill-rule=\"evenodd\" fill-opacity=\"1\" /><path clip-path=\"url(#clip620)\" d=\"M44.7161 772.833 L47.5806 772.833 L47.5806 799.76 Q53.6281 799.378 56.8109 796.132 Q59.9619 792.853 59.9619 787.029 Q59.9619 783.655 59.1344 780.504 Q58.3069 777.321 56.6518 774.202 L62.1899 774.202 Q63.5267 777.353 64.227 780.663 Q64.9272 783.973 64.9272 787.379 Q64.9272 795.909 59.9619 800.906 Q54.9967 805.871 46.5303 805.871 Q37.7774 805.871 32.6531 801.161 Q27.4968 796.418 27.4968 788.397 Q27.4968 781.204 32.1438 777.035 Q36.7589 772.833 44.7161 772.833 M42.9973 778.69 Q38.1912 778.753 35.3266 781.395 Q32.4621 784.005 32.4621 788.334 Q32.4621 793.235 35.2312 796.195 Q38.0002 799.124 43.0292 799.569 L42.9973 778.69 Z\" fill=\"#000000\" fill-rule=\"evenodd\" fill-opacity=\"1\" /><path clip-path=\"url(#clip620)\" d=\"M33.8307 742.564 Q33.2578 743.551 33.0032 744.729 Q32.7167 745.875 32.7167 747.275 Q32.7167 752.24 35.9632 754.914 Q39.1779 757.556 45.2253 757.556 L64.0042 757.556 L64.0042 763.444 L28.3562 763.444 L28.3562 757.556 L33.8944 757.556 Q30.6479 755.71 29.0883 752.749 Q27.4968 749.789 27.4968 745.556 Q27.4968 744.951 27.5923 744.219 Q27.656 743.487 27.8151 742.596 L33.8307 742.564 Z\" fill=\"#000000\" fill-rule=\"evenodd\" fill-opacity=\"1\" /><path clip-path=\"url(#clip620)\" d=\"M46.0847 720.221 Q46.0847 727.318 47.7079 730.056 Q49.3312 732.793 53.2461 732.793 Q56.3653 732.793 58.2114 730.756 Q60.0256 728.687 60.0256 725.154 Q60.0256 720.284 56.5881 717.356 Q53.1188 714.396 47.3897 714.396 L46.0847 714.396 L46.0847 720.221 M43.6657 708.54 L64.0042 708.54 L64.0042 714.396 L58.5933 714.396 Q61.8398 716.401 63.3994 719.393 Q64.9272 722.385 64.9272 726.714 Q64.9272 732.188 61.8716 735.435 Q58.7843 738.649 53.6281 738.649 Q47.6125 738.649 44.5569 734.639 Q41.5014 730.597 41.5014 722.608 L41.5014 714.396 L40.9285 714.396 Q36.8862 714.396 34.6901 717.07 Q32.4621 719.711 32.4621 724.518 Q32.4621 727.573 33.1941 730.47 Q33.9262 733.366 35.3903 736.04 L29.9795 736.04 Q28.7381 732.825 28.1334 729.801 Q27.4968 726.777 27.4968 723.913 Q27.4968 716.179 31.5072 712.359 Q35.5176 708.54 43.6657 708.54 Z\" fill=\"#000000\" fill-rule=\"evenodd\" fill-opacity=\"1\" /><path clip-path=\"url(#clip620)\" d=\"M18.2347 690.684 L28.3562 690.684 L28.3562 678.621 L32.9077 678.621 L32.9077 690.684 L52.2594 690.684 Q56.6199 690.684 57.8613 689.506 Q59.1026 688.297 59.1026 684.636 L59.1026 678.621 L64.0042 678.621 L64.0042 684.636 Q64.0042 691.416 61.4897 693.994 Q58.9434 696.572 52.2594 696.572 L32.9077 696.572 L32.9077 700.869 L28.3562 700.869 L28.3562 696.572 L18.2347 696.572 L18.2347 690.684 Z\" fill=\"#000000\" fill-rule=\"evenodd\" fill-opacity=\"1\" /><path clip-path=\"url(#clip620)\" d=\"M28.3562 670.918 L28.3562 665.062 L64.0042 665.062 L64.0042 670.918 L28.3562 670.918 M14.479 670.918 L14.479 665.062 L21.895 665.062 L21.895 670.918 L14.479 670.918 Z\" fill=\"#000000\" fill-rule=\"evenodd\" fill-opacity=\"1\" /><path clip-path=\"url(#clip620)\" d=\"M32.4621 638.994 Q32.4621 643.705 36.1542 646.442 Q39.8145 649.179 46.212 649.179 Q52.6095 649.179 56.3017 646.474 Q59.9619 643.737 59.9619 638.994 Q59.9619 634.316 56.2698 631.578 Q52.5777 628.841 46.212 628.841 Q39.8781 628.841 36.186 631.578 Q32.4621 634.316 32.4621 638.994 M27.4968 638.994 Q27.4968 631.355 32.4621 626.995 Q37.4273 622.634 46.212 622.634 Q54.9649 622.634 59.9619 626.995 Q64.9272 631.355 64.9272 638.994 Q64.9272 646.665 59.9619 651.025 Q54.9649 655.354 46.212 655.354 Q37.4273 655.354 32.4621 651.025 Q27.4968 646.665 27.4968 638.994 Z\" fill=\"#000000\" fill-rule=\"evenodd\" fill-opacity=\"1\" /><path clip-path=\"url(#clip620)\" d=\"M42.4881 583.294 L64.0042 583.294 L64.0042 589.151 L42.679 589.151 Q37.6183 589.151 35.1038 591.124 Q32.5894 593.098 32.5894 597.044 Q32.5894 601.787 35.6131 604.524 Q38.6368 607.261 43.8567 607.261 L64.0042 607.261 L64.0042 613.15 L28.3562 613.15 L28.3562 607.261 L33.8944 607.261 Q30.6797 605.161 29.0883 602.328 Q27.4968 599.463 27.4968 595.739 Q27.4968 589.596 31.3163 586.445 Q35.1038 583.294 42.4881 583.294 Z\" fill=\"#000000\" fill-rule=\"evenodd\" fill-opacity=\"1\" /><path clip-path=\"url(#clip620)\" d=\"M29.4065 548.888 L34.9447 548.888 Q33.6716 551.37 33.035 554.044 Q32.3984 556.718 32.3984 559.582 Q32.3984 563.943 33.7352 566.139 Q35.072 568.303 37.7456 568.303 Q39.7826 568.303 40.9603 566.744 Q42.1061 565.184 43.1565 560.473 L43.6021 558.468 Q44.9389 552.23 47.3897 549.62 Q49.8086 546.978 54.1691 546.978 Q59.1344 546.978 62.0308 550.925 Q64.9272 554.84 64.9272 561.715 Q64.9272 564.579 64.3543 567.698 Q63.8132 570.786 62.6992 574.223 L56.6518 574.223 Q58.3387 570.977 59.198 567.826 Q60.0256 564.675 60.0256 561.587 Q60.0256 557.45 58.6251 555.222 Q57.1929 552.994 54.6147 552.994 Q52.2276 552.994 50.9545 554.617 Q49.6813 556.208 48.5037 561.651 L48.0262 563.688 Q46.8804 569.131 44.5251 571.55 Q42.138 573.969 38.0002 573.969 Q32.9713 573.969 30.2341 570.404 Q27.4968 566.839 27.4968 560.282 Q27.4968 557.036 27.9743 554.171 Q28.4517 551.307 29.4065 548.888 Z\" fill=\"#000000\" fill-rule=\"evenodd\" fill-opacity=\"1\" /><polyline clip-path=\"url(#clip622)\" style=\"stroke:#000000; stroke-linecap:round; stroke-linejoin:round; stroke-width:4; stroke-opacity:1; fill:none\" stroke-dasharray=\"16, 8, 2, 8\" points=\"264.778,827.93 306.149,1384.24 347.52,1291.52 388.89,1106.08 430.261,642.494 471.632,1198.8 513.002,920.648 554.373,1013.37 595.744,920.648 637.114,735.212 678.485,642.494 719.856,920.648 761.226,735.212 802.597,549.776 843.968,920.648 885.338,642.494 926.709,1013.37 968.08,86.1857 1009.45,735.212 1050.82,642.494 1092.19,457.058 1133.56,86.1857 1174.93,642.494 1216.3,364.34 1257.67,735.212 1299.05,364.34 1340.42,178.904 1381.79,642.494 1423.16,1291.52 1464.53,86.1857 1505.9,549.776 1547.27,642.494 1588.64,920.648 1630.01,735.212 1671.38,457.058 1712.75,642.494 1754.12,364.34 1795.49,920.648 1836.86,1291.52 1878.23,549.776 1919.61,735.212 1960.98,1013.37 2002.35,735.212 2043.72,827.93 2085.09,549.776 2126.46,1013.37 2167.83,549.776 2209.2,271.622 2250.57,1384.24 2291.94,735.212 \"/>\n",
       "<path clip-path=\"url(#clip622)\" d=\"M252.778 815.93 L252.778 839.93 L276.778 839.93 L276.778 815.93 L252.778 815.93 Z\" fill=\"#000000\" fill-rule=\"evenodd\" fill-opacity=\"1\" stroke=\"none\"/>\n",
       "<path clip-path=\"url(#clip622)\" d=\"M294.149 1372.24 L294.149 1396.24 L318.149 1396.24 L318.149 1372.24 L294.149 1372.24 Z\" fill=\"#000000\" fill-rule=\"evenodd\" fill-opacity=\"1\" stroke=\"none\"/>\n",
       "<path clip-path=\"url(#clip622)\" d=\"M335.52 1279.52 L335.52 1303.52 L359.52 1303.52 L359.52 1279.52 L335.52 1279.52 Z\" fill=\"#000000\" fill-rule=\"evenodd\" fill-opacity=\"1\" stroke=\"none\"/>\n",
       "<path clip-path=\"url(#clip622)\" d=\"M376.89 1094.08 L376.89 1118.08 L400.89 1118.08 L400.89 1094.08 L376.89 1094.08 Z\" fill=\"#000000\" fill-rule=\"evenodd\" fill-opacity=\"1\" stroke=\"none\"/>\n",
       "<path clip-path=\"url(#clip622)\" d=\"M418.261 630.494 L418.261 654.494 L442.261 654.494 L442.261 630.494 L418.261 630.494 Z\" fill=\"#000000\" fill-rule=\"evenodd\" fill-opacity=\"1\" stroke=\"none\"/>\n",
       "<path clip-path=\"url(#clip622)\" d=\"M459.632 1186.8 L459.632 1210.8 L483.632 1210.8 L483.632 1186.8 L459.632 1186.8 Z\" fill=\"#000000\" fill-rule=\"evenodd\" fill-opacity=\"1\" stroke=\"none\"/>\n",
       "<path clip-path=\"url(#clip622)\" d=\"M501.002 908.648 L501.002 932.648 L525.002 932.648 L525.002 908.648 L501.002 908.648 Z\" fill=\"#000000\" fill-rule=\"evenodd\" fill-opacity=\"1\" stroke=\"none\"/>\n",
       "<path clip-path=\"url(#clip622)\" d=\"M542.373 1001.37 L542.373 1025.37 L566.373 1025.37 L566.373 1001.37 L542.373 1001.37 Z\" fill=\"#000000\" fill-rule=\"evenodd\" fill-opacity=\"1\" stroke=\"none\"/>\n",
       "<path clip-path=\"url(#clip622)\" d=\"M583.744 908.648 L583.744 932.648 L607.744 932.648 L607.744 908.648 L583.744 908.648 Z\" fill=\"#000000\" fill-rule=\"evenodd\" fill-opacity=\"1\" stroke=\"none\"/>\n",
       "<path clip-path=\"url(#clip622)\" d=\"M625.114 723.212 L625.114 747.212 L649.114 747.212 L649.114 723.212 L625.114 723.212 Z\" fill=\"#000000\" fill-rule=\"evenodd\" fill-opacity=\"1\" stroke=\"none\"/>\n",
       "<path clip-path=\"url(#clip622)\" d=\"M666.485 630.494 L666.485 654.494 L690.485 654.494 L690.485 630.494 L666.485 630.494 Z\" fill=\"#000000\" fill-rule=\"evenodd\" fill-opacity=\"1\" stroke=\"none\"/>\n",
       "<path clip-path=\"url(#clip622)\" d=\"M707.856 908.648 L707.856 932.648 L731.856 932.648 L731.856 908.648 L707.856 908.648 Z\" fill=\"#000000\" fill-rule=\"evenodd\" fill-opacity=\"1\" stroke=\"none\"/>\n",
       "<path clip-path=\"url(#clip622)\" d=\"M749.226 723.212 L749.226 747.212 L773.226 747.212 L773.226 723.212 L749.226 723.212 Z\" fill=\"#000000\" fill-rule=\"evenodd\" fill-opacity=\"1\" stroke=\"none\"/>\n",
       "<path clip-path=\"url(#clip622)\" d=\"M790.597 537.776 L790.597 561.776 L814.597 561.776 L814.597 537.776 L790.597 537.776 Z\" fill=\"#000000\" fill-rule=\"evenodd\" fill-opacity=\"1\" stroke=\"none\"/>\n",
       "<path clip-path=\"url(#clip622)\" d=\"M831.968 908.648 L831.968 932.648 L855.968 932.648 L855.968 908.648 L831.968 908.648 Z\" fill=\"#000000\" fill-rule=\"evenodd\" fill-opacity=\"1\" stroke=\"none\"/>\n",
       "<path clip-path=\"url(#clip622)\" d=\"M873.338 630.494 L873.338 654.494 L897.338 654.494 L897.338 630.494 L873.338 630.494 Z\" fill=\"#000000\" fill-rule=\"evenodd\" fill-opacity=\"1\" stroke=\"none\"/>\n",
       "<path clip-path=\"url(#clip622)\" d=\"M914.709 1001.37 L914.709 1025.37 L938.709 1025.37 L938.709 1001.37 L914.709 1001.37 Z\" fill=\"#000000\" fill-rule=\"evenodd\" fill-opacity=\"1\" stroke=\"none\"/>\n",
       "<path clip-path=\"url(#clip622)\" d=\"M956.08 74.1857 L956.08 98.1857 L980.08 98.1857 L980.08 74.1857 L956.08 74.1857 Z\" fill=\"#000000\" fill-rule=\"evenodd\" fill-opacity=\"1\" stroke=\"none\"/>\n",
       "<path clip-path=\"url(#clip622)\" d=\"M997.45 723.212 L997.45 747.212 L1021.45 747.212 L1021.45 723.212 L997.45 723.212 Z\" fill=\"#000000\" fill-rule=\"evenodd\" fill-opacity=\"1\" stroke=\"none\"/>\n",
       "<path clip-path=\"url(#clip622)\" d=\"M1038.82 630.494 L1038.82 654.494 L1062.82 654.494 L1062.82 630.494 L1038.82 630.494 Z\" fill=\"#000000\" fill-rule=\"evenodd\" fill-opacity=\"1\" stroke=\"none\"/>\n",
       "<path clip-path=\"url(#clip622)\" d=\"M1080.19 445.058 L1080.19 469.058 L1104.19 469.058 L1104.19 445.058 L1080.19 445.058 Z\" fill=\"#000000\" fill-rule=\"evenodd\" fill-opacity=\"1\" stroke=\"none\"/>\n",
       "<path clip-path=\"url(#clip622)\" d=\"M1121.56 74.1857 L1121.56 98.1857 L1145.56 98.1857 L1145.56 74.1857 L1121.56 74.1857 Z\" fill=\"#000000\" fill-rule=\"evenodd\" fill-opacity=\"1\" stroke=\"none\"/>\n",
       "<path clip-path=\"url(#clip622)\" d=\"M1162.93 630.494 L1162.93 654.494 L1186.93 654.494 L1186.93 630.494 L1162.93 630.494 Z\" fill=\"#000000\" fill-rule=\"evenodd\" fill-opacity=\"1\" stroke=\"none\"/>\n",
       "<path clip-path=\"url(#clip622)\" d=\"M1204.3 352.34 L1204.3 376.34 L1228.3 376.34 L1228.3 352.34 L1204.3 352.34 Z\" fill=\"#000000\" fill-rule=\"evenodd\" fill-opacity=\"1\" stroke=\"none\"/>\n",
       "<path clip-path=\"url(#clip622)\" d=\"M1245.67 723.212 L1245.67 747.212 L1269.67 747.212 L1269.67 723.212 L1245.67 723.212 Z\" fill=\"#000000\" fill-rule=\"evenodd\" fill-opacity=\"1\" stroke=\"none\"/>\n",
       "<path clip-path=\"url(#clip622)\" d=\"M1287.05 352.34 L1287.05 376.34 L1311.05 376.34 L1311.05 352.34 L1287.05 352.34 Z\" fill=\"#000000\" fill-rule=\"evenodd\" fill-opacity=\"1\" stroke=\"none\"/>\n",
       "<path clip-path=\"url(#clip622)\" d=\"M1328.42 166.904 L1328.42 190.904 L1352.42 190.904 L1352.42 166.904 L1328.42 166.904 Z\" fill=\"#000000\" fill-rule=\"evenodd\" fill-opacity=\"1\" stroke=\"none\"/>\n",
       "<path clip-path=\"url(#clip622)\" d=\"M1369.79 630.494 L1369.79 654.494 L1393.79 654.494 L1393.79 630.494 L1369.79 630.494 Z\" fill=\"#000000\" fill-rule=\"evenodd\" fill-opacity=\"1\" stroke=\"none\"/>\n",
       "<path clip-path=\"url(#clip622)\" d=\"M1411.16 1279.52 L1411.16 1303.52 L1435.16 1303.52 L1435.16 1279.52 L1411.16 1279.52 Z\" fill=\"#000000\" fill-rule=\"evenodd\" fill-opacity=\"1\" stroke=\"none\"/>\n",
       "<path clip-path=\"url(#clip622)\" d=\"M1452.53 74.1857 L1452.53 98.1857 L1476.53 98.1857 L1476.53 74.1857 L1452.53 74.1857 Z\" fill=\"#000000\" fill-rule=\"evenodd\" fill-opacity=\"1\" stroke=\"none\"/>\n",
       "<path clip-path=\"url(#clip622)\" d=\"M1493.9 537.776 L1493.9 561.776 L1517.9 561.776 L1517.9 537.776 L1493.9 537.776 Z\" fill=\"#000000\" fill-rule=\"evenodd\" fill-opacity=\"1\" stroke=\"none\"/>\n",
       "<path clip-path=\"url(#clip622)\" d=\"M1535.27 630.494 L1535.27 654.494 L1559.27 654.494 L1559.27 630.494 L1535.27 630.494 Z\" fill=\"#000000\" fill-rule=\"evenodd\" fill-opacity=\"1\" stroke=\"none\"/>\n",
       "<path clip-path=\"url(#clip622)\" d=\"M1576.64 908.648 L1576.64 932.648 L1600.64 932.648 L1600.64 908.648 L1576.64 908.648 Z\" fill=\"#000000\" fill-rule=\"evenodd\" fill-opacity=\"1\" stroke=\"none\"/>\n",
       "<path clip-path=\"url(#clip622)\" d=\"M1618.01 723.212 L1618.01 747.212 L1642.01 747.212 L1642.01 723.212 L1618.01 723.212 Z\" fill=\"#000000\" fill-rule=\"evenodd\" fill-opacity=\"1\" stroke=\"none\"/>\n",
       "<path clip-path=\"url(#clip622)\" d=\"M1659.38 445.058 L1659.38 469.058 L1683.38 469.058 L1683.38 445.058 L1659.38 445.058 Z\" fill=\"#000000\" fill-rule=\"evenodd\" fill-opacity=\"1\" stroke=\"none\"/>\n",
       "<path clip-path=\"url(#clip622)\" d=\"M1700.75 630.494 L1700.75 654.494 L1724.75 654.494 L1724.75 630.494 L1700.75 630.494 Z\" fill=\"#000000\" fill-rule=\"evenodd\" fill-opacity=\"1\" stroke=\"none\"/>\n",
       "<path clip-path=\"url(#clip622)\" d=\"M1742.12 352.34 L1742.12 376.34 L1766.12 376.34 L1766.12 352.34 L1742.12 352.34 Z\" fill=\"#000000\" fill-rule=\"evenodd\" fill-opacity=\"1\" stroke=\"none\"/>\n",
       "<path clip-path=\"url(#clip622)\" d=\"M1783.49 908.648 L1783.49 932.648 L1807.49 932.648 L1807.49 908.648 L1783.49 908.648 Z\" fill=\"#000000\" fill-rule=\"evenodd\" fill-opacity=\"1\" stroke=\"none\"/>\n",
       "<path clip-path=\"url(#clip622)\" d=\"M1824.86 1279.52 L1824.86 1303.52 L1848.86 1303.52 L1848.86 1279.52 L1824.86 1279.52 Z\" fill=\"#000000\" fill-rule=\"evenodd\" fill-opacity=\"1\" stroke=\"none\"/>\n",
       "<path clip-path=\"url(#clip622)\" d=\"M1866.23 537.776 L1866.23 561.776 L1890.23 561.776 L1890.23 537.776 L1866.23 537.776 Z\" fill=\"#000000\" fill-rule=\"evenodd\" fill-opacity=\"1\" stroke=\"none\"/>\n",
       "<path clip-path=\"url(#clip622)\" d=\"M1907.61 723.212 L1907.61 747.212 L1931.61 747.212 L1931.61 723.212 L1907.61 723.212 Z\" fill=\"#000000\" fill-rule=\"evenodd\" fill-opacity=\"1\" stroke=\"none\"/>\n",
       "<path clip-path=\"url(#clip622)\" d=\"M1948.98 1001.37 L1948.98 1025.37 L1972.98 1025.37 L1972.98 1001.37 L1948.98 1001.37 Z\" fill=\"#000000\" fill-rule=\"evenodd\" fill-opacity=\"1\" stroke=\"none\"/>\n",
       "<path clip-path=\"url(#clip622)\" d=\"M1990.35 723.212 L1990.35 747.212 L2014.35 747.212 L2014.35 723.212 L1990.35 723.212 Z\" fill=\"#000000\" fill-rule=\"evenodd\" fill-opacity=\"1\" stroke=\"none\"/>\n",
       "<path clip-path=\"url(#clip622)\" d=\"M2031.72 815.93 L2031.72 839.93 L2055.72 839.93 L2055.72 815.93 L2031.72 815.93 Z\" fill=\"#000000\" fill-rule=\"evenodd\" fill-opacity=\"1\" stroke=\"none\"/>\n",
       "<path clip-path=\"url(#clip622)\" d=\"M2073.09 537.776 L2073.09 561.776 L2097.09 561.776 L2097.09 537.776 L2073.09 537.776 Z\" fill=\"#000000\" fill-rule=\"evenodd\" fill-opacity=\"1\" stroke=\"none\"/>\n",
       "<path clip-path=\"url(#clip622)\" d=\"M2114.46 1001.37 L2114.46 1025.37 L2138.46 1025.37 L2138.46 1001.37 L2114.46 1001.37 Z\" fill=\"#000000\" fill-rule=\"evenodd\" fill-opacity=\"1\" stroke=\"none\"/>\n",
       "<path clip-path=\"url(#clip622)\" d=\"M2155.83 537.776 L2155.83 561.776 L2179.83 561.776 L2179.83 537.776 L2155.83 537.776 Z\" fill=\"#000000\" fill-rule=\"evenodd\" fill-opacity=\"1\" stroke=\"none\"/>\n",
       "<path clip-path=\"url(#clip622)\" d=\"M2197.2 259.622 L2197.2 283.622 L2221.2 283.622 L2221.2 259.622 L2197.2 259.622 Z\" fill=\"#000000\" fill-rule=\"evenodd\" fill-opacity=\"1\" stroke=\"none\"/>\n",
       "<path clip-path=\"url(#clip622)\" d=\"M2238.57 1372.24 L2238.57 1396.24 L2262.57 1396.24 L2262.57 1372.24 L2238.57 1372.24 Z\" fill=\"#000000\" fill-rule=\"evenodd\" fill-opacity=\"1\" stroke=\"none\"/>\n",
       "<path clip-path=\"url(#clip622)\" d=\"M2279.94 723.212 L2279.94 747.212 L2303.94 747.212 L2303.94 723.212 L2279.94 723.212 Z\" fill=\"#000000\" fill-rule=\"evenodd\" fill-opacity=\"1\" stroke=\"none\"/>\n",
       "</svg>\n"
      ]
     },
     "metadata": {},
     "output_type": "display_data"
    }
   ],
   "source": [
    "p3 = plot(1:nScenMax,iterTraj_s,xlabel=\"# scenarios\", ylabel=\"# iterations\",\n",
    "    marker=:square, \n",
    "    markersize=3,\n",
    "    linecolor = :black,\n",
    "    markercolor = :black,\n",
    "    linestyle = :dashdot,\n",
    "    label=\"\",\n",
    "    yticks=range(0,150,step=10),\n",
    "    gridlinewidth=2,\n",
    "    dpi=600)\n",
    "\n",
    "display(p3)"
   ]
  },
  {
   "cell_type": "code",
   "execution_count": 20,
   "id": "6eec491f",
   "metadata": {},
   "outputs": [
    {
     "data": {
      "image/svg+xml": [
       "<?xml version=\"1.0\" encoding=\"utf-8\"?>\n",
       "<svg xmlns=\"http://www.w3.org/2000/svg\" xmlns:xlink=\"http://www.w3.org/1999/xlink\" width=\"600\" height=\"400\" viewBox=\"0 0 2400 1600\">\n",
       "<defs>\n",
       "  <clipPath id=\"clip660\">\n",
       "    <rect x=\"0\" y=\"0\" width=\"2400\" height=\"1600\"/>\n",
       "  </clipPath>\n",
       "</defs>\n",
       "<path clip-path=\"url(#clip660)\" d=\"M0 1600 L2400 1600 L2400 0 L0 0  Z\" fill=\"#ffffff\" fill-rule=\"evenodd\" fill-opacity=\"1\"/>\n",
       "<defs>\n",
       "  <clipPath id=\"clip661\">\n",
       "    <rect x=\"480\" y=\"0\" width=\"1681\" height=\"1600\"/>\n",
       "  </clipPath>\n",
       "</defs>\n",
       "<defs>\n",
       "  <clipPath id=\"clip662\">\n",
       "    <rect x=\"203\" y=\"47\" width=\"2150\" height=\"1377\"/>\n",
       "  </clipPath>\n",
       "</defs>\n",
       "<path clip-path=\"url(#clip660)\" d=\"M252.764 1423.18 L2352.76 1423.18 L2352.76 47.2441 L252.764 47.2441  Z\" fill=\"#ffffff\" fill-rule=\"evenodd\" fill-opacity=\"1\"/>\n",
       "<defs>\n",
       "  <clipPath id=\"clip663\">\n",
       "    <rect x=\"252\" y=\"47\" width=\"2101\" height=\"1377\"/>\n",
       "  </clipPath>\n",
       "</defs>\n",
       "<polyline clip-path=\"url(#clip663)\" style=\"stroke:#000000; stroke-linecap:round; stroke-linejoin:round; stroke-width:8; stroke-opacity:0.1; fill:none\" points=\"271.767,1423.18 271.767,47.2441 \"/>\n",
       "<polyline clip-path=\"url(#clip663)\" style=\"stroke:#000000; stroke-linecap:round; stroke-linejoin:round; stroke-width:8; stroke-opacity:0.1; fill:none\" points=\"676.078,1423.18 676.078,47.2441 \"/>\n",
       "<polyline clip-path=\"url(#clip663)\" style=\"stroke:#000000; stroke-linecap:round; stroke-linejoin:round; stroke-width:8; stroke-opacity:0.1; fill:none\" points=\"1080.39,1423.18 1080.39,47.2441 \"/>\n",
       "<polyline clip-path=\"url(#clip663)\" style=\"stroke:#000000; stroke-linecap:round; stroke-linejoin:round; stroke-width:8; stroke-opacity:0.1; fill:none\" points=\"1484.7,1423.18 1484.7,47.2441 \"/>\n",
       "<polyline clip-path=\"url(#clip663)\" style=\"stroke:#000000; stroke-linecap:round; stroke-linejoin:round; stroke-width:8; stroke-opacity:0.1; fill:none\" points=\"1889.01,1423.18 1889.01,47.2441 \"/>\n",
       "<polyline clip-path=\"url(#clip663)\" style=\"stroke:#000000; stroke-linecap:round; stroke-linejoin:round; stroke-width:8; stroke-opacity:0.1; fill:none\" points=\"2293.32,1423.18 2293.32,47.2441 \"/>\n",
       "<polyline clip-path=\"url(#clip660)\" style=\"stroke:#000000; stroke-linecap:round; stroke-linejoin:round; stroke-width:4; stroke-opacity:1; fill:none\" points=\"252.764,1423.18 2352.76,1423.18 \"/>\n",
       "<polyline clip-path=\"url(#clip660)\" style=\"stroke:#000000; stroke-linecap:round; stroke-linejoin:round; stroke-width:4; stroke-opacity:1; fill:none\" points=\"271.767,1423.18 271.767,1404.28 \"/>\n",
       "<polyline clip-path=\"url(#clip660)\" style=\"stroke:#000000; stroke-linecap:round; stroke-linejoin:round; stroke-width:4; stroke-opacity:1; fill:none\" points=\"676.078,1423.18 676.078,1404.28 \"/>\n",
       "<polyline clip-path=\"url(#clip660)\" style=\"stroke:#000000; stroke-linecap:round; stroke-linejoin:round; stroke-width:4; stroke-opacity:1; fill:none\" points=\"1080.39,1423.18 1080.39,1404.28 \"/>\n",
       "<polyline clip-path=\"url(#clip660)\" style=\"stroke:#000000; stroke-linecap:round; stroke-linejoin:round; stroke-width:4; stroke-opacity:1; fill:none\" points=\"1484.7,1423.18 1484.7,1404.28 \"/>\n",
       "<polyline clip-path=\"url(#clip660)\" style=\"stroke:#000000; stroke-linecap:round; stroke-linejoin:round; stroke-width:4; stroke-opacity:1; fill:none\" points=\"1889.01,1423.18 1889.01,1404.28 \"/>\n",
       "<polyline clip-path=\"url(#clip660)\" style=\"stroke:#000000; stroke-linecap:round; stroke-linejoin:round; stroke-width:4; stroke-opacity:1; fill:none\" points=\"2293.32,1423.18 2293.32,1404.28 \"/>\n",
       "<path clip-path=\"url(#clip660)\" d=\"M271.767 1454.1 Q268.155 1454.1 266.327 1457.66 Q264.521 1461.2 264.521 1468.33 Q264.521 1475.44 266.327 1479.01 Q268.155 1482.55 271.767 1482.55 Q275.401 1482.55 277.206 1479.01 Q279.035 1475.44 279.035 1468.33 Q279.035 1461.2 277.206 1457.66 Q275.401 1454.1 271.767 1454.1 M271.767 1450.39 Q277.577 1450.39 280.632 1455 Q283.711 1459.58 283.711 1468.33 Q283.711 1477.06 280.632 1481.67 Q277.577 1486.25 271.767 1486.25 Q265.956 1486.25 262.878 1481.67 Q259.822 1477.06 259.822 1468.33 Q259.822 1459.58 262.878 1455 Q265.956 1450.39 271.767 1450.39 Z\" fill=\"#000000\" fill-rule=\"evenodd\" fill-opacity=\"1\" /><path clip-path=\"url(#clip660)\" d=\"M650.765 1481.64 L658.404 1481.64 L658.404 1455.28 L650.094 1456.95 L650.094 1452.69 L658.358 1451.02 L663.034 1451.02 L663.034 1481.64 L670.673 1481.64 L670.673 1485.58 L650.765 1485.58 L650.765 1481.64 Z\" fill=\"#000000\" fill-rule=\"evenodd\" fill-opacity=\"1\" /><path clip-path=\"url(#clip660)\" d=\"M690.117 1454.1 Q686.506 1454.1 684.677 1457.66 Q682.872 1461.2 682.872 1468.33 Q682.872 1475.44 684.677 1479.01 Q686.506 1482.55 690.117 1482.55 Q693.751 1482.55 695.557 1479.01 Q697.385 1475.44 697.385 1468.33 Q697.385 1461.2 695.557 1457.66 Q693.751 1454.1 690.117 1454.1 M690.117 1450.39 Q695.927 1450.39 698.983 1455 Q702.061 1459.58 702.061 1468.33 Q702.061 1477.06 698.983 1481.67 Q695.927 1486.25 690.117 1486.25 Q684.307 1486.25 681.228 1481.67 Q678.173 1477.06 678.173 1468.33 Q678.173 1459.58 681.228 1455 Q684.307 1450.39 690.117 1450.39 Z\" fill=\"#000000\" fill-rule=\"evenodd\" fill-opacity=\"1\" /><path clip-path=\"url(#clip660)\" d=\"M1059.16 1481.64 L1075.48 1481.64 L1075.48 1485.58 L1053.54 1485.58 L1053.54 1481.64 Q1056.2 1478.89 1060.78 1474.26 Q1065.39 1469.61 1066.57 1468.27 Q1068.81 1465.74 1069.69 1464.01 Q1070.6 1462.25 1070.6 1460.56 Q1070.6 1457.8 1068.65 1456.07 Q1066.73 1454.33 1063.63 1454.33 Q1061.43 1454.33 1058.98 1455.09 Q1056.55 1455.86 1053.77 1457.41 L1053.77 1452.69 Q1056.59 1451.55 1059.05 1450.97 Q1061.5 1450.39 1063.54 1450.39 Q1068.91 1450.39 1072.1 1453.08 Q1075.3 1455.77 1075.3 1460.26 Q1075.3 1462.39 1074.49 1464.31 Q1073.7 1466.2 1071.59 1468.8 Q1071.01 1469.47 1067.91 1472.69 Q1064.81 1475.88 1059.16 1481.64 Z\" fill=\"#000000\" fill-rule=\"evenodd\" fill-opacity=\"1\" /><path clip-path=\"url(#clip660)\" d=\"M1095.3 1454.1 Q1091.69 1454.1 1089.86 1457.66 Q1088.05 1461.2 1088.05 1468.33 Q1088.05 1475.44 1089.86 1479.01 Q1091.69 1482.55 1095.3 1482.55 Q1098.93 1482.55 1100.74 1479.01 Q1102.56 1475.44 1102.56 1468.33 Q1102.56 1461.2 1100.74 1457.66 Q1098.93 1454.1 1095.3 1454.1 M1095.3 1450.39 Q1101.11 1450.39 1104.16 1455 Q1107.24 1459.58 1107.24 1468.33 Q1107.24 1477.06 1104.16 1481.67 Q1101.11 1486.25 1095.3 1486.25 Q1089.49 1486.25 1086.41 1481.67 Q1083.35 1477.06 1083.35 1468.33 Q1083.35 1459.58 1086.41 1455 Q1089.49 1450.39 1095.3 1450.39 Z\" fill=\"#000000\" fill-rule=\"evenodd\" fill-opacity=\"1\" /><path clip-path=\"url(#clip660)\" d=\"M1473.54 1466.95 Q1476.9 1467.66 1478.77 1469.93 Q1480.67 1472.2 1480.67 1475.53 Q1480.67 1480.65 1477.15 1483.45 Q1473.64 1486.25 1467.15 1486.25 Q1464.98 1486.25 1462.66 1485.81 Q1460.37 1485.39 1457.92 1484.54 L1457.92 1480.02 Q1459.86 1481.16 1462.18 1481.74 Q1464.49 1482.32 1467.01 1482.32 Q1471.41 1482.32 1473.7 1480.58 Q1476.02 1478.84 1476.02 1475.53 Q1476.02 1472.48 1473.87 1470.77 Q1471.74 1469.03 1467.92 1469.03 L1463.89 1469.03 L1463.89 1465.19 L1468.1 1465.19 Q1471.55 1465.19 1473.38 1463.82 Q1475.21 1462.43 1475.21 1459.84 Q1475.21 1457.18 1473.31 1455.77 Q1471.44 1454.33 1467.92 1454.33 Q1466 1454.33 1463.8 1454.75 Q1461.6 1455.16 1458.96 1456.04 L1458.96 1451.88 Q1461.62 1451.14 1463.94 1450.77 Q1466.27 1450.39 1468.33 1450.39 Q1473.66 1450.39 1476.76 1452.83 Q1479.86 1455.23 1479.86 1459.35 Q1479.86 1462.22 1478.22 1464.21 Q1476.57 1466.18 1473.54 1466.95 Z\" fill=\"#000000\" fill-rule=\"evenodd\" fill-opacity=\"1\" /><path clip-path=\"url(#clip660)\" d=\"M1499.54 1454.1 Q1495.93 1454.1 1494.1 1457.66 Q1492.29 1461.2 1492.29 1468.33 Q1492.29 1475.44 1494.1 1479.01 Q1495.93 1482.55 1499.54 1482.55 Q1503.17 1482.55 1504.98 1479.01 Q1506.81 1475.44 1506.81 1468.33 Q1506.81 1461.2 1504.98 1457.66 Q1503.17 1454.1 1499.54 1454.1 M1499.54 1450.39 Q1505.35 1450.39 1508.4 1455 Q1511.48 1459.58 1511.48 1468.33 Q1511.48 1477.06 1508.4 1481.67 Q1505.35 1486.25 1499.54 1486.25 Q1493.73 1486.25 1490.65 1481.67 Q1487.59 1477.06 1487.59 1468.33 Q1487.59 1459.58 1490.65 1455 Q1493.73 1450.39 1499.54 1450.39 Z\" fill=\"#000000\" fill-rule=\"evenodd\" fill-opacity=\"1\" /><path clip-path=\"url(#clip660)\" d=\"M1877.18 1455.09 L1865.38 1473.54 L1877.18 1473.54 L1877.18 1455.09 M1875.96 1451.02 L1881.84 1451.02 L1881.84 1473.54 L1886.77 1473.54 L1886.77 1477.43 L1881.84 1477.43 L1881.84 1485.58 L1877.18 1485.58 L1877.18 1477.43 L1861.58 1477.43 L1861.58 1472.92 L1875.96 1451.02 Z\" fill=\"#000000\" fill-rule=\"evenodd\" fill-opacity=\"1\" /><path clip-path=\"url(#clip660)\" d=\"M1904.5 1454.1 Q1900.89 1454.1 1899.06 1457.66 Q1897.25 1461.2 1897.25 1468.33 Q1897.25 1475.44 1899.06 1479.01 Q1900.89 1482.55 1904.5 1482.55 Q1908.13 1482.55 1909.94 1479.01 Q1911.77 1475.44 1911.77 1468.33 Q1911.77 1461.2 1909.94 1457.66 Q1908.13 1454.1 1904.5 1454.1 M1904.5 1450.39 Q1910.31 1450.39 1913.36 1455 Q1916.44 1459.58 1916.44 1468.33 Q1916.44 1477.06 1913.36 1481.67 Q1910.31 1486.25 1904.5 1486.25 Q1898.69 1486.25 1895.61 1481.67 Q1892.55 1477.06 1892.55 1468.33 Q1892.55 1459.58 1895.61 1455 Q1898.69 1450.39 1904.5 1450.39 Z\" fill=\"#000000\" fill-rule=\"evenodd\" fill-opacity=\"1\" /><path clip-path=\"url(#clip660)\" d=\"M2268.02 1451.02 L2286.38 1451.02 L2286.38 1454.96 L2272.3 1454.96 L2272.3 1463.43 Q2273.32 1463.08 2274.34 1462.92 Q2275.36 1462.73 2276.38 1462.73 Q2282.16 1462.73 2285.54 1465.9 Q2288.92 1469.08 2288.92 1474.49 Q2288.92 1480.07 2285.45 1483.17 Q2281.98 1486.25 2275.66 1486.25 Q2273.48 1486.25 2271.22 1485.88 Q2268.97 1485.51 2266.56 1484.77 L2266.56 1480.07 Q2268.65 1481.2 2270.87 1481.76 Q2273.09 1482.32 2275.57 1482.32 Q2279.57 1482.32 2281.91 1480.21 Q2284.25 1478.1 2284.25 1474.49 Q2284.25 1470.88 2281.91 1468.77 Q2279.57 1466.67 2275.57 1466.67 Q2273.69 1466.67 2271.82 1467.08 Q2269.97 1467.5 2268.02 1468.38 L2268.02 1451.02 Z\" fill=\"#000000\" fill-rule=\"evenodd\" fill-opacity=\"1\" /><path clip-path=\"url(#clip660)\" d=\"M2308.14 1454.1 Q2304.53 1454.1 2302.7 1457.66 Q2300.89 1461.2 2300.89 1468.33 Q2300.89 1475.44 2302.7 1479.01 Q2304.53 1482.55 2308.14 1482.55 Q2311.77 1482.55 2313.58 1479.01 Q2315.41 1475.44 2315.41 1468.33 Q2315.41 1461.2 2313.58 1457.66 Q2311.77 1454.1 2308.14 1454.1 M2308.14 1450.39 Q2313.95 1450.39 2317 1455 Q2320.08 1459.58 2320.08 1468.33 Q2320.08 1477.06 2317 1481.67 Q2313.95 1486.25 2308.14 1486.25 Q2302.33 1486.25 2299.25 1481.67 Q2296.19 1477.06 2296.19 1468.33 Q2296.19 1459.58 2299.25 1455 Q2302.33 1450.39 2308.14 1450.39 Z\" fill=\"#000000\" fill-rule=\"evenodd\" fill-opacity=\"1\" /><path clip-path=\"url(#clip660)\" d=\"M1142.54 1539.37 L1133.27 1539.37 L1130.6 1550 L1139.93 1550 L1142.54 1539.37 M1137.76 1521.26 L1134.45 1534.46 L1143.74 1534.46 L1147.09 1521.26 L1152.18 1521.26 L1148.9 1534.46 L1158.83 1534.46 L1158.83 1539.37 L1147.66 1539.37 L1145.05 1550 L1155.17 1550 L1155.17 1554.87 L1143.81 1554.87 L1140.5 1568.04 L1135.41 1568.04 L1138.68 1554.87 L1129.36 1554.87 L1126.08 1568.04 L1120.96 1568.04 L1124.27 1554.87 L1114.24 1554.87 L1114.24 1550 L1125.44 1550 L1128.12 1539.37 L1117.87 1539.37 L1117.87 1534.46 L1129.36 1534.46 L1132.6 1521.26 L1137.76 1521.26 Z\" fill=\"#000000\" fill-rule=\"evenodd\" fill-opacity=\"1\" /><path clip-path=\"url(#clip660)\" d=\"M1213.42 1533.45 L1213.42 1538.98 Q1210.93 1537.71 1208.26 1537.07 Q1205.59 1536.44 1202.72 1536.44 Q1198.36 1536.44 1196.17 1537.77 Q1194 1539.11 1194 1541.79 Q1194 1543.82 1195.56 1545 Q1197.12 1546.15 1201.83 1547.2 L1203.84 1547.64 Q1210.08 1548.98 1212.69 1551.43 Q1215.33 1553.85 1215.33 1558.21 Q1215.33 1563.17 1211.38 1566.07 Q1207.47 1568.97 1200.59 1568.97 Q1197.73 1568.97 1194.61 1568.39 Q1191.52 1567.85 1188.08 1566.74 L1188.08 1560.69 Q1191.33 1562.38 1194.48 1563.24 Q1197.63 1564.07 1200.72 1564.07 Q1204.86 1564.07 1207.08 1562.66 Q1209.31 1561.23 1209.31 1558.65 Q1209.31 1556.27 1207.69 1554.99 Q1206.1 1553.72 1200.65 1552.54 L1198.62 1552.07 Q1193.17 1550.92 1190.76 1548.56 Q1188.34 1546.18 1188.34 1542.04 Q1188.34 1537.01 1191.9 1534.27 Q1195.47 1531.54 1202.02 1531.54 Q1205.27 1531.54 1208.13 1532.01 Q1211 1532.49 1213.42 1533.45 Z\" fill=\"#000000\" fill-rule=\"evenodd\" fill-opacity=\"1\" /><path clip-path=\"url(#clip660)\" d=\"M1250.31 1533.76 L1250.31 1539.24 Q1247.82 1537.87 1245.31 1537.2 Q1242.83 1536.5 1240.28 1536.5 Q1234.58 1536.5 1231.43 1540.13 Q1228.28 1543.73 1228.28 1550.25 Q1228.28 1556.78 1231.43 1560.4 Q1234.58 1564 1240.28 1564 Q1242.83 1564 1245.31 1563.33 Q1247.82 1562.63 1250.31 1561.26 L1250.31 1566.68 Q1247.86 1567.82 1245.21 1568.39 Q1242.6 1568.97 1239.64 1568.97 Q1231.59 1568.97 1226.85 1563.91 Q1222.11 1558.85 1222.11 1550.25 Q1222.11 1541.53 1226.88 1536.53 Q1231.69 1531.54 1240.03 1531.54 Q1242.73 1531.54 1245.31 1532.11 Q1247.89 1532.65 1250.31 1533.76 Z\" fill=\"#000000\" fill-rule=\"evenodd\" fill-opacity=\"1\" /><path clip-path=\"url(#clip660)\" d=\"M1290.98 1548.76 L1290.98 1551.62 L1264.06 1551.62 Q1264.44 1557.67 1267.68 1560.85 Q1270.96 1564 1276.79 1564 Q1280.16 1564 1283.31 1563.17 Q1286.5 1562.35 1289.61 1560.69 L1289.61 1566.23 Q1286.46 1567.57 1283.15 1568.27 Q1279.84 1568.97 1276.44 1568.97 Q1267.91 1568.97 1262.91 1564 Q1257.95 1559.04 1257.95 1550.57 Q1257.95 1541.82 1262.66 1536.69 Q1267.4 1531.54 1275.42 1531.54 Q1282.61 1531.54 1286.78 1536.18 Q1290.98 1540.8 1290.98 1548.76 M1285.13 1547.04 Q1285.06 1542.23 1282.42 1539.37 Q1279.81 1536.5 1275.48 1536.5 Q1270.58 1536.5 1267.62 1539.27 Q1264.69 1542.04 1264.25 1547.07 L1285.13 1547.04 Z\" fill=\"#000000\" fill-rule=\"evenodd\" fill-opacity=\"1\" /><path clip-path=\"url(#clip660)\" d=\"M1330.23 1546.53 L1330.23 1568.04 L1324.37 1568.04 L1324.37 1546.72 Q1324.37 1541.66 1322.4 1539.14 Q1320.42 1536.63 1316.48 1536.63 Q1311.74 1536.63 1309 1539.65 Q1306.26 1542.68 1306.26 1547.9 L1306.26 1568.04 L1300.37 1568.04 L1300.37 1532.4 L1306.26 1532.4 L1306.26 1537.93 Q1308.36 1534.72 1311.19 1533.13 Q1314.06 1531.54 1317.78 1531.54 Q1323.93 1531.54 1327.08 1535.36 Q1330.23 1539.14 1330.23 1546.53 Z\" fill=\"#000000\" fill-rule=\"evenodd\" fill-opacity=\"1\" /><path clip-path=\"url(#clip660)\" d=\"M1358.11 1550.12 Q1351.01 1550.12 1348.27 1551.75 Q1345.54 1553.37 1345.54 1557.29 Q1345.54 1560.4 1347.57 1562.25 Q1349.64 1564.07 1353.18 1564.07 Q1358.05 1564.07 1360.97 1560.63 Q1363.93 1557.16 1363.93 1551.43 L1363.93 1550.12 L1358.11 1550.12 M1369.79 1547.71 L1369.79 1568.04 L1363.93 1568.04 L1363.93 1562.63 Q1361.93 1565.88 1358.94 1567.44 Q1355.95 1568.97 1351.62 1568.97 Q1346.14 1568.97 1342.9 1565.91 Q1339.68 1562.82 1339.68 1557.67 Q1339.68 1551.65 1343.69 1548.6 Q1347.73 1545.54 1355.72 1545.54 L1363.93 1545.54 L1363.93 1544.97 Q1363.93 1540.93 1361.26 1538.73 Q1358.62 1536.5 1353.81 1536.5 Q1350.76 1536.5 1347.86 1537.23 Q1344.96 1537.97 1342.29 1539.43 L1342.29 1534.02 Q1345.51 1532.78 1348.53 1532.17 Q1351.55 1531.54 1354.42 1531.54 Q1362.15 1531.54 1365.97 1535.55 Q1369.79 1539.56 1369.79 1547.71 Z\" fill=\"#000000\" fill-rule=\"evenodd\" fill-opacity=\"1\" /><path clip-path=\"url(#clip660)\" d=\"M1402.51 1537.87 Q1401.52 1537.3 1400.35 1537.04 Q1399.2 1536.76 1397.8 1536.76 Q1392.83 1536.76 1390.16 1540 Q1387.52 1543.22 1387.52 1549.27 L1387.52 1568.04 L1381.63 1568.04 L1381.63 1532.4 L1387.52 1532.4 L1387.52 1537.93 Q1389.37 1534.69 1392.33 1533.13 Q1395.29 1531.54 1399.52 1531.54 Q1400.12 1531.54 1400.86 1531.63 Q1401.59 1531.7 1402.48 1531.85 L1402.51 1537.87 Z\" fill=\"#000000\" fill-rule=\"evenodd\" fill-opacity=\"1\" /><path clip-path=\"url(#clip660)\" d=\"M1408.65 1532.4 L1414.51 1532.4 L1414.51 1568.04 L1408.65 1568.04 L1408.65 1532.4 M1408.65 1518.52 L1414.51 1518.52 L1414.51 1525.93 L1408.65 1525.93 L1408.65 1518.52 Z\" fill=\"#000000\" fill-rule=\"evenodd\" fill-opacity=\"1\" /><path clip-path=\"url(#clip660)\" d=\"M1440.58 1536.5 Q1435.87 1536.5 1433.13 1540.19 Q1430.39 1543.85 1430.39 1550.25 Q1430.39 1556.65 1433.1 1560.34 Q1435.84 1564 1440.58 1564 Q1445.26 1564 1447.99 1560.31 Q1450.73 1556.62 1450.73 1550.25 Q1450.73 1543.92 1447.99 1540.23 Q1445.26 1536.5 1440.58 1536.5 M1440.58 1531.54 Q1448.22 1531.54 1452.58 1536.5 Q1456.94 1541.47 1456.94 1550.25 Q1456.94 1559 1452.58 1564 Q1448.22 1568.97 1440.58 1568.97 Q1432.91 1568.97 1428.55 1564 Q1424.22 1559 1424.22 1550.25 Q1424.22 1541.47 1428.55 1536.5 Q1432.91 1531.54 1440.58 1531.54 Z\" fill=\"#000000\" fill-rule=\"evenodd\" fill-opacity=\"1\" /><path clip-path=\"url(#clip660)\" d=\"M1489.37 1533.45 L1489.37 1538.98 Q1486.89 1537.71 1484.21 1537.07 Q1481.54 1536.44 1478.68 1536.44 Q1474.32 1536.44 1472.12 1537.77 Q1469.96 1539.11 1469.96 1541.79 Q1469.96 1543.82 1471.51 1545 Q1473.07 1546.15 1477.79 1547.2 L1479.79 1547.64 Q1486.03 1548.98 1488.64 1551.43 Q1491.28 1553.85 1491.28 1558.21 Q1491.28 1563.17 1487.33 1566.07 Q1483.42 1568.97 1476.54 1568.97 Q1473.68 1568.97 1470.56 1568.39 Q1467.47 1567.85 1464.04 1566.74 L1464.04 1560.69 Q1467.28 1562.38 1470.43 1563.24 Q1473.58 1564.07 1476.67 1564.07 Q1480.81 1564.07 1483.04 1562.66 Q1485.26 1561.23 1485.26 1558.65 Q1485.26 1556.27 1483.64 1554.99 Q1482.05 1553.72 1476.61 1552.54 L1474.57 1552.07 Q1469.13 1550.92 1466.71 1548.56 Q1464.29 1546.18 1464.29 1542.04 Q1464.29 1537.01 1467.85 1534.27 Q1471.42 1531.54 1477.98 1531.54 Q1481.22 1531.54 1484.09 1532.01 Q1486.95 1532.49 1489.37 1533.45 Z\" fill=\"#000000\" fill-rule=\"evenodd\" fill-opacity=\"1\" /><polyline clip-path=\"url(#clip663)\" style=\"stroke:#000000; stroke-linecap:round; stroke-linejoin:round; stroke-width:8; stroke-opacity:0.1; fill:none\" points=\"252.764,1141.08 2352.76,1141.08 \"/>\n",
       "<polyline clip-path=\"url(#clip663)\" style=\"stroke:#000000; stroke-linecap:round; stroke-linejoin:round; stroke-width:8; stroke-opacity:0.1; fill:none\" points=\"252.764,778.264 2352.76,778.264 \"/>\n",
       "<polyline clip-path=\"url(#clip663)\" style=\"stroke:#000000; stroke-linecap:round; stroke-linejoin:round; stroke-width:8; stroke-opacity:0.1; fill:none\" points=\"252.764,415.452 2352.76,415.452 \"/>\n",
       "<polyline clip-path=\"url(#clip663)\" style=\"stroke:#000000; stroke-linecap:round; stroke-linejoin:round; stroke-width:8; stroke-opacity:0.1; fill:none\" points=\"252.764,52.6398 2352.76,52.6398 \"/>\n",
       "<polyline clip-path=\"url(#clip660)\" style=\"stroke:#000000; stroke-linecap:round; stroke-linejoin:round; stroke-width:4; stroke-opacity:1; fill:none\" points=\"252.764,1423.18 252.764,47.2441 \"/>\n",
       "<polyline clip-path=\"url(#clip660)\" style=\"stroke:#000000; stroke-linecap:round; stroke-linejoin:round; stroke-width:4; stroke-opacity:1; fill:none\" points=\"252.764,1141.08 271.662,1141.08 \"/>\n",
       "<polyline clip-path=\"url(#clip660)\" style=\"stroke:#000000; stroke-linecap:round; stroke-linejoin:round; stroke-width:4; stroke-opacity:1; fill:none\" points=\"252.764,778.264 271.662,778.264 \"/>\n",
       "<polyline clip-path=\"url(#clip660)\" style=\"stroke:#000000; stroke-linecap:round; stroke-linejoin:round; stroke-width:4; stroke-opacity:1; fill:none\" points=\"252.764,415.452 271.662,415.452 \"/>\n",
       "<polyline clip-path=\"url(#clip660)\" style=\"stroke:#000000; stroke-linecap:round; stroke-linejoin:round; stroke-width:4; stroke-opacity:1; fill:none\" points=\"252.764,52.6398 271.662,52.6398 \"/>\n",
       "<path clip-path=\"url(#clip660)\" d=\"M115.195 1160.87 L122.834 1160.87 L122.834 1134.5 L114.523 1136.17 L114.523 1131.91 L122.787 1130.24 L127.463 1130.24 L127.463 1160.87 L135.102 1160.87 L135.102 1164.8 L115.195 1164.8 L115.195 1160.87 Z\" fill=\"#000000\" fill-rule=\"evenodd\" fill-opacity=\"1\" /><path clip-path=\"url(#clip660)\" d=\"M154.546 1133.32 Q150.935 1133.32 149.107 1136.89 Q147.301 1140.43 147.301 1147.56 Q147.301 1154.66 149.107 1158.23 Q150.935 1161.77 154.546 1161.77 Q158.181 1161.77 159.986 1158.23 Q161.815 1154.66 161.815 1147.56 Q161.815 1140.43 159.986 1136.89 Q158.181 1133.32 154.546 1133.32 M154.546 1129.62 Q160.357 1129.62 163.412 1134.22 Q166.491 1138.81 166.491 1147.56 Q166.491 1156.28 163.412 1160.89 Q160.357 1165.47 154.546 1165.47 Q148.736 1165.47 145.658 1160.89 Q142.602 1156.28 142.602 1147.56 Q142.602 1138.81 145.658 1134.22 Q148.736 1129.62 154.546 1129.62 Z\" fill=\"#000000\" fill-rule=\"evenodd\" fill-opacity=\"1\" /><path clip-path=\"url(#clip660)\" d=\"M166.491 1123.72 L190.602 1123.72 L190.602 1126.92 L166.491 1126.92 L166.491 1123.72 Z\" fill=\"#000000\" fill-rule=\"evenodd\" fill-opacity=\"1\" /><path clip-path=\"url(#clip660)\" d=\"M207.398 1121.84 Q204.84 1121.84 203.335 1123.59 Q201.849 1125.34 201.849 1128.38 Q201.849 1131.41 203.335 1133.18 Q204.84 1134.93 207.398 1134.93 Q209.956 1134.93 211.441 1133.18 Q212.946 1131.41 212.946 1128.38 Q212.946 1125.34 211.441 1123.59 Q209.956 1121.84 207.398 1121.84 M214.94 1109.93 L214.94 1113.39 Q213.51 1112.72 212.043 1112.36 Q210.595 1112 209.166 1112 Q205.404 1112 203.41 1114.54 Q201.436 1117.08 201.153 1122.21 Q202.263 1120.58 203.937 1119.71 Q205.611 1118.83 207.623 1118.83 Q211.855 1118.83 214.3 1121.41 Q216.764 1123.96 216.764 1128.38 Q216.764 1132.71 214.206 1135.32 Q211.648 1137.94 207.398 1137.94 Q202.526 1137.94 199.95 1134.21 Q197.373 1130.47 197.373 1123.38 Q197.373 1116.72 200.533 1112.77 Q203.693 1108.81 209.015 1108.81 Q210.445 1108.81 211.893 1109.09 Q213.36 1109.37 214.94 1109.93 Z\" fill=\"#000000\" fill-rule=\"evenodd\" fill-opacity=\"1\" /><path clip-path=\"url(#clip660)\" d=\"M116.135 798.056 L123.774 798.056 L123.774 771.691 L115.464 773.357 L115.464 769.098 L123.728 767.431 L128.404 767.431 L128.404 798.056 L136.042 798.056 L136.042 801.991 L116.135 801.991 L116.135 798.056 Z\" fill=\"#000000\" fill-rule=\"evenodd\" fill-opacity=\"1\" /><path clip-path=\"url(#clip660)\" d=\"M155.487 770.51 Q151.876 770.51 150.047 774.075 Q148.241 777.616 148.241 784.746 Q148.241 791.852 150.047 795.417 Q151.876 798.959 155.487 798.959 Q159.121 798.959 160.927 795.417 Q162.755 791.852 162.755 784.746 Q162.755 777.616 160.927 774.075 Q159.121 770.51 155.487 770.51 M155.487 766.806 Q161.297 766.806 164.352 771.413 Q167.431 775.996 167.431 784.746 Q167.431 793.473 164.352 798.079 Q161.297 802.663 155.487 802.663 Q149.677 802.663 146.598 798.079 Q143.542 793.473 143.542 784.746 Q143.542 775.996 146.598 771.413 Q149.677 766.806 155.487 766.806 Z\" fill=\"#000000\" fill-rule=\"evenodd\" fill-opacity=\"1\" /><path clip-path=\"url(#clip660)\" d=\"M167.431 760.908 L191.543 760.908 L191.543 764.105 L167.431 764.105 L167.431 760.908 Z\" fill=\"#000000\" fill-rule=\"evenodd\" fill-opacity=\"1\" /><path clip-path=\"url(#clip660)\" d=\"M199.781 746.501 L214.695 746.501 L214.695 749.698 L203.26 749.698 L203.26 756.582 Q204.088 756.3 204.915 756.168 Q205.743 756.018 206.57 756.018 Q211.272 756.018 214.018 758.594 Q216.764 761.171 216.764 765.572 Q216.764 770.105 213.943 772.625 Q211.122 775.126 205.987 775.126 Q204.219 775.126 202.376 774.825 Q200.552 774.524 198.596 773.923 L198.596 770.105 Q200.288 771.026 202.094 771.478 Q203.899 771.929 205.912 771.929 Q209.166 771.929 211.065 770.218 Q212.965 768.506 212.965 765.572 Q212.965 762.638 211.065 760.926 Q209.166 759.215 205.912 759.215 Q204.388 759.215 202.865 759.554 Q201.36 759.892 199.781 760.607 L199.781 746.501 Z\" fill=\"#000000\" fill-rule=\"evenodd\" fill-opacity=\"1\" /><path clip-path=\"url(#clip660)\" d=\"M114.931 435.244 L122.57 435.244 L122.57 408.879 L114.26 410.545 L114.26 406.286 L122.524 404.619 L127.2 404.619 L127.2 435.244 L134.839 435.244 L134.839 439.179 L114.931 439.179 L114.931 435.244 Z\" fill=\"#000000\" fill-rule=\"evenodd\" fill-opacity=\"1\" /><path clip-path=\"url(#clip660)\" d=\"M154.283 407.698 Q150.672 407.698 148.843 411.263 Q147.038 414.805 147.038 421.934 Q147.038 429.041 148.843 432.605 Q150.672 436.147 154.283 436.147 Q157.917 436.147 159.723 432.605 Q161.552 429.041 161.552 421.934 Q161.552 414.805 159.723 411.263 Q157.917 407.698 154.283 407.698 M154.283 403.994 Q160.093 403.994 163.149 408.601 Q166.227 413.184 166.227 421.934 Q166.227 430.661 163.149 435.267 Q160.093 439.851 154.283 439.851 Q148.473 439.851 145.394 435.267 Q142.339 430.661 142.339 421.934 Q142.339 413.184 145.394 408.601 Q148.473 403.994 154.283 403.994 Z\" fill=\"#000000\" fill-rule=\"evenodd\" fill-opacity=\"1\" /><path clip-path=\"url(#clip660)\" d=\"M166.227 398.096 L190.339 398.096 L190.339 401.293 L166.227 401.293 L166.227 398.096 Z\" fill=\"#000000\" fill-rule=\"evenodd\" fill-opacity=\"1\" /><path clip-path=\"url(#clip660)\" d=\"M208.978 386.999 L199.386 401.989 L208.978 401.989 L208.978 386.999 M207.981 383.689 L212.758 383.689 L212.758 401.989 L216.764 401.989 L216.764 405.149 L212.758 405.149 L212.758 411.769 L208.978 411.769 L208.978 405.149 L196.301 405.149 L196.301 401.481 L207.981 383.689 Z\" fill=\"#000000\" fill-rule=\"evenodd\" fill-opacity=\"1\" /><path clip-path=\"url(#clip660)\" d=\"M115.853 72.4323 L123.492 72.4323 L123.492 46.0667 L115.182 47.7333 L115.182 43.4741 L123.446 41.8074 L128.121 41.8074 L128.121 72.4323 L135.76 72.4323 L135.76 76.3674 L115.853 76.3674 L115.853 72.4323 Z\" fill=\"#000000\" fill-rule=\"evenodd\" fill-opacity=\"1\" /><path clip-path=\"url(#clip660)\" d=\"M155.205 44.8861 Q151.594 44.8861 149.765 48.4509 Q147.959 51.9926 147.959 59.1222 Q147.959 66.2286 149.765 69.7934 Q151.594 73.335 155.205 73.335 Q158.839 73.335 160.644 69.7934 Q162.473 66.2286 162.473 59.1222 Q162.473 51.9926 160.644 48.4509 Q158.839 44.8861 155.205 44.8861 M155.205 41.1824 Q161.015 41.1824 164.07 45.7889 Q167.149 50.3722 167.149 59.1222 Q167.149 67.849 164.07 72.4554 Q161.015 77.0387 155.205 77.0387 Q149.395 77.0387 146.316 72.4554 Q143.26 67.849 143.26 59.1222 Q143.26 50.3722 146.316 45.7889 Q149.395 41.1824 155.205 41.1824 Z\" fill=\"#000000\" fill-rule=\"evenodd\" fill-opacity=\"1\" /><path clip-path=\"url(#clip660)\" d=\"M167.149 35.2838 L191.261 35.2838 L191.261 38.4811 L167.149 38.4811 L167.149 35.2838 Z\" fill=\"#000000\" fill-rule=\"evenodd\" fill-opacity=\"1\" /><path clip-path=\"url(#clip660)\" d=\"M210.971 33.8168 Q213.698 34.3998 215.222 36.243 Q216.764 38.0861 216.764 40.7945 Q216.764 44.951 213.905 47.2267 Q211.046 49.5025 205.78 49.5025 Q204.012 49.5025 202.132 49.1451 Q200.27 48.8066 198.276 48.1107 L198.276 44.4432 Q199.856 45.3648 201.737 45.8349 Q203.617 46.3051 205.667 46.3051 Q209.241 46.3051 211.103 44.8946 Q212.984 43.484 212.984 40.7945 Q212.984 38.3118 211.234 36.9201 Q209.504 35.5095 206.401 35.5095 L203.128 35.5095 L203.128 32.3874 L206.551 32.3874 Q209.354 32.3874 210.84 31.2777 Q212.325 30.1493 212.325 28.0428 Q212.325 25.8799 210.783 24.7326 Q209.26 23.5665 206.401 23.5665 Q204.84 23.5665 203.053 23.9051 Q201.266 24.2436 199.122 24.9583 L199.122 21.5729 Q201.285 20.9711 203.166 20.6702 Q205.066 20.3692 206.739 20.3692 Q211.065 20.3692 213.585 22.344 Q216.106 24.3001 216.106 27.6478 Q216.106 29.98 214.77 31.5975 Q213.435 33.1961 210.971 33.8168 Z\" fill=\"#000000\" fill-rule=\"evenodd\" fill-opacity=\"1\" /><path clip-path=\"url(#clip660)\" d=\"M18.1528 797.297 Q18.7647 797.297 19.28 797.426 L30.7453 799.229 Q31.6149 799.326 31.9369 799.519 Q32.259 799.68 32.259 800.195 Q32.259 801 31.4216 801 Q30.9385 801 30.1656 800.807 Q26.5263 800.26 24.8838 800.26 Q23.7888 800.26 22.9837 800.485 Q22.1463 800.678 21.5666 801 Q20.9869 801.29 20.6004 801.967 Q20.214 802.643 19.9885 803.287 Q19.7631 803.931 19.6665 805.091 Q19.5377 806.25 19.5054 807.248 Q19.4732 808.247 19.4732 809.889 Q19.4732 813.464 19.6021 814.044 Q19.7631 814.656 20.2462 814.978 Q20.6971 815.268 22.0497 815.59 L57.0575 824.35 L58.4423 824.607 Q59.2153 824.607 59.4729 824.124 Q59.7306 823.641 59.8916 822.16 Q60.0526 820.034 60.0526 817.941 Q60.0526 817.876 60.0526 817.748 Q60.0526 817.039 60.0848 816.749 Q60.0848 816.459 60.1492 816.169 Q60.2137 815.88 60.3747 815.815 Q60.5035 815.719 60.7612 815.719 Q61.3731 815.719 61.6951 815.976 Q61.985 816.234 62.0494 816.491 Q62.0816 816.717 62.0816 817.168 Q62.0816 818.07 62.0172 820.002 Q61.9528 821.934 61.9528 822.9 L61.8884 828.375 L61.9528 833.979 Q61.9528 834.849 62.0172 836.685 Q62.0816 838.52 62.0816 839.39 Q62.0816 840.517 61.2764 840.517 Q60.3747 840.517 60.2137 840.098 Q60.0526 839.648 60.0526 837.747 Q60.0526 835.074 59.9238 833.625 Q59.795 832.176 59.3441 831.403 Q58.8932 830.598 58.4423 830.372 Q57.9592 830.147 56.8642 829.889 L21.6632 821.033 Q20.8903 820.775 20.2784 820.775 Q19.9563 820.775 19.8275 820.871 Q19.6987 820.936 19.6021 821.355 Q19.4732 821.773 19.4732 822.643 L19.4732 825.219 Q19.4732 827.86 19.6021 829.503 Q19.6987 831.113 20.1818 832.659 Q20.6649 834.173 21.3412 835.074 Q22.0175 835.944 23.4024 836.91 Q24.7872 837.876 26.4619 838.585 Q28.1366 839.261 30.8741 840.227 Q31.7759 840.549 32.0335 840.743 Q32.259 840.904 32.259 841.354 Q32.259 841.676 32.0657 841.934 Q31.8403 842.16 31.5504 842.16 Q30.4876 841.838 30.3588 841.773 L18.7325 837.812 Q17.7985 837.49 17.6375 837.2 Q17.4443 836.878 17.4443 835.686 L17.4443 799.1 Q17.4443 798.521 17.4443 798.327 Q17.4443 798.134 17.5087 797.812 Q17.5731 797.49 17.7341 797.393 Q17.8952 797.297 18.1528 797.297 Z\" fill=\"#000000\" fill-rule=\"evenodd\" fill-opacity=\"1\" /><path clip-path=\"url(#clip660)\" d=\"M68.0889 773.699 Q71.3353 773.699 74.514 775.345 Q77.6702 776.968 79.654 779.583 Q81.6379 782.176 81.6379 784.836 Q81.6379 787.429 79.654 789.075 Q77.6476 790.698 74.3787 790.698 Q73.229 790.698 72.4174 790.562 Q71.6058 790.427 69.7121 789.954 L54.6526 786.166 Q51.8346 785.513 51.8121 785.513 Q51.5415 785.513 51.4063 785.625 Q51.2485 785.715 51.1358 786.256 Q51.023 786.798 51.023 787.835 Q51.023 788.263 51.0005 788.466 Q50.9779 788.646 50.8652 788.804 Q50.73 788.939 50.4594 788.939 Q50.0762 788.939 49.8733 788.781 Q49.6478 788.601 49.6028 788.466 Q49.5577 788.331 49.5351 788.06 Q49.5126 787.677 49.3999 786.392 Q49.2646 785.107 49.1744 784.002 Q49.0842 782.897 49.0842 782.424 Q49.0842 782.153 49.2195 782.018 Q49.3322 781.86 49.4675 781.86 L49.5802 781.838 L63.4899 785.242 Q60.717 782.559 60.717 779.831 Q60.717 777.104 62.8136 775.413 Q64.9102 773.699 68.0889 773.699 M66.0599 777.036 Q63.9183 777.036 62.8361 777.848 Q61.7315 778.637 61.7315 779.944 Q61.7315 781.049 62.5656 782.492 Q63.3997 783.934 65.4287 785.467 Q65.812 785.761 66.0374 785.873 Q66.2628 785.963 67.0293 786.166 L71.2902 787.181 Q74.1984 787.925 75.9568 787.925 Q78.3465 787.925 79.4737 787.046 Q80.6009 786.166 80.6009 784.836 Q80.6009 783.438 79.361 781.973 Q78.121 780.508 75.8666 779.381 Q74.3787 778.682 71.1775 777.87 Q67.9537 777.036 66.0599 777.036 Z\" fill=\"#000000\" fill-rule=\"evenodd\" fill-opacity=\"1\" /><path clip-path=\"url(#clip660)\" d=\"M75.7765 753.531 Q75.9794 753.351 76.1822 753.351 Q76.3851 753.351 76.9713 753.802 Q77.5574 754.23 78.3465 755.154 Q79.1355 756.078 79.8795 757.273 Q80.6234 758.468 81.1194 760.227 Q81.6379 761.985 81.6379 763.834 Q81.6379 767.148 79.2708 769.132 Q76.9037 771.093 73.2741 771.093 Q70.952 771.093 68.9005 770.326 Q66.8264 769.56 65.3611 768.32 Q63.8957 767.057 62.8361 765.479 Q61.754 763.879 61.2355 762.21 Q60.717 760.542 60.717 758.987 Q60.717 756.71 61.8667 755.38 Q63.0165 754.05 64.6397 754.05 Q65.0229 754.05 65.4963 754.162 Q65.9698 754.252 66.7137 754.568 Q67.4577 754.861 68.2016 755.628 Q68.923 756.394 69.3965 757.521 Q70.456 760.024 70.456 764.578 L70.456 767.035 Q73.3642 767.756 75.2579 767.756 Q76.0019 767.756 76.7684 767.621 Q77.5124 767.486 78.4592 767.125 Q79.4061 766.742 80.0147 765.885 Q80.6009 765.006 80.6009 763.743 Q80.6009 763.338 80.5783 762.909 Q80.5558 762.458 80.3078 761.331 Q80.0598 760.182 79.6315 759.167 Q79.2032 758.153 78.2789 756.868 Q77.332 755.56 76.047 754.523 Q75.5736 754.162 75.5736 753.914 Q75.5736 753.711 75.7765 753.531 M64.6397 755.583 Q63.3997 755.583 62.5656 756.507 Q61.7315 757.409 61.7315 758.987 Q61.7315 759.483 61.8442 760.091 Q61.9569 760.7 62.4303 761.715 Q62.9038 762.706 63.6928 763.586 Q64.4593 764.465 65.9698 765.344 Q67.4577 766.223 69.4416 766.742 L69.4416 764.848 Q69.4416 764.194 69.4416 763.721 Q69.419 763.248 69.3288 762.21 Q69.2387 761.151 69.0809 760.384 Q68.9005 759.618 68.5398 758.649 Q68.1791 757.679 67.7057 757.07 Q67.2097 756.439 66.4207 756.011 Q65.6316 755.583 64.6397 755.583 Z\" fill=\"#000000\" fill-rule=\"evenodd\" fill-opacity=\"1\" /><path clip-path=\"url(#clip660)\" d=\"M74.514 725.691 Q74.6943 725.691 75.3932 725.894 Q76.0921 726.097 77.1742 726.593 Q78.2563 727.066 79.2482 727.72 Q80.2176 728.374 80.9391 729.456 Q81.6379 730.516 81.6379 731.733 Q81.6379 733.356 80.5558 734.438 Q79.4737 735.52 77.8505 735.52 Q76.9487 735.52 75.7088 735.047 Q67.7057 732.049 64.9553 732.049 Q61.7315 732.049 61.7315 734.551 Q61.7315 735.791 62.2049 736.963 Q62.6558 738.113 63.287 738.902 Q63.9183 739.691 64.7975 740.412 Q65.6542 741.111 66.2403 741.472 Q66.8039 741.81 67.3675 742.081 L69.667 742.667 Q70.2982 742.802 72.7555 743.456 L76.9262 744.47 Q80.0373 745.192 80.3304 745.35 Q80.9616 745.575 81.2998 746.071 Q81.6379 746.567 81.6379 747.063 Q81.6379 747.627 81.2998 748.01 Q80.9616 748.393 80.3755 748.393 Q80.2853 748.393 79.9471 748.325 Q79.609 748.258 79.1355 748.145 Q78.6621 748.032 78.3916 747.987 L67.7282 745.304 Q65.7894 744.808 65.1807 744.696 Q64.5495 744.561 63.8506 744.561 Q61.7315 744.561 61.7315 746.003 Q61.7315 747.176 63.1292 747.942 Q64.5269 748.709 67.2322 749.362 Q67.9762 749.565 68.134 749.701 Q68.2918 749.813 68.2918 750.151 Q68.2693 750.715 67.8184 750.715 Q67.7057 750.715 66.9617 750.535 Q66.2178 750.354 65.1582 750.016 Q64.0761 749.655 63.3547 749.317 Q62.8136 749.024 62.5656 748.866 Q62.2951 748.686 61.7766 748.258 Q61.2355 747.807 60.9875 747.221 Q60.717 746.612 60.717 745.868 Q60.717 744.2 61.7991 742.982 Q62.8587 741.765 64.7298 741.607 Q60.717 738.609 60.717 734.416 Q60.717 731.936 62.0246 730.516 Q63.3321 729.095 65.6542 729.095 Q66.1952 729.095 66.8941 729.208 Q67.5704 729.298 68.4271 729.524 Q69.2838 729.726 69.9375 729.907 Q70.5913 730.087 71.6509 730.448 Q72.6879 730.809 73.1388 730.966 Q73.5897 731.124 74.6492 731.507 Q75.6863 731.868 75.799 731.913 Q77.8956 732.747 79.0904 732.747 Q79.8795 732.747 80.2402 732.499 Q80.6009 732.229 80.6009 731.643 Q80.6009 730.065 79.0454 728.892 Q77.4673 727.698 74.8972 726.931 Q74.3336 726.751 74.1984 726.66 Q74.0631 726.548 74.0631 726.232 Q74.0631 725.691 74.514 725.691 Z\" fill=\"#000000\" fill-rule=\"evenodd\" fill-opacity=\"1\" /><path clip-path=\"url(#clip660)\" d=\"M49.5802 700.206 L76.2724 706.856 Q77.4673 707.127 78.4817 707.127 Q80.6009 707.127 80.6009 705.752 Q80.6009 705.075 80.1726 704.534 Q79.7442 703.993 78.8425 703.565 Q77.9407 703.137 77.1066 702.866 Q76.2499 702.595 74.8972 702.235 Q74.3562 702.122 74.2209 702.032 Q74.0631 701.919 74.0631 701.604 Q74.0631 701.04 74.514 701.04 Q77.4222 701.649 79.0904 702.438 Q81.6379 703.7 81.6379 705.842 Q81.6379 707.465 80.646 708.615 Q79.654 709.765 78.1661 710.035 Q81.6379 712.988 81.6379 716.054 Q81.6379 718.76 79.5864 720.473 Q77.5124 722.186 74.2435 722.186 Q70.952 722.186 67.7958 720.563 Q64.6397 718.917 62.6783 716.325 Q60.717 713.732 60.717 711.072 Q60.717 708.254 63.6703 706.811 L52.7138 704.038 L51.8121 703.903 Q51.5415 703.903 51.4063 704.016 Q51.2485 704.106 51.1358 704.647 Q51.023 705.166 51.023 706.203 Q51.023 706.631 51.0005 706.834 Q50.9779 707.014 50.8652 707.172 Q50.73 707.33 50.4594 707.33 Q49.6704 707.33 49.5802 706.676 Q49.0842 702.347 49.0842 700.814 Q49.0842 700.544 49.2195 700.386 Q49.3322 700.228 49.4675 700.228 L49.5802 700.206 M65.7894 707.375 Q65.5865 707.375 65.0229 707.533 Q64.4593 707.69 63.6703 708.051 Q62.8812 708.412 62.3176 709.201 Q61.7315 709.967 61.7315 711.004 Q61.7315 712.402 62.9263 713.868 Q64.1212 715.31 66.1501 716.37 Q67.7733 717.182 71.1775 718.061 Q74.5816 718.917 76.2724 718.917 Q77.3095 718.917 78.2338 718.692 Q79.1355 718.444 79.8795 717.745 Q80.6009 717.046 80.6009 715.964 Q80.6009 713.326 77.332 710.734 Q76.7684 710.238 76.543 710.125 Q76.295 709.99 75.6186 709.81 L66.5785 707.51 Q65.9021 707.375 65.7894 707.375 Z\" fill=\"#000000\" fill-rule=\"evenodd\" fill-opacity=\"1\" /><path clip-path=\"url(#clip660)\" d=\"M75.7765 680.682 Q75.9794 680.501 76.1822 680.501 Q76.3851 680.501 76.9713 680.952 Q77.5574 681.381 78.3465 682.305 Q79.1355 683.229 79.8795 684.424 Q80.6234 685.619 81.1194 687.377 Q81.6379 689.136 81.6379 690.984 Q81.6379 694.298 79.2708 696.282 Q76.9037 698.243 73.2741 698.243 Q70.952 698.243 68.9005 697.477 Q66.8264 696.711 65.3611 695.471 Q63.8957 694.208 62.8361 692.63 Q61.754 691.029 61.2355 689.361 Q60.717 687.693 60.717 686.137 Q60.717 683.86 61.8667 682.53 Q63.0165 681.2 64.6397 681.2 Q65.0229 681.2 65.4963 681.313 Q65.9698 681.403 66.7137 681.719 Q67.4577 682.012 68.2016 682.778 Q68.923 683.545 69.3965 684.672 Q70.456 687.174 70.456 691.728 L70.456 694.186 Q73.3642 694.907 75.2579 694.907 Q76.0019 694.907 76.7684 694.772 Q77.5124 694.636 78.4592 694.276 Q79.4061 693.892 80.0147 693.036 Q80.6009 692.157 80.6009 690.894 Q80.6009 690.488 80.5783 690.06 Q80.5558 689.609 80.3078 688.482 Q80.0598 687.332 79.6315 686.318 Q79.2032 685.303 78.2789 684.018 Q77.332 682.711 76.047 681.674 Q75.5736 681.313 75.5736 681.065 Q75.5736 680.862 75.7765 680.682 M64.6397 682.733 Q63.3997 682.733 62.5656 683.657 Q61.7315 684.559 61.7315 686.137 Q61.7315 686.633 61.8442 687.242 Q61.9569 687.851 62.4303 688.865 Q62.9038 689.857 63.6928 690.736 Q64.4593 691.616 65.9698 692.495 Q67.4577 693.374 69.4416 693.892 L69.4416 691.999 Q69.4416 691.345 69.4416 690.872 Q69.419 690.398 69.3288 689.361 Q69.2387 688.302 69.0809 687.535 Q68.9005 686.769 68.5398 685.799 Q68.1791 684.83 67.7057 684.221 Q67.2097 683.59 66.4207 683.161 Q65.6316 682.733 64.6397 682.733 Z\" fill=\"#000000\" fill-rule=\"evenodd\" fill-opacity=\"1\" /><path clip-path=\"url(#clip660)\" d=\"M63.7154 659.064 Q64.9102 659.064 65.6767 659.853 Q66.4432 660.619 66.4432 661.611 Q66.4432 662.468 65.9472 662.919 Q65.4513 663.37 64.82 663.37 Q63.9183 663.37 63.1743 662.671 Q62.4303 661.972 62.2725 660.958 Q61.7315 661.702 61.7315 662.896 Q61.7315 664.858 63.2419 666.594 Q63.9408 667.36 65.2258 668.194 Q66.4883 669.028 67.0293 669.186 L73.0486 670.652 Q73.7249 670.787 76.9713 671.621 Q80.1951 672.433 80.3304 672.5 Q80.9616 672.726 81.2998 673.222 Q81.6379 673.718 81.6379 674.214 Q81.6379 674.777 81.2998 675.16 Q80.9616 675.544 80.3755 675.544 Q80.2853 675.544 79.9471 675.476 Q79.609 675.408 79.1355 675.296 Q78.6621 675.183 78.3916 675.138 L67.7282 672.455 Q65.7894 671.959 65.1807 671.846 Q64.5495 671.711 63.8506 671.711 Q62.6332 671.711 62.1824 672.094 Q61.7315 672.478 61.7315 673.154 Q61.7315 674.326 63.1292 675.093 Q64.5269 675.859 67.2322 676.513 Q67.9762 676.716 68.134 676.851 Q68.2918 676.964 68.2918 677.302 Q68.2693 677.866 67.8184 677.866 Q67.7057 677.866 66.9843 677.685 Q66.2403 677.505 65.1582 677.167 Q64.0535 676.806 63.3547 676.423 Q62.8812 676.197 62.5656 675.995 Q62.25 675.792 61.754 675.386 Q61.2581 674.98 60.9875 674.371 Q60.717 673.763 60.717 673.019 Q60.717 671.396 61.7089 670.246 Q62.7009 669.073 64.2564 668.803 Q63.4448 668.239 62.746 667.54 Q62.0246 666.842 61.3708 665.557 Q60.717 664.272 60.717 662.896 Q60.717 661.183 61.5962 660.123 Q62.4529 659.064 63.7154 659.064 Z\" fill=\"#000000\" fill-rule=\"evenodd\" fill-opacity=\"1\" /><path clip-path=\"url(#clip660)\" d=\"M64.6848 639.742 Q65.9472 639.742 66.6235 640.373 Q67.2773 641.004 67.2773 641.861 Q67.2773 642.56 66.8715 642.943 Q66.4657 643.304 65.9247 643.304 Q65.1356 643.304 64.5044 642.673 Q63.8732 642.019 63.8506 641.072 Q63.0165 641.388 62.5205 642.222 Q62.002 643.056 61.8667 643.8 Q61.7315 644.521 61.7315 645.243 Q61.7315 646.663 62.1824 647.745 Q62.6332 648.827 63.3321 649.368 Q64.0084 649.909 64.6622 650.157 Q65.316 650.405 65.8796 650.405 Q66.3756 650.405 66.7814 650.293 Q67.1646 650.157 67.4577 649.842 Q67.7282 649.526 67.9086 649.301 Q68.0889 649.053 68.2467 648.512 Q68.4045 647.971 68.4722 647.745 Q68.5173 647.52 68.6525 646.888 Q68.923 645.581 69.0809 644.995 Q69.2161 644.409 69.5994 643.642 Q69.9826 642.853 70.5913 642.267 Q72.0116 640.847 73.9729 640.847 Q74.6943 640.847 75.5736 641.095 Q76.4528 641.32 77.5574 641.974 Q78.6621 642.628 79.5413 643.619 Q80.4205 644.611 81.0292 646.325 Q81.6379 648.016 81.6379 650.135 Q81.6379 653.088 80.398 654.914 Q79.1355 656.74 77.1516 656.74 Q75.7088 656.74 74.9198 655.951 Q74.1082 655.162 74.1082 654.148 Q74.1082 653.381 74.5365 652.908 Q74.9423 652.434 75.7088 652.434 Q76.7459 652.434 77.5349 653.268 Q78.3239 654.103 78.1661 655.342 Q80.6009 654.283 80.6009 650.09 Q80.6009 648.512 80.1951 647.294 Q79.7668 646.054 79.1806 645.378 Q78.5719 644.679 77.828 644.228 Q77.084 643.777 76.5204 643.642 Q75.9568 643.484 75.5285 643.484 Q74.7845 643.484 74.2209 643.777 Q73.6573 644.07 73.3417 644.476 Q73.0035 644.859 72.733 645.603 Q72.4399 646.325 72.3272 646.843 Q72.2145 647.362 72.0341 648.286 Q71.944 648.714 71.8989 648.985 Q71.8312 649.256 71.6509 649.819 Q71.448 650.36 71.2451 650.743 Q71.0422 651.104 70.6815 651.578 Q70.3208 652.051 69.8924 652.344 Q69.4641 652.637 68.8329 652.84 Q68.2016 653.043 67.4577 653.043 Q66.7814 653.043 65.9698 652.84 Q65.1582 652.615 64.2113 652.051 Q63.2645 651.465 62.498 650.631 Q61.7315 649.797 61.2355 648.399 Q60.717 646.979 60.717 645.243 Q60.717 642.718 61.8893 641.23 Q63.039 639.742 64.6848 639.742 Z\" fill=\"#000000\" fill-rule=\"evenodd\" fill-opacity=\"1\" /><polyline clip-path=\"url(#clip663)\" style=\"stroke:#000000; stroke-linecap:round; stroke-linejoin:round; stroke-width:4; stroke-opacity:1; fill:none\" stroke-dasharray=\"16, 8, 2, 8\" points=\"312.198,514.302 352.629,254.097 393.06,401.161 433.491,733.964 473.922,1007.82 514.353,693.827 554.784,406.121 595.215,637.864 635.647,120.246 676.078,432.636 716.509,855.512 756.94,649.562 797.371,550.704 837.802,613.035 878.233,432.227 918.664,718.821 959.095,651.606 999.527,243.108 1039.96,1104.41 1080.39,798.845 1120.82,576.911 1161.25,1150.36 1201.68,735.275 1242.11,696.293 1282.54,639.281 1322.98,863.918 1363.41,781.574 1403.84,865.232 1444.27,1127.1 1484.7,86.1857 1525.13,904.101 1565.56,1193.6 1605.99,875.142 1646.42,1034.98 1686.86,841.106 1727.29,846.622 1767.72,952.778 1808.15,809.62 1848.58,1269.38 1889.01,931.969 1929.44,998.894 1969.87,926.539 2010.3,725.937 2050.74,1384.24 2091.17,625.872 2131.6,1273.3 2172.03,1036.89 2212.46,1128.22 2252.89,1025.68 2293.32,1077.41 \"/>\n",
       "<path clip-path=\"url(#clip663)\" d=\"M300.198 502.302 L300.198 526.302 L324.198 526.302 L324.198 502.302 L300.198 502.302 Z\" fill=\"#000000\" fill-rule=\"evenodd\" fill-opacity=\"1\" stroke=\"none\"/>\n",
       "<path clip-path=\"url(#clip663)\" d=\"M340.629 242.097 L340.629 266.097 L364.629 266.097 L364.629 242.097 L340.629 242.097 Z\" fill=\"#000000\" fill-rule=\"evenodd\" fill-opacity=\"1\" stroke=\"none\"/>\n",
       "<path clip-path=\"url(#clip663)\" d=\"M381.06 389.161 L381.06 413.161 L405.06 413.161 L405.06 389.161 L381.06 389.161 Z\" fill=\"#000000\" fill-rule=\"evenodd\" fill-opacity=\"1\" stroke=\"none\"/>\n",
       "<path clip-path=\"url(#clip663)\" d=\"M421.491 721.964 L421.491 745.964 L445.491 745.964 L445.491 721.964 L421.491 721.964 Z\" fill=\"#000000\" fill-rule=\"evenodd\" fill-opacity=\"1\" stroke=\"none\"/>\n",
       "<path clip-path=\"url(#clip663)\" d=\"M461.922 995.819 L461.922 1019.82 L485.922 1019.82 L485.922 995.819 L461.922 995.819 Z\" fill=\"#000000\" fill-rule=\"evenodd\" fill-opacity=\"1\" stroke=\"none\"/>\n",
       "<path clip-path=\"url(#clip663)\" d=\"M502.353 681.827 L502.353 705.827 L526.353 705.827 L526.353 681.827 L502.353 681.827 Z\" fill=\"#000000\" fill-rule=\"evenodd\" fill-opacity=\"1\" stroke=\"none\"/>\n",
       "<path clip-path=\"url(#clip663)\" d=\"M542.784 394.121 L542.784 418.121 L566.784 418.121 L566.784 394.121 L542.784 394.121 Z\" fill=\"#000000\" fill-rule=\"evenodd\" fill-opacity=\"1\" stroke=\"none\"/>\n",
       "<path clip-path=\"url(#clip663)\" d=\"M583.215 625.864 L583.215 649.864 L607.215 649.864 L607.215 625.864 L583.215 625.864 Z\" fill=\"#000000\" fill-rule=\"evenodd\" fill-opacity=\"1\" stroke=\"none\"/>\n",
       "<path clip-path=\"url(#clip663)\" d=\"M623.647 108.246 L623.647 132.246 L647.647 132.246 L647.647 108.246 L623.647 108.246 Z\" fill=\"#000000\" fill-rule=\"evenodd\" fill-opacity=\"1\" stroke=\"none\"/>\n",
       "<path clip-path=\"url(#clip663)\" d=\"M664.078 420.636 L664.078 444.636 L688.078 444.636 L688.078 420.636 L664.078 420.636 Z\" fill=\"#000000\" fill-rule=\"evenodd\" fill-opacity=\"1\" stroke=\"none\"/>\n",
       "<path clip-path=\"url(#clip663)\" d=\"M704.509 843.512 L704.509 867.512 L728.509 867.512 L728.509 843.512 L704.509 843.512 Z\" fill=\"#000000\" fill-rule=\"evenodd\" fill-opacity=\"1\" stroke=\"none\"/>\n",
       "<path clip-path=\"url(#clip663)\" d=\"M744.94 637.562 L744.94 661.562 L768.94 661.562 L768.94 637.562 L744.94 637.562 Z\" fill=\"#000000\" fill-rule=\"evenodd\" fill-opacity=\"1\" stroke=\"none\"/>\n",
       "<path clip-path=\"url(#clip663)\" d=\"M785.371 538.704 L785.371 562.704 L809.371 562.704 L809.371 538.704 L785.371 538.704 Z\" fill=\"#000000\" fill-rule=\"evenodd\" fill-opacity=\"1\" stroke=\"none\"/>\n",
       "<path clip-path=\"url(#clip663)\" d=\"M825.802 601.035 L825.802 625.035 L849.802 625.035 L849.802 601.035 L825.802 601.035 Z\" fill=\"#000000\" fill-rule=\"evenodd\" fill-opacity=\"1\" stroke=\"none\"/>\n",
       "<path clip-path=\"url(#clip663)\" d=\"M866.233 420.227 L866.233 444.227 L890.233 444.227 L890.233 420.227 L866.233 420.227 Z\" fill=\"#000000\" fill-rule=\"evenodd\" fill-opacity=\"1\" stroke=\"none\"/>\n",
       "<path clip-path=\"url(#clip663)\" d=\"M906.664 706.821 L906.664 730.821 L930.664 730.821 L930.664 706.821 L906.664 706.821 Z\" fill=\"#000000\" fill-rule=\"evenodd\" fill-opacity=\"1\" stroke=\"none\"/>\n",
       "<path clip-path=\"url(#clip663)\" d=\"M947.095 639.606 L947.095 663.606 L971.095 663.606 L971.095 639.606 L947.095 639.606 Z\" fill=\"#000000\" fill-rule=\"evenodd\" fill-opacity=\"1\" stroke=\"none\"/>\n",
       "<path clip-path=\"url(#clip663)\" d=\"M987.527 231.108 L987.527 255.108 L1011.53 255.108 L1011.53 231.108 L987.527 231.108 Z\" fill=\"#000000\" fill-rule=\"evenodd\" fill-opacity=\"1\" stroke=\"none\"/>\n",
       "<path clip-path=\"url(#clip663)\" d=\"M1027.96 1092.41 L1027.96 1116.41 L1051.96 1116.41 L1051.96 1092.41 L1027.96 1092.41 Z\" fill=\"#000000\" fill-rule=\"evenodd\" fill-opacity=\"1\" stroke=\"none\"/>\n",
       "<path clip-path=\"url(#clip663)\" d=\"M1068.39 786.845 L1068.39 810.845 L1092.39 810.845 L1092.39 786.845 L1068.39 786.845 Z\" fill=\"#000000\" fill-rule=\"evenodd\" fill-opacity=\"1\" stroke=\"none\"/>\n",
       "<path clip-path=\"url(#clip663)\" d=\"M1108.82 564.911 L1108.82 588.911 L1132.82 588.911 L1132.82 564.911 L1108.82 564.911 Z\" fill=\"#000000\" fill-rule=\"evenodd\" fill-opacity=\"1\" stroke=\"none\"/>\n",
       "<path clip-path=\"url(#clip663)\" d=\"M1149.25 1138.36 L1149.25 1162.36 L1173.25 1162.36 L1173.25 1138.36 L1149.25 1138.36 Z\" fill=\"#000000\" fill-rule=\"evenodd\" fill-opacity=\"1\" stroke=\"none\"/>\n",
       "<path clip-path=\"url(#clip663)\" d=\"M1189.68 723.275 L1189.68 747.275 L1213.68 747.275 L1213.68 723.275 L1189.68 723.275 Z\" fill=\"#000000\" fill-rule=\"evenodd\" fill-opacity=\"1\" stroke=\"none\"/>\n",
       "<path clip-path=\"url(#clip663)\" d=\"M1230.11 684.293 L1230.11 708.293 L1254.11 708.293 L1254.11 684.293 L1230.11 684.293 Z\" fill=\"#000000\" fill-rule=\"evenodd\" fill-opacity=\"1\" stroke=\"none\"/>\n",
       "<path clip-path=\"url(#clip663)\" d=\"M1270.54 627.281 L1270.54 651.281 L1294.54 651.281 L1294.54 627.281 L1270.54 627.281 Z\" fill=\"#000000\" fill-rule=\"evenodd\" fill-opacity=\"1\" stroke=\"none\"/>\n",
       "<path clip-path=\"url(#clip663)\" d=\"M1310.98 851.918 L1310.98 875.918 L1334.98 875.918 L1334.98 851.918 L1310.98 851.918 Z\" fill=\"#000000\" fill-rule=\"evenodd\" fill-opacity=\"1\" stroke=\"none\"/>\n",
       "<path clip-path=\"url(#clip663)\" d=\"M1351.41 769.574 L1351.41 793.574 L1375.41 793.574 L1375.41 769.574 L1351.41 769.574 Z\" fill=\"#000000\" fill-rule=\"evenodd\" fill-opacity=\"1\" stroke=\"none\"/>\n",
       "<path clip-path=\"url(#clip663)\" d=\"M1391.84 853.232 L1391.84 877.232 L1415.84 877.232 L1415.84 853.232 L1391.84 853.232 Z\" fill=\"#000000\" fill-rule=\"evenodd\" fill-opacity=\"1\" stroke=\"none\"/>\n",
       "<path clip-path=\"url(#clip663)\" d=\"M1432.27 1115.1 L1432.27 1139.1 L1456.27 1139.1 L1456.27 1115.1 L1432.27 1115.1 Z\" fill=\"#000000\" fill-rule=\"evenodd\" fill-opacity=\"1\" stroke=\"none\"/>\n",
       "<path clip-path=\"url(#clip663)\" d=\"M1472.7 74.1857 L1472.7 98.1857 L1496.7 98.1857 L1496.7 74.1857 L1472.7 74.1857 Z\" fill=\"#000000\" fill-rule=\"evenodd\" fill-opacity=\"1\" stroke=\"none\"/>\n",
       "<path clip-path=\"url(#clip663)\" d=\"M1513.13 892.101 L1513.13 916.101 L1537.13 916.101 L1537.13 892.101 L1513.13 892.101 Z\" fill=\"#000000\" fill-rule=\"evenodd\" fill-opacity=\"1\" stroke=\"none\"/>\n",
       "<path clip-path=\"url(#clip663)\" d=\"M1553.56 1181.6 L1553.56 1205.6 L1577.56 1205.6 L1577.56 1181.6 L1553.56 1181.6 Z\" fill=\"#000000\" fill-rule=\"evenodd\" fill-opacity=\"1\" stroke=\"none\"/>\n",
       "<path clip-path=\"url(#clip663)\" d=\"M1593.99 863.142 L1593.99 887.142 L1617.99 887.142 L1617.99 863.142 L1593.99 863.142 Z\" fill=\"#000000\" fill-rule=\"evenodd\" fill-opacity=\"1\" stroke=\"none\"/>\n",
       "<path clip-path=\"url(#clip663)\" d=\"M1634.42 1022.98 L1634.42 1046.98 L1658.42 1046.98 L1658.42 1022.98 L1634.42 1022.98 Z\" fill=\"#000000\" fill-rule=\"evenodd\" fill-opacity=\"1\" stroke=\"none\"/>\n",
       "<path clip-path=\"url(#clip663)\" d=\"M1674.86 829.106 L1674.86 853.106 L1698.86 853.106 L1698.86 829.106 L1674.86 829.106 Z\" fill=\"#000000\" fill-rule=\"evenodd\" fill-opacity=\"1\" stroke=\"none\"/>\n",
       "<path clip-path=\"url(#clip663)\" d=\"M1715.29 834.622 L1715.29 858.622 L1739.29 858.622 L1739.29 834.622 L1715.29 834.622 Z\" fill=\"#000000\" fill-rule=\"evenodd\" fill-opacity=\"1\" stroke=\"none\"/>\n",
       "<path clip-path=\"url(#clip663)\" d=\"M1755.72 940.778 L1755.72 964.778 L1779.72 964.778 L1779.72 940.778 L1755.72 940.778 Z\" fill=\"#000000\" fill-rule=\"evenodd\" fill-opacity=\"1\" stroke=\"none\"/>\n",
       "<path clip-path=\"url(#clip663)\" d=\"M1796.15 797.62 L1796.15 821.62 L1820.15 821.62 L1820.15 797.62 L1796.15 797.62 Z\" fill=\"#000000\" fill-rule=\"evenodd\" fill-opacity=\"1\" stroke=\"none\"/>\n",
       "<path clip-path=\"url(#clip663)\" d=\"M1836.58 1257.38 L1836.58 1281.38 L1860.58 1281.38 L1860.58 1257.38 L1836.58 1257.38 Z\" fill=\"#000000\" fill-rule=\"evenodd\" fill-opacity=\"1\" stroke=\"none\"/>\n",
       "<path clip-path=\"url(#clip663)\" d=\"M1877.01 919.969 L1877.01 943.969 L1901.01 943.969 L1901.01 919.969 L1877.01 919.969 Z\" fill=\"#000000\" fill-rule=\"evenodd\" fill-opacity=\"1\" stroke=\"none\"/>\n",
       "<path clip-path=\"url(#clip663)\" d=\"M1917.44 986.894 L1917.44 1010.89 L1941.44 1010.89 L1941.44 986.894 L1917.44 986.894 Z\" fill=\"#000000\" fill-rule=\"evenodd\" fill-opacity=\"1\" stroke=\"none\"/>\n",
       "<path clip-path=\"url(#clip663)\" d=\"M1957.87 914.539 L1957.87 938.539 L1981.87 938.539 L1981.87 914.539 L1957.87 914.539 Z\" fill=\"#000000\" fill-rule=\"evenodd\" fill-opacity=\"1\" stroke=\"none\"/>\n",
       "<path clip-path=\"url(#clip663)\" d=\"M1998.3 713.937 L1998.3 737.937 L2022.3 737.937 L2022.3 713.937 L1998.3 713.937 Z\" fill=\"#000000\" fill-rule=\"evenodd\" fill-opacity=\"1\" stroke=\"none\"/>\n",
       "<path clip-path=\"url(#clip663)\" d=\"M2038.74 1372.24 L2038.74 1396.24 L2062.74 1396.24 L2062.74 1372.24 L2038.74 1372.24 Z\" fill=\"#000000\" fill-rule=\"evenodd\" fill-opacity=\"1\" stroke=\"none\"/>\n",
       "<path clip-path=\"url(#clip663)\" d=\"M2079.17 613.872 L2079.17 637.872 L2103.17 637.872 L2103.17 613.872 L2079.17 613.872 Z\" fill=\"#000000\" fill-rule=\"evenodd\" fill-opacity=\"1\" stroke=\"none\"/>\n",
       "<path clip-path=\"url(#clip663)\" d=\"M2119.6 1261.3 L2119.6 1285.3 L2143.6 1285.3 L2143.6 1261.3 L2119.6 1261.3 Z\" fill=\"#000000\" fill-rule=\"evenodd\" fill-opacity=\"1\" stroke=\"none\"/>\n",
       "<path clip-path=\"url(#clip663)\" d=\"M2160.03 1024.89 L2160.03 1048.89 L2184.03 1048.89 L2184.03 1024.89 L2160.03 1024.89 Z\" fill=\"#000000\" fill-rule=\"evenodd\" fill-opacity=\"1\" stroke=\"none\"/>\n",
       "<path clip-path=\"url(#clip663)\" d=\"M2200.46 1116.22 L2200.46 1140.22 L2224.46 1140.22 L2224.46 1116.22 L2200.46 1116.22 Z\" fill=\"#000000\" fill-rule=\"evenodd\" fill-opacity=\"1\" stroke=\"none\"/>\n",
       "<path clip-path=\"url(#clip663)\" d=\"M2240.89 1013.68 L2240.89 1037.68 L2264.89 1037.68 L2264.89 1013.68 L2240.89 1013.68 Z\" fill=\"#000000\" fill-rule=\"evenodd\" fill-opacity=\"1\" stroke=\"none\"/>\n",
       "<path clip-path=\"url(#clip663)\" d=\"M2281.32 1065.41 L2281.32 1089.41 L2305.32 1089.41 L2305.32 1065.41 L2281.32 1065.41 Z\" fill=\"#000000\" fill-rule=\"evenodd\" fill-opacity=\"1\" stroke=\"none\"/>\n",
       "</svg>\n"
      ]
     },
     "metadata": {},
     "output_type": "display_data"
    }
   ],
   "source": [
    "p4 = plot(1:nScenMax,optGapTraj_s,\n",
    "    yscale=:log10,\n",
    "    xlabel=\"# scenarios\", \n",
    "    ylabel=L\"T_{benders}\",\n",
    "    marker=:square, \n",
    "    markersize=3,\n",
    "    linecolor = :black,\n",
    "    markercolor = :black,\n",
    "    linestyle = :dashdot,\n",
    "    label=\"\",\n",
    "    gridlinewidth=2,\n",
    "    dpi=600)\n",
    "\n",
    "display(p4)"
   ]
  },
  {
   "cell_type": "markdown",
   "id": "41cb96ae",
   "metadata": {},
   "source": [
    "Creating table to show the results"
   ]
  },
  {
   "cell_type": "code",
   "execution_count": 21,
   "id": "3ce63e67",
   "metadata": {},
   "outputs": [],
   "source": [
    "# Scenarios\n",
    "table_iter = Any[]\n",
    "table_solTime_M = Any[]\n",
    "table_solTime_D = Any[]\n",
    "table_solMax = Any[]\n",
    "table_of_M = Any[]\n",
    "table_of_D = Any[]\n",
    "table_perChange = Any[]\n",
    "\n",
    "for tt in [5 10 15 20 25 30 40 50] \n",
    "    push!(table_iter, tt)\n",
    "    push!(table_solTime_M, solTimeTraj_s[1,tt])\n",
    "    push!(table_solTime_D, solTimeTraj_s[2,tt])\n",
    "    push!(table_solMax, solTimeMaxTraj_s[tt])\n",
    "    push!(table_of_M, solObjTraj_s[1,tt])\n",
    "    push!(table_of_D, solObjTraj_s[2,tt])\n",
    "    push!(table_perChange, 100*(solObjTraj_s[2,tt] - solObjTraj_s[1,tt])/solObjTraj_s[1,tt])\n",
    "end\n",
    "\n",
    "df_scen = DataFrame(; iter = table_iter, \n",
    "                sol_time_M = table_solTime_M, \n",
    "                 sol_time_D = table_solTime_D,\n",
    "                 sol_time_D_max = table_solMax,\n",
    "                 comp_of_M = table_of_M,\n",
    "                 comp_of_D = table_of_D,\n",
    "                 per_change = table_perChange);"
   ]
  },
  {
   "cell_type": "code",
   "execution_count": 22,
   "id": "44fda462",
   "metadata": {},
   "outputs": [
    {
     "data": {
      "text/plain": [
       "\"Analysis: # of Scenarios\""
      ]
     },
     "metadata": {},
     "output_type": "display_data"
    },
    {
     "data": {
      "text/html": [
       "<div><div style = \"float: left;\"><span>8×7 DataFrame</span></div><div style = \"clear: both;\"></div></div><div class = \"data-frame\" style = \"overflow-x: scroll;\"><table class = \"data-frame\" style = \"margin-bottom: 6px;\"><thead><tr class = \"header\"><th class = \"rowNumber\" style = \"font-weight: bold; text-align: right;\">Row</th><th style = \"text-align: left;\">iter</th><th style = \"text-align: left;\">sol_time_M</th><th style = \"text-align: left;\">sol_time_D</th><th style = \"text-align: left;\">sol_time_D_max</th><th style = \"text-align: left;\">comp_of_M</th><th style = \"text-align: left;\">comp_of_D</th><th style = \"text-align: left;\">per_change</th></tr><tr class = \"subheader headerLastRow\"><th class = \"rowNumber\" style = \"font-weight: bold; text-align: right;\"></th><th title = \"Any\" style = \"text-align: left;\">Any</th><th title = \"Any\" style = \"text-align: left;\">Any</th><th title = \"Any\" style = \"text-align: left;\">Any</th><th title = \"Any\" style = \"text-align: left;\">Any</th><th title = \"Any\" style = \"text-align: left;\">Any</th><th title = \"Any\" style = \"text-align: left;\">Any</th><th title = \"Any\" style = \"text-align: left;\">Any</th></tr></thead><tbody><tr><td class = \"rowNumber\" style = \"font-weight: bold; text-align: right;\">1</td><td style = \"text-align: left;\">5</td><td style = \"text-align: left;\">1.083</td><td style = \"text-align: left;\">13.272</td><td style = \"text-align: left;\">3.849</td><td style = \"text-align: left;\">0.434429</td><td style = \"text-align: left;\">0.434429</td><td style = \"text-align: left;\">0.000145595</td></tr><tr><td class = \"rowNumber\" style = \"font-weight: bold; text-align: right;\">2</td><td style = \"text-align: left;\">10</td><td style = \"text-align: left;\">5.578</td><td style = \"text-align: left;\">17.351</td><td style = \"text-align: left;\">3.528</td><td style = \"text-align: left;\">0.434419</td><td style = \"text-align: left;\">0.434423</td><td style = \"text-align: left;\">0.000926642</td></tr><tr><td class = \"rowNumber\" style = \"font-weight: bold; text-align: right;\">3</td><td style = \"text-align: left;\">15</td><td style = \"text-align: left;\">7.693</td><td style = \"text-align: left;\">25.892</td><td style = \"text-align: left;\">3.54</td><td style = \"text-align: left;\">0.434314</td><td style = \"text-align: left;\">0.434315</td><td style = \"text-align: left;\">0.00039396</td></tr><tr><td class = \"rowNumber\" style = \"font-weight: bold; text-align: right;\">4</td><td style = \"text-align: left;\">20</td><td style = \"text-align: left;\">17.522</td><td style = \"text-align: left;\">41.563</td><td style = \"text-align: left;\">4.32</td><td style = \"text-align: left;\">0.434302</td><td style = \"text-align: left;\">0.434304</td><td style = \"text-align: left;\">0.000434518</td></tr><tr><td class = \"rowNumber\" style = \"font-weight: bold; text-align: right;\">5</td><td style = \"text-align: left;\">25</td><td style = \"text-align: left;\">19.039</td><td style = \"text-align: left;\">52.267</td><td style = \"text-align: left;\">4.491</td><td style = \"text-align: left;\">0.434308</td><td style = \"text-align: left;\">0.434307</td><td style = \"text-align: left;\">-0.000210775</td></tr><tr><td class = \"rowNumber\" style = \"font-weight: bold; text-align: right;\">6</td><td style = \"text-align: left;\">30</td><td style = \"text-align: left;\">27.869</td><td style = \"text-align: left;\">82.555</td><td style = \"text-align: left;\">6.009</td><td style = \"text-align: left;\">0.434293</td><td style = \"text-align: left;\">0.434371</td><td style = \"text-align: left;\">0.0180315</td></tr><tr><td class = \"rowNumber\" style = \"font-weight: bold; text-align: right;\">7</td><td style = \"text-align: left;\">40</td><td style = \"text-align: left;\">53.105</td><td style = \"text-align: left;\">85.495</td><td style = \"text-align: left;\">4.819</td><td style = \"text-align: left;\">0.434292</td><td style = \"text-align: left;\">0.434297</td><td style = \"text-align: left;\">0.00104806</td></tr><tr><td class = \"rowNumber\" style = \"font-weight: bold; text-align: right;\">8</td><td style = \"text-align: left;\">50</td><td style = \"text-align: left;\">66.236</td><td style = \"text-align: left;\">98.678</td><td style = \"text-align: left;\">4.806</td><td style = \"text-align: left;\">0.434281</td><td style = \"text-align: left;\">0.434287</td><td style = \"text-align: left;\">0.00128899</td></tr></tbody></table></div>"
      ],
      "text/latex": [
       "\\begin{tabular}{r|ccccccc}\n",
       "\t& iter & sol\\_time\\_M & sol\\_time\\_D & sol\\_time\\_D\\_max & comp\\_of\\_M & comp\\_of\\_D & per\\_change\\\\\n",
       "\t\\hline\n",
       "\t& Any & Any & Any & Any & Any & Any & Any\\\\\n",
       "\t\\hline\n",
       "\t1 & 5 & 1.083 & 13.272 & 3.849 & 0.434429 & 0.434429 & 0.000145595 \\\\\n",
       "\t2 & 10 & 5.578 & 17.351 & 3.528 & 0.434419 & 0.434423 & 0.000926642 \\\\\n",
       "\t3 & 15 & 7.693 & 25.892 & 3.54 & 0.434314 & 0.434315 & 0.00039396 \\\\\n",
       "\t4 & 20 & 17.522 & 41.563 & 4.32 & 0.434302 & 0.434304 & 0.000434518 \\\\\n",
       "\t5 & 25 & 19.039 & 52.267 & 4.491 & 0.434308 & 0.434307 & -0.000210775 \\\\\n",
       "\t6 & 30 & 27.869 & 82.555 & 6.009 & 0.434293 & 0.434371 & 0.0180315 \\\\\n",
       "\t7 & 40 & 53.105 & 85.495 & 4.819 & 0.434292 & 0.434297 & 0.00104806 \\\\\n",
       "\t8 & 50 & 66.236 & 98.678 & 4.806 & 0.434281 & 0.434287 & 0.00128899 \\\\\n",
       "\\end{tabular}\n"
      ],
      "text/plain": [
       "\u001b[1m8×7 DataFrame\u001b[0m\n",
       "\u001b[1m Row \u001b[0m│\u001b[1m iter \u001b[0m\u001b[1m sol_time_M \u001b[0m\u001b[1m sol_time_D \u001b[0m\u001b[1m sol_time_D_max \u001b[0m\u001b[1m comp_of_M \u001b[0m\u001b[1m comp_of_D \u001b[0m\u001b[1m per\u001b[0m ⋯\n",
       "     │\u001b[90m Any  \u001b[0m\u001b[90m Any        \u001b[0m\u001b[90m Any        \u001b[0m\u001b[90m Any            \u001b[0m\u001b[90m Any       \u001b[0m\u001b[90m Any       \u001b[0m\u001b[90m Any\u001b[0m ⋯\n",
       "─────┼──────────────────────────────────────────────────────────────────────────\n",
       "   1 │ 5     1.083       13.272      3.849           0.434429   0.434429   0.0 ⋯\n",
       "   2 │ 10    5.578       17.351      3.528           0.434419   0.434423   0.0\n",
       "   3 │ 15    7.693       25.892      3.54            0.434314   0.434315   0.0\n",
       "   4 │ 20    17.522      41.563      4.32            0.434302   0.434304   0.0\n",
       "   5 │ 25    19.039      52.267      4.491           0.434308   0.434307   -0. ⋯\n",
       "   6 │ 30    27.869      82.555      6.009           0.434293   0.434371   0.0\n",
       "   7 │ 40    53.105      85.495      4.819           0.434292   0.434297   0.0\n",
       "   8 │ 50    66.236      98.678      4.806           0.434281   0.434287   0.0\n",
       "\u001b[36m                                                                1 column omitted\u001b[0m"
      ]
     },
     "metadata": {},
     "output_type": "display_data"
    }
   ],
   "source": [
    "display(\"Analysis: # of Scenarios\")\n",
    "display(df_scen)"
   ]
  },
  {
   "cell_type": "code",
   "execution_count": null,
   "id": "6de17dd0",
   "metadata": {},
   "outputs": [],
   "source": []
  }
 ],
 "metadata": {
  "kernelspec": {
   "display_name": "Julia 1.8.5",
   "language": "julia",
   "name": "julia-1.8"
  },
  "language_info": {
   "file_extension": ".jl",
   "mimetype": "application/julia",
   "name": "julia",
   "version": "1.8.5"
  }
 },
 "nbformat": 4,
 "nbformat_minor": 5
}
